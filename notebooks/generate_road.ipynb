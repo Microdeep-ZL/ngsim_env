{
 "cells": [
  {
   "cell_type": "markdown",
   "metadata": {},
   "source": [
    "Notebook to do curved roadway generation\n",
    "\n",
    "## Changelog\n",
    "- Friday, Jan 31\n",
    "    - Creation"
   ]
  },
  {
   "cell_type": "code",
   "execution_count": 1,
   "metadata": {
    "code_folding": [
     0
    ]
   },
   "outputs": [],
   "source": [
    "# usings\n",
    "using AutomotiveDrivingModels\n",
    "using AutoViz\n",
    "using Plots"
   ]
  },
  {
   "cell_type": "code",
   "execution_count": 2,
   "metadata": {
    "code_folding": [
     0
    ]
   },
   "outputs": [
    {
     "data": {
      "text/plain": [
       "append_to_curve! (generic function with 1 method)"
      ]
     },
     "execution_count": 2,
     "metadata": {},
     "output_type": "execute_result"
    }
   ],
   "source": [
    "# function: append to curve\n",
    "function append_to_curve!(target::Curve, newstuff::Curve)\n",
    "    s_end = target[end].s\n",
    "    for c in newstuff\n",
    "        push!(target, CurvePt(c.pos, c.s+s_end, c.k, c.kd))\n",
    "    end\n",
    "    return target\n",
    "end"
   ]
  },
  {
   "cell_type": "code",
   "execution_count": null,
   "metadata": {},
   "outputs": [],
   "source": [
    "  <way id=\"10025\">\n",
    "    <nd ref=\"1109\" />\n",
    "    <nd ref=\"1022\" />\n",
    "    <nd ref=\"1021\" />\n",
    "    <nd ref=\"1020\" />\n",
    "    <nd ref=\"1019\" />\n",
    "    <nd ref=\"1018\" />\n",
    "    <nd ref=\"1017\" />"
   ]
  },
  {
   "cell_type": "code",
   "execution_count": null,
   "metadata": {
    "code_folding": [
     0
    ]
   },
   "outputs": [],
   "source": [
    "# WBs example code\n",
    "\"\"\"\n",
    "- WBs example code\n",
    "\"\"\"\n",
    "function get_track()\n",
    "\n",
    "    x_coods = [0., 5.]\n",
    "    y_coods = [3., 3.]\n",
    "    theta = [0., 0.]\n",
    "    \n",
    "    turn_length = 10\n",
    "    new_theta = 0.\n",
    "    incremental_angle = (pi/4) / turn_length\n",
    "    radius = 1\n",
    "    for i = 1:turn_length\n",
    "        push!(theta, new_theta)\n",
    "        push!(x_coods, x_coods[end] + radius * cos(new_theta))\n",
    "        push!(y_coods, y_coods[end] + radius * sin(new_theta))\n",
    "        new_theta -= (incremental_angle)\n",
    "    end\n",
    "#     plot(x_coods, y_coods)\n",
    "    mid_coods = vcat(x_coods', y_coods', theta') # x coods in first row, y coods in second row, theta in third row\n",
    "    \n",
    "    \n",
    "    first_cood = VecSE2(mid_coods[1,1], mid_coods[2,1], mid_coods[3,1])\n",
    "    second_cood = VecSE2(mid_coods[1,2], mid_coods[2,2], mid_coods[3,2])\n",
    "    radius = 0.01\n",
    "    nsamples = 20\n",
    "\n",
    "    track = gen_bezier_curve(first_cood, second_cood, radius, radius, nsamples)\n",
    "    \n",
    "    curve_radius = incremental_angle\n",
    "    nsamples = 1000\n",
    "    for i = 3:turn_length+2\n",
    "        turn1 = VecSE2(mid_coods[1, i-1], mid_coods[2, i-1], mid_coods[3, i-1])\n",
    "        turn2 = VecSE2(mid_coods[1, i], mid_coods[2, i], mid_coods[3, i])\n",
    "        curve = gen_bezier_curve(turn1, turn2, curve_radius, curve_radius, nsamples)\n",
    "        append_to_curve!(track, curve)\n",
    "    end\n",
    "\n",
    "    return track\n",
    "end"
   ]
  },
  {
   "cell_type": "code",
   "execution_count": 22,
   "metadata": {},
   "outputs": [
    {
     "data": {
      "text/plain": [
       "get_track (generic function with 1 method)"
      ]
     },
     "execution_count": 22,
     "metadata": {},
     "output_type": "execute_result"
    }
   ],
   "source": [
    "function get_track()\n",
    "    # way 10025 for illustrate purposes\n",
    "    x_coods = [1089.07510, 1093.82626, 1101.19325, 1112.59899, 1123.96733, 1133.24150, 1146.47964]\n",
    "    y_coods = [936.31213, 936.92692,938.52419, 940.93865, 943.27882, 945.21039, 947.88488]\n",
    "\n",
    "    coods = hcat(x_coods,y_coods)\n",
    "    coods_app = append_headings(coods) # Append with the angle\n",
    "    \n",
    "    mid_coods = coods_app'\n",
    "    \n",
    "    first_cood = VecSE2(mid_coods[1,1], mid_coods[2,1], mid_coods[3,1])\n",
    "    second_cood = VecSE2(mid_coods[1,2], mid_coods[2,2], mid_coods[3,2])\n",
    "    radius = 0.01\n",
    "    nsamples = 20\n",
    "\n",
    "    track = gen_bezier_curve(first_cood, second_cood, radius, radius, nsamples)\n",
    "    \n",
    "    nsamples = 20\n",
    "    for i = 3:7\n",
    "        turn1 = VecSE2(mid_coods[1, i-1], mid_coods[2, i-1], mid_coods[3, i-1])\n",
    "        turn2 = VecSE2(mid_coods[1, i], mid_coods[2, i], mid_coods[3, i])\n",
    "        curve = gen_bezier_curve(turn1, turn2, radius, radius, nsamples)\n",
    "        append_to_curve!(track, curve)\n",
    "    end\n",
    "\n",
    "    return track\n",
    "end"
   ]
  },
  {
   "cell_type": "code",
   "execution_count": 23,
   "metadata": {},
   "outputs": [
    {
     "data": {
      "image/png": "[encoded data removed]",
      "text/plain": [
       "Cairo.CairoSurfaceBase{UInt32}(Ptr{Nothing} @0x00000000040571e0, 1000.0, 600.0)"
      ]
     },
     "execution_count": 23,
     "metadata": {},
     "output_type": "execute_result"
    }
   ],
   "source": [
    "#nlanes = 1\n",
    "#length = 50.\n",
    "\n",
    "#roadway = gen_straight_roadway(nlanes, length)\n",
    "\n",
    "width = DEFAULT_LANE_WIDTH\n",
    "roadway = Roadway()\n",
    "\n",
    "track = get_track()\n",
    "\n",
    "lane = Lane(LaneTag(1, 2), track, width=DEFAULT_LANE_WIDTH)\n",
    "push!(roadway.segments, RoadSegment(lane.tag.segment, [lane]))\n",
    "cam = FitToContentCamera(0.05)\n",
    "render(roadway, cam=cam)"
   ]
  },
  {
   "cell_type": "code",
   "execution_count": null,
   "metadata": {},
   "outputs": [],
   "source": [
    "@show roadway.segments[1].lanes"
   ]
  },
  {
   "cell_type": "code",
   "execution_count": 3,
   "metadata": {
    "code_folding": [
     0,
     32,
     62
    ]
   },
   "outputs": [
    {
     "data": {
      "text/plain": [
       "bound_heading"
      ]
     },
     "execution_count": 3,
     "metadata": {},
     "output_type": "execute_result"
    }
   ],
   "source": [
    "# angle calculation functions\n",
    "\"\"\"\n",
    "    function append_headings\n",
    "- Used create the angles and append them into the coordinates\n",
    "\n",
    "# Examples\n",
    "```julia\n",
    "x_coods = [1089.07510, 1093.82626, 1101.19325, 1112.59899, 1123.96733, 1133.24150, 1146.47964]\n",
    "y_coods = [936.31213, 936.92692,938.52419, 940.93865, 943.27882, 945.21039, 947.88488]\n",
    "coods = hcat(x_coods,y_coods)\n",
    "append_headings(coods)\n",
    "```\n",
    "\"\"\"\n",
    "function append_headings(coordinates::Matrix{Float64})\n",
    "    headings = ones(size(coordinates)[1])\n",
    "    for i = 1:size(coordinates)[1]-1\n",
    "        # need to make sure that math is right, and that bounds are kept\n",
    "        tangent_vector = [coordinates[i+1,1]-coordinates[i,1], coordinates[i+1,2]-coordinates[i,2]]\n",
    "        # @show tangent_vector\n",
    "        current_heading = get_new_angle(tangent_vector)\n",
    "        # @show current_heading\n",
    "        headings[i] = current_heading\n",
    "    end\n",
    "    headings[end] = headings[end-1] # assume this is fine\n",
    "    coordinates = hcat(coordinates, headings)\n",
    "    return coordinates\n",
    "end\n",
    "\n",
    "\"\"\"\n",
    "    function get_new_angle\n",
    "- Does the actual angle calculation based on the x y coordinates\n",
    "\"\"\"\n",
    "function get_new_angle(tangent_vector::Array{Float64})\n",
    "    # it might be a problem when we switch quadrants\n",
    "    # use signs of tangent vector to get the quadrant of the heading \n",
    "    x = tangent_vector[1]\n",
    "    y = tangent_vector[2]\n",
    "    if x == 0. && y == 0.\n",
    "        heading = 0.0\n",
    "    elseif x == 0.\n",
    "        heading = π/2 * sign(y) \n",
    "    elseif y == 0.\n",
    "        heading = convert(Float64, π) # this could be either pi or -pi, but just go with pi\n",
    "    elseif sign(x) == 1 && sign(y) == 1 # first quadrant\n",
    "        heading = atan(y, x)\n",
    "    elseif sign(x) == -1 && sign(y) == 1 # second quadrant\n",
    "        heading = atan(y, x)\n",
    "    elseif sign(x) == 1 && sign(y) == -1 # fourth quadrant\n",
    "        heading = atan(y, x)\n",
    "    elseif sign(x) == -1 && sign(y) == -1 # third quadrant\n",
    "        heading = atan(y, x)\n",
    "    end\n",
    "    # bound_heading doesn't end up getting called cause Julia takes care of it apparently\n",
    "    bound_heading(heading)\n",
    "\n",
    "    return heading\n",
    "end\n",
    "\n",
    "\"\"\"\n",
    "    function bound_heading\n",
    "- Make the angle range from 0 to pi instead of going beyond\n",
    "\"\"\"\n",
    "function bound_heading(heading::Float64)\n",
    "    if heading > π # send this to be just near -pi\n",
    "        heading = -π + (heading - π)    # if heading is 3.15, then the new angle will be (-pi + (3.15-pi)) = -3.13\n",
    "    elseif heading < -π # send this to be just near pi \n",
    "        heading = π + (heading + π)     # if heading is -3.15, then the new angle will be (pi + (-3.15+pi)) = 3.13\n",
    "    end\n",
    "    return heading\n",
    "end"
   ]
  },
  {
   "cell_type": "code",
   "execution_count": 18,
   "metadata": {},
   "outputs": [
    {
     "data": {
      "text/plain": [
       "7×3 Array{Float64,2}:\n",
       " 1089.08  936.312  0.128683\n",
       " 1093.83  936.927  0.21351 \n",
       " 1101.19  938.524  0.208608\n",
       " 1112.6   940.939  0.203014\n",
       " 1123.97  943.279  0.205339\n",
       " 1133.24  945.21   0.199346\n",
       " 1146.48  947.885  0.199346"
      ]
     },
     "execution_count": 18,
     "metadata": {},
     "output_type": "execute_result"
    }
   ],
   "source": [
    "x_coods = [1089.07510, 1093.82626, 1101.19325, 1112.59899, 1123.96733, 1133.24150, 1146.47964]\n",
    "y_coods = [936.31213, 936.92692,938.52419, 940.93865, 943.27882, 945.21039, 947.88488]\n",
    "coods = hcat(x_coods,y_coods)\n",
    "append_headings(coods)"
   ]
  },
  {
   "cell_type": "code",
   "execution_count": null,
   "metadata": {},
   "outputs": [],
   "source": []
  }
 ],
 "metadata": {
  "@webio": {
   "lastCommId": null,
   "lastKernelId": null
  },
  "kernelspec": {
   "display_name": "Julia 1.1.0",
   "language": "julia",
   "name": "julia-1.1"
  },
  "language_info": {
   "file_extension": ".jl",
   "mimetype": "application/julia",
   "name": "julia",
   "version": "1.1.0"
  }
 },
 "nbformat": 4,
 "nbformat_minor": 2
}
