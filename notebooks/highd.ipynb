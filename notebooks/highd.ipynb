{
 "cells": [
  {
   "cell_type": "markdown",
   "metadata": {},
   "source": [
    "- Started on July 31, 2019\n",
    "- Works with a subset of the highd dataset\n",
    "- Goal is to run particle filtering on this highd dataset with the\n",
    "ultimate aim of learning idm rules for driver modeling\n",
    "- Trivia: Timestep is 0.04 sec, each vehicle is visible for median duration of\n",
    "13.6 seconds. This translates to about 340 timesteps of visibility. We have verified\n",
    "this by starting from scene 1 and going till 340 looking at truck vehicle id 27\n",
    "\n",
    "## Needs experimentation\n",
    "- Should the particle fitness be based on likelihood of hallucinated x location\n",
    "under Gaussian centered around true x location? Or should this also include\n",
    "y? Reason for asking this question is because Frenet s is 0 all the time so\n",
    "we will need to work with posG i.e. global position\n",
    "\n",
    "## Needs investigation\n",
    "- Why is Frenet s always 0?"
   ]
  },
  {
   "cell_type": "markdown",
   "metadata": {},
   "source": [
    "# Import packages, load data, include helpers"
   ]
  },
  {
   "cell_type": "code",
   "execution_count": 104,
   "metadata": {},
   "outputs": [],
   "source": [
    "using NGSIM\n",
    "using AutomotiveDrivingModels\n",
    "using AutoViz\n",
    "using Interact # Make video in notebook\n",
    "using Reel # Save video as gif\n",
    "using CSV # For writing to csv\n",
    "using DataFrames # For writing to csv\n",
    "using Plots # For in notebook plotting\n",
    "using Distributions\n",
    "using Test\n",
    "using StatsBase # For the weights function in likelihood sampling\n",
    "using Dates # To get today's date to append to plot filename"
   ]
  },
  {
   "cell_type": "code",
   "execution_count": 3,
   "metadata": {},
   "outputs": [],
   "source": [
    "# The trajectories i.e. positions of the cars with timestep\n",
    "traj_highd = open(io->read(io, MIME\"text/plain\"(), Trajdata), \n",
    "    \"trajdata_Data11_Road1_nLIOD3_lower.txt\", \"r\");\n",
    "# The highd roadway geometry\n",
    "roadway_highd = open(io->read(io, MIME\"text/plain\"(), Roadway), \n",
    "    \"highd_roadway.txt\", \"r\");"
   ]
  },
  {
   "cell_type": "code",
   "execution_count": 1,
   "metadata": {},
   "outputs": [],
   "source": [
    "include(\"admin_functions.jl\"); # Brings in the functions defined in admin_functions.jl"
   ]
  },
  {
   "cell_type": "markdown",
   "metadata": {},
   "source": [
    "# Utils"
   ]
  },
  {
   "cell_type": "code",
   "execution_count": 16,
   "metadata": {},
   "outputs": [
    {
     "data": {
      "text/plain": [
       "sample_init_particles"
      ]
     },
     "execution_count": 16,
     "metadata": {},
     "output_type": "execute_result"
    }
   ],
   "source": [
    "\"\"\"\n",
    "    function sample_init_particles(num_p::Int64;v=30.0)\n",
    "\n",
    "Inspired from gen_test_particles in admin.jl\n",
    "Samples 10.0 neighbourhood around the input v\n",
    "\n",
    "# Example\n",
    "sample_init_particles(10,v=20.0)\n",
    "\"\"\"\n",
    "function sample_init_particles(num_p::Int64;v::Float64=30.0)\n",
    "    v_particles = sample(v-5.0:0.5:v+5.0,num_p)\n",
    "    sig_particles = sample(0.1:0.1:1.0,num_p)\n",
    "    p_set_dict = Dict(:v_des=>v_particles,:σ=>sig_particles)\n",
    "    return p_set_dict\n",
    "end"
   ]
  },
  {
   "cell_type": "code",
   "execution_count": 4,
   "metadata": {},
   "outputs": [
    {
     "data": {
      "text/plain": [
       "get_veh_info"
      ]
     },
     "execution_count": 4,
     "metadata": {},
     "output_type": "execute_result"
    }
   ],
   "source": [
    "\"\"\"\n",
    "    function get_veh_info(scene;car_id = -1)\n",
    "\n",
    "Get position and velocity of specific vehicle from scene\n",
    "\n",
    "# Caution:\n",
    "Only work for highd case. This is because we access posG.x\n",
    "\n",
    "# Example\n",
    "scene = get_highd_scene(7)\n",
    "pos,vel = get_veh_info(scene,car_id = 6)\n",
    "@show pos,vel\n",
    "\"\"\"\n",
    "function get_veh_info(scene;car_id = -1)\n",
    "    @assert car_id>0\n",
    "    pos = scene.entities[findfirst(car_id,scene)].state.posG.x\n",
    "    vel = scene.entities[findfirst(car_id,scene)].state.v\n",
    "    return pos,vel\n",
    "end"
   ]
  },
  {
   "cell_type": "code",
   "execution_count": 5,
   "metadata": {},
   "outputs": [
    {
     "data": {
      "text/plain": [
       "get_highd_scene"
      ]
     },
     "execution_count": 5,
     "metadata": {},
     "output_type": "execute_result"
    }
   ],
   "source": [
    "\"\"\"\n",
    "    function get_highd_scene(framenum::Int64)\n",
    "\n",
    "Get a specific scene from traj_highd\n",
    "\n",
    "# Example:\n",
    "scene = get_highd_scene(1)\n",
    "\"\"\"\n",
    "function get_highd_scene(framenum::Int64)\n",
    "    scene = Scene(500)\n",
    "    get!(scene,traj_highd,framenum)\n",
    "    return scene\n",
    "end"
   ]
  },
  {
   "cell_type": "code",
   "execution_count": 32,
   "metadata": {},
   "outputs": [
    {
     "data": {
      "text/plain": [
       "plot_particles"
      ]
     },
     "execution_count": 32,
     "metadata": {},
     "output_type": "execute_result"
    }
   ],
   "source": [
    "\"\"\"\n",
    "    function plot_particles(p_set_mat::Array{Float64,2},time::Float64)\n",
    "\n",
    "# Plot the distribution of particles\n",
    "# Caution: Only work for 2 parameters. Not developed for 3 parameter case yet\n",
    "\n",
    "# Example:\n",
    "set_for_plotting = to_particleMatrix(p_set_new)\n",
    "plots = []\n",
    "push!(plots,plot_particles(set_for_plotting,framenum*0.04))\n",
    "\"\"\"\n",
    "function plot_particles(p_set_mat::Array{Float64,2},time::Float64)\n",
    "    # Check that number of params does not exceed 3\n",
    "    \n",
    "    @assert size(p_set_mat,1) <= 3\n",
    "    plt = Plots.plot()\n",
    "    # 2 parameter case\t\n",
    "    if size(p_set_mat,1) == 2\n",
    "        plt = scatter(p_set_mat[1,:],p_set_mat[2,:],\n",
    "            leg=false,title=\"time=$(time)\",xlim=(25,35),ylim=(0,1.2),\n",
    "                xlabel=\"v_des(m/s)\",ylabel=\"sigma\")\n",
    "\n",
    "    # 3 parameter case\n",
    "    else\n",
    "        plt = scatter(p_set_mat[1,:],p_set_mat[2,:],p_set_mat[3,:],leg=false)\n",
    "        scatter!([true_params[1]],[true_params[2]],[true_params[3]])\n",
    "    end\n",
    "    return plt\n",
    "end"
   ]
  },
  {
   "cell_type": "code",
   "execution_count": 7,
   "metadata": {},
   "outputs": [
    {
     "data": {
      "text/plain": [
       "make_gif"
      ]
     },
     "execution_count": 7,
     "metadata": {},
     "output_type": "execute_result"
    }
   ],
   "source": [
    "\"\"\"\n",
    "    function make_gif(plots;filename=\"output.mp4\")\n",
    "\n",
    "Make a video using an array of plots. Uses the Reel library\n",
    "\"\"\"\n",
    "function make_gif(plots;filename=\"output.mp4\")\n",
    "@assert typeof(filename) == String\n",
    "#@show \"Making gif\"\n",
    "    frames = Frames(MIME(\"image/png\"), fps=10)\n",
    "    for plt in plots\n",
    "        push!(frames, plt)\n",
    "    end\n",
    "    write(string(\"media/\",filename), frames)\n",
    "    return nothing\n",
    "end # End of the reel gif writing function"
   ]
  },
  {
   "cell_type": "code",
   "execution_count": 40,
   "metadata": {},
   "outputs": [
    {
     "data": {
      "text/plain": [
       "hallucinate_pos"
      ]
     },
     "execution_count": 40,
     "metadata": {},
     "output_type": "execute_result"
    }
   ],
   "source": [
    "\"\"\"\n",
    "    function hallucinate_pos(roadway,scene_input,particle;car_id=-1)\n",
    "\n",
    "Hallucinate position one step forward for the car with id car_id \n",
    "and using particle starting from scene_input\n",
    "\n",
    "# Example:\n",
    "```\n",
    "vehid = 13\n",
    "scene = get_highd_scene(71)\n",
    "pos1,vel1 = get_veh_info(scene,car_id = vehid)\n",
    "@show pos1,vel1\n",
    "sig_particle = 0.1; v_particle = 33.0\n",
    "particle = Dict(:v_des=>v_particle,:σ=>sig_particle)\n",
    "hpos = hallucinate_pos(roadway_highd,scene,particle,car_id=vehid)\n",
    "@show hpos\n",
    "scene = get_highd_scene(72)\n",
    "pos2,vel2 = get_veh_info(scene,car_id = vehid)\n",
    "@show pos2,vel2\n",
    "```\n",
    "\"\"\"\n",
    "function hallucinate_pos(roadway,scene_input,particle;car_id=-1)\n",
    "    if car_id==-1 @show \"Please give valid car_id\" end\n",
    "    \n",
    "    scene = deepcopy(scene_input)\n",
    "    #scene = scene_input # This was the failure case\n",
    "\n",
    "    models = Dict{Int, DriverModel}()\n",
    "    \n",
    "    # Create driver models for all the cars in the scene\n",
    "    for veh in scene\n",
    "        if veh.id == car_id\n",
    "            models[veh.id] = IntelligentDriverModel(;particle...)\n",
    "        else\n",
    "            # TODO: RESEARCH QUESTION: What drives the other vehicles\n",
    "            models[veh.id] = IntelligentDriverModel(v_des=10.0)\n",
    "        end\n",
    "    end\n",
    "    \n",
    "    n_steps = 1\n",
    "    dt = 0.04\n",
    "    rec = SceneRecord(n_steps, dt)\n",
    "    \n",
    "    simulate!(rec, scene, roadway, models, n_steps)\n",
    "    \n",
    "    X = Array{Float64}(undef,n_steps, 1)\n",
    "\n",
    "    for t in 1:n_steps\n",
    "        f = rec.frames[n_steps - t + 1]\n",
    "        \n",
    "            # Access the vehicle with id as car_id and return its frenet s\n",
    "        X[t,1] = f.entities[findfirst(car_id,f)].state.posG.x\n",
    "    end\n",
    "    \n",
    "    return X[1]\n",
    "end"
   ]
  },
  {
   "cell_type": "code",
   "execution_count": 9,
   "metadata": {},
   "outputs": [
    {
     "data": {
      "text/plain": [
       "compute_particle_likelihoods"
      ]
     },
     "execution_count": 9,
     "metadata": {},
     "output_type": "execute_result"
    }
   ],
   "source": [
    "\"\"\"\n",
    "    function compute_particle_likelihoods(roadway,f,trupos,p_set_dict;car_id=-1)\n",
    "\n",
    "Likelihoods for all particles in p_set_dict using true and hallucinated positions\n",
    "\"\"\"\n",
    "function compute_particle_likelihoods(roadway,f,trupos,p_set_dict;car_id=-1)\n",
    "    if car_id==-1 @show \"Please give valid car_id\" end\n",
    "    timestep = 0.04 #TODO: Remove hardcoding, 0.04 is for highd\n",
    "    p_mat, params, vec_val_vec = to_matrix_form(p_set_dict)\n",
    "    \n",
    "    num_params=size(p_mat)[1]\n",
    "    num_p = size(p_mat)[2]\n",
    "    lkhd_vec = Array{Float64}(undef,num_p)\n",
    "    for i in 1:num_p    \n",
    "        # Create dict version for a single particle\n",
    "        p_dict = Dict()\n",
    "        for j in 1:num_params\n",
    "            p_dict[params[j]]=vec_val_vec[j][i]\n",
    "        end\n",
    "        \n",
    "        std_dev_acc = p_dict[:σ]\n",
    "        \n",
    "        # hack to avoid the std_dev_pos become negative and error Normal distb\n",
    "        if std_dev_acc <= 0 std_dev_acc = 0.1 end\n",
    "        \n",
    "            # The position based calculation was here\n",
    "        std_dev_pos = timestep*timestep*std_dev_acc\n",
    "        hpos = hallucinate_pos(roadway,f,p_dict,car_id=car_id)\n",
    "        lkhd_vec[i] = pdf(Normal(hpos,std_dev_pos),trupos[1])\n",
    "    end\n",
    "\n",
    "    return lkhd_vec,p_mat,params\n",
    "end"
   ]
  },
  {
   "cell_type": "code",
   "execution_count": 10,
   "metadata": {},
   "outputs": [
    {
     "data": {
      "text/plain": [
       "update_p_one_step"
      ]
     },
     "execution_count": 10,
     "metadata": {},
     "output_type": "execute_result"
    }
   ],
   "source": [
    "\"\"\"\n",
    "    function update_p_one_step(roadway,f,trupos,p_set_dict;car_id=-1)\n",
    "\n",
    "New particle set based on one step of resampling\n",
    "\"\"\"\n",
    "function update_p_one_step(roadway,f,trupos,p_set_dict;car_id=-1)\n",
    "    if car_id==-1 @show \"Provide valid car_id\" end\n",
    "    \n",
    "    lkhd_vec,p_mat,params = compute_particle_likelihoods(roadway,f,trupos,p_set_dict,car_id=car_id)\n",
    "    \n",
    "    num_params = size(p_mat)[1]\n",
    "    num_p = size(p_mat)[2]\n",
    "\n",
    "    ll_vec = log.(lkhd_vec)\n",
    "    \n",
    "    # TODO: This is hacky. What if log is not negative\n",
    "    for i in 1:num_p\n",
    "        if isinf(ll_vec[i])\n",
    "            ll_vec[i] = 0\n",
    "        else\n",
    "            ll_vec[i] = -1*1/ll_vec[i]\n",
    "        end\n",
    "    end\n",
    "    \n",
    "    p_weight_vec = weights(ll_vec./sum(ll_vec)) # Convert to weights form to use julia sampling\n",
    "    idx = sample(1:num_p,p_weight_vec,num_p)\n",
    "    new_p_mat = p_mat[:,idx] #Careful that idx is (size,1) and not (size,2)\n",
    "    \n",
    "    new_p_set_dict = to_dict_form(params,new_p_mat)\n",
    "    return new_p_set_dict\n",
    "end"
   ]
  },
  {
   "cell_type": "code",
   "execution_count": 66,
   "metadata": {},
   "outputs": [
    {
     "data": {
      "text/plain": [
       "AutoViz.render!"
      ]
     },
     "execution_count": 66,
     "metadata": {},
     "output_type": "execute_result"
    }
   ],
   "source": [
    "# For overlaying hallucination on the ground truth\n",
    "# Borrowed from visualization_functions.jl\n",
    "struct my_overlay <: SceneOverlay\n",
    "    scene::Scene\n",
    "    color # Needs to be of form colorant\"Colorname\"\n",
    "end\n",
    "\n",
    "\"\"\"\n",
    "Render method for `my_overlay`. Helpful for making the color choice\n",
    "\"\"\"\n",
    "function AutoViz.render!(rendermodel::RenderModel,overlay::my_overlay, \n",
    "        scene::Scene, roadway::Roadway)\n",
    "    AutoViz.render!(rendermodel,overlay.scene,car_color = overlay.color)\n",
    "    return rendermodel\n",
    "end"
   ]
  },
  {
   "cell_type": "code",
   "execution_count": 122,
   "metadata": {},
   "outputs": [
    {
     "data": {
      "text/plain": [
       "make_video"
      ]
     },
     "execution_count": 122,
     "metadata": {},
     "output_type": "execute_result"
    }
   ],
   "source": [
    "\"\"\"\n",
    "    function make_video(;range=nothing,filename=\"output.mp4\")\n",
    "\n",
    "Makes a video of the highd dataset on the highd roadway taking frame range as input\n",
    "\n",
    "# Example \n",
    "```\n",
    "make_video(range=11:60,filename=\"highd_11to60.mp4\")\n",
    "```\n",
    "\"\"\"\n",
    "function make_video(;range=nothing,filename=\"output.mp4\")\n",
    "\n",
    "    frames = Frames(MIME(\"image/png\"), fps=10)\n",
    "    scene = Scene(500)\n",
    "    for i in range\n",
    "        temp_scene = get!(scene,traj_highd,i)\n",
    "\n",
    "        overlays = [TextOverlay(text=[\"$(veh.id)\"], incameraframe=true, \n",
    "        pos=VecSE2(veh.state.posG.x+0.5,veh.state.posG.y+0.5)) for veh in scene]\n",
    "        \n",
    "        scene_visual = render(temp_scene, roadway_highd, \n",
    "            #cam=CarFollowCamera{Int}(2,5.0),\n",
    "            #cam=StaticCamera(VecE2(1966400, 570900), 5.0),\n",
    "            cam=FitToContentCamera(0.),\n",
    "            overlays)\n",
    "        push!(frames,scene_visual)\n",
    "    end\n",
    "    write(string(\"media/\"*filename),frames)    \n",
    "    \n",
    "    return nothing\n",
    "end"
   ]
  },
  {
   "cell_type": "code",
   "execution_count": 121,
   "metadata": {},
   "outputs": [
    {
     "data": {
      "text/plain": [
       "multistep_update"
      ]
     },
     "execution_count": 121,
     "metadata": {},
     "output_type": "execute_result"
    }
   ],
   "source": [
    "\"\"\"\n",
    "    function multistep_update(num_p::Int64,car_id::Int64,\n",
    "        start_frame::Int64,end_frame::Int64;p_dist_vid=false)\n",
    "\n",
    "Returns the mean particle after running multiple steps of filtering\n",
    "\n",
    "# Arguments\n",
    "- `start_frame`: Highd frame to start filtering from\n",
    "- `end_frame`: Highd frame to end filtering at\n",
    "- `num_p`: Number of particles\n",
    "\n",
    "# Keyworded arguments\n",
    "- `p_dist_vid`: Default false. Makes a video of particle distribution if true\n",
    "\n",
    "# Returns\n",
    "- `mean_particle`: Dict containing the mean values of the final particle set after filtering\n",
    "\n",
    "# Example\n",
    "```\n",
    "multistep_update(500,13,11,60,p_dist_vid=true)\n",
    "```\n",
    "\"\"\"\n",
    "function multistep_update(num_p::Int64,car_id::Int64,\n",
    "        start_frame::Int64,end_frame::Int64;p_dist_vid=false)\n",
    "\n",
    "    startscene = get_highd_scene(start_frame)\n",
    "    startpos,startvel = get_veh_info(startscene,car_id=car_id)\n",
    "\n",
    "    p_set_dict = sample_init_particles(num_p,v=startvel)\n",
    "    plots = []\n",
    "    init_p_mat = to_particleMatrix(p_set_dict)\n",
    "    push!(plots,plot_particles(init_p_mat,0.0))\n",
    "\n",
    "\n",
    "    for framenum in start_frame:end_frame\n",
    "        scene = get_highd_scene(framenum+1)\n",
    "        trupos,truvel = get_veh_info(scene,car_id=car_id)\n",
    "\n",
    "        # Get the scene to start hallucinating from\n",
    "        scene = get_highd_scene(framenum)\n",
    "        p_set_new = update_p_one_step(roadway_highd,scene,trupos,p_set_dict,car_id=car_id)\n",
    "        p_set_dict = p_set_new\n",
    "\n",
    "        set_for_plotting = to_particleMatrix(p_set_new)\n",
    "        push!(plots,plot_particles(set_for_plotting,framenum*0.04))\n",
    "    end\n",
    "\n",
    "        # Find the mean particle after filtering is over\n",
    "    mean_particle = find_mean_particle(p_set_dict)\n",
    "\n",
    "        # Make a plot of the particle distribution evolution\n",
    "    if p_dist_vid \n",
    "        print(\"Making a particle distribution video\")\n",
    "        date = Dates.now()\n",
    "        make_gif(plots,filename = \"vehid_$(car_id)_$(date).mp4\") \n",
    "    end\n",
    "    \n",
    "    return mean_particle\n",
    "end"
   ]
  },
  {
   "cell_type": "markdown",
   "metadata": {},
   "source": [
    "# Workspace"
   ]
  },
  {
   "cell_type": "code",
   "execution_count": 133,
   "metadata": {},
   "outputs": [
    {
     "name": "stdout",
     "output_type": "stream",
     "text": [
      "veh_id = 23\n",
      "veh_id = 27\n",
      "veh_id = 20\n",
      "veh_id = 21\n",
      "veh_id = 19\n",
      "veh_id = 17\n",
      "veh_id = 35\n",
      "veh_id = 14\n",
      "veh_id = 13\n",
      "veh_id = 11\n",
      "veh_id = 10\n",
      "veh_id = 6\n",
      "veh_id = 9\n",
      "veh_id = 3\n"
     ]
    }
   ],
   "source": [
    "\"\"\"\n",
    "Run multistep update for all these vehicles and get their mean particles\n",
    "\n",
    "We need a dict called models which has veh.id as keys\n",
    "and IntelligentDriverModel(;mean_particle...) and then we send this\n",
    "in as the hallucination input\n",
    "\n",
    "Run a hallucination and get the scene record for all these vehicles\n",
    "being driven by their respective mean particles\n",
    "\"\"\"\n",
    "models = Dict{Int64,DriverModel}()\n",
    "veh_id_list = [23,27,20,21,19,17,35,14,13,11,10,6,9,3]\n",
    "for veh_id in veh_id_list\n",
    "    @show veh_id\n",
    "    mean_particle = multistep_update(500,veh_id,11,60)\n",
    "    models[veh_id] = IntelligentDriverModel(;mean_particle...)\n",
    "end\n",
    "\n"
   ]
  },
  {
   "cell_type": "code",
   "execution_count": 137,
   "metadata": {},
   "outputs": [
    {
     "data": {
      "text/plain": [
       "SceneRecord(nscenes=50)"
      ]
     },
     "execution_count": 137,
     "metadata": {},
     "output_type": "execute_result"
    }
   ],
   "source": [
    "# Hallucinate all vehicles with their learned driver models\n",
    "scene = Scene(500)\n",
    "get!(scene,traj_highd,11)\n",
    "models[1] = IntelligentDriverModel(v_des=30.0)\n",
    "n_steps = 50;dt=0.04\n",
    "rec = SceneRecord(n_steps,dt)\n",
    "simulate!(rec,scene,roadway_highd,models,n_steps)"
   ]
  },
  {
   "cell_type": "code",
   "execution_count": 138,
   "metadata": {},
   "outputs": [
    {
     "data": {
      "text/plain": [
       "\"media/highd_halluc.mp4\""
      ]
     },
     "execution_count": 138,
     "metadata": {},
     "output_type": "execute_result"
    }
   ],
   "source": [
    "# highd replays with idm hallucination overlayed\n",
    "frames = Frames(MIME(\"image/png\"), fps=10)\n",
    "scene = Scene(500)\n",
    "for i in 11:60\n",
    "    temp_scene = get!(scene,traj_highd,i)\n",
    "\n",
    "    overlay_hallucination = my_overlay(rec[i-60],colorant\"white\")\n",
    "    \n",
    "    scene_visual = render(temp_scene, roadway_highd, \n",
    "        #cam=CarFollowCamera{Int}(2,5.0),\n",
    "        #cam=StaticCamera(VecE2(1966400, 570900), 5.0),\n",
    "        cam=FitToContentCamera(0.),\n",
    "        [overlay_hallucination])\n",
    "    push!(frames,scene_visual)\n",
    "end\n",
    "write(\"media/highd_halluc.mp4\",frames)"
   ]
  },
  {
   "cell_type": "markdown",
   "metadata": {},
   "source": [
    "# Filtering functions"
   ]
  },
  {
   "cell_type": "code",
   "execution_count": null,
   "metadata": {},
   "outputs": [],
   "source": [
    "function compute_particle_vel_likelihoods(roadway,f,truvel,p_set_dict;car_id=-1)\n",
    "    if car_id==-1 @show \"Please give valid car_id\" end\n",
    "    timestep = 0.04 #TODO: Remove hardcoding, 0.04 is for highd\n",
    "    p_mat, params, vec_val_vec = to_matrix_form(p_set_dict)\n",
    "    \n",
    "    num_params=size(p_mat)[1]\n",
    "    num_p = size(p_mat)[2]\n",
    "    lkhd_vec = Array{Float64}(undef,num_p)\n",
    "    for i in 1:num_p    \n",
    "        # Create dict version for a single particle\n",
    "        p_dict = Dict()\n",
    "        for j in 1:num_params\n",
    "            p_dict[params[j]]=vec_val_vec[j][i]\n",
    "        end\n",
    "        \n",
    "        std_dev_acc = p_dict[:σ]\n",
    "        \n",
    "        # hack to avoid the std_dev_pos become negative and error Normal distb\n",
    "        if std_dev_acc <= 0 std_dev_acc = 0.1 end\n",
    "        \n",
    "            # Here is the velocity based calculation\n",
    "        std_dev_vel = timestep*std_dev_acc\n",
    "        hvel = hallucinate_vel(roadway,f,p_dict,car_id=car_id)\n",
    "        lkhd_vec[i] = pdf(Normal(hvel,std_dev_vel),truvel[1])\n",
    "    end\n",
    "\n",
    "    return lkhd_vec,p_mat,params\n",
    "end"
   ]
  },
  {
   "cell_type": "code",
   "execution_count": null,
   "metadata": {},
   "outputs": [],
   "source": [
    "# Test for compute_particle_likelihoods\n",
    "v_array = [10.,15.,20.,25.,30.]\n",
    "num_p = length(v_array)\n",
    "sig_array = [0.1,0.3,0.2,0.4,0.5]\t\n",
    "p_set_dict = Dict(:v_des=>v_array,:σ=>sig_array)\n",
    "td1 = traj_highd;\n",
    "scene = Scene(500)\n",
    "get!(scene,td1,1)\n",
    "roadway = roadway_highd;\n",
    "    # trupos is a misnomer here as it is generated by hallucination\n",
    "    # and is not the real data\n",
    "trupos = hallucinate_a_step(roadway,scene,Dict(:v_des=>25.0,:σ=>0.0),\n",
    "    car_id=3)\n",
    "    \n",
    "lkhd_vec,p_mat,params = compute_particle_likelihoods(roadway,scene,\n",
    "    trupos,p_set_dict,car_id=3)\n",
    "@show lkhd_vec\n",
    "@test length(lkhd_vec) == num_p\n",
    "@test length(params) == 2\n",
    "@test size(p_mat)[1] == 2\n",
    "@test size(p_mat)[2] == 5\n",
    "@test any(isnan,lkhd_vec) == false #Gets triggered when wrong car_id called\n",
    "# For example only 1 car on road but you say car_id = 2"
   ]
  },
  {
   "cell_type": "code",
   "execution_count": null,
   "metadata": {},
   "outputs": [],
   "source": [
    "# Uses velocity instead of position, be careful\n",
    "function update_p_one_step_vel(roadway,f,truvel,p_set_dict;car_id=-1)\n",
    "    if car_id==-1 @show \"Provide valid car_id\" end\n",
    "    \n",
    "    lkhd_vec,p_mat,params = compute_particle_vel_likelihoods(roadway,\n",
    "        f,truvel,p_set_dict,car_id=car_id)\n",
    "    \n",
    "    num_params = size(p_mat)[1]\n",
    "    num_p = size(p_mat)[2]\n",
    "    \n",
    "    ll_vec = log.(lkhd_vec)\n",
    "    \n",
    "    # TODO: This is hacky. What if log is not negative\n",
    "    for i in 1:num_p\n",
    "        if isinf(ll_vec[i])\n",
    "            ll_vec[i] = 0\n",
    "        else\n",
    "            ll_vec[i] = -1*1/ll_vec[i]\n",
    "        end\n",
    "    end\n",
    "    \n",
    "    p_weight_vec = weights(ll_vec./sum(ll_vec)) # Convert to weights form to use julia sampling\n",
    "    idx = sample(1:num_p,p_weight_vec,num_p)\n",
    "    \n",
    "    new_p_mat = p_mat[:,idx] #Careful that idx is (size,1) and not (size,2)\n",
    "    \n",
    "    new_p_set_dict = to_dict_form(params,new_p_mat)\n",
    "    return new_p_set_dict\n",
    "end"
   ]
  },
  {
   "cell_type": "code",
   "execution_count": null,
   "metadata": {},
   "outputs": [],
   "source": [
    "# Run filtering and make a plot\n",
    "# Velocity variant\n",
    "num_p = 500\n",
    "p_set_dict = gen_test_particles(num_p)\n",
    "plots = []\n",
    "init_p_mat = to_particleMatrix(p_set_dict)\n",
    "\n",
    "push!(plots,plot_particles(init_p_mat,0.0))\n",
    "car_id = 6\n",
    "\n",
    "for framenum in 1:50\n",
    "    scene = Scene(500)\n",
    "    get!(scene,traj_highd,framenum+1)\n",
    "    truvel = scene.entities[findfirst(car_id,scene)].state.v\n",
    "    \n",
    "    # Get the scene to start hallucinating from\n",
    "    scene = Scene(500)\n",
    "    get!(scene,traj_highd,framenum)\n",
    "    p_set_new = update_p_one_step(roadway_highd,scene,truvel,p_set_dict,car_id=car_id)\n",
    "    p_set_dict = p_set_new\n",
    "    \n",
    "    set_for_plotting = to_particleMatrix(p_set_new)\n",
    "    push!(plots,plot_particles(set_for_plotting,framenum*0.04))\n",
    "end\n",
    "make_gif(plots,filename = \"vel_test_highd_$(car_id).mp4\")"
   ]
  },
  {
   "cell_type": "markdown",
   "metadata": {},
   "source": [
    "# Driving functions"
   ]
  },
  {
   "cell_type": "code",
   "execution_count": null,
   "metadata": {},
   "outputs": [],
   "source": [
    "# Function to return the velocity after hallucination\n",
    "# Idea is to combine this with position likelihood\n",
    "function hallucinate_vel(roadway,scene_input,particle;car_id=-1)\n",
    "    if car_id==-1 @show \"Please give valid car_id\" end\n",
    "    \n",
    "    scene = deepcopy(scene_input)\n",
    "    #scene = scene_input # This was the failure case\n",
    "    n_cars = scene.n \n",
    "\n",
    "    models = Dict{Int, DriverModel}()\n",
    "    \n",
    "    # Create driver models for all the cars in the scene\n",
    "    for veh in scene\n",
    "        if veh.id == car_id\n",
    "            models[veh.id] = IntelligentDriverModel(;particle...)\n",
    "        else\n",
    "            # TODO: RESEARCH QUESTION: What drives the other vehicles in the hallucination\n",
    "            models[veh.id] = IntelligentDriverModel(v_des=10.0)\n",
    "        end\n",
    "    end\n",
    "    \n",
    "    n_steps = 1\n",
    "    dt = 0.04\n",
    "    rec = SceneRecord(n_steps, dt)\n",
    "    \n",
    "    simulate!(rec, scene, roadway, models, n_steps)\n",
    "    \n",
    "    X = Array{Float64}(undef,n_steps, 1)\n",
    "\n",
    "    for t in 1:n_steps\n",
    "        f = rec.frames[n_steps - t + 1]\n",
    "        \n",
    "            # Access the vehicle with id as car_id and return its frenet s\n",
    "        X[t,1] = scene.entities[findfirst(car_id,f)].state.v\n",
    "    end\n",
    "    return X[1]\n",
    "end"
   ]
  },
  {
   "cell_type": "code",
   "execution_count": null,
   "metadata": {},
   "outputs": [],
   "source": [
    "# Test for hallucinate_a_step\n",
    "timestep = 0.04 # This is the highd timestep\n",
    "test_num = 5 # The array element number in the scene. Gives vehicle id later\n",
    "scene = Scene(500)\n",
    "get!(scene,traj_highd,1)\n",
    "vehid = scene.entities[test_num].id\n",
    "@show vehid\n",
    "vehicle = scene.entities[findfirst(scene.entities[test_num].id,scene)]\n",
    "print(\"Location before hallucination = $(vehicle.state.posG.x)\\n\")\n",
    "print(\"Velocity before hallucination = $(vehicle.state.v)\\n\")\n",
    "sig_particle = 0.1\n",
    "particle = Dict(:v_des=>34.0,:σ=>sig_particle)\n",
    "hall_pos = hallucinate_a_step(roadway_highd,scene,particle,car_id=vehid)\n",
    "hall_vel = hallucinate_vel(roadway_highd,scene,particle,car_id=vehid)\n",
    "@show hall_pos,hall_vel\n",
    "scene = Scene(500)\n",
    "get!(scene,traj_highd,2)\n",
    "vehicle = scene.entities[findfirst(vehid,scene)]\n",
    "trupos = (vehicle.state.posG.x)\n",
    "truvel = vehicle.state.v\n",
    "ll_pos = log(pdf(Normal(hall_pos,timestep*timestep*sig_particle),trupos))\n",
    "ll_vel = log(pdf(Normal(hall_vel,timestep*sig_particle),truvel))\n",
    "\n",
    "# If log likelihood position is not infinity then we show the position\n",
    "if isinf(ll_pos)\n",
    "    if isinf(ll_vel)\n",
    "        print(\"Nothing doing\\n\")\n",
    "    else\n",
    "        @show ll_vel\n",
    "    end\n",
    "else\n",
    "    @show ll_pos+ll_vel\n",
    "end"
   ]
  },
  {
   "cell_type": "code",
   "execution_count": null,
   "metadata": {},
   "outputs": [],
   "source": [
    "# See how 100% sampled results are only one particle\n",
    "# This is particle deprivation in action\n",
    "lkhd_vec = zeros(5,1)\n",
    "@show lkhd_vec\n",
    "num_p = 5\n",
    "for i in 1:num_p\n",
    "    lkhd_vec[i] = pdf(Normal(302.57,0.16*0.16*i*0.2),302.747)\n",
    "end\n",
    "@show lkhd_vec\n",
    "p_weight_vec = weights(lkhd_vec./sum(lkhd_vec))\n",
    "@show p_weight_vec\n",
    "idx = sample(1:5,p_weight_vec,5)\n",
    "@show make this happen"
   ]
  },
  {
   "cell_type": "markdown",
   "metadata": {},
   "source": [
    "# Code dump for use later/make functions"
   ]
  },
  {
   "cell_type": "code",
   "execution_count": 65,
   "metadata": {},
   "outputs": [
    {
     "data": {
      "image/svg+xml": [
       "<?xml version=\"1.0\" encoding=\"utf-8\"?>\n",
       "<svg xmlns=\"http://www.w3.org/2000/svg\" xmlns:xlink=\"http://www.w3.org/1999/xlink\" width=\"600\" height=\"400\" viewBox=\"0 0 2400 1600\">\n",
       "<defs>\n",
       "  <clipPath id=\"clip5500\">\n",
       "    <rect x=\"0\" y=\"0\" width=\"2400\" height=\"1600\"/>\n",
       "  </clipPath>\n",
       "</defs>\n",
       "<polygon clip-path=\"url(#clip5500)\" points=\"\n",
       "0,1600 2400,1600 2400,0 0,0 \n",
       "  \" fill=\"#ffffff\" fill-rule=\"evenodd\" fill-opacity=\"1\"/>\n",
       "<defs>\n",
       "  <clipPath id=\"clip5501\">\n",
       "    <rect x=\"480\" y=\"0\" width=\"1681\" height=\"1600\"/>\n",
       "  </clipPath>\n",
       "</defs>\n",
       "<polygon clip-path=\"url(#clip5500)\" points=\"\n",
       "113.754,1487.47 2352.76,1487.47 2352.76,47.2441 113.754,47.2441 \n",
       "  \" fill=\"#ffffff\" fill-rule=\"evenodd\" fill-opacity=\"1\"/>\n",
       "<defs>\n",
       "  <clipPath id=\"clip5502\">\n",
       "    <rect x=\"113\" y=\"47\" width=\"2240\" height=\"1441\"/>\n",
       "  </clipPath>\n",
       "</defs>\n",
       "<polyline clip-path=\"url(#clip5502)\" style=\"stroke:#000000; stroke-width:2; stroke-opacity:0.1; fill:none\" points=\"\n",
       "  388.349,1487.47 388.349,47.2441 \n",
       "  \"/>\n",
       "<polyline clip-path=\"url(#clip5502)\" style=\"stroke:#000000; stroke-width:2; stroke-opacity:0.1; fill:none\" points=\"\n",
       "  810.802,1487.47 810.802,47.2441 \n",
       "  \"/>\n",
       "<polyline clip-path=\"url(#clip5502)\" style=\"stroke:#000000; stroke-width:2; stroke-opacity:0.1; fill:none\" points=\"\n",
       "  1233.26,1487.47 1233.26,47.2441 \n",
       "  \"/>\n",
       "<polyline clip-path=\"url(#clip5502)\" style=\"stroke:#000000; stroke-width:2; stroke-opacity:0.1; fill:none\" points=\"\n",
       "  1655.71,1487.47 1655.71,47.2441 \n",
       "  \"/>\n",
       "<polyline clip-path=\"url(#clip5502)\" style=\"stroke:#000000; stroke-width:2; stroke-opacity:0.1; fill:none\" points=\"\n",
       "  2078.16,1487.47 2078.16,47.2441 \n",
       "  \"/>\n",
       "<polyline clip-path=\"url(#clip5502)\" style=\"stroke:#000000; stroke-width:2; stroke-opacity:0.1; fill:none\" points=\"\n",
       "  113.754,1446.72 2352.76,1446.72 \n",
       "  \"/>\n",
       "<polyline clip-path=\"url(#clip5502)\" style=\"stroke:#000000; stroke-width:2; stroke-opacity:0.1; fill:none\" points=\"\n",
       "  113.754,1106.14 2352.76,1106.14 \n",
       "  \"/>\n",
       "<polyline clip-path=\"url(#clip5502)\" style=\"stroke:#000000; stroke-width:2; stroke-opacity:0.1; fill:none\" points=\"\n",
       "  113.754,765.561 2352.76,765.561 \n",
       "  \"/>\n",
       "<polyline clip-path=\"url(#clip5502)\" style=\"stroke:#000000; stroke-width:2; stroke-opacity:0.1; fill:none\" points=\"\n",
       "  113.754,424.982 2352.76,424.982 \n",
       "  \"/>\n",
       "<polyline clip-path=\"url(#clip5502)\" style=\"stroke:#000000; stroke-width:2; stroke-opacity:0.1; fill:none\" points=\"\n",
       "  113.754,84.403 2352.76,84.403 \n",
       "  \"/>\n",
       "<polyline clip-path=\"url(#clip5500)\" style=\"stroke:#000000; stroke-width:4; stroke-opacity:1; fill:none\" points=\"\n",
       "  113.754,1487.47 2352.76,1487.47 \n",
       "  \"/>\n",
       "<polyline clip-path=\"url(#clip5500)\" style=\"stroke:#000000; stroke-width:4; stroke-opacity:1; fill:none\" points=\"\n",
       "  113.754,1487.47 113.754,47.2441 \n",
       "  \"/>\n",
       "<polyline clip-path=\"url(#clip5500)\" style=\"stroke:#000000; stroke-width:4; stroke-opacity:1; fill:none\" points=\"\n",
       "  388.349,1487.47 388.349,1465.87 \n",
       "  \"/>\n",
       "<polyline clip-path=\"url(#clip5500)\" style=\"stroke:#000000; stroke-width:4; stroke-opacity:1; fill:none\" points=\"\n",
       "  810.802,1487.47 810.802,1465.87 \n",
       "  \"/>\n",
       "<polyline clip-path=\"url(#clip5500)\" style=\"stroke:#000000; stroke-width:4; stroke-opacity:1; fill:none\" points=\"\n",
       "  1233.26,1487.47 1233.26,1465.87 \n",
       "  \"/>\n",
       "<polyline clip-path=\"url(#clip5500)\" style=\"stroke:#000000; stroke-width:4; stroke-opacity:1; fill:none\" points=\"\n",
       "  1655.71,1487.47 1655.71,1465.87 \n",
       "  \"/>\n",
       "<polyline clip-path=\"url(#clip5500)\" style=\"stroke:#000000; stroke-width:4; stroke-opacity:1; fill:none\" points=\"\n",
       "  2078.16,1487.47 2078.16,1465.87 \n",
       "  \"/>\n",
       "<polyline clip-path=\"url(#clip5500)\" style=\"stroke:#000000; stroke-width:4; stroke-opacity:1; fill:none\" points=\"\n",
       "  113.754,1446.72 147.339,1446.72 \n",
       "  \"/>\n",
       "<polyline clip-path=\"url(#clip5500)\" style=\"stroke:#000000; stroke-width:4; stroke-opacity:1; fill:none\" points=\"\n",
       "  113.754,1106.14 147.339,1106.14 \n",
       "  \"/>\n",
       "<polyline clip-path=\"url(#clip5500)\" style=\"stroke:#000000; stroke-width:4; stroke-opacity:1; fill:none\" points=\"\n",
       "  113.754,765.561 147.339,765.561 \n",
       "  \"/>\n",
       "<polyline clip-path=\"url(#clip5500)\" style=\"stroke:#000000; stroke-width:4; stroke-opacity:1; fill:none\" points=\"\n",
       "  113.754,424.982 147.339,424.982 \n",
       "  \"/>\n",
       "<polyline clip-path=\"url(#clip5500)\" style=\"stroke:#000000; stroke-width:4; stroke-opacity:1; fill:none\" points=\"\n",
       "  113.754,84.403 147.339,84.403 \n",
       "  \"/>\n",
       "<g clip-path=\"url(#clip5500)\">\n",
       "<text style=\"fill:#000000; fill-opacity:1; font-family:Arial,Helvetica Neue,Helvetica,sans-serif; font-size:48px; text-anchor:middle;\" transform=\"rotate(0, 388.349, 1541.47)\" x=\"388.349\" y=\"1541.47\">249.6</text>\n",
       "</g>\n",
       "<g clip-path=\"url(#clip5500)\">\n",
       "<text style=\"fill:#000000; fill-opacity:1; font-family:Arial,Helvetica Neue,Helvetica,sans-serif; font-size:48px; text-anchor:middle;\" transform=\"rotate(0, 810.802, 1541.47)\" x=\"810.802\" y=\"1541.47\">249.8</text>\n",
       "</g>\n",
       "<g clip-path=\"url(#clip5500)\">\n",
       "<text style=\"fill:#000000; fill-opacity:1; font-family:Arial,Helvetica Neue,Helvetica,sans-serif; font-size:48px; text-anchor:middle;\" transform=\"rotate(0, 1233.26, 1541.47)\" x=\"1233.26\" y=\"1541.47\">250.0</text>\n",
       "</g>\n",
       "<g clip-path=\"url(#clip5500)\">\n",
       "<text style=\"fill:#000000; fill-opacity:1; font-family:Arial,Helvetica Neue,Helvetica,sans-serif; font-size:48px; text-anchor:middle;\" transform=\"rotate(0, 1655.71, 1541.47)\" x=\"1655.71\" y=\"1541.47\">250.2</text>\n",
       "</g>\n",
       "<g clip-path=\"url(#clip5500)\">\n",
       "<text style=\"fill:#000000; fill-opacity:1; font-family:Arial,Helvetica Neue,Helvetica,sans-serif; font-size:48px; text-anchor:middle;\" transform=\"rotate(0, 2078.16, 1541.47)\" x=\"2078.16\" y=\"1541.47\">250.4</text>\n",
       "</g>\n",
       "<g clip-path=\"url(#clip5500)\">\n",
       "<text style=\"fill:#000000; fill-opacity:1; font-family:Arial,Helvetica Neue,Helvetica,sans-serif; font-size:48px; text-anchor:end;\" transform=\"rotate(0, 89.7545, 1464.22)\" x=\"89.7545\" y=\"1464.22\">0</text>\n",
       "</g>\n",
       "<g clip-path=\"url(#clip5500)\">\n",
       "<text style=\"fill:#000000; fill-opacity:1; font-family:Arial,Helvetica Neue,Helvetica,sans-serif; font-size:48px; text-anchor:end;\" transform=\"rotate(0, 89.7545, 1123.64)\" x=\"89.7545\" y=\"1123.64\">1</text>\n",
       "</g>\n",
       "<g clip-path=\"url(#clip5500)\">\n",
       "<text style=\"fill:#000000; fill-opacity:1; font-family:Arial,Helvetica Neue,Helvetica,sans-serif; font-size:48px; text-anchor:end;\" transform=\"rotate(0, 89.7545, 783.061)\" x=\"89.7545\" y=\"783.061\">2</text>\n",
       "</g>\n",
       "<g clip-path=\"url(#clip5500)\">\n",
       "<text style=\"fill:#000000; fill-opacity:1; font-family:Arial,Helvetica Neue,Helvetica,sans-serif; font-size:48px; text-anchor:end;\" transform=\"rotate(0, 89.7545, 442.482)\" x=\"89.7545\" y=\"442.482\">3</text>\n",
       "</g>\n",
       "<g clip-path=\"url(#clip5500)\">\n",
       "<text style=\"fill:#000000; fill-opacity:1; font-family:Arial,Helvetica Neue,Helvetica,sans-serif; font-size:48px; text-anchor:end;\" transform=\"rotate(0, 89.7545, 101.903)\" x=\"89.7545\" y=\"101.903\">4</text>\n",
       "</g>\n",
       "<polyline clip-path=\"url(#clip5502)\" style=\"stroke:#009af9; stroke-width:4; stroke-opacity:1; fill:none\" points=\"\n",
       "  177.122,1446.71 198.245,1446.71 219.368,1446.71 240.49,1446.7 261.613,1446.68 282.736,1446.66 303.858,1446.63 324.981,1446.59 346.104,1446.52 367.226,1446.41 \n",
       "  388.349,1446.26 409.472,1446.04 430.594,1445.72 451.717,1445.27 472.84,1444.63 493.962,1443.75 515.085,1442.52 536.208,1440.85 557.33,1438.6 578.453,1435.59 \n",
       "  599.576,1431.62 620.698,1426.45 641.821,1419.76 662.943,1411.23 684.066,1400.46 705.189,1387.02 726.311,1370.45 747.434,1350.24 768.557,1325.9 789.679,1296.92 \n",
       "  810.802,1262.84 831.925,1223.24 853.047,1177.83 874.17,1126.41 895.293,1068.95 916.415,1005.61 937.538,936.778 958.661,863.073 979.783,785.362 1000.91,704.76 \n",
       "  1022.03,622.617 1043.15,540.488 1064.27,460.09 1085.4,383.248 1106.52,311.826 1127.64,247.658 1148.76,192.468 1169.89,147.792 1191.01,114.91 1212.13,94.7819 \n",
       "  1233.26,88.0053 1254.38,94.7819 1275.5,114.91 1296.62,147.792 1317.75,192.468 1338.87,247.658 1359.99,311.826 1381.11,383.248 1402.24,460.09 1423.36,540.488 \n",
       "  1444.48,622.617 1465.6,704.76 1486.73,785.362 1507.85,863.073 1528.97,936.778 1550.1,1005.61 1571.22,1068.95 1592.34,1126.41 1613.46,1177.83 1634.59,1223.24 \n",
       "  1655.71,1262.84 1676.83,1296.92 1697.95,1325.9 1719.08,1350.24 1740.2,1370.45 1761.32,1387.02 1782.44,1400.46 1803.57,1411.23 1824.69,1419.76 1845.81,1426.45 \n",
       "  1866.93,1431.62 1888.06,1435.59 1909.18,1438.6 1930.3,1440.85 1951.43,1442.52 1972.55,1443.75 1993.67,1444.63 2014.79,1445.27 2035.92,1445.72 2057.04,1446.04 \n",
       "  2078.16,1446.26 2099.28,1446.41 2120.41,1446.52 2141.53,1446.59 2162.65,1446.63 2183.77,1446.66 2204.9,1446.68 2226.02,1446.7 2247.14,1446.71 2268.27,1446.71 \n",
       "  2289.39,1446.71 \n",
       "  \"/>\n",
       "<polyline clip-path=\"url(#clip5502)\" style=\"stroke:#e26f46; stroke-width:4; stroke-opacity:1; fill:none\" points=\"\n",
       "  177.122,1296.32 198.245,1294.79 219.368,1293.28 240.49,1291.79 261.613,1290.31 282.736,1288.85 303.858,1287.41 324.981,1285.99 346.104,1284.59 367.226,1283.21 \n",
       "  388.349,1281.86 409.472,1280.52 430.594,1279.21 451.717,1277.92 472.84,1276.66 493.962,1275.42 515.085,1274.21 536.208,1273.03 557.33,1271.87 578.453,1270.75 \n",
       "  599.576,1269.65 620.698,1268.58 641.821,1267.54 662.943,1266.53 684.066,1265.55 705.189,1264.61 726.311,1263.7 747.434,1262.82 768.557,1261.97 789.679,1261.16 \n",
       "  810.802,1260.38 831.925,1259.64 853.047,1258.93 874.17,1258.26 895.293,1257.62 916.415,1257.02 937.538,1256.46 958.661,1255.94 979.783,1255.45 1000.91,1255 \n",
       "  1022.03,1254.59 1043.15,1254.21 1064.27,1253.88 1085.4,1253.58 1106.52,1253.33 1127.64,1253.11 1148.76,1252.93 1169.89,1252.79 1191.01,1252.7 1212.13,1252.64 \n",
       "  1233.26,1252.62 1254.38,1252.64 1275.5,1252.7 1296.62,1252.79 1317.75,1252.93 1338.87,1253.11 1359.99,1253.33 1381.11,1253.58 1402.24,1253.88 1423.36,1254.21 \n",
       "  1444.48,1254.59 1465.6,1255 1486.73,1255.45 1507.85,1255.94 1528.97,1256.46 1550.1,1257.02 1571.22,1257.62 1592.34,1258.26 1613.46,1258.93 1634.59,1259.64 \n",
       "  1655.71,1260.38 1676.83,1261.16 1697.95,1261.97 1719.08,1262.82 1740.2,1263.7 1761.32,1264.61 1782.44,1265.55 1803.57,1266.53 1824.69,1267.54 1845.81,1268.58 \n",
       "  1866.93,1269.65 1888.06,1270.75 1909.18,1271.87 1930.3,1273.03 1951.43,1274.21 1972.55,1275.42 1993.67,1276.66 2014.79,1277.92 2035.92,1279.21 2057.04,1280.52 \n",
       "  2078.16,1281.86 2099.28,1283.21 2120.41,1284.59 2141.53,1285.99 2162.65,1287.41 2183.77,1288.85 2204.9,1290.31 2226.02,1291.79 2247.14,1293.28 2268.27,1294.79 \n",
       "  2289.39,1296.32 \n",
       "  \"/>\n",
       "<polygon clip-path=\"url(#clip5500)\" points=\"\n",
       "1973.85,312.204 2280.76,312.204 2280.76,130.764 1973.85,130.764 \n",
       "  \" fill=\"#ffffff\" fill-rule=\"evenodd\" fill-opacity=\"1\"/>\n",
       "<polyline clip-path=\"url(#clip5500)\" style=\"stroke:#000000; stroke-width:4; stroke-opacity:1; fill:none\" points=\"\n",
       "  1973.85,312.204 2280.76,312.204 2280.76,130.764 1973.85,130.764 1973.85,312.204 \n",
       "  \"/>\n",
       "<polyline clip-path=\"url(#clip5500)\" style=\"stroke:#009af9; stroke-width:4; stroke-opacity:1; fill:none\" points=\"\n",
       "  1997.85,191.244 2141.85,191.244 \n",
       "  \"/>\n",
       "<g clip-path=\"url(#clip5500)\">\n",
       "<text style=\"fill:#000000; fill-opacity:1; font-family:Arial,Helvetica Neue,Helvetica,sans-serif; font-size:48px; text-anchor:start;\" transform=\"rotate(0, 2165.85, 208.744)\" x=\"2165.85\" y=\"208.744\">0.1</text>\n",
       "</g>\n",
       "<polyline clip-path=\"url(#clip5500)\" style=\"stroke:#e26f46; stroke-width:4; stroke-opacity:1; fill:none\" points=\"\n",
       "  1997.85,251.724 2141.85,251.724 \n",
       "  \"/>\n",
       "<g clip-path=\"url(#clip5500)\">\n",
       "<text style=\"fill:#000000; fill-opacity:1; font-family:Arial,Helvetica Neue,Helvetica,sans-serif; font-size:48px; text-anchor:start;\" transform=\"rotate(0, 2165.85, 269.224)\" x=\"2165.85\" y=\"269.224\">0.7</text>\n",
       "</g>\n",
       "</svg>\n"
      ]
     },
     "execution_count": 65,
     "metadata": {},
     "output_type": "execute_result"
    }
   ],
   "source": [
    "# Plot two gaussians around hallucinated position\n",
    "# Helps identify how close trupos needs to be to hallucinated position to select which sigma\n",
    "hpos = 250;sig1=0.1;d1 = Normal(hpos,sig1)\n",
    "hpos = 250;sig2=0.7;d2 = Normal(hpos,sig2)\n",
    "plot([i for i in 249.5:0.01:250.5],[pdf(d1,i) for i in 249.5:0.01:250.5],label=\"$(sig1)\")\n",
    "plot!([i for i in 249.5:0.01:250.5],[pdf(d2,i) for i in 249.5:0.01:250.5],label=\"$(sig2)\")"
   ]
  }
 ],
 "metadata": {
  "@webio": {
   "lastCommId": null,
   "lastKernelId": null
  },
  "kernelspec": {
   "display_name": "Julia 1.1.0",
   "language": "julia",
   "name": "julia-1.1"
  },
  "language_info": {
   "file_extension": ".jl",
   "mimetype": "application/julia",
   "name": "julia",
   "version": "1.1.0"
  }
 },
 "nbformat": 4,
 "nbformat_minor": 2
}
