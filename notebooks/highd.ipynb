{
 "cells": [
  {
   "cell_type": "markdown",
   "metadata": {},
   "source": [
    "- Started on July 31, 2019\n",
    "- Works with a subset of the highd dataset\n",
    "- Goal is to run particle filtering on this highd dataset with the\n",
    "ultimate aim of learning idm rules for driver modeling\n",
    "- Trivia: Timestep is 0.04 sec, each vehicle is visible for median duration of\n",
    "13.6 seconds. This translates to about 340 timesteps of visibility. We have verified\n",
    "this by starting from scene 1 and going till 340 looking at truck vehicle id 27\n",
    "\n",
    "## Needs experimentation\n",
    "- Should the particle fitness be based on likelihood of hallucinated x location\n",
    "under Gaussian centered around true x location? Or should this also include\n",
    "y? Reason for asking this question is because Frenet s is 0 all the time so\n",
    "we will need to work with posG i.e. global position\n",
    "\n",
    "## Needs investigation\n",
    "- Why is Frenet s always 0?"
   ]
  },
  {
   "cell_type": "markdown",
   "metadata": {},
   "source": [
    "# Import packages, load data, include helpers"
   ]
  },
  {
   "cell_type": "code",
   "execution_count": 59,
   "metadata": {},
   "outputs": [],
   "source": [
    "using NGSIM\n",
    "using AutomotiveDrivingModels\n",
    "using AutoViz\n",
    "using Interact # Make video in notebook\n",
    "using Reel # Save video as gif\n",
    "using CSV # For writing to csv\n",
    "using DataFrames # For writing to csv\n",
    "using PyPlot # For in notebook plotting\n",
    "using Distributions\n",
    "using Test\n",
    "using StatsBase # For the weights function in likelihood sampling"
   ]
  },
  {
   "cell_type": "code",
   "execution_count": 5,
   "metadata": {},
   "outputs": [],
   "source": [
    "# The trajectories i.e. positions of the cars with timestep\n",
    "traj_highd = open(io->read(io, MIME\"text/plain\"(), Trajdata), \n",
    "    \"trajdata_Data11_Road1_nLIOD3_lower.txt\", \"r\");\n",
    "# The highd roadway geometry\n",
    "roadway_highd = open(io->read(io, MIME\"text/plain\"(), Roadway), \n",
    "    \"highd_roadway.txt\", \"r\");"
   ]
  },
  {
   "cell_type": "code",
   "execution_count": 46,
   "metadata": {},
   "outputs": [],
   "source": [
    "include(\"admin_functions.jl\");"
   ]
  },
  {
   "cell_type": "markdown",
   "metadata": {},
   "source": [
    "# Workspace"
   ]
  },
  {
   "cell_type": "code",
   "execution_count": 67,
   "metadata": {},
   "outputs": [
    {
     "name": "stdout",
     "output_type": "stream",
     "text": [
      "trupos = 298.77000956064006\n",
      "p_set_dict = Dict(:v_des=>[17.0, 11.0, 22.0, 26.0, 24.0, 19.0, 18.0, 28.0, 13.0, 23.0, 11.0, 17.0, 20.0, 26.0, 23.0, 30.0, 26.0, 16.0, 29.0, 29.0, 15.0, 15.0, 20.0, 16.0, 26.0, 21.0, 27.0, 24.0, 12.0, 28.0, 16.0, 12.0, 15.0, 10.0, 27.0, 25.0, 18.0, 12.0, 16.0, 17.0, 17.0, 30.0, 19.0, 14.0, 10.0, 20.0, 18.0, 10.0, 22.0, 16.0],:σ=>[0.7, 0.7, 0.5, 0.2, 1.0, 0.9, 1.0, 0.4, 0.2, 0.2, 0.5, 1.0, 0.9, 1.0, 0.6, 0.3, 0.3, 0.5, 0.4, 0.7, 0.3, 0.6, 0.5, 0.5, 0.8, 0.8, 0.4, 0.6, 1.0, 1.0, 1.0, 0.2, 0.4, 0.5, 0.5, 0.4, 0.1, 0.6, 0.7, 0.6, 0.4, 0.7, 0.1, 0.4, 0.1, 1.0, 0.7, 0.9, 0.3, 0.1])\n"
     ]
    },
    {
     "data": {
      "text/plain": [
       "Dict{Any,Any} with 2 entries:\n",
       "  :v_des => [17.0, 17.0, 17.0, 17.0, 17.0, 17.0, 17.0, 17.0, 17.0, 17.0  …  17.…\n",
       "  :σ     => [0.7, 0.7, 0.7, 0.7, 0.7, 0.7, 0.7, 0.7, 0.7, 0.7  …  0.7, 0.7, 0.7…"
      ]
     },
     "execution_count": 67,
     "metadata": {},
     "output_type": "execute_result"
    }
   ],
   "source": [
    "scene = Scene(500)\n",
    "get!(scene,traj_highd,2)\n",
    "# We are focusing on vehicle id 3 hence the findfirst(3,scene)\n",
    "trupos = scene.entities[findfirst(3,scene)].state.posG.x\n",
    "@show trupos\n",
    "\n",
    "p_set_dict = gen_test_particles(50)\n",
    "@show p_set_dict\n",
    "p_set_new = update_p_one_step(roadway,scene,trupos,p_set_dict,car_id=3)"
   ]
  },
  {
   "cell_type": "code",
   "execution_count": 60,
   "metadata": {},
   "outputs": [
    {
     "data": {
      "text/plain": [
       "update_p_one_step (generic function with 1 method)"
      ]
     },
     "execution_count": 60,
     "metadata": {},
     "output_type": "execute_result"
    }
   ],
   "source": [
    "function update_p_one_step(roadway,f,trupos,p_set_dict;car_id=-1)\n",
    "    if car_id==-1 @show \"Provide valid car_id\" end\n",
    "    \n",
    "    lkhd_vec,p_mat,params = compute_particle_likelihoods(roadway,f,trupos,p_set_dict,car_id=car_id)\n",
    "    \n",
    "    num_params = size(p_mat)[1]\n",
    "    num_p = size(p_mat)[2]\n",
    "    \n",
    "    p_weight_vec = weights(lkhd_vec./sum(lkhd_vec)) # Convert to weights form to use julia sampling\n",
    "    idx = sample(1:num_p,p_weight_vec,num_p)\n",
    "    new_p_mat = p_mat[:,idx] #Careful that idx is (size,1) and not (size,2)\n",
    "        \n",
    "    new_p_set_dict = to_dict_form(params,new_p_mat)\n",
    "    return new_p_set_dict\n",
    "end"
   ]
  },
  {
   "cell_type": "markdown",
   "metadata": {},
   "source": [
    "# Filtering functions"
   ]
  },
  {
   "cell_type": "code",
   "execution_count": null,
   "metadata": {},
   "outputs": [],
   "source": [
    "function compute_particle_likelihoods(roadway,f,trupos,p_set_dict;car_id=-1)\n",
    "    if car_id==-1 @show \"Please give valid car_id\" end\n",
    "    timestep = 0.04 #TODO: Remove hardcoding, 0.04 is for highd\n",
    "    p_mat, params, vec_val_vec = to_matrix_form(p_set_dict)\n",
    "    \n",
    "    num_params=size(p_mat)[1]\n",
    "    num_p = size(p_mat)[2]\n",
    "    lkhd_vec = Array{Float64}(undef,num_p)\n",
    "    for i in 1:num_p    \n",
    "        # Create dict version for a single particle\n",
    "        p_dict = Dict()\n",
    "        for j in 1:num_params\n",
    "            p_dict[params[j]]=vec_val_vec[j][i]\n",
    "        end\n",
    "        \n",
    "        std_dev_acc = p_dict[:σ]\n",
    "        \n",
    "        # hack to avoid the std_dev_pos become negative and error Normal distb\n",
    "        if std_dev_acc <= 0 std_dev_acc = 0.1 end\n",
    "        \n",
    "        # TODO: This math needs to be verified from random variable calculations\n",
    "        std_dev_pos = timestep*timestep*std_dev_acc\n",
    "            \n",
    "        hpos = hallucinate_a_step(roadway,f,p_dict,car_id=car_id)\n",
    "        lkhd_vec[i] = pdf(Normal(hpos,std_dev_pos),trupos[1])\n",
    "    end\n",
    "    return lkhd_vec,p_mat,params\n",
    "end"
   ]
  },
  {
   "cell_type": "code",
   "execution_count": null,
   "metadata": {},
   "outputs": [],
   "source": [
    "# Test for compute_particle_likelihoods\n",
    "v_array = [10.,15.,20.,25.,30.]\n",
    "num_p = length(v_array)\n",
    "sig_array = [0.1,0.1,0.1,0.1,0.1]\t\n",
    "p_set_dict = Dict(:v_des=>v_array,:σ=>sig_array)\n",
    "td1 = traj_highd;\n",
    "scene = Scene(500)\n",
    "get!(scene,td1,1)\n",
    "roadway = roadway_highd;\n",
    "trupos = hallucinate_a_step(roadway,scene,Dict(:v_des=>25.0,:σ=>0.0),car_id=3)\n",
    "lkhd_vec,p_mat,params = compute_particle_likelihoods(roadway,scene,trupos,p_set_dict,car_id=3)\n",
    "\n",
    "@test length(lkhd_vec) == num_p\n",
    "@test length(params) == 2\n",
    "@test size(p_mat)[1] == 2\n",
    "@test size(p_mat)[2] == 5\n",
    "@test any(isnan,lkhd_vec) == false #Gets triggered when wrong car_id called\n",
    "# For example only 1 car on road but you say car_id = 2"
   ]
  },
  {
   "cell_type": "markdown",
   "metadata": {},
   "source": [
    "# Driving functions"
   ]
  },
  {
   "cell_type": "code",
   "execution_count": 51,
   "metadata": {},
   "outputs": [
    {
     "data": {
      "text/plain": [
       "hallucinate_a_step"
      ]
     },
     "execution_count": 51,
     "metadata": {},
     "output_type": "execute_result"
    }
   ],
   "source": [
    "\"\"\"\n",
    "# Example:\n",
    "scene = Scene(500)\n",
    "get!(scene,traj_highd,1)\n",
    "vehid = scene.entities[2].id\n",
    "@show vehid\n",
    "vehicle = scene.entities[findfirst(scene.entities[2].id,scene)]\n",
    "print(\"Location before hallucination = $(vehicle.state.posG.x)\\n\")\n",
    "particle = Dict(:v_des=>25.0,:σ=>0.5)\n",
    "hall_pos = hallucinate_a_step(roadway_highd,scene,\n",
    "    particle,car_id=scene.entities[2].id)\n",
    "print(\"Hallucinated position = $(hall_pos[1])\\n\")\n",
    "scene = Scene(500)\n",
    "get!(scene,traj_highd,2)\n",
    "vehnew = scene.entities[findfirst(vehid,scene)]\n",
    "print(\"True position in timestep 2 = $(vehnew.state.posG.x)\")\n",
    "\"\"\"\n",
    "function hallucinate_a_step(roadway,scene_input,particle;car_id=-1)\n",
    "    if car_id==-1 @show \"Please give valid car_id\" end\n",
    "    \n",
    "    scene = deepcopy(scene_input)\n",
    "    #scene = scene_input # This was the failure case\n",
    "\n",
    "    models = Dict{Int, DriverModel}()\n",
    "    \n",
    "    # Create driver models for all the cars in the scene\n",
    "    for veh in scene\n",
    "        if veh.id == car_id\n",
    "            models[veh.id] = IntelligentDriverModel(;particle...)\n",
    "        else\n",
    "            # TODO: RESEARCH QUESTION: What drives the other vehicles\n",
    "            models[veh.id] = IntelligentDriverModel(v_des=10.0)\n",
    "        end\n",
    "    end\n",
    "    \n",
    "    n_steps = 1\n",
    "    dt = 0.04\n",
    "    rec = SceneRecord(n_steps, dt)\n",
    "    \n",
    "    simulate!(rec, scene, roadway, models, n_steps)\n",
    "    \n",
    "    X = Array{Float64}(undef,n_steps, 1)\n",
    "\n",
    "    for t in 1:n_steps\n",
    "        f = rec.frames[n_steps - t + 1]\n",
    "        \n",
    "            # Access the vehicle with id as car_id and return its frenet s\n",
    "        X[t,1] = scene.entities[findfirst(car_id,f)].state.posG.x\n",
    "    end\n",
    "    return X[1]\n",
    "end"
   ]
  },
  {
   "cell_type": "code",
   "execution_count": null,
   "metadata": {},
   "outputs": [],
   "source": [
    "# Test for hallucinate_a_step\n",
    "scene = Scene(500)\n",
    "get!(scene,traj_highd,1)\n",
    "vehid = scene.entities[2].id\n",
    "@show vehid\n",
    "vehicle = scene.entities[findfirst(scene.entities[2].id,scene)]\n",
    "print(\"Location before hallucination = $(vehicle.state.posG.x)\\n\")\n",
    "particle = Dict(:v_des=>25.0,:σ=>0.5)\n",
    "hall_pos = hallucinate_a_step(roadway_highd,scene,\n",
    "    particle,car_id=scene.entities[2].id)\n",
    "print(\"Hallucinated position = $(hall_pos[1])\\n\")\n",
    "scene = Scene(500)\n",
    "get!(scene,traj_highd,2)\n",
    "vehnew = scene.entities[findfirst(vehid,scene)]\n",
    "print(\"True position in timestep 2 = $(vehnew.state.posG.x)\")"
   ]
  },
  {
   "cell_type": "markdown",
   "metadata": {},
   "source": [
    "# Visualization functions"
   ]
  },
  {
   "cell_type": "code",
   "execution_count": 31,
   "metadata": {},
   "outputs": [
    {
     "data": {
      "text/plain": [
       "make_video (generic function with 1 method)"
      ]
     },
     "execution_count": 31,
     "metadata": {},
     "output_type": "execute_result"
    }
   ],
   "source": [
    "\"\"\"\n",
    "# Example: make_video(range=1:20,filename=\"test.mp4\")\n",
    "\"\"\"\n",
    "function make_video(;range=nothing,filename=\"output.mp4\")\n",
    "\n",
    "    frames = Frames(MIME(\"image/png\"), fps=10)\n",
    "    scene = Scene(500)\n",
    "    for i in range\n",
    "        temp_scene = get!(scene,traj_highd,i)\n",
    "\n",
    "        overlays = [TextOverlay(text=[\"$(veh.id)\"], incameraframe=true, \n",
    "        pos=VecSE2(veh.state.posG.x+0.5,veh.state.posG.y+0.5)) for veh in scene]\n",
    "        \n",
    "        scene_visual = render(temp_scene, roadway_highd, \n",
    "            #cam=CarFollowCamera{Int}(2,5.0),\n",
    "            #cam=StaticCamera(VecE2(1966400, 570900), 5.0),\n",
    "            cam=FitToContentCamera(0.),\n",
    "            overlays)\n",
    "        push!(frames,scene_visual)\n",
    "    end\n",
    "    write(string(\"media/\"*filename),frames)    \n",
    "    \n",
    "    return nothing\n",
    "end"
   ]
  },
  {
   "cell_type": "code",
   "execution_count": null,
   "metadata": {},
   "outputs": [],
   "source": [
    "# For overlaying hallucination on the ground truth\n",
    "# Borrowed from visualization_functions.jl\n",
    "struct my_overlay <: SceneOverlay\n",
    "    scene::Scene\n",
    "    color # Needs to be of form colorant\"Colorname\"\n",
    "end\n",
    "\n",
    "\"\"\"\n",
    "Render method for `my_overlay`. Helpful for making the color choice\n",
    "\"\"\"\n",
    "function AutoViz.render!(rendermodel::RenderModel,overlay::my_overlay, \n",
    "        scene::Scene, roadway::Roadway)\n",
    "    AutoViz.render!(rendermodel,overlay.scene,car_color = overlay.color)\n",
    "    return rendermodel\n",
    "end"
   ]
  },
  {
   "cell_type": "markdown",
   "metadata": {},
   "source": [
    "# Code dump for use later/make functions"
   ]
  },
  {
   "cell_type": "code",
   "execution_count": null,
   "metadata": {},
   "outputs": [],
   "source": [
    "# Drive using IDM\n",
    "scene = Scene(500)\n",
    "temp = get!(scene,traj_highd,1)\n",
    "models = Dict{Int,DriverModel}()\n",
    "for veh in scene\n",
    "    models[veh.id] = IntelligentDriverModel(v_des=40.0)\n",
    "end\n",
    "n_steps = 100\n",
    "dt = 0.04 # To match the timestep of traj_highd, ngsim was timestep 0.1\n",
    "rec = SceneRecord(n_steps,dt)\n",
    "simulate!(rec,scene,roadway_highd,models,n_steps)"
   ]
  },
  {
   "cell_type": "code",
   "execution_count": null,
   "metadata": {},
   "outputs": [],
   "source": [
    "# highd replays with idm hallucination overlayed\n",
    "frames = Frames(MIME(\"image/png\"), fps=10)\n",
    "scene = Scene(500)\n",
    "for i in 1:100\n",
    "    temp_scene = get!(scene,traj_highd,i)\n",
    "\n",
    "    overlay_hallucination = my_overlay(rec[i-100],colorant\"white\")\n",
    "    \n",
    "    scene_visual = render(temp_scene, roadway_highd, \n",
    "        #cam=CarFollowCamera{Int}(2,5.0),\n",
    "        #cam=StaticCamera(VecE2(1966400, 570900), 5.0),\n",
    "        cam=FitToContentCamera(0.),\n",
    "        [overlay_hallucination])\n",
    "    push!(frames,scene_visual)\n",
    "end\n",
    "write(\"media/highd_halluc_vdes40.mp4\",frames)"
   ]
  }
 ],
 "metadata": {
  "kernelspec": {
   "display_name": "Julia 1.1.0",
   "language": "julia",
   "name": "julia-1.1"
  },
  "language_info": {
   "file_extension": ".jl",
   "mimetype": "application/julia",
   "name": "julia",
   "version": "1.1.0"
  }
 },
 "nbformat": 4,
 "nbformat_minor": 2
}
