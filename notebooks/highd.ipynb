{
 "cells": [
  {
   "cell_type": "markdown",
   "metadata": {},
   "source": [
    "- Started on July 31, 2019\n",
    "- Works with a subset of the highd dataset\n",
    "- Goal is to run particle filtering on this highd dataset with the\n",
    "ultimate aim of learning idm rules for driver modeling\n",
    "\n",
    "## Needs experimentation\n",
    "- Should the particle fitness be based on likelihood of hallucinated x location\n",
    "under Gaussian centered around true x location? Or should this also include\n",
    "y? Reason for asking this question is because Frenet s is 0 all the time so\n",
    "we will need to work with posG i.e. global position\n",
    "\n",
    "## Needs investigation\n",
    "- Why is Frenet s always 0?"
   ]
  },
  {
   "cell_type": "code",
   "execution_count": 1,
   "metadata": {},
   "outputs": [
    {
     "data": {
      "text/html": [
       "<script>\n",
       "// Immediately-invoked-function-expression to avoid global variables.\n",
       "(function() {\n",
       "    var warning_div = document.getElementById(\"webio-warning-8640779364712014339\");\n",
       "    var hide = function () {\n",
       "        var script = document.getElementById(\"webio-setup-12477508767560951214\");\n",
       "        var parent = script && script.parentElement;\n",
       "        var grandparent = parent && parent.parentElement;\n",
       "        if (grandparent) {\n",
       "            grandparent.style.display = \"none\";\n",
       "        }\n",
       "        warning_div.style.display = \"none\";\n",
       "    };\n",
       "    if (typeof Jupyter !== \"undefined\") {\n",
       "        console.log(\"WebIO detected Jupyter notebook environment.\");\n",
       "        // Jupyter notebook.\n",
       "        var extensions = (\n",
       "            Jupyter\n",
       "            && Jupyter.notebook.config.data\n",
       "            && Jupyter.notebook.config.data.load_extensions\n",
       "        );\n",
       "        if (extensions && extensions[\"webio/main\"]) {\n",
       "            // Extension already loaded.\n",
       "            console.log(\"Jupyter WebIO nbextension detected; not loading ad-hoc.\");\n",
       "            hide();\n",
       "            return;\n",
       "        }\n",
       "        console.warn(\"Loading WebIO Jupyter extension on an ad-hoc basis. Consider enabling the WebIO nbextension for a stabler experience (this should happen automatically when building WebIO).\");\n",
       "        require([\"/assetserver/edf674b4a352d3049d1cf8e1b8f9eda882001cd6-dist/main.js\"], function (webIOModule) {\n",
       "            webIOModule.load_ipython_extension();\n",
       "        });\n",
       "        warning_div.innerHTML = \"<strong>Loading WebIO Jupyter extension on an ad-hoc basis. Consider enabling the WebIO nbextension for a stabler experience (this should happen automatically when building WebIO).</strong>\";\n",
       "    } else if (window.location.pathname.includes(\"/lab\")) {\n",
       "        // Guessing JupyterLa\n",
       "        console.log(\"Jupyter Lab detected; make sure the @webio/jupyter-lab-provider labextension is installed.\");\n",
       "        hide();\n",
       "        return;\n",
       "    }\n",
       "})();\n",
       "\n",
       "</script>\n",
       "<div\n",
       "    id=\"webio-warning-8640779364712014339\"\n",
       "    class=\"output_text output_stderr\"\n",
       "    style=\"padding: 1em; font-weight: bold;\"\n",
       ">\n",
       "    Unable to load WebIO. Please make sure WebIO works for your Jupyter client.\n",
       "    <!-- TODO: link to installation docs. -->\n",
       "</div>\n"
      ],
      "text/plain": [
       "HTML{String}(\"<script>\\n// Immediately-invoked-function-expression to avoid global variables.\\n(function() {\\n    var warning_div = document.getElementById(\\\"webio-warning-8640779364712014339\\\");\\n    var hide = function () {\\n        var script = document.getElementById(\\\"webio-setup-12477508767560951214\\\");\\n        var parent = script && script.parentElement;\\n        var grandparent = parent && parent.parentElement;\\n        if (grandparent) {\\n            grandparent.style.display = \\\"none\\\";\\n        }\\n        warning_div.style.display = \\\"none\\\";\\n    };\\n    if (typeof Jupyter !== \\\"undefined\\\") {\\n        console.log(\\\"WebIO detected Jupyter notebook environment.\\\");\\n        // Jupyter notebook.\\n        var extensions = (\\n            Jupyter\\n            && Jupyter.notebook.config.data\\n            && Jupyter.notebook.config.data.load_extensions\\n        );\\n        if (extensions && extensions[\\\"webio/main\\\"]) {\\n            // Extension already loaded.\\n            console.log(\\\"Jupyter WebIO nbextension detected; not loading ad-hoc.\\\");\\n            hide();\\n            return;\\n        }\\n        console.warn(\\\"Loading WebIO Jupyter extension on an ad-hoc basis. Consider enabling the WebIO nbextension for a stabler experience (this should happen automatically when building WebIO).\\\");\\n        require([\\\"/assetserver/edf674b4a352d3049d1cf8e1b8f9eda882001cd6-dist/main.js\\\"], function (webIOModule) {\\n            webIOModule.load_ipython_extension();\\n        });\\n        warning_div.innerHTML = \\\"<strong>Loading WebIO Jupyter extension on an ad-hoc basis. Consider enabling the WebIO nbextension for a stabler experience (this should happen automatically when building WebIO).</strong>\\\";\\n    } else if (window.location.pathname.includes(\\\"/lab\\\")) {\\n        // Guessing JupyterLa\\n        console.log(\\\"Jupyter Lab detected; make sure the @webio/jupyter-lab-provider labextension is installed.\\\");\\n        hide();\\n        return;\\n    }\\n})();\\n\\n</script>\\n<div\\n    id=\\\"webio-warning-8640779364712014339\\\"\\n    class=\\\"output_text output_stderr\\\"\\n    style=\\\"padding: 1em; font-weight: bold;\\\"\\n>\\n    Unable to load WebIO. Please make sure WebIO works for your Jupyter client.\\n    <!-- TODO: link to installation docs. -->\\n</div>\\n\")"
      ]
     },
     "metadata": {},
     "output_type": "display_data"
    }
   ],
   "source": [
    "using NGSIM\n",
    "using AutomotiveDrivingModels\n",
    "using AutoViz\n",
    "using Interact # Make video in notebook\n",
    "using Reel # Save video as gif\n",
    "using CSV # For writing to csv\n",
    "using DataFrames # For writing to csv\n",
    "using PyPlot # For in notebook plotting\n",
    "using Distributions\n",
    "using Test"
   ]
  },
  {
   "cell_type": "code",
   "execution_count": 3,
   "metadata": {},
   "outputs": [],
   "source": [
    "# The trajectories i.e. positions of the cars with timestep\n",
    "traj_highd = open(io->read(io, MIME\"text/plain\"(), Trajdata), \n",
    "    \"trajdata_Data11_Road1_nLIOD3_lower.txt\", \"r\");\n",
    "# The highd roadway geometry\n",
    "roadway_highd = open(io->read(io, MIME\"text/plain\"(), Roadway), \n",
    "    \"ngsim_11_lower.txt\", \"r\");"
   ]
  },
  {
   "cell_type": "code",
   "execution_count": 6,
   "metadata": {},
   "outputs": [
    {
     "data": {
      "text/plain": [
       "\"media/highd_short.mp4\""
      ]
     },
     "execution_count": 6,
     "metadata": {},
     "output_type": "execute_result"
    }
   ],
   "source": [
    "# Make a video replaying the highd trajectories on the roadway and save it into media\n",
    "frames = Frames(MIME(\"image/png\"), fps=10)\n",
    "scene = Scene(500)\n",
    "for i in 1:100\n",
    "    temp_scene = get!(scene,traj_highd,i)\n",
    "    carcolors = Dict{Int,Colorant}()\n",
    "    for veh in temp_scene\n",
    "        #@show veh.id\n",
    "        #carcolors[veh.id] = in(veh.id, egoid) ? colorant\"blue\" : colorant\"green\"\n",
    "        \n",
    "            # Color cars green when they are in segment 3\n",
    "        if veh.state.posF.roadind.tag.segment == 3\n",
    "            carcolors[veh.id] = colorant\"green\"\n",
    "        end\n",
    "        \n",
    "    end\n",
    "    overlays = [TextOverlay(text=[\"$(veh.id)\"], incameraframe=true, \n",
    "                pos=VecSE2(veh.state.posG.x+0.5,veh.state.posG.y+0.5)) for veh in scene]\n",
    "    scene_visual = render(temp_scene, roadway_highd, \n",
    "        #cam=CarFollowCamera{Int}(2,5.0),\n",
    "        #cam=StaticCamera(VecE2(1966400, 570900), 5.0),\n",
    "        cam=FitToContentCamera(0.),\n",
    "        overlays,\n",
    "        car_colors=carcolors)\n",
    "    push!(frames,scene_visual)\n",
    "end\n",
    "write(\"media/highd_short.mp4\",frames)"
   ]
  },
  {
   "cell_type": "code",
   "execution_count": 28,
   "metadata": {},
   "outputs": [
    {
     "data": {
      "image/png": "[encoded data removed]",
      "text/plain": [
       "Cairo.CairoSurfaceBase{UInt32}(Ptr{Nothing} @0x00000000067a4600, 1000.0, 600.0)"
      ]
     },
     "execution_count": 28,
     "metadata": {},
     "output_type": "execute_result"
    }
   ],
   "source": [
    "scene = Scene(500)\n",
    "temp = get!(scene,traj_highd,30)\n",
    "overlays = [TextOverlay(text=[\"$(veh.id)\"], incameraframe=true, \n",
    "                pos=VecSE2(veh.state.posG.x+0.5,veh.state.posG.y+0.5)) for veh in scene]\n",
    "render(temp,roadway_highd,overlays)"
   ]
  },
  {
   "cell_type": "code",
   "execution_count": 30,
   "metadata": {},
   "outputs": [
    {
     "name": "stdout",
     "output_type": "stream",
     "text": [
      "veh id = 1\n",
      "veh posG = VecSE2({399.420, 30.260}, 0.004)\n",
      "veh id = 3\n",
      "veh posG = VecSE2({335.800, 26.560}, 0.002)\n",
      "veh id = 6\n",
      "veh posG = VecSE2({285.430, 26.950}, -0.006)\n",
      "veh id = 9\n",
      "veh posG = VecSE2({302.530, 30.750}, 0.004)\n",
      "veh id = 10\n",
      "veh posG = VecSE2({270.340, 22.910}, 0.001)\n",
      "veh id = 11\n",
      "veh posG = VecSE2({233.090, 27.010}, -0.001)\n",
      "veh id = 13\n",
      "veh posG = VecSE2({199.520, 22.610}, 0.008)\n",
      "veh id = 14\n",
      "veh posG = VecSE2({176.760, 22.350}, 0.003)\n",
      "veh id = 17\n",
      "veh posG = VecSE2({135.980, 26.780}, 0.009)\n",
      "veh id = 19\n",
      "veh posG = VecSE2({113.610, 22.290}, 0.001)\n",
      "veh id = 20\n",
      "veh posG = VecSE2({81.190, 22.890}, -0.003)\n",
      "veh id = 21\n",
      "veh posG = VecSE2({93.520, 26.320}, 0.009)\n",
      "veh id = 23\n",
      "veh posG = VecSE2({50.770, 22.290}, -0.002)\n",
      "veh id = 27\n",
      "veh posG = VecSE2({70.970, 30.340}, -0.001)\n",
      "veh id = 35\n",
      "veh posG = VecSE2({148.960, 22.770}, 0.003)\n",
      "veh id = 38\n",
      "veh posG = VecSE2({14.940, 22.480}, 0.000)\n",
      "veh id = 39\n",
      "veh posG = VecSE2({9.390, 26.370}, 0.000)\n"
     ]
    }
   ],
   "source": [
    "for veh in temp\n",
    "    print(\"veh id = $(veh.id)\\n\")\n",
    "    #print(\"veh posF = $(veh.state.posF)\\n\")\n",
    "    print(\"veh posG = $(veh.state.posG)\\n\")\n",
    "end"
   ]
  },
  {
   "cell_type": "code",
   "execution_count": null,
   "metadata": {},
   "outputs": [],
   "source": []
  }
 ],
 "metadata": {
  "kernelspec": {
   "display_name": "Julia 1.1.0",
   "language": "julia",
   "name": "julia-1.1"
  },
  "language_info": {
   "file_extension": ".jl",
   "mimetype": "application/julia",
   "name": "julia",
   "version": "1.1.0"
  }
 },
 "nbformat": 4,
 "nbformat_minor": 2
}
