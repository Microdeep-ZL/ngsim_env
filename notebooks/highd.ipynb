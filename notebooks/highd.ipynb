{
 "cells": [
  {
   "cell_type": "markdown",
   "metadata": {},
   "source": [
    "- Started on July 31, 2019\n",
    "- Works with a subset of the highd dataset\n",
    "- Goal is to run particle filtering on this highd dataset with the\n",
    "ultimate aim of learning idm rules for driver modeling\n",
    "- Trivia: Timestep is 0.04 sec, each vehicle is visible for median duration of\n",
    "13.6 seconds. This translates to about 340 timesteps of visibility. We have verified\n",
    "this by starting from scene 1 and going till 340 looking at truck vehicle id 27\n",
    "\n",
    "## Needs experimentation\n",
    "- Should the particle fitness be based on likelihood of hallucinated x location\n",
    "under Gaussian centered around true x location? Or should this also include\n",
    "y? Reason for asking this question is because Frenet s is 0 all the time so\n",
    "we will need to work with posG i.e. global position\n",
    "\n",
    "## Needs investigation\n",
    "- Why is Frenet s always 0?"
   ]
  },
  {
   "cell_type": "markdown",
   "metadata": {},
   "source": [
    "# Import packages, load data, include helpers"
   ]
  },
  {
   "cell_type": "code",
   "execution_count": 1,
   "metadata": {},
   "outputs": [
    {
     "data": {
      "text/html": [
       "<script>\n",
       "// Immediately-invoked-function-expression to avoid global variables.\n",
       "(function() {\n",
       "    var warning_div = document.getElementById(\"webio-warning-4590473097005528685\");\n",
       "    var hide = function () {\n",
       "        var script = document.getElementById(\"webio-setup-17891084944510917947\");\n",
       "        var parent = script && script.parentElement;\n",
       "        var grandparent = parent && parent.parentElement;\n",
       "        if (grandparent) {\n",
       "            grandparent.style.display = \"none\";\n",
       "        }\n",
       "        warning_div.style.display = \"none\";\n",
       "    };\n",
       "    if (typeof Jupyter !== \"undefined\") {\n",
       "        console.log(\"WebIO detected Jupyter notebook environment.\");\n",
       "        // Jupyter notebook.\n",
       "        var extensions = (\n",
       "            Jupyter\n",
       "            && Jupyter.notebook.config.data\n",
       "            && Jupyter.notebook.config.data.load_extensions\n",
       "        );\n",
       "        if (extensions && extensions[\"webio/main\"]) {\n",
       "            // Extension already loaded.\n",
       "            console.log(\"Jupyter WebIO nbextension detected; not loading ad-hoc.\");\n",
       "            hide();\n",
       "            return;\n",
       "        }\n",
       "        console.warn(\"Loading WebIO Jupyter extension on an ad-hoc basis. Consider enabling the WebIO nbextension for a stabler experience (this should happen automatically when building WebIO).\");\n",
       "        require([\"/assetserver/edf674b4a352d3049d1cf8e1b8f9eda882001cd6-dist/main.js\"], function (webIOModule) {\n",
       "            webIOModule.load_ipython_extension();\n",
       "        });\n",
       "        warning_div.innerHTML = \"<strong>Loading WebIO Jupyter extension on an ad-hoc basis. Consider enabling the WebIO nbextension for a stabler experience (this should happen automatically when building WebIO).</strong>\";\n",
       "    } else if (window.location.pathname.includes(\"/lab\")) {\n",
       "        // Guessing JupyterLa\n",
       "        console.log(\"Jupyter Lab detected; make sure the @webio/jupyter-lab-provider labextension is installed.\");\n",
       "        hide();\n",
       "        return;\n",
       "    }\n",
       "})();\n",
       "\n",
       "</script>\n",
       "<div\n",
       "    id=\"webio-warning-4590473097005528685\"\n",
       "    class=\"output_text output_stderr\"\n",
       "    style=\"padding: 1em; font-weight: bold;\"\n",
       ">\n",
       "    Unable to load WebIO. Please make sure WebIO works for your Jupyter client.\n",
       "    <!-- TODO: link to installation docs. -->\n",
       "</div>\n"
      ],
      "text/plain": [
       "HTML{String}(\"<script>\\n// Immediately-invoked-function-expression to avoid global variables.\\n(function() {\\n    var warning_div = document.getElementById(\\\"webio-warning-4590473097005528685\\\");\\n    var hide = function () {\\n        var script = document.getElementById(\\\"webio-setup-17891084944510917947\\\");\\n        var parent = script && script.parentElement;\\n        var grandparent = parent && parent.parentElement;\\n        if (grandparent) {\\n            grandparent.style.display = \\\"none\\\";\\n        }\\n        warning_div.style.display = \\\"none\\\";\\n    };\\n    if (typeof Jupyter !== \\\"undefined\\\") {\\n        console.log(\\\"WebIO detected Jupyter notebook environment.\\\");\\n        // Jupyter notebook.\\n        var extensions = (\\n            Jupyter\\n            && Jupyter.notebook.config.data\\n            && Jupyter.notebook.config.data.load_extensions\\n        );\\n        if (extensions && extensions[\\\"webio/main\\\"]) {\\n            // Extension already loaded.\\n            console.log(\\\"Jupyter WebIO nbextension detected; not loading ad-hoc.\\\");\\n            hide();\\n            return;\\n        }\\n        console.warn(\\\"Loading WebIO Jupyter extension on an ad-hoc basis. Consider enabling the WebIO nbextension for a stabler experience (this should happen automatically when building WebIO).\\\");\\n        require([\\\"/assetserver/edf674b4a352d3049d1cf8e1b8f9eda882001cd6-dist/main.js\\\"], function (webIOModule) {\\n            webIOModule.load_ipython_extension();\\n        });\\n        warning_div.innerHTML = \\\"<strong>Loading WebIO Jupyter extension on an ad-hoc basis. Consider enabling the WebIO nbextension for a stabler experience (this should happen automatically when building WebIO).</strong>\\\";\\n    } else if (window.location.pathname.includes(\\\"/lab\\\")) {\\n        // Guessing JupyterLa\\n        console.log(\\\"Jupyter Lab detected; make sure the @webio/jupyter-lab-provider labextension is installed.\\\");\\n        hide();\\n        return;\\n    }\\n})();\\n\\n</script>\\n<div\\n    id=\\\"webio-warning-4590473097005528685\\\"\\n    class=\\\"output_text output_stderr\\\"\\n    style=\\\"padding: 1em; font-weight: bold;\\\"\\n>\\n    Unable to load WebIO. Please make sure WebIO works for your Jupyter client.\\n    <!-- TODO: link to installation docs. -->\\n</div>\\n\")"
      ]
     },
     "metadata": {},
     "output_type": "display_data"
    }
   ],
   "source": [
    "using NGSIM\n",
    "using AutomotiveDrivingModels\n",
    "using AutoViz\n",
    "using Interact # Make video in notebook\n",
    "using Reel # Save video as gif\n",
    "using CSV # For writing to csv\n",
    "using DataFrames # For writing to csv\n",
    "using Plots # For in notebook plotting\n",
    "using Distributions\n",
    "using Test\n",
    "using StatsBase # For the weights function in likelihood sampling"
   ]
  },
  {
   "cell_type": "code",
   "execution_count": 2,
   "metadata": {},
   "outputs": [],
   "source": [
    "# The trajectories i.e. positions of the cars with timestep\n",
    "traj_highd = open(io->read(io, MIME\"text/plain\"(), Trajdata), \n",
    "    \"trajdata_Data11_Road1_nLIOD3_lower.txt\", \"r\");\n",
    "# The highd roadway geometry\n",
    "roadway_highd = open(io->read(io, MIME\"text/plain\"(), Roadway), \n",
    "    \"highd_roadway.txt\", \"r\");"
   ]
  },
  {
   "cell_type": "code",
   "execution_count": 3,
   "metadata": {},
   "outputs": [],
   "source": [
    "include(\"admin_functions.jl\"); # Brings in the functions defined in admin_functions.jl"
   ]
  },
  {
   "cell_type": "markdown",
   "metadata": {},
   "source": [
    "# Workspace"
   ]
  },
  {
   "cell_type": "code",
   "execution_count": 7,
   "metadata": {},
   "outputs": [
    {
     "data": {
      "text/plain": [
       "update_p_one_step (generic function with 1 method)"
      ]
     },
     "execution_count": 7,
     "metadata": {},
     "output_type": "execute_result"
    }
   ],
   "source": [
    "# Uses velocity instead of position, be careful\n",
    "function update_p_one_step(roadway,f,truvel,p_set_dict;car_id=-1)\n",
    "    if car_id==-1 @show \"Provide valid car_id\" end\n",
    "    \n",
    "    lkhd_vec,p_mat,params = compute_particle_vel_likelihoods(roadway,\n",
    "        f,truvel,p_set_dict,car_id=car_id)\n",
    "    \n",
    "    num_params = size(p_mat)[1]\n",
    "    num_p = size(p_mat)[2]\n",
    "    \n",
    "    ll_vec = log.(lkhd_vec)\n",
    "    \n",
    "    # TODO: This is hacky. What if log is not negative\n",
    "    for i in 1:num_p\n",
    "        if isinf(ll_vec[i])\n",
    "            ll_vec[i] = 0\n",
    "        else\n",
    "            ll_vec[i] = -1*1/ll_vec[i]\n",
    "        end\n",
    "    end\n",
    "    \n",
    "    p_weight_vec = weights(ll_vec./sum(ll_vec)) # Convert to weights form to use julia sampling\n",
    "    idx = sample(1:num_p,p_weight_vec,num_p)\n",
    "    \n",
    "    new_p_mat = p_mat[:,idx] #Careful that idx is (size,1) and not (size,2)\n",
    "    \n",
    "    new_p_set_dict = to_dict_form(params,new_p_mat)\n",
    "    return new_p_set_dict\n",
    "end"
   ]
  },
  {
   "cell_type": "code",
   "execution_count": null,
   "metadata": {},
   "outputs": [],
   "source": [
    "scene = Scene(500)\n",
    "get!(scene,traj_highd,2)\n",
    "# We are focusing on vehicle id 3 hence the findfirst(3,scene)\n",
    "truvel = scene.entities[findfirst(3,scene)].state.v\n",
    "@show truvel\n",
    "\n",
    "p_set_dict = gen_test_particles(20)\n",
    "@show p_set_dict\n",
    "scene = Scene(500)\n",
    "get!(scene,traj_highd,1)\n",
    "@show scene.entities[findfirst(3,scene)].state.v\n",
    "p_set_new = update_p_one_step(roadway_highd,scene,truvel,p_set_dict,car_id=3)"
   ]
  },
  {
   "cell_type": "code",
   "execution_count": 11,
   "metadata": {},
   "outputs": [
    {
     "data": {
      "text/plain": [
       "plot_particles (generic function with 1 method)"
      ]
     },
     "execution_count": 11,
     "metadata": {},
     "output_type": "execute_result"
    }
   ],
   "source": [
    "# Plot the distribution of particles\n",
    "function plot_particles(p_set_mat::Array{Float64,2},time::Float64)\n",
    "    # Check that number of params does not exceed 3\n",
    "    \n",
    "    @assert size(p_set_mat,1) <= 3\n",
    "    plt = Plots.plot()\n",
    "    # 2 parameter case\t\n",
    "    if size(p_set_mat,1) == 2\n",
    "        plt = scatter(p_set_mat[1,:],p_set_mat[2,:],leg=false,title=\"time=$(time)\")\n",
    "\n",
    "    # 3 parameter case\n",
    "    else\n",
    "        plt = scatter(p_set_mat[1,:],p_set_mat[2,:],p_set_mat[3,:],leg=false)\n",
    "        scatter!([true_params[1]],[true_params[2]],[true_params[3]])\n",
    "    end\n",
    "    return plt\n",
    "end"
   ]
  },
  {
   "cell_type": "code",
   "execution_count": 21,
   "metadata": {
    "scrolled": true
   },
   "outputs": [],
   "source": [
    "num_p = 500\n",
    "p_set_dict = gen_test_particles(num_p)\n",
    "plots = []\n",
    "init_p_mat = to_particleMatrix(p_set_dict)\n",
    "\n",
    "push!(plots,plot_particles(init_p_mat,0.0))\n",
    "\n",
    "for framenum in 1:50\n",
    "    scene = Scene(500)\n",
    "    get!(scene,traj_highd,framenum+1)\n",
    "    truvel = scene.entities[findfirst(3,scene)].state.v\n",
    "    \n",
    "    # Get the scene to start hallucinating from\n",
    "    scene = Scene(500)\n",
    "    get!(scene,traj_highd,framenum)\n",
    "    p_set_new = update_p_one_step(roadway_highd,scene,truvel,p_set_dict,car_id=3)\n",
    "    p_set_dict = p_set_new\n",
    "    \n",
    "    set_for_plotting = to_particleMatrix(p_set_new)\n",
    "    push!(plots,plot_particles(set_for_plotting,framenum*0.04))\n",
    "end\n",
    "make_gif(plots,filename = \"test_highd.mp4\")"
   ]
  },
  {
   "cell_type": "markdown",
   "metadata": {},
   "source": [
    "# Filtering functions"
   ]
  },
  {
   "cell_type": "code",
   "execution_count": null,
   "metadata": {},
   "outputs": [],
   "source": [
    "function compute_particle_likelihoods(roadway,f,trupos,p_set_dict;car_id=-1)\n",
    "    if car_id==-1 @show \"Please give valid car_id\" end\n",
    "    timestep = 0.04 #TODO: Remove hardcoding, 0.04 is for highd\n",
    "    p_mat, params, vec_val_vec = to_matrix_form(p_set_dict)\n",
    "    \n",
    "    num_params=size(p_mat)[1]\n",
    "    num_p = size(p_mat)[2]\n",
    "    lkhd_vec = Array{Float64}(undef,num_p)\n",
    "    for i in 1:num_p    \n",
    "        # Create dict version for a single particle\n",
    "        p_dict = Dict()\n",
    "        for j in 1:num_params\n",
    "            p_dict[params[j]]=vec_val_vec[j][i]\n",
    "        end\n",
    "        \n",
    "        std_dev_acc = p_dict[:σ]\n",
    "        \n",
    "        # hack to avoid the std_dev_pos become negative and error Normal distb\n",
    "        if std_dev_acc <= 0 std_dev_acc = 0.1 end\n",
    "        \n",
    "            # The position based calculation was here\n",
    "        std_dev_pos = timestep*timestep*std_dev_acc\n",
    "        hpos = hallucinate_a_step(roadway,f,p_dict,car_id=car_id)\n",
    "        lkhd_vec[i] = pdf(Normal(hpos,std_dev_pos),trupos[1])\n",
    "    end\n",
    "\n",
    "    return lkhd_vec,p_mat,params\n",
    "end"
   ]
  },
  {
   "cell_type": "code",
   "execution_count": 6,
   "metadata": {},
   "outputs": [
    {
     "data": {
      "text/plain": [
       "compute_particle_vel_likelihoods (generic function with 1 method)"
      ]
     },
     "execution_count": 6,
     "metadata": {},
     "output_type": "execute_result"
    }
   ],
   "source": [
    "function compute_particle_vel_likelihoods(roadway,f,truvel,p_set_dict;car_id=-1)\n",
    "    if car_id==-1 @show \"Please give valid car_id\" end\n",
    "    timestep = 0.04 #TODO: Remove hardcoding, 0.04 is for highd\n",
    "    p_mat, params, vec_val_vec = to_matrix_form(p_set_dict)\n",
    "    \n",
    "    num_params=size(p_mat)[1]\n",
    "    num_p = size(p_mat)[2]\n",
    "    lkhd_vec = Array{Float64}(undef,num_p)\n",
    "    for i in 1:num_p    \n",
    "        # Create dict version for a single particle\n",
    "        p_dict = Dict()\n",
    "        for j in 1:num_params\n",
    "            p_dict[params[j]]=vec_val_vec[j][i]\n",
    "        end\n",
    "        \n",
    "        std_dev_acc = p_dict[:σ]\n",
    "        \n",
    "        # hack to avoid the std_dev_pos become negative and error Normal distb\n",
    "        if std_dev_acc <= 0 std_dev_acc = 0.1 end\n",
    "        \n",
    "            # Here is the velocity based calculation\n",
    "        std_dev_vel = timestep*std_dev_acc\n",
    "        hvel = hallucinate_vel(roadway,f,p_dict,car_id=car_id)\n",
    "        lkhd_vec[i] = pdf(Normal(hvel,std_dev_vel),truvel[1])\n",
    "    end\n",
    "\n",
    "    return lkhd_vec,p_mat,params\n",
    "end"
   ]
  },
  {
   "cell_type": "code",
   "execution_count": null,
   "metadata": {},
   "outputs": [],
   "source": [
    "# Test for compute_particle_likelihoods\n",
    "v_array = [10.,15.,20.,25.,30.]\n",
    "num_p = length(v_array)\n",
    "sig_array = [0.1,0.3,0.2,0.4,0.5]\t\n",
    "p_set_dict = Dict(:v_des=>v_array,:σ=>sig_array)\n",
    "td1 = traj_highd;\n",
    "scene = Scene(500)\n",
    "get!(scene,td1,1)\n",
    "roadway = roadway_highd;\n",
    "    # trupos is a misnomer here as it is generated by hallucination\n",
    "    # and is not the real data\n",
    "trupos = hallucinate_a_step(roadway,scene,Dict(:v_des=>25.0,:σ=>0.0),\n",
    "    car_id=3)\n",
    "    \n",
    "lkhd_vec,p_mat,params = compute_particle_likelihoods(roadway,scene,\n",
    "    trupos,p_set_dict,car_id=3)\n",
    "@show lkhd_vec\n",
    "@test length(lkhd_vec) == num_p\n",
    "@test length(params) == 2\n",
    "@test size(p_mat)[1] == 2\n",
    "@test size(p_mat)[2] == 5\n",
    "@test any(isnan,lkhd_vec) == false #Gets triggered when wrong car_id called\n",
    "# For example only 1 car on road but you say car_id = 2"
   ]
  },
  {
   "cell_type": "markdown",
   "metadata": {},
   "source": [
    "# Driving functions"
   ]
  },
  {
   "cell_type": "code",
   "execution_count": null,
   "metadata": {},
   "outputs": [],
   "source": [
    "\"\"\"\n",
    "# Example:\n",
    "scene = Scene(500)\n",
    "get!(scene,traj_highd,1)\n",
    "vehid = scene.entities[2].id\n",
    "@show vehid\n",
    "vehicle = scene.entities[findfirst(scene.entities[2].id,scene)]\n",
    "print(\"Location before hallucination = $(vehicle.state.posG.x)\\n\")\n",
    "particle = Dict(:v_des=>25.0,:σ=>0.5)\n",
    "hall_pos = hallucinate_a_step(roadway_highd,scene,\n",
    "    particle,car_id=scene.entities[2].id)\n",
    "print(\"Hallucinated position = $(hall_pos[1])\\n\")\n",
    "scene = Scene(500)\n",
    "get!(scene,traj_highd,2)\n",
    "vehnew = scene.entities[findfirst(vehid,scene)]\n",
    "print(\"True position in timestep 2 = $(vehnew.state.posG.x)\")\n",
    "\"\"\"\n",
    "function hallucinate_a_step(roadway,scene_input,particle;car_id=-1)\n",
    "    if car_id==-1 @show \"Please give valid car_id\" end\n",
    "    \n",
    "    scene = deepcopy(scene_input)\n",
    "    #scene = scene_input # This was the failure case\n",
    "\n",
    "    models = Dict{Int, DriverModel}()\n",
    "    \n",
    "    # Create driver models for all the cars in the scene\n",
    "    for veh in scene\n",
    "        if veh.id == car_id\n",
    "            models[veh.id] = IntelligentDriverModel(;particle...)\n",
    "        else\n",
    "            # TODO: RESEARCH QUESTION: What drives the other vehicles\n",
    "            models[veh.id] = IntelligentDriverModel(v_des=10.0)\n",
    "        end\n",
    "    end\n",
    "    \n",
    "    n_steps = 4\n",
    "    dt = 0.04\n",
    "    rec = SceneRecord(n_steps, dt)\n",
    "    \n",
    "    simulate!(rec, scene, roadway, models, n_steps)\n",
    "    \n",
    "    X = Array{Float64}(undef,n_steps, 1)\n",
    "\n",
    "    for t in 1:n_steps\n",
    "        f = rec.frames[n_steps - t + 1]\n",
    "        \n",
    "            # Access the vehicle with id as car_id and return its frenet s\n",
    "        X[t,1] = f.entities[findfirst(car_id,f)].state.posG.x\n",
    "    end\n",
    "    @show X\n",
    "    return X[1]\n",
    "end"
   ]
  },
  {
   "cell_type": "code",
   "execution_count": 4,
   "metadata": {},
   "outputs": [
    {
     "data": {
      "text/plain": [
       "hallucinate_vel (generic function with 1 method)"
      ]
     },
     "execution_count": 4,
     "metadata": {},
     "output_type": "execute_result"
    }
   ],
   "source": [
    "# Function to return the velocity after hallucination\n",
    "# Idea is to combine this with position likelihood\n",
    "function hallucinate_vel(roadway,scene_input,particle;car_id=-1)\n",
    "    if car_id==-1 @show \"Please give valid car_id\" end\n",
    "    \n",
    "    scene = deepcopy(scene_input)\n",
    "    #scene = scene_input # This was the failure case\n",
    "    n_cars = scene.n \n",
    "\n",
    "    models = Dict{Int, DriverModel}()\n",
    "    \n",
    "    # Create driver models for all the cars in the scene\n",
    "    for veh in scene\n",
    "        if veh.id == car_id\n",
    "            models[veh.id] = IntelligentDriverModel(;particle...)\n",
    "        else\n",
    "            # TODO: RESEARCH QUESTION: What drives the other vehicles in the hallucination\n",
    "            models[veh.id] = IntelligentDriverModel(v_des=10.0)\n",
    "        end\n",
    "    end\n",
    "    \n",
    "    n_steps = 1\n",
    "    dt = 0.1\n",
    "    rec = SceneRecord(n_steps, dt)\n",
    "    \n",
    "    simulate!(rec, scene, roadway, models, n_steps)\n",
    "    \n",
    "    X = Array{Float64}(undef,n_steps, 1)\n",
    "\n",
    "    for t in 1:n_steps\n",
    "        f = rec.frames[n_steps - t + 1]\n",
    "        \n",
    "            # Access the vehicle with id as car_id and return its frenet s\n",
    "        X[t,1] = scene.entities[findfirst(car_id,f)].state.v\n",
    "    end\n",
    "    return X[1]\n",
    "end"
   ]
  },
  {
   "cell_type": "code",
   "execution_count": null,
   "metadata": {},
   "outputs": [],
   "source": [
    "# Test for hallucinate_a_step\n",
    "timestep = 0.04 # This is the highd timestep\n",
    "test_num = 5 # The array element number in the scene. Gives vehicle id later\n",
    "scene = Scene(500)\n",
    "get!(scene,traj_highd,1)\n",
    "vehid = scene.entities[test_num].id\n",
    "@show vehid\n",
    "vehicle = scene.entities[findfirst(scene.entities[test_num].id,scene)]\n",
    "print(\"Location before hallucination = $(vehicle.state.posG.x)\\n\")\n",
    "print(\"Velocity before hallucination = $(vehicle.state.v)\\n\")\n",
    "sig_particle = 0.1\n",
    "particle = Dict(:v_des=>34.0,:σ=>sig_particle)\n",
    "hall_pos = hallucinate_a_step(roadway_highd,scene,particle,car_id=vehid)\n",
    "hall_vel = hallucinate_vel(roadway_highd,scene,particle,car_id=vehid)\n",
    "@show hall_pos,hall_vel\n",
    "scene = Scene(500)\n",
    "get!(scene,traj_highd,2)\n",
    "vehicle = scene.entities[findfirst(vehid,scene)]\n",
    "trupos = (vehicle.state.posG.x)\n",
    "truvel = vehicle.state.v\n",
    "ll_pos = log(pdf(Normal(hall_pos,timestep*timestep*sig_particle),trupos))\n",
    "ll_vel = log(pdf(Normal(hall_vel,timestep*sig_particle),truvel))\n",
    "\n",
    "# If log likelihood position is not infinity then we show the position\n",
    "if isinf(ll_pos)\n",
    "    if isinf(ll_vel)\n",
    "        print(\"Nothing doing\\n\")\n",
    "    else\n",
    "        @show ll_vel\n",
    "    end\n",
    "else\n",
    "    @show ll_pos+ll_vel\n",
    "end"
   ]
  },
  {
   "cell_type": "code",
   "execution_count": null,
   "metadata": {},
   "outputs": [],
   "source": [
    "# See how 100% sampled results are only one particle\n",
    "# This is particle deprivation in action\n",
    "lkhd_vec = zeros(5,1)\n",
    "@show lkhd_vec\n",
    "num_p = 5\n",
    "for i in 1:num_p\n",
    "    lkhd_vec[i] = pdf(Normal(302.57,0.16*0.16*i*0.2),302.747)\n",
    "end\n",
    "@show lkhd_vec\n",
    "p_weight_vec = weights(lkhd_vec./sum(lkhd_vec))\n",
    "@show p_weight_vec\n",
    "idx = sample(1:5,p_weight_vec,5)\n",
    "@show make this happen"
   ]
  },
  {
   "cell_type": "markdown",
   "metadata": {},
   "source": [
    "# Visualization functions"
   ]
  },
  {
   "cell_type": "code",
   "execution_count": null,
   "metadata": {},
   "outputs": [],
   "source": [
    "\"\"\"\n",
    "# Example: make_video(range=1:20,filename=\"test.mp4\")\n",
    "\"\"\"\n",
    "function make_video(;range=nothing,filename=\"output.mp4\")\n",
    "\n",
    "    frames = Frames(MIME(\"image/png\"), fps=10)\n",
    "    scene = Scene(500)\n",
    "    for i in range\n",
    "        temp_scene = get!(scene,traj_highd,i)\n",
    "\n",
    "        overlays = [TextOverlay(text=[\"$(veh.id)\"], incameraframe=true, \n",
    "        pos=VecSE2(veh.state.posG.x+0.5,veh.state.posG.y+0.5)) for veh in scene]\n",
    "        \n",
    "        scene_visual = render(temp_scene, roadway_highd, \n",
    "            #cam=CarFollowCamera{Int}(2,5.0),\n",
    "            #cam=StaticCamera(VecE2(1966400, 570900), 5.0),\n",
    "            cam=FitToContentCamera(0.),\n",
    "            overlays)\n",
    "        push!(frames,scene_visual)\n",
    "    end\n",
    "    write(string(\"media/\"*filename),frames)    \n",
    "    \n",
    "    return nothing\n",
    "end"
   ]
  },
  {
   "cell_type": "code",
   "execution_count": null,
   "metadata": {},
   "outputs": [],
   "source": [
    "# For overlaying hallucination on the ground truth\n",
    "# Borrowed from visualization_functions.jl\n",
    "struct my_overlay <: SceneOverlay\n",
    "    scene::Scene\n",
    "    color # Needs to be of form colorant\"Colorname\"\n",
    "end\n",
    "\n",
    "\"\"\"\n",
    "Render method for `my_overlay`. Helpful for making the color choice\n",
    "\"\"\"\n",
    "function AutoViz.render!(rendermodel::RenderModel,overlay::my_overlay, \n",
    "        scene::Scene, roadway::Roadway)\n",
    "    AutoViz.render!(rendermodel,overlay.scene,car_color = overlay.color)\n",
    "    return rendermodel\n",
    "end"
   ]
  },
  {
   "cell_type": "code",
   "execution_count": null,
   "metadata": {},
   "outputs": [],
   "source": [
    "timestep = 7\n",
    "plt = Plots.plot()\n",
    "plt = Plots.scatter([1,2],[0,0],title=\"timestep = $(timestep)\")"
   ]
  },
  {
   "cell_type": "code",
   "execution_count": 5,
   "metadata": {},
   "outputs": [
    {
     "data": {
      "text/plain": [
       "make_gif (generic function with 1 method)"
      ]
     },
     "execution_count": 5,
     "metadata": {},
     "output_type": "execute_result"
    }
   ],
   "source": [
    "function make_gif(plots;filename=\"output.mp4\")\n",
    "@assert typeof(filename) == String\n",
    "#@show \"Making gif\"\n",
    "\tframes = Frames(MIME(\"image/png\"), fps=10)\n",
    "\tfor plt in plots\n",
    "\t    push!(frames, plt)\n",
    "\tend\n",
    "\twrite(string(\"media/\",filename), frames)\n",
    "\treturn nothing\n",
    "end # End of the reel gif writing function"
   ]
  },
  {
   "cell_type": "markdown",
   "metadata": {},
   "source": [
    "# Code dump for use later/make functions"
   ]
  },
  {
   "cell_type": "code",
   "execution_count": null,
   "metadata": {},
   "outputs": [],
   "source": [
    "# Drive using IDM\n",
    "scene = Scene(500)\n",
    "temp = get!(scene,traj_highd,1)\n",
    "models = Dict{Int,DriverModel}()\n",
    "for veh in scene\n",
    "    models[veh.id] = IntelligentDriverModel(v_des=40.0)\n",
    "end\n",
    "n_steps = 100\n",
    "dt = 0.04 # To match the timestep of traj_highd, ngsim was timestep 0.1\n",
    "rec = SceneRecord(n_steps,dt)\n",
    "simulate!(rec,scene,roadway_highd,models,n_steps)"
   ]
  },
  {
   "cell_type": "code",
   "execution_count": null,
   "metadata": {},
   "outputs": [],
   "source": [
    "# highd replays with idm hallucination overlayed\n",
    "frames = Frames(MIME(\"image/png\"), fps=10)\n",
    "scene = Scene(500)\n",
    "for i in 1:100\n",
    "    temp_scene = get!(scene,traj_highd,i)\n",
    "\n",
    "    overlay_hallucination = my_overlay(rec[i-100],colorant\"white\")\n",
    "    \n",
    "    scene_visual = render(temp_scene, roadway_highd, \n",
    "        #cam=CarFollowCamera{Int}(2,5.0),\n",
    "        #cam=StaticCamera(VecE2(1966400, 570900), 5.0),\n",
    "        cam=FitToContentCamera(0.),\n",
    "        [overlay_hallucination])\n",
    "    push!(frames,scene_visual)\n",
    "end\n",
    "write(\"media/highd_halluc_vdes40.mp4\",frames)"
   ]
  }
 ],
 "metadata": {
  "@webio": {
   "lastCommId": null,
   "lastKernelId": null
  },
  "kernelspec": {
   "display_name": "Julia 1.1.0",
   "language": "julia",
   "name": "julia-1.1"
  },
  "language_info": {
   "file_extension": ".jl",
   "mimetype": "application/julia",
   "name": "julia",
   "version": "1.1.0"
  }
 },
 "nbformat": 4,
 "nbformat_minor": 2
}
