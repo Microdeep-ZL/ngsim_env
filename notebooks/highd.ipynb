{
 "cells": [
  {
   "cell_type": "markdown",
   "metadata": {},
   "source": [
    "- Started on July 31, 2019\n",
    "- Works with a subset of the highd dataset\n",
    "- Goal is to run particle filtering on this highd dataset with the\n",
    "ultimate aim of learning idm rules for driver modeling\n",
    "- Trivia: Timestep is 0.04 sec, each vehicle is visible for median duration of\n",
    "13.6 seconds. This translates to about 340 timesteps of visibility. We have verified\n",
    "this by starting from scene 1 and going till 340 looking at truck vehicle id 27\n",
    "\n",
    "## Needs experimentation\n",
    "- Should the particle fitness be based on likelihood of hallucinated x location\n",
    "under Gaussian centered around true x location? Or should this also include\n",
    "y? Reason for asking this question is because Frenet s is 0 all the time so\n",
    "we will need to work with posG i.e. global position\n",
    "\n",
    "## Needs investigation\n",
    "- Why is Frenet s always 0?"
   ]
  },
  {
   "cell_type": "markdown",
   "metadata": {},
   "source": [
    "# Import packages, load data, include helpers"
   ]
  },
  {
   "cell_type": "code",
   "execution_count": 59,
   "metadata": {},
   "outputs": [],
   "source": [
    "using NGSIM\n",
    "using AutomotiveDrivingModels\n",
    "using AutoViz\n",
    "using Interact # Make video in notebook\n",
    "using Reel # Save video as gif\n",
    "using CSV # For writing to csv\n",
    "using DataFrames # For writing to csv\n",
    "using PyPlot # For in notebook plotting\n",
    "using Distributions\n",
    "using Test\n",
    "using StatsBase # For the weights function in likelihood sampling"
   ]
  },
  {
   "cell_type": "code",
   "execution_count": 5,
   "metadata": {},
   "outputs": [],
   "source": [
    "# The trajectories i.e. positions of the cars with timestep\n",
    "traj_highd = open(io->read(io, MIME\"text/plain\"(), Trajdata), \n",
    "    \"trajdata_Data11_Road1_nLIOD3_lower.txt\", \"r\");\n",
    "# The highd roadway geometry\n",
    "roadway_highd = open(io->read(io, MIME\"text/plain\"(), Roadway), \n",
    "    \"highd_roadway.txt\", \"r\");"
   ]
  },
  {
   "cell_type": "code",
   "execution_count": 136,
   "metadata": {},
   "outputs": [],
   "source": [
    "include(\"admin_functions.jl\"); # Brings in the functions defined in admin_functions.jl"
   ]
  },
  {
   "cell_type": "markdown",
   "metadata": {},
   "source": [
    "# Workspace"
   ]
  },
  {
   "cell_type": "code",
   "execution_count": 163,
   "metadata": {},
   "outputs": [
    {
     "data": {
      "text/plain": [
       "0.00128"
      ]
     },
     "execution_count": 163,
     "metadata": {},
     "output_type": "execute_result"
    }
   ],
   "source": [
    "# How about we try using 2 frames later so that the timestep is double\n",
    "# Maybe even try 3 frames. The hope is that idm can be somewhere close by\n",
    "# This needs to be interesting as this is automotive driving research\n",
    "\n",
    "0.08*0.08*0.2"
   ]
  },
  {
   "cell_type": "code",
   "execution_count": 164,
   "metadata": {},
   "outputs": [
    {
     "data": {
      "text/plain": [
       "0.00032"
      ]
     },
     "execution_count": 164,
     "metadata": {},
     "output_type": "execute_result"
    }
   ],
   "source": [
    "0.04*0.04*0.2"
   ]
  },
  {
   "cell_type": "code",
   "execution_count": 160,
   "metadata": {},
   "outputs": [
    {
     "data": {
      "text/plain": [
       "0.09444556359975141"
      ]
     },
     "execution_count": 160,
     "metadata": {},
     "output_type": "execute_result"
    }
   ],
   "source": [
    "pdf(Normal(298.8,0.032),298.7)"
   ]
  },
  {
   "cell_type": "code",
   "execution_count": 137,
   "metadata": {},
   "outputs": [
    {
     "data": {
      "text/plain": [
       "update_p_one_step (generic function with 1 method)"
      ]
     },
     "execution_count": 137,
     "metadata": {},
     "output_type": "execute_result"
    }
   ],
   "source": [
    "function update_p_one_step(roadway,f,trupos,p_set_dict;car_id=-1)\n",
    "    if car_id==-1 @show \"Provide valid car_id\" end\n",
    "    \n",
    "    lkhd_vec,p_mat,params = compute_particle_likelihoods(roadway,\n",
    "        f,trupos,p_set_dict,car_id=car_id)\n",
    "    \n",
    "    @show log.(lkhd_vec)\n",
    "    \n",
    "    num_params = size(p_mat)[1]\n",
    "    num_p = size(p_mat)[2]\n",
    "    \n",
    "    p_weight_vec = weights(lkhd_vec./sum(lkhd_vec)) # Convert to weights form to use julia sampling\n",
    "    idx = sample(1:num_p,p_weight_vec,num_p)\n",
    "    new_p_mat = p_mat[:,idx] #Careful that idx is (size,1) and not (size,2)\n",
    "        \n",
    "    new_p_set_dict = to_dict_form(params,new_p_mat)\n",
    "    return new_p_set_dict\n",
    "end"
   ]
  },
  {
   "cell_type": "code",
   "execution_count": 138,
   "metadata": {},
   "outputs": [
    {
     "name": "stdout",
     "output_type": "stream",
     "text": [
      "trupos = 298.77000956064006\n",
      "p_set_dict = Dict(:v_des=>[33.0, 33.5, 33.0, 33.5, 33.5],:σ=>[17.5, 11.3, 14.7, 11.9, 17.2])\n",
      "((scene.entities[findfirst(3, scene)]).state).v = 33.050438271060955\n",
      "log.(lkhd_vec) = [-Inf, -Inf, -Inf, -Inf, -Inf]\n"
     ]
    },
    {
     "data": {
      "text/plain": [
       "Dict{Any,Any} with 2 entries:\n",
       "  :v_des => [33.0, 33.0, 33.0, 33.0, 33.0]\n",
       "  :σ     => [17.5, 17.5, 17.5, 17.5, 17.5]"
      ]
     },
     "execution_count": 138,
     "metadata": {},
     "output_type": "execute_result"
    }
   ],
   "source": [
    "scene = Scene(500)\n",
    "get!(scene,traj_highd,3)\n",
    "# We are focusing on vehicle id 3 hence the findfirst(3,scene)\n",
    "trupos = scene.entities[findfirst(3,scene)].state.posG.x\n",
    "@show trupos\n",
    "\n",
    "p_set_dict = gen_test_particles(5)\n",
    "@show p_set_dict\n",
    "scene = Scene(500)\n",
    "get!(scene,traj_highd,1)\n",
    "@show scene.entities[findfirst(3,scene)].state.v\n",
    "p_set_new = update_p_one_step(roadway_highd,scene,trupos,p_set_dict,car_id=6)"
   ]
  },
  {
   "cell_type": "markdown",
   "metadata": {},
   "source": [
    "# Filtering functions"
   ]
  },
  {
   "cell_type": "code",
   "execution_count": 122,
   "metadata": {},
   "outputs": [
    {
     "data": {
      "text/plain": [
       "compute_particle_likelihoods (generic function with 1 method)"
      ]
     },
     "execution_count": 122,
     "metadata": {},
     "output_type": "execute_result"
    }
   ],
   "source": [
    "function compute_particle_likelihoods(roadway,f,trupos,p_set_dict;car_id=-1)\n",
    "    if car_id==-1 @show \"Please give valid car_id\" end\n",
    "    timestep = 0.04 #TODO: Remove hardcoding, 0.04 is for highd\n",
    "    p_mat, params, vec_val_vec = to_matrix_form(p_set_dict)\n",
    "    \n",
    "    num_params=size(p_mat)[1]\n",
    "    num_p = size(p_mat)[2]\n",
    "    lkhd_vec = Array{Float64}(undef,num_p)\n",
    "    for i in 1:num_p    \n",
    "        # Create dict version for a single particle\n",
    "        p_dict = Dict()\n",
    "        for j in 1:num_params\n",
    "            p_dict[params[j]]=vec_val_vec[j][i]\n",
    "        end\n",
    "        \n",
    "        std_dev_acc = p_dict[:σ]\n",
    "        \n",
    "        # hack to avoid the std_dev_pos become negative and error Normal distb\n",
    "        if std_dev_acc <= 0 std_dev_acc = 0.1 end\n",
    "        \n",
    "        # TODO: This math needs to be verified from random variable calculations\n",
    "        std_dev_pos = timestep*timestep*std_dev_acc\n",
    "        \n",
    "        hpos = hallucinate_a_step(roadway,f,p_dict,car_id=car_id)\n",
    "        \n",
    "        lkhd_vec[i] = pdf(Normal(hpos,std_dev_pos),trupos[1])\n",
    "    end\n",
    "\n",
    "    return lkhd_vec,p_mat,params\n",
    "end"
   ]
  },
  {
   "cell_type": "code",
   "execution_count": 113,
   "metadata": {},
   "outputs": [
    {
     "name": "stdout",
     "output_type": "stream",
     "text": [
      "lkhd_vec = [2313.56, 745.318, 1122.89, 533.086, 466.748]\n"
     ]
    },
    {
     "data": {
      "text/plain": [
       "\u001b[32m\u001b[1mTest Passed\u001b[22m\u001b[39m"
      ]
     },
     "execution_count": 113,
     "metadata": {},
     "output_type": "execute_result"
    }
   ],
   "source": [
    "# Test for compute_particle_likelihoods\n",
    "v_array = [10.,15.,20.,25.,30.]\n",
    "num_p = length(v_array)\n",
    "sig_array = [0.1,0.3,0.2,0.4,0.5]\t\n",
    "p_set_dict = Dict(:v_des=>v_array,:σ=>sig_array)\n",
    "td1 = traj_highd;\n",
    "scene = Scene(500)\n",
    "get!(scene,td1,1)\n",
    "roadway = roadway_highd;\n",
    "    # trupos is a misnomer here as it is generated by hallucination\n",
    "    # and is not the real data\n",
    "trupos = hallucinate_a_step(roadway,scene,Dict(:v_des=>25.0,:σ=>0.0),\n",
    "    car_id=3)\n",
    "    \n",
    "lkhd_vec,p_mat,params = compute_particle_likelihoods(roadway,scene,\n",
    "    trupos,p_set_dict,car_id=3)\n",
    "@show lkhd_vec\n",
    "@test length(lkhd_vec) == num_p\n",
    "@test length(params) == 2\n",
    "@test size(p_mat)[1] == 2\n",
    "@test size(p_mat)[2] == 5\n",
    "@test any(isnan,lkhd_vec) == false #Gets triggered when wrong car_id called\n",
    "# For example only 1 car on road but you say car_id = 2"
   ]
  },
  {
   "cell_type": "markdown",
   "metadata": {},
   "source": [
    "# Driving functions"
   ]
  },
  {
   "cell_type": "code",
   "execution_count": 195,
   "metadata": {},
   "outputs": [
    {
     "data": {
      "text/plain": [
       "hallucinate_a_step"
      ]
     },
     "execution_count": 195,
     "metadata": {},
     "output_type": "execute_result"
    }
   ],
   "source": [
    "\"\"\"\n",
    "# Example:\n",
    "scene = Scene(500)\n",
    "get!(scene,traj_highd,1)\n",
    "vehid = scene.entities[2].id\n",
    "@show vehid\n",
    "vehicle = scene.entities[findfirst(scene.entities[2].id,scene)]\n",
    "print(\"Location before hallucination = $(vehicle.state.posG.x)\\n\")\n",
    "particle = Dict(:v_des=>25.0,:σ=>0.5)\n",
    "hall_pos = hallucinate_a_step(roadway_highd,scene,\n",
    "    particle,car_id=scene.entities[2].id)\n",
    "print(\"Hallucinated position = $(hall_pos[1])\\n\")\n",
    "scene = Scene(500)\n",
    "get!(scene,traj_highd,2)\n",
    "vehnew = scene.entities[findfirst(vehid,scene)]\n",
    "print(\"True position in timestep 2 = $(vehnew.state.posG.x)\")\n",
    "\"\"\"\n",
    "function hallucinate_a_step(roadway,scene_input,particle;car_id=-1)\n",
    "    if car_id==-1 @show \"Please give valid car_id\" end\n",
    "    \n",
    "    scene = deepcopy(scene_input)\n",
    "    #scene = scene_input # This was the failure case\n",
    "\n",
    "    models = Dict{Int, DriverModel}()\n",
    "    \n",
    "    # Create driver models for all the cars in the scene\n",
    "    for veh in scene\n",
    "        if veh.id == car_id\n",
    "            models[veh.id] = IntelligentDriverModel(;particle...)\n",
    "        else\n",
    "            # TODO: RESEARCH QUESTION: What drives the other vehicles\n",
    "            models[veh.id] = IntelligentDriverModel(v_des=10.0)\n",
    "        end\n",
    "    end\n",
    "    \n",
    "    n_steps = 4\n",
    "    dt = 0.04\n",
    "    rec = SceneRecord(n_steps, dt)\n",
    "    \n",
    "    simulate!(rec, scene, roadway, models, n_steps)\n",
    "    \n",
    "    X = Array{Float64}(undef,n_steps, 1)\n",
    "\n",
    "    for t in 1:n_steps\n",
    "        f = rec.frames[n_steps - t + 1]\n",
    "        \n",
    "            # Access the vehicle with id as car_id and return its frenet s\n",
    "        X[t,1] = f.entities[findfirst(car_id,f)].state.posG.x\n",
    "    end\n",
    "    @show X\n",
    "    return X[1]\n",
    "end"
   ]
  },
  {
   "cell_type": "code",
   "execution_count": 198,
   "metadata": {},
   "outputs": [
    {
     "name": "stdout",
     "output_type": "stream",
     "text": [
      "vehid = 3\n",
      "Location before hallucination = 297.56000952192\n",
      "X = [298.875; 300.184; 301.494; 302.805]\n",
      "Hallucinated position = 298.87502494232723\n",
      "True position in timestep 4 = 302.57000968224"
     ]
    }
   ],
   "source": [
    "# Test for hallucinate_a_step\n",
    "scene = Scene(500)\n",
    "get!(scene,traj_highd,1)\n",
    "vehid = scene.entities[2].id\n",
    "@show vehid\n",
    "vehicle = scene.entities[findfirst(scene.entities[2].id,scene)]\n",
    "print(\"Location before hallucination = $(vehicle.state.posG.x)\\n\")\n",
    "particle = Dict(:v_des=>33.0,:σ=>0.5)\n",
    "hall_pos = hallucinate_a_step(roadway_highd,scene,\n",
    "    particle,car_id=scene.entities[2].id)\n",
    "print(\"Hallucinated position = $(hall_pos[1])\\n\")\n",
    "scene = Scene(500)\n",
    "get!(scene,traj_highd,5)\n",
    "vehnew = scene.entities[findfirst(vehid,scene)]\n",
    "print(\"True position in timestep 4 = $(vehnew.state.posG.x)\")"
   ]
  },
  {
   "cell_type": "code",
   "execution_count": 197,
   "metadata": {},
   "outputs": [
    {
     "name": "stdout",
     "output_type": "stream",
     "text": [
      "lkhd_vec = [0.0; 0.0; 0.0; 0.0; 0.0]\n",
      "lkhd_vec = [2.38539e-258; 5.15335e-64; 3.79858e-28; 1.17476e-15; 6.48794e-10]\n",
      "p_weight_vec = [3.67665e-249, 7.94296e-55, 5.85482e-19, 1.81068e-6, 0.999998]\n"
     ]
    },
    {
     "data": {
      "text/plain": [
       "5-element Array{Int64,1}:\n",
       " 5\n",
       " 5\n",
       " 5\n",
       " 5\n",
       " 5"
      ]
     },
     "execution_count": 197,
     "metadata": {},
     "output_type": "execute_result"
    }
   ],
   "source": [
    "# See how 100% sampled results are only one particle\n",
    "# This is particle deprivation in action\n",
    "lkhd_vec = zeros(5,1)\n",
    "@show lkhd_vec\n",
    "num_p = 5\n",
    "for i in 1:num_p\n",
    "    lkhd_vec[i] = pdf(Normal(302.57,0.16*0.16*i*0.2),302.747)\n",
    "end\n",
    "@show lkhd_vec\n",
    "p_weight_vec = weights(lkhd_vec./sum(lkhd_vec))\n",
    "@show p_weight_vec\n",
    "idx = sample(1:5,p_weight_vec,5)\n",
    "@show make this happen"
   ]
  },
  {
   "cell_type": "markdown",
   "metadata": {},
   "source": [
    "# Visualization functions"
   ]
  },
  {
   "cell_type": "code",
   "execution_count": 31,
   "metadata": {},
   "outputs": [
    {
     "data": {
      "text/plain": [
       "make_video (generic function with 1 method)"
      ]
     },
     "execution_count": 31,
     "metadata": {},
     "output_type": "execute_result"
    }
   ],
   "source": [
    "\"\"\"\n",
    "# Example: make_video(range=1:20,filename=\"test.mp4\")\n",
    "\"\"\"\n",
    "function make_video(;range=nothing,filename=\"output.mp4\")\n",
    "\n",
    "    frames = Frames(MIME(\"image/png\"), fps=10)\n",
    "    scene = Scene(500)\n",
    "    for i in range\n",
    "        temp_scene = get!(scene,traj_highd,i)\n",
    "\n",
    "        overlays = [TextOverlay(text=[\"$(veh.id)\"], incameraframe=true, \n",
    "        pos=VecSE2(veh.state.posG.x+0.5,veh.state.posG.y+0.5)) for veh in scene]\n",
    "        \n",
    "        scene_visual = render(temp_scene, roadway_highd, \n",
    "            #cam=CarFollowCamera{Int}(2,5.0),\n",
    "            #cam=StaticCamera(VecE2(1966400, 570900), 5.0),\n",
    "            cam=FitToContentCamera(0.),\n",
    "            overlays)\n",
    "        push!(frames,scene_visual)\n",
    "    end\n",
    "    write(string(\"media/\"*filename),frames)    \n",
    "    \n",
    "    return nothing\n",
    "end"
   ]
  },
  {
   "cell_type": "code",
   "execution_count": null,
   "metadata": {},
   "outputs": [],
   "source": [
    "# For overlaying hallucination on the ground truth\n",
    "# Borrowed from visualization_functions.jl\n",
    "struct my_overlay <: SceneOverlay\n",
    "    scene::Scene\n",
    "    color # Needs to be of form colorant\"Colorname\"\n",
    "end\n",
    "\n",
    "\"\"\"\n",
    "Render method for `my_overlay`. Helpful for making the color choice\n",
    "\"\"\"\n",
    "function AutoViz.render!(rendermodel::RenderModel,overlay::my_overlay, \n",
    "        scene::Scene, roadway::Roadway)\n",
    "    AutoViz.render!(rendermodel,overlay.scene,car_color = overlay.color)\n",
    "    return rendermodel\n",
    "end"
   ]
  },
  {
   "cell_type": "markdown",
   "metadata": {},
   "source": [
    "# Code dump for use later/make functions"
   ]
  },
  {
   "cell_type": "code",
   "execution_count": null,
   "metadata": {},
   "outputs": [],
   "source": [
    "# Drive using IDM\n",
    "scene = Scene(500)\n",
    "temp = get!(scene,traj_highd,1)\n",
    "models = Dict{Int,DriverModel}()\n",
    "for veh in scene\n",
    "    models[veh.id] = IntelligentDriverModel(v_des=40.0)\n",
    "end\n",
    "n_steps = 100\n",
    "dt = 0.04 # To match the timestep of traj_highd, ngsim was timestep 0.1\n",
    "rec = SceneRecord(n_steps,dt)\n",
    "simulate!(rec,scene,roadway_highd,models,n_steps)"
   ]
  },
  {
   "cell_type": "code",
   "execution_count": null,
   "metadata": {},
   "outputs": [],
   "source": [
    "# highd replays with idm hallucination overlayed\n",
    "frames = Frames(MIME(\"image/png\"), fps=10)\n",
    "scene = Scene(500)\n",
    "for i in 1:100\n",
    "    temp_scene = get!(scene,traj_highd,i)\n",
    "\n",
    "    overlay_hallucination = my_overlay(rec[i-100],colorant\"white\")\n",
    "    \n",
    "    scene_visual = render(temp_scene, roadway_highd, \n",
    "        #cam=CarFollowCamera{Int}(2,5.0),\n",
    "        #cam=StaticCamera(VecE2(1966400, 570900), 5.0),\n",
    "        cam=FitToContentCamera(0.),\n",
    "        [overlay_hallucination])\n",
    "    push!(frames,scene_visual)\n",
    "end\n",
    "write(\"media/highd_halluc_vdes40.mp4\",frames)"
   ]
  }
 ],
 "metadata": {
  "kernelspec": {
   "display_name": "Julia 1.1.0",
   "language": "julia",
   "name": "julia-1.1"
  },
  "language_info": {
   "file_extension": ".jl",
   "mimetype": "application/julia",
   "name": "julia",
   "version": "1.1.0"
  }
 },
 "nbformat": 4,
 "nbformat_minor": 2
}
