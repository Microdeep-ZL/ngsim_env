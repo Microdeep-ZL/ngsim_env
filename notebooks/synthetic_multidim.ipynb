{
 "cells": [
  {
   "cell_type": "markdown",
   "metadata": {},
   "source": [
    "- Goal\n",
    "    - Create synthetic data using IDM\n",
    "    - Learn parameters of that data using particle filtering\n",
    "    - Aliter 7 Feb: Learn using CEM idea, fitness function and then distb and then sample\n",
    "- Feb 10: Adding timegap_des as our 2nd param in the 2 car, 1D, IDM scenario\n",
    "    - Make code capable of handling 2d param. So far, had only scalar param\n",
    "    i.e v_des\n",
    "    - Fitting 2D distributions is required now\n",
    "- Feb 22\n",
    "    - the `rec` generated using `simulate` is a devious monster\n",
    "    - It stores the last timestep in the 1st entry and first timestep in last entry\n",
    "    - Be careful\n",
    "- Mar 27\n",
    "    - Inspired by behavior test written by Maxime to convert this code to work with general scene\n",
    "    instead of scene1D and state1D as previously\n",
    "    - Scaling up: scenario is to have 3 different speed vehicles starting in adjacent lanes. Each\n",
    "    car will have an associated bucket of particles and at the end we whould be able to uncover\n",
    "    true params for all three cars\n",
    "    - Disclaimer: This will definitely work since we have confirmed that we can uncover params for one \n",
    "    car when it is the leader (i.e. unaffected by any car in front). The current exercise is to scale up the\n",
    "    code to work with multiple vehicles\n",
    "    - Idea is that every vehicles associated bucket of particles will evolve differently as it sees more\n",
    "    of the true trajectory. This is in contrast to original idea where we thought we will have all the buckets\n",
    "    pooled together to inform the final distribution\n",
    "- April 4: Some research questions\n",
    "    - Does the initial velocity of the car impact the learning of the parameters? The test\n",
    "    we did in the 5 car adjacent lane scenario seemed to do well even with the \n",
    "    initial velocity being different from the desired velocity parameter?\n",
    "    - What situtation will break the vanilla PF but CEM PF will do well\n",
    "    - How can we add confidence as an information to the output\n",
    "    provided by the PF?\n",
    "        - eg: I think v_des should be 25 but not sure because there\n",
    "        is a car in front that is obstructing me\n",
    "    - What is the influence of interaction on the filtering results?\n",
    "    - In the hallucination, does it matter what model we assume to drive\n",
    "    the other vehicles?\n",
    "    - Graduate to measuring 2D likelihood when lane changes can start\n",
    "- April 4: Some todos\n",
    "    - Fix the seed and write a test that reproduces the parameter\n",
    "    values estimated from filtering in the 5-car adjacent lane scenario\n",
    "    - ~~Separate out tests into different files to work with differnt\n",
    "    functions and `runtests.jl` should just call all these different\n",
    "    test files~~\n",
    "    - ~~Visualization functions to compare estimation performance\n",
    "    over time~~\n",
    "    - documenter.jl for automatic generation of documentation\n",
    "- April 5: <span style=\"color:red\"> TODOS </span>\n",
    "    - Run tons of experiments and give result to see whether or not we are getting\n",
    "    one off good results or can we truly test the results\n",
    "- April 6: Discovery\n",
    "    - Starting the cars from 0 velocity makes the particle filter estimate go off kilter\n",
    "    - Starting from the v_des true param value makes it work fine\n",
    "    - As seen from the one lane 2 car scenario\n",
    "- April 7: Verbal description of what the particle filter is doing\n",
    "    - Start with a bucket for each car. Each bucket contains 100 particles. Each particle is a\n",
    "    dictionary with parameter, value pairing eg: v_des, 20.0\n",
    "    - Hallucinate a step using each particle. Compare hallucination against ground truth to get\n",
    "    relative goodness between every particle\n",
    "        - This is done by measuring the likelihood of the true data under a _Gaussian_ distribution that\n",
    "        is centered around the hallucinated position and has a standard deviation that is\n",
    "        proportional to the timestep standard deviation $\\sigma_{pos} = \\Delta T^2*\\sigma_{acc}$\n",
    "        (note that $\\sigma_{acc}$ is a parameter of IDM)\n",
    "            - <span style=\"color:blue\">_Is this too naive a way to measure likelihood i.e. will\n",
    "    it capture influence on params such as Timegap and Min. allowable distance_</span>\n",
    "            - <span style=\"color:blue\">_Is a Gaussian distribution the best to do this \n",
    "    likelihood computation?_</span>\n",
    "    - Particle filter\n",
    "        - Resample from the set of particles using weights obtained using above relative goodness\n",
    "        to obtain 100 new particles\n",
    "    - Cross entropy method\n",
    "        - Fit a distribution after selecting elites from the set of particles according to relative\n",
    "        goodness\n",
    "        - Sample 100 new particles from this distribution\n",
    "    - Once the entire trajectory has been seen, every car has an associated bucket that contains\n",
    "    100 particles\n",
    "- April 8: \n",
    "    - ~~<span style=\"color:red\">TODO Function that does both particle bucket returning and captures RMSE progress with time</span>~~\n",
    "    - Implemented `zero_dict`, `mean_dict`, `particle_difference_paramwise` \n",
    "    functions to scale up to return parameter wise error with iter num\n",
    "- April 9:\n",
    "    - Implemented `compute_mean_dict`, `init_empty_array_dict`, `combine_array_dicts`,`plot_dict`\n",
    "- April 11:\n",
    "    - Implemented method to do estimation and then rmse position to evaluate imitation performance\n",
    "- April 12:\n",
    "    - Implemented overlay to enable ghost vehicle visualization\n",
    "- April 14:\n",
    "    - Implemented `calc_rmse_vel` to calculate rmse in velocity in addition to the rmse in position\n",
    "    - Started a new file called `visualization_functions.jl` to work on overlays for ghost plotting\n",
    "    - Implemented `estimate_then_make_video` function to do the parameter estimation and then make a video\n",
    "    - Implemented `reel` film making within the notebook"
   ]
  },
  {
   "cell_type": "code",
   "execution_count": 1,
   "metadata": {},
   "outputs": [
    {
     "data": {
      "text/html": [
       "    <script class='js-collapse-script'>\n",
       "        var curMatch =\n",
       "            window.location.href\n",
       "            .match(/(.*?)\\/notebooks\\/.*\\.ipynb/);\n",
       "\n",
       "        curMatch = curMatch ||\n",
       "            window.location.href\n",
       "            .match(/(.*?)\\/apps\\/.*\\.ipynb/);\n",
       "\n",
       "        if ( curMatch ) {\n",
       "            $('head').append('<base href=\"' + curMatch[1] + '/\">');\n",
       "        }\n",
       "    </script>\n"
      ],
      "text/plain": [
       "HTML{String}(\"    <script class='js-collapse-script'>\\n        var curMatch =\\n            window.location.href\\n            .match(/(.*?)\\\\/notebooks\\\\/.*\\\\.ipynb/);\\n\\n        curMatch = curMatch ||\\n            window.location.href\\n            .match(/(.*?)\\\\/apps\\\\/.*\\\\.ipynb/);\\n\\n        if ( curMatch ) {\\n            \\$('head').append('<base href=\\\"' + curMatch[1] + '/\\\">');\\n        }\\n    </script>\\n\")"
      ]
     },
     "metadata": {},
     "output_type": "display_data"
    },
    {
     "data": {
      "text/html": [
       "<script class='js-collapse-script' src='/assetserver/ac92513fc97126f4d4502d0637c43de8cdb5fca9-assets/webio/dist/bundle.js'></script>"
      ],
      "text/plain": [
       "HTML{String}(\"<script class='js-collapse-script' src='/assetserver/ac92513fc97126f4d4502d0637c43de8cdb5fca9-assets/webio/dist/bundle.js'></script>\")"
      ]
     },
     "metadata": {},
     "output_type": "display_data"
    },
    {
     "data": {
      "text/html": [
       "<script class='js-collapse-script' src='/assetserver/ac92513fc97126f4d4502d0637c43de8cdb5fca9-assets/providers/ijulia_setup.js'></script>"
      ],
      "text/plain": [
       "HTML{String}(\"<script class='js-collapse-script' src='/assetserver/ac92513fc97126f4d4502d0637c43de8cdb5fca9-assets/providers/ijulia_setup.js'></script>\")"
      ]
     },
     "metadata": {},
     "output_type": "display_data"
    },
    {
     "data": {
      "text/html": [
       "  <script class='js-collapse-script'>\n",
       "    $('.js-collapse-script').parent('.output_subarea').css('padding', '0');\n",
       "  </script>\n"
      ],
      "text/plain": [
       "HTML{String}(\"  <script class='js-collapse-script'>\\n    \\$('.js-collapse-script').parent('.output_subarea').css('padding', '0');\\n  </script>\\n\")"
      ]
     },
     "metadata": {},
     "output_type": "display_data"
    }
   ],
   "source": [
    "using AutomotiveDrivingModels;using AutoViz;using Reel\n",
    "using Interact;using StatsBase # For weights function used by particle filter\n",
    "using Test;using Distributions;using Pkg;using PyPlot;\n",
    "using LinearAlgebra # For norm calculation"
   ]
  },
  {
   "cell_type": "code",
   "execution_count": 2,
   "metadata": {},
   "outputs": [],
   "source": [
    "include(\"admin_functions.jl\")\n",
    "include(\"driving_functions.jl\")\n",
    "include(\"filtering_functions.jl\")\n",
    "include(\"metrics_functions.jl\")\n",
    "include(\"visualization_functions.jl\");"
   ]
  },
  {
   "cell_type": "code",
   "execution_count": null,
   "metadata": {},
   "outputs": [],
   "source": [
    "# List the available functions loaded from the above include statements\n",
    "# https://stackoverflow.com/questions/21301451/get-a-list-of-current-variables-in-julia-lang\n",
    "names(Main)[4:end]"
   ]
  },
  {
   "cell_type": "markdown",
   "metadata": {},
   "source": [
    "# Cache"
   ]
  },
  {
   "cell_type": "code",
   "execution_count": 4,
   "metadata": {},
   "outputs": [],
   "source": [
    "using Reel"
   ]
  },
  {
   "cell_type": "code",
   "execution_count": 18,
   "metadata": {},
   "outputs": [
    {
     "data": {
      "text/plain": [
       "animate_record (generic function with 1 method)"
      ]
     },
     "execution_count": 18,
     "metadata": {},
     "output_type": "execute_result"
    }
   ],
   "source": [
    "# Let's write a function that can use reel to make gifs\n",
    "function animate_record(rec_true::SceneRecord,rec_sim::SceneRecord,\n",
    "        roadway,dt::Float64)\n",
    "    duration =rec.nframes*dt\n",
    "    fps = Int(1/dt)\n",
    "    function render_rec(t, dt)\n",
    "        frame_index = Int(floor(t/dt)) + 1\n",
    "        ghost_overlay = veh_overlay(rec_true[frame_index-nframes(rec_sim)])\n",
    "        return render(rec_sim[frame_index-nframes(rec_sim)], roadway,\n",
    "            [ghost_overlay],canvas_height=100)\n",
    "    end\n",
    "    return duration, fps, render_rec\n",
    "end"
   ]
  },
  {
   "cell_type": "code",
   "execution_count": 20,
   "metadata": {},
   "outputs": [],
   "source": [
    "num_p = 100\n",
    "lane_place_array = [[(0.,10.)],[(0.,20.)],[(0.,15.)],[(0.,20.)],[(0.,20.)]]\n",
    "n_cars = 5\n",
    "d1 = Dict(:v_des=>10.0,:σ=>0.2);d2 = Dict(:v_des=>20.0,:σ=>0.3);d3 = Dict(:v_des=>15.0,:σ=>0.)\n",
    "d4 = Dict(:v_des=>18.0,:σ=>0.4);d5 = Dict(:v_des=>27.0,:σ=>0.2)\n",
    "car_particles = [d1,d2,d3,d4,d5]\n",
    "approach = \"cem\"\n",
    "\n",
    "particle_props = [(:v_des,10.,0.1,30.),(:σ,0.1,0.1,1.)]\n",
    "    scene,roadway = init_place_cars(lane_place_array)\n",
    "    rec = generate_truth_data(lane_place_array,car_particles)\n",
    "    f_end_num = length(rec.frames)\n",
    "    \n",
    "    bucket_array = initialize_carwise_particle_buckets(n_cars,num_p,particle_props)\n",
    "    for t in 1:f_end_num-1\n",
    "        #if t%10==0 @show t end\n",
    "        f = rec.frames[f_end_num - t + 1]\n",
    "\n",
    "        for car_id in 1:n_cars\n",
    "            old_p_set_dict = bucket_array[car_id]\n",
    "            trupos = rec.frames[f_end_num-t].entities[car_id].state.posF.s\n",
    "            new_p_set_dict = update_p_one_step(roadway,f,trupos,old_p_set_dict,\n",
    "                car_id=car_id,approach=approach)\n",
    "            bucket_array[car_id] = new_p_set_dict\n",
    "        end\n",
    "    end  \n",
    "    \n",
    "    # Estimation of parameters ends here. Now generate simulation\n",
    "    car_particles_sim = find_mean_particle_carwise(bucket_array)\n",
    "    sim_rec = generate_truth_data(lane_place_array,car_particles_sim);"
   ]
  },
  {
   "cell_type": "code",
   "execution_count": 21,
   "metadata": {},
   "outputs": [
    {
     "data": {
      "text/html": [
       "<video autoplay controls><source src=\"files/reel-16810766378473229849.webm?9674222370557358777\" type=\"video/webm\"></video>"
      ],
      "text/plain": [
       "Frames{MIME{Symbol(\"image/png\")}}(\"/tmp/tmpIzfSVl\", 0x0000000000000064, 10.0, nothing)"
      ]
     },
     "execution_count": 21,
     "metadata": {},
     "output_type": "execute_result"
    }
   ],
   "source": [
    "duration, fps, render_hist = animate_record(rec, sim_rec, roadway, \n",
    "    0.1)\n",
    "film = roll(render_hist, fps = fps, duration = duration)"
   ]
  },
  {
   "cell_type": "markdown",
   "metadata": {},
   "source": [
    "# Workspace"
   ]
  },
  {
   "cell_type": "code",
   "execution_count": 3,
   "metadata": {},
   "outputs": [
    {
     "data": {
      "text/html": [
       "<div class='display:none'></div><unsafe-script style='display:none'>\n",
       "WebIO.mount(this.previousSibling,{&quot;props&quot;:{},&quot;nodeType&quot;:&quot;DOM&quot;,&quot;type&quot;:&quot;node&quot;,&quot;instanceArgs&quot;:{&quot;namespace&quot;:&quot;html&quot;,&quot;tag&quot;:&quot;div&quot;},&quot;children&quot;:[{&quot;props&quot;:{&quot;className&quot;:&quot;field interact-widget&quot;},&quot;nodeType&quot;:&quot;DOM&quot;,&quot;type&quot;:&quot;node&quot;,&quot;instanceArgs&quot;:{&quot;namespace&quot;:&quot;html&quot;,&quot;tag&quot;:&quot;div&quot;},&quot;children&quot;:[{&quot;props&quot;:{},&quot;nodeType&quot;:&quot;Scope&quot;,&quot;type&quot;:&quot;node&quot;,&quot;instanceArgs&quot;:{&quot;imports&quot;:{&quot;data&quot;:[{&quot;name&quot;:&quot;knockout&quot;,&quot;type&quot;:&quot;js&quot;,&quot;url&quot;:&quot;/assetserver/73da892713aef6c3573fbc94b1cc804d8480db89-knockout.js&quot;},{&quot;name&quot;:&quot;knockout_punches&quot;,&quot;type&quot;:&quot;js&quot;,&quot;url&quot;:&quot;/assetserver/880348b26e69f87a3b2cb3df323ebb81d4fbeada-knockout_punches.js&quot;},{&quot;name&quot;:null,&quot;type&quot;:&quot;js&quot;,&quot;url&quot;:&quot;/assetserver/58de319cd610858cc5fac8d9b7f1f58839fc9c39-all.js&quot;},{&quot;name&quot;:null,&quot;type&quot;:&quot;css&quot;,&quot;url&quot;:&quot;/assetserver/d358d8555bec00365af6e8355e41e947986894cf-style.css&quot;},{&quot;name&quot;:null,&quot;type&quot;:&quot;css&quot;,&quot;url&quot;:&quot;/assetserver/b5f4df260dd6a42bcc8ac8608d67408d67ad40bb-main.css&quot;}],&quot;type&quot;:&quot;async_block&quot;},&quot;id&quot;:&quot;knockout-component-d2d7f920-effa-45d1-88d7-de1cd6433305&quot;,&quot;handlers&quot;:{&quot;_promises&quot;:{&quot;importsLoaded&quot;:[function (ko, koPunches) {\n",
       "    ko.punches.enableAll();\n",
       "    ko.bindingHandlers.numericValue = {\n",
       "        init : function(element, valueAccessor, allBindings, data, context) {\n",
       "            var stringified = ko.observable(ko.unwrap(valueAccessor()));\n",
       "            stringified.subscribe(function(value) {\n",
       "                var val = parseFloat(value);\n",
       "                if (!isNaN(val)) {\n",
       "                    valueAccessor()(val);\n",
       "                }\n",
       "            })\n",
       "            valueAccessor().subscribe(function(value) {\n",
       "                var str = JSON.stringify(value);\n",
       "                if ((str == &quot;0&quot;) &amp;&amp; ([&quot;-0&quot;, &quot;-0.&quot;].indexOf(stringified()) &gt;= 0))\n",
       "                     return;\n",
       "                 if ([&quot;null&quot;, &quot;&quot;].indexOf(str) &gt;= 0)\n",
       "                     return;\n",
       "                stringified(str);\n",
       "            })\n",
       "            ko.applyBindingsToNode(element, { value: stringified, valueUpdate: allBindings.get(&#39;valueUpdate&#39;)}, context);\n",
       "        }\n",
       "    };\n",
       "    var json_data = JSON.parse(&quot;{\\&quot;formatted_vals\\&quot;:[\\&quot;1\\&quot;,\\&quot;2\\&quot;,\\&quot;3\\&quot;,\\&quot;4\\&quot;,\\&quot;5\\&quot;,\\&quot;6\\&quot;,\\&quot;7\\&quot;,\\&quot;8\\&quot;,\\&quot;9\\&quot;,\\&quot;10\\&quot;,\\&quot;11\\&quot;,\\&quot;12\\&quot;,\\&quot;13\\&quot;,\\&quot;14\\&quot;,\\&quot;15\\&quot;,\\&quot;16\\&quot;,\\&quot;17\\&quot;,\\&quot;18\\&quot;,\\&quot;19\\&quot;,\\&quot;20\\&quot;,\\&quot;21\\&quot;,\\&quot;22\\&quot;,\\&quot;23\\&quot;,\\&quot;24\\&quot;,\\&quot;25\\&quot;,\\&quot;26\\&quot;,\\&quot;27\\&quot;,\\&quot;28\\&quot;,\\&quot;29\\&quot;,\\&quot;30\\&quot;,\\&quot;31\\&quot;,\\&quot;32\\&quot;,\\&quot;33\\&quot;,\\&quot;34\\&quot;,\\&quot;35\\&quot;,\\&quot;36\\&quot;,\\&quot;37\\&quot;,\\&quot;38\\&quot;,\\&quot;39\\&quot;,\\&quot;40\\&quot;,\\&quot;41\\&quot;,\\&quot;42\\&quot;,\\&quot;43\\&quot;,\\&quot;44\\&quot;,\\&quot;45\\&quot;,\\&quot;46\\&quot;,\\&quot;47\\&quot;,\\&quot;48\\&quot;,\\&quot;49\\&quot;,\\&quot;50\\&quot;,\\&quot;51\\&quot;,\\&quot;52\\&quot;,\\&quot;53\\&quot;,\\&quot;54\\&quot;,\\&quot;55\\&quot;,\\&quot;56\\&quot;,\\&quot;57\\&quot;,\\&quot;58\\&quot;,\\&quot;59\\&quot;,\\&quot;60\\&quot;,\\&quot;61\\&quot;,\\&quot;62\\&quot;,\\&quot;63\\&quot;,\\&quot;64\\&quot;,\\&quot;65\\&quot;,\\&quot;66\\&quot;,\\&quot;67\\&quot;,\\&quot;68\\&quot;,\\&quot;69\\&quot;,\\&quot;70\\&quot;,\\&quot;71\\&quot;,\\&quot;72\\&quot;,\\&quot;73\\&quot;,\\&quot;74\\&quot;,\\&quot;75\\&quot;,\\&quot;76\\&quot;,\\&quot;77\\&quot;,\\&quot;78\\&quot;,\\&quot;79\\&quot;,\\&quot;80\\&quot;,\\&quot;81\\&quot;,\\&quot;82\\&quot;,\\&quot;83\\&quot;,\\&quot;84\\&quot;,\\&quot;85\\&quot;,\\&quot;86\\&quot;,\\&quot;87\\&quot;,\\&quot;88\\&quot;,\\&quot;89\\&quot;,\\&quot;90\\&quot;,\\&quot;91\\&quot;,\\&quot;92\\&quot;,\\&quot;93\\&quot;,\\&quot;94\\&quot;,\\&quot;95\\&quot;,\\&quot;96\\&quot;,\\&quot;97\\&quot;,\\&quot;98\\&quot;,\\&quot;99\\&quot;,\\&quot;100\\&quot;],\\&quot;changes\\&quot;:0,\\&quot;indexString\\&quot;:\\&quot;50\\&quot;,\\&quot;index\\&quot;:50}&quot;);\n",
       "    var self = this;\n",
       "    function AppViewModel() {\n",
       "        for (var key in json_data) {\n",
       "            var el = json_data[key];\n",
       "            this[key] = Array.isArray(el) ? ko.observableArray(el) : ko.observable(el);\n",
       "        }\n",
       "        \n",
       "        [this[&quot;formatted_val&quot;]=ko.computed(    function(){\n",
       "        return this.formatted_vals()[parseInt(this.index())-1];\n",
       "    }\n",
       ",this)]\n",
       "        [this[&quot;changes&quot;].subscribe((function (val){!(this.valueFromJulia[&quot;changes&quot;]) ? (WebIO.setval({&quot;name&quot;:&quot;changes&quot;,&quot;scope&quot;:&quot;knockout-component-d2d7f920-effa-45d1-88d7-de1cd6433305&quot;,&quot;id&quot;:&quot;ob_02&quot;,&quot;type&quot;:&quot;observable&quot;},val)) : undefined; return this.valueFromJulia[&quot;changes&quot;]=false}),self),this[&quot;indexString&quot;].subscribe((function (val){!(this.valueFromJulia[&quot;indexString&quot;]) ? (WebIO.setval({&quot;name&quot;:&quot;indexString&quot;,&quot;scope&quot;:&quot;knockout-component-d2d7f920-effa-45d1-88d7-de1cd6433305&quot;,&quot;id&quot;:&quot;ob_03&quot;,&quot;type&quot;:&quot;observable&quot;},val)) : undefined; return this.valueFromJulia[&quot;indexString&quot;]=false}),self),this[&quot;index&quot;].subscribe((function (val){!(this.valueFromJulia[&quot;index&quot;]) ? (WebIO.setval({&quot;name&quot;:&quot;index&quot;,&quot;scope&quot;:&quot;knockout-component-d2d7f920-effa-45d1-88d7-de1cd6433305&quot;,&quot;id&quot;:&quot;ob_01&quot;,&quot;type&quot;:&quot;observable&quot;},val)) : undefined; return this.valueFromJulia[&quot;index&quot;]=false}),self)]\n",
       "                var obs = this.index;\n",
       "    var obsString = this.indexString;\n",
       "    obsString.subscribe(function(value) {\n",
       "        var val = parseFloat(value);\n",
       "        if (!isNaN(val)) {\n",
       "            obs(val);\n",
       "        }\n",
       "    })\n",
       "    obs.subscribe(function(value) {\n",
       "        var str = JSON.stringify(value);\n",
       "        if ((str == &quot;0&quot;) &amp;&amp; ([&quot;-0&quot;, &quot;-0.&quot;].indexOf(obsString()) &gt;= 0))\n",
       "             return;\n",
       "         if ([&quot;null&quot;, &quot;&quot;].indexOf(str) &gt;= 0)\n",
       "             return;\n",
       "        obsString(str);\n",
       "    })\n",
       "\n",
       "    \n",
       "\n",
       "    }\n",
       "    self.model = new AppViewModel();\n",
       "    self.valueFromJulia = {};\n",
       "    for (var key in json_data) {\n",
       "        self.valueFromJulia[key] = false;\n",
       "    }\n",
       "    ko.applyBindings(self.model, self.dom);\n",
       "}\n",
       "]},&quot;changes&quot;:[(function (val){return (val!=this.model[&quot;changes&quot;]()) ? (this.valueFromJulia[&quot;changes&quot;]=true, this.model[&quot;changes&quot;](val)) : undefined})],&quot;indexString&quot;:[(function (val){return (val!=this.model[&quot;indexString&quot;]()) ? (this.valueFromJulia[&quot;indexString&quot;]=true, this.model[&quot;indexString&quot;](val)) : undefined})],&quot;index&quot;:[(function (val){return (val!=this.model[&quot;index&quot;]()) ? (this.valueFromJulia[&quot;index&quot;]=true, this.model[&quot;index&quot;](val)) : undefined})]},&quot;systemjs_options&quot;:null,&quot;observables&quot;:{&quot;changes&quot;:{&quot;sync&quot;:false,&quot;id&quot;:&quot;ob_02&quot;,&quot;value&quot;:0},&quot;indexString&quot;:{&quot;sync&quot;:false,&quot;id&quot;:&quot;ob_03&quot;,&quot;value&quot;:&quot;50&quot;},&quot;index&quot;:{&quot;sync&quot;:true,&quot;id&quot;:&quot;ob_01&quot;,&quot;value&quot;:50}}},&quot;children&quot;:[{&quot;props&quot;:{&quot;className&quot;:&quot;interact-flex-row interact-widget&quot;},&quot;nodeType&quot;:&quot;DOM&quot;,&quot;type&quot;:&quot;node&quot;,&quot;instanceArgs&quot;:{&quot;namespace&quot;:&quot;html&quot;,&quot;tag&quot;:&quot;div&quot;},&quot;children&quot;:[{&quot;props&quot;:{&quot;className&quot;:&quot;interact-flex-row-left&quot;},&quot;nodeType&quot;:&quot;DOM&quot;,&quot;type&quot;:&quot;node&quot;,&quot;instanceArgs&quot;:{&quot;namespace&quot;:&quot;html&quot;,&quot;tag&quot;:&quot;div&quot;},&quot;children&quot;:[{&quot;props&quot;:{&quot;className&quot;:&quot;interact &quot;,&quot;style&quot;:{&quot;padding&quot;:&quot;5px 10px 0px 10px&quot;}},&quot;nodeType&quot;:&quot;DOM&quot;,&quot;type&quot;:&quot;node&quot;,&quot;instanceArgs&quot;:{&quot;namespace&quot;:&quot;html&quot;,&quot;tag&quot;:&quot;label&quot;},&quot;children&quot;:[&quot;frame_index&quot;]}]},{&quot;props&quot;:{&quot;className&quot;:&quot;interact-flex-row-center&quot;},&quot;nodeType&quot;:&quot;DOM&quot;,&quot;type&quot;:&quot;node&quot;,&quot;instanceArgs&quot;:{&quot;namespace&quot;:&quot;html&quot;,&quot;tag&quot;:&quot;div&quot;},&quot;children&quot;:[{&quot;props&quot;:{&quot;max&quot;:100,&quot;min&quot;:1,&quot;attributes&quot;:{&quot;type&quot;:&quot;range&quot;,&quot;data-bind&quot;:&quot;value: indexString, valueUpdate: &#39;input&#39;, event: {change: function (){this.changes(this.changes()+1)}}&quot;,&quot;orient&quot;:&quot;horizontal&quot;},&quot;step&quot;:1,&quot;className&quot;:&quot;slider slider is-fullwidth&quot;,&quot;style&quot;:{}},&quot;nodeType&quot;:&quot;DOM&quot;,&quot;type&quot;:&quot;node&quot;,&quot;instanceArgs&quot;:{&quot;namespace&quot;:&quot;html&quot;,&quot;tag&quot;:&quot;input&quot;},&quot;children&quot;:[]}]},{&quot;props&quot;:{&quot;className&quot;:&quot;interact-flex-row-right&quot;},&quot;nodeType&quot;:&quot;DOM&quot;,&quot;type&quot;:&quot;node&quot;,&quot;instanceArgs&quot;:{&quot;namespace&quot;:&quot;html&quot;,&quot;tag&quot;:&quot;div&quot;},&quot;children&quot;:[{&quot;props&quot;:{&quot;attributes&quot;:{&quot;data-bind&quot;:&quot;text: formatted_val&quot;}},&quot;nodeType&quot;:&quot;DOM&quot;,&quot;type&quot;:&quot;node&quot;,&quot;instanceArgs&quot;:{&quot;namespace&quot;:&quot;html&quot;,&quot;tag&quot;:&quot;p&quot;},&quot;children&quot;:[]}]}]}]}]},{&quot;props&quot;:{},&quot;nodeType&quot;:&quot;Scope&quot;,&quot;type&quot;:&quot;node&quot;,&quot;instanceArgs&quot;:{&quot;imports&quot;:{&quot;data&quot;:[],&quot;type&quot;:&quot;async_block&quot;},&quot;id&quot;:&quot;scope-bab56b75-2081-4683-8365-36106ce7c528&quot;,&quot;handlers&quot;:{&quot;obs-output&quot;:[function (updated_htmlstr) {\n",
       "    var el = this.dom.querySelector(&quot;#out&quot;);\n",
       "    WebIO.propUtils.setInnerHtml(el, updated_htmlstr);\n",
       "}]},&quot;systemjs_options&quot;:null,&quot;observables&quot;:{&quot;obs-output&quot;:{&quot;sync&quot;:false,&quot;id&quot;:&quot;ob_07&quot;,&quot;value&quot;:&quot;&lt;div class=&#39;display:none&#39;&gt;&lt;/div&gt;&lt;unsafe-script style=&#39;display:none&#39;&gt;\\nWebIO.mount(this.previousSibling,{&amp;quot;props&amp;quot;:{&amp;quot;className&amp;quot;:&amp;quot;interact-flex-row interact-widget&amp;quot;},&amp;quot;nodeType&amp;quot;:&amp;quot;DOM&amp;quot;,&amp;quot;type&amp;quot;:&amp;quot;node&amp;quot;,&amp;quot;instanceArgs&amp;quot;:{&amp;quot;namespace&amp;quot;:&amp;quot;html&amp;quot;,&amp;quot;tag&amp;quot;:&amp;quot;div&amp;quot;},&amp;quot;children&amp;quot;:[{&amp;quot;props&amp;quot;:{&amp;quot;setInnerHtml&amp;quot;:&amp;quot;&amp;lt;img src=&amp;#39;data:image/png;base64,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&amp;#39;&amp;gt;&amp;lt;/img&amp;gt;&amp;quot;},&amp;quot;nodeType&amp;quot;:&amp;quot;DOM&amp;quot;,&amp;quot;type&amp;quot;:&amp;quot;node&amp;quot;,&amp;quot;instanceArgs&amp;quot;:{&amp;quot;namespace&amp;quot;:&amp;quot;html&amp;quot;,&amp;quot;tag&amp;quot;:&amp;quot;div&amp;quot;},&amp;quot;children&amp;quot;:[]}]})&lt;/unsafe-script&gt;&quot;}}},&quot;children&quot;:[{&quot;props&quot;:{&quot;id&quot;:&quot;out&quot;,&quot;setInnerHtml&quot;:&quot;&lt;div class=&#39;display:none&#39;&gt;&lt;/div&gt;&lt;unsafe-script style=&#39;display:none&#39;&gt;\\nWebIO.mount(this.previousSibling,{&amp;quot;props&amp;quot;:{&amp;quot;className&amp;quot;:&amp;quot;interact-flex-row interact-widget&amp;quot;},&amp;quot;nodeType&amp;quot;:&amp;quot;DOM&amp;quot;,&amp;quot;type&amp;quot;:&amp;quot;node&amp;quot;,&amp;quot;instanceArgs&amp;quot;:{&amp;quot;namespace&amp;quot;:&amp;quot;html&amp;quot;,&amp;quot;tag&amp;quot;:&amp;quot;div&amp;quot;},&amp;quot;children&amp;quot;:[{&amp;quot;props&amp;quot;:{&amp;quot;setInnerHtml&amp;quot;:&amp;quot;&amp;lt;img src=&amp;#39;data:image/png;base64,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&amp;#39;&amp;gt;&amp;lt;/img&amp;gt;&amp;quot;},&amp;quot;nodeType&amp;quot;:&amp;quot;DOM&amp;quot;,&amp;quot;type&amp;quot;:&amp;quot;node&amp;quot;,&amp;quot;instanceArgs&amp;quot;:{&amp;quot;namespace&amp;quot;:&amp;quot;html&amp;quot;,&amp;quot;tag&amp;quot;:&amp;quot;div&amp;quot;},&amp;quot;children&amp;quot;:[]}]})&lt;/unsafe-script&gt;&quot;},&quot;nodeType&quot;:&quot;DOM&quot;,&quot;type&quot;:&quot;node&quot;,&quot;instanceArgs&quot;:{&quot;namespace&quot;:&quot;html&quot;,&quot;tag&quot;:&quot;div&quot;},&quot;children&quot;:[]}]}]})</unsafe-script>"
      ],
      "text/plain": [
       "Node{WebIO.DOM}(WebIO.DOM(:html, :div), Any[Node{DOM}(DOM(:html, :div), Any[Scope(\"knockout-component-d2d7f920-effa-45d1-88d7-de1cd6433305\", Node{DOM}(DOM(:html, :div), Any[Node{DOM}(DOM(:html, :div), Any[Node{DOM}(DOM(:html, :label), Any[\"frame_index\"], Dict{Symbol,Any}(:className=>\"interact \",:style=>Dict{Any,Any}(:padding=>\"5px 10px 0px 10px\")), 1)], Dict{Symbol,Any}(:className=>\"interact-flex-row-left\"), 2), Node{DOM}(DOM(:html, :div), Any[Node{DOM}(DOM(:html, :input), Any[], Dict{Symbol,Any}(:max=>100,:min=>1,:attributes=>Dict{Any,Any}(:type=>\"range\",Symbol(\"data-bind\")=>\"value: indexString, valueUpdate: 'input', event: {change: function (){this.changes(this.changes()+1)}}\",\"orient\"=>\"horizontal\"),:step=>1,:className=>\"slider slider is-fullwidth\",:style=>Dict{Any,Any}()), 0)], Dict{Symbol,Any}(:className=>\"interact-flex-row-center\"), 1), Node{DOM}(DOM(:html, :div), Any[Node{DOM}(DOM(:html, :p), Any[], Dict{Symbol,Any}(:attributes=>Dict(\"data-bind\"=>\"text: formatted_val\")), 0)], Dict{Symbol,Any}(:className=>\"interact-flex-row-right\"), 1)], Dict{Symbol,Any}(:className=>\"interact-flex-row interact-widget\"), 7), Dict{String,Tuple{Observables.AbstractObservable,Union{Nothing, Bool}}}(\"changes\"=>(Observable{Int64} with 1 listeners. Value:\n",
       "0, nothing),\"indexString\"=>(Observable{String} with 1 listeners. Value:\n",
       "\"50\", nothing),\"index\"=>(Observable{Int64} with 2 listeners. Value:\n",
       "50, nothing)), Set(String[]), nothing, Any[\"knockout\"=>\"/home/raunak/.julia/packages/Knockout/fe7U3/src/../assets/knockout.js\", \"knockout_punches\"=>\"/home/raunak/.julia/packages/Knockout/fe7U3/src/../assets/knockout_punches.js\", \"/home/raunak/.julia/packages/InteractBase/jyXKw/src/../assets/all.js\", \"/home/raunak/.julia/packages/InteractBase/jyXKw/src/../assets/style.css\", \"/home/raunak/.julia/packages/InteractBulma/PH56C/src/../assets/main.css\"], Dict{Any,Any}(\"_promises\"=>Dict{Any,Any}(\"importsLoaded\"=>Any[JSString(\"function (ko, koPunches) {\\n    ko.punches.enableAll();\\n    ko.bindingHandlers.numericValue = {\\n        init : function(element, valueAccessor, allBindings, data, context) {\\n            var stringified = ko.observable(ko.unwrap(valueAccessor()));\\n            stringified.subscribe(function(value) {\\n                var val = parseFloat(value);\\n                if (!isNaN(val)) {\\n                    valueAccessor()(val);\\n                }\\n            })\\n            valueAccessor().subscribe(function(value) {\\n                var str = JSON.stringify(value);\\n                if ((str == \\\"0\\\") && ([\\\"-0\\\", \\\"-0.\\\"].indexOf(stringified()) >= 0))\\n                     return;\\n                 if ([\\\"null\\\", \\\"\\\"].indexOf(str) >= 0)\\n                     return;\\n                stringified(str);\\n            })\\n            ko.applyBindingsToNode(element, { value: stringified, valueUpdate: allBindings.get('valueUpdate')}, context);\\n        }\\n    };\\n    var json_data = JSON.parse(\\\"{\\\\\\\"formatted_vals\\\\\\\":[\\\\\\\"1\\\\\\\",\\\\\\\"2\\\\\\\",\\\\\\\"3\\\\\\\",\\\\\\\"4\\\\\\\",\\\\\\\"5\\\\\\\",\\\\\\\"6\\\\\\\",\\\\\\\"7\\\\\\\",\\\\\\\"8\\\\\\\",\\\\\\\"9\\\\\\\",\\\\\\\"10\\\\\\\",\\\\\\\"11\\\\\\\",\\\\\\\"12\\\\\\\",\\\\\\\"13\\\\\\\",\\\\\\\"14\\\\\\\",\\\\\\\"15\\\\\\\",\\\\\\\"16\\\\\\\",\\\\\\\"17\\\\\\\",\\\\\\\"18\\\\\\\",\\\\\\\"19\\\\\\\",\\\\\\\"20\\\\\\\",\\\\\\\"21\\\\\\\",\\\\\\\"22\\\\\\\",\\\\\\\"23\\\\\\\",\\\\\\\"24\\\\\\\",\\\\\\\"25\\\\\\\",\\\\\\\"26\\\\\\\",\\\\\\\"27\\\\\\\",\\\\\\\"28\\\\\\\",\\\\\\\"29\\\\\\\",\\\\\\\"30\\\\\\\",\\\\\\\"31\\\\\\\",\\\\\\\"32\\\\\\\",\\\\\\\"33\\\\\\\",\\\\\\\"34\\\\\\\",\\\\\\\"35\\\\\\\",\\\\\\\"36\\\\\\\",\\\\\\\"37\\\\\\\",\\\\\\\"38\\\\\\\",\\\\\\\"39\\\\\\\",\\\\\\\"40\\\\\\\",\\\\\\\"41\\\\\\\",\\\\\\\"42\\\\\\\",\\\\\\\"43\\\\\\\",\\\\\\\"44\\\\\\\",\\\\\\\"45\\\\\\\",\\\\\\\"46\\\\\\\",\\\\\\\"47\\\\\\\",\\\\\\\"48\\\\\\\",\\\\\\\"49\\\\\\\",\\\\\\\"50\\\\\\\",\\\\\\\"51\\\\\\\",\\\\\\\"52\\\\\\\",\\\\\\\"53\\\\\\\",\\\\\\\"54\\\\\\\",\\\\\\\"55\\\\\\\",\\\\\\\"56\\\\\\\",\\\\\\\"57\\\\\\\",\\\\\\\"58\\\\\\\",\\\\\\\"59\\\\\\\",\\\\\\\"60\\\\\\\",\\\\\\\"61\\\\\\\",\\\\\\\"62\\\\\\\",\\\\\\\"63\\\\\\\",\\\\\\\"64\\\\\\\",\\\\\\\"65\\\\\\\",\\\\\\\"66\\\\\\\",\\\\\\\"67\\\\\\\",\\\\\\\"68\\\\\\\",\\\\\\\"69\\\\\\\",\\\\\\\"70\\\\\\\",\\\\\\\"71\\\\\\\",\\\\\\\"72\\\\\\\",\\\\\\\"73\\\\\\\",\\\\\\\"74\\\\\\\",\\\\\\\"75\\\\\\\",\\\\\\\"76\\\\\\\",\\\\\\\"77\\\\\\\",\\\\\\\"78\\\\\\\",\\\\\\\"79\\\\\\\",\\\\\\\"80\\\\\\\",\\\\\\\"81\\\\\\\",\\\\\\\"82\\\\\\\",\\\\\\\"83\\\\\\\",\\\\\\\"84\\\\\\\",\\\\\\\"85\\\\\\\",\\\\\\\"86\\\\\\\",\\\\\\\"87\\\\\\\",\\\\\\\"88\\\\\\\",\\\\\\\"89\\\\\\\",\\\\\\\"90\\\\\\\",\\\\\\\"91\\\\\\\",\\\\\\\"92\\\\\\\",\\\\\\\"93\\\\\\\",\\\\\\\"94\\\\\\\",\\\\\\\"95\\\\\\\",\\\\\\\"96\\\\\\\",\\\\\\\"97\\\\\\\",\\\\\\\"98\\\\\\\",\\\\\\\"99\\\\\\\",\\\\\\\"100\\\\\\\"],\\\\\\\"changes\\\\\\\":0,\\\\\\\"indexString\\\\\\\":\\\\\\\"50\\\\\\\",\\\\\\\"index\\\\\\\":50}\\\");\\n    var self = this;\\n    function AppViewModel() {\\n        for (var key in json_data) {\\n            var el = json_data[key];\\n            this[key] = Array.isArray(el) ? ko.observableArray(el) : ko.observable(el);\\n        }\\n        \\n        [this[\\\"formatted_val\\\"]=ko.computed(    function(){\\n        return this.formatted_vals()[parseInt(this.index())-1];\\n    }\\n,this)]\\n        [this[\\\"changes\\\"].subscribe((function (val){!(this.valueFromJulia[\\\"changes\\\"]) ? (WebIO.setval({\\\"name\\\":\\\"changes\\\",\\\"scope\\\":\\\"knockout-component-d2d7f920-effa-45d1-88d7-de1cd6433305\\\",\\\"id\\\":\\\"ob_02\\\",\\\"type\\\":\\\"observable\\\"},val)) : undefined; return this.valueFromJulia[\\\"changes\\\"]=false}),self),this[\\\"indexString\\\"].subscribe((function (val){!(this.valueFromJulia[\\\"indexString\\\"]) ? (WebIO.setval({\\\"name\\\":\\\"indexString\\\",\\\"scope\\\":\\\"knockout-component-d2d7f920-effa-45d1-88d7-de1cd6433305\\\",\\\"id\\\":\\\"ob_03\\\",\\\"type\\\":\\\"observable\\\"},val)) : undefined; return this.valueFromJulia[\\\"indexString\\\"]=false}),self),this[\\\"index\\\"].subscribe((function (val){!(this.valueFromJulia[\\\"index\\\"]) ? (WebIO.setval({\\\"name\\\":\\\"index\\\",\\\"scope\\\":\\\"knockout-component-d2d7f920-effa-45d1-88d7-de1cd6433305\\\",\\\"id\\\":\\\"ob_01\\\",\\\"type\\\":\\\"observable\\\"},val)) : undefined; return this.valueFromJulia[\\\"index\\\"]=false}),self)]\\n                var obs = this.index;\\n    var obsString = this.indexString;\\n    obsString.subscribe(function(value) {\\n        var val = parseFloat(value);\\n        if (!isNaN(val)) {\\n            obs(val);\\n        }\\n    })\\n    obs.subscribe(function(value) {\\n        var str = JSON.stringify(value);\\n        if ((str == \\\"0\\\") && ([\\\"-0\\\", \\\"-0.\\\"].indexOf(obsString()) >= 0))\\n             return;\\n         if ([\\\"null\\\", \\\"\\\"].indexOf(str) >= 0)\\n             return;\\n        obsString(str);\\n    })\\n\\n    \\n\\n    }\\n    self.model = new AppViewModel();\\n    self.valueFromJulia = {};\\n    for (var key in json_data) {\\n        self.valueFromJulia[key] = false;\\n    }\\n    ko.applyBindings(self.model, self.dom);\\n}\\n\")]),\"changes\"=>Any[JSString(\"(function (val){return (val!=this.model[\\\"changes\\\"]()) ? (this.valueFromJulia[\\\"changes\\\"]=true, this.model[\\\"changes\\\"](val)) : undefined})\")],\"indexString\"=>Any[JSString(\"(function (val){return (val!=this.model[\\\"indexString\\\"]()) ? (this.valueFromJulia[\\\"indexString\\\"]=true, this.model[\\\"indexString\\\"](val)) : undefined})\")],\"index\"=>Any[JSString(\"(function (val){return (val!=this.model[\\\"index\\\"]()) ? (this.valueFromJulia[\\\"index\\\"]=true, this.model[\\\"index\\\"](val)) : undefined})\")]), ConnectionPool(Channel{Any}(sz_max:9223372036854775807,sz_curr:3), Set(AbstractConnection[]), Channel{AbstractConnection}(sz_max:32,sz_curr:0)))], Dict{Symbol,Any}(:className=>\"field interact-widget\"), 1), Observable{Any} with 0 listeners. Value:\n",
       "Node{DOM}(DOM(:html, :div), Any[CairoSurfaceBase{UInt32}(Ptr{Nothing} @0x0000000004b1ce90, 1000.0, 100.0)], Dict{Symbol,Any}(:className=>\"interact-flex-row interact-widget\"), 1)], Dict{Symbol,Any}(), 2)"
      ]
     },
     "execution_count": 3,
     "metadata": {},
     "output_type": "execute_result"
    }
   ],
   "source": [
    "num_particles = 100\n",
    "lane_place_array = [[(0.,10.)],[(0.,20.)],[(0.,15.)],[(0.,20.)],[(0.,20.)]]\n",
    "num_cars = 5\n",
    "d1 = Dict(:v_des=>10.0,:σ=>0.2);d2 = Dict(:v_des=>20.0,:σ=>0.3);d3 = Dict(:v_des=>15.0,:σ=>0.)\n",
    "d4 = Dict(:v_des=>18.0,:σ=>0.4);d5 = Dict(:v_des=>27.0,:σ=>0.2)\n",
    "car_particles = [d1,d2,d3,d4,d5]\n",
    "\n",
    "particle_props = [(:v_des,10.,0.1,30.),(:σ,0.1,0.1,1.)]\n",
    "estimate_then_make_video(num_particles,num_cars,lane_place_array,\n",
    "    car_particles,particle_props,approach=\"cem\")"
   ]
  },
  {
   "cell_type": "code",
   "execution_count": null,
   "metadata": {},
   "outputs": [],
   "source": [
    "num_particles = 100\n",
    "lane_place_array = [[(0.,10.)],[(0.,20.)],[(0.,15.)],[(0.,20.)],[(0.,20.)]]\n",
    "num_cars = 5\n",
    "d1 = Dict(:v_des=>10.0,:σ=>0.2);d2 = Dict(:v_des=>20.0,:σ=>0.3);d3 = Dict(:v_des=>15.0,:σ=>0.)\n",
    "d4 = Dict(:v_des=>18.0,:σ=>0.4);d5 = Dict(:v_des=>27.0,:σ=>0.2)\n",
    "car_particles = [d1,d2,d3,d4,d5]\n",
    "\n",
    "particle_props = [(:v_des,10.,0.1,30.),(:σ,0.1,0.1,1.)]\n",
    "rmse_pos_array_cem = estimate_then_evaluate_imitation(num_particles,num_cars,lane_place_array,\n",
    "    car_particles,particle_props,approach=\"cem\")\n",
    "rmse_pos_array_pf = estimate_then_evaluate_imitation(num_particles,num_cars,lane_place_array,\n",
    "    car_particles,particle_props,approach=\"pf\")\n",
    "plot(rmse_pos_array_cem,label=\"cem\")\n",
    "plot(rmse_pos_array_pf,label=\"pf\")\n",
    "legend()\n",
    "xlabel(\"timestep\")\n",
    "ylabel(\"rmse position\")"
   ]
  },
  {
   "cell_type": "markdown",
   "metadata": {},
   "source": [
    "# Recent Work"
   ]
  },
  {
   "cell_type": "code",
   "execution_count": null,
   "metadata": {},
   "outputs": [],
   "source": [
    "# 5 cars adjacent lanes scenario with 3 parameters\n",
    "# Parameter wise result plotting with both cem and pf in same plot\n",
    "num_particles = 100\n",
    "lane_place_array = [[(0.,10.)],[(0.,20.)],[(0.,15.)],[(0.,20.)],[(0.,20.)]]\n",
    "num_cars = 5\n",
    "d1 = Dict(:v_des=>10.0,:σ=>0.2,:T=>1.5);d2 = Dict(:v_des=>20.0,:σ=>0.3,:T=>1.5);\n",
    "d3 = Dict(:v_des=>15.0,:σ=>0.,:T=>1.5);d4 = Dict(:v_des=>18.0,:σ=>0.4,:T=>1.5);\n",
    "d5 = Dict(:v_des=>27.0,:σ=>0.2,:T=>1.5)\n",
    "car_particles = [d1,d2,d3,d4,d5]\n",
    "\n",
    "particle_props = [(:v_des,10.,0.1,30.),(:σ,0.1,0.1,1.),(:T,0.1,0.1,5.)]\n",
    "rmse_array_pf = capture_filtering_progress_paramwise(num_particles,num_cars,lane_place_array,\n",
    "    car_particles,particle_props,approach=\"pf\")\n",
    "rmse_array_cem = capture_filtering_progress_paramwise(num_particles,num_cars,lane_place_array,\n",
    "    car_particles,particle_props,approach=\"cem\");\n",
    "pf_array = combine_array_dicts(rmse_array_pf);\n",
    "cem_array = combine_array_dicts(rmse_array_cem);\n",
    "res = combine_exp_results_dicts([:cem,:pf],[cem_array,pf_array])\n",
    "plot_dict(res)\n",
    "xlabel(\"timestep\")\n",
    "ylabel(\"absolute deviation\");"
   ]
  },
  {
   "cell_type": "code",
   "execution_count": null,
   "metadata": {},
   "outputs": [],
   "source": [
    "# 2 cars in the same lane scenario with 3 parameters\n",
    "# Parameter wise result plotting with both cem and pf in same plot\n",
    "num_particles = 100\n",
    "pos_vel_array_1 = [(30.,18.),(10.,12.)]\n",
    "lane_place_array = [pos_vel_array_1]\n",
    "num_cars = 2\n",
    "d1 = Dict(:v_des=>20.0,:σ=>0.1,:T=>1.5);d2 = Dict(:v_des=>10.0,:σ=>0.1,:T=>1.5)\n",
    "car_particles = [d1,d2]\n",
    "particle_props = [(:v_des,10.,0.1,30.),(:σ,0.1,0.1,1.),(:T,0.1,0.1,5.)]\n",
    "rmse_array_pf = capture_filtering_progress_paramwise(num_particles,num_cars,lane_place_array,\n",
    "    car_particles,particle_props,approach=\"pf\")\n",
    "rmse_array_cem = capture_filtering_progress_paramwise(num_particles,num_cars,lane_place_array,\n",
    "    car_particles,particle_props,approach=\"cem\");\n",
    "\n",
    "pf_array = combine_array_dicts(rmse_array_pf);\n",
    "cem_array = combine_array_dicts(rmse_array_cem);\n",
    "res = combine_exp_results_dicts([:cem,:pf],[cem_array,pf_array])\n",
    "plot_dict(res)\n",
    "xlabel(\"timestep\")\n",
    "ylabel(\"absolute deviation\");"
   ]
  },
  {
   "cell_type": "markdown",
   "metadata": {},
   "source": [
    "# Legacy"
   ]
  },
  {
   "cell_type": "code",
   "execution_count": null,
   "metadata": {},
   "outputs": [],
   "source": [
    "# 5 cars adjacent lanes scenario with 2 parameters\n",
    "# Combines all paramters into one mean error metric and plots that\n",
    "# Cem and pf appear as different lines on the plot\n",
    "num_particles = 100\n",
    "lane_place_array = [[(0.,10.)],[(0.,20.)],[(0.,15.)],[(0.,20.)],[(0.,20.)]]\n",
    "num_cars = 5\n",
    "d1 = Dict(:v_des=>10.0,:σ=>0.2);d2 = Dict(:v_des=>20.0,:σ=>0.3);d3 = Dict(:v_des=>15.0,:σ=>0.)\n",
    "d4 = Dict(:v_des=>18.0,:σ=>0.4);d5 = Dict(:v_des=>27.0,:σ=>0.2)\n",
    "car_particles = [d1,d2,d3,d4,d5]\n",
    "\n",
    "particle_props = [(:v_des,10.,0.1,30.),(:σ,0.1,0.1,1.)]\n",
    "rmse_array_pf = capture_filtering_progress(num_particles,num_cars,lane_place_array,\n",
    "    car_particles,particle_props,approach=\"pf\")\n",
    "rmse_array_cem = capture_filtering_progress(num_particles,num_cars,lane_place_array,\n",
    "    car_particles,particle_props,approach=\"cem\")\n",
    "plot(rmse_array_pf,label=\"particle filter\")\n",
    "plot(rmse_array_cem,label=\"cross entropy method\")\n",
    "legend()\n",
    "xlabel(\"Timestep along true data trajectory\")\n",
    "ylabel(\"Mean parameter error\")"
   ]
  },
  {
   "cell_type": "code",
   "execution_count": null,
   "metadata": {},
   "outputs": [],
   "source": [
    "# 2 cars in the same lane scenario with 2 parameters\n",
    "num_particles = 100\n",
    "pos_vel_array_1 = [(30.,15.),(10.,15.)]\n",
    "lane_place_array = [pos_vel_array_1]\n",
    "num_cars = 2\n",
    "d1 = Dict(:v_des=>20.0,:σ=>0.1);d2 = Dict(:v_des=>10.0,:σ=>0.1)\n",
    "car_particles = [d1,d2]\n",
    "particle_props = [(:v_des,10.,0.1,30.),(:σ,0.1,0.1,1.)]\n",
    "bucket_array = filter_particles_over_trajectory(num_particles,num_cars,lane_place_array,\n",
    "    car_particles,particle_props,approach=\"cem\")\n",
    "print_buckets_mean(bucket_array)"
   ]
  },
  {
   "cell_type": "code",
   "execution_count": null,
   "metadata": {},
   "outputs": [],
   "source": [
    "# 5 cars adjacent lanes scenario with 2 parameters\n",
    "num_particles = 100\n",
    "lane_place_array = [[(0.,10.)],[(0.,20.)],[(0.,15.)],[(0.,20.)],[(0.,20.)]]\n",
    "num_cars = 5\n",
    "d1 = Dict(:v_des=>10.0,:σ=>0.2);d2 = Dict(:v_des=>20.0,:σ=>0.3);d3 = Dict(:v_des=>15.0,:σ=>0.)\n",
    "d4 = Dict(:v_des=>18.0,:σ=>0.4);d5 = Dict(:v_des=>27.0,:σ=>0.2)\n",
    "car_particles = [d1,d2,d3,d4,d5]\n",
    "\n",
    "particle_props = [(:v_des,10.,0.1,30.),(:σ,0.1,0.1,1.)]\n",
    "bucket_array = filter_particles_over_trajectory(num_particles,num_cars,lane_place_array,\n",
    "    car_particles,particle_props,approach=\"cem\")\n",
    "print_buckets_mean(bucket_array)"
   ]
  },
  {
   "cell_type": "markdown",
   "metadata": {},
   "source": [
    "# Visualize"
   ]
  },
  {
   "cell_type": "code",
   "execution_count": null,
   "metadata": {},
   "outputs": [],
   "source": [
    "# Example code to run visualization in your notebook\n",
    "cam = StaticCamera(VecE2(100.0,0.0), 4.75)\n",
    "@manipulate for frame_index in 1 : nframes(rec)\n",
    "    render(rec[frame_index-nframes(rec)], roadway, cam=cam, canvas_height=100)\n",
    "end"
   ]
  },
  {
   "cell_type": "markdown",
   "metadata": {},
   "source": [
    "# LEARNING AND EXPERIMENTATION"
   ]
  },
  {
   "cell_type": "code",
   "execution_count": null,
   "metadata": {},
   "outputs": [],
   "source": [
    "# LEARNING ABOUT MULTIDIM DISTB\n",
    "# Test: Generate samples for a 2d distb\n",
    "d2 = MvNormal(2,2.0) # first arg shows dimension, second shows std dev\n",
    "qw = rand(d2,6) # Will generate 6 samples i.e. 6 columns\n",
    "\n",
    "# Test: Fit 2d distribution\n",
    "dx = Normal()\n",
    "dy = Normal(2,1.0)\n",
    "x = rand(dx,100)\n",
    "y = rand(dy,100)\n",
    "\n",
    "# Matrix with each column being a sample\n",
    "# Total columns is total number of samples\n",
    "# Total rows is number of parameters\n",
    "# All entries in a row contain value from same param eg:v_des\n",
    "data_matrix = vcat(x',y')\n",
    "fit(MvNormal,data_matrix)"
   ]
  },
  {
   "cell_type": "code",
   "execution_count": null,
   "metadata": {},
   "outputs": [],
   "source": [
    "using PyPlot"
   ]
  },
  {
   "cell_type": "code",
   "execution_count": null,
   "metadata": {},
   "outputs": [],
   "source": [
    "num_samples = 2000\n",
    "y1 = rand(Normal(10.0,5.0),num_samples)\n",
    "y2 = rand(Normal(2.0,1.0),num_samples)\n",
    "plot(1:num_samples,y1)\n",
    "plot(1:num_samples,y2)"
   ]
  },
  {
   "cell_type": "code",
   "execution_count": null,
   "metadata": {},
   "outputs": [],
   "source": [
    "using StatPlots"
   ]
  },
  {
   "cell_type": "code",
   "execution_count": null,
   "metadata": {},
   "outputs": [],
   "source": [
    "StatPlots.plot(Normal(3,5),linewidth=4,size=(2500,2500))"
   ]
  },
  {
   "cell_type": "code",
   "execution_count": null,
   "metadata": {},
   "outputs": [],
   "source": [
    "roadway = gen_straight_roadway(2,1000.0);"
   ]
  },
  {
   "cell_type": "code",
   "execution_count": null,
   "metadata": {},
   "outputs": [],
   "source": [
    "scene = Scene1D()\n",
    "push!(scene, Entity(State1D(10.0,  8.0), VehicleDef(), 1))\n",
    "push!(scene, Entity(State1D(50.0, 12.5), VehicleDef(), 2))\n",
    "\n",
    "cam = StaticCamera(VecE2(100.0,0.0), 4.75)\n",
    "overlays = [TextOverlay(text=[\"$(veh.id)\"], incameraframe=true, pos=VecE2(veh.state.s-0.7, 3)) for veh in scene]\n",
    "render(scene, roadway, overlays, cam=cam, canvas_height=100)"
   ]
  }
 ],
 "metadata": {
  "kernelspec": {
   "display_name": "Julia 1.1.0",
   "language": "julia",
   "name": "julia-1.1"
  },
  "language_info": {
   "file_extension": ".jl",
   "mimetype": "application/julia",
   "name": "julia",
   "version": "1.1.0"
  }
 },
 "nbformat": 4,
 "nbformat_minor": 2
}
