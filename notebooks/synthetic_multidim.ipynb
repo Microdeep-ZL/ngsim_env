{
 "cells": [
  {
   "cell_type": "markdown",
   "metadata": {},
   "source": [
    "- Goal\n",
    "    - Create synthetic data using IDM\n",
    "    - Learn parameters of that data using particle filtering\n",
    "    - Aliter 7 Feb: Learn using CEM idea, fitness function and then distb and then sample\n",
    "- Feb 10: Adding timegap_des as our 2nd param in the 2 car, 1D, IDM scenario\n",
    "    - Make code capable of handling 2d param. So far, had only scalar param\n",
    "    i.e v_des\n",
    "    - Fitting 2D distributions is required now\n",
    "- Feb 22\n",
    "    - the `rec` generated using `simulate` is a devious monster\n",
    "    - It stores the last timestep in the 1st entry and first timestep in last entry\n",
    "    - Be careful\n",
    "- Mar 27\n",
    "    - Inspired by behavior test written by Maxime to convert this code to work with general scene\n",
    "    instead of scene1D and state1D as previously\n",
    "    - Scaling up: scenario is to have 3 different speed vehicles starting in adjacent lanes. Each\n",
    "    car will have an associated bucket of particles and at the end we whould be able to uncover\n",
    "    true params for all three cars\n",
    "    - Disclaimer: This will definitely work since we have confirmed that we can uncover params for one \n",
    "    car when it is the leader (i.e. unaffected by any car in front). The current exercise is to scale up the\n",
    "    code to work with multiple vehicles\n",
    "    - Idea is that every vehicles associated bucket of particles will evolve differently as it sees more\n",
    "    of the true trajectory. This is in contrast to original idea where we thought we will have all the buckets\n",
    "    pooled together to inform the final distribution\n",
    "- April 4: Some research questions\n",
    "    - Does the initial velocity of the car impact the learning of the parameters? The test\n",
    "    we did in the 5 car adjacent lane scenario seemed to do well even with the \n",
    "    initial velocity being different from the desired velocity parameter?\n",
    "    - What situtation will break the vanilla PF but CEM PF will do well\n",
    "    - How can we add confidence as an information to the output\n",
    "    provided by the PF?\n",
    "        - eg: I think v_des should be 25 but not sure because there\n",
    "        is a car in front that is obstructing me\n",
    "    - What is the influence of interaction on the filtering results?\n",
    "    - In the hallucination, does it matter what model we assume to drive\n",
    "    the other vehicles?\n",
    "    - Graduate to measuring 2D likelihood when lane changes can start\n",
    "- April 4: Some todos\n",
    "    - Fix the seed and write a test that reproduces the parameter\n",
    "    values estimated from filtering in the 5-car adjacent lane scenario\n",
    "    - ~~Separate out tests into different files to work with differnt\n",
    "    functions and `runtests.jl` should just call all these different\n",
    "    test files~~\n",
    "    - ~~Visualization functions to compare estimation performance\n",
    "    over time~~\n",
    "    - documenter.jl for automatic generation of documentation\n",
    "- April 5: <span style=\"color:red\"> TODOS </span>\n",
    "    - Run tons of experiments and give result to see whether or not we are getting\n",
    "    one off good results or can we truly test the results\n",
    "- April 6: Discovery\n",
    "    - Starting the cars from 0 velocity makes the particle filter estimate go off kilter\n",
    "    - Starting from the v_des true param value makes it work fine\n",
    "    - As seen from the one lane 2 car scenario\n",
    "- April 7: Verbal description of what the particle filter is doing\n",
    "    - Start with a bucket for each car. Each bucket contains 100 particles. Each particle is a\n",
    "    dictionary with parameter, value pairing eg: v_des, 20.0\n",
    "    - Hallucinate a step using each particle. Compare hallucination against ground truth to get\n",
    "    relative goodness between every particle\n",
    "        - This is done by measuring the likelihood of the true data under a _Gaussian_ distribution that\n",
    "        is centered around the hallucinated position and has a standard deviation that is\n",
    "        proportional to the timestep standard deviation $\\sigma_{pos} = \\Delta T^2*\\sigma_{acc}$\n",
    "        (note that $\\sigma_{acc}$ is a parameter of IDM)\n",
    "            - <span style=\"color:blue\">_Is this too naive a way to measure likelihood i.e. will\n",
    "    it capture influence on params such as Timegap and Min. allowable distance_</span>\n",
    "            - <span style=\"color:blue\">_Is a Gaussian distribution the best to do this \n",
    "    likelihood computation?_</span>\n",
    "    - Particle filter\n",
    "        - Resample from the set of particles using weights obtained using above relative goodness\n",
    "        to obtain 100 new particles\n",
    "    - Cross entropy method\n",
    "        - Fit a distribution after selecting elites from the set of particles according to relative\n",
    "        goodness\n",
    "        - Sample 100 new particles from this distribution\n",
    "    - Once the entire trajectory has been seen, every car has an associated bucket that contains\n",
    "    100 particles\n",
    "- April 8: \n",
    "    - ~~<span style=\"color:red\">TODO Function that does both particle bucket returning and captures RMSE progress with time</span>~~\n",
    "    - Implemented `zero_dict`, `mean_dict`, `particle_difference_paramwise` \n",
    "    functions to scale up to return parameter wise error with iter num\n",
    "- April 9:\n",
    "    - Implemented `compute_mean_dict`, `init_empty_array_dict`, `combine_array_dicts`,`plot_dict`\n",
    "- April 11:\n",
    "    - Implemented method to do estimation and then rmse position to evaluate imitation performance\n",
    "- April 12:\n",
    "    - Implemented overlay to enable ghost vehicle visualization\n",
    "- April 14:\n",
    "    - Implemented `calc_rmse_vel` to calculate rmse in velocity in addition to the rmse in position\n",
    "    - Started a new file called `visualization_functions.jl` to work on overlays for ghost plotting\n",
    "    - Implemented `estimate_then_make_video` function to do the parameter estimation and then make a video\n",
    "    - Implemented `reel` film making within the notebook\n",
    "- April 16:\n",
    "    - Something broke in `using Interact` says `Bulma` not defined.\n",
    "    - I recall seeing something with Bulma when I added `Documenter` yesterday\n",
    "    - Fixed it. Just did `Pkg.rm(\"Interact\")` and then `Pkg.add(\"Interact\") and everything works now\n",
    "- May 3 (Ransalu suggestions):\n",
    "    - Need a way to visualize the evolution of the distribution\n",
    "    - Also visualize the final distribution obtained by cem and pf both\n",
    "    - Need a way to make multiple simulations using random particles sampled from the final\n",
    "    distribution and not just the mean. Plot all of them and then make sure that mean is representative\n",
    "- June 5:\n",
    "    - Both cem and pf on same video as overlays\n",
    "    - Helps simultaneous visualization to see how theyre both doing"
   ]
  },
  {
   "cell_type": "code",
   "execution_count": 2,
   "metadata": {},
   "outputs": [
    {
     "data": {
      "text/html": [
       "<script>\n",
       "// Immediately-invoked-function-expression to avoid global variables.\n",
       "(function() {\n",
       "    var warning_div = document.getElementById(\"webio-warning-17815866204675627497\");\n",
       "    var hide = function () {\n",
       "        var script = document.getElementById(\"webio-setup-13574292601535137096\");\n",
       "        var parent = script && script.parentElement;\n",
       "        var grandparent = parent && parent.parentElement;\n",
       "        if (grandparent) {\n",
       "            grandparent.style.display = \"none\";\n",
       "        }\n",
       "        warning_div.style.display = \"none\";\n",
       "    };\n",
       "    if (typeof Jupyter !== \"undefined\") {\n",
       "        console.log(\"WebIO detected Jupyter notebook environment.\");\n",
       "        // Jupyter notebook.\n",
       "        var extensions = (\n",
       "            Jupyter\n",
       "            && Jupyter.notebook.config.data\n",
       "            && Jupyter.notebook.config.data.load_extensions\n",
       "        );\n",
       "        if (extensions && extensions[\"webio/main\"]) {\n",
       "            // Extension already loaded.\n",
       "            console.log(\"Jupyter WebIO nbextension detected; not loading ad-hoc.\");\n",
       "            hide();\n",
       "            return;\n",
       "        }\n",
       "        console.warn(\"Loading WebIO Jupyter extension on an ad-hoc basis. Consider enabling the WebIO nbextension for a stabler experience (this should happen automatically when building WebIO).\");\n",
       "        require([\"/assetserver/edf674b4a352d3049d1cf8e1b8f9eda882001cd6-dist/main.js\"], function (webIOModule) {\n",
       "            webIOModule.load_ipython_extension();\n",
       "        });\n",
       "        warning_div.innerHTML = \"<strong>Loading WebIO Jupyter extension on an ad-hoc basis. Consider enabling the WebIO nbextension for a stabler experience (this should happen automatically when building WebIO).</strong>\";\n",
       "    } else if (window.location.pathname.includes(\"/lab\")) {\n",
       "        // Guessing JupyterLa\n",
       "        console.log(\"Jupyter Lab detected; make sure the @webio/jupyter-lab-provider labextension is installed.\");\n",
       "        hide();\n",
       "        return;\n",
       "    }\n",
       "})();\n",
       "\n",
       "</script>\n",
       "<div\n",
       "    id=\"webio-warning-17815866204675627497\"\n",
       "    class=\"output_text output_stderr\"\n",
       "    style=\"padding: 1em; font-weight: bold;\"\n",
       ">\n",
       "    Unable to load WebIO. Please make sure WebIO works for your Jupyter client.\n",
       "    <!-- TODO: link to installation docs. -->\n",
       "</div>\n"
      ],
      "text/plain": [
       "HTML{String}(\"<script>\\n// Immediately-invoked-function-expression to avoid global variables.\\n(function() {\\n    var warning_div = document.getElementById(\\\"webio-warning-17815866204675627497\\\");\\n    var hide = function () {\\n        var script = document.getElementById(\\\"webio-setup-13574292601535137096\\\");\\n        var parent = script && script.parentElement;\\n        var grandparent = parent && parent.parentElement;\\n        if (grandparent) {\\n            grandparent.style.display = \\\"none\\\";\\n        }\\n        warning_div.style.display = \\\"none\\\";\\n    };\\n    if (typeof Jupyter !== \\\"undefined\\\") {\\n        console.log(\\\"WebIO detected Jupyter notebook environment.\\\");\\n        // Jupyter notebook.\\n        var extensions = (\\n            Jupyter\\n            && Jupyter.notebook.config.data\\n            && Jupyter.notebook.config.data.load_extensions\\n        );\\n        if (extensions && extensions[\\\"webio/main\\\"]) {\\n            // Extension already loaded.\\n            console.log(\\\"Jupyter WebIO nbextension detected; not loading ad-hoc.\\\");\\n            hide();\\n            return;\\n        }\\n        console.warn(\\\"Loading WebIO Jupyter extension on an ad-hoc basis. Consider enabling the WebIO nbextension for a stabler experience (this should happen automatically when building WebIO).\\\");\\n        require([\\\"/assetserver/edf674b4a352d3049d1cf8e1b8f9eda882001cd6-dist/main.js\\\"], function (webIOModule) {\\n            webIOModule.load_ipython_extension();\\n        });\\n        warning_div.innerHTML = \\\"<strong>Loading WebIO Jupyter extension on an ad-hoc basis. Consider enabling the WebIO nbextension for a stabler experience (this should happen automatically when building WebIO).</strong>\\\";\\n    } else if (window.location.pathname.includes(\\\"/lab\\\")) {\\n        // Guessing JupyterLa\\n        console.log(\\\"Jupyter Lab detected; make sure the @webio/jupyter-lab-provider labextension is installed.\\\");\\n        hide();\\n        return;\\n    }\\n})();\\n\\n</script>\\n<div\\n    id=\\\"webio-warning-17815866204675627497\\\"\\n    class=\\\"output_text output_stderr\\\"\\n    style=\\\"padding: 1em; font-weight: bold;\\\"\\n>\\n    Unable to load WebIO. Please make sure WebIO works for your Jupyter client.\\n    <!-- TODO: link to installation docs. -->\\n</div>\\n\")"
      ]
     },
     "metadata": {},
     "output_type": "display_data"
    }
   ],
   "source": [
    "using AutomotiveDrivingModels;using AutoViz;\n",
    "using StatsBase # For weights function used by particle filter\n",
    "using Test;using Distributions;using Pkg;using PyPlot;\n",
    "using LinearAlgebra # For norm calculation\n",
    "using Reel # For saving gif videos\n",
    "using Interact"
   ]
  },
  {
   "cell_type": "code",
   "execution_count": 3,
   "metadata": {},
   "outputs": [],
   "source": [
    "include(\"admin_functions.jl\")\n",
    "include(\"driving_functions.jl\")\n",
    "include(\"filtering_functions.jl\")\n",
    "include(\"metrics_functions.jl\")\n",
    "include(\"visualization_functions.jl\");"
   ]
  },
  {
   "cell_type": "code",
   "execution_count": null,
   "metadata": {},
   "outputs": [],
   "source": [
    "# List the available functions loaded from the above include statements\n",
    "# https://stackoverflow.com/questions/21301451/get-a-list-of-current-variables-in-julia-lang\n",
    "names(Main)[4:end]"
   ]
  },
  {
   "cell_type": "markdown",
   "metadata": {},
   "source": [
    "# Cache"
   ]
  },
  {
   "cell_type": "code",
   "execution_count": 28,
   "metadata": {},
   "outputs": [
    {
     "data": {
      "text/plain": [
       "(SceneRecord(nscenes=100), SceneRecord(nscenes=100), SceneRecord(nscenes=100), Roadway)"
      ]
     },
     "execution_count": 28,
     "metadata": {},
     "output_type": "execute_result"
    }
   ],
   "source": [
    "# Run the function to generate ground truth, vanilla pf traj, and cem pf traj\n",
    "# 2 car same lane scenario\n",
    "num_particles = 100\n",
    "pos_vel_array_1 = [(30.,18.),(10.,12.)]\n",
    "lane_place_array = [pos_vel_array_1]\n",
    "num_cars = 2\n",
    "d1 = Dict(:v_des=>20.0,:σ=>0.1,:T=>1.5);d2 = Dict(:v_des=>10.0,:σ=>0.1,:T=>1.5)\n",
    "car_particles = [d1,d2]\n",
    "particle_props = [(:v_des,10.,0.1,30.),(:σ,0.1,0.1,1.),(:T,0.1,0.1,5.)]\n",
    "rec,rec_sim_pf,rec_sim_cem,roadway = viz_cem_pf_ghost(num_particles,num_cars,lane_place_array,\n",
    "    car_particles,particle_props)"
   ]
  },
  {
   "cell_type": "code",
   "execution_count": 52,
   "metadata": {},
   "outputs": [
    {
     "data": {
      "text/plain": [
       "(SceneRecord(nscenes=100), SceneRecord(nscenes=100), SceneRecord(nscenes=100), Roadway)"
      ]
     },
     "execution_count": 52,
     "metadata": {},
     "output_type": "execute_result"
    }
   ],
   "source": [
    "# 5 cars different lanes scenario\n",
    "num_particles = 100\n",
    "lane_place_array = [[(0.,10.)],[(0.,20.)],[(0.,15.)],[(0.,20.)],[(0.,20.)]]\n",
    "num_cars = 5\n",
    "d1 = Dict(:v_des=>10.0,:σ=>0.2);d2 = Dict(:v_des=>20.0,:σ=>0.3);d3 = Dict(:v_des=>15.0,:σ=>0.)\n",
    "d4 = Dict(:v_des=>18.0,:σ=>0.4);d5 = Dict(:v_des=>27.0,:σ=>0.2)\n",
    "car_particles = [d1,d2,d3,d4,d5]\n",
    "\n",
    "particle_props = [(:v_des,10.,0.1,30.),(:σ,0.1,0.1,1.)]\n",
    "rec,rec_sim_pf,rec_sim_cem,roadway = viz_cem_pf_ghost(num_particles,num_cars,lane_place_array,\n",
    "    car_particles,particle_props)"
   ]
  },
  {
   "cell_type": "markdown",
   "metadata": {},
   "source": [
    "# Workspace"
   ]
  },
  {
   "cell_type": "code",
   "execution_count": 45,
   "metadata": {},
   "outputs": [
    {
     "data": {
      "text/plain": [
       "SceneRecord(nscenes=100)"
      ]
     },
     "execution_count": 45,
     "metadata": {},
     "output_type": "execute_result"
    }
   ],
   "source": [
    "# Let us run a hallucination to see what kind of likelihood values\n",
    "# we had in the synthetic dataset case\n",
    "lane_place_array = [[(0.,10.)],[(0.,15.)],[(0.,15.)],[(0.,20.)],[(0.,20.)]]\n",
    "num_cars = 5\n",
    "d1 = Dict(:v_des=>10.0,:σ=>0.2);d2 = Dict(:v_des=>20.0,:σ=>0.3);d3 = Dict(:v_des=>15.0,:σ=>0.)\n",
    "d4 = Dict(:v_des=>18.0,:σ=>0.4);d5 = Dict(:v_des=>27.0,:σ=>0.2)\n",
    "car_particles = [d1,d2,d3,d4,d5]\n",
    "rec_true = generate_truth_data(lane_place_array,car_particles)"
   ]
  },
  {
   "cell_type": "code",
   "execution_count": 65,
   "metadata": {},
   "outputs": [
    {
     "name": "stdout",
     "output_type": "stream",
     "text": [
      "(((init_scene.entities[2]).state).posG).x = 0.0\n",
      "((init_scene.entities[2]).state).v = 15.0\n",
      "(trupos, truvel) = (1.5148628161169533, 15.297256322339067)\n",
      "(hall_pos, hall_vel) = (1.4531846414480423, 14.07304896791493)\n",
      "(pos_log_lkhd, vel_log_lkhd) = (-206.4540861255959, -Inf)\n",
      "pos_log_lkhd + vel_log_lkhd = -Inf\n"
     ]
    },
    {
     "data": {
      "text/plain": [
       "-Inf"
      ]
     },
     "execution_count": 65,
     "metadata": {},
     "output_type": "execute_result"
    }
   ],
   "source": [
    "init_scene,roadway = init_place_cars(lane_place_array)\n",
    "@show init_scene.entities[2].state.posG.x\n",
    "@show init_scene.entities[2].state.v\n",
    "scene = rec_true[-99]\n",
    "trupos = scene.entities[2].state.posG.x\n",
    "truvel = scene.entities[2].state.v\n",
    "@show trupos,truvel\n",
    "sig_particle = 0.3\n",
    "particle = Dict(:v_des=>5.0,:σ=>sig_particle)\n",
    "hall_pos = hallucinate_a_step(roadway,init_scene,particle,car_id=2)\n",
    "hall_vel = hallucinate_vel(roadway,init_scene,particle,car_id = 2)\n",
    "@show hall_pos,hall_vel\n",
    "pos_log_lkhd = log(pdf(Normal(hall_pos,0.1*0.1*sig_particle),trupos))\n",
    "vel_log_lkhd = log(pdf(Normal(hall_vel,0.1*sig_particle),truvel))\n",
    "@show pos_log_lkhd,vel_log_lkhd\n",
    "@show pos_log_lkhd+vel_log_lkhd"
   ]
  },
  {
   "cell_type": "code",
   "execution_count": 40,
   "metadata": {},
   "outputs": [
    {
     "data": {
      "text/plain": [
       "hallucinate_vel (generic function with 1 method)"
      ]
     },
     "execution_count": 40,
     "metadata": {},
     "output_type": "execute_result"
    }
   ],
   "source": [
    "function hallucinate_vel(roadway,scene_input,particle;car_id=-1)\n",
    "    if car_id==-1 @show \"Please give valid car_id\" end\n",
    "    \n",
    "    scene = deepcopy(scene_input)\n",
    "    #scene = scene_input # This was the failure case\n",
    "    n_cars = scene.n \n",
    "\n",
    "    models = Dict{Int, DriverModel}()\n",
    "    \n",
    "    # Create driver models for all the cars in the scene\n",
    "    for veh in scene\n",
    "        if veh.id == car_id\n",
    "            models[veh.id] = IntelligentDriverModel(;particle...)\n",
    "        else\n",
    "            # TODO: RESEARCH QUESTION: What drives the other vehicles in the hallucination\n",
    "            models[veh.id] = IntelligentDriverModel(v_des=10.0)\n",
    "        end\n",
    "    end\n",
    "    \n",
    "    n_steps = 1\n",
    "    dt = 0.1\n",
    "    rec = SceneRecord(n_steps, dt)\n",
    "    \n",
    "    simulate!(rec, scene, roadway, models, n_steps)\n",
    "    \n",
    "    X = Array{Float64}(undef,n_steps, 1)\n",
    "\n",
    "    for t in 1:n_steps\n",
    "        f = rec.frames[n_steps - t + 1]\n",
    "        \n",
    "            # Access the vehicle with id as car_id and return its frenet s\n",
    "        X[t,1] = scene.entities[findfirst(car_id,f)].state.v\n",
    "    end\n",
    "    return X[1]\n",
    "end"
   ]
  },
  {
   "cell_type": "code",
   "execution_count": 19,
   "metadata": {},
   "outputs": [
    {
     "data": {
      "image/png": "[encoded data removed]",
      "text/plain": [
       "Figure(PyObject <Figure size 640x480 with 1 Axes>)"
      ]
     },
     "metadata": {},
     "output_type": "display_data"
    },
    {
     "data": {
      "text/plain": [
       "PyObject Text(24.0, 0.5, 'rmse position')"
      ]
     },
     "execution_count": 19,
     "metadata": {},
     "output_type": "execute_result"
    }
   ],
   "source": [
    "num_particles = 100\n",
    "lane_place_array = [[(0.,10.)],[(0.,20.)],[(0.,15.)],[(0.,20.)],[(0.,20.)]]\n",
    "num_cars = 5\n",
    "d1 = Dict(:v_des=>10.0,:σ=>0.2);d2 = Dict(:v_des=>20.0,:σ=>0.3);d3 = Dict(:v_des=>15.0,:σ=>0.)\n",
    "d4 = Dict(:v_des=>18.0,:σ=>0.4);d5 = Dict(:v_des=>27.0,:σ=>0.2)\n",
    "car_particles = [d1,d2,d3,d4,d5]\n",
    "\n",
    "particle_props = [(:v_des,10.,0.1,30.),(:σ,0.1,0.1,1.)]\n",
    "rmse_pos_array_cem = estimate_then_evaluate_imitation(num_particles,num_cars,lane_place_array,\n",
    "    car_particles,particle_props,approach=\"cem\")\n",
    "rmse_pos_array_pf = estimate_then_evaluate_imitation(num_particles,num_cars,lane_place_array,\n",
    "    car_particles,particle_props,approach=\"pf\")\n",
    "plot(rmse_pos_array_cem,label=\"cem\")\n",
    "plot(rmse_pos_array_pf,label=\"pf\")\n",
    "legend()\n",
    "xlabel(\"timestep\")\n",
    "ylabel(\"rmse position\")"
   ]
  },
  {
   "cell_type": "markdown",
   "metadata": {},
   "source": [
    "# Recent Work"
   ]
  },
  {
   "cell_type": "code",
   "execution_count": null,
   "metadata": {},
   "outputs": [],
   "source": [
    "# 5 cars adjacent lanes scenario with 3 parameters\n",
    "# Parameter wise result plotting with both cem and pf in same plot\n",
    "num_particles = 100\n",
    "lane_place_array = [[(0.,10.)],[(0.,20.)],[(0.,15.)],[(0.,20.)],[(0.,20.)]]\n",
    "num_cars = 5\n",
    "d1 = Dict(:v_des=>10.0,:σ=>0.2,:T=>1.5);d2 = Dict(:v_des=>20.0,:σ=>0.3,:T=>1.5);\n",
    "d3 = Dict(:v_des=>15.0,:σ=>0.,:T=>1.5);d4 = Dict(:v_des=>18.0,:σ=>0.4,:T=>1.5);\n",
    "d5 = Dict(:v_des=>27.0,:σ=>0.2,:T=>1.5)\n",
    "car_particles = [d1,d2,d3,d4,d5]\n",
    "\n",
    "particle_props = [(:v_des,10.,0.1,30.),(:σ,0.1,0.1,1.),(:T,0.1,0.1,5.)]\n",
    "rmse_array_pf = capture_filtering_progress_paramwise(num_particles,num_cars,lane_place_array,\n",
    "    car_particles,particle_props,approach=\"pf\")\n",
    "rmse_array_cem = capture_filtering_progress_paramwise(num_particles,num_cars,lane_place_array,\n",
    "    car_particles,particle_props,approach=\"cem\");\n",
    "pf_array = combine_array_dicts(rmse_array_pf);\n",
    "cem_array = combine_array_dicts(rmse_array_cem);\n",
    "res = combine_exp_results_dicts([:cem,:pf],[cem_array,pf_array])\n",
    "plot_dict(res)\n",
    "xlabel(\"timestep\")\n",
    "ylabel(\"absolute deviation\");"
   ]
  },
  {
   "cell_type": "code",
   "execution_count": null,
   "metadata": {},
   "outputs": [],
   "source": [
    "# 2 cars in the same lane scenario with 3 parameters\n",
    "# Parameter wise result plotting with both cem and pf in same plot\n",
    "num_particles = 100\n",
    "pos_vel_array_1 = [(30.,18.),(10.,12.)]\n",
    "lane_place_array = [pos_vel_array_1]\n",
    "num_cars = 2\n",
    "d1 = Dict(:v_des=>20.0,:σ=>0.1,:T=>1.5);d2 = Dict(:v_des=>10.0,:σ=>0.1,:T=>1.5)\n",
    "car_particles = [d1,d2]\n",
    "particle_props = [(:v_des,10.,0.1,30.),(:σ,0.1,0.1,1.),(:T,0.1,0.1,5.)]\n",
    "rmse_array_pf = capture_filtering_progress_paramwise(num_particles,num_cars,lane_place_array,\n",
    "    car_particles,particle_props,approach=\"pf\")\n",
    "rmse_array_cem = capture_filtering_progress_paramwise(num_particles,num_cars,lane_place_array,\n",
    "    car_particles,particle_props,approach=\"cem\");\n",
    "\n",
    "pf_array = combine_array_dicts(rmse_array_pf);\n",
    "cem_array = combine_array_dicts(rmse_array_cem);\n",
    "res = combine_exp_results_dicts([:cem,:pf],[cem_array,pf_array])\n",
    "plot_dict(res)\n",
    "xlabel(\"timestep\")\n",
    "ylabel(\"absolute deviation\");"
   ]
  },
  {
   "cell_type": "markdown",
   "metadata": {},
   "source": [
    "# Legacy"
   ]
  },
  {
   "cell_type": "code",
   "execution_count": null,
   "metadata": {},
   "outputs": [],
   "source": [
    "# 5 cars adjacent lanes scenario with 2 parameters\n",
    "# Combines all paramters into one mean error metric and plots that\n",
    "# Cem and pf appear as different lines on the plot\n",
    "num_particles = 100\n",
    "lane_place_array = [[(0.,10.)],[(0.,20.)],[(0.,15.)],[(0.,20.)],[(0.,20.)]]\n",
    "num_cars = 5\n",
    "d1 = Dict(:v_des=>10.0,:σ=>0.2);d2 = Dict(:v_des=>20.0,:σ=>0.3);d3 = Dict(:v_des=>15.0,:σ=>0.)\n",
    "d4 = Dict(:v_des=>18.0,:σ=>0.4);d5 = Dict(:v_des=>27.0,:σ=>0.2)\n",
    "car_particles = [d1,d2,d3,d4,d5]\n",
    "\n",
    "particle_props = [(:v_des,10.,0.1,30.),(:σ,0.1,0.1,1.)]\n",
    "rmse_array_pf = capture_filtering_progress(num_particles,num_cars,lane_place_array,\n",
    "    car_particles,particle_props,approach=\"pf\")\n",
    "rmse_array_cem = capture_filtering_progress(num_particles,num_cars,lane_place_array,\n",
    "    car_particles,particle_props,approach=\"cem\")\n",
    "plot(rmse_array_pf,label=\"particle filter\")\n",
    "plot(rmse_array_cem,label=\"cross entropy method\")\n",
    "legend()\n",
    "xlabel(\"Timestep along true data trajectory\")\n",
    "ylabel(\"Mean parameter error\")"
   ]
  },
  {
   "cell_type": "code",
   "execution_count": null,
   "metadata": {},
   "outputs": [],
   "source": [
    "# 2 cars in the same lane scenario with 2 parameters\n",
    "num_particles = 100\n",
    "pos_vel_array_1 = [(30.,15.),(10.,15.)]\n",
    "lane_place_array = [pos_vel_array_1]\n",
    "num_cars = 2\n",
    "d1 = Dict(:v_des=>20.0,:σ=>0.1);d2 = Dict(:v_des=>10.0,:σ=>0.1)\n",
    "car_particles = [d1,d2]\n",
    "particle_props = [(:v_des,10.,0.1,30.),(:σ,0.1,0.1,1.)]\n",
    "bucket_array = filter_particles_over_trajectory(num_particles,num_cars,lane_place_array,\n",
    "    car_particles,particle_props,approach=\"cem\")\n",
    "print_buckets_mean(bucket_array)"
   ]
  },
  {
   "cell_type": "code",
   "execution_count": null,
   "metadata": {},
   "outputs": [],
   "source": [
    "# 5 cars adjacent lanes scenario with 2 parameters\n",
    "num_particles = 100\n",
    "lane_place_array = [[(0.,10.)],[(0.,20.)],[(0.,15.)],[(0.,20.)],[(0.,20.)]]\n",
    "num_cars = 5\n",
    "d1 = Dict(:v_des=>10.0,:σ=>0.2);d2 = Dict(:v_des=>20.0,:σ=>0.3);d3 = Dict(:v_des=>15.0,:σ=>0.)\n",
    "d4 = Dict(:v_des=>18.0,:σ=>0.4);d5 = Dict(:v_des=>27.0,:σ=>0.2)\n",
    "car_particles = [d1,d2,d3,d4,d5]\n",
    "\n",
    "particle_props = [(:v_des,10.,0.1,30.),(:σ,0.1,0.1,1.)]\n",
    "bucket_array = filter_particles_over_trajectory(num_particles,num_cars,lane_place_array,\n",
    "    car_particles,particle_props,approach=\"cem\")\n",
    "print_buckets_mean(bucket_array)"
   ]
  },
  {
   "cell_type": "markdown",
   "metadata": {},
   "source": [
    "# Visualize"
   ]
  },
  {
   "cell_type": "code",
   "execution_count": null,
   "metadata": {},
   "outputs": [],
   "source": [
    "# Example code to run visualization in your notebook\n",
    "cam = StaticCamera(VecE2(100.0,0.0), 4.75)\n",
    "@manipulate for frame_index in 1 : nframes(rec)\n",
    "    render(rec[frame_index-nframes(rec)], roadway, cam=cam, canvas_height=100)\n",
    "end"
   ]
  },
  {
   "cell_type": "markdown",
   "metadata": {},
   "source": [
    "# LEARNING AND EXPERIMENTATION"
   ]
  },
  {
   "cell_type": "code",
   "execution_count": null,
   "metadata": {},
   "outputs": [],
   "source": [
    "# LEARNING ABOUT MULTIDIM DISTB\n",
    "# Test: Generate samples for a 2d distb\n",
    "d2 = MvNormal(2,2.0) # first arg shows dimension, second shows std dev\n",
    "qw = rand(d2,6) # Will generate 6 samples i.e. 6 columns\n",
    "\n",
    "# Test: Fit 2d distribution\n",
    "dx = Normal()\n",
    "dy = Normal(2,1.0)\n",
    "x = rand(dx,100)\n",
    "y = rand(dy,100)\n",
    "\n",
    "# Matrix with each column being a sample\n",
    "# Total columns is total number of samples\n",
    "# Total rows is number of parameters\n",
    "# All entries in a row contain value from same param eg:v_des\n",
    "data_matrix = vcat(x',y')\n",
    "fit(MvNormal,data_matrix)"
   ]
  },
  {
   "cell_type": "code",
   "execution_count": null,
   "metadata": {},
   "outputs": [],
   "source": [
    "num_samples = 2000\n",
    "y1 = rand(Normal(10.0,5.0),num_samples)\n",
    "y2 = rand(Normal(2.0,1.0),num_samples)\n",
    "plot(1:num_samples,y1)\n",
    "plot(1:num_samples,y2)"
   ]
  },
  {
   "cell_type": "code",
   "execution_count": null,
   "metadata": {},
   "outputs": [],
   "source": [
    "using StatsPlots"
   ]
  },
  {
   "cell_type": "code",
   "execution_count": null,
   "metadata": {},
   "outputs": [],
   "source": [
    "# Demonstrate the use of StatsPlots plot which will come in useful for distribution plotting\n",
    "StatsPlots.plot(MvNormal(2,2.),linewidth=4,size=(500,500))"
   ]
  },
  {
   "cell_type": "code",
   "execution_count": null,
   "metadata": {},
   "outputs": [],
   "source": [
    "# See whether sampling from a normal truly results in a normal\n",
    "num_samples = 5000\n",
    "y1 = rand(Normal(10.0,5.0),num_samples)\n",
    "PyPlot.hist(y1)"
   ]
  },
  {
   "cell_type": "code",
   "execution_count": null,
   "metadata": {},
   "outputs": [],
   "source": []
  }
 ],
 "metadata": {
  "@webio": {
   "lastCommId": "30446e43df1b427a994815943dd480b1",
   "lastKernelId": "ba03bf30-49cb-4e1a-a03c-85f2d23fe792"
  },
  "kernelspec": {
   "display_name": "Julia 1.1.0",
   "language": "julia",
   "name": "julia-1.1"
  },
  "language_info": {
   "file_extension": ".jl",
   "mimetype": "application/julia",
   "name": "julia",
   "version": "1.1.0"
  }
 },
 "nbformat": 4,
 "nbformat_minor": 2
}
