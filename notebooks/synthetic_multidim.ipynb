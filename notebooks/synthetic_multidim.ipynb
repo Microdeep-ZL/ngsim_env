{
 "cells": [
  {
   "cell_type": "markdown",
   "metadata": {},
   "source": [
    "- Goal\n",
    "    - Create synthetic data using IDM\n",
    "    - Learn parameters of that data using particle filtering\n",
    "    - Aliter 7 Feb: Learn using CEM idea, fitness function and then distb and then sample\n",
    "- Feb 10: Adding timegap_des as our 2nd param in the 2 car, 1D, IDM scenario\n",
    "    - Make code capable of handling 2d param. So far, had only scalar param\n",
    "    i.e v_des\n",
    "    - Fitting 2D distributions is required now\n",
    "- Feb 22\n",
    "    - the `rec` generated using `simulate` is a devious monster\n",
    "    - It stores the last timestep in the 1st entry and first timestep in last entry\n",
    "    - Be careful\n",
    "- Mar 27\n",
    "    - Inspired by behavior test written by Maxime to convert this code to work with general scene\n",
    "    instead of scene1D and state1D as previously\n",
    "    - Scaling up: scenario is to have 3 different speed vehicles starting in adjacent lanes. Each\n",
    "    car will have an associated bucket of particles and at the end we whould be able to uncover\n",
    "    true params for all three cars\n",
    "    - Disclaimer: This will definitely work since we have confirmed that we can uncover params for one \n",
    "    car when it is the leader (i.e. unaffected by any car in front). The current exercise is to scale up the\n",
    "    code to work with multiple vehicles\n",
    "    - Idea is that every vehicles associated bucket of particles will evolve differently as it sees more\n",
    "    of the true trajectory. This is in contrast to original idea where we thought we will have all the buckets\n",
    "    pooled together to inform the final distribution\n",
    "- April 4: Some research questions\n",
    "    - Does the initial velocity of the car impact the learning of the parameters? The test\n",
    "    we did in the 5 car adjacent lane scenario seemed to do well even with the \n",
    "    initial velocity being different from the desired velocity parameter?\n",
    "    - What situtation will break the vanilla PF but CEM PF will do well\n",
    "    - How can we add confidence as an information to the output\n",
    "    provided by the PF?\n",
    "        - eg: I think v_des should be 25 but not sure because there\n",
    "        is a car in front that is obstructing me\n",
    "    - What is the influence of interaction on the filtering results?\n",
    "    - In the hallucination, does it matter what model we assume to drive\n",
    "    the other vehicles?\n",
    "    - Graduate to measuring 2D likelihood when lane changes can start\n",
    "- April 4: Some todos\n",
    "    - Fix the seed and write a test that reproduces the parameter\n",
    "    values estimated from filtering in the 5-car adjacent lane scenario\n",
    "    - ~~Separate out tests into different files to work with differnt\n",
    "    functions and `runtests.jl` should just call all these different\n",
    "    test files~~\n",
    "    - ~~Visualization functions to compare estimation performance\n",
    "    over time~~\n",
    "    - documenter.jl for automatic generation of documentation\n",
    "- April 5: <span style=\"color:red\"> TODOS </span>\n",
    "    - Run tons of experiments and give result to see whether or not we are getting\n",
    "    one off good results or can we truly test the results\n",
    "- April 6: Discovery\n",
    "    - Starting the cars from 0 velocity makes the particle filter estimate go off kilter\n",
    "    - Starting from the v_des true param value makes it work fine\n",
    "    - As seen from the one lane 2 car scenario\n",
    "- April 7: Verbal description of what the particle filter is doing\n",
    "    - Start with a bucket for each car. Each bucket contains 100 particles. Each particle is a\n",
    "    dictionary with parameter, value pairing eg: v_des, 20.0\n",
    "    - Hallucinate a step using each particle. Compare hallucination against ground truth to get\n",
    "    relative goodness between every particle\n",
    "        - This is done by measuring the likelihood of the true data under a _Gaussian_ distribution that\n",
    "        is centered around the hallucinated position and has a standard deviation that is\n",
    "        proportional to the timestep standard deviation $\\sigma_{pos} = \\Delta T^2*\\sigma_{acc}$\n",
    "        (note that $\\sigma_{acc}$ is a parameter of IDM)\n",
    "            - <span style=\"color:blue\">_Is this too naive a way to measure likelihood i.e. will\n",
    "    it capture influence on params such as Timegap and Min. allowable distance_</span>\n",
    "            - <span style=\"color:blue\">_Is a Gaussian distribution the best to do this \n",
    "    likelihood computation?_</span>\n",
    "    - Particle filter\n",
    "        - Resample from the set of particles using weights obtained using above relative goodness\n",
    "        to obtain 100 new particles\n",
    "    - Cross entropy method\n",
    "        - Fit a distribution after selecting elites from the set of particles according to relative\n",
    "        goodness\n",
    "        - Sample 100 new particles from this distribution\n",
    "    - Once the entire trajectory has been seen, every car has an associated bucket that contains\n",
    "    100 particles\n",
    "- April 8: \n",
    "    - ~~<span style=\"color:red\">TODO Function that does both particle bucket returning and captures RMSE progress with time</span>~~\n",
    "    - Implemented `zero_dict`, `mean_dict`, `particle_difference_paramwise` \n",
    "    functions to scale up to return parameter wise error with iter num\n",
    "- April 9:\n",
    "    - Implemented `compute_mean_dict`, `init_empty_array_dict`, `combine_array_dicts`,`plot_dict`\n",
    "- April 11:\n",
    "    - Implemented method to do estimation and then rmse position to evaluate imitation performance\n",
    "- April 12:\n",
    "    - Implemented overlay to enable ghost vehicle visualization\n",
    "- April 14:\n",
    "    - Implemented `calc_rmse_vel` to calculate rmse in velocity in addition to the rmse in position\n",
    "    - Started a new file called `visualization_functions.jl` to work on overlays for ghost plotting\n",
    "    - Implemented `estimate_then_make_video` function to do the parameter estimation and then make a video\n",
    "    - Implemented `reel` film making within the notebook\n",
    "- April 16:\n",
    "    - Something broke in `using Interact` says `Bulma` not defined.\n",
    "    - I recall seeing something with Bulma when I added `Documenter` yesterday\n",
    "    - Fixed it. Just did `Pkg.rm(\"Interact\")` and then `Pkg.add(\"Interact\") and everything works now\n",
    "- May 3 (Ransalu suggestions):\n",
    "    - Need a way to visualize the evolution of the distribution\n",
    "    - Also visualize the final distribution obtained by cem and pf both\n",
    "    - Need a way to make multiple simulations using random particles sampled from the final\n",
    "    distribution and not just the mean. Plot all of them and then make sure that mean is representative\n",
    "- June 5:\n",
    "    - Both cem and pf on same video as overlays\n",
    "    - Helps simultaneous visualization to see how theyre both doing"
   ]
  },
  {
   "cell_type": "code",
   "execution_count": 1,
   "metadata": {},
   "outputs": [
    {
     "name": "stderr",
     "output_type": "stream",
     "text": [
      "┌ Info: Recompiling stale cache file /home/raunak/.julia/compiled/v1.1/AutomotiveDrivingModels/ZEfHM.ji for AutomotiveDrivingModels [99497e54-f3d6-53d3-a3a9-fa9315a7f1ba]\n",
      "└ @ Base loading.jl:1184\n",
      "┌ Info: Recompiling stale cache file /home/raunak/.julia/compiled/v1.1/AutoViz/w0rHu.ji for AutoViz [82aa6e0c-a491-5edf-8d4b-c16b98e4ea17]\n",
      "└ @ Base loading.jl:1184\n",
      "┌ Info: Recompiling stale cache file /home/raunak/.julia/compiled/v1.1/PyPlot/oatAj.ji for PyPlot [d330b81b-6aea-500a-939a-2ce795aea3ee]\n",
      "└ @ Base loading.jl:1184\n",
      "┌ Info: Recompiling stale cache file /home/raunak/.julia/compiled/v1.1/Interact/XmYW4.ji for Interact [c601a237-2ae4-5e1e-952c-7a85b0c7eef1]\n",
      "└ @ Base loading.jl:1184\n"
     ]
    },
    {
     "data": {
      "text/html": [
       "<script>\n",
       "// Immediately-invoked-function-expression to avoid global variables.\n",
       "(function() {\n",
       "    var warning_div = document.getElementById(\"webio-warning-9455515042977481575\");\n",
       "    var hide = function () {\n",
       "        var script = document.getElementById(\"webio-setup-2666421721229160319\");\n",
       "        var parent = script && script.parentElement;\n",
       "        var grandparent = parent && parent.parentElement;\n",
       "        if (grandparent) {\n",
       "            grandparent.style.display = \"none\";\n",
       "        }\n",
       "        warning_div.style.display = \"none\";\n",
       "    };\n",
       "    if (typeof Jupyter !== \"undefined\") {\n",
       "        console.log(\"WebIO detected Jupyter notebook environment.\");\n",
       "        // Jupyter notebook.\n",
       "        var extensions = (\n",
       "            Jupyter\n",
       "            && Jupyter.notebook.config.data\n",
       "            && Jupyter.notebook.config.data.load_extensions\n",
       "        );\n",
       "        if (extensions && extensions[\"webio/main\"]) {\n",
       "            // Extension already loaded.\n",
       "            console.log(\"Jupyter WebIO nbextension detected; not loading ad-hoc.\");\n",
       "            hide();\n",
       "            return;\n",
       "        }\n",
       "        console.warn(\"Loading WebIO Jupyter extension on an ad-hoc basis. Consider enabling the WebIO nbextension for a stabler experience (this should happen automatically when building WebIO).\");\n",
       "        require([\"/assetserver/4f9b6f17ad2c7a41b33f419315470171f91d2a16-dist/main.js\"], function (webIOModule) {\n",
       "            webIOModule.load_ipython_extension();\n",
       "        });\n",
       "        warning_div.innerHTML = \"<strong>Loading WebIO Jupyter extension on an ad-hoc basis. Consider enabling the WebIO nbextension for a stabler experience (this should happen automatically when building WebIO).</strong>\";\n",
       "    } else if (window.location.pathname.includes(\"/lab\")) {\n",
       "        // Guessing JupyterLa\n",
       "        console.log(\"Jupyter Lab detected; make sure the @webio/jupyter-lab-provider labextension is installed.\");\n",
       "        hide();\n",
       "        return;\n",
       "    }\n",
       "})();\n",
       "\n",
       "</script>\n",
       "<div\n",
       "    id=\"webio-warning-9455515042977481575\"\n",
       "    class=\"output_text output_stderr\"\n",
       "    style=\"padding: 1em; font-weight: bold;\"\n",
       ">\n",
       "    Unable to load WebIO. Please make sure WebIO works for your Jupyter client.\n",
       "    <!-- TODO: link to installation docs. -->\n",
       "</div>\n"
      ],
      "text/plain": [
       "HTML{String}(\"<script>\\n// Immediately-invoked-function-expression to avoid global variables.\\n(function() {\\n    var warning_div = document.getElementById(\\\"webio-warning-9455515042977481575\\\");\\n    var hide = function () {\\n        var script = document.getElementById(\\\"webio-setup-2666421721229160319\\\");\\n        var parent = script && script.parentElement;\\n        var grandparent = parent && parent.parentElement;\\n        if (grandparent) {\\n            grandparent.style.display = \\\"none\\\";\\n        }\\n        warning_div.style.display = \\\"none\\\";\\n    };\\n    if (typeof Jupyter !== \\\"undefined\\\") {\\n        console.log(\\\"WebIO detected Jupyter notebook environment.\\\");\\n        // Jupyter notebook.\\n        var extensions = (\\n            Jupyter\\n            && Jupyter.notebook.config.data\\n            && Jupyter.notebook.config.data.load_extensions\\n        );\\n        if (extensions && extensions[\\\"webio/main\\\"]) {\\n            // Extension already loaded.\\n            console.log(\\\"Jupyter WebIO nbextension detected; not loading ad-hoc.\\\");\\n            hide();\\n            return;\\n        }\\n        console.warn(\\\"Loading WebIO Jupyter extension on an ad-hoc basis. Consider enabling the WebIO nbextension for a stabler experience (this should happen automatically when building WebIO).\\\");\\n        require([\\\"/assetserver/4f9b6f17ad2c7a41b33f419315470171f91d2a16-dist/main.js\\\"], function (webIOModule) {\\n            webIOModule.load_ipython_extension();\\n        });\\n        warning_div.innerHTML = \\\"<strong>Loading WebIO Jupyter extension on an ad-hoc basis. Consider enabling the WebIO nbextension for a stabler experience (this should happen automatically when building WebIO).</strong>\\\";\\n    } else if (window.location.pathname.includes(\\\"/lab\\\")) {\\n        // Guessing JupyterLa\\n        console.log(\\\"Jupyter Lab detected; make sure the @webio/jupyter-lab-provider labextension is installed.\\\");\\n        hide();\\n        return;\\n    }\\n})();\\n\\n</script>\\n<div\\n    id=\\\"webio-warning-9455515042977481575\\\"\\n    class=\\\"output_text output_stderr\\\"\\n    style=\\\"padding: 1em; font-weight: bold;\\\"\\n>\\n    Unable to load WebIO. Please make sure WebIO works for your Jupyter client.\\n    <!-- TODO: link to installation docs. -->\\n</div>\\n\")"
      ]
     },
     "metadata": {},
     "output_type": "display_data"
    }
   ],
   "source": [
    "using AutomotiveDrivingModels;using AutoViz;\n",
    "using StatsBase # For weights function used by particle filter\n",
    "using Test;using Distributions;using Pkg;using PyPlot;\n",
    "using LinearAlgebra # For norm calculation\n",
    "using Reel # For saving gif videos\n",
    "using Interact"
   ]
  },
  {
   "cell_type": "code",
   "execution_count": 2,
   "metadata": {},
   "outputs": [],
   "source": [
    "include(\"admin_functions.jl\")\n",
    "include(\"driving_functions.jl\")\n",
    "include(\"filtering_functions.jl\")\n",
    "include(\"metrics_functions.jl\")\n",
    "include(\"visualization_functions.jl\");"
   ]
  },
  {
   "cell_type": "code",
   "execution_count": null,
   "metadata": {},
   "outputs": [],
   "source": [
    "# List the available functions loaded from the above include statements\n",
    "# https://stackoverflow.com/questions/21301451/get-a-list-of-current-variables-in-julia-lang\n",
    "names(Main)[4:end]"
   ]
  },
  {
   "cell_type": "markdown",
   "metadata": {},
   "source": [
    "# Cache"
   ]
  },
  {
   "cell_type": "code",
   "execution_count": 27,
   "metadata": {},
   "outputs": [
    {
     "data": {
      "text/plain": [
       "viz_cem_pf_ghost (generic function with 1 method)"
      ]
     },
     "execution_count": 27,
     "metadata": {},
     "output_type": "execute_result"
    }
   ],
   "source": [
    "\"\"\"\n",
    "    function viz_cem_pf_ghost(num_p::Int64,n_cars::Int64,lane_place_array::Array,\n",
    "        car_particles::Array,particle_props::Array)\n",
    "Function to generate simulations using parameters learned using both vanilla\n",
    "and cem particle filtering\n",
    "Returns resulting trajectories along with the ground truth trajectory\n",
    "\"\"\"\n",
    "function viz_cem_pf_ghost(num_p::Int64,n_cars::Int64,lane_place_array::Array,\n",
    "        car_particles::Array,particle_props::Array)\n",
    "    scene,roadway = init_place_cars(lane_place_array)\n",
    "    rec = generate_truth_data(lane_place_array,car_particles)\n",
    "    f_end_num = length(rec.frames)\n",
    "    \n",
    "    # -------------vanilla particle filter--------------\n",
    "    bucket_array = initialize_carwise_particle_buckets(n_cars,num_p,particle_props)\n",
    "    for t in 1:f_end_num-1\n",
    "        #if t%10==0 @show t end\n",
    "        f = rec.frames[f_end_num - t + 1]\n",
    "\n",
    "        for car_id in 1:n_cars\n",
    "            old_p_set_dict = bucket_array[car_id]\n",
    "            trupos = rec.frames[f_end_num-t].entities[car_id].state.posF.s\n",
    "            new_p_set_dict = update_p_one_step(roadway,f,trupos,old_p_set_dict,\n",
    "                car_id=car_id,approach=\"pf\")\n",
    "            bucket_array[car_id] = new_p_set_dict\n",
    "        end\n",
    "    end  \n",
    "    \n",
    "    # Estimation of parameters ends here. Now generate simulation\n",
    "    car_particles_pf = find_mean_particle_carwise(bucket_array)\n",
    "    sim_rec_pf = generate_truth_data(lane_place_array,car_particles_pf)\n",
    "    \n",
    "    # -------------CEM particle filter--------------\n",
    "    bucket_array = initialize_carwise_particle_buckets(n_cars,num_p,particle_props)\n",
    "    for t in 1:f_end_num-1\n",
    "        #if t%10==0 @show t end\n",
    "        f = rec.frames[f_end_num - t + 1]\n",
    "\n",
    "        for car_id in 1:n_cars\n",
    "            old_p_set_dict = bucket_array[car_id]\n",
    "            trupos = rec.frames[f_end_num-t].entities[car_id].state.posF.s\n",
    "            new_p_set_dict = update_p_one_step(roadway,f,trupos,old_p_set_dict,\n",
    "                car_id=car_id,approach=\"cem\")\n",
    "            bucket_array[car_id] = new_p_set_dict\n",
    "        end\n",
    "    end  \n",
    "    \n",
    "    # Estimation of parameters ends here. Now generate simulation\n",
    "    car_particles_cem = find_mean_particle_carwise(bucket_array)\n",
    "    sim_rec_cem = generate_truth_data(lane_place_array,car_particles_cem)\n",
    "    \n",
    "    return rec,sim_rec_pf,sim_rec_cem,roadway\n",
    "end"
   ]
  },
  {
   "cell_type": "code",
   "execution_count": 28,
   "metadata": {},
   "outputs": [
    {
     "data": {
      "text/plain": [
       "(SceneRecord(nscenes=100), SceneRecord(nscenes=100), SceneRecord(nscenes=100), Roadway)"
      ]
     },
     "execution_count": 28,
     "metadata": {},
     "output_type": "execute_result"
    }
   ],
   "source": [
    "# Run the function to generate ground truth, vanilla pf traj, and cem pf traj\n",
    "# 2 car same lane scenario\n",
    "num_particles = 100\n",
    "pos_vel_array_1 = [(30.,18.),(10.,12.)]\n",
    "lane_place_array = [pos_vel_array_1]\n",
    "num_cars = 2\n",
    "d1 = Dict(:v_des=>20.0,:σ=>0.1,:T=>1.5);d2 = Dict(:v_des=>10.0,:σ=>0.1,:T=>1.5)\n",
    "car_particles = [d1,d2]\n",
    "particle_props = [(:v_des,10.,0.1,30.),(:σ,0.1,0.1,1.),(:T,0.1,0.1,5.)]\n",
    "rec,rec_sim_pf,rec_sim_cem,roadway = viz_cem_pf_ghost(num_particles,num_cars,lane_place_array,\n",
    "    car_particles,particle_props)"
   ]
  },
  {
   "cell_type": "code",
   "execution_count": 52,
   "metadata": {},
   "outputs": [
    {
     "data": {
      "text/plain": [
       "(SceneRecord(nscenes=100), SceneRecord(nscenes=100), SceneRecord(nscenes=100), Roadway)"
      ]
     },
     "execution_count": 52,
     "metadata": {},
     "output_type": "execute_result"
    }
   ],
   "source": [
    "# 5 cars different lanes scenario\n",
    "num_particles = 100\n",
    "lane_place_array = [[(0.,10.)],[(0.,20.)],[(0.,15.)],[(0.,20.)],[(0.,20.)]]\n",
    "num_cars = 5\n",
    "d1 = Dict(:v_des=>10.0,:σ=>0.2);d2 = Dict(:v_des=>20.0,:σ=>0.3);d3 = Dict(:v_des=>15.0,:σ=>0.)\n",
    "d4 = Dict(:v_des=>18.0,:σ=>0.4);d5 = Dict(:v_des=>27.0,:σ=>0.2)\n",
    "car_particles = [d1,d2,d3,d4,d5]\n",
    "\n",
    "particle_props = [(:v_des,10.,0.1,30.),(:σ,0.1,0.1,1.)]\n",
    "rec,rec_sim_pf,rec_sim_cem,roadway = viz_cem_pf_ghost(num_particles,num_cars,lane_place_array,\n",
    "    car_particles,particle_props)"
   ]
  },
  {
   "cell_type": "code",
   "execution_count": 42,
   "metadata": {},
   "outputs": [],
   "source": [
    "# Overlay that will be used to overlay ground truth and cem onto the vanilla traj\n",
    "struct my_overlay <: SceneOverlay\n",
    "    scene::Scene\n",
    "    color # Needs to be of form colorant\"Colorname\"\n",
    "end\n",
    "\n",
    "function AutoViz.render!(rendermodel::RenderModel,overlay::my_overlay, \n",
    "        scene::Scene, roadway::Roadway)\n",
    "    AutoViz.render!(rendermodel,overlay.scene,car_color = overlay.color)\n",
    "    return rendermodel\n",
    "end"
   ]
  },
  {
   "cell_type": "code",
   "execution_count": 44,
   "metadata": {},
   "outputs": [
    {
     "data": {
      "application/vnd.webio.node+json": {
       "children": [
        {
         "children": [
          {
           "children": [
            {
             "children": [
              {
               "children": [
                {
                 "children": [
                  "frame_index"
                 ],
                 "instanceArgs": {
                  "namespace": "html",
                  "tag": "label"
                 },
                 "nodeType": "DOM",
                 "props": {
                  "className": "interact ",
                  "style": {
                   "padding": "5px 10px 0px 10px"
                  }
                 },
                 "type": "node"
                }
               ],
               "instanceArgs": {
                "namespace": "html",
                "tag": "div"
               },
               "nodeType": "DOM",
               "props": {
                "className": "interact-flex-row-left"
               },
               "type": "node"
              },
              {
               "children": [
                {
                 "children": [],
                 "instanceArgs": {
                  "namespace": "html",
                  "tag": "input"
                 },
                 "nodeType": "DOM",
                 "props": {
                  "attributes": {
                   "data-bind": "numericValue: index, valueUpdate: 'input', event: {change: function (){this.changes(this.changes()+1)}}",
                   "orient": "horizontal",
                   "type": "range"
                  },
                  "className": "slider slider is-fullwidth",
                  "max": 100,
                  "min": 1,
                  "step": 1,
                  "style": {}
                 },
                 "type": "node"
                }
               ],
               "instanceArgs": {
                "namespace": "html",
                "tag": "div"
               },
               "nodeType": "DOM",
               "props": {
                "className": "interact-flex-row-center"
               },
               "type": "node"
              },
              {
               "children": [
                {
                 "children": [],
                 "instanceArgs": {
                  "namespace": "html",
                  "tag": "p"
                 },
                 "nodeType": "DOM",
                 "props": {
                  "attributes": {
                   "data-bind": "text: formatted_val"
                  }
                 },
                 "type": "node"
                }
               ],
               "instanceArgs": {
                "namespace": "html",
                "tag": "div"
               },
               "nodeType": "DOM",
               "props": {
                "className": "interact-flex-row-right"
               },
               "type": "node"
              }
             ],
             "instanceArgs": {
              "namespace": "html",
              "tag": "div"
             },
             "nodeType": "DOM",
             "props": {
              "className": "interact-flex-row interact-widget"
             },
             "type": "node"
            }
           ],
           "instanceArgs": {
            "handlers": {
             "changes": [
              "(function (val){return (val!=this.model[\"changes\"]()) ? (this.valueFromJulia[\"changes\"]=true, this.model[\"changes\"](val)) : undefined})"
             ],
             "index": [
              "(function (val){return (val!=this.model[\"index\"]()) ? (this.valueFromJulia[\"index\"]=true, this.model[\"index\"](val)) : undefined})"
             ]
            },
            "id": "knockout-component-fc23c668-8189-4d1b-9a74-991d541c75e5",
            "imports": {
             "data": [
              {
               "name": "knockout",
               "type": "js",
               "url": "/assetserver/f936dcc9f45df93d9de16372002c6e658515efa3-knockout.js"
              },
              {
               "name": "knockout_punches",
               "type": "js",
               "url": "/assetserver/eea729a4d8992cb39ebb7eed78de80a76cb7c57b-knockout_punches.js"
              },
              {
               "name": null,
               "type": "js",
               "url": "/assetserver/3feee531db140e1a3f0eca5c18aad38e15512c2e-all.js"
              },
              {
               "name": null,
               "type": "css",
               "url": "/assetserver/e4ce0d341b11abf0770fda2ba7f49f2f081729e2-style.css"
              },
              {
               "name": null,
               "type": "css",
               "url": "/assetserver/76755bfdf2fdfcaa91db7c6fbc58601e7593715c-bulma_confined.min.css"
              }
             ],
             "type": "async_block"
            },
            "mount_callbacks": [
             "function () {\n    var handler = (function (ko, koPunches) {\n    ko.punches.enableAll();\n    ko.bindingHandlers.numericValue = {\n        init : function(element, valueAccessor, allBindings, data, context) {\n            var stringified = ko.observable(ko.unwrap(valueAccessor()));\n            stringified.subscribe(function(value) {\n                var val = parseFloat(value);\n                if (!isNaN(val)) {\n                    valueAccessor()(val);\n                }\n            })\n            valueAccessor().subscribe(function(value) {\n                var str = JSON.stringify(value);\n                if ((str == \"0\") && ([\"-0\", \"-0.\"].indexOf(stringified()) >= 0))\n                     return;\n                 if ([\"null\", \"\"].indexOf(str) >= 0)\n                     return;\n                stringified(str);\n            })\n            ko.applyBindingsToNode(element, { value: stringified, valueUpdate: allBindings.get('valueUpdate')}, context);\n        }\n    };\n    var json_data = {\"formatted_vals\":[\"1\",\"2\",\"3\",\"4\",\"5\",\"6\",\"7\",\"8\",\"9\",\"10\",\"11\",\"12\",\"13\",\"14\",\"15\",\"16\",\"17\",\"18\",\"19\",\"20\",\"21\",\"22\",\"23\",\"24\",\"25\",\"26\",\"27\",\"28\",\"29\",\"30\",\"31\",\"32\",\"33\",\"34\",\"35\",\"36\",\"37\",\"38\",\"39\",\"40\",\"41\",\"42\",\"43\",\"44\",\"45\",\"46\",\"47\",\"48\",\"49\",\"50\",\"51\",\"52\",\"53\",\"54\",\"55\",\"56\",\"57\",\"58\",\"59\",\"60\",\"61\",\"62\",\"63\",\"64\",\"65\",\"66\",\"67\",\"68\",\"69\",\"70\",\"71\",\"72\",\"73\",\"74\",\"75\",\"76\",\"77\",\"78\",\"79\",\"80\",\"81\",\"82\",\"83\",\"84\",\"85\",\"86\",\"87\",\"88\",\"89\",\"90\",\"91\",\"92\",\"93\",\"94\",\"95\",\"96\",\"97\",\"98\",\"99\",\"100\"],\"changes\":WebIO.getval({\"name\":\"changes\",\"scope\":\"knockout-component-fc23c668-8189-4d1b-9a74-991d541c75e5\",\"id\":\"ob_94\",\"type\":\"observable\"}),\"index\":WebIO.getval({\"name\":\"index\",\"scope\":\"knockout-component-fc23c668-8189-4d1b-9a74-991d541c75e5\",\"id\":\"ob_93\",\"type\":\"observable\"})};\n    var self = this;\n    function AppViewModel() {\n        for (var key in json_data) {\n            var el = json_data[key];\n            this[key] = Array.isArray(el) ? ko.observableArray(el) : ko.observable(el);\n        }\n        \n        [this[\"formatted_val\"]=ko.computed(    function(){\n        return this.formatted_vals()[parseInt(this.index())-1];\n    }\n,this)]\n        [this[\"changes\"].subscribe((function (val){!(this.valueFromJulia[\"changes\"]) ? (WebIO.setval({\"name\":\"changes\",\"scope\":\"knockout-component-fc23c668-8189-4d1b-9a74-991d541c75e5\",\"id\":\"ob_94\",\"type\":\"observable\"},val)) : undefined; return this.valueFromJulia[\"changes\"]=false}),self),this[\"index\"].subscribe((function (val){!(this.valueFromJulia[\"index\"]) ? (WebIO.setval({\"name\":\"index\",\"scope\":\"knockout-component-fc23c668-8189-4d1b-9a74-991d541c75e5\",\"id\":\"ob_93\",\"type\":\"observable\"},val)) : undefined; return this.valueFromJulia[\"index\"]=false}),self)]\n        \n    }\n    self.model = new AppViewModel();\n    self.valueFromJulia = {};\n    for (var key in json_data) {\n        self.valueFromJulia[key] = false;\n    }\n    ko.applyBindings(self.model, self.dom);\n}\n);\n    (WebIO.importBlock({\"data\":[{\"name\":\"knockout\",\"type\":\"js\",\"url\":\"/assetserver/f936dcc9f45df93d9de16372002c6e658515efa3-knockout.js\"},{\"name\":\"knockout_punches\",\"type\":\"js\",\"url\":\"/assetserver/eea729a4d8992cb39ebb7eed78de80a76cb7c57b-knockout_punches.js\"}],\"type\":\"async_block\"})).then((imports) => handler.apply(this, imports));\n}\n"
            ],
            "observables": {
             "changes": {
              "id": "ob_94",
              "sync": false,
              "value": 0
             },
             "index": {
              "id": "ob_93",
              "sync": true,
              "value": 50
             }
            },
            "systemjs_options": null
           },
           "nodeType": "Scope",
           "props": {},
           "type": "node"
          }
         ],
         "instanceArgs": {
          "namespace": "html",
          "tag": "div"
         },
         "nodeType": "DOM",
         "props": {
          "className": "field interact-widget"
         },
         "type": "node"
        },
        {
         "children": [
          {
           "children": [],
           "instanceArgs": {
            "id": "ob_100",
            "name": "obs-node"
           },
           "nodeType": "ObservableNode",
           "props": {},
           "type": "node"
          }
         ],
         "instanceArgs": {
          "handlers": {},
          "id": "scope-4427be77-ef38-45f3-ba7b-9a11c3061c3b",
          "imports": {
           "data": [],
           "type": "async_block"
          },
          "mount_callbacks": [],
          "observables": {
           "obs-node": {
            "id": "ob_100",
            "sync": false,
            "value": {
             "children": [
              {
               "children": [],
               "instanceArgs": {
                "namespace": "html",
                "tag": "div"
               },
               "nodeType": "DOM",
               "props": {
                "setInnerHtml": "<img src='data:image/png;base64,iVBORw0KGgoAAAANSUhEUgAAA+gAAABkCAIAAACaW42NAAAABmJLR0QA/wD/AP+gvaeTAAAEYklEQVR4nO3cz4sWdRwH8M/ss/M8z+6jz7O7Kkm/1DUja5UOFplsmghp1KE6RUKSBF26RR20m/4TQVF5kLwEioEIIloI0UUSIcTw4E8qZbd1fXaf3Wc6POu2P1wlkH0e8/ViDjPf+Q685zLzmZnvfCMAAAAAAAAAAAAAAAAAAAAAAAAAAAAAAAAAAAAAAAAAAAAAAAAAAAAAAAAAAAAAAAAAAAAAAAAAAAAAAAAAAAAAAAAAAAAAAAAAAAAAAAAAAAAAAAAAAAAAAAAAAAAAAAAAAAAAAAAAAAAAAAAAAAAAAAAAAAAAAAAAAAAAAAAAAAAAgHmVNDsATLPz409f3bix2SkAAFpOe7MDwDTXbwz+cuZcs1PQcpYkxUqSzrX3cn14OMZnNI5F7WYMznVIPoodUbpv+Wh5aS0rD2UzW5MoVxaO58b+TAeqxbYZO+v1+uDQcD4rFqNznlIC3JXCHWh1n6ze8OhrfTEyszSfkESkuYNfHDx+68pk28Xs3KHkq9zcl7jxGFsdL2yKt+97WlrQ07/Xdhy4OZZLIv6t3ZPOtPPEhz8Mn9x+5INCWz5qsz5BJ5F1ZIPDQ2tjw4Z4Y14TA9yJwh1oaeVIH9u2JhYW7t5t29b+498fmNw8mRwaiVtTO/Q/2b9q0ap9p/fV6rVGy9n4+eV4PR/F+56ZVvPm0WpHNZtatcfG5fFuXzxe+ezbzwdGB6Z23tK7ZemCpft/3T+eTTwrno4fX4qtd3kOBJgfLkNAS6skaVar3/N3nFx5Wv09WbUfe/9YuVCOiO5id293767+XXtP7m2U722RG4lbCveHQbF6u2Q/viMW5CMiejpiRXdk2cDIRNV+auepNJdGxKKORcu7lu9+ZfeeE3sa5XsSSS1GFe5A080c0gcAALQg7w+AljaQ1ZL03q8YxgerUzcL0dFY2fzN5sbK7KEy9Rif7Mb/W7V4+5vNpq8nVhpDZd5bWylULsWliFj/5frGntlDZbLI0sjPb2SAO8g1OwBMs3rtuq6exc1OQQsZifqaG/nyE4uzwZG4WbvDMlyLWv3wd0cvjA1NHtWdLT6fnClEMY1CY7kycPXM1bO5rL2x2Ra5Z+PFlbGmiafGvPmrp63vt1q10Daaj9F8MppPRi8P1H660P7OcyseWXn4wpFKvlzKLyilpVJaujZ07fz1851pZylf6kw7x2vZ89G/LJ5p9kkAmMedFvPW9o+WPeUGyUxLIl9pm/P/1Iv14ep/nA6yEMWi6SAfJu1jWeXvWdNBRpS7FtZzY3+YDhJ4EBgqQ2vp6S6v61vV7BQ8YLqaHYAH3ZJmBwAAAAAAAAAAAAAAAAAAAAAAAAAAAAAAAAAAAAAAAAAAAAAAAAAAAAAAAAAAAAAAAAAAAAAAAAAAAAAAAAAAAAAAAAAAAAAAAAAAAAAAAAAAAAAAAAAAAAAAAAAAAAAAAAAAAAAAAAAAAAAAAAAAAAAAAAAAAAAAAAAAAAAAAAAAAAAAAFrQP/u5A760lpGNAAAAAElFTkSuQmCC'></img>"
               },
               "type": "node"
              }
             ],
             "instanceArgs": {
              "namespace": "html",
              "tag": "div"
             },
             "nodeType": "DOM",
             "props": {
              "className": "interact-flex-row interact-widget"
             },
             "type": "node"
            }
           }
          },
          "systemjs_options": null
         },
         "nodeType": "Scope",
         "props": {},
         "type": "node"
        }
       ],
       "instanceArgs": {
        "namespace": "html",
        "tag": "div"
       },
       "nodeType": "DOM",
       "props": {},
       "type": "node"
      },
      "text/html": [
       "<div\n",
       "    class=\"webio-mountpoint\"\n",
       "    data-webio-mountpoint=\"7199577652161584839\"\n",
       ">\n",
       "    <script>\n",
       "    if (window.require && require.defined && require.defined(\"nbextensions/webio/main\")) {\n",
       "        console.log(\"Jupyter WebIO extension detected, not mounting.\");\n",
       "    } else if (window.WebIO) {\n",
       "        WebIO.mount(\n",
       "            document.querySelector('[data-webio-mountpoint=\"7199577652161584839\"]'),\n",
       "            {\"props\":{},\"nodeType\":\"DOM\",\"type\":\"node\",\"instanceArgs\":{\"namespace\":\"html\",\"tag\":\"div\"},\"children\":[{\"props\":{\"className\":\"field interact-widget\"},\"nodeType\":\"DOM\",\"type\":\"node\",\"instanceArgs\":{\"namespace\":\"html\",\"tag\":\"div\"},\"children\":[{\"props\":{},\"nodeType\":\"Scope\",\"type\":\"node\",\"instanceArgs\":{\"imports\":{\"data\":[{\"name\":\"knockout\",\"type\":\"js\",\"url\":\"\\/assetserver\\/f936dcc9f45df93d9de16372002c6e658515efa3-knockout.js\"},{\"name\":\"knockout_punches\",\"type\":\"js\",\"url\":\"\\/assetserver\\/eea729a4d8992cb39ebb7eed78de80a76cb7c57b-knockout_punches.js\"},{\"name\":null,\"type\":\"js\",\"url\":\"\\/assetserver\\/3feee531db140e1a3f0eca5c18aad38e15512c2e-all.js\"},{\"name\":null,\"type\":\"css\",\"url\":\"\\/assetserver\\/e4ce0d341b11abf0770fda2ba7f49f2f081729e2-style.css\"},{\"name\":null,\"type\":\"css\",\"url\":\"\\/assetserver\\/76755bfdf2fdfcaa91db7c6fbc58601e7593715c-bulma_confined.min.css\"}],\"type\":\"async_block\"},\"id\":\"knockout-component-fc23c668-8189-4d1b-9a74-991d541c75e5\",\"handlers\":{\"changes\":[\"(function (val){return (val!=this.model[\\\"changes\\\"]()) ? (this.valueFromJulia[\\\"changes\\\"]=true, this.model[\\\"changes\\\"](val)) : undefined})\"],\"index\":[\"(function (val){return (val!=this.model[\\\"index\\\"]()) ? (this.valueFromJulia[\\\"index\\\"]=true, this.model[\\\"index\\\"](val)) : undefined})\"]},\"systemjs_options\":null,\"mount_callbacks\":[\"function () {\\n    var handler = (function (ko, koPunches) {\\n    ko.punches.enableAll();\\n    ko.bindingHandlers.numericValue = {\\n        init : function(element, valueAccessor, allBindings, data, context) {\\n            var stringified = ko.observable(ko.unwrap(valueAccessor()));\\n            stringified.subscribe(function(value) {\\n                var val = parseFloat(value);\\n                if (!isNaN(val)) {\\n                    valueAccessor()(val);\\n                }\\n            })\\n            valueAccessor().subscribe(function(value) {\\n                var str = JSON.stringify(value);\\n                if ((str == \\\"0\\\") && ([\\\"-0\\\", \\\"-0.\\\"].indexOf(stringified()) >= 0))\\n                     return;\\n                 if ([\\\"null\\\", \\\"\\\"].indexOf(str) >= 0)\\n                     return;\\n                stringified(str);\\n            })\\n            ko.applyBindingsToNode(element, { value: stringified, valueUpdate: allBindings.get('valueUpdate')}, context);\\n        }\\n    };\\n    var json_data = {\\\"formatted_vals\\\":[\\\"1\\\",\\\"2\\\",\\\"3\\\",\\\"4\\\",\\\"5\\\",\\\"6\\\",\\\"7\\\",\\\"8\\\",\\\"9\\\",\\\"10\\\",\\\"11\\\",\\\"12\\\",\\\"13\\\",\\\"14\\\",\\\"15\\\",\\\"16\\\",\\\"17\\\",\\\"18\\\",\\\"19\\\",\\\"20\\\",\\\"21\\\",\\\"22\\\",\\\"23\\\",\\\"24\\\",\\\"25\\\",\\\"26\\\",\\\"27\\\",\\\"28\\\",\\\"29\\\",\\\"30\\\",\\\"31\\\",\\\"32\\\",\\\"33\\\",\\\"34\\\",\\\"35\\\",\\\"36\\\",\\\"37\\\",\\\"38\\\",\\\"39\\\",\\\"40\\\",\\\"41\\\",\\\"42\\\",\\\"43\\\",\\\"44\\\",\\\"45\\\",\\\"46\\\",\\\"47\\\",\\\"48\\\",\\\"49\\\",\\\"50\\\",\\\"51\\\",\\\"52\\\",\\\"53\\\",\\\"54\\\",\\\"55\\\",\\\"56\\\",\\\"57\\\",\\\"58\\\",\\\"59\\\",\\\"60\\\",\\\"61\\\",\\\"62\\\",\\\"63\\\",\\\"64\\\",\\\"65\\\",\\\"66\\\",\\\"67\\\",\\\"68\\\",\\\"69\\\",\\\"70\\\",\\\"71\\\",\\\"72\\\",\\\"73\\\",\\\"74\\\",\\\"75\\\",\\\"76\\\",\\\"77\\\",\\\"78\\\",\\\"79\\\",\\\"80\\\",\\\"81\\\",\\\"82\\\",\\\"83\\\",\\\"84\\\",\\\"85\\\",\\\"86\\\",\\\"87\\\",\\\"88\\\",\\\"89\\\",\\\"90\\\",\\\"91\\\",\\\"92\\\",\\\"93\\\",\\\"94\\\",\\\"95\\\",\\\"96\\\",\\\"97\\\",\\\"98\\\",\\\"99\\\",\\\"100\\\"],\\\"changes\\\":WebIO.getval({\\\"name\\\":\\\"changes\\\",\\\"scope\\\":\\\"knockout-component-fc23c668-8189-4d1b-9a74-991d541c75e5\\\",\\\"id\\\":\\\"ob_94\\\",\\\"type\\\":\\\"observable\\\"}),\\\"index\\\":WebIO.getval({\\\"name\\\":\\\"index\\\",\\\"scope\\\":\\\"knockout-component-fc23c668-8189-4d1b-9a74-991d541c75e5\\\",\\\"id\\\":\\\"ob_93\\\",\\\"type\\\":\\\"observable\\\"})};\\n    var self = this;\\n    function AppViewModel() {\\n        for (var key in json_data) {\\n            var el = json_data[key];\\n            this[key] = Array.isArray(el) ? ko.observableArray(el) : ko.observable(el);\\n        }\\n        \\n        [this[\\\"formatted_val\\\"]=ko.computed(    function(){\\n        return this.formatted_vals()[parseInt(this.index())-1];\\n    }\\n,this)]\\n        [this[\\\"changes\\\"].subscribe((function (val){!(this.valueFromJulia[\\\"changes\\\"]) ? (WebIO.setval({\\\"name\\\":\\\"changes\\\",\\\"scope\\\":\\\"knockout-component-fc23c668-8189-4d1b-9a74-991d541c75e5\\\",\\\"id\\\":\\\"ob_94\\\",\\\"type\\\":\\\"observable\\\"},val)) : undefined; return this.valueFromJulia[\\\"changes\\\"]=false}),self),this[\\\"index\\\"].subscribe((function (val){!(this.valueFromJulia[\\\"index\\\"]) ? (WebIO.setval({\\\"name\\\":\\\"index\\\",\\\"scope\\\":\\\"knockout-component-fc23c668-8189-4d1b-9a74-991d541c75e5\\\",\\\"id\\\":\\\"ob_93\\\",\\\"type\\\":\\\"observable\\\"},val)) : undefined; return this.valueFromJulia[\\\"index\\\"]=false}),self)]\\n        \\n    }\\n    self.model = new AppViewModel();\\n    self.valueFromJulia = {};\\n    for (var key in json_data) {\\n        self.valueFromJulia[key] = false;\\n    }\\n    ko.applyBindings(self.model, self.dom);\\n}\\n);\\n    (WebIO.importBlock({\\\"data\\\":[{\\\"name\\\":\\\"knockout\\\",\\\"type\\\":\\\"js\\\",\\\"url\\\":\\\"\\/assetserver\\/f936dcc9f45df93d9de16372002c6e658515efa3-knockout.js\\\"},{\\\"name\\\":\\\"knockout_punches\\\",\\\"type\\\":\\\"js\\\",\\\"url\\\":\\\"\\/assetserver\\/eea729a4d8992cb39ebb7eed78de80a76cb7c57b-knockout_punches.js\\\"}],\\\"type\\\":\\\"async_block\\\"})).then((imports) => handler.apply(this, imports));\\n}\\n\"],\"observables\":{\"changes\":{\"sync\":false,\"id\":\"ob_94\",\"value\":0},\"index\":{\"sync\":true,\"id\":\"ob_93\",\"value\":50}}},\"children\":[{\"props\":{\"className\":\"interact-flex-row interact-widget\"},\"nodeType\":\"DOM\",\"type\":\"node\",\"instanceArgs\":{\"namespace\":\"html\",\"tag\":\"div\"},\"children\":[{\"props\":{\"className\":\"interact-flex-row-left\"},\"nodeType\":\"DOM\",\"type\":\"node\",\"instanceArgs\":{\"namespace\":\"html\",\"tag\":\"div\"},\"children\":[{\"props\":{\"className\":\"interact \",\"style\":{\"padding\":\"5px 10px 0px 10px\"}},\"nodeType\":\"DOM\",\"type\":\"node\",\"instanceArgs\":{\"namespace\":\"html\",\"tag\":\"label\"},\"children\":[\"frame_index\"]}]},{\"props\":{\"className\":\"interact-flex-row-center\"},\"nodeType\":\"DOM\",\"type\":\"node\",\"instanceArgs\":{\"namespace\":\"html\",\"tag\":\"div\"},\"children\":[{\"props\":{\"max\":100,\"min\":1,\"attributes\":{\"type\":\"range\",\"data-bind\":\"numericValue: index, valueUpdate: 'input', event: {change: function (){this.changes(this.changes()+1)}}\",\"orient\":\"horizontal\"},\"step\":1,\"className\":\"slider slider is-fullwidth\",\"style\":{}},\"nodeType\":\"DOM\",\"type\":\"node\",\"instanceArgs\":{\"namespace\":\"html\",\"tag\":\"input\"},\"children\":[]}]},{\"props\":{\"className\":\"interact-flex-row-right\"},\"nodeType\":\"DOM\",\"type\":\"node\",\"instanceArgs\":{\"namespace\":\"html\",\"tag\":\"div\"},\"children\":[{\"props\":{\"attributes\":{\"data-bind\":\"text: formatted_val\"}},\"nodeType\":\"DOM\",\"type\":\"node\",\"instanceArgs\":{\"namespace\":\"html\",\"tag\":\"p\"},\"children\":[]}]}]}]}]},{\"props\":{},\"nodeType\":\"Scope\",\"type\":\"node\",\"instanceArgs\":{\"imports\":{\"data\":[],\"type\":\"async_block\"},\"id\":\"scope-efd4bc8a-42be-4492-9e82-15a15ccaf83c\",\"handlers\":{},\"systemjs_options\":null,\"mount_callbacks\":[],\"observables\":{\"obs-node\":{\"sync\":false,\"id\":\"ob_98\",\"value\":{\"props\":{\"className\":\"interact-flex-row interact-widget\"},\"nodeType\":\"DOM\",\"type\":\"node\",\"instanceArgs\":{\"namespace\":\"html\",\"tag\":\"div\"},\"children\":[{\"props\":{\"setInnerHtml\":\"<img src='data:image\\/png;base64,iVBORw0KGgoAAAANSUhEUgAAA+gAAABkCAIAAACaW42NAAAABmJLR0QA\\/wD\\/AP+gvaeTAAAEYklEQVR4nO3cz4sWdRwH8M\\/ss\\/M8z+6jz7O7Kkm\\/1DUja5UOFplsmghp1KE6RUKSBF26RR20m\\/4TQVF5kLwEioEIIloI0UUSIcTw4E8qZbd1fXaf3Wc6POu2P1wlkH0e8\\/ViDjPf+Q685zLzmZnvfCMAAAAAAAAAAAAAAAAAAAAAAAAAAAAAAAAAAAAAAAAAAAAAAAAAAAAAAAAAAAAAAAAAAAAAAAAAAAAAAAAAAAAAAAAAAAAAAAAAAAAAAAAAAAAAAAAAAAAAAAAAAAAAAAAAAAAAAAAAAAAAAAAAAAAAAAAAAAAAAAAAAAAAAAAAAAAAgHmVNDsATLPz409f3bix2SkAAFpOe7MDwDTXbwz+cuZcs1PQcpYkxUqSzrX3cn14OMZnNI5F7WYMznVIPoodUbpv+Wh5aS0rD2UzW5MoVxaO58b+TAeqxbYZO+v1+uDQcD4rFqNznlIC3JXCHWh1n6ze8OhrfTEyszSfkESkuYNfHDx+68pk28Xs3KHkq9zcl7jxGFsdL2yKt+97WlrQ07\\/Xdhy4OZZLIv6t3ZPOtPPEhz8Mn9x+5INCWz5qsz5BJ5F1ZIPDQ2tjw4Z4Y14TA9yJwh1oaeVIH9u2JhYW7t5t29b+498fmNw8mRwaiVtTO\\/Q\\/2b9q0ap9p\\/fV6rVGy9n4+eV4PR\\/F+56ZVvPm0WpHNZtatcfG5fFuXzxe+ezbzwdGB6Z23tK7ZemCpft\\/3T+eTTwrno4fX4qtd3kOBJgfLkNAS6skaVar3\\/N3nFx5Wv09WbUfe\\/9YuVCOiO5id293767+XXtP7m2U722RG4lbCveHQbF6u2Q\\/viMW5CMiejpiRXdk2cDIRNV+auepNJdGxKKORcu7lu9+ZfeeE3sa5XsSSS1GFe5A080c0gcAALQg7w+AljaQ1ZL03q8YxgerUzcL0dFY2fzN5sbK7KEy9Rif7Mb\\/W7V4+5vNpq8nVhpDZd5bWylULsWliFj\\/5frGntlDZbLI0sjPb2SAO8g1OwBMs3rtuq6exc1OQQsZifqaG\\/nyE4uzwZG4WbvDMlyLWv3wd0cvjA1NHtWdLT6fnClEMY1CY7kycPXM1bO5rL2x2Ra5Z+PFlbGmiafGvPmrp63vt1q10Daaj9F8MppPRi8P1H660P7OcyseWXn4wpFKvlzKLyilpVJaujZ07fz1851pZylf6kw7x2vZ89G\\/LJ5p9kkAmMedFvPW9o+WPeUGyUxLIl9pm\\/P\\/1Iv14ep\\/nA6yEMWi6SAfJu1jWeXvWdNBRpS7FtZzY3+YDhJ4EBgqQ2vp6S6v61vV7BQ8YLqaHYAH3ZJmBwAAAAAAAAAAAAAAAAAAAAAAAAAAAAAAAAAAAAAAAAAAAAAAAAAAAAAAAAAAAAAAAAAAAAAAAAAAAAAAAAAAAAAAAAAAAAAAAAAAAAAAAAAAAAAAAAAAAAAAAAAAAAAAAAAAAAAAAAAAAAAAAAAAAAAAAAAAAAAAAAAAAAAAAAAAAAAAAFrQP\\/u5A760lpGNAAAAAElFTkSuQmCC'><\\/img>\"},\"nodeType\":\"DOM\",\"type\":\"node\",\"instanceArgs\":{\"namespace\":\"html\",\"tag\":\"div\"},\"children\":[]}]}}}},\"children\":[{\"props\":{},\"nodeType\":\"ObservableNode\",\"type\":\"node\",\"instanceArgs\":{\"id\":\"ob_98\",\"name\":\"obs-node\"},\"children\":[]}]}]},\n",
       "            window,\n",
       "        );\n",
       "    } else {\n",
       "        document\n",
       "            .querySelector('[data-webio-mountpoint=\"7199577652161584839\"]')\n",
       "            .innerHTML = '<strong>WebIO not detected.</strong>';\n",
       "    }\n",
       "    </script>\n",
       "</div>\n"
      ],
      "text/plain": [
       "Node{WebIO.DOM}(WebIO.DOM(:html, :div), Any[Node{DOM}(DOM(:html, :div), Any[Scope(\"knockout-component-fc23c668-8189-4d1b-9a74-991d541c75e5\", Node{DOM}(DOM(:html, :div), Any[Node{DOM}(DOM(:html, :div), Any[Node{DOM}(DOM(:html, :label), Any[\"frame_index\"], Dict{Symbol,Any}(:className=>\"interact \",:style=>Dict{Any,Any}(:padding=>\"5px 10px 0px 10px\")), 1)], Dict{Symbol,Any}(:className=>\"interact-flex-row-left\"), 2), Node{DOM}(DOM(:html, :div), Any[Node{DOM}(DOM(:html, :input), Any[], Dict{Symbol,Any}(:max=>100,:min=>1,:attributes=>Dict{Any,Any}(:type=>\"range\",Symbol(\"data-bind\")=>\"numericValue: index, valueUpdate: 'input', event: {change: function (){this.changes(this.changes()+1)}}\",\"orient\"=>\"horizontal\"),:step=>1,:className=>\"slider slider is-fullwidth\",:style=>Dict{Any,Any}()), 0)], Dict{Symbol,Any}(:className=>\"interact-flex-row-center\"), 1), Node{DOM}(DOM(:html, :div), Any[Node{DOM}(DOM(:html, :p), Any[], Dict{Symbol,Any}(:attributes=>Dict(\"data-bind\"=>\"text: formatted_val\")), 0)], Dict{Symbol,Any}(:className=>\"interact-flex-row-right\"), 1)], Dict{Symbol,Any}(:className=>\"interact-flex-row interact-widget\"), 7), Dict{String,Tuple{Observables.AbstractObservable,Union{Nothing, Bool}}}(\"changes\"=>(Observable{Int64} with 1 listeners. Value:\n",
       "0, nothing),\"index\"=>(Observable{Int64} with 2 listeners. Value:\n",
       "50, nothing)), Set(String[]), nothing, Asset[Asset(\"js\", \"knockout\", \"/home/raunak/.julia/packages/Knockout/JE2Yq/src/../assets/knockout.js\"), Asset(\"js\", \"knockout_punches\", \"/home/raunak/.julia/packages/Knockout/JE2Yq/src/../assets/knockout_punches.js\"), Asset(\"js\", nothing, \"/home/raunak/.julia/packages/InteractBase/R8JgH/src/../assets/all.js\"), Asset(\"css\", nothing, \"/home/raunak/.julia/packages/InteractBase/R8JgH/src/../assets/style.css\"), Asset(\"css\", nothing, \"/home/raunak/.julia/packages/Interact/0klKX/src/../assets/bulma_confined.min.css\")], Dict{Any,Any}(\"changes\"=>Any[JSString(\"(function (val){return (val!=this.model[\\\"changes\\\"]()) ? (this.valueFromJulia[\\\"changes\\\"]=true, this.model[\\\"changes\\\"](val)) : undefined})\")],\"index\"=>Any[JSString(\"(function (val){return (val!=this.model[\\\"index\\\"]()) ? (this.valueFromJulia[\\\"index\\\"]=true, this.model[\\\"index\\\"](val)) : undefined})\")]), ConnectionPool(Channel{Any}(sz_max:9223372036854775807,sz_curr:0), Set(AbstractConnection[]), Channel{AbstractConnection}(sz_max:32,sz_curr:0)), WebIO.JSString[JSString(\"function () {\\n    var handler = (function (ko, koPunches) {\\n    ko.punches.enableAll();\\n    ko.bindingHandlers.numericValue = {\\n        init : function(element, valueAccessor, allBindings, data, context) {\\n            var stringified = ko.observable(ko.unwrap(valueAccessor()));\\n            stringified.subscribe(function(value) {\\n                var val = parseFloat(value);\\n                if (!isNaN(val)) {\\n                    valueAccessor()(val);\\n                }\\n            })\\n            valueAccessor().subscribe(function(value) {\\n                var str = JSON.stringify(value);\\n                if ((str == \\\"0\\\") && ([\\\"-0\\\", \\\"-0.\\\"].indexOf(stringified()) >= 0))\\n                     return;\\n                 if ([\\\"null\\\", \\\"\\\"].indexOf(str) >= 0)\\n                     return;\\n                stringified(str);\\n            })\\n            ko.applyBindingsToNode(element, { value: stringified, valueUpdate: allBindings.get('valueUpdate')}, context);\\n        }\\n    };\\n    var json_data = {\\\"formatted_vals\\\":[\\\"1\\\",\\\"2\\\",\\\"3\\\",\\\"4\\\",\\\"5\\\",\\\"6\\\",\\\"7\\\",\\\"8\\\",\\\"9\\\",\\\"10\\\",\\\"11\\\",\\\"12\\\",\\\"13\\\",\\\"14\\\",\\\"15\\\",\\\"16\\\",\\\"17\\\",\\\"18\\\",\\\"19\\\",\\\"20\\\",\\\"21\\\",\\\"22\\\",\\\"23\\\",\\\"24\\\",\\\"25\\\",\\\"26\\\",\\\"27\\\",\\\"28\\\",\\\"29\\\",\\\"30\\\",\\\"31\\\",\\\"32\\\",\\\"33\\\",\\\"34\\\",\\\"35\\\",\\\"36\\\",\\\"37\\\",\\\"38\\\",\\\"39\\\",\\\"40\\\",\\\"41\\\",\\\"42\\\",\\\"43\\\",\\\"44\\\",\\\"45\\\",\\\"46\\\",\\\"47\\\",\\\"48\\\",\\\"49\\\",\\\"50\\\",\\\"51\\\",\\\"52\\\",\\\"53\\\",\\\"54\\\",\\\"55\\\",\\\"56\\\",\\\"57\\\",\\\"58\\\",\\\"59\\\",\\\"60\\\",\\\"61\\\",\\\"62\\\",\\\"63\\\",\\\"64\\\",\\\"65\\\",\\\"66\\\",\\\"67\\\",\\\"68\\\",\\\"69\\\",\\\"70\\\",\\\"71\\\",\\\"72\\\",\\\"73\\\",\\\"74\\\",\\\"75\\\",\\\"76\\\",\\\"77\\\",\\\"78\\\",\\\"79\\\",\\\"80\\\",\\\"81\\\",\\\"82\\\",\\\"83\\\",\\\"84\\\",\\\"85\\\",\\\"86\\\",\\\"87\\\",\\\"88\\\",\\\"89\\\",\\\"90\\\",\\\"91\\\",\\\"92\\\",\\\"93\\\",\\\"94\\\",\\\"95\\\",\\\"96\\\",\\\"97\\\",\\\"98\\\",\\\"99\\\",\\\"100\\\"],\\\"changes\\\":WebIO.getval({\\\"name\\\":\\\"changes\\\",\\\"scope\\\":\\\"knockout-component-fc23c668-8189-4d1b-9a74-991d541c75e5\\\",\\\"id\\\":\\\"ob_94\\\",\\\"type\\\":\\\"observable\\\"}),\\\"index\\\":WebIO.getval({\\\"name\\\":\\\"index\\\",\\\"scope\\\":\\\"knockout-component-fc23c668-8189-4d1b-9a74-991d541c75e5\\\",\\\"id\\\":\\\"ob_93\\\",\\\"type\\\":\\\"observable\\\"})};\\n    var self = this;\\n    function AppViewModel() {\\n        for (var key in json_data) {\\n            var el = json_data[key];\\n            this[key] = Array.isArray(el) ? ko.observableArray(el) : ko.observable(el);\\n        }\\n        \\n        [this[\\\"formatted_val\\\"]=ko.computed(    function(){\\n        return this.formatted_vals()[parseInt(this.index())-1];\\n    }\\n,this)]\\n        [this[\\\"changes\\\"].subscribe((function (val){!(this.valueFromJulia[\\\"changes\\\"]) ? (WebIO.setval({\\\"name\\\":\\\"changes\\\",\\\"scope\\\":\\\"knockout-component-fc23c668-8189-4d1b-9a74-991d541c75e5\\\",\\\"id\\\":\\\"ob_94\\\",\\\"type\\\":\\\"observable\\\"},val)) : undefined; return this.valueFromJulia[\\\"changes\\\"]=false}),self),this[\\\"index\\\"].subscribe((function (val){!(this.valueFromJulia[\\\"index\\\"]) ? (WebIO.setval({\\\"name\\\":\\\"index\\\",\\\"scope\\\":\\\"knockout-component-fc23c668-8189-4d1b-9a74-991d541c75e5\\\",\\\"id\\\":\\\"ob_93\\\",\\\"type\\\":\\\"observable\\\"},val)) : undefined; return this.valueFromJulia[\\\"index\\\"]=false}),self)]\\n        \\n    }\\n    self.model = new AppViewModel();\\n    self.valueFromJulia = {};\\n    for (var key in json_data) {\\n        self.valueFromJulia[key] = false;\\n    }\\n    ko.applyBindings(self.model, self.dom);\\n}\\n);\\n    (WebIO.importBlock({\\\"data\\\":[{\\\"name\\\":\\\"knockout\\\",\\\"type\\\":\\\"js\\\",\\\"url\\\":\\\"/assetserver/f936dcc9f45df93d9de16372002c6e658515efa3-knockout.js\\\"},{\\\"name\\\":\\\"knockout_punches\\\",\\\"type\\\":\\\"js\\\",\\\"url\\\":\\\"/assetserver/eea729a4d8992cb39ebb7eed78de80a76cb7c57b-knockout_punches.js\\\"}],\\\"type\\\":\\\"async_block\\\"})).then((imports) => handler.apply(this, imports));\\n}\\n\")])], Dict{Symbol,Any}(:className=>\"field interact-widget\"), 1), Observable{Any} with 0 listeners. Value:\n",
       "Node{DOM}(DOM(:html, :div), Any[CairoSurfaceBase{UInt32}(Ptr{Nothing} @0x000000002d2b3030, 1000.0, 100.0)], Dict{Symbol,Any}(:className=>\"interact-flex-row interact-widget\"), 1)], Dict{Symbol,Any}(), 2)"
      ]
     },
     "execution_count": 44,
     "metadata": {
      "application/vnd.webio.node+json": {
       "kernelId": "964f4de7-0c38-4e5c-9735-7d20ab8afeb1"
      }
     },
     "output_type": "execute_result"
    }
   ],
   "source": [
    "@manipulate for frame_index in 1:nframes(rec_sim_pf)\n",
    "    overlay_truth = my_overlay(rec[frame_index-nframes(rec_sim_pf)],colorant\"white\")\n",
    "    overlay_cem = my_overlay(rec_sim_cem[frame_index-nframes(rec_sim_pf)],colorant\"green\")\n",
    "    render(rec_sim_pf[frame_index-nframes(rec_sim_pf)], roadway, \n",
    "        [overlay_truth,overlay_cem], canvas_height=100)\n",
    "end"
   ]
  },
  {
   "cell_type": "code",
   "execution_count": 48,
   "metadata": {},
   "outputs": [
    {
     "data": {
      "text/plain": [
       "make_gif"
      ]
     },
     "execution_count": 48,
     "metadata": {},
     "output_type": "execute_result"
    }
   ],
   "source": [
    "\"\"\"\n",
    "Make a gif with vanilla pf in pink, ground truth in white and cem pf in blue\n",
    "\"\"\"\n",
    "function make_gif(rec_true::SceneRecord,rec_sim_pf::SceneRecord,rec_sim_cem::SceneRecord,\n",
    "    roadway,dt::Float64)\n",
    "    duration =rec_sim_pf.nframes*dt\n",
    "    fps = Int(1/dt)\n",
    "    function render_rec(t, dt)\n",
    "        frame_index = Int(floor(t/dt)) + 1\n",
    "        overlay_truth = my_overlay(rec_true[frame_index-nframes(rec_sim_pf)],colorant\"white\")\n",
    "        overlay_cem = my_overlay(rec_sim_cem[frame_index-nframes(rec_sim_pf)],colorant\"blue\")\n",
    "        render(rec_sim_pf[frame_index-nframes(rec_sim_pf)], roadway, \n",
    "            [overlay_truth,overlay_cem], canvas_height=100)\n",
    "    end\n",
    "    return duration,fps,render_rec\n",
    "end"
   ]
  },
  {
   "cell_type": "code",
   "execution_count": 53,
   "metadata": {},
   "outputs": [
    {
     "data": {
      "text/plain": [
       "(10.0, 10, getfield(Main, Symbol(\"#render_rec#32\")){QueueRecord{Entity{VehicleState,VehicleDef,Int64}},QueueRecord{Entity{VehicleState,VehicleDef,Int64}},QueueRecord{Entity{VehicleState,VehicleDef,Int64}},Roadway{Float64}}(SceneRecord(nscenes=100), SceneRecord(nscenes=100), SceneRecord(nscenes=100), Roadway))"
      ]
     },
     "execution_count": 53,
     "metadata": {},
     "output_type": "execute_result"
    }
   ],
   "source": [
    "# Lets use make_gif to make a gif\n",
    "duration, fps, render_hist = make_gif(rec, rec_sim_pf,rec_sim_cem, roadway, 0.1)"
   ]
  },
  {
   "cell_type": "code",
   "execution_count": 54,
   "metadata": {},
   "outputs": [],
   "source": [
    "film = roll(render_hist,fps=fps,duration=duration);"
   ]
  },
  {
   "cell_type": "code",
   "execution_count": 55,
   "metadata": {},
   "outputs": [
    {
     "data": {
      "text/plain": [
       "\"5car_ghost+pf+cem.gif\""
      ]
     },
     "execution_count": 55,
     "metadata": {},
     "output_type": "execute_result"
    }
   ],
   "source": [
    "write(\"5car_ghost+pf+cem.gif\",film)"
   ]
  },
  {
   "cell_type": "code",
   "execution_count": 31,
   "metadata": {},
   "outputs": [
    {
     "ename": "ErrorException",
     "evalue": "invalid redefinition of constant ghost_overlay",
     "output_type": "error",
     "traceback": [
      "invalid redefinition of constant ghost_overlay",
      "",
      "Stacktrace:",
      " [1] top-level scope at none:0"
     ]
    }
   ],
   "source": [
    "# Experiment with multiple overlays simultaneously\n",
    "# To help us visualize both cem and pf result in the same video\n",
    "struct ghost_overlay <: SceneOverlay\n",
    "    sim_scene::Scene\n",
    "    color\n",
    "end"
   ]
  },
  {
   "cell_type": "code",
   "execution_count": 21,
   "metadata": {},
   "outputs": [],
   "source": [
    "function AutoViz.render!(rendermodel::RenderModel,overlay::ghost_overlay, \n",
    "        scene::Scene, roadway::Roadway)\n",
    "    AutoViz.render!(rendermodel,overlay.sim_scene,car_color = colorant\"white\")\n",
    "    return rendermodel\n",
    "end"
   ]
  },
  {
   "cell_type": "code",
   "execution_count": 22,
   "metadata": {},
   "outputs": [],
   "source": [
    "struct method1_overlay <: SceneOverlay\n",
    "    method1_scene::Scene\n",
    "end"
   ]
  },
  {
   "cell_type": "code",
   "execution_count": 23,
   "metadata": {},
   "outputs": [],
   "source": [
    "function AutoViz.render!(rendermodel::RenderModel,overlay::method1_overlay, \n",
    "        scene::Scene, roadway::Roadway)\n",
    "    AutoViz.render!(rendermodel,overlay.method1_scene,car_color = colorant\"blue\")\n",
    "    return rendermodel\n",
    "end"
   ]
  },
  {
   "cell_type": "code",
   "execution_count": 29,
   "metadata": {},
   "outputs": [
    {
     "data": {
      "application/vnd.webio.node+json": {
       "children": [
        {
         "children": [
          {
           "children": [
            {
             "children": [
              {
               "children": [
                {
                 "children": [
                  "frame_index"
                 ],
                 "instanceArgs": {
                  "namespace": "html",
                  "tag": "label"
                 },
                 "nodeType": "DOM",
                 "props": {
                  "className": "interact ",
                  "style": {
                   "padding": "5px 10px 0px 10px"
                  }
                 },
                 "type": "node"
                }
               ],
               "instanceArgs": {
                "namespace": "html",
                "tag": "div"
               },
               "nodeType": "DOM",
               "props": {
                "className": "interact-flex-row-left"
               },
               "type": "node"
              },
              {
               "children": [
                {
                 "children": [],
                 "instanceArgs": {
                  "namespace": "html",
                  "tag": "input"
                 },
                 "nodeType": "DOM",
                 "props": {
                  "attributes": {
                   "data-bind": "numericValue: index, valueUpdate: 'input', event: {change: function (){this.changes(this.changes()+1)}}",
                   "orient": "horizontal",
                   "type": "range"
                  },
                  "className": "slider slider is-fullwidth",
                  "max": 100,
                  "min": 1,
                  "step": 1,
                  "style": {}
                 },
                 "type": "node"
                }
               ],
               "instanceArgs": {
                "namespace": "html",
                "tag": "div"
               },
               "nodeType": "DOM",
               "props": {
                "className": "interact-flex-row-center"
               },
               "type": "node"
              },
              {
               "children": [
                {
                 "children": [],
                 "instanceArgs": {
                  "namespace": "html",
                  "tag": "p"
                 },
                 "nodeType": "DOM",
                 "props": {
                  "attributes": {
                   "data-bind": "text: formatted_val"
                  }
                 },
                 "type": "node"
                }
               ],
               "instanceArgs": {
                "namespace": "html",
                "tag": "div"
               },
               "nodeType": "DOM",
               "props": {
                "className": "interact-flex-row-right"
               },
               "type": "node"
              }
             ],
             "instanceArgs": {
              "namespace": "html",
              "tag": "div"
             },
             "nodeType": "DOM",
             "props": {
              "className": "interact-flex-row interact-widget"
             },
             "type": "node"
            }
           ],
           "instanceArgs": {
            "handlers": {
             "changes": [
              "(function (val){return (val!=this.model[\"changes\"]()) ? (this.valueFromJulia[\"changes\"]=true, this.model[\"changes\"](val)) : undefined})"
             ],
             "index": [
              "(function (val){return (val!=this.model[\"index\"]()) ? (this.valueFromJulia[\"index\"]=true, this.model[\"index\"](val)) : undefined})"
             ]
            },
            "id": "knockout-component-ac195628-8996-4343-a065-21cec19dbfd8",
            "imports": {
             "data": [
              {
               "name": "knockout",
               "type": "js",
               "url": "/assetserver/f936dcc9f45df93d9de16372002c6e658515efa3-knockout.js"
              },
              {
               "name": "knockout_punches",
               "type": "js",
               "url": "/assetserver/eea729a4d8992cb39ebb7eed78de80a76cb7c57b-knockout_punches.js"
              },
              {
               "name": null,
               "type": "js",
               "url": "/assetserver/3feee531db140e1a3f0eca5c18aad38e15512c2e-all.js"
              },
              {
               "name": null,
               "type": "css",
               "url": "/assetserver/e4ce0d341b11abf0770fda2ba7f49f2f081729e2-style.css"
              },
              {
               "name": null,
               "type": "css",
               "url": "/assetserver/76755bfdf2fdfcaa91db7c6fbc58601e7593715c-bulma_confined.min.css"
              }
             ],
             "type": "async_block"
            },
            "mount_callbacks": [
             "function () {\n    var handler = (function (ko, koPunches) {\n    ko.punches.enableAll();\n    ko.bindingHandlers.numericValue = {\n        init : function(element, valueAccessor, allBindings, data, context) {\n            var stringified = ko.observable(ko.unwrap(valueAccessor()));\n            stringified.subscribe(function(value) {\n                var val = parseFloat(value);\n                if (!isNaN(val)) {\n                    valueAccessor()(val);\n                }\n            })\n            valueAccessor().subscribe(function(value) {\n                var str = JSON.stringify(value);\n                if ((str == \"0\") && ([\"-0\", \"-0.\"].indexOf(stringified()) >= 0))\n                     return;\n                 if ([\"null\", \"\"].indexOf(str) >= 0)\n                     return;\n                stringified(str);\n            })\n            ko.applyBindingsToNode(element, { value: stringified, valueUpdate: allBindings.get('valueUpdate')}, context);\n        }\n    };\n    var json_data = {\"formatted_vals\":[\"1\",\"2\",\"3\",\"4\",\"5\",\"6\",\"7\",\"8\",\"9\",\"10\",\"11\",\"12\",\"13\",\"14\",\"15\",\"16\",\"17\",\"18\",\"19\",\"20\",\"21\",\"22\",\"23\",\"24\",\"25\",\"26\",\"27\",\"28\",\"29\",\"30\",\"31\",\"32\",\"33\",\"34\",\"35\",\"36\",\"37\",\"38\",\"39\",\"40\",\"41\",\"42\",\"43\",\"44\",\"45\",\"46\",\"47\",\"48\",\"49\",\"50\",\"51\",\"52\",\"53\",\"54\",\"55\",\"56\",\"57\",\"58\",\"59\",\"60\",\"61\",\"62\",\"63\",\"64\",\"65\",\"66\",\"67\",\"68\",\"69\",\"70\",\"71\",\"72\",\"73\",\"74\",\"75\",\"76\",\"77\",\"78\",\"79\",\"80\",\"81\",\"82\",\"83\",\"84\",\"85\",\"86\",\"87\",\"88\",\"89\",\"90\",\"91\",\"92\",\"93\",\"94\",\"95\",\"96\",\"97\",\"98\",\"99\",\"100\"],\"changes\":WebIO.getval({\"name\":\"changes\",\"scope\":\"knockout-component-ac195628-8996-4343-a065-21cec19dbfd8\",\"id\":\"ob_76\",\"type\":\"observable\"}),\"index\":WebIO.getval({\"name\":\"index\",\"scope\":\"knockout-component-ac195628-8996-4343-a065-21cec19dbfd8\",\"id\":\"ob_75\",\"type\":\"observable\"})};\n    var self = this;\n    function AppViewModel() {\n        for (var key in json_data) {\n            var el = json_data[key];\n            this[key] = Array.isArray(el) ? ko.observableArray(el) : ko.observable(el);\n        }\n        \n        [this[\"formatted_val\"]=ko.computed(    function(){\n        return this.formatted_vals()[parseInt(this.index())-1];\n    }\n,this)]\n        [this[\"changes\"].subscribe((function (val){!(this.valueFromJulia[\"changes\"]) ? (WebIO.setval({\"name\":\"changes\",\"scope\":\"knockout-component-ac195628-8996-4343-a065-21cec19dbfd8\",\"id\":\"ob_76\",\"type\":\"observable\"},val)) : undefined; return this.valueFromJulia[\"changes\"]=false}),self),this[\"index\"].subscribe((function (val){!(this.valueFromJulia[\"index\"]) ? (WebIO.setval({\"name\":\"index\",\"scope\":\"knockout-component-ac195628-8996-4343-a065-21cec19dbfd8\",\"id\":\"ob_75\",\"type\":\"observable\"},val)) : undefined; return this.valueFromJulia[\"index\"]=false}),self)]\n        \n    }\n    self.model = new AppViewModel();\n    self.valueFromJulia = {};\n    for (var key in json_data) {\n        self.valueFromJulia[key] = false;\n    }\n    ko.applyBindings(self.model, self.dom);\n}\n);\n    (WebIO.importBlock({\"data\":[{\"name\":\"knockout\",\"type\":\"js\",\"url\":\"/assetserver/f936dcc9f45df93d9de16372002c6e658515efa3-knockout.js\"},{\"name\":\"knockout_punches\",\"type\":\"js\",\"url\":\"/assetserver/eea729a4d8992cb39ebb7eed78de80a76cb7c57b-knockout_punches.js\"}],\"type\":\"async_block\"})).then((imports) => handler.apply(this, imports));\n}\n"
            ],
            "observables": {
             "changes": {
              "id": "ob_76",
              "sync": false,
              "value": 0
             },
             "index": {
              "id": "ob_75",
              "sync": true,
              "value": 50
             }
            },
            "systemjs_options": null
           },
           "nodeType": "Scope",
           "props": {},
           "type": "node"
          }
         ],
         "instanceArgs": {
          "namespace": "html",
          "tag": "div"
         },
         "nodeType": "DOM",
         "props": {
          "className": "field interact-widget"
         },
         "type": "node"
        },
        {
         "children": [
          {
           "children": [],
           "instanceArgs": {
            "id": "ob_82",
            "name": "obs-node"
           },
           "nodeType": "ObservableNode",
           "props": {},
           "type": "node"
          }
         ],
         "instanceArgs": {
          "handlers": {},
          "id": "scope-2b070ec9-bca8-4ce1-b722-fd34fe0c1ca2",
          "imports": {
           "data": [],
           "type": "async_block"
          },
          "mount_callbacks": [],
          "observables": {
           "obs-node": {
            "id": "ob_82",
            "sync": false,
            "value": {
             "children": [
              {
               "children": [],
               "instanceArgs": {
                "namespace": "html",
                "tag": "div"
               },
               "nodeType": "DOM",
               "props": {
                "setInnerHtml": "<img src='data:image/png;base64,iVBORw0KGgoAAAANSUhEUgAAA+gAAABkCAIAAACaW42NAAAABmJLR0QA/wD/AP+gvaeTAAAEaUlEQVR4nO3dy29UVRwH8N/MdB6doTO0QEIUw0uUanksMIpIikiiJLowrIwsSIwJG3dGF7CEf8KVCQsCGxMMbjCk0QjRmCgJPogBieER4gNb2jLT2864YKi0ZWBDOgN8PrmLe8+5J/ne3e/ee+65EQAAAAAAAAAAAAAAAAAAAAAAAAAAAAAAAAAAAAAAAAAAAAAAAAAAAAAAAAAAAAAAAAAAAAAAAAAAAAAAAAAAAAAAAAAAAAAAAAAAAAAAAAAAAAAAAAAAAAAAAAAAAAAAAAAAAAAAAAAAAAAAAAAAAAAAAAAAAAAAAAAAAAAAAAAAAADAvEq1OwDM8N4HH706ONjuFAAAHaer3QFghn+uj3x/9rd2p6DjLEkVKqlsq94r9fHxmJrVOJl0jY2WWg3J5Se6izcfWD46XjZplEcbs1tTUa70TNVzf9W6q4X0rM56vT4yOp7LVwvd1XlKCXBPCneg033Yv+WJ1weiNrs0b0pFZDPHPjk2dPPqdNul35d9fuTNTKbFkIipqUz/hl+37Rx60GHpRM9cSPYcHZvMpCL+r91TxWzxq/e/+KG8e28un4tI3eUldKMRIzeS9S+c2fLaqXlNDHA3Cnego5Uj++TOddGTv/dpO9/YOvTZ0enDr798pVadMWTr1lizJg4diiRptvz8Y//L20/l8hMPOjId560T1e5q486qPQZXxDsDsazy8a7c8MiMk3fsiKVL4/DhmGre9+XOfLfhpcFvM10t7wMB5ofCHeholVS2kdTv+zlOply483C6aj95MsrliIje3li1Kvbti4MHm+V7Ol2vVfMK98dBoXq7ZB/aEwtyERF93bGyNxqN4eFmz+nTkc1GRCxaFCtWxP79ceBAs3xPpRpJklW4A203e0ofAADQgTxxBzracCNJZe//iGFqZMbng/lC7dbO9u3NlrlTZer19PRpPNqqhdvvbLZ92ty5NVXm3fWVSu7y5YiIzZubPXOmykSjkcpmkwBot0y7A8AM/es3Lexb3O4UdJBa1Nddz5WfWtwYqcVYcpdtPImkfvzIiYuTo9Ojevv+PX9udT4/kc0lt7arV5OzPyWZTPMwnak/t/GX1WsvtPHSmDd/96UHziXVfHoiFxO51EQuNXFlOPnmYteu51c+23X8RKbSE6VSlBZEqRTXrsX581EsRqkUxWJM1ZONL55ZvvqPdl8EgHXc6TBv7967/Om17U5Bx1kSuUq65fepl+rj1bnLQU5mxm4saDUkn68Vitb4e4x0TTYqN+YsBxlRXthTr2f/rBUtBwl0PlNl6Cx9veVNA2vanYKHzMJ2B+Bht6RlT8tfAQAAAAAAAAAAAAAAAAAAAAAAAAAAAAAAAAAAAAAAAAAAAAAAAAAAAAAAAAAAAAAAAAAAAAAAAAAAAAAAAAAAAAAAAAAAAAAAAAAAAAAAAAAAAAAAAAAAAAAAAAAAAAAAAAAAAAAAAAAAAAAAAAAAAAAAAAAAAAAAAAAAAAAAAAAAAAAAAI+8/wDB4gqzQ6wbqQAAAABJRU5ErkJggg=='></img>"
               },
               "type": "node"
              }
             ],
             "instanceArgs": {
              "namespace": "html",
              "tag": "div"
             },
             "nodeType": "DOM",
             "props": {
              "className": "interact-flex-row interact-widget"
             },
             "type": "node"
            }
           }
          },
          "systemjs_options": null
         },
         "nodeType": "Scope",
         "props": {},
         "type": "node"
        }
       ],
       "instanceArgs": {
        "namespace": "html",
        "tag": "div"
       },
       "nodeType": "DOM",
       "props": {},
       "type": "node"
      },
      "text/html": [
       "<div\n",
       "    class=\"webio-mountpoint\"\n",
       "    data-webio-mountpoint=\"14157483399903194288\"\n",
       ">\n",
       "    <script>\n",
       "    if (window.require && require.defined && require.defined(\"nbextensions/webio/main\")) {\n",
       "        console.log(\"Jupyter WebIO extension detected, not mounting.\");\n",
       "    } else if (window.WebIO) {\n",
       "        WebIO.mount(\n",
       "            document.querySelector('[data-webio-mountpoint=\"14157483399903194288\"]'),\n",
       "            {\"props\":{},\"nodeType\":\"DOM\",\"type\":\"node\",\"instanceArgs\":{\"namespace\":\"html\",\"tag\":\"div\"},\"children\":[{\"props\":{\"className\":\"field interact-widget\"},\"nodeType\":\"DOM\",\"type\":\"node\",\"instanceArgs\":{\"namespace\":\"html\",\"tag\":\"div\"},\"children\":[{\"props\":{},\"nodeType\":\"Scope\",\"type\":\"node\",\"instanceArgs\":{\"imports\":{\"data\":[{\"name\":\"knockout\",\"type\":\"js\",\"url\":\"\\/assetserver\\/f936dcc9f45df93d9de16372002c6e658515efa3-knockout.js\"},{\"name\":\"knockout_punches\",\"type\":\"js\",\"url\":\"\\/assetserver\\/eea729a4d8992cb39ebb7eed78de80a76cb7c57b-knockout_punches.js\"},{\"name\":null,\"type\":\"js\",\"url\":\"\\/assetserver\\/3feee531db140e1a3f0eca5c18aad38e15512c2e-all.js\"},{\"name\":null,\"type\":\"css\",\"url\":\"\\/assetserver\\/e4ce0d341b11abf0770fda2ba7f49f2f081729e2-style.css\"},{\"name\":null,\"type\":\"css\",\"url\":\"\\/assetserver\\/76755bfdf2fdfcaa91db7c6fbc58601e7593715c-bulma_confined.min.css\"}],\"type\":\"async_block\"},\"id\":\"knockout-component-ac195628-8996-4343-a065-21cec19dbfd8\",\"handlers\":{\"changes\":[\"(function (val){return (val!=this.model[\\\"changes\\\"]()) ? (this.valueFromJulia[\\\"changes\\\"]=true, this.model[\\\"changes\\\"](val)) : undefined})\"],\"index\":[\"(function (val){return (val!=this.model[\\\"index\\\"]()) ? (this.valueFromJulia[\\\"index\\\"]=true, this.model[\\\"index\\\"](val)) : undefined})\"]},\"systemjs_options\":null,\"mount_callbacks\":[\"function () {\\n    var handler = (function (ko, koPunches) {\\n    ko.punches.enableAll();\\n    ko.bindingHandlers.numericValue = {\\n        init : function(element, valueAccessor, allBindings, data, context) {\\n            var stringified = ko.observable(ko.unwrap(valueAccessor()));\\n            stringified.subscribe(function(value) {\\n                var val = parseFloat(value);\\n                if (!isNaN(val)) {\\n                    valueAccessor()(val);\\n                }\\n            })\\n            valueAccessor().subscribe(function(value) {\\n                var str = JSON.stringify(value);\\n                if ((str == \\\"0\\\") && ([\\\"-0\\\", \\\"-0.\\\"].indexOf(stringified()) >= 0))\\n                     return;\\n                 if ([\\\"null\\\", \\\"\\\"].indexOf(str) >= 0)\\n                     return;\\n                stringified(str);\\n            })\\n            ko.applyBindingsToNode(element, { value: stringified, valueUpdate: allBindings.get('valueUpdate')}, context);\\n        }\\n    };\\n    var json_data = {\\\"formatted_vals\\\":[\\\"1\\\",\\\"2\\\",\\\"3\\\",\\\"4\\\",\\\"5\\\",\\\"6\\\",\\\"7\\\",\\\"8\\\",\\\"9\\\",\\\"10\\\",\\\"11\\\",\\\"12\\\",\\\"13\\\",\\\"14\\\",\\\"15\\\",\\\"16\\\",\\\"17\\\",\\\"18\\\",\\\"19\\\",\\\"20\\\",\\\"21\\\",\\\"22\\\",\\\"23\\\",\\\"24\\\",\\\"25\\\",\\\"26\\\",\\\"27\\\",\\\"28\\\",\\\"29\\\",\\\"30\\\",\\\"31\\\",\\\"32\\\",\\\"33\\\",\\\"34\\\",\\\"35\\\",\\\"36\\\",\\\"37\\\",\\\"38\\\",\\\"39\\\",\\\"40\\\",\\\"41\\\",\\\"42\\\",\\\"43\\\",\\\"44\\\",\\\"45\\\",\\\"46\\\",\\\"47\\\",\\\"48\\\",\\\"49\\\",\\\"50\\\",\\\"51\\\",\\\"52\\\",\\\"53\\\",\\\"54\\\",\\\"55\\\",\\\"56\\\",\\\"57\\\",\\\"58\\\",\\\"59\\\",\\\"60\\\",\\\"61\\\",\\\"62\\\",\\\"63\\\",\\\"64\\\",\\\"65\\\",\\\"66\\\",\\\"67\\\",\\\"68\\\",\\\"69\\\",\\\"70\\\",\\\"71\\\",\\\"72\\\",\\\"73\\\",\\\"74\\\",\\\"75\\\",\\\"76\\\",\\\"77\\\",\\\"78\\\",\\\"79\\\",\\\"80\\\",\\\"81\\\",\\\"82\\\",\\\"83\\\",\\\"84\\\",\\\"85\\\",\\\"86\\\",\\\"87\\\",\\\"88\\\",\\\"89\\\",\\\"90\\\",\\\"91\\\",\\\"92\\\",\\\"93\\\",\\\"94\\\",\\\"95\\\",\\\"96\\\",\\\"97\\\",\\\"98\\\",\\\"99\\\",\\\"100\\\"],\\\"changes\\\":WebIO.getval({\\\"name\\\":\\\"changes\\\",\\\"scope\\\":\\\"knockout-component-ac195628-8996-4343-a065-21cec19dbfd8\\\",\\\"id\\\":\\\"ob_76\\\",\\\"type\\\":\\\"observable\\\"}),\\\"index\\\":WebIO.getval({\\\"name\\\":\\\"index\\\",\\\"scope\\\":\\\"knockout-component-ac195628-8996-4343-a065-21cec19dbfd8\\\",\\\"id\\\":\\\"ob_75\\\",\\\"type\\\":\\\"observable\\\"})};\\n    var self = this;\\n    function AppViewModel() {\\n        for (var key in json_data) {\\n            var el = json_data[key];\\n            this[key] = Array.isArray(el) ? ko.observableArray(el) : ko.observable(el);\\n        }\\n        \\n        [this[\\\"formatted_val\\\"]=ko.computed(    function(){\\n        return this.formatted_vals()[parseInt(this.index())-1];\\n    }\\n,this)]\\n        [this[\\\"changes\\\"].subscribe((function (val){!(this.valueFromJulia[\\\"changes\\\"]) ? (WebIO.setval({\\\"name\\\":\\\"changes\\\",\\\"scope\\\":\\\"knockout-component-ac195628-8996-4343-a065-21cec19dbfd8\\\",\\\"id\\\":\\\"ob_76\\\",\\\"type\\\":\\\"observable\\\"},val)) : undefined; return this.valueFromJulia[\\\"changes\\\"]=false}),self),this[\\\"index\\\"].subscribe((function (val){!(this.valueFromJulia[\\\"index\\\"]) ? (WebIO.setval({\\\"name\\\":\\\"index\\\",\\\"scope\\\":\\\"knockout-component-ac195628-8996-4343-a065-21cec19dbfd8\\\",\\\"id\\\":\\\"ob_75\\\",\\\"type\\\":\\\"observable\\\"},val)) : undefined; return this.valueFromJulia[\\\"index\\\"]=false}),self)]\\n        \\n    }\\n    self.model = new AppViewModel();\\n    self.valueFromJulia = {};\\n    for (var key in json_data) {\\n        self.valueFromJulia[key] = false;\\n    }\\n    ko.applyBindings(self.model, self.dom);\\n}\\n);\\n    (WebIO.importBlock({\\\"data\\\":[{\\\"name\\\":\\\"knockout\\\",\\\"type\\\":\\\"js\\\",\\\"url\\\":\\\"\\/assetserver\\/f936dcc9f45df93d9de16372002c6e658515efa3-knockout.js\\\"},{\\\"name\\\":\\\"knockout_punches\\\",\\\"type\\\":\\\"js\\\",\\\"url\\\":\\\"\\/assetserver\\/eea729a4d8992cb39ebb7eed78de80a76cb7c57b-knockout_punches.js\\\"}],\\\"type\\\":\\\"async_block\\\"})).then((imports) => handler.apply(this, imports));\\n}\\n\"],\"observables\":{\"changes\":{\"sync\":false,\"id\":\"ob_76\",\"value\":0},\"index\":{\"sync\":true,\"id\":\"ob_75\",\"value\":50}}},\"children\":[{\"props\":{\"className\":\"interact-flex-row interact-widget\"},\"nodeType\":\"DOM\",\"type\":\"node\",\"instanceArgs\":{\"namespace\":\"html\",\"tag\":\"div\"},\"children\":[{\"props\":{\"className\":\"interact-flex-row-left\"},\"nodeType\":\"DOM\",\"type\":\"node\",\"instanceArgs\":{\"namespace\":\"html\",\"tag\":\"div\"},\"children\":[{\"props\":{\"className\":\"interact \",\"style\":{\"padding\":\"5px 10px 0px 10px\"}},\"nodeType\":\"DOM\",\"type\":\"node\",\"instanceArgs\":{\"namespace\":\"html\",\"tag\":\"label\"},\"children\":[\"frame_index\"]}]},{\"props\":{\"className\":\"interact-flex-row-center\"},\"nodeType\":\"DOM\",\"type\":\"node\",\"instanceArgs\":{\"namespace\":\"html\",\"tag\":\"div\"},\"children\":[{\"props\":{\"max\":100,\"min\":1,\"attributes\":{\"type\":\"range\",\"data-bind\":\"numericValue: index, valueUpdate: 'input', event: {change: function (){this.changes(this.changes()+1)}}\",\"orient\":\"horizontal\"},\"step\":1,\"className\":\"slider slider is-fullwidth\",\"style\":{}},\"nodeType\":\"DOM\",\"type\":\"node\",\"instanceArgs\":{\"namespace\":\"html\",\"tag\":\"input\"},\"children\":[]}]},{\"props\":{\"className\":\"interact-flex-row-right\"},\"nodeType\":\"DOM\",\"type\":\"node\",\"instanceArgs\":{\"namespace\":\"html\",\"tag\":\"div\"},\"children\":[{\"props\":{\"attributes\":{\"data-bind\":\"text: formatted_val\"}},\"nodeType\":\"DOM\",\"type\":\"node\",\"instanceArgs\":{\"namespace\":\"html\",\"tag\":\"p\"},\"children\":[]}]}]}]}]},{\"props\":{},\"nodeType\":\"Scope\",\"type\":\"node\",\"instanceArgs\":{\"imports\":{\"data\":[],\"type\":\"async_block\"},\"id\":\"scope-2e58c47e-6b78-427b-991c-6bc6ab6c979f\",\"handlers\":{},\"systemjs_options\":null,\"mount_callbacks\":[],\"observables\":{\"obs-node\":{\"sync\":false,\"id\":\"ob_80\",\"value\":{\"props\":{\"className\":\"interact-flex-row interact-widget\"},\"nodeType\":\"DOM\",\"type\":\"node\",\"instanceArgs\":{\"namespace\":\"html\",\"tag\":\"div\"},\"children\":[{\"props\":{\"setInnerHtml\":\"<img src='data:image\\/png;base64,iVBORw0KGgoAAAANSUhEUgAAA+gAAABkCAIAAACaW42NAAAABmJLR0QA\\/wD\\/AP+gvaeTAAAEaUlEQVR4nO3dy29UVRwH8N\\/MdB6doTO0QEIUw0uUanksMIpIikiiJLowrIwsSIwJG3dGF7CEf8KVCQsCGxMMbjCk0QjRmCgJPogBieER4gNb2jLT2864YKi0ZWBDOgN8PrmLe8+5J\\/ne3e\\/ee+65EQAAAAAAAAAAAAAAAAAAAAAAAAAAAAAAAAAAAAAAAAAAAAAAAAAAAAAAAAAAAAAAAAAAAAAAAAAAAAAAAAAAAAAAAAAAAAAAAAAAAAAAAAAAAAAAAAAAAAAAAAAAAAAAAAAAAAAAAAAAAAAAAAAAAAAAAAAAAAAAAAAAAAAAAAAAAADAvEq1OwDM8N4HH706ONjuFAAAHaer3QFghn+uj3x\\/9rd2p6DjLEkVKqlsq94r9fHxmJrVOJl0jY2WWg3J5Se6izcfWD46XjZplEcbs1tTUa70TNVzf9W6q4X0rM56vT4yOp7LVwvd1XlKCXBPCneg033Yv+WJ1weiNrs0b0pFZDPHPjk2dPPqdNul35d9fuTNTKbFkIipqUz\\/hl+37Rx60GHpRM9cSPYcHZvMpCL+r91TxWzxq\\/e\\/+KG8e28un4tI3eUldKMRIzeS9S+c2fLaqXlNDHA3Cnego5Uj++TOddGTv\\/dpO9\\/YOvTZ0enDr798pVadMWTr1lizJg4diiRptvz8Y\\/\\/L20\\/l8hMPOjId560T1e5q486qPQZXxDsDsazy8a7c8MiMk3fsiKVL4\\/DhmGre9+XOfLfhpcFvM10t7wMB5ofCHeholVS2kdTv+zlOply483C6aj95MsrliIje3li1Kvbti4MHm+V7Ol2vVfMK98dBoXq7ZB\\/aEwtyERF93bGyNxqN4eFmz+nTkc1GRCxaFCtWxP79ceBAs3xPpRpJklW4A203e0ofAADQgTxxBzracCNJZe\\/\\/iGFqZMbng\\/lC7dbO9u3NlrlTZer19PRpPNqqhdvvbLZ92ty5NVXm3fWVSu7y5YiIzZubPXOmykSjkcpmkwBot0y7A8AM\\/es3Lexb3O4UdJBa1Nddz5WfWtwYqcVYcpdtPImkfvzIiYuTo9Ojevv+PX9udT4\\/kc0lt7arV5OzPyWZTPMwnak\\/t\\/GX1WsvtPHSmDd\\/96UHziXVfHoiFxO51EQuNXFlOPnmYteu51c+23X8RKbSE6VSlBZEqRTXrsX581EsRqkUxWJM1ZONL55ZvvqPdl8EgHXc6TBv7967\\/Om17U5Bx1kSuUq65fepl+rj1bnLQU5mxm4saDUkn68Vitb4e4x0TTYqN+YsBxlRXthTr2f\\/rBUtBwl0PlNl6Cx9veVNA2vanYKHzMJ2B+Bht6RlT8tfAQAAAAAAAAAAAAAAAAAAAAAAAAAAAAAAAAAAAAAAAAAAAAAAAAAAAAAAAAAAAAAAAAAAAAAAAAAAAAAAAAAAAAAAAAAAAAAAAAAAAAAAAAAAAAAAAAAAAAAAAAAAAAAAAAAAAAAAAAAAAAAAAAAAAAAAAAAAAAAAAAAAAAAAAAAAAAAAAI+8\\/wDB4gqzQ6wbqQAAAABJRU5ErkJggg=='><\\/img>\"},\"nodeType\":\"DOM\",\"type\":\"node\",\"instanceArgs\":{\"namespace\":\"html\",\"tag\":\"div\"},\"children\":[]}]}}}},\"children\":[{\"props\":{},\"nodeType\":\"ObservableNode\",\"type\":\"node\",\"instanceArgs\":{\"id\":\"ob_80\",\"name\":\"obs-node\"},\"children\":[]}]}]},\n",
       "            window,\n",
       "        );\n",
       "    } else {\n",
       "        document\n",
       "            .querySelector('[data-webio-mountpoint=\"14157483399903194288\"]')\n",
       "            .innerHTML = '<strong>WebIO not detected.</strong>';\n",
       "    }\n",
       "    </script>\n",
       "</div>\n"
      ],
      "text/plain": [
       "Node{WebIO.DOM}(WebIO.DOM(:html, :div), Any[Node{DOM}(DOM(:html, :div), Any[Scope(\"knockout-component-ac195628-8996-4343-a065-21cec19dbfd8\", Node{DOM}(DOM(:html, :div), Any[Node{DOM}(DOM(:html, :div), Any[Node{DOM}(DOM(:html, :label), Any[\"frame_index\"], Dict{Symbol,Any}(:className=>\"interact \",:style=>Dict{Any,Any}(:padding=>\"5px 10px 0px 10px\")), 1)], Dict{Symbol,Any}(:className=>\"interact-flex-row-left\"), 2), Node{DOM}(DOM(:html, :div), Any[Node{DOM}(DOM(:html, :input), Any[], Dict{Symbol,Any}(:max=>100,:min=>1,:attributes=>Dict{Any,Any}(:type=>\"range\",Symbol(\"data-bind\")=>\"numericValue: index, valueUpdate: 'input', event: {change: function (){this.changes(this.changes()+1)}}\",\"orient\"=>\"horizontal\"),:step=>1,:className=>\"slider slider is-fullwidth\",:style=>Dict{Any,Any}()), 0)], Dict{Symbol,Any}(:className=>\"interact-flex-row-center\"), 1), Node{DOM}(DOM(:html, :div), Any[Node{DOM}(DOM(:html, :p), Any[], Dict{Symbol,Any}(:attributes=>Dict(\"data-bind\"=>\"text: formatted_val\")), 0)], Dict{Symbol,Any}(:className=>\"interact-flex-row-right\"), 1)], Dict{Symbol,Any}(:className=>\"interact-flex-row interact-widget\"), 7), Dict{String,Tuple{Observables.AbstractObservable,Union{Nothing, Bool}}}(\"changes\"=>(Observable{Int64} with 1 listeners. Value:\n",
       "0, nothing),\"index\"=>(Observable{Int64} with 2 listeners. Value:\n",
       "50, nothing)), Set(String[]), nothing, Asset[Asset(\"js\", \"knockout\", \"/home/raunak/.julia/packages/Knockout/JE2Yq/src/../assets/knockout.js\"), Asset(\"js\", \"knockout_punches\", \"/home/raunak/.julia/packages/Knockout/JE2Yq/src/../assets/knockout_punches.js\"), Asset(\"js\", nothing, \"/home/raunak/.julia/packages/InteractBase/R8JgH/src/../assets/all.js\"), Asset(\"css\", nothing, \"/home/raunak/.julia/packages/InteractBase/R8JgH/src/../assets/style.css\"), Asset(\"css\", nothing, \"/home/raunak/.julia/packages/Interact/0klKX/src/../assets/bulma_confined.min.css\")], Dict{Any,Any}(\"changes\"=>Any[JSString(\"(function (val){return (val!=this.model[\\\"changes\\\"]()) ? (this.valueFromJulia[\\\"changes\\\"]=true, this.model[\\\"changes\\\"](val)) : undefined})\")],\"index\"=>Any[JSString(\"(function (val){return (val!=this.model[\\\"index\\\"]()) ? (this.valueFromJulia[\\\"index\\\"]=true, this.model[\\\"index\\\"](val)) : undefined})\")]), ConnectionPool(Channel{Any}(sz_max:9223372036854775807,sz_curr:0), Set(AbstractConnection[]), Channel{AbstractConnection}(sz_max:32,sz_curr:0)), WebIO.JSString[JSString(\"function () {\\n    var handler = (function (ko, koPunches) {\\n    ko.punches.enableAll();\\n    ko.bindingHandlers.numericValue = {\\n        init : function(element, valueAccessor, allBindings, data, context) {\\n            var stringified = ko.observable(ko.unwrap(valueAccessor()));\\n            stringified.subscribe(function(value) {\\n                var val = parseFloat(value);\\n                if (!isNaN(val)) {\\n                    valueAccessor()(val);\\n                }\\n            })\\n            valueAccessor().subscribe(function(value) {\\n                var str = JSON.stringify(value);\\n                if ((str == \\\"0\\\") && ([\\\"-0\\\", \\\"-0.\\\"].indexOf(stringified()) >= 0))\\n                     return;\\n                 if ([\\\"null\\\", \\\"\\\"].indexOf(str) >= 0)\\n                     return;\\n                stringified(str);\\n            })\\n            ko.applyBindingsToNode(element, { value: stringified, valueUpdate: allBindings.get('valueUpdate')}, context);\\n        }\\n    };\\n    var json_data = {\\\"formatted_vals\\\":[\\\"1\\\",\\\"2\\\",\\\"3\\\",\\\"4\\\",\\\"5\\\",\\\"6\\\",\\\"7\\\",\\\"8\\\",\\\"9\\\",\\\"10\\\",\\\"11\\\",\\\"12\\\",\\\"13\\\",\\\"14\\\",\\\"15\\\",\\\"16\\\",\\\"17\\\",\\\"18\\\",\\\"19\\\",\\\"20\\\",\\\"21\\\",\\\"22\\\",\\\"23\\\",\\\"24\\\",\\\"25\\\",\\\"26\\\",\\\"27\\\",\\\"28\\\",\\\"29\\\",\\\"30\\\",\\\"31\\\",\\\"32\\\",\\\"33\\\",\\\"34\\\",\\\"35\\\",\\\"36\\\",\\\"37\\\",\\\"38\\\",\\\"39\\\",\\\"40\\\",\\\"41\\\",\\\"42\\\",\\\"43\\\",\\\"44\\\",\\\"45\\\",\\\"46\\\",\\\"47\\\",\\\"48\\\",\\\"49\\\",\\\"50\\\",\\\"51\\\",\\\"52\\\",\\\"53\\\",\\\"54\\\",\\\"55\\\",\\\"56\\\",\\\"57\\\",\\\"58\\\",\\\"59\\\",\\\"60\\\",\\\"61\\\",\\\"62\\\",\\\"63\\\",\\\"64\\\",\\\"65\\\",\\\"66\\\",\\\"67\\\",\\\"68\\\",\\\"69\\\",\\\"70\\\",\\\"71\\\",\\\"72\\\",\\\"73\\\",\\\"74\\\",\\\"75\\\",\\\"76\\\",\\\"77\\\",\\\"78\\\",\\\"79\\\",\\\"80\\\",\\\"81\\\",\\\"82\\\",\\\"83\\\",\\\"84\\\",\\\"85\\\",\\\"86\\\",\\\"87\\\",\\\"88\\\",\\\"89\\\",\\\"90\\\",\\\"91\\\",\\\"92\\\",\\\"93\\\",\\\"94\\\",\\\"95\\\",\\\"96\\\",\\\"97\\\",\\\"98\\\",\\\"99\\\",\\\"100\\\"],\\\"changes\\\":WebIO.getval({\\\"name\\\":\\\"changes\\\",\\\"scope\\\":\\\"knockout-component-ac195628-8996-4343-a065-21cec19dbfd8\\\",\\\"id\\\":\\\"ob_76\\\",\\\"type\\\":\\\"observable\\\"}),\\\"index\\\":WebIO.getval({\\\"name\\\":\\\"index\\\",\\\"scope\\\":\\\"knockout-component-ac195628-8996-4343-a065-21cec19dbfd8\\\",\\\"id\\\":\\\"ob_75\\\",\\\"type\\\":\\\"observable\\\"})};\\n    var self = this;\\n    function AppViewModel() {\\n        for (var key in json_data) {\\n            var el = json_data[key];\\n            this[key] = Array.isArray(el) ? ko.observableArray(el) : ko.observable(el);\\n        }\\n        \\n        [this[\\\"formatted_val\\\"]=ko.computed(    function(){\\n        return this.formatted_vals()[parseInt(this.index())-1];\\n    }\\n,this)]\\n        [this[\\\"changes\\\"].subscribe((function (val){!(this.valueFromJulia[\\\"changes\\\"]) ? (WebIO.setval({\\\"name\\\":\\\"changes\\\",\\\"scope\\\":\\\"knockout-component-ac195628-8996-4343-a065-21cec19dbfd8\\\",\\\"id\\\":\\\"ob_76\\\",\\\"type\\\":\\\"observable\\\"},val)) : undefined; return this.valueFromJulia[\\\"changes\\\"]=false}),self),this[\\\"index\\\"].subscribe((function (val){!(this.valueFromJulia[\\\"index\\\"]) ? (WebIO.setval({\\\"name\\\":\\\"index\\\",\\\"scope\\\":\\\"knockout-component-ac195628-8996-4343-a065-21cec19dbfd8\\\",\\\"id\\\":\\\"ob_75\\\",\\\"type\\\":\\\"observable\\\"},val)) : undefined; return this.valueFromJulia[\\\"index\\\"]=false}),self)]\\n        \\n    }\\n    self.model = new AppViewModel();\\n    self.valueFromJulia = {};\\n    for (var key in json_data) {\\n        self.valueFromJulia[key] = false;\\n    }\\n    ko.applyBindings(self.model, self.dom);\\n}\\n);\\n    (WebIO.importBlock({\\\"data\\\":[{\\\"name\\\":\\\"knockout\\\",\\\"type\\\":\\\"js\\\",\\\"url\\\":\\\"/assetserver/f936dcc9f45df93d9de16372002c6e658515efa3-knockout.js\\\"},{\\\"name\\\":\\\"knockout_punches\\\",\\\"type\\\":\\\"js\\\",\\\"url\\\":\\\"/assetserver/eea729a4d8992cb39ebb7eed78de80a76cb7c57b-knockout_punches.js\\\"}],\\\"type\\\":\\\"async_block\\\"})).then((imports) => handler.apply(this, imports));\\n}\\n\")])], Dict{Symbol,Any}(:className=>\"field interact-widget\"), 1), Observable{Any} with 0 listeners. Value:\n",
       "Node{DOM}(DOM(:html, :div), Any[CairoSurfaceBase{UInt32}(Ptr{Nothing} @0x0000000024b01e10, 1000.0, 100.0)], Dict{Symbol,Any}(:className=>\"interact-flex-row interact-widget\"), 1)], Dict{Symbol,Any}(), 2)"
      ]
     },
     "execution_count": 29,
     "metadata": {
      "application/vnd.webio.node+json": {
       "kernelId": "964f4de7-0c38-4e5c-9735-7d20ab8afeb1"
      }
     },
     "output_type": "execute_result"
    }
   ],
   "source": [
    "@manipulate for frame_index in 1:nframes(rec_sim_pf)\n",
    "    overlay_truth = ghost_overlay(rec[frame_index-nframes(rec_sim_pf)])\n",
    "    overlay_cem = method1_overlay(rec_sim_cem[frame_index-nframes(rec_sim_pf)])\n",
    "    render(rec_sim_pf[frame_index-nframes(rec_sim_pf)], roadway, \n",
    "        [overlay_truth,overlay_cem], canvas_height=100)\n",
    "end"
   ]
  },
  {
   "cell_type": "markdown",
   "metadata": {},
   "source": [
    "# Workspace"
   ]
  },
  {
   "cell_type": "code",
   "execution_count": 11,
   "metadata": {},
   "outputs": [
    {
     "data": {
      "application/vnd.webio.node+json": {
       "children": [
        {
         "children": [
          {
           "children": [
            {
             "children": [
              {
               "children": [
                {
                 "children": [
                  "frame_index"
                 ],
                 "instanceArgs": {
                  "namespace": "html",
                  "tag": "label"
                 },
                 "nodeType": "DOM",
                 "props": {
                  "className": "interact ",
                  "style": {
                   "padding": "5px 10px 0px 10px"
                  }
                 },
                 "type": "node"
                }
               ],
               "instanceArgs": {
                "namespace": "html",
                "tag": "div"
               },
               "nodeType": "DOM",
               "props": {
                "className": "interact-flex-row-left"
               },
               "type": "node"
              },
              {
               "children": [
                {
                 "children": [],
                 "instanceArgs": {
                  "namespace": "html",
                  "tag": "input"
                 },
                 "nodeType": "DOM",
                 "props": {
                  "attributes": {
                   "data-bind": "numericValue: index, valueUpdate: 'input', event: {change: function (){this.changes(this.changes()+1)}}",
                   "orient": "horizontal",
                   "type": "range"
                  },
                  "className": "slider slider is-fullwidth",
                  "max": 100,
                  "min": 1,
                  "step": 1,
                  "style": {}
                 },
                 "type": "node"
                }
               ],
               "instanceArgs": {
                "namespace": "html",
                "tag": "div"
               },
               "nodeType": "DOM",
               "props": {
                "className": "interact-flex-row-center"
               },
               "type": "node"
              },
              {
               "children": [
                {
                 "children": [],
                 "instanceArgs": {
                  "namespace": "html",
                  "tag": "p"
                 },
                 "nodeType": "DOM",
                 "props": {
                  "attributes": {
                   "data-bind": "text: formatted_val"
                  }
                 },
                 "type": "node"
                }
               ],
               "instanceArgs": {
                "namespace": "html",
                "tag": "div"
               },
               "nodeType": "DOM",
               "props": {
                "className": "interact-flex-row-right"
               },
               "type": "node"
              }
             ],
             "instanceArgs": {
              "namespace": "html",
              "tag": "div"
             },
             "nodeType": "DOM",
             "props": {
              "className": "interact-flex-row interact-widget"
             },
             "type": "node"
            }
           ],
           "instanceArgs": {
            "handlers": {
             "changes": [
              "(function (val){return (val!=this.model[\"changes\"]()) ? (this.valueFromJulia[\"changes\"]=true, this.model[\"changes\"](val)) : undefined})"
             ],
             "index": [
              "(function (val){return (val!=this.model[\"index\"]()) ? (this.valueFromJulia[\"index\"]=true, this.model[\"index\"](val)) : undefined})"
             ]
            },
            "id": "knockout-component-6f21d3c7-fa2a-4a02-bba8-1af3b65a936f",
            "imports": {
             "data": [
              {
               "name": "knockout",
               "type": "js",
               "url": "/assetserver/f936dcc9f45df93d9de16372002c6e658515efa3-knockout.js"
              },
              {
               "name": "knockout_punches",
               "type": "js",
               "url": "/assetserver/eea729a4d8992cb39ebb7eed78de80a76cb7c57b-knockout_punches.js"
              },
              {
               "name": null,
               "type": "js",
               "url": "/assetserver/3feee531db140e1a3f0eca5c18aad38e15512c2e-all.js"
              },
              {
               "name": null,
               "type": "css",
               "url": "/assetserver/e4ce0d341b11abf0770fda2ba7f49f2f081729e2-style.css"
              },
              {
               "name": null,
               "type": "css",
               "url": "/assetserver/76755bfdf2fdfcaa91db7c6fbc58601e7593715c-bulma_confined.min.css"
              }
             ],
             "type": "async_block"
            },
            "mount_callbacks": [
             "function () {\n    var handler = (function (ko, koPunches) {\n    ko.punches.enableAll();\n    ko.bindingHandlers.numericValue = {\n        init : function(element, valueAccessor, allBindings, data, context) {\n            var stringified = ko.observable(ko.unwrap(valueAccessor()));\n            stringified.subscribe(function(value) {\n                var val = parseFloat(value);\n                if (!isNaN(val)) {\n                    valueAccessor()(val);\n                }\n            })\n            valueAccessor().subscribe(function(value) {\n                var str = JSON.stringify(value);\n                if ((str == \"0\") && ([\"-0\", \"-0.\"].indexOf(stringified()) >= 0))\n                     return;\n                 if ([\"null\", \"\"].indexOf(str) >= 0)\n                     return;\n                stringified(str);\n            })\n            ko.applyBindingsToNode(element, { value: stringified, valueUpdate: allBindings.get('valueUpdate')}, context);\n        }\n    };\n    var json_data = {\"formatted_vals\":[\"1\",\"2\",\"3\",\"4\",\"5\",\"6\",\"7\",\"8\",\"9\",\"10\",\"11\",\"12\",\"13\",\"14\",\"15\",\"16\",\"17\",\"18\",\"19\",\"20\",\"21\",\"22\",\"23\",\"24\",\"25\",\"26\",\"27\",\"28\",\"29\",\"30\",\"31\",\"32\",\"33\",\"34\",\"35\",\"36\",\"37\",\"38\",\"39\",\"40\",\"41\",\"42\",\"43\",\"44\",\"45\",\"46\",\"47\",\"48\",\"49\",\"50\",\"51\",\"52\",\"53\",\"54\",\"55\",\"56\",\"57\",\"58\",\"59\",\"60\",\"61\",\"62\",\"63\",\"64\",\"65\",\"66\",\"67\",\"68\",\"69\",\"70\",\"71\",\"72\",\"73\",\"74\",\"75\",\"76\",\"77\",\"78\",\"79\",\"80\",\"81\",\"82\",\"83\",\"84\",\"85\",\"86\",\"87\",\"88\",\"89\",\"90\",\"91\",\"92\",\"93\",\"94\",\"95\",\"96\",\"97\",\"98\",\"99\",\"100\"],\"changes\":WebIO.getval({\"name\":\"changes\",\"scope\":\"knockout-component-6f21d3c7-fa2a-4a02-bba8-1af3b65a936f\",\"id\":\"ob_66\",\"type\":\"observable\"}),\"index\":WebIO.getval({\"name\":\"index\",\"scope\":\"knockout-component-6f21d3c7-fa2a-4a02-bba8-1af3b65a936f\",\"id\":\"ob_65\",\"type\":\"observable\"})};\n    var self = this;\n    function AppViewModel() {\n        for (var key in json_data) {\n            var el = json_data[key];\n            this[key] = Array.isArray(el) ? ko.observableArray(el) : ko.observable(el);\n        }\n        \n        [this[\"formatted_val\"]=ko.computed(    function(){\n        return this.formatted_vals()[parseInt(this.index())-1];\n    }\n,this)]\n        [this[\"changes\"].subscribe((function (val){!(this.valueFromJulia[\"changes\"]) ? (WebIO.setval({\"name\":\"changes\",\"scope\":\"knockout-component-6f21d3c7-fa2a-4a02-bba8-1af3b65a936f\",\"id\":\"ob_66\",\"type\":\"observable\"},val)) : undefined; return this.valueFromJulia[\"changes\"]=false}),self),this[\"index\"].subscribe((function (val){!(this.valueFromJulia[\"index\"]) ? (WebIO.setval({\"name\":\"index\",\"scope\":\"knockout-component-6f21d3c7-fa2a-4a02-bba8-1af3b65a936f\",\"id\":\"ob_65\",\"type\":\"observable\"},val)) : undefined; return this.valueFromJulia[\"index\"]=false}),self)]\n        \n    }\n    self.model = new AppViewModel();\n    self.valueFromJulia = {};\n    for (var key in json_data) {\n        self.valueFromJulia[key] = false;\n    }\n    ko.applyBindings(self.model, self.dom);\n}\n);\n    (WebIO.importBlock({\"data\":[{\"name\":\"knockout\",\"type\":\"js\",\"url\":\"/assetserver/f936dcc9f45df93d9de16372002c6e658515efa3-knockout.js\"},{\"name\":\"knockout_punches\",\"type\":\"js\",\"url\":\"/assetserver/eea729a4d8992cb39ebb7eed78de80a76cb7c57b-knockout_punches.js\"}],\"type\":\"async_block\"})).then((imports) => handler.apply(this, imports));\n}\n"
            ],
            "observables": {
             "changes": {
              "id": "ob_66",
              "sync": false,
              "value": 0
             },
             "index": {
              "id": "ob_65",
              "sync": true,
              "value": 50
             }
            },
            "systemjs_options": null
           },
           "nodeType": "Scope",
           "props": {},
           "type": "node"
          }
         ],
         "instanceArgs": {
          "namespace": "html",
          "tag": "div"
         },
         "nodeType": "DOM",
         "props": {
          "className": "field interact-widget"
         },
         "type": "node"
        },
        {
         "children": [
          {
           "children": [],
           "instanceArgs": {
            "id": "ob_72",
            "name": "obs-node"
           },
           "nodeType": "ObservableNode",
           "props": {},
           "type": "node"
          }
         ],
         "instanceArgs": {
          "handlers": {},
          "id": "scope-821b0b62-6e14-4a28-9891-3b0f6a96db07",
          "imports": {
           "data": [],
           "type": "async_block"
          },
          "mount_callbacks": [],
          "observables": {
           "obs-node": {
            "id": "ob_72",
            "sync": false,
            "value": {
             "children": [
              {
               "children": [],
               "instanceArgs": {
                "namespace": "html",
                "tag": "div"
               },
               "nodeType": "DOM",
               "props": {
                "setInnerHtml": "<img src='data:image/png;base64,iVBORw0KGgoAAAANSUhEUgAAA+gAAABkCAIAAACaW42NAAAABmJLR0QA/wD/AP+gvaeTAAADL0lEQVR4nO3dTUtUURgH8HPvqDPO+DJYoSCSVBAt2km7qEVfoFYFtXHbpo/gRxDbRGAIQbQIv0AQQat27Usrh8DKErMZR5uXFmlaOI4tnLkTv9/ucu/ivzgcHs45z7khAAAAAAAAAAAAAAAAAAAAAAAAAAAAAAAAAAAAAAAAAAAAAAAAAAAAAAAAAAAAAAAAAAAAAAAAAAAAAAAAAAAAAAAAAAAAAAAAAAAAAAAAAAAAAAAAAAAAAAAAAAAAAAAAAAAAAAAAAAAAAAAAAAAAAAAAAAAAAAAAAAAAAAAAAAAAAAAtFbU7AOyamX08NNjf7hQAAEnU1e4AsGuxsLxYWG53CpIliqLRVDZTi/d9W61WC/ViJbYGQXOpaj3/rfZ7xSqO44F8XxRtP251h2J2d5hVKtW19e9tSAnQmMIdSK7edM/UjevduXSo1ff/IhXVv25M33tUGKi1NhodZuRz9fbcegjh10iKxwazzyZDdxz2DJxqKmxktuv4VBx/Wlm9O/ekVjO0gKRQuAPJdWnsTM9If0gfNFNFvd1Xs+MzYbFlqehEV16Uc8X67tbM5IUw3Bf+3KvpCmHvWb3hE0OnT46+fltoVUaAJhTuQHINpNMHV+0hhJDpymUyodKSQHSsXGmnan94LZw7HsbzodkJqyiKspn00UcDOKz9j40CAACJonAHkmt9azNsNltLL1dK5XJL4tDBitlou0/i1nyYuB8evGrYOLGjXq+XyptHHw3gsByVAZLr+dKby8sTTZpTv5TmS+/CQGuT0WmeXsycXfgRdppTo9mXuZvnD25O/biyuvD+Q+ujAjTiDjUS5M7UdLsjkDhRCKNduQOug1wKpaqZjEP46zrIKI4G8/2Nr4OsrK0X25ASoDEr7iTIqbERP2DiXx1rdwAAAAAAAAAAAAAAAAAAAAAAAAAAAAAAAAAAAAAAAAAAAAAAAAAAAAAAAAAAAAAAAAAAAAAAAAAAAAAAAAAAAAAAAAAAAAAAAAAAAAAAAAAAAAAAAAAAAAAAAAAAAAAAAAAAAAAAAAAAAAAAAAAAAAAAAAAAAAAAAAAAAAAAAAAAAAAAAAD+Sz8BFYeLvdB5s0sAAAAASUVORK5CYII='></img>"
               },
               "type": "node"
              }
             ],
             "instanceArgs": {
              "namespace": "html",
              "tag": "div"
             },
             "nodeType": "DOM",
             "props": {
              "className": "interact-flex-row interact-widget"
             },
             "type": "node"
            }
           }
          },
          "systemjs_options": null
         },
         "nodeType": "Scope",
         "props": {},
         "type": "node"
        }
       ],
       "instanceArgs": {
        "namespace": "html",
        "tag": "div"
       },
       "nodeType": "DOM",
       "props": {},
       "type": "node"
      },
      "text/html": [
       "<div\n",
       "    class=\"webio-mountpoint\"\n",
       "    data-webio-mountpoint=\"4514301025189535095\"\n",
       ">\n",
       "    <script>\n",
       "    if (window.require && require.defined && require.defined(\"nbextensions/webio/main\")) {\n",
       "        console.log(\"Jupyter WebIO extension detected, not mounting.\");\n",
       "    } else if (window.WebIO) {\n",
       "        WebIO.mount(\n",
       "            document.querySelector('[data-webio-mountpoint=\"4514301025189535095\"]'),\n",
       "            {\"props\":{},\"nodeType\":\"DOM\",\"type\":\"node\",\"instanceArgs\":{\"namespace\":\"html\",\"tag\":\"div\"},\"children\":[{\"props\":{\"className\":\"field interact-widget\"},\"nodeType\":\"DOM\",\"type\":\"node\",\"instanceArgs\":{\"namespace\":\"html\",\"tag\":\"div\"},\"children\":[{\"props\":{},\"nodeType\":\"Scope\",\"type\":\"node\",\"instanceArgs\":{\"imports\":{\"data\":[{\"name\":\"knockout\",\"type\":\"js\",\"url\":\"\\/assetserver\\/f936dcc9f45df93d9de16372002c6e658515efa3-knockout.js\"},{\"name\":\"knockout_punches\",\"type\":\"js\",\"url\":\"\\/assetserver\\/eea729a4d8992cb39ebb7eed78de80a76cb7c57b-knockout_punches.js\"},{\"name\":null,\"type\":\"js\",\"url\":\"\\/assetserver\\/3feee531db140e1a3f0eca5c18aad38e15512c2e-all.js\"},{\"name\":null,\"type\":\"css\",\"url\":\"\\/assetserver\\/e4ce0d341b11abf0770fda2ba7f49f2f081729e2-style.css\"},{\"name\":null,\"type\":\"css\",\"url\":\"\\/assetserver\\/76755bfdf2fdfcaa91db7c6fbc58601e7593715c-bulma_confined.min.css\"}],\"type\":\"async_block\"},\"id\":\"knockout-component-6f21d3c7-fa2a-4a02-bba8-1af3b65a936f\",\"handlers\":{\"changes\":[\"(function (val){return (val!=this.model[\\\"changes\\\"]()) ? (this.valueFromJulia[\\\"changes\\\"]=true, this.model[\\\"changes\\\"](val)) : undefined})\"],\"index\":[\"(function (val){return (val!=this.model[\\\"index\\\"]()) ? (this.valueFromJulia[\\\"index\\\"]=true, this.model[\\\"index\\\"](val)) : undefined})\"]},\"systemjs_options\":null,\"mount_callbacks\":[\"function () {\\n    var handler = (function (ko, koPunches) {\\n    ko.punches.enableAll();\\n    ko.bindingHandlers.numericValue = {\\n        init : function(element, valueAccessor, allBindings, data, context) {\\n            var stringified = ko.observable(ko.unwrap(valueAccessor()));\\n            stringified.subscribe(function(value) {\\n                var val = parseFloat(value);\\n                if (!isNaN(val)) {\\n                    valueAccessor()(val);\\n                }\\n            })\\n            valueAccessor().subscribe(function(value) {\\n                var str = JSON.stringify(value);\\n                if ((str == \\\"0\\\") && ([\\\"-0\\\", \\\"-0.\\\"].indexOf(stringified()) >= 0))\\n                     return;\\n                 if ([\\\"null\\\", \\\"\\\"].indexOf(str) >= 0)\\n                     return;\\n                stringified(str);\\n            })\\n            ko.applyBindingsToNode(element, { value: stringified, valueUpdate: allBindings.get('valueUpdate')}, context);\\n        }\\n    };\\n    var json_data = {\\\"formatted_vals\\\":[\\\"1\\\",\\\"2\\\",\\\"3\\\",\\\"4\\\",\\\"5\\\",\\\"6\\\",\\\"7\\\",\\\"8\\\",\\\"9\\\",\\\"10\\\",\\\"11\\\",\\\"12\\\",\\\"13\\\",\\\"14\\\",\\\"15\\\",\\\"16\\\",\\\"17\\\",\\\"18\\\",\\\"19\\\",\\\"20\\\",\\\"21\\\",\\\"22\\\",\\\"23\\\",\\\"24\\\",\\\"25\\\",\\\"26\\\",\\\"27\\\",\\\"28\\\",\\\"29\\\",\\\"30\\\",\\\"31\\\",\\\"32\\\",\\\"33\\\",\\\"34\\\",\\\"35\\\",\\\"36\\\",\\\"37\\\",\\\"38\\\",\\\"39\\\",\\\"40\\\",\\\"41\\\",\\\"42\\\",\\\"43\\\",\\\"44\\\",\\\"45\\\",\\\"46\\\",\\\"47\\\",\\\"48\\\",\\\"49\\\",\\\"50\\\",\\\"51\\\",\\\"52\\\",\\\"53\\\",\\\"54\\\",\\\"55\\\",\\\"56\\\",\\\"57\\\",\\\"58\\\",\\\"59\\\",\\\"60\\\",\\\"61\\\",\\\"62\\\",\\\"63\\\",\\\"64\\\",\\\"65\\\",\\\"66\\\",\\\"67\\\",\\\"68\\\",\\\"69\\\",\\\"70\\\",\\\"71\\\",\\\"72\\\",\\\"73\\\",\\\"74\\\",\\\"75\\\",\\\"76\\\",\\\"77\\\",\\\"78\\\",\\\"79\\\",\\\"80\\\",\\\"81\\\",\\\"82\\\",\\\"83\\\",\\\"84\\\",\\\"85\\\",\\\"86\\\",\\\"87\\\",\\\"88\\\",\\\"89\\\",\\\"90\\\",\\\"91\\\",\\\"92\\\",\\\"93\\\",\\\"94\\\",\\\"95\\\",\\\"96\\\",\\\"97\\\",\\\"98\\\",\\\"99\\\",\\\"100\\\"],\\\"changes\\\":WebIO.getval({\\\"name\\\":\\\"changes\\\",\\\"scope\\\":\\\"knockout-component-6f21d3c7-fa2a-4a02-bba8-1af3b65a936f\\\",\\\"id\\\":\\\"ob_66\\\",\\\"type\\\":\\\"observable\\\"}),\\\"index\\\":WebIO.getval({\\\"name\\\":\\\"index\\\",\\\"scope\\\":\\\"knockout-component-6f21d3c7-fa2a-4a02-bba8-1af3b65a936f\\\",\\\"id\\\":\\\"ob_65\\\",\\\"type\\\":\\\"observable\\\"})};\\n    var self = this;\\n    function AppViewModel() {\\n        for (var key in json_data) {\\n            var el = json_data[key];\\n            this[key] = Array.isArray(el) ? ko.observableArray(el) : ko.observable(el);\\n        }\\n        \\n        [this[\\\"formatted_val\\\"]=ko.computed(    function(){\\n        return this.formatted_vals()[parseInt(this.index())-1];\\n    }\\n,this)]\\n        [this[\\\"changes\\\"].subscribe((function (val){!(this.valueFromJulia[\\\"changes\\\"]) ? (WebIO.setval({\\\"name\\\":\\\"changes\\\",\\\"scope\\\":\\\"knockout-component-6f21d3c7-fa2a-4a02-bba8-1af3b65a936f\\\",\\\"id\\\":\\\"ob_66\\\",\\\"type\\\":\\\"observable\\\"},val)) : undefined; return this.valueFromJulia[\\\"changes\\\"]=false}),self),this[\\\"index\\\"].subscribe((function (val){!(this.valueFromJulia[\\\"index\\\"]) ? (WebIO.setval({\\\"name\\\":\\\"index\\\",\\\"scope\\\":\\\"knockout-component-6f21d3c7-fa2a-4a02-bba8-1af3b65a936f\\\",\\\"id\\\":\\\"ob_65\\\",\\\"type\\\":\\\"observable\\\"},val)) : undefined; return this.valueFromJulia[\\\"index\\\"]=false}),self)]\\n        \\n    }\\n    self.model = new AppViewModel();\\n    self.valueFromJulia = {};\\n    for (var key in json_data) {\\n        self.valueFromJulia[key] = false;\\n    }\\n    ko.applyBindings(self.model, self.dom);\\n}\\n);\\n    (WebIO.importBlock({\\\"data\\\":[{\\\"name\\\":\\\"knockout\\\",\\\"type\\\":\\\"js\\\",\\\"url\\\":\\\"\\/assetserver\\/f936dcc9f45df93d9de16372002c6e658515efa3-knockout.js\\\"},{\\\"name\\\":\\\"knockout_punches\\\",\\\"type\\\":\\\"js\\\",\\\"url\\\":\\\"\\/assetserver\\/eea729a4d8992cb39ebb7eed78de80a76cb7c57b-knockout_punches.js\\\"}],\\\"type\\\":\\\"async_block\\\"})).then((imports) => handler.apply(this, imports));\\n}\\n\"],\"observables\":{\"changes\":{\"sync\":false,\"id\":\"ob_66\",\"value\":0},\"index\":{\"sync\":true,\"id\":\"ob_65\",\"value\":50}}},\"children\":[{\"props\":{\"className\":\"interact-flex-row interact-widget\"},\"nodeType\":\"DOM\",\"type\":\"node\",\"instanceArgs\":{\"namespace\":\"html\",\"tag\":\"div\"},\"children\":[{\"props\":{\"className\":\"interact-flex-row-left\"},\"nodeType\":\"DOM\",\"type\":\"node\",\"instanceArgs\":{\"namespace\":\"html\",\"tag\":\"div\"},\"children\":[{\"props\":{\"className\":\"interact \",\"style\":{\"padding\":\"5px 10px 0px 10px\"}},\"nodeType\":\"DOM\",\"type\":\"node\",\"instanceArgs\":{\"namespace\":\"html\",\"tag\":\"label\"},\"children\":[\"frame_index\"]}]},{\"props\":{\"className\":\"interact-flex-row-center\"},\"nodeType\":\"DOM\",\"type\":\"node\",\"instanceArgs\":{\"namespace\":\"html\",\"tag\":\"div\"},\"children\":[{\"props\":{\"max\":100,\"min\":1,\"attributes\":{\"type\":\"range\",\"data-bind\":\"numericValue: index, valueUpdate: 'input', event: {change: function (){this.changes(this.changes()+1)}}\",\"orient\":\"horizontal\"},\"step\":1,\"className\":\"slider slider is-fullwidth\",\"style\":{}},\"nodeType\":\"DOM\",\"type\":\"node\",\"instanceArgs\":{\"namespace\":\"html\",\"tag\":\"input\"},\"children\":[]}]},{\"props\":{\"className\":\"interact-flex-row-right\"},\"nodeType\":\"DOM\",\"type\":\"node\",\"instanceArgs\":{\"namespace\":\"html\",\"tag\":\"div\"},\"children\":[{\"props\":{\"attributes\":{\"data-bind\":\"text: formatted_val\"}},\"nodeType\":\"DOM\",\"type\":\"node\",\"instanceArgs\":{\"namespace\":\"html\",\"tag\":\"p\"},\"children\":[]}]}]}]}]},{\"props\":{},\"nodeType\":\"Scope\",\"type\":\"node\",\"instanceArgs\":{\"imports\":{\"data\":[],\"type\":\"async_block\"},\"id\":\"scope-031302b6-83ad-484e-8278-b9a95ca95c0b\",\"handlers\":{},\"systemjs_options\":null,\"mount_callbacks\":[],\"observables\":{\"obs-node\":{\"sync\":false,\"id\":\"ob_70\",\"value\":{\"props\":{\"className\":\"interact-flex-row interact-widget\"},\"nodeType\":\"DOM\",\"type\":\"node\",\"instanceArgs\":{\"namespace\":\"html\",\"tag\":\"div\"},\"children\":[{\"props\":{\"setInnerHtml\":\"<img src='data:image\\/png;base64,iVBORw0KGgoAAAANSUhEUgAAA+gAAABkCAIAAACaW42NAAAABmJLR0QA\\/wD\\/AP+gvaeTAAADL0lEQVR4nO3dTUtUURgH8HPvqDPO+DJYoSCSVBAt2km7qEVfoFYFtXHbpo\\/gRxDbRGAIQbQIv0AQQat27Usrh8DKErMZR5uXFmlaOI4tnLkTv9\\/ucu\\/ivzgcHs45z7khAAAAAAAAAAAAAAAAAAAAAAAAAAAAAAAAAAAAAAAAAAAAAAAAAAAAAAAAAAAAAAAAAAAAAAAAAAAAAAAAAAAAAAAAAAAAAAAAAAAAAAAAAAAAAAAAAAAAAAAAAAAAAAAAAAAAAAAAAAAAAAAAAAAAAAAAAAAAAAAAAAAAAAAAAAAAAAAtFbU7AOyamX08NNjf7hQAAEnU1e4AsGuxsLxYWG53CpIliqLRVDZTi\\/d9W61WC\\/ViJbYGQXOpaj3\\/rfZ7xSqO44F8XxRtP251h2J2d5hVKtW19e9tSAnQmMIdSK7edM\\/UjevduXSo1ff\\/IhXVv25M33tUGKi1NhodZuRz9fbcegjh10iKxwazzyZDdxz2DJxqKmxktuv4VBx\\/Wlm9O\\/ekVjO0gKRQuAPJdWnsTM9If0gfNFNFvd1Xs+MzYbFlqehEV16Uc8X67tbM5IUw3Bf+3KvpCmHvWb3hE0OnT46+fltoVUaAJhTuQHINpNMHV+0hhJDpymUyodKSQHSsXGmnan94LZw7HsbzodkJqyiKspn00UcDOKz9j40CAACJonAHkmt9azNsNltLL1dK5XJL4tDBitlou0\\/i1nyYuB8evGrYOLGjXq+XyptHHw3gsByVAZLr+dKby8sTTZpTv5TmS+\\/CQGuT0WmeXsycXfgRdppTo9mXuZvnD25O\\/biyuvD+Q+ujAjTiDjUS5M7UdLsjkDhRCKNduQOug1wKpaqZjEP46zrIKI4G8\\/2Nr4OsrK0X25ASoDEr7iTIqbERP2DiXx1rdwAAAAAAAAAAAAAAAAAAAAAAAAAAAAAAAAAAAAAAAAAAAAAAAAAAAAAAAAAAAAAAAAAAAAAAAAAAAAAAAAAAAAAAAAAAAAAAAAAAAAAAAAAAAAAAAAAAAAAAAAAAAAAAAAAAAAAAAAAAAAAAAAAAAAAAAAAAAAAAAAAAAAAAAAAAAAAAAAD+Sz8BFYeLvdB5s0sAAAAASUVORK5CYII='><\\/img>\"},\"nodeType\":\"DOM\",\"type\":\"node\",\"instanceArgs\":{\"namespace\":\"html\",\"tag\":\"div\"},\"children\":[]}]}}}},\"children\":[{\"props\":{},\"nodeType\":\"ObservableNode\",\"type\":\"node\",\"instanceArgs\":{\"id\":\"ob_70\",\"name\":\"obs-node\"},\"children\":[]}]}]},\n",
       "            window,\n",
       "        );\n",
       "    } else {\n",
       "        document\n",
       "            .querySelector('[data-webio-mountpoint=\"4514301025189535095\"]')\n",
       "            .innerHTML = '<strong>WebIO not detected.</strong>';\n",
       "    }\n",
       "    </script>\n",
       "</div>\n"
      ],
      "text/plain": [
       "Node{WebIO.DOM}(WebIO.DOM(:html, :div), Any[Node{DOM}(DOM(:html, :div), Any[Scope(\"knockout-component-6f21d3c7-fa2a-4a02-bba8-1af3b65a936f\", Node{DOM}(DOM(:html, :div), Any[Node{DOM}(DOM(:html, :div), Any[Node{DOM}(DOM(:html, :label), Any[\"frame_index\"], Dict{Symbol,Any}(:className=>\"interact \",:style=>Dict{Any,Any}(:padding=>\"5px 10px 0px 10px\")), 1)], Dict{Symbol,Any}(:className=>\"interact-flex-row-left\"), 2), Node{DOM}(DOM(:html, :div), Any[Node{DOM}(DOM(:html, :input), Any[], Dict{Symbol,Any}(:max=>100,:min=>1,:attributes=>Dict{Any,Any}(:type=>\"range\",Symbol(\"data-bind\")=>\"numericValue: index, valueUpdate: 'input', event: {change: function (){this.changes(this.changes()+1)}}\",\"orient\"=>\"horizontal\"),:step=>1,:className=>\"slider slider is-fullwidth\",:style=>Dict{Any,Any}()), 0)], Dict{Symbol,Any}(:className=>\"interact-flex-row-center\"), 1), Node{DOM}(DOM(:html, :div), Any[Node{DOM}(DOM(:html, :p), Any[], Dict{Symbol,Any}(:attributes=>Dict(\"data-bind\"=>\"text: formatted_val\")), 0)], Dict{Symbol,Any}(:className=>\"interact-flex-row-right\"), 1)], Dict{Symbol,Any}(:className=>\"interact-flex-row interact-widget\"), 7), Dict{String,Tuple{Observables.AbstractObservable,Union{Nothing, Bool}}}(\"changes\"=>(Observable{Int64} with 1 listeners. Value:\n",
       "0, nothing),\"index\"=>(Observable{Int64} with 2 listeners. Value:\n",
       "50, nothing)), Set(String[]), nothing, Asset[Asset(\"js\", \"knockout\", \"/home/raunak/.julia/packages/Knockout/JE2Yq/src/../assets/knockout.js\"), Asset(\"js\", \"knockout_punches\", \"/home/raunak/.julia/packages/Knockout/JE2Yq/src/../assets/knockout_punches.js\"), Asset(\"js\", nothing, \"/home/raunak/.julia/packages/InteractBase/R8JgH/src/../assets/all.js\"), Asset(\"css\", nothing, \"/home/raunak/.julia/packages/InteractBase/R8JgH/src/../assets/style.css\"), Asset(\"css\", nothing, \"/home/raunak/.julia/packages/Interact/0klKX/src/../assets/bulma_confined.min.css\")], Dict{Any,Any}(\"changes\"=>Any[JSString(\"(function (val){return (val!=this.model[\\\"changes\\\"]()) ? (this.valueFromJulia[\\\"changes\\\"]=true, this.model[\\\"changes\\\"](val)) : undefined})\")],\"index\"=>Any[JSString(\"(function (val){return (val!=this.model[\\\"index\\\"]()) ? (this.valueFromJulia[\\\"index\\\"]=true, this.model[\\\"index\\\"](val)) : undefined})\")]), ConnectionPool(Channel{Any}(sz_max:9223372036854775807,sz_curr:0), Set(AbstractConnection[]), Channel{AbstractConnection}(sz_max:32,sz_curr:0)), WebIO.JSString[JSString(\"function () {\\n    var handler = (function (ko, koPunches) {\\n    ko.punches.enableAll();\\n    ko.bindingHandlers.numericValue = {\\n        init : function(element, valueAccessor, allBindings, data, context) {\\n            var stringified = ko.observable(ko.unwrap(valueAccessor()));\\n            stringified.subscribe(function(value) {\\n                var val = parseFloat(value);\\n                if (!isNaN(val)) {\\n                    valueAccessor()(val);\\n                }\\n            })\\n            valueAccessor().subscribe(function(value) {\\n                var str = JSON.stringify(value);\\n                if ((str == \\\"0\\\") && ([\\\"-0\\\", \\\"-0.\\\"].indexOf(stringified()) >= 0))\\n                     return;\\n                 if ([\\\"null\\\", \\\"\\\"].indexOf(str) >= 0)\\n                     return;\\n                stringified(str);\\n            })\\n            ko.applyBindingsToNode(element, { value: stringified, valueUpdate: allBindings.get('valueUpdate')}, context);\\n        }\\n    };\\n    var json_data = {\\\"formatted_vals\\\":[\\\"1\\\",\\\"2\\\",\\\"3\\\",\\\"4\\\",\\\"5\\\",\\\"6\\\",\\\"7\\\",\\\"8\\\",\\\"9\\\",\\\"10\\\",\\\"11\\\",\\\"12\\\",\\\"13\\\",\\\"14\\\",\\\"15\\\",\\\"16\\\",\\\"17\\\",\\\"18\\\",\\\"19\\\",\\\"20\\\",\\\"21\\\",\\\"22\\\",\\\"23\\\",\\\"24\\\",\\\"25\\\",\\\"26\\\",\\\"27\\\",\\\"28\\\",\\\"29\\\",\\\"30\\\",\\\"31\\\",\\\"32\\\",\\\"33\\\",\\\"34\\\",\\\"35\\\",\\\"36\\\",\\\"37\\\",\\\"38\\\",\\\"39\\\",\\\"40\\\",\\\"41\\\",\\\"42\\\",\\\"43\\\",\\\"44\\\",\\\"45\\\",\\\"46\\\",\\\"47\\\",\\\"48\\\",\\\"49\\\",\\\"50\\\",\\\"51\\\",\\\"52\\\",\\\"53\\\",\\\"54\\\",\\\"55\\\",\\\"56\\\",\\\"57\\\",\\\"58\\\",\\\"59\\\",\\\"60\\\",\\\"61\\\",\\\"62\\\",\\\"63\\\",\\\"64\\\",\\\"65\\\",\\\"66\\\",\\\"67\\\",\\\"68\\\",\\\"69\\\",\\\"70\\\",\\\"71\\\",\\\"72\\\",\\\"73\\\",\\\"74\\\",\\\"75\\\",\\\"76\\\",\\\"77\\\",\\\"78\\\",\\\"79\\\",\\\"80\\\",\\\"81\\\",\\\"82\\\",\\\"83\\\",\\\"84\\\",\\\"85\\\",\\\"86\\\",\\\"87\\\",\\\"88\\\",\\\"89\\\",\\\"90\\\",\\\"91\\\",\\\"92\\\",\\\"93\\\",\\\"94\\\",\\\"95\\\",\\\"96\\\",\\\"97\\\",\\\"98\\\",\\\"99\\\",\\\"100\\\"],\\\"changes\\\":WebIO.getval({\\\"name\\\":\\\"changes\\\",\\\"scope\\\":\\\"knockout-component-6f21d3c7-fa2a-4a02-bba8-1af3b65a936f\\\",\\\"id\\\":\\\"ob_66\\\",\\\"type\\\":\\\"observable\\\"}),\\\"index\\\":WebIO.getval({\\\"name\\\":\\\"index\\\",\\\"scope\\\":\\\"knockout-component-6f21d3c7-fa2a-4a02-bba8-1af3b65a936f\\\",\\\"id\\\":\\\"ob_65\\\",\\\"type\\\":\\\"observable\\\"})};\\n    var self = this;\\n    function AppViewModel() {\\n        for (var key in json_data) {\\n            var el = json_data[key];\\n            this[key] = Array.isArray(el) ? ko.observableArray(el) : ko.observable(el);\\n        }\\n        \\n        [this[\\\"formatted_val\\\"]=ko.computed(    function(){\\n        return this.formatted_vals()[parseInt(this.index())-1];\\n    }\\n,this)]\\n        [this[\\\"changes\\\"].subscribe((function (val){!(this.valueFromJulia[\\\"changes\\\"]) ? (WebIO.setval({\\\"name\\\":\\\"changes\\\",\\\"scope\\\":\\\"knockout-component-6f21d3c7-fa2a-4a02-bba8-1af3b65a936f\\\",\\\"id\\\":\\\"ob_66\\\",\\\"type\\\":\\\"observable\\\"},val)) : undefined; return this.valueFromJulia[\\\"changes\\\"]=false}),self),this[\\\"index\\\"].subscribe((function (val){!(this.valueFromJulia[\\\"index\\\"]) ? (WebIO.setval({\\\"name\\\":\\\"index\\\",\\\"scope\\\":\\\"knockout-component-6f21d3c7-fa2a-4a02-bba8-1af3b65a936f\\\",\\\"id\\\":\\\"ob_65\\\",\\\"type\\\":\\\"observable\\\"},val)) : undefined; return this.valueFromJulia[\\\"index\\\"]=false}),self)]\\n        \\n    }\\n    self.model = new AppViewModel();\\n    self.valueFromJulia = {};\\n    for (var key in json_data) {\\n        self.valueFromJulia[key] = false;\\n    }\\n    ko.applyBindings(self.model, self.dom);\\n}\\n);\\n    (WebIO.importBlock({\\\"data\\\":[{\\\"name\\\":\\\"knockout\\\",\\\"type\\\":\\\"js\\\",\\\"url\\\":\\\"/assetserver/f936dcc9f45df93d9de16372002c6e658515efa3-knockout.js\\\"},{\\\"name\\\":\\\"knockout_punches\\\",\\\"type\\\":\\\"js\\\",\\\"url\\\":\\\"/assetserver/eea729a4d8992cb39ebb7eed78de80a76cb7c57b-knockout_punches.js\\\"}],\\\"type\\\":\\\"async_block\\\"})).then((imports) => handler.apply(this, imports));\\n}\\n\")])], Dict{Symbol,Any}(:className=>\"field interact-widget\"), 1), Observable{Any} with 0 listeners. Value:\n",
       "Node{DOM}(DOM(:html, :div), Any[CairoSurfaceBase{UInt32}(Ptr{Nothing} @0x00000000072004d0, 1000.0, 100.0)], Dict{Symbol,Any}(:className=>\"interact-flex-row interact-widget\"), 1)], Dict{Symbol,Any}(), 2)"
      ]
     },
     "execution_count": 11,
     "metadata": {
      "application/vnd.webio.node+json": {
       "kernelId": "964f4de7-0c38-4e5c-9735-7d20ab8afeb1"
      }
     },
     "output_type": "execute_result"
    }
   ],
   "source": [
    "# 2 cars in the same lane scenario with 3 parameters\n",
    "# Parameter wise result plotting with both cem and pf in same plot\n",
    "# Make a video\n",
    "num_particles = 100\n",
    "pos_vel_array_1 = [(30.,18.),(10.,12.)]\n",
    "lane_place_array = [pos_vel_array_1]\n",
    "num_cars = 2\n",
    "d1 = Dict(:v_des=>20.0,:σ=>0.1,:T=>1.5);d2 = Dict(:v_des=>10.0,:σ=>0.1,:T=>1.5)\n",
    "car_particles = [d1,d2]\n",
    "particle_props = [(:v_des,10.,0.1,30.),(:σ,0.1,0.1,1.),(:T,0.1,0.1,5.)]\n",
    "estimate_then_make_video(num_particles,num_cars,lane_place_array,\n",
    "    car_particles,particle_props,approach=\"pf\")"
   ]
  },
  {
   "cell_type": "code",
   "execution_count": null,
   "metadata": {},
   "outputs": [],
   "source": [
    "num_particles = 100\n",
    "lane_place_array = [[(0.,10.)],[(0.,20.)],[(0.,15.)],[(0.,20.)],[(0.,20.)]]\n",
    "num_cars = 5\n",
    "d1 = Dict(:v_des=>10.0,:σ=>0.2);d2 = Dict(:v_des=>20.0,:σ=>0.3);d3 = Dict(:v_des=>15.0,:σ=>0.)\n",
    "d4 = Dict(:v_des=>18.0,:σ=>0.4);d5 = Dict(:v_des=>27.0,:σ=>0.2)\n",
    "car_particles = [d1,d2,d3,d4,d5]\n",
    "\n",
    "particle_props = [(:v_des,10.,0.1,30.),(:σ,0.1,0.1,1.)]\n",
    "estimate_then_make_video(num_particles,num_cars,lane_place_array,\n",
    "    car_particles,particle_props,approach=\"cem\")"
   ]
  },
  {
   "cell_type": "code",
   "execution_count": null,
   "metadata": {},
   "outputs": [],
   "source": [
    "num_particles = 100\n",
    "lane_place_array = [[(0.,10.)],[(0.,20.)],[(0.,15.)],[(0.,20.)],[(0.,20.)]]\n",
    "num_cars = 5\n",
    "d1 = Dict(:v_des=>10.0,:σ=>0.2);d2 = Dict(:v_des=>20.0,:σ=>0.3);d3 = Dict(:v_des=>15.0,:σ=>0.)\n",
    "d4 = Dict(:v_des=>18.0,:σ=>0.4);d5 = Dict(:v_des=>27.0,:σ=>0.2)\n",
    "car_particles = [d1,d2,d3,d4,d5]\n",
    "\n",
    "particle_props = [(:v_des,10.,0.1,30.),(:σ,0.1,0.1,1.)]\n",
    "rmse_pos_array_cem = estimate_then_evaluate_imitation(num_particles,num_cars,lane_place_array,\n",
    "    car_particles,particle_props,approach=\"cem\")\n",
    "rmse_pos_array_pf = estimate_then_evaluate_imitation(num_particles,num_cars,lane_place_array,\n",
    "    car_particles,particle_props,approach=\"pf\")\n",
    "plot(rmse_pos_array_cem,label=\"cem\")\n",
    "plot(rmse_pos_array_pf,label=\"pf\")\n",
    "legend()\n",
    "xlabel(\"timestep\")\n",
    "ylabel(\"rmse position\")"
   ]
  },
  {
   "cell_type": "markdown",
   "metadata": {},
   "source": [
    "# Recent Work"
   ]
  },
  {
   "cell_type": "code",
   "execution_count": null,
   "metadata": {},
   "outputs": [],
   "source": [
    "# 5 cars adjacent lanes scenario with 3 parameters\n",
    "# Parameter wise result plotting with both cem and pf in same plot\n",
    "num_particles = 100\n",
    "lane_place_array = [[(0.,10.)],[(0.,20.)],[(0.,15.)],[(0.,20.)],[(0.,20.)]]\n",
    "num_cars = 5\n",
    "d1 = Dict(:v_des=>10.0,:σ=>0.2,:T=>1.5);d2 = Dict(:v_des=>20.0,:σ=>0.3,:T=>1.5);\n",
    "d3 = Dict(:v_des=>15.0,:σ=>0.,:T=>1.5);d4 = Dict(:v_des=>18.0,:σ=>0.4,:T=>1.5);\n",
    "d5 = Dict(:v_des=>27.0,:σ=>0.2,:T=>1.5)\n",
    "car_particles = [d1,d2,d3,d4,d5]\n",
    "\n",
    "particle_props = [(:v_des,10.,0.1,30.),(:σ,0.1,0.1,1.),(:T,0.1,0.1,5.)]\n",
    "rmse_array_pf = capture_filtering_progress_paramwise(num_particles,num_cars,lane_place_array,\n",
    "    car_particles,particle_props,approach=\"pf\")\n",
    "rmse_array_cem = capture_filtering_progress_paramwise(num_particles,num_cars,lane_place_array,\n",
    "    car_particles,particle_props,approach=\"cem\");\n",
    "pf_array = combine_array_dicts(rmse_array_pf);\n",
    "cem_array = combine_array_dicts(rmse_array_cem);\n",
    "res = combine_exp_results_dicts([:cem,:pf],[cem_array,pf_array])\n",
    "plot_dict(res)\n",
    "xlabel(\"timestep\")\n",
    "ylabel(\"absolute deviation\");"
   ]
  },
  {
   "cell_type": "code",
   "execution_count": null,
   "metadata": {},
   "outputs": [],
   "source": [
    "# 2 cars in the same lane scenario with 3 parameters\n",
    "# Parameter wise result plotting with both cem and pf in same plot\n",
    "num_particles = 100\n",
    "pos_vel_array_1 = [(30.,18.),(10.,12.)]\n",
    "lane_place_array = [pos_vel_array_1]\n",
    "num_cars = 2\n",
    "d1 = Dict(:v_des=>20.0,:σ=>0.1,:T=>1.5);d2 = Dict(:v_des=>10.0,:σ=>0.1,:T=>1.5)\n",
    "car_particles = [d1,d2]\n",
    "particle_props = [(:v_des,10.,0.1,30.),(:σ,0.1,0.1,1.),(:T,0.1,0.1,5.)]\n",
    "rmse_array_pf = capture_filtering_progress_paramwise(num_particles,num_cars,lane_place_array,\n",
    "    car_particles,particle_props,approach=\"pf\")\n",
    "rmse_array_cem = capture_filtering_progress_paramwise(num_particles,num_cars,lane_place_array,\n",
    "    car_particles,particle_props,approach=\"cem\");\n",
    "\n",
    "pf_array = combine_array_dicts(rmse_array_pf);\n",
    "cem_array = combine_array_dicts(rmse_array_cem);\n",
    "res = combine_exp_results_dicts([:cem,:pf],[cem_array,pf_array])\n",
    "plot_dict(res)\n",
    "xlabel(\"timestep\")\n",
    "ylabel(\"absolute deviation\");"
   ]
  },
  {
   "cell_type": "markdown",
   "metadata": {},
   "source": [
    "# Legacy"
   ]
  },
  {
   "cell_type": "code",
   "execution_count": null,
   "metadata": {},
   "outputs": [],
   "source": [
    "# 5 cars adjacent lanes scenario with 2 parameters\n",
    "# Combines all paramters into one mean error metric and plots that\n",
    "# Cem and pf appear as different lines on the plot\n",
    "num_particles = 100\n",
    "lane_place_array = [[(0.,10.)],[(0.,20.)],[(0.,15.)],[(0.,20.)],[(0.,20.)]]\n",
    "num_cars = 5\n",
    "d1 = Dict(:v_des=>10.0,:σ=>0.2);d2 = Dict(:v_des=>20.0,:σ=>0.3);d3 = Dict(:v_des=>15.0,:σ=>0.)\n",
    "d4 = Dict(:v_des=>18.0,:σ=>0.4);d5 = Dict(:v_des=>27.0,:σ=>0.2)\n",
    "car_particles = [d1,d2,d3,d4,d5]\n",
    "\n",
    "particle_props = [(:v_des,10.,0.1,30.),(:σ,0.1,0.1,1.)]\n",
    "rmse_array_pf = capture_filtering_progress(num_particles,num_cars,lane_place_array,\n",
    "    car_particles,particle_props,approach=\"pf\")\n",
    "rmse_array_cem = capture_filtering_progress(num_particles,num_cars,lane_place_array,\n",
    "    car_particles,particle_props,approach=\"cem\")\n",
    "plot(rmse_array_pf,label=\"particle filter\")\n",
    "plot(rmse_array_cem,label=\"cross entropy method\")\n",
    "legend()\n",
    "xlabel(\"Timestep along true data trajectory\")\n",
    "ylabel(\"Mean parameter error\")"
   ]
  },
  {
   "cell_type": "code",
   "execution_count": null,
   "metadata": {},
   "outputs": [],
   "source": [
    "# 2 cars in the same lane scenario with 2 parameters\n",
    "num_particles = 100\n",
    "pos_vel_array_1 = [(30.,15.),(10.,15.)]\n",
    "lane_place_array = [pos_vel_array_1]\n",
    "num_cars = 2\n",
    "d1 = Dict(:v_des=>20.0,:σ=>0.1);d2 = Dict(:v_des=>10.0,:σ=>0.1)\n",
    "car_particles = [d1,d2]\n",
    "particle_props = [(:v_des,10.,0.1,30.),(:σ,0.1,0.1,1.)]\n",
    "bucket_array = filter_particles_over_trajectory(num_particles,num_cars,lane_place_array,\n",
    "    car_particles,particle_props,approach=\"cem\")\n",
    "print_buckets_mean(bucket_array)"
   ]
  },
  {
   "cell_type": "code",
   "execution_count": null,
   "metadata": {},
   "outputs": [],
   "source": [
    "# 5 cars adjacent lanes scenario with 2 parameters\n",
    "num_particles = 100\n",
    "lane_place_array = [[(0.,10.)],[(0.,20.)],[(0.,15.)],[(0.,20.)],[(0.,20.)]]\n",
    "num_cars = 5\n",
    "d1 = Dict(:v_des=>10.0,:σ=>0.2);d2 = Dict(:v_des=>20.0,:σ=>0.3);d3 = Dict(:v_des=>15.0,:σ=>0.)\n",
    "d4 = Dict(:v_des=>18.0,:σ=>0.4);d5 = Dict(:v_des=>27.0,:σ=>0.2)\n",
    "car_particles = [d1,d2,d3,d4,d5]\n",
    "\n",
    "particle_props = [(:v_des,10.,0.1,30.),(:σ,0.1,0.1,1.)]\n",
    "bucket_array = filter_particles_over_trajectory(num_particles,num_cars,lane_place_array,\n",
    "    car_particles,particle_props,approach=\"cem\")\n",
    "print_buckets_mean(bucket_array)"
   ]
  },
  {
   "cell_type": "markdown",
   "metadata": {},
   "source": [
    "# Visualize"
   ]
  },
  {
   "cell_type": "code",
   "execution_count": null,
   "metadata": {},
   "outputs": [],
   "source": [
    "# Example code to run visualization in your notebook\n",
    "cam = StaticCamera(VecE2(100.0,0.0), 4.75)\n",
    "@manipulate for frame_index in 1 : nframes(rec)\n",
    "    render(rec[frame_index-nframes(rec)], roadway, cam=cam, canvas_height=100)\n",
    "end"
   ]
  },
  {
   "cell_type": "markdown",
   "metadata": {},
   "source": [
    "# LEARNING AND EXPERIMENTATION"
   ]
  },
  {
   "cell_type": "code",
   "execution_count": null,
   "metadata": {},
   "outputs": [],
   "source": [
    "# LEARNING ABOUT MULTIDIM DISTB\n",
    "# Test: Generate samples for a 2d distb\n",
    "d2 = MvNormal(2,2.0) # first arg shows dimension, second shows std dev\n",
    "qw = rand(d2,6) # Will generate 6 samples i.e. 6 columns\n",
    "\n",
    "# Test: Fit 2d distribution\n",
    "dx = Normal()\n",
    "dy = Normal(2,1.0)\n",
    "x = rand(dx,100)\n",
    "y = rand(dy,100)\n",
    "\n",
    "# Matrix with each column being a sample\n",
    "# Total columns is total number of samples\n",
    "# Total rows is number of parameters\n",
    "# All entries in a row contain value from same param eg:v_des\n",
    "data_matrix = vcat(x',y')\n",
    "fit(MvNormal,data_matrix)"
   ]
  },
  {
   "cell_type": "code",
   "execution_count": null,
   "metadata": {},
   "outputs": [],
   "source": [
    "num_samples = 2000\n",
    "y1 = rand(Normal(10.0,5.0),num_samples)\n",
    "y2 = rand(Normal(2.0,1.0),num_samples)\n",
    "plot(1:num_samples,y1)\n",
    "plot(1:num_samples,y2)"
   ]
  },
  {
   "cell_type": "code",
   "execution_count": null,
   "metadata": {},
   "outputs": [],
   "source": [
    "using StatsPlots"
   ]
  },
  {
   "cell_type": "code",
   "execution_count": null,
   "metadata": {},
   "outputs": [],
   "source": [
    "# Demonstrate the use of StatsPlots plot which will come in useful for distribution plotting\n",
    "StatsPlots.plot(MvNormal(2,2.),linewidth=4,size=(500,500))"
   ]
  },
  {
   "cell_type": "code",
   "execution_count": null,
   "metadata": {},
   "outputs": [],
   "source": [
    "# See whether sampling from a normal truly results in a normal\n",
    "num_samples = 5000\n",
    "y1 = rand(Normal(10.0,5.0),num_samples)\n",
    "PyPlot.hist(y1)"
   ]
  },
  {
   "cell_type": "code",
   "execution_count": null,
   "metadata": {},
   "outputs": [],
   "source": []
  }
 ],
 "metadata": {
  "@webio": {
   "lastCommId": "c59a9dcf4d01418abf0c5fd02e3543a7",
   "lastKernelId": "964f4de7-0c38-4e5c-9735-7d20ab8afeb1"
  },
  "kernelspec": {
   "display_name": "Julia 1.1.0",
   "language": "julia",
   "name": "julia-1.1"
  },
  "language_info": {
   "file_extension": ".jl",
   "mimetype": "application/julia",
   "name": "julia",
   "version": "1.1.0"
  }
 },
 "nbformat": 4,
 "nbformat_minor": 2
}
