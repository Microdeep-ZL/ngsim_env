{
 "cells": [
  {
   "cell_type": "markdown",
   "metadata": {},
   "source": [
    "- Goal\n",
    "    - Create synthetic data using IDM\n",
    "    - Learn parameters of that data using particle filtering\n",
    "    - Aliter 7 Feb: Learn using CEM idea, fitness function and then distb and then sample\n",
    "- Learning\n",
    "    - Need at least 2 vehicles so that there is a neighbor in the front\n",
    "    - Otherwise src/1d/driver/lane_follower_driver errors\n",
    "    - That is why the `AutomotiveDrivingModels/doc/1DMobius` stuff does \n",
    "    not work with 1 car only (needs at least 2 cars)\n",
    "    - The tutorial does not work with `gen_straight_roadway` because that\n",
    "    generates a roadway of type AutomotiveDrivingModels.roadway as opposed to\n",
    "    AutomotiveDrivingModels.StraightRoadway\n",
    "- Open question\n",
    "    - IDM won't work unless there is a car in front (errors saynig nothing in sight)\n",
    "    - We are focusing on learning the params of the second car here. Is that sound sensible?\n",
    "- Flow of code\n",
    "    - Call the required `usings`\n",
    "    - Define functions required\n",
    "    - Actual running things\n",
    "        - Generate true trajectory\n",
    "        - Generate a set of particles uniformly between sensible range of values\n",
    "        - Compute fitness, sort and select numtop\n",
    "        - Fit a distribution over this\n",
    "        - Resample particles\n",
    "- Scenario\n",
    "    - Slower car in front (car 1)\n",
    "    - Faster car behind (car 2)\n",
    "    - We want to estimate params of car 2\n",
    "- Feb 10: Adding timegap_des as our 2nd param in the 2 car, 1D, IDM scenario\n",
    "    - Make code capable of handling 2d param. So far, had only scalar param\n",
    "    i.e v_des\n",
    "    - Fitting 2D distributions is required now\n",
    "- Feb 22\n",
    "    - the `rec` generated using `simulate` is a devious monster\n",
    "    - It stores the last timestep in the 1st entry and first timestep in last entry\n",
    "    - Be careful\n",
    "- Mar 27\n",
    "    - Inspired by behavior test written by Maxime to convert this code to work with general scene\n",
    "    instead of scene1D and state1D as previously\n",
    "    - Scaling up: scenario is to have 3 different speed vehicles starting in adjacent lanes. Each\n",
    "    car will have an associated bucket of particles and at the end we whould be able to uncover\n",
    "    true params for all three cars\n",
    "    - Disclaimer: This will definitely work since we have confirmed that we can uncover params for one \n",
    "    car when it is the leader (i.e. unaffected by any car in front). The current exercise is to scale up the\n",
    "    code to work with multiple vehicles\n",
    "    - Idea is that every vehicles associated bucket of particles will evolve differently as it sees more\n",
    "    of the true trajectory. This is in contrast to original idea where we thought we will have all the buckets\n",
    "    pooled together to inform the final distribution"
   ]
  },
  {
   "cell_type": "code",
   "execution_count": 1,
   "metadata": {},
   "outputs": [
    {
     "name": "stderr",
     "output_type": "stream",
     "text": [
      "┌ Info: Recompiling stale cache file /home/raunak/.julia/compiled/v1.1/AutomotiveDrivingModels/ZEfHM.ji for AutomotiveDrivingModels [99497e54-f3d6-53d3-a3a9-fa9315a7f1ba]\n",
      "└ @ Base loading.jl:1184\n",
      "┌ Info: Recompiling stale cache file /home/raunak/.julia/compiled/v1.1/AutoViz/w0rHu.ji for AutoViz [82aa6e0c-a491-5edf-8d4b-c16b98e4ea17]\n",
      "└ @ Base loading.jl:1184\n"
     ]
    },
    {
     "data": {
      "text/html": [
       "    <script class='js-collapse-script'>\n",
       "        var curMatch =\n",
       "            window.location.href\n",
       "            .match(/(.*?)\\/notebooks\\/.*\\.ipynb/);\n",
       "\n",
       "        curMatch = curMatch ||\n",
       "            window.location.href\n",
       "            .match(/(.*?)\\/apps\\/.*\\.ipynb/);\n",
       "\n",
       "        if ( curMatch ) {\n",
       "            $('head').append('<base href=\"' + curMatch[1] + '/\">');\n",
       "        }\n",
       "    </script>\n"
      ],
      "text/plain": [
       "HTML{String}(\"    <script class='js-collapse-script'>\\n        var curMatch =\\n            window.location.href\\n            .match(/(.*?)\\\\/notebooks\\\\/.*\\\\.ipynb/);\\n\\n        curMatch = curMatch ||\\n            window.location.href\\n            .match(/(.*?)\\\\/apps\\\\/.*\\\\.ipynb/);\\n\\n        if ( curMatch ) {\\n            \\$('head').append('<base href=\\\"' + curMatch[1] + '/\\\">');\\n        }\\n    </script>\\n\")"
      ]
     },
     "metadata": {},
     "output_type": "display_data"
    },
    {
     "data": {
      "text/html": [
       "<script class='js-collapse-script' src='/assetserver/ac92513fc97126f4d4502d0637c43de8cdb5fca9-assets/webio/dist/bundle.js'></script>"
      ],
      "text/plain": [
       "HTML{String}(\"<script class='js-collapse-script' src='/assetserver/ac92513fc97126f4d4502d0637c43de8cdb5fca9-assets/webio/dist/bundle.js'></script>\")"
      ]
     },
     "metadata": {},
     "output_type": "display_data"
    },
    {
     "data": {
      "text/html": [
       "<script class='js-collapse-script' src='/assetserver/ac92513fc97126f4d4502d0637c43de8cdb5fca9-assets/providers/ijulia_setup.js'></script>"
      ],
      "text/plain": [
       "HTML{String}(\"<script class='js-collapse-script' src='/assetserver/ac92513fc97126f4d4502d0637c43de8cdb5fca9-assets/providers/ijulia_setup.js'></script>\")"
      ]
     },
     "metadata": {},
     "output_type": "display_data"
    },
    {
     "data": {
      "text/html": [
       "  <script class='js-collapse-script'>\n",
       "    $('.js-collapse-script').parent('.output_subarea').css('padding', '0');\n",
       "  </script>\n"
      ],
      "text/plain": [
       "HTML{String}(\"  <script class='js-collapse-script'>\\n    \\$('.js-collapse-script').parent('.output_subarea').css('padding', '0');\\n  </script>\\n\")"
      ]
     },
     "metadata": {},
     "output_type": "display_data"
    }
   ],
   "source": [
    "using AutomotiveDrivingModels\n",
    "using AutoViz\n",
    "using Reel\n",
    "using Interact\n",
    "using StatsBase # For random particle generation\n",
    "using Test\n",
    "using Distributions\n",
    "using Pkg"
   ]
  },
  {
   "cell_type": "code",
   "execution_count": 112,
   "metadata": {},
   "outputs": [
    {
     "data": {
      "text/plain": [
       "init_scene"
      ]
     },
     "execution_count": 112,
     "metadata": {},
     "output_type": "execute_result"
    }
   ],
   "source": [
    "\"\"\"\n",
    "Helper function for tests: init_scene: generate a scene with 3 lane roadway and cars at 10,20,30 m in lane1,2,3\n",
    "\"\"\"\n",
    "function init_scene(road_length)\n",
    "    roadway = gen_straight_roadway(3,road_length)\n",
    "\n",
    "    veh_state = VehicleState(Frenet(roadway[LaneTag(1,1)], 10.0), roadway, 0.)\n",
    "    veh1 = Vehicle(veh_state, VehicleDef(), 1)\n",
    "    veh_state = VehicleState(Frenet(roadway[LaneTag(1,2)], 20.0), roadway, 0.)\n",
    "    veh2 = Vehicle(veh_state, VehicleDef(), 2)\n",
    "    veh_state = VehicleState(Frenet(roadway[LaneTag(1,3)], 30.0), roadway, 0.)\n",
    "    veh3 = Vehicle(veh_state, VehicleDef(), 3)\n",
    "\n",
    "    scene = Scene()\n",
    "    push!(scene, veh1)\n",
    "    push!(scene, veh2)\n",
    "    push!(scene, veh3)\n",
    "end"
   ]
  },
  {
   "cell_type": "code",
   "execution_count": 5,
   "metadata": {},
   "outputs": [
    {
     "data": {
      "text/plain": [
       "gen_traj"
      ]
     },
     "execution_count": 5,
     "metadata": {},
     "output_type": "execute_result"
    }
   ],
   "source": [
    "\"\"\"\n",
    "gen_traj: Generate trajectory using a given particle for default 100 timestep trajectory\n",
    "\n",
    "-----------Arguments:\n",
    "`particle` Dict with keys as parameter names of IDM and values as parameter values\n",
    "`nticks` Duration of simulation\n",
    "\n",
    "-----------Other functions called:`init_scene`\n",
    "\"\"\"\n",
    "function gen_traj(particle;nticks=100,timestep=0.1)\n",
    "    scene = init_scene()\n",
    "    models = Dict{Int, LaneFollowingDriver}()\n",
    "    models[1] = IntelligentDriverModel(;particle...)\n",
    "    models[2] = IntelligentDriverModel(v_des=12.0)\n",
    "\n",
    "    # Simulate for nticks (default 100) time steps\n",
    "    timestep = 0.1\n",
    "    rec = QueueRecord(Vehicle1D, nticks+1, timestep)\n",
    "    simulate!(LaneFollowingAccel, rec, scene, roadway, models, nticks)\n",
    "\n",
    "    # Extract the position and velocity of nticks timesteps\n",
    "    # X stores this as 2d array. Timestep is the row, col 1 is pos,vel is pos2\n",
    "    n_cars = scene.n\n",
    "    n_ticks = nticks\n",
    "    X = Array{Float64}(undef, n_ticks, 1)\n",
    "\n",
    "    for t in 1:n_ticks\n",
    "        f = rec.frames[n_ticks - t + 1]\n",
    "        \n",
    "        # BAD: 2 cars in scene therefore loop has only 1 elem\n",
    "        for c in 1:1 #Was 2:sc\n",
    "            s = f.entities[c].state\n",
    "            X[t, 1] = s.s #position\n",
    "        end\n",
    "    end\n",
    "    return X, rec\n",
    "end"
   ]
  },
  {
   "cell_type": "code",
   "execution_count": 152,
   "metadata": {},
   "outputs": [
    {
     "data": {
      "text/plain": [
       "hallucinate_a_step"
      ]
     },
     "execution_count": 152,
     "metadata": {},
     "output_type": "execute_result"
    }
   ],
   "source": [
    "\"\"\"\n",
    "Hallucinate a step forward given a specific car\n",
    "---------Arguments:\n",
    "`scene` Scene to start hallucination from\n",
    "`particle` Dict with key as IDM parameter name and value as param val\n",
    "`car_id` Identity of the car of interest\n",
    "\n",
    "-------Returns: Hallucinated position of car of interest\n",
    "\n",
    "---------NOTES:------------\n",
    "- For now, we hallucinate the car of interest with the particle. Other cars are assumed to be\n",
    "driving with IDM(v_des = 10). They don't matter in the particle update of the car of interest\n",
    "(FOR NOW)\n",
    "- We return only the position of the car along the lane. We don't even return which lane it is\n",
    "in information. In the future, we want to return 2D position and measure 2D likelihood value somehow\n",
    "\"\"\"\n",
    "function hallucinate_a_step(scene,particle;car_id=-1)\n",
    "    if car_id==-1 @show \"Please give valid car_id\" end\n",
    "    n_cars = scene.n \n",
    "    models = Dict{Int, DriverModel}()\n",
    "    \n",
    "    # Create driver models for all the cars in the scene\n",
    "    for i in 1:n_cars\n",
    "        if i == car_id\n",
    "            models[i] = IntelligentDriverModel(;particle...)\n",
    "        else\n",
    "            # TODO: RESEARCH QUESTION: What drives the other vehicles in the hallucination\n",
    "            models[i] = IntelligentDriverModel(v_des=10.0)\n",
    "        end\n",
    "    end\n",
    "    \n",
    "    n_steps = 1\n",
    "    dt = 0.1\n",
    "    rec = SceneRecord(n_steps, dt)\n",
    "    simulate!(rec, scene, roadway, models, n_steps)\n",
    "    \n",
    "    X = Array{Float64}(undef,n_steps, 1)\n",
    "\n",
    "    for t in 1:n_steps\n",
    "        f = rec.frames[n_steps - t + 1]\n",
    "        \n",
    "        for c in car_id:car_id\n",
    "            s = f.entities[c].state.posF\n",
    "            X[t, 1] = s.s #position\n",
    "        end\n",
    "    end\n",
    "    return X[1]\n",
    "end"
   ]
  },
  {
   "cell_type": "code",
   "execution_count": 166,
   "metadata": {},
   "outputs": [
    {
     "data": {
      "text/plain": [
       "to_matrix_form"
      ]
     },
     "execution_count": 166,
     "metadata": {},
     "output_type": "execute_result"
    }
   ],
   "source": [
    "\"\"\"\n",
    "to_matrix_form: Return information and more workable form for initial particle set\n",
    "\n",
    "---------Arguments:\n",
    "`p_set_dict` Dictionary with parameters of IDM as keys and associated value as array of particles\n",
    "\n",
    "---------Returned things that need explanation:\n",
    "`p_mat` Matrix with each row corresponding to a different parameter of IDM, and each column to a diff particle\n",
    "`params` Array of parameters eg: [:v_des,:σ]\n",
    "`vec_val_vec` Array with each element being another array. This array contains the values i.e diff particles\n",
    "\"\"\"\n",
    "function to_matrix_form(p_set_dict)\n",
    "    # Get the number of particles\n",
    "    # Extract keys (i.e. params) and corresponding array of values\n",
    "    num_p = -100\n",
    "    num_params = length(keys(p_set_dict))\n",
    "    \n",
    "    params = Array{Symbol}(undef,num_params,1)\n",
    "    vec_val_vec = Array{Array}(undef,num_params,1) #Array containing associated values for each key\n",
    "    for (kk,kv) in enumerate(p_set_dict)\n",
    "        num_p = length(kv[2])\n",
    "        params[kk] = kv[1]\n",
    "        vec_val_vec[kk] = kv[2]\n",
    "    end\n",
    "    \n",
    "    # Create a matrix with different rows being different parameters and diff cols being diff particles\n",
    "    p_mat = hcat(vec_val_vec...)'\n",
    "    \n",
    "    return p_mat, params, vec_val_vec\n",
    "end"
   ]
  },
  {
   "cell_type": "code",
   "execution_count": 168,
   "metadata": {},
   "outputs": [
    {
     "data": {
      "text/plain": [
       "compute_particle_likelihoods"
      ]
     },
     "execution_count": 168,
     "metadata": {},
     "output_type": "execute_result"
    }
   ],
   "source": [
    "\"\"\"\n",
    "compute_particle_likelihoods: Loop over the particles and score each of them\n",
    "\n",
    "-----Other functions called: `to_matrix_form`,`hallucinate_a_step`\n",
    "\"\"\"\n",
    "function compute_particle_likelihoods(f,trupos,p_set_dict;car_id=-1)\n",
    "    if car_id==-1 @show \"Please give valid car_id\" end\n",
    "    timestep = 0.1 #TODO: Remove hardcoding\n",
    "    p_mat, params, vec_val_vec = to_matrix_form(p_set_dict)\n",
    "    \n",
    "    num_params=size(p_mat)[1]\n",
    "    num_p = size(p_mat)[2]\n",
    "    lkhd_vec = Array{Float64}(undef,num_p)\n",
    "    for i in 1:num_p    \n",
    "        # Create dict version for a single particle\n",
    "        p_dict = Dict()\n",
    "        for j in 1:num_params\n",
    "            p_dict[params[j]]=vec_val_vec[j][i]\n",
    "        end\n",
    "        \n",
    "        std_dev_acc = p_dict[:σ]\n",
    "        \n",
    "        # hack to avoid the std_dev_pos become negative and error Normal distb\n",
    "        if std_dev_acc <= 0 std_dev_acc = 0.1 end\n",
    "        \n",
    "        # TODO: This math needs to be verified from random variable calculations\n",
    "        std_dev_pos = timestep*timestep*std_dev_acc\n",
    "            \n",
    "        hpos = hallucinate_a_step(f,p_dict,car_id=car_id)\n",
    "        \n",
    "        lkhd_vec[i] = pdf(Normal(hpos,std_dev_pos),trupos[1])\n",
    "    end\n",
    "    return lkhd_vec,p_mat,params\n",
    "end"
   ]
  },
  {
   "cell_type": "code",
   "execution_count": null,
   "metadata": {},
   "outputs": [],
   "source": [
    "\"\"\"\n",
    "update_p_one_step: Update particles given one step of true data\n",
    "\n",
    "------------Arguments that need explanation:\n",
    "`p_set_dict` Dictionary with parameters of IDM as keys and associated value as array of particles\n",
    "`f` Frame to start hallucination from\n",
    "`trupos` Resulting true position starting from frame f\n",
    "`approach` Select \"pf\" or \"cem\"\n",
    "`elite_fraction_percent` Required for the cem method to fit a distribution\n",
    "\n",
    "------------Other functions called:`to_matrix_form`,`hallucinate_a_step`\n",
    "\n",
    "------------Data structures that need explanation:\n",
    "vec_val_vec: Vector of value_vectors: Array with each element being array of values\n",
    "\n",
    "------------Returns:\n",
    "`new_p_set_dict` Dictionary with keys as IDM parameters and values as array of particles\n",
    "\n",
    "-----------NOTES\n",
    "- This function updates associated particles over 1 step for one car\n",
    "- I think frame and scene can be used as the same thing. Maybe techincally scene is an array\n",
    "with each element in that array being a frame.\n",
    "- This function will be called by a function that loops over all the cars present in a scene\n",
    "\"\"\"\n",
    "function update_p_one_step(f,trupos,p_set_dict;car_id=-1,approach=\"pf\",elite_fraction_percent=20)\n",
    "    if car_id==-1 @show \"Provide valid carid\" end\n",
    "    \n",
    "    lkhd_vec,p_mat,params = compute_particle_likelihoods(scene,trupos,p_set_dict,car_id=2)\n",
    "    \n",
    "    num_params = size(p_mat)[1]\n",
    "    num_p = size(p_mat)[2]\n",
    "    \n",
    "    if approach==\"pf\"\n",
    "        p_weight_vec = weights(lkhd_vec./sum(lkhd_vec)) # Convert to weights form to use julia sampling\n",
    "        idx = sample(1:num_p,p_weight_vec,num_p)\n",
    "        new_p_mat = p_mat[:,idx] #Careful that idx is (size,1) and not (size,2)\n",
    "    end\n",
    "    \n",
    "    if approach==\"cem\"\n",
    "        sortedidx = sortperm(lkhd_vec,rev=true)\n",
    "        numtop = convert(Int64,ceil(num_p*elite_fraction_percent/100.0))\n",
    "        best_particles = p_mat[:,sortedidx[1:numtop]] # elite selection\n",
    "#         @show best_particles\n",
    "        p_distribution = fit(MvNormal,best_particles) # fit distb using elites\n",
    "        new_p_mat = rand(p_distribution,num_p) # sample num_p new particles from dist\n",
    "    end\n",
    "    \n",
    "#     @show new_p_set_dict\n",
    "    return new_p_set_dict\n",
    "    \n",
    "end"
   ]
  },
  {
   "cell_type": "code",
   "execution_count": 176,
   "metadata": {},
   "outputs": [
    {
     "data": {
      "text/plain": [
       "to_dict_form"
      ]
     },
     "execution_count": 176,
     "metadata": {},
     "output_type": "execute_result"
    }
   ],
   "source": [
    "\"\"\"\n",
    "Create a new dictionary with param and associated particle value array\n",
    "\"\"\"\n",
    "function to_dict_form(params,new_p_mat)\n",
    "    num_params = length(params)\n",
    "    new_p_set_dict = Dict()\n",
    "    for k in 1:num_params\n",
    "        new_p_set_dict[params[k]] = new_p_mat[k,:]\n",
    "    end\n",
    "    return new_p_set_dict\n",
    "end"
   ]
  },
  {
   "cell_type": "code",
   "execution_count": 177,
   "metadata": {},
   "outputs": [
    {
     "ename": "MethodError",
     "evalue": "MethodError: no method matching (::Colon)(::Int64, ::Array{Symbol,1})\nClosest candidates are:\n  Colon(::T<:Real, ::Any, !Matched::T<:Real) where T<:Real at range.jl:40\n  Colon(::A<:Real, ::Any, !Matched::C<:Real) where {A<:Real, C<:Real} at range.jl:10\n  Colon(::T, ::Any, !Matched::T) where T at range.jl:39\n  ...",
     "output_type": "error",
     "traceback": [
      "MethodError: no method matching (::Colon)(::Int64, ::Array{Symbol,1})\nClosest candidates are:\n  Colon(::T<:Real, ::Any, !Matched::T<:Real) where T<:Real at range.jl:40\n  Colon(::A<:Real, ::Any, !Matched::C<:Real) where {A<:Real, C<:Real} at range.jl:10\n  Colon(::T, ::Any, !Matched::T) where T at range.jl:39\n  ...",
      "",
      "Stacktrace:",
      " [1] to_dict_form(::Array{Symbol,1}, ::Array{Float64,2}) at ./In[173]:6",
      " [2] top-level scope at In[177]:3"
     ]
    }
   ],
   "source": [
    "params = [:v_des,:σ]\n",
    "new_p_mat = [17.0 26.0 24.0 19.0 29.0; 0.1 0.1 0.7 0.4 0.1]\n",
    "new_p_set_dict = to_dict_form(params,new_p_mat)"
   ]
  },
  {
   "cell_type": "code",
   "execution_count": null,
   "metadata": {},
   "outputs": [],
   "source": [
    "\"\"\"\n",
    "Run the CEM_PF and PF approach over an entire trajectory\n",
    "------------------------------------------\n",
    "Generate a ground truth trajectory of 100 timesteps.\n",
    "Make your particle filter go step by step over this ground truth.\n",
    "Hoepfully by the end of the trajectory, it has figured out the true parameters\n",
    "\"\"\"\n",
    "num_p = 100\n",
    "# start:step:end and number of particles are the inputs to sample\n",
    "v_particles = sample(10.0:1.0:30.0,num_p)\n",
    "sig_particles = sample(0.1:0.1:1.0,num_p)\n",
    "old_p_set_dict = Dict(:v_des=>v_particles,:σ=>sig_particles)\n",
    "\n",
    "# Generate ground truth trajectory\n",
    "pos_ground_truth,rec_ground_truth = gen_traj(Dict(:v_des=>25.0,:σ=>0.4))\n",
    "\n",
    "# loop over the trajectory step by step\n",
    "f_end_num = length(rec_ground_truth.frames)\n",
    "    \n",
    "for t in 1:f_end_num-1\n",
    "#     @show t\n",
    "    f = rec_ground_truth.frames[f_end_num - t + 1]\n",
    "    trupos = pos_ground_truth[t]\n",
    "    \n",
    "    # Select approach either \"cem\" or \"pf\"\n",
    "    new_p_set_dict = update_p_one_step(old_p_set_dict,f,trupos,approach=\"pf\")\n",
    "    old_p_set_dict = new_p_set_dict\n",
    "end\n",
    "    \n",
    "#@show fit(MvNormal,old_p_mat) # Don't work because all elements identical\n",
    "@show old_p_set_dict"
   ]
  },
  {
   "cell_type": "markdown",
   "metadata": {},
   "source": [
    "# Visualize"
   ]
  },
  {
   "cell_type": "code",
   "execution_count": null,
   "metadata": {},
   "outputs": [],
   "source": [
    "# Function: Return rec corresponding to generated traj\n",
    "    # Will help visualizatoin\n",
    "    # Calls init_scene\n",
    "# Might be useful later\n",
    "    # models[2] = IntelligentDriverModel(v_des=particle[1],s_min=particle[2],T=particle[3])\n",
    "function gen_rec4vid(particle;nticks=100,timestep=0.1)\n",
    "    scene = init_scene()\n",
    "    models = Dict{Int, LaneFollowingDriver}()\n",
    "    models[1] = IntelligentDriverModel(v_des=particle[1],σ = particle[2])\n",
    "    models[2] = IntelligentDriverModel(v_des=12.0)\n",
    "\n",
    "    # Simulate for nticks (default 100) time steps\n",
    "    timestep = 0.1\n",
    "    rec = QueueRecord(Vehicle1D, nticks+1, timestep)\n",
    "    simulate!(LaneFollowingAccel, rec, scene, roadway, models, nticks)\n",
    "\n",
    "    return rec\n",
    "end"
   ]
  },
  {
   "cell_type": "code",
   "execution_count": null,
   "metadata": {},
   "outputs": [],
   "source": [
    "# overlays = [TextOverlay(text=[\"$(veh.id)\"], incameraframe=true,\n",
    "#         pos=VecE2(veh.state.s-0.7, 3)) for veh in scene];\n",
    "# render(scene, roadway, overlays, cam=cam, canvas_height=100)\n",
    "\n",
    "cam = StaticCamera(VecE2(100.0,0.0), 4.75)\n",
    "true_rec = gen_rec4vid([20.0 0.1],nticks=100)\n",
    "rec = true_rec\n",
    "@manipulate for frame_index in 1 : nframes(rec)\n",
    "    render(rec[frame_index-nframes(rec)], roadway, cam=cam, canvas_height=100)\n",
    "end"
   ]
  },
  {
   "cell_type": "markdown",
   "metadata": {},
   "source": [
    "# LEARNING AND EXPERIMENTATION"
   ]
  },
  {
   "cell_type": "code",
   "execution_count": null,
   "metadata": {},
   "outputs": [],
   "source": [
    "# LEARNING ABOUT MULTIDIM DISTB\n",
    "# Test: Generate samples for a 2d distb\n",
    "d2 = MvNormal(2,2.0) # first arg shows dimension, second shows std dev\n",
    "qw = rand(d2,6) # Will generate 6 samples i.e. 6 columns\n",
    "\n",
    "# Test: Fit 2d distribution\n",
    "dx = Normal()\n",
    "dy = Normal(2,1.0)\n",
    "x = rand(dx,100)\n",
    "y = rand(dy,100)\n",
    "\n",
    "# Matrix with each column being a sample\n",
    "# Total columns is total number of samples\n",
    "# Total rows is number of parameters\n",
    "# All entries in a row contain value from same param eg:v_des\n",
    "data_matrix = vcat(x',y')\n",
    "fit(MvNormal,data_matrix)"
   ]
  },
  {
   "cell_type": "code",
   "execution_count": null,
   "metadata": {},
   "outputs": [],
   "source": [
    "using PyPlot"
   ]
  },
  {
   "cell_type": "code",
   "execution_count": null,
   "metadata": {},
   "outputs": [],
   "source": [
    "num_samples = 2000\n",
    "y1 = rand(Normal(10.0,5.0),num_samples)\n",
    "y2 = rand(Normal(2.0,1.0),num_samples)\n",
    "plot(1:num_samples,y1)\n",
    "plot(1:num_samples,y2)"
   ]
  },
  {
   "cell_type": "code",
   "execution_count": null,
   "metadata": {},
   "outputs": [],
   "source": [
    "using StatPlots"
   ]
  },
  {
   "cell_type": "code",
   "execution_count": null,
   "metadata": {},
   "outputs": [],
   "source": [
    "StatPlots.plot(Normal(3,5),linewidth=4,size=(2500,2500))"
   ]
  },
  {
   "cell_type": "code",
   "execution_count": null,
   "metadata": {},
   "outputs": [],
   "source": [
    "roadway = gen_straight_roadway(2,1000.0);"
   ]
  },
  {
   "cell_type": "code",
   "execution_count": null,
   "metadata": {},
   "outputs": [],
   "source": [
    "scene = Scene1D()\n",
    "push!(scene, Entity(State1D(10.0,  8.0), VehicleDef(), 1))\n",
    "push!(scene, Entity(State1D(50.0, 12.5), VehicleDef(), 2))\n",
    "\n",
    "cam = StaticCamera(VecE2(100.0,0.0), 4.75)\n",
    "overlays = [TextOverlay(text=[\"$(veh.id)\"], incameraframe=true, pos=VecE2(veh.state.s-0.7, 3)) for veh in scene]\n",
    "render(scene, roadway, overlays, cam=cam, canvas_height=100)"
   ]
  },
  {
   "cell_type": "markdown",
   "metadata": {},
   "source": [
    "# Tests (serves as usage examples for functions)"
   ]
  },
  {
   "cell_type": "code",
   "execution_count": 79,
   "metadata": {},
   "outputs": [
    {
     "data": {
      "text/plain": [
       "20.015735112859463"
      ]
     },
     "execution_count": 79,
     "metadata": {},
     "output_type": "execute_result"
    }
   ],
   "source": [
    "# gen_traj\n",
    "roadway = gen_straight_roadway(3,1000.0)\n",
    "models = Dict{Int, DriverModel}()\n",
    "models[1] = IntelligentDriverModel(v_des = 10.0)\n",
    "models[2] = IntelligentDriverModel(v_des = 20.0)\n",
    "models[3] = IntelligentDriverModel(v_des = 40.0)\n",
    "\n",
    "# Initialize all vehicles at the same 0 point location on the road\n",
    "veh_state = VehicleState(Frenet(roadway[LaneTag(1,1)], 10.0), roadway, 0.)\n",
    "veh1 = Vehicle(veh_state, VehicleDef(), 1)\n",
    "veh_state = VehicleState(Frenet(roadway[LaneTag(1,2)], 20.0), roadway, 0.)\n",
    "veh2 = Vehicle(veh_state, VehicleDef(), 2)\n",
    "veh_state = VehicleState(Frenet(roadway[LaneTag(1,3)], 30.0), roadway, 0.)\n",
    "veh3 = Vehicle(veh_state, VehicleDef(), 3)\n",
    "\n",
    "scene = Scene()\n",
    "push!(scene, veh1)\n",
    "push!(scene, veh2)\n",
    "push!(scene, veh3)\n",
    "# render(scene,roadway)\n",
    "\n",
    "particle = Dict(:v_des=>25.0,:σ=>0.5)\n",
    "X = hallucinate_a_step_scale(scene,2,particle)\n",
    "\n",
    "# n_steps = 100\n",
    "# dt = 0.1\n",
    "# rec = SceneRecord(n_steps, dt)\n",
    "# simulate!(rec, scene, roadway, models, n_steps)\n",
    "# @manipulate for frame_index in 1 : nframes(rec)\n",
    "#     render(rec[frame_index-nframes(rec)], roadway, canvas_height=100)\n",
    "# end"
   ]
  },
  {
   "cell_type": "code",
   "execution_count": 62,
   "metadata": {},
   "outputs": [
    {
     "name": "stdout",
     "output_type": "stream",
     "text": [
      "((((rec.frames[10]).entities[1]).state).posF).ϕ = 0.0\n",
      "(models[1]).σ = NaN\n"
     ]
    },
    {
     "data": {
      "text/plain": [
       "NaN"
      ]
     },
     "execution_count": 62,
     "metadata": {},
     "output_type": "execute_result"
    }
   ],
   "source": [
    "@show rec.frames[10].entities[1].state.posF.ϕ\n",
    "@show models[1].σ"
   ]
  },
  {
   "cell_type": "code",
   "execution_count": null,
   "metadata": {},
   "outputs": [],
   "source": [
    "# gen traj: Note that this requires a roadway to be defined because\n",
    "# the simulate! method is called within gen_traj, and that needs a roadway defined\n",
    "particle = Dict(:v_des=>25.0,:σ=>0.5)\n",
    "next_pos = gen_traj(particle,nticks=1)\n",
    "@show next_pos\n",
    "@test isapprox(next_pos[1][1],51.2)"
   ]
  },
  {
   "cell_type": "code",
   "execution_count": 158,
   "metadata": {},
   "outputs": [
    {
     "data": {
      "text/plain": [
       "\u001b[32m\u001b[1mTest Passed\u001b[22m\u001b[39m"
      ]
     },
     "execution_count": 158,
     "metadata": {},
     "output_type": "execute_result"
    }
   ],
   "source": [
    "# Test: Initialize a scene\n",
    "scene = init_scene(1000.0)\n",
    "@test scene[1].state.posF.s==10.0\n",
    "@test scene[2].state.posF.s==20.0\n",
    "@test scene[3].state.posF.s==30.0"
   ]
  },
  {
   "cell_type": "code",
   "execution_count": 159,
   "metadata": {},
   "outputs": [
    {
     "data": {
      "text/plain": [
       "\u001b[32m\u001b[1mTest Passed\u001b[22m\u001b[39m"
      ]
     },
     "execution_count": 159,
     "metadata": {},
     "output_type": "execute_result"
    }
   ],
   "source": [
    "# Test: hallucinate a step\n",
    "scene = init_scene(1000.0)\n",
    "particle = Dict(:v_des=>25.0,:σ=>0.5)\n",
    "@test isapprox(hallucinate_a_step(scene,particle,car_id=1),10.02,atol=0.1)\n",
    "@test isapprox(hallucinate_a_step(scene,particle,car_id=2),20.02,atol=0.1)\n",
    "@test isapprox(hallucinate_a_step(scene,particle,car_id=3),30.02,atol=0.15)"
   ]
  },
  {
   "cell_type": "code",
   "execution_count": 174,
   "metadata": {},
   "outputs": [
    {
     "name": "stdout",
     "output_type": "stream",
     "text": [
      "p_set_dict = Dict(:v_des=>[17.0, 26.0, 24.0, 19.0, 29.0],:σ=>[0.1, 0.1, 0.7, 0.4, 0.1])\n",
      "p_mat = [17.0 26.0 24.0 19.0 29.0; 0.1 0.1 0.7 0.4 0.1]\n"
     ]
    },
    {
     "data": {
      "text/plain": [
       "\u001b[32m\u001b[1mTest Passed\u001b[22m\u001b[39m"
      ]
     },
     "execution_count": 174,
     "metadata": {},
     "output_type": "execute_result"
    }
   ],
   "source": [
    "# Test: to_matrix_form\n",
    "num_p = 5\n",
    "# start:step:end and number of particles are the inputs to sample\n",
    "v_particles = sample(10.0:1.0:30.0,num_p)\n",
    "sig_particles = sample(0.1:0.1:1.0,num_p)\n",
    "p_set_dict = Dict(:v_des=>v_particles,:σ=>sig_particles)\n",
    "@show p_set_dict\n",
    "p_mat, params, vec_val_vec = to_matrix_form(p_set_dict);\n",
    "@show p_mat\n",
    "@test params[1] == :v_des\n",
    "@test params[2] == :σ\n",
    "@test size(p_mat)[1] == 2\n",
    "@test size(p_mat)[2] == 5\n",
    "@test length(vec_val_vec) == 2\n",
    "@test length(vec_val_vec[1]) == 5"
   ]
  },
  {
   "cell_type": "code",
   "execution_count": 172,
   "metadata": {},
   "outputs": [
    {
     "data": {
      "text/plain": [
       "\u001b[32m\u001b[1mTest Passed\u001b[22m\u001b[39m"
      ]
     },
     "execution_count": 172,
     "metadata": {},
     "output_type": "execute_result"
    }
   ],
   "source": [
    "# Test: compute_particle_likelihoods\n",
    "scene=init_scene(1000.0)\n",
    "\n",
    "num_p = 5\n",
    "v_particles = sample(10.0:1.0:30.0,num_p)\n",
    "sig_particles = sample(0.1:0.1:1.0,num_p)\n",
    "p_set_dict = Dict(:v_des=>v_particles,:σ=>sig_particles)\n",
    "\n",
    "trupos = hallucinate_a_step(scene,Dict(:v_des=>25.0,:σ=>0.0),car_id=2)\n",
    "lkhd_vec,p_mat,params = compute_particle_likelihoods(scene,trupos,p_set_dict,car_id=2)\n",
    "\n",
    "@test length(lkhd_vec) == num_p\n",
    "@test length(params) == 2\n",
    "@test size(p_mat)[1] == 2\n",
    "@test size(p_mat)[2] == 5"
   ]
  },
  {
   "cell_type": "code",
   "execution_count": null,
   "metadata": {},
   "outputs": [],
   "source": [
    "# update_p_one_step\n",
    "num_p = 5\n",
    "# start:step:end and number of particles are the inputs to sample\n",
    "v_particles = sample(10.0:1.0:30.0,num_p)\n",
    "sig_particles = sample(0.1:0.1:1.0,num_p)\n",
    "p_set_dict = Dict(:v_des=>v_particles,:σ=>sig_particles)\n",
    "@show p_set_dict\n",
    "# Generate ground truth trajectory\n",
    "pos_ground_truth,rec_ground_truth = gen_traj(Dict(:v_des=>25.0,:σ=>0.2))\n",
    "@show rec_ground_truth.frames[101].entities[1].state,pos_ground_truth[1]\n",
    "\n",
    "update_p_one_step(p_set_dict,rec_ground_truth.frames[101],pos_ground_truth[1],\n",
    "    approach=\"cem\",elite_fraction_percent=60)\n",
    "\n",
    "```\n",
    "Expected output\n",
    "p_set_dict = Dict(:v_des=>[11.0, 29.0, 27.0, 25.0, 30.0],:σ=>[1.0, 0.7, 0.4, 0.2, 0.7])\n",
    "(rec_ground_truth.frames[101].entities[1].state, pos_ground_truth[1]) = \n",
    "(AutomotiveDrivingModels.State1D(50.0, 12.0), 51.2124675051445)\n",
    "best_particles = [25.0 27.0 30.0; 0.2 0.4 0.7]\n",
    "p_mat = [11.0 29.0 27.0 25.0 30.0; 1.0 0.7 0.4 0.2 0.7]\n",
    "new_p_mat = [25.0191 27.8877 26.6066 26.3389 26.8579; 0.201913 0.488768 0.360664 0.333894 0.385794]\n",
    "new_p_set_dict = Dict{Any,Any}(Pair{Any,Any}(:v_des, [25.0191, 27.8877, 26.6066, 26.3389, 26.8579]),\n",
    "Pair{Any,Any}(:σ, [0.201913, 0.488768, 0.360664, 0.333894, 0.385794]))\n",
    "```"
   ]
  }
 ],
 "metadata": {
  "kernelspec": {
   "display_name": "Julia 1.1.0",
   "language": "julia",
   "name": "julia-1.1"
  },
  "language_info": {
   "file_extension": ".jl",
   "mimetype": "application/julia",
   "name": "julia",
   "version": "1.1.0"
  }
 },
 "nbformat": 4,
 "nbformat_minor": 2
}
