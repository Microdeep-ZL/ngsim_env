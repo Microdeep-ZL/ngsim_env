{
 "cells": [
  {
   "cell_type": "markdown",
   "metadata": {},
   "source": [
    "- Goal\n",
    "    - Create synthetic data using IDM\n",
    "    - Learn parameters of that data using particle filtering\n",
    "    - Aliter 7 Feb: Learn using CEM idea, fitness function and then distb and then sample\n",
    "- Feb 10: Adding timegap_des as our 2nd param in the 2 car, 1D, IDM scenario\n",
    "    - Make code capable of handling 2d param. So far, had only scalar param\n",
    "    i.e v_des\n",
    "    - Fitting 2D distributions is required now\n",
    "- Feb 22\n",
    "    - the `rec` generated using `simulate` is a devious monster\n",
    "    - It stores the last timestep in the 1st entry and first timestep in last entry\n",
    "    - Be careful\n",
    "- Mar 27\n",
    "    - Inspired by behavior test written by Maxime to convert this code to work with general scene\n",
    "    instead of scene1D and state1D as previously\n",
    "    - Scaling up: scenario is to have 3 different speed vehicles starting in adjacent lanes. Each\n",
    "    car will have an associated bucket of particles and at the end we whould be able to uncover\n",
    "    true params for all three cars\n",
    "    - Disclaimer: This will definitely work since we have confirmed that we can uncover params for one \n",
    "    car when it is the leader (i.e. unaffected by any car in front). The current exercise is to scale up the\n",
    "    code to work with multiple vehicles\n",
    "    - Idea is that every vehicles associated bucket of particles will evolve differently as it sees more\n",
    "    of the true trajectory. This is in contrast to original idea where we thought we will have all the buckets\n",
    "    pooled together to inform the final distribution\n",
    "- April 4: Some research questions\n",
    "    - Does the initial velocity of the car impact the learning of the parameters? The test\n",
    "    we did in the 5 car adjacent lane scenario seemed to do well even with the \n",
    "    initial velocity being different from the desired velocity parameter?\n",
    "    - What situtation will break the vanilla PF but CEM PF will do well\n",
    "    - How can we add confidence as an information to the output\n",
    "    provided by the PF?\n",
    "        - eg: I think v_des should be 25 but not sure because there\n",
    "        is a car in front that is obstructing me\n",
    "    - What is the influence of interaction on the filtering results?\n",
    "    - In the hallucination, does it matter what model we assume to drive\n",
    "    the other vehicles?\n",
    "    - Graduate to measuring 2D likelihood when lane changes can start\n",
    "- April 4: Some todos\n",
    "    - Fix the seed and write a test that reproduces the parameter\n",
    "    values estimated from filtering in the 5-car adjacent lane scenario\n",
    "    - ~~Separate out tests into different files to work with differnt\n",
    "    functions and `runtests.jl` should just call all these different\n",
    "    test files~~\n",
    "    - ~~Visualization functions to compare estimation performance\n",
    "    over time~~\n",
    "    - documenter.jl for automatic generation of documentation\n",
    "- April 5: <span style=\"color:red\"> TODOS </span>\n",
    "    - Run tons of experiments and give result to see whether or not we are getting\n",
    "    one off good results or can we truly test the results\n",
    "- April 6: Discovery\n",
    "    - Starting the cars from 0 velocity makes the particle filter estimate go off kilter\n",
    "    - Starting from the v_des true param value makes it work fine\n",
    "    - As seen from the one lane 2 car scenario\n",
    "- April 7: Verbal description of what the particle filter is doing\n",
    "    - Start with a bucket for each car. Each bucket contains 100 particles. Each particle is a\n",
    "    dictionary with parameter, value pairing eg: v_des, 20.0\n",
    "    - Hallucinate a step using each particle. Compare hallucination against ground truth to get\n",
    "    relative goodness between every particle\n",
    "        - This is done by measuring the likelihood of the true data under a _Gaussian_ distribution that\n",
    "        is centered around the hallucinated position and has a standard deviation that is\n",
    "        proportional to the timestep standard deviation $\\sigma_{pos} = \\Delta T^2*\\sigma_{acc}$\n",
    "        (note that $\\sigma_{acc}$ is a parameter of IDM)\n",
    "            - <span style=\"color:blue\">_Is this too naive a way to measure likelihood i.e. will\n",
    "    it capture influence on params such as Timegap and Min. allowable distance_</span>\n",
    "            - <span style=\"color:blue\">_Is a Gaussian distribution the best to do this \n",
    "    likelihood computation?_</span>\n",
    "    - Particle filter\n",
    "        - Resample from the set of particles using weights obtained using above relative goodness\n",
    "        to obtain 100 new particles\n",
    "    - Cross entropy method\n",
    "        - Fit a distribution after selecting elites from the set of particles according to relative\n",
    "        goodness\n",
    "        - Sample 100 new particles from this distribution\n",
    "    - Once the entire trajectory has been seen, every car has an associated bucket that contains\n",
    "    100 particles\n",
    "- April 8: \n",
    "    - <span style=\"color:red\">TODO Function that does both particle bucket returning and captures RMSE progress with time</span>\n",
    "    - Implemented `zero_dict`, `mean_dict`, `particle_difference_paramwise` \n",
    "    functions to scale up to return parameter wise error with iter num\n",
    "- April 9:\n",
    "    - Implemented `compute_mean_dict`, `init_empty_array_dict`, `combine_array_dicts`,`plot_dict`"
   ]
  },
  {
   "cell_type": "code",
   "execution_count": 1,
   "metadata": {},
   "outputs": [
    {
     "data": {
      "text/html": [
       "    <script class='js-collapse-script'>\n",
       "        var curMatch =\n",
       "            window.location.href\n",
       "            .match(/(.*?)\\/notebooks\\/.*\\.ipynb/);\n",
       "\n",
       "        curMatch = curMatch ||\n",
       "            window.location.href\n",
       "            .match(/(.*?)\\/apps\\/.*\\.ipynb/);\n",
       "\n",
       "        if ( curMatch ) {\n",
       "            $('head').append('<base href=\"' + curMatch[1] + '/\">');\n",
       "        }\n",
       "    </script>\n"
      ],
      "text/plain": [
       "HTML{String}(\"    <script class='js-collapse-script'>\\n        var curMatch =\\n            window.location.href\\n            .match(/(.*?)\\\\/notebooks\\\\/.*\\\\.ipynb/);\\n\\n        curMatch = curMatch ||\\n            window.location.href\\n            .match(/(.*?)\\\\/apps\\\\/.*\\\\.ipynb/);\\n\\n        if ( curMatch ) {\\n            \\$('head').append('<base href=\\\"' + curMatch[1] + '/\\\">');\\n        }\\n    </script>\\n\")"
      ]
     },
     "metadata": {},
     "output_type": "display_data"
    },
    {
     "data": {
      "text/html": [
       "<script class='js-collapse-script' src='/assetserver/ac92513fc97126f4d4502d0637c43de8cdb5fca9-assets/webio/dist/bundle.js'></script>"
      ],
      "text/plain": [
       "HTML{String}(\"<script class='js-collapse-script' src='/assetserver/ac92513fc97126f4d4502d0637c43de8cdb5fca9-assets/webio/dist/bundle.js'></script>\")"
      ]
     },
     "metadata": {},
     "output_type": "display_data"
    },
    {
     "data": {
      "text/html": [
       "<script class='js-collapse-script' src='/assetserver/ac92513fc97126f4d4502d0637c43de8cdb5fca9-assets/providers/ijulia_setup.js'></script>"
      ],
      "text/plain": [
       "HTML{String}(\"<script class='js-collapse-script' src='/assetserver/ac92513fc97126f4d4502d0637c43de8cdb5fca9-assets/providers/ijulia_setup.js'></script>\")"
      ]
     },
     "metadata": {},
     "output_type": "display_data"
    },
    {
     "data": {
      "text/html": [
       "  <script class='js-collapse-script'>\n",
       "    $('.js-collapse-script').parent('.output_subarea').css('padding', '0');\n",
       "  </script>\n"
      ],
      "text/plain": [
       "HTML{String}(\"  <script class='js-collapse-script'>\\n    \\$('.js-collapse-script').parent('.output_subarea').css('padding', '0');\\n  </script>\\n\")"
      ]
     },
     "metadata": {},
     "output_type": "display_data"
    }
   ],
   "source": [
    "using AutomotiveDrivingModels;using AutoViz;using Reel\n",
    "using Interact;using StatsBase # For weights function used by particle filter\n",
    "using Test;using Distributions;using Pkg;using PyPlot;\n",
    "using LinearAlgebra # For norm calculation"
   ]
  },
  {
   "cell_type": "code",
   "execution_count": 2,
   "metadata": {},
   "outputs": [],
   "source": [
    "include(\"admin_functions.jl\")\n",
    "include(\"driving_functions.jl\")\n",
    "include(\"filtering_functions.jl\")\n",
    "include(\"metrics_functions.jl\");"
   ]
  },
  {
   "cell_type": "code",
   "execution_count": null,
   "metadata": {},
   "outputs": [],
   "source": [
    "# List the available functions loaded from the above include statements\n",
    "# https://stackoverflow.com/questions/21301451/get-a-list-of-current-variables-in-julia-lang\n",
    "names(Main)[4:end]"
   ]
  },
  {
   "cell_type": "markdown",
   "metadata": {},
   "source": [
    "# Workspace"
   ]
  },
  {
   "cell_type": "code",
   "execution_count": 3,
   "metadata": {},
   "outputs": [
    {
     "data": {
      "image/png": "[encoded data removed]",
      "text/plain": [
       "Figure(PyObject <Figure size 640x480 with 1 Axes>)"
      ]
     },
     "metadata": {},
     "output_type": "display_data"
    }
   ],
   "source": [
    "# 5 cars adjacent lanes scenario with 2 parameters\n",
    "num_particles = 100\n",
    "lane_place_array = [[(0.,10.)],[(0.,20.)],[(0.,15.)],[(0.,20.)],[(0.,20.)]]\n",
    "num_cars = 5\n",
    "d1 = Dict(:v_des=>10.0,:σ=>0.2);d2 = Dict(:v_des=>20.0,:σ=>0.3);d3 = Dict(:v_des=>15.0,:σ=>0.)\n",
    "d4 = Dict(:v_des=>18.0,:σ=>0.4);d5 = Dict(:v_des=>27.0,:σ=>0.2)\n",
    "car_particles = [d1,d2,d3,d4,d5]\n",
    "\n",
    "particle_props = [(:v_des,10.,0.1,30.),(:σ,0.1,0.1,1.)]\n",
    "rmse_array_pf = capture_filtering_progress_paramwise(num_particles,num_cars,lane_place_array,\n",
    "    car_particles,particle_props,approach=\"pf\")\n",
    "rmse_array_cem = capture_filtering_progress_paramwise(num_particles,num_cars,lane_place_array,\n",
    "    car_particles,particle_props,approach=\"cem\");\n",
    "pf_array = combine_array_dicts(rmse_array_pf);\n",
    "cem_array = combine_array_dicts(rmse_array_cem);\n",
    "res = combine_exp_results_dicts([:cem,:pf],[cem_array,pf_array])\n",
    "plot_dict(res);"
   ]
  },
  {
   "cell_type": "markdown",
   "metadata": {},
   "source": [
    "# Recent Work"
   ]
  },
  {
   "cell_type": "code",
   "execution_count": null,
   "metadata": {},
   "outputs": [],
   "source": [
    "# 5 cars adjacent lanes scenario with 2 parameters\n",
    "num_particles = 100\n",
    "lane_place_array = [[(0.,10.)],[(0.,20.)],[(0.,15.)],[(0.,20.)],[(0.,20.)]]\n",
    "num_cars = 5\n",
    "d1 = Dict(:v_des=>10.0,:σ=>0.2);d2 = Dict(:v_des=>20.0,:σ=>0.3);d3 = Dict(:v_des=>15.0,:σ=>0.)\n",
    "d4 = Dict(:v_des=>18.0,:σ=>0.4);d5 = Dict(:v_des=>27.0,:σ=>0.2)\n",
    "car_particles = [d1,d2,d3,d4,d5]\n",
    "\n",
    "particle_props = [(:v_des,10.,0.1,30.),(:σ,0.1,0.1,1.)]\n",
    "rmse_array_pf = capture_filtering_progress(num_particles,num_cars,lane_place_array,\n",
    "    car_particles,particle_props,approach=\"pf\")\n",
    "rmse_array_cem = capture_filtering_progress(num_particles,num_cars,lane_place_array,\n",
    "    car_particles,particle_props,approach=\"cem\")\n",
    "plot(rmse_array_pf,label=\"particle filter\")\n",
    "plot(rmse_array_cem,label=\"cross entropy method\")\n",
    "legend()\n",
    "xlabel(\"Timestep along true data trajectory\")\n",
    "ylabel(\"Mean parameter error\")"
   ]
  },
  {
   "cell_type": "code",
   "execution_count": null,
   "metadata": {},
   "outputs": [],
   "source": [
    "# 2 cars in the same lane scenario with 2 parameters\n",
    "num_particles = 100\n",
    "pos_vel_array_1 = [(30.,15.),(10.,15.)]\n",
    "lane_place_array = [pos_vel_array_1]\n",
    "num_cars = 2\n",
    "d1 = Dict(:v_des=>20.0,:σ=>0.1);d2 = Dict(:v_des=>10.0,:σ=>0.1)\n",
    "car_particles = [d1,d2]\n",
    "particle_props = [(:v_des,10.,0.1,30.),(:σ,0.1,0.1,1.)]\n",
    "bucket_array = filter_particles_over_trajectory(num_particles,num_cars,lane_place_array,\n",
    "    car_particles,particle_props,approach=\"cem\")\n",
    "print_buckets_mean(bucket_array)"
   ]
  },
  {
   "cell_type": "code",
   "execution_count": null,
   "metadata": {},
   "outputs": [],
   "source": [
    "# 5 cars adjacent lanes scenario with 2 parameters\n",
    "num_particles = 100\n",
    "lane_place_array = [[(0.,10.)],[(0.,20.)],[(0.,15.)],[(0.,20.)],[(0.,20.)]]\n",
    "num_cars = 5\n",
    "d1 = Dict(:v_des=>10.0,:σ=>0.2);d2 = Dict(:v_des=>20.0,:σ=>0.3);d3 = Dict(:v_des=>15.0,:σ=>0.)\n",
    "d4 = Dict(:v_des=>18.0,:σ=>0.4);d5 = Dict(:v_des=>27.0,:σ=>0.2)\n",
    "car_particles = [d1,d2,d3,d4,d5]\n",
    "\n",
    "particle_props = [(:v_des,10.,0.1,30.),(:σ,0.1,0.1,1.)]\n",
    "bucket_array = filter_particles_over_trajectory(num_particles,num_cars,lane_place_array,\n",
    "    car_particles,particle_props,approach=\"cem\")\n",
    "print_buckets_mean(bucket_array)"
   ]
  },
  {
   "cell_type": "markdown",
   "metadata": {},
   "source": [
    "# Legacy"
   ]
  },
  {
   "cell_type": "code",
   "execution_count": null,
   "metadata": {},
   "outputs": [],
   "source": [
    "# 5 car adjacent lanes scenario with 4 parameters\n",
    "# Uses new functions as compared to 2 parameters case to enable working with more parameters\n",
    "# These are: initialize_carwise_particle_buckets which, in turn, calls initialize_particles\n",
    "\n",
    "# We see that even without specifying a ground truth value for v_des, the default value of \n",
    "# 29.0 is uncovered successfully. Same can't be said for the spacing and timegap params\n",
    "\n",
    "num_p = 100 # number of particles\n",
    "car_pos = [0.,0.,0.,0.,0.]\n",
    "\n",
    "n_cars = length(car_pos) # number of cars\n",
    "scene,roadway = init_scene_roadway(car_pos)\n",
    "\n",
    "# Specify the ground truth values for v_des\n",
    "# d1 = Dict(:v_des=>10.0,:σ=>0.2);d2 = Dict(:v_des=>20.0,:σ=>0.3);d3 = Dict(:v_des=>15.0,:σ=>0.)\n",
    "# d4 = Dict(:v_des=>18.0,:σ=>0.4);d5 = Dict(:v_des=>27.0,:σ=>0.2)\n",
    "\n",
    "# Test the default v_des uncovering\n",
    "d1 = Dict(:σ=>0.2);d2 = Dict(:σ=>0.3);d3 = Dict(:σ=>0.)\n",
    "d4 = Dict(:σ=>0.4);d5 = Dict(:σ=>0.2)\n",
    "\n",
    "car_particles = [d1,d2,d3,d4,d5]\n",
    "\n",
    "car_vel_array = [10.,20.,15.,20.,20.]\n",
    "\n",
    "rec = generate_ground_truth(car_pos,car_particles,car_vel_array=car_vel_array,n_steps=100)\n",
    "\n",
    "# loop over the trajectory step by step\n",
    "f_end_num = length(rec.frames)\n",
    "\n",
    "input = [(:T,0.1,0.1,10.),(:v_des,10.,0.1,30.),(:σ,0.1,0.1,1.),(:s_min,0.1,0.1,5.)]\n",
    "bucket_array = initialize_carwise_particle_buckets(n_cars,num_p,input)\n",
    "    \n",
    "for t in 1:f_end_num-1\n",
    "    if t%10==0 @show t end\n",
    "    f = rec.frames[f_end_num - t + 1]\n",
    "    \n",
    "    for car_id in 1:n_cars\n",
    "        old_p_set_dict = bucket_array[car_id]\n",
    "        trupos = rec.frames[f_end_num-t].entities[car_id].state.posF.s\n",
    "#         @show trupos\n",
    "#         @show old_p_set_dict\n",
    "        new_p_set_dict = update_p_one_step(roadway,f,trupos,old_p_set_dict,\n",
    "            car_id=car_id,approach=\"pf\")\n",
    "        bucket_array[car_id] = new_p_set_dict\n",
    "    end\n",
    "end  \n",
    "#@show fit(MvNormal,old_p_mat) # Don't work because all elements identical\n",
    "print_buckets_mean(bucket_array)"
   ]
  },
  {
   "cell_type": "code",
   "execution_count": null,
   "metadata": {},
   "outputs": [],
   "source": [
    "# 5 car adjacent lane scenario with 2 parameters\n",
    "\n",
    "num_p = 100 # number of particles\n",
    "car_pos = [0.,0.,0.,0.,0.]\n",
    "\n",
    "n_cars = length(car_pos) # number of cars\n",
    "scene,roadway = init_scene_roadway(car_pos)\n",
    "d1 = Dict(:v_des=>10.0,:σ=>0.2);d2 = Dict(:v_des=>20.0,:σ=>0.3);d3 = Dict(:v_des=>15.0,:σ=>0.)\n",
    "d4 = Dict(:v_des=>18.0,:σ=>0.4);d5 = Dict(:v_des=>27.0,:σ=>0.2)\n",
    "\n",
    "car_particles = [d1,d2,d3,d4,d5]\n",
    "\n",
    "car_vel_array = [10.,20.,15.,20.,20.]\n",
    "\n",
    "rec = generate_ground_truth(car_pos,car_particles,car_vel_array=car_vel_array,n_steps=100)\n",
    "\n",
    "# loop over the trajectory step by step\n",
    "f_end_num = length(rec.frames)\n",
    "\n",
    "bucket_array = init_car_particle_buckets(n_cars,num_p)\n",
    "    \n",
    "for t in 1:f_end_num-1\n",
    "    if t%10==0 @show t end\n",
    "    f = rec.frames[f_end_num - t + 1]\n",
    "    \n",
    "    for car_id in 1:n_cars\n",
    "        old_p_set_dict = bucket_array[car_id]\n",
    "        trupos = rec.frames[f_end_num-t].entities[car_id].state.posF.s\n",
    "#         @show trupos\n",
    "#         @show old_p_set_dict\n",
    "        new_p_set_dict = update_p_one_step(roadway,f,trupos,old_p_set_dict,\n",
    "            car_id=car_id,approach=\"cem\")\n",
    "        bucket_array[car_id] = new_p_set_dict\n",
    "    end\n",
    "end  \n",
    "#@show fit(MvNormal,old_p_mat) # Don't work because all elements identical\n",
    "print_buckets_mean(bucket_array)"
   ]
  },
  {
   "cell_type": "markdown",
   "metadata": {},
   "source": [
    "# Visualize"
   ]
  },
  {
   "cell_type": "code",
   "execution_count": null,
   "metadata": {},
   "outputs": [],
   "source": [
    "# Function: Return rec corresponding to generated traj\n",
    "    # Will help visualizatoin\n",
    "    # Calls init_scene\n",
    "# Might be useful later\n",
    "    # models[2] = IntelligentDriverModel(v_des=particle[1],s_min=particle[2],T=particle[3])\n",
    "function gen_rec4vid(particle;nticks=100,timestep=0.1)\n",
    "    scene = init_scene()\n",
    "    models = Dict{Int, LaneFollowingDriver}()\n",
    "    models[1] = IntelligentDriverModel(v_des=particle[1],σ = particle[2])\n",
    "    models[2] = IntelligentDriverModel(v_des=12.0)\n",
    "\n",
    "    # Simulate for nticks (default 100) time steps\n",
    "    timestep = 0.1\n",
    "    rec = QueueRecord(Vehicle1D, nticks+1, timestep)\n",
    "    simulate!(LaneFollowingAccel, rec, scene, roadway, models, nticks)\n",
    "\n",
    "    return rec\n",
    "end"
   ]
  },
  {
   "cell_type": "code",
   "execution_count": null,
   "metadata": {},
   "outputs": [],
   "source": [
    "# overlays = [TextOverlay(text=[\"$(veh.id)\"], incameraframe=true,\n",
    "#         pos=VecE2(veh.state.s-0.7, 3)) for veh in scene];\n",
    "# render(scene, roadway, overlays, cam=cam, canvas_height=100)\n",
    "\n",
    "cam = StaticCamera(VecE2(100.0,0.0), 4.75)\n",
    "true_rec = gen_rec4vid([20.0 0.1],nticks=100)\n",
    "rec = true_rec\n",
    "@manipulate for frame_index in 1 : nframes(rec)\n",
    "    render(rec[frame_index-nframes(rec)], roadway, cam=cam, canvas_height=100)\n",
    "end"
   ]
  },
  {
   "cell_type": "markdown",
   "metadata": {},
   "source": [
    "# LEARNING AND EXPERIMENTATION"
   ]
  },
  {
   "cell_type": "code",
   "execution_count": null,
   "metadata": {},
   "outputs": [],
   "source": [
    "# LEARNING ABOUT MULTIDIM DISTB\n",
    "# Test: Generate samples for a 2d distb\n",
    "d2 = MvNormal(2,2.0) # first arg shows dimension, second shows std dev\n",
    "qw = rand(d2,6) # Will generate 6 samples i.e. 6 columns\n",
    "\n",
    "# Test: Fit 2d distribution\n",
    "dx = Normal()\n",
    "dy = Normal(2,1.0)\n",
    "x = rand(dx,100)\n",
    "y = rand(dy,100)\n",
    "\n",
    "# Matrix with each column being a sample\n",
    "# Total columns is total number of samples\n",
    "# Total rows is number of parameters\n",
    "# All entries in a row contain value from same param eg:v_des\n",
    "data_matrix = vcat(x',y')\n",
    "fit(MvNormal,data_matrix)"
   ]
  },
  {
   "cell_type": "code",
   "execution_count": null,
   "metadata": {},
   "outputs": [],
   "source": [
    "using PyPlot"
   ]
  },
  {
   "cell_type": "code",
   "execution_count": null,
   "metadata": {},
   "outputs": [],
   "source": [
    "num_samples = 2000\n",
    "y1 = rand(Normal(10.0,5.0),num_samples)\n",
    "y2 = rand(Normal(2.0,1.0),num_samples)\n",
    "plot(1:num_samples,y1)\n",
    "plot(1:num_samples,y2)"
   ]
  },
  {
   "cell_type": "code",
   "execution_count": null,
   "metadata": {},
   "outputs": [],
   "source": [
    "using StatPlots"
   ]
  },
  {
   "cell_type": "code",
   "execution_count": null,
   "metadata": {},
   "outputs": [],
   "source": [
    "StatPlots.plot(Normal(3,5),linewidth=4,size=(2500,2500))"
   ]
  },
  {
   "cell_type": "code",
   "execution_count": null,
   "metadata": {},
   "outputs": [],
   "source": [
    "roadway = gen_straight_roadway(2,1000.0);"
   ]
  },
  {
   "cell_type": "code",
   "execution_count": null,
   "metadata": {},
   "outputs": [],
   "source": [
    "scene = Scene1D()\n",
    "push!(scene, Entity(State1D(10.0,  8.0), VehicleDef(), 1))\n",
    "push!(scene, Entity(State1D(50.0, 12.5), VehicleDef(), 2))\n",
    "\n",
    "cam = StaticCamera(VecE2(100.0,0.0), 4.75)\n",
    "overlays = [TextOverlay(text=[\"$(veh.id)\"], incameraframe=true, pos=VecE2(veh.state.s-0.7, 3)) for veh in scene]\n",
    "render(scene, roadway, overlays, cam=cam, canvas_height=100)"
   ]
  }
 ],
 "metadata": {
  "kernelspec": {
   "display_name": "Julia 1.1.0",
   "language": "julia",
   "name": "julia-1.1"
  },
  "language_info": {
   "file_extension": ".jl",
   "mimetype": "application/julia",
   "name": "julia",
   "version": "1.1.0"
  }
 },
 "nbformat": 4,
 "nbformat_minor": 2
}
