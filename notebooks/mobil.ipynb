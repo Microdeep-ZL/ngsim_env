{
 "cells": [
  {
   "cell_type": "markdown",
   "metadata": {},
   "source": [
    "#### Crucial note (working of this code is dependant)\n",
    "- The working of this notebook is conditioned on the `uncertain_IDM` model in `AutomotiveDrivingModels\n",
    "which implements the sensor noise to corrupt headway measurement\n",
    "\n",
    "#### Changelog\n",
    "- 30 Sep 2019\n",
    "    - Creation\n",
    "    - Goal is to do MOBIL experimentation to demonstrate lane changes\n",
    "    - Idea flow\n",
    "        - Look at some videos to select a situation with enough spacing to make lane change\n",
    "        - Select a vehicle id that is on a slow lane\n",
    "        - Make it want to make a lange change by some selection of parameters\n",
    "- 2 Oct\n",
    "    - Defining in notebook copies of `MOBIL` and `Tim2DDriver` for debugging purposed\n",
    "    - Above did not work because methods being redefined not working (or something like that)\n",
    "    - Found that Maxime had a commit on June 18 fixing MOBIL.jl. Did a git pull \n",
    "    on `.julia/packages/dev/AutomotiveDrivingModels`\n",
    "    - Seems to change lane\n",
    "- 3 Oct\n",
    "    - Influence of stochastictity on the `ProportionalLaneTracker`\n",
    "    - trace the x and y positions of car\n",
    "- 10 Oct\n",
    "    - Function to get the lane id\n",
    "- 16 Oct\n",
    "    - Back to working in this notebook now that upstream dependencies in `AutomotiveDrivingModels.jl`\n",
    "    have solidified\n",
    "    - `uncertain_IDM.jl` is a new driver model that has been defined in `AutomotiveDrivingModels/src/behaviors`\n",
    "    - Global things defined at top of notebook to step away from dictionary based particles\n",
    "- 17 Oct\n",
    "    - Uniform sampling to create initial particle matrix\n",
    "- 18 Oct\n",
    "    - Likelihood computation works\n",
    "    - Renamed `compute_particle_likelihoods` to `weight_and_resample` as combined it with previous\n",
    "    function called `update_p_one_step`\n",
    "- 22 Oct\n",
    "    - `multistep_update` works without error\n",
    "    - rmse computation functions written to compare ground truth versus imitation trajectory\n",
    "    - Script written for end to end: filtering on ground truth, imitation traj generation, rmse compute,\n",
    "    and overlay video\n",
    "- 28 Oct\n",
    "    - Made particle progress plot function to plot along with error bars optionally\n",
    "    - Script to generate multiple imitation trajs using mean of filtered particle matrix\n",
    "- 29 Oct\n",
    "    - Copied all functions into `utils.jl` to enable use of\n",
    "    `debug_lane_change.jl` to explain variability in second lane change\n",
    "    - Changed `gen_imitation_traj` other vehicle i.e id 2 and 3 to be driven by IDM (v_des = 15)\n",
    "    to match the ground truth generation process (was earlier being done as vdes = 50.) to match\n",
    "    the hallucination process\n",
    "    - DEFAULT_PARAMS stores the default values of the parameters used to generate the ground truth trajectory\n",
    "- 30 Oct\n",
    "    - Noticed that ground truth vehicle 3 was being driven by default IDM (and not v_des = 15) so made\n",
    "    the same thing true for generate imitation i.e. veh 3 driven by default instead of vdes 15 IDM\n",
    "- 31 Oct\n",
    "    - Changed `gen_imitation_traj` to take a timestep kwarg after discussion with Alex about Carla\n",
    "    - Also changed it to take `duration` as a kwarg instead of `nsteps` and do the requisite nsteps calc itself\n",
    "    - Script to convert scenes into data that can be written to csv to give to Alex\n",
    "- 4 Nov\n",
    "    - Cleaned up this notebook into sections\n",
    "    - Copied this notebook to started a new notebook called `mobil_ngsim` to work with ngsim data\n",
    "- 14 Nov\n",
    "    - Pairwise progress of particle filtering update and making associated gif\n",
    "        - Had to do some fixing to make Reel work with PGFPlots\n",
    "    \n",
    "#### Basic idea of what this notebook does\n",
    "- Generate initial sample set of particles given some limits on the possible range of each of the parameters\n",
    "- Use a trajectory of driving behavior as the ground truth and run filtering using sample set of particles\n",
    "- Get a set of filtered particles. Take the mean of these particles and use it to generate an imitation trajectory\n",
    "- Evaluate rmse of that imitation trajectory with respect to the ground truth demonstration trajectory"
   ]
  },
  {
   "cell_type": "code",
   "execution_count": 1,
   "metadata": {
    "code_folding": [
     0
    ],
    "collapsed": true
   },
   "outputs": [
    {
     "name": "stderr",
     "output_type": "stream",
     "text": [
      "┌ Info: Recompiling stale cache file /home/raunak/.julia/compiled/v1.1/NGSIM/unWOy.ji for NGSIM [195157bc-cedd-5875-9ea7-7cfb75f30b3c]\n",
      "└ @ Base loading.jl:1184\n",
      "┌ Warning: `lgamma(x::Real)` is deprecated, use `(logabsgamma(x))[1]` instead.\n",
      "│   caller = lstirling_asym(::BigFloat) at misc.jl:56\n",
      "└ @ StatsFuns ~/.julia/packages/StatsFuns/2QE7p/src/misc.jl:56\n",
      "┌ Info: Recompiling stale cache file /home/raunak/.julia/compiled/v1.1/AutoViz/w0rHu.ji for AutoViz [82aa6e0c-a491-5edf-8d4b-c16b98e4ea17]\n",
      "└ @ Base loading.jl:1184\n",
      "┌ Info: Recompiling stale cache file /home/raunak/.julia/compiled/v1.1/PGFPlots/XxINN.ji for PGFPlots [3b7a836e-365b-5785-a47d-02c71176b4aa]\n",
      "└ @ Base loading.jl:1184\n",
      "┌ Info: Recompiling stale cache file /home/raunak/.julia/compiled/v1.1/JLD/l8ijy.ji for JLD [4138dd39-2aa7-5051-a626-17a0bb65d9c8]\n",
      "└ @ Base loading.jl:1184\n"
     ]
    }
   ],
   "source": [
    "# using packages\n",
    "using NGSIM\n",
    "using AutomotiveDrivingModels\n",
    "using AutoViz\n",
    "using Reel\n",
    "using Distributions\n",
    "using Random\n",
    "using PGFPlots\n",
    "using LinearAlgebra # To make the MvNormal covariance work maybe\n",
    "using JLD\n",
    "using StatsBase # For weighting particles according to likelihoods and then resampling\n",
    "using DelimitedFiles # For writing to csv\n",
    "using Combinatorics # For pairwise parameter selection to make progress plot videos"
   ]
  },
  {
   "cell_type": "code",
   "execution_count": 2,
   "metadata": {
    "code_folding": [
     0
    ]
   },
   "outputs": [],
   "source": [
    "# overlays: IDOverlay. my_overlay\n",
    "\"\"\"\n",
    "    IDOverlay\n",
    "Display the ID on top of each entity in a scene.\n",
    "# Fields\n",
    "- `color::Colorant`\n",
    "- `font_size::Int64`\n",
    "\"\"\"\n",
    "mutable struct IDOverlay <: SceneOverlay\n",
    "    color::Colorant\n",
    "    font_size::Int\n",
    "end\n",
    "\n",
    "function AutoViz.render!(rendermodel::RenderModel, overlay::IDOverlay, scene::Scene, \n",
    "                            env::E) where E\n",
    "    font_size = overlay.font_size\n",
    "    for veh in scene\n",
    "        add_instruction!(rendermodel, render_text, (\"$(veh.id)\", veh.state.posG.x, \n",
    "                        veh.state.posG.y, font_size, overlay.color), incameraframe=true)\n",
    "    end\n",
    "    return rendermodel\n",
    "end\n",
    "\n",
    "\"\"\"\n",
    "    my_overlay\n",
    "Overlaying hallucinated trajectory on the ground truth\n",
    "# Fields\n",
    "- `color::Colorant`\n",
    "- `scene::Scene`\n",
    "\"\"\"\n",
    "struct my_overlay <: SceneOverlay\n",
    "    scene::Scene\n",
    "    color # Needs to be of form colorant\"Colorname\"\n",
    "end\n",
    "\n",
    "function AutoViz.render!(rendermodel::RenderModel,overlay::my_overlay, \n",
    "        scene::Scene, roadway::Roadway)\n",
    "    AutoViz.render!(rendermodel,overlay.scene,car_color = overlay.color)\n",
    "    return rendermodel\n",
    "end"
   ]
  },
  {
   "cell_type": "code",
   "execution_count": 3,
   "metadata": {
    "code_folding": [
     0
    ]
   },
   "outputs": [
    {
     "data": {
      "text/plain": [
       "get_lane_change_prob"
      ]
     },
     "execution_count": 3,
     "metadata": {},
     "output_type": "execute_result"
    }
   ],
   "source": [
    "# functions: get_frenet_s, get_lane_id, lane change probability\n",
    "\"\"\"\n",
    "    function get_frenet_s(scene;car_id=-1)\n",
    "\n",
    "# Examples\n",
    "```julia\n",
    "true_next_pos = get_frenet_s(true_next_scene,car_id=1)\n",
    "```\n",
    "\"\"\"\n",
    "function get_frenet_s(scene;car_id=-1)\n",
    "    if car_id==-1 print(\"get_frenet_s says: Give valid car id\") end\n",
    "    veh = scene[findfirst(car_id,scene)]\n",
    "    return veh.state.posF.s\n",
    "end\n",
    "\n",
    "\"\"\"\n",
    "    function get_lane_id(scene,car_id)\n",
    "# Examples\n",
    "```julia\n",
    "get_lane_id(scene,1)\n",
    "```\n",
    "\"\"\"\n",
    "function get_lane_id(scene,car_id)\n",
    "    veh = scene[findfirst(car_id,scene)]\n",
    "    return veh.state.posF.roadind.tag.lane\n",
    "end\n",
    "\n",
    "\"\"\"\n",
    "    function get_lane_change_prob(start_scene,particle;car_id=-1,num_samplings=10)\n",
    "- Probability of lane changing start from `start_scene`\n",
    "- hallucinating using `particle` for `car_id` using `num_samplings` hallucinations\n",
    "\n",
    "# Examples\n",
    "```julia\n",
    "lp = get_lane_change_prob(scene,particle,car_id = 1)\n",
    "```\n",
    "\"\"\"\n",
    "function get_lane_change_prob(start_scene,particle;car_id=-1,num_samplings=10)\n",
    "    if car_id==-1 @show \"get_lane_change_prob says: Please give valid car_id\" end\n",
    "    start_lane = get_lane_id(start_scene,car_id)\n",
    "    changed_count = 0; unchanged_count = 0\n",
    "    for i in 1:num_samplings\n",
    "        hpos,hlane = hallucinate_a_step(start_scene,particle,car_id=car_id)\n",
    "        if hlane == start_lane\n",
    "            unchanged_count += 1\n",
    "\telse\n",
    "\t    changed_count += 1\n",
    "\tend\n",
    "    end\n",
    "    return (changed_count+1)/(num_samplings+2)\n",
    "end"
   ]
  },
  {
   "cell_type": "code",
   "execution_count": 4,
   "metadata": {
    "code_folding": [
     0
    ]
   },
   "outputs": [
    {
     "data": {
      "text/plain": [
       "init_place_cars"
      ]
     },
     "execution_count": 4,
     "metadata": {},
     "output_type": "execute_result"
    }
   ],
   "source": [
    "# function: generate roadway and place cars\n",
    "\"\"\"\n",
    "    function init_place_cars(lane_place_array;road_length = 1000.0)\n",
    "- Place cars on a straight roadway of `road_length` according to elems in `lane_place_array`\n",
    "\n",
    "# Examples\n",
    "```julia\n",
    "pos_vel_array_1 = [(200.,30.),(215.,0.),(220.,0.)]\n",
    "pos_vel_array_2 = [(200.,0.),(215.,0.),(220.,20.)]\n",
    "pos_vel_array_3 = [(215.,0.),(225.,10.),(230.,0.)]\n",
    "lane_place_array = [pos_vel_array_1,pos_vel_array_2,pos_vel_array_3]\n",
    "scene,roadway = init_place_cars(lane_place_array)\n",
    "```\n",
    "\"\"\"\n",
    "function init_place_cars(lane_place_array;road_length = 1000.0)\n",
    "    num_lanes = length(lane_place_array)\n",
    "    roadway = gen_straight_roadway(num_lanes,road_length)\n",
    "    scene = Scene()\n",
    "\n",
    "    id = 1\n",
    "    for i in 1:num_lanes\n",
    "        for j in 1:length(lane_place_array[i])\n",
    "            veh_state = VehicleState(Frenet(roadway[LaneTag(1,i)],\n",
    "                    lane_place_array[i][j][1]),roadway,\n",
    "                lane_place_array[i][j][2])\n",
    "            veh = Vehicle(veh_state,VehicleDef(),id)\n",
    "            push!(scene,veh)\n",
    "            id+=1\n",
    "        end\n",
    "    end\n",
    "    return scene,roadway\n",
    "end"
   ]
  },
  {
   "cell_type": "code",
   "execution_count": 5,
   "metadata": {
    "code_folding": [
     0,
     10,
     36,
     65
    ]
   },
   "outputs": [
    {
     "data": {
      "text/plain": [
       "scenelist2video_quantized"
      ]
     },
     "execution_count": 5,
     "metadata": {},
     "output_type": "execute_result"
    }
   ],
   "source": [
    "# function: videos\n",
    "\"\"\"\n",
    "    function scenelist2video(scene_list;filename = \"media/mobil/scene_to_video.mp4\")\n",
    "- Make video from a list of scenes\n",
    "\n",
    "# Examples\n",
    "```julia\n",
    "scenelist2video(scene_list,filename=\"media/mobil/true_traj.mp4\")\n",
    "```\n",
    "\"\"\"\n",
    "function scenelist2video(scene_list;filename = \"media/mobil/scene_to_video.mp4\")\n",
    "    frames = Frames(MIME(\"image/png\"),fps = 10)\n",
    "    \n",
    "    # Loop over list of scenes and convert to video\n",
    "    for i in 1:length(scene_list)\n",
    "        scene_visual = render(scene_list[i],ROADWAY,\n",
    "        [IDOverlay(colorant\"white\",12)],\n",
    "#         cam=FitToContentCamera(0.),\n",
    "        cam = CarFollowCamera(1)\n",
    "        )\n",
    "        push!(frames,scene_visual)\n",
    "    end\n",
    "    print(\"Making video filename: $(filename)\\n\")\n",
    "    write(filename,frames)\n",
    "    return nothing\n",
    "end\n",
    "\n",
    "\"\"\"\n",
    "    function scenelist2video\n",
    "- Make video from two different scene lists overlaying `scene_list_2` in blue on top of `scene_list_1` in pink\n",
    "\n",
    "# Examples\n",
    "```julia\n",
    "multiple_scenelist2video(true_scene_list,imit_scene_list,filename=\"media/mobil/true_vs_imitation.mp4\")\n",
    "```\n",
    "\"\"\"\n",
    "function multiple_scenelist2video(scene_list_1,scene_list_2;\n",
    "    filename = \"media/mobil/multiple_scene_to_video.mp4\")\n",
    "    frames = Frames(MIME(\"image/png\"),fps = 10)\n",
    "    @assert length(scene_list_1) == length(scene_list_2)\n",
    "    # Loop over list of scenes and convert to video\n",
    "    for i in 1:length(scene_list_1)\n",
    "        other_overlay = my_overlay(scene_list_2[i],colorant\"blue\")\n",
    "        scene_visual = render(scene_list_1[i],ROADWAY,\n",
    "        [IDOverlay(colorant\"white\",12),other_overlay,\n",
    "                TextOverlay(text=[\"Imitation in blue\"],font_size=14)],\n",
    "#         cam=FitToContentCamera(0.),\n",
    "        cam = CarFollowCamera(1)\n",
    "        )\n",
    "        push!(frames,scene_visual)\n",
    "    end\n",
    "    print(\"Making video filename: $(filename)\\n\")\n",
    "    write(filename,frames)\n",
    "    return nothing\n",
    "end\n",
    "\n",
    "\"\"\"\n",
    "- Make a video only taking every 5 timesteps into account from `scene_list`\n",
    "\n",
    "# Examples\n",
    "```julia\n",
    "start_scene = deepcopy(scene_list[10])\n",
    "scene_list_quantization = get_hallucination_scenes(start_scene; nsteps=90,models=models)\n",
    "```\n",
    "\"\"\"\n",
    "function scenelist2video_quantized(scene_list;\n",
    "    filename = \"media/mobil/scene_to_video.mp4\")\n",
    "    frames = Frames(MIME(\"image/png\"),fps = 5)\n",
    "    \n",
    "    # Loop over list of scenes and convert to video\n",
    "    for i in 1:length(scene_list)\n",
    "\tif i%5 == 0\n",
    "\t\tscene_visual = render(scene_list[i],ROADWAY,\n",
    "\t\t[IDOverlay(colorant\"white\",12),TextOverlay(text=[\"frame=$(i)\"],font_size=12)],\n",
    "\t#         cam=FitToContentCamera(0.),\n",
    "\t\tcam = CarFollowCamera(1)\n",
    "\t\t)\n",
    "\t\tpush!(frames,scene_visual)\n",
    "\tend\n",
    "    end\n",
    "    print(\"Making video filename: $(filename)\\n\")\n",
    "    write(filename,frames)\n",
    "    return nothing\n",
    "end"
   ]
  },
  {
   "cell_type": "code",
   "execution_count": 6,
   "metadata": {
    "code_folding": [
     0,
     10,
     29
    ]
   },
   "outputs": [
    {
     "data": {
      "text/plain": [
       "plot_lanes"
      ]
     },
     "execution_count": 6,
     "metadata": {},
     "output_type": "execute_result"
    }
   ],
   "source": [
    "# functions [plots]:ytrace,lanes,overlay ytraces\n",
    "\"\"\"\n",
    "    function scenelist2ytrace(scene_list;car_id=-1)\n",
    "- Make a y position trace from a list of scenes\n",
    "\n",
    "# Examples\n",
    "```julia\n",
    "scenelist2ytrace(scene_list,car_id=1)\n",
    "```\n",
    "\"\"\"\n",
    "function scenelist2ytrace(scene_list;car_id=-1)\n",
    "    if car_id == -1 print(\"Please provide a valid car_id\\n\") end\n",
    "\n",
    "    p = PGFPlots.Plots.Scatter(collect(1:length(scene_list)),\n",
    "        [scene[findfirst(car_id,scene)].state.posG.y for scene in scene_list],legendentry=\"y trace\")\n",
    "    return p\n",
    "end\n",
    "\n",
    "\"\"\"\n",
    "    function overlay_jld_scenelists(num_exps)\n",
    "- To assess impact of headway sensor noise\n",
    "- Capture scene_lists from stored .jld files of `num_exps` experiments\n",
    "\n",
    "# Examples\n",
    "``` julia\n",
    "# Suppose we have 1.jld, 2.jld,...,8.jld\n",
    "overlay_jld_scenelists(8)\n",
    "```\n",
    "\"\"\"\n",
    "function overlay_jld_scenelists(num_exps)\n",
    "    horizon = 100\n",
    "    list_of_plots = PGFPlots.Plot[]\n",
    "    for i in 1:num_exps\n",
    "        scene_list = JLD.load(\"media/mobil/$(i).jld\",\"scene_list\")\n",
    "        p = PGFPlots.Plots.Scatter(collect(1:horizon),\n",
    "            [scene[1].state.posG.y for scene in scene_list[1:horizon]],\n",
    "            legendentry = \"scenario $(i)\")\n",
    "        push!(list_of_plots,p)\n",
    "    end\n",
    "    pa = PGFPlots.Axis(list_of_plots,xlabel=\"timestep\",ylabel=\"y pos\",\n",
    "        legendPos=\"outer north east\")\n",
    "    display(pa)\n",
    "    PGFPlots.save(\"media/mobil/sensor_noise_impact.pdf\",pa)\n",
    "    return nothing\n",
    "end\n",
    "\n",
    "\"\"\"\n",
    "    function plot_lanes(scene_list_1)\n",
    "- Goal is to plot lanes on a y trace of vehicles using `scene_list_1`\n",
    "\n",
    "# Examples\n",
    "```julia\n",
    "plot_lanes(scene_list)\n",
    "```\n",
    "\"\"\"\n",
    "function plot_lanes(scene_list_1)\n",
    "    laneboundary0 = PGFPlots.Plots.Linear(x[:,1],fill(-1.5,length(scene_list_1)),\n",
    "        style=\"black,ultra thick\")\n",
    "    laneboundary1 = PGFPlots.Plots.Linear(x[:,1],fill(1.5,length(scene_list_1)),style=\"black,ultra thick\")\n",
    "    laneboundary2 = PGFPlots.Plots.Linear(x[:,1],fill(4.5,length(scene_list_1)),style=\"black,ultra thick\")\n",
    "    return [laneboundary0,laneboundary1,laneboundary2]\n",
    "end"
   ]
  },
  {
   "cell_type": "code",
   "execution_count": 7,
   "metadata": {
    "code_folding": [
     0
    ]
   },
   "outputs": [
    {
     "data": {
      "text/plain": [
       "get_hallucination_scenes"
      ]
     },
     "execution_count": 7,
     "metadata": {},
     "output_type": "execute_result"
    }
   ],
   "source": [
    "# function: hallucinate scene list\n",
    "\"\"\"\n",
    "    function get_hallucination_scenes\n",
    "- Hallucinate starting from `start_step` for `nsteps` using `models` and return a list of scenes\n",
    "- Used by `plot_carwise_pos_vel` to assess position and velocity traces against ground truth\n",
    "\n",
    "# Returns\n",
    "- `halluc_scenes_list`: List containing the scenes starting with the ground truth scene at `start_step`\n",
    "\n",
    "# Examples\n",
    "```julia\n",
    "true_scene_list = get_hallucination_scenes(scene_halluc,duration=10,models=models);\n",
    "```\n",
    "\"\"\"\n",
    "function get_hallucination_scenes(start_scene;models,start_step=1,duration=10,\n",
    "        id_list=[],verbosity = false,timestep=TIMESTEP)\n",
    "        # Setting up\n",
    "    scene_halluc = start_scene\n",
    "    halluc_scenes_list = []\n",
    "    push!(halluc_scenes_list,deepcopy(start_scene))\n",
    "#     scene_halluc = get_scene(start_step,traj) # Frame to start hallucination from\n",
    "#     push!(halluc_scenes_list,deepcopy(scene_halluc))\n",
    "    \n",
    "    nsteps = duration/timestep\n",
    "    for (i,t) in enumerate(start_step:start_step+nsteps-1)\n",
    "        \n",
    "#         if !isempty(id_list) keep_vehicle_subset!(scene_halluc,id_list) end\n",
    "        \n",
    "        actions = Array{Any}(undef,length(scene_halluc))\n",
    "\n",
    "            # Propagation of scene forward\n",
    "        get_actions!(actions,scene_halluc,ROADWAY,models)\n",
    "\n",
    "        tick!(scene_halluc,ROADWAY,actions,timestep)\n",
    "        \n",
    "        push!(halluc_scenes_list,deepcopy(scene_halluc))\n",
    "    end \n",
    "    return halluc_scenes_list\n",
    "end"
   ]
  },
  {
   "cell_type": "code",
   "execution_count": 8,
   "metadata": {
    "code_folding": [
     0
    ]
   },
   "outputs": [
    {
     "data": {
      "text/plain": [
       "initial_pmat"
      ]
     },
     "execution_count": 8,
     "metadata": {},
     "output_type": "execute_result"
    }
   ],
   "source": [
    "# function: Generate uniform sampling to start the initial particle matrix\n",
    "\"\"\"\n",
    "    function initial_pmat(;limits,num_particles,seed)\n",
    "- Generate initial particle matrix with `num_particles` particles with every col being a diff particle\n",
    "- Range of values that parameters can take is specified in `limits`. Should be num_params rows x 2 cols\n",
    "\n",
    "# Examples\n",
    "```julia\n",
    "limits = [10. 40.;0.1 10.;0.5 5.;1. 10.;0. 1.;-1. 1.;-20. 20.]\n",
    "initial_pmat(limits=limits,num_particles=10,seed=4)\n",
    "```\n",
    "\"\"\"\n",
    "function initial_pmat(;limits,num_particles,seed)\n",
    "    Random.seed!(seed)\n",
    "    num_params = size(limits,1)\n",
    "    p_mat = fill(0.,num_params,num_particles)\n",
    "\n",
    "    for i in 1:num_params\n",
    "        p_mat[i,:] = rand(Uniform(limits[i,1],limits[i,2]),1,num_particles)\n",
    "    end\n",
    "    return p_mat\n",
    "end"
   ]
  },
  {
   "cell_type": "code",
   "execution_count": 9,
   "metadata": {
    "code_folding": [
     0
    ]
   },
   "outputs": [
    {
     "data": {
      "text/plain": [
       "hallucinate_a_step"
      ]
     },
     "execution_count": 9,
     "metadata": {},
     "output_type": "execute_result"
    }
   ],
   "source": [
    "# function: hallucinate_a_step\n",
    "\"\"\"\n",
    "    function hallucinate_a_step(scene_input,particle;car_id=-1)\n",
    "- Hallucinate one step starting from `scene_input` using parameters given by `particle`\n",
    "\n",
    "# Examples\n",
    "```julia\n",
    "limits = [10. 40.;0.1 10.;0.5 5.;1. 10.;0. 1.;-1. 1.;0. 20.]\n",
    "init_pmat = initial_pmat(limits=limits,num_particles=10,seed=4)\n",
    "hallucinate_a_step(SCENE,init_pmat[:,9],car_id=1)\n",
    "```\n",
    "\"\"\"\n",
    "function hallucinate_a_step(scene_input,particle;car_id=-1)\n",
    "    if car_id==-1 @show \"hallucinate_a_step says: Please give a valid car_id\" end\n",
    "\n",
    "    scene = deepcopy(scene_input)\n",
    "    models = Dict{Int64,DriverModel}()\n",
    "\n",
    "    for veh in scene\n",
    "        if veh.id == car_id\n",
    "            models[veh.id] = Tim2DDriver(TIMESTEP,\n",
    "                                    mlane=MOBIL(TIMESTEP,politeness=particle[POLITENESS],\n",
    "                                                advantage_threshold=particle[ADV_TH],\n",
    "                                                mlon=uncertain_IDM(sigma_sensor=particle[SENSOR_SIGMA])\n",
    "                                    ),\n",
    "                                    mlon = IntelligentDriverModel(v_des=particle[V_DES],σ=particle[SIGMA_IDM],\n",
    "                                            T=particle[T_HEADWAY],s_min=particle[S_MIN]\n",
    "                                    )\n",
    "                            )\n",
    "        else\n",
    "            models[veh.id] = IntelligentDriverModel(v_des=50.)\n",
    "        end\n",
    "    end\n",
    "\n",
    "    actions = Array{Any}(undef,length(scene))\n",
    "    get_actions!(actions,scene,ROADWAY,models)\n",
    "    tick!(scene,ROADWAY,actions,TIMESTEP)\n",
    "\n",
    "    halluc_state = scene.entities[findfirst(car_id,scene)].state\n",
    "    halluc_pos = halluc_state.posF.s\n",
    "    halluc_lane = get_lane_id(scene,car_id)\n",
    "\n",
    "    return halluc_pos,halluc_lane\n",
    "end"
   ]
  },
  {
   "cell_type": "code",
   "execution_count": 10,
   "metadata": {
    "code_folding": [
     0
    ]
   },
   "outputs": [
    {
     "data": {
      "text/plain": [
       "weight_and_resample"
      ]
     },
     "execution_count": 10,
     "metadata": {},
     "output_type": "execute_result"
    }
   ],
   "source": [
    "# function: weight and resample\n",
    "\"\"\"\n",
    "    function weight_and_resample(start_scene,true_nextpos,true_nextlane,p_mat;car_id=-1)\n",
    "- Hallucination from `start_scene` \n",
    "- Compare against ground truth at `true_nextpos`, `true_nextlane`\n",
    "- Assign weights to particles\n",
    "- Perform resampling and return a new matrix of particles and associated weight vector\n",
    "\n",
    "# Examples\n",
    "```julia\n",
    "# Test for one step on initial particle matrix\n",
    "limits = [10. 40.;0.1 10.;0.5 5.;1. 10.;0. 1.;-1. 1.;0. 20.]\n",
    "init_pmat = initial_pmat(limits=limits,num_particles=10,seed=4)\n",
    "id = 1\n",
    "true_next_scene = deepcopy(true_scene_list[2])\n",
    "true_nextpos = get_frenet_s(true_next_scene;car_id=id)\n",
    "true_nextlane = get_lane_id(true_next_scene,id)\n",
    "weight_and_resample(SCENE,true_nextpos,true_nextlane,init_pmat,car_id=id)\n",
    "```\n",
    "\"\"\"\n",
    "function weight_and_resample(start_scene,true_nextpos,true_nextlane,p_mat;car_id=-1,verbosity=false)\n",
    "    if car_id==-1 @show \"compute_particle_likelihood says: Please give valid car_id\" end\n",
    "    num_p = size(p_mat,2)\n",
    "    lkhd_vec = Array{Float64}(undef,num_p)\n",
    "    for i in 1:num_p\n",
    "        if verbosity print(\"w_and_resample says: particle number = $i \\n\") end\n",
    "        particle = p_mat[:,i]\n",
    "        \n",
    "        std_dev_acc = p_mat[SIGMA_IDM]\n",
    "        if std_dev_acc <= 0 std_dev_acc = 0.1 end\n",
    "        std_dev_pos = TIMESTEP*TIMESTEP*std_dev_acc\n",
    "        hpos,hlane = hallucinate_a_step(start_scene,particle,car_id=car_id)\n",
    "        \n",
    "        start_lane = get_lane_id(start_scene,car_id)\n",
    "        lane_has_changed = false\n",
    "\n",
    "        if start_lane != true_nextlane\n",
    "            lane_has_changed = true\n",
    "        end\n",
    "\n",
    "        p_lanechange = get_lane_change_prob(start_scene,particle,car_id=car_id)\n",
    "\n",
    "        prob_lane = 0.5 # Initialize to random\n",
    "        if lane_has_changed\n",
    "            prob_lane = p_lanechange\n",
    "        else\n",
    "            prob_lane = 1-p_lanechange\n",
    "        end\n",
    "        \n",
    "        prob_pos = pdf(Normal(hpos,std_dev_pos),true_nextpos)\n",
    "        if verbosity\n",
    "            print(\"weight and resample says: true_nextpos = $(true_nextpos) and hpos=$(hpos) and hlane=$(hlane)\\n\")\n",
    "            print(\"weight and resample says: prob_pos = $(prob_pos) and prob_lane=$(prob_lane)\\n\")\n",
    "        end\n",
    "        lkhd_vec[i] = prob_lane*prob_pos\n",
    "    end\n",
    "    p_weight_vec = StatsBase.weights(lkhd_vec./sum(lkhd_vec)) # Convert to weights form to use julia sampling\n",
    "    \n",
    "    idx = sample(1:num_p,p_weight_vec,num_p)\n",
    "    if verbosity print(\"weight and resample says: ids are $(idx)\\n\") end\n",
    "    new_p_mat = p_mat[:,idx] #Careful that idx is (size,1) and not (size,2)\n",
    "    \n",
    "    return new_p_mat, p_weight_vec\n",
    "end"
   ]
  },
  {
   "cell_type": "code",
   "execution_count": 11,
   "metadata": {
    "code_folding": [
     0
    ]
   },
   "outputs": [
    {
     "data": {
      "text/plain": [
       "multistep_update"
      ]
     },
     "execution_count": 11,
     "metadata": {},
     "output_type": "execute_result"
    }
   ],
   "source": [
    "# function: multistep_update\n",
    "\"\"\"\n",
    "- Run filtering over a trajectory by starting from a true scene\n",
    "- Repeatedly calls `weight_and_resample` on a demonstration trajectory\n",
    "\n",
    "# Caveats\n",
    "- Hard coded usage of `true_scene_list` which is basically ground truth generated by `get_hallucination_scenes`\n",
    "- Hard coded limits on initial particle distribution generation\n",
    "\n",
    "# Returns\n",
    "- `final_p_mat`: Matrix with particles in separate columns\n",
    "- `iterwise_p_mat`: A list with the associated particle matrix at each iteration\n",
    "\n",
    "# Examples\n",
    "```julia\n",
    "final_p_mat,iterwise_p_mat = multistep_update(car_id=1,start_frame=2,last_frame=99)\n",
    "```\n",
    "\"\"\"\n",
    "function multistep_update(;car_id,start_frame,last_frame,num_p=500,seed=1,verbosity=false)\n",
    "    if verbosity print(\"car id = $(car_id)\\n\") end\n",
    "        \n",
    "        # Careful selectin of particles around initial velocity of data\n",
    "        # Commented out for now as we are not yet at the stage of using TRAJ\n",
    "    #startscene = get_scene(start_frame,TRAJ)\n",
    "    #startpos,startvel = get_veh_info(startscene,car_id=car_id)\n",
    "    #init_p_mat = sample_init_particles(num_p,v=startvel)\n",
    "\n",
    "    limits = [10. 40.;0.1 10.;0.5 5.;1. 10.;0. 1.;-1. 1.;0. 20.]\n",
    "    p_mat = initial_pmat(limits=limits,num_particles=num_p,seed=seed)\n",
    "    iterwise_p_set = [] # Stores particle set at every iteration\n",
    "    push!(iterwise_p_set,p_mat)\n",
    "    \n",
    "    for framenum in start_frame:last_frame\n",
    "            # Get the truth from TRAJ\n",
    "        #scene = get_scene(framenum+1,TRAJ)\n",
    "        #trupos,truvel = get_veh_info(scene,car_id=car_id,traj=traj)\n",
    "        \n",
    "            # Get the scene to start hallucinating from\n",
    "        #scene = get_scene(framenum,TRAJ)\n",
    "        scene = deepcopy(true_scene_list[framenum])\n",
    "        true_next_scene = deepcopy(true_scene_list[framenum+1])\n",
    "        true_nextpos = get_frenet_s(true_next_scene;car_id=car_id)\n",
    "        true_nextlane = get_lane_id(true_next_scene,car_id)\n",
    "        # print(\"multistep update says: true_nextpos = $(true_nextpos), true_nextlane=$(true_nextlane)\\n\")\n",
    "        p_mat_new, weight_vec = weight_and_resample(scene,true_nextpos,true_nextlane,p_mat,car_id=car_id)\n",
    "\n",
    "            # Addition of dithering noise\n",
    "        #params = [:v_des,:σ]\n",
    "        #p_mat = addnoise(p_mat_new, weight_vec)\n",
    "        \n",
    "        p_mat = p_mat_new # No noise addition for now\n",
    "        \n",
    "            # Storage into list that contains particle matrix at every step\n",
    "        push!(iterwise_p_set,p_mat)\n",
    "    end\n",
    "\n",
    "        # Find the mean particle after filtering is over\n",
    "        # Defined in `admin.jl`\n",
    "    mean_particle = mean(p_mat,dims=2)\n",
    "    \n",
    "    return mean_particle,iterwise_p_set\n",
    "end"
   ]
  },
  {
   "cell_type": "code",
   "execution_count": 12,
   "metadata": {
    "code_folding": [
     0
    ]
   },
   "outputs": [
    {
     "data": {
      "text/plain": [
       "gen_imitation_traj"
      ]
     },
     "execution_count": 12,
     "metadata": {},
     "output_type": "execute_result"
    }
   ],
   "source": [
    "# function: gen_imitation_traj\n",
    "\"\"\"\n",
    "    function gen_imitation_traj(p_mat)\n",
    "- Generate an imitation trajectory using the mean particle obtained from `p_mat`\n",
    "- `p_mat` is the resulting particle matrix after running `multistep_update`\n",
    "i.e. obtained after running particle filtering over a trajectory of length `duration`\n",
    "\n",
    "# Examples\n",
    "```julia\n",
    "start_scene = deepcopy(SCENE)\n",
    "imit_scene_list = gen_imitation_traj(final_p_mat,start_scene,car_id=1,timestep=0.02)\n",
    "```\n",
    "\"\"\"\n",
    "function gen_imitation_traj(p_mat,start_scene;start_step=1,duration=10,id_list=[],car_id=-1,timestep=TIMESTEP)\n",
    "    particle = mean(p_mat,dims=2)\n",
    "    models = Dict{Int64,DriverModel}()\n",
    "\n",
    "    for veh in scene\n",
    "        if veh.id == car_id\n",
    "            models[veh.id] = Tim2DDriver(timestep,\n",
    "                                    mlane=MOBIL(timestep,politeness=particle[POLITENESS],\n",
    "                                                advantage_threshold=particle[ADV_TH],\n",
    "                                                mlon=uncertain_IDM(sigma_sensor=particle[SENSOR_SIGMA])\n",
    "                                    ),\n",
    "                                    mlon = IntelligentDriverModel(v_des=particle[V_DES],σ=particle[SIGMA_IDM],\n",
    "                                            T=particle[T_HEADWAY],s_min=particle[S_MIN]\n",
    "                                    )\n",
    "                            )\n",
    "        else\n",
    "            models[veh.id] = IntelligentDriverModel(v_des=15.)\n",
    "        end\n",
    "    end\n",
    "    models[3] = IntelligentDriverModel()\n",
    "    \n",
    "            # Setting up\n",
    "    scene_halluc = start_scene\n",
    "    halluc_scenes_list = []\n",
    "    push!(halluc_scenes_list,deepcopy(start_scene))\n",
    "#     scene_halluc = get_scene(start_step,traj) # Frame to start hallucination from\n",
    "#     push!(halluc_scenes_list,deepcopy(scene_halluc))\n",
    "    nsteps = Int64(floor(duration/timestep))\n",
    "    for (i,t) in enumerate(start_step:start_step+nsteps-1)\n",
    "        \n",
    "#         if !isempty(id_list) keep_vehicle_subset!(scene_halluc,id_list) end\n",
    "        \n",
    "        actions = Array{Any}(undef,length(scene_halluc))\n",
    "\n",
    "            # Propagation of scene forward\n",
    "        get_actions!(actions,scene_halluc,ROADWAY,models)\n",
    "\n",
    "        tick!(scene_halluc,ROADWAY,actions,timestep)\n",
    "        \n",
    "        push!(halluc_scenes_list,deepcopy(scene_halluc))\n",
    "    end \n",
    "    return halluc_scenes_list\n",
    "end"
   ]
  },
  {
   "cell_type": "code",
   "execution_count": 13,
   "metadata": {
    "code_folding": [
     0
    ]
   },
   "outputs": [
    {
     "data": {
      "text/plain": [
       "compute_rmse"
      ]
     },
     "execution_count": 13,
     "metadata": {},
     "output_type": "execute_result"
    }
   ],
   "source": [
    "# function: compute rmse of generated trajectory vs true trajectory\n",
    "\"\"\"\n",
    "    function compute_rmse(true_scene_list,halluc_scene_list;id_list)\n",
    "- Compute rmse position and velocity between `halluc_scene_list` and `true_scene_list`\n",
    "- `true_scene_list` is the ground truth demonstration trajectory\n",
    "- `imit_scene_list` is generated by running vehicles using parameters that we want for the driver model\n",
    "\n",
    "# Returns\n",
    "- `rmse_pos::Dict{Int64,Vector{Float64}}`: Key is vehid. Value is array. Each elem is timewise rmse pos value for that veh_id\n",
    "- `rmse_vel::Dict{Int64,Vector{Float64}}`: Key is vehid. Value is array. Each elem is timewise rmse vel value for that veh_id\n",
    "\n",
    "# Examples\n",
    "```julia\n",
    "rmse_pos_dict,rmse_vel_dict = compute_rmse(true_scene_list,imit_scene_list,id_list=[1,2,3])\n",
    "```\n",
    "\"\"\"\n",
    "function compute_rmse(true_scene_list,imit_scene_list;id_list=[])\n",
    "    @assert length(true_scene_list) == length(imit_scene_list)\n",
    "    rmse_pos = Dict{Int64,Vector{Float64}}()\n",
    "    rmse_vel = Dict{Int64,Vector{Float64}}()\n",
    "    \n",
    "    for veh_id in id_list\n",
    "        rmse_pos[veh_id] = []\n",
    "        rmse_vel[veh_id] = []\n",
    "    end\n",
    "    \n",
    "    for i in 1:length(true_scene_list)\n",
    "        scene_halluc = imit_scene_list[i]\n",
    "        demo_scene_target = true_scene_list[i]\n",
    "        \n",
    "        for veh_id in id_list\n",
    "            demo_veh = demo_scene_target[findfirst(veh_id,demo_scene_target)]\n",
    "            ego_veh = scene_halluc[findfirst(veh_id,scene_halluc)]\n",
    "\n",
    "            push!(rmse_pos[veh_id],norm(demo_veh.state.posG[1:2]-ego_veh.state.posG[1:2]))\n",
    "            push!(rmse_vel[veh_id],norm(demo_veh.state.v - ego_veh.state.v))\n",
    "        end\n",
    "    end\n",
    "    return rmse_pos,rmse_vel\n",
    "end"
   ]
  },
  {
   "cell_type": "code",
   "execution_count": 14,
   "metadata": {
    "code_folding": [
     0
    ]
   },
   "outputs": [
    {
     "data": {
      "text/plain": [
       "rmse_dict2mean"
      ]
     },
     "execution_count": 14,
     "metadata": {},
     "output_type": "execute_result"
    }
   ],
   "source": [
    "# function: Combine carwise rmse into one metric by averaging over cars\n",
    "\"\"\"\n",
    "    function rmse_dict2mean(rmse_dict)\n",
    "- Take dict of carwise rmse value and return an array with mean of rmse taken over cars\n",
    "\n",
    "# Examples\n",
    "```julia\n",
    "\n",
    "```\n",
    "\"\"\"\n",
    "function rmse_dict2mean(rmse_dict)\n",
    "    num_veh = length(collect(keys(rmse_dict))) # Find length of the vector of keys\n",
    "    num_iter = length(rmse_dict[collect(keys(rmse_dict))[1]]) # Find length of value contained in 1st key\n",
    "    rmse_array = fill(0.,num_iter,num_veh)\n",
    "\n",
    "    i = 0\n",
    "    for (k,v) in rmse_dict\n",
    "        i = i+1\n",
    "        rmse_vals = reshape(v,length(v),1)\n",
    "        rmse_array[:,i] = rmse_vals\n",
    "    end\n",
    "\n",
    "    carmean_rmse = mean(rmse_array,dims=2)\n",
    "    return carmean_rmse\n",
    "end"
   ]
  },
  {
   "cell_type": "code",
   "execution_count": 15,
   "metadata": {
    "code_folding": [
     0
    ]
   },
   "outputs": [
    {
     "data": {
      "text/plain": [
       "plot_p_prog"
      ]
     },
     "execution_count": 15,
     "metadata": {},
     "output_type": "execute_result"
    }
   ],
   "source": [
    "# function: plot particle progres optionally with errorbars\n",
    "\"\"\"\n",
    "    function plot_p_prog(iterwise_p_mat;make_error_bars = false)\n",
    "- Makes plot of mean particles from list of particle matrices over iterations of filtering\n",
    "- Makes error bars depending on the `make_error_bars` kwarg\n",
    "\n",
    "# Examples\n",
    "```julia\n",
    "final_p_mat,iterwise_p_mat = multistep_update(car_id=1,start_frame=2,last_frame=99);\n",
    "plot_p_prog(iterwise_p_mat,make_error_bars=true,display_plot=true)\n",
    "```\n",
    "\"\"\"\n",
    "function plot_p_prog(iterwise_p_mat;make_error_bars = false,display_plot=false)\n",
    "    num_steps = length(iterwise_p_mat)\n",
    "    num_params = size(iterwise_p_mat[1],1)\n",
    "    mean_p = fill(0.,num_params,num_steps)\n",
    "    max_p = fill(0.,num_params,num_steps)\n",
    "    min_p = fill(0.,num_params,num_steps)\n",
    "    for i in 1:num_steps\n",
    "        mat = iterwise_p_mat[i]\n",
    "        mean_p[:,i] = mean(mat,dims=2) # Take the mean of the sample of particles\n",
    "        max_p[:,i] = maximum(mat,dims=2)\n",
    "        min_p[:,i] = minimum(mat,dims=2)\n",
    "    end\n",
    "    plot_list = PGFPlots.Plots.Plot[] # Initialize empty array of type PGFPlots.Plots.Plot\n",
    "    for i in 1:num_params\n",
    "        if make_error_bars\n",
    "            push!(plot_list,PGFPlots.Plots.Linear(collect(1:num_steps),mean_p[i,:],\n",
    "                    errorBars = ErrorBars(yplus=max_p[i,:], yminus=min_p[i,:]),\n",
    "                    legendentry=param_names[i],onlyMarks=true))\n",
    "        else\n",
    "            push!(plot_list,PGFPlots.Plots.Linear(collect(1:num_steps),mean_p[i,:],\n",
    "                    legendentry=param_names[i],onlyMarks=true))\n",
    "        end\n",
    "    end\n",
    "    pa = PGFPlots.Axis(plot_list,xlabel=\"timestep\",ylabel=\"param value\",\n",
    "        title=\"param wise filtering progress\",legendPos=\"outer north east\")\n",
    "    if display_plot display(pa) end\n",
    "    return pa\n",
    "end"
   ]
  },
  {
   "cell_type": "code",
   "execution_count": 16,
   "metadata": {
    "code_folding": [
     0
    ]
   },
   "outputs": [
    {
     "data": {
      "text/plain": [
       "scene_list2pos_trace"
      ]
     },
     "execution_count": 16,
     "metadata": {},
     "output_type": "execute_result"
    }
   ],
   "source": [
    "# function: extract xy trace from list of scenes\n",
    "\"\"\"\n",
    "    function scene_list2pos_trace(scene_list;ncars,filename=\"\")\n",
    "- Written with the goal of giving pos trace to Alex\n",
    "- Writes the xy positions of first `ncars` in the format x1,y1,x2,y2,...,xn,yn cols of data\n",
    "- Optinonally writes the data to a csv file with `filename`\n",
    "\n",
    "# Examples\n",
    "```julia\n",
    "scene_list2pos_trace(alex_true_scene_list,ncars=3,filename=\"media/mobil/ground_truth.csv\")\n",
    "```\n",
    "\"\"\"\n",
    "function scene_list2pos_trace(scene_list;ncars,filename=\"\")\n",
    "data = fill(0.,length(scene_list),2*ncars) # carwise x, y\n",
    "    for (i,scene) in enumerate(scene_list)\n",
    "        for j in 1:ncars\n",
    "            data[i,j*2-1] = scene[j].state.posG.x\n",
    "            data[i,j*2] = scene[j].state.posG.y\n",
    "        end\n",
    "    end\n",
    "    \n",
    "    if filename != \"\" writedlm(filename,data,\",\") end\n",
    "    return data\n",
    "end"
   ]
  },
  {
   "cell_type": "code",
   "execution_count": null,
   "metadata": {
    "code_folding": [
     0
    ]
   },
   "outputs": [],
   "source": [
    "# function: pgfplots 2 gif using Reel\n",
    "\"\"\"\n",
    "    function pgfplots2gif(plots;filename=\"output.gif\")\n",
    "- Make a video using an array of plots. Uses the Reel library.\n",
    "\n",
    "# Caveat\n",
    "- Only works with .gif output type. If use .mp4, errors saying process exited ffmpeg\n",
    "\"\"\"\n",
    "function pgfplots2gif(plots;filename=\"output.gif\")\n",
    "    @assert typeof(filename) == String\n",
    "    frames = Frames(MIME(\"image/svg+xml\"), fps=10)\n",
    "    \n",
    "    for plt in plots\n",
    "        push!(frames, plt)\n",
    "    end\n",
    "    write(filename, frames)\n",
    "    return nothing\n",
    "end # End of the reel gif writing function"
   ]
  },
  {
   "cell_type": "code",
   "execution_count": null,
   "metadata": {
    "code_folding": [
     0
    ]
   },
   "outputs": [],
   "source": [
    "# function: make pairwise particle variation videos, what pairs to make is the question\n",
    "\"\"\"\n",
    "- We have a list with corresponding particle matrix at every iteration of filtering\n",
    "- We shall scatter two columns of said matrix\n",
    "- We shall make a video with said scatter at every timestep\n",
    "\n",
    "# Examples\n",
    "```julia\n",
    "seed = 2; num_p = 500\n",
    "Random.seed!(seed)\n",
    "final_p_mat,iterwise_p_mat = multistep_update(car_id=1,start_frame=2,last_frame=99,num_p=num_p);\n",
    "plot_pairwise_particles(iterwise_p_mat)\n",
    "```\n",
    "\"\"\"\n",
    "function plot_pairwise_particles(iterwise_p_mat)\n",
    "    num_params = size(iterwise_p_mat[1],1) # Number of rows tells us the number of parameters\n",
    "    pairs = collect(combinations(collect(1:num_params),2))\n",
    "    num_pairs = length(pairs)\n",
    "    groupplots = PGFPlots.GroupPlot[]\n",
    "    \n",
    "    for i in 1:length(iterwise_p_mat)-70\n",
    "        print(\"plot_pairwise_particles says iteration number = $i\\n\")\n",
    "        g = PGFPlots.GroupPlot(5,4)\n",
    "        p_mat = iterwise_p_mat[i]\n",
    "        \n",
    "        for j in 1:num_pairs-1\n",
    "            kk = pairs[j]\n",
    "            param_1 = kk[1];param_2 = kk[2]\n",
    "            name_1 = param_names[param_1];name_2=param_names[param_2]\n",
    "            p = PGFPlots.Axis([PGFPlots.Plots.Scatter(p_mat[param_1,:],p_mat[param_2,:])],\n",
    "                    xlabel=name_1,ylabel=name_2)\n",
    "            push!(g,p)\n",
    "        end\n",
    "        push!(groupplots,g)\n",
    "    end\n",
    "    pgfplots2gif(groupplots,filename=\"media/mobil/pairwise_vids/seed2.gif\")\n",
    "end"
   ]
  },
  {
   "cell_type": "markdown",
   "metadata": {},
   "source": [
    "#### global definitions for initialization; ground truth data generation"
   ]
  },
  {
   "cell_type": "code",
   "execution_count": 37,
   "metadata": {
    "code_folding": [
     0
    ],
    "collapsed": true
   },
   "outputs": [
    {
     "name": "stderr",
     "output_type": "stream",
     "text": [
      "WARNING: redefining constant DEFAULT_PARAMS\n",
      "WARNING: redefining constant SCENE\n",
      "WARNING: redefining constant ROADWAY\n"
     ]
    }
   ],
   "source": [
    "# GLOBAL DEFINITIONS: TIMESTEP, ROADWAY, PARTICLE INDICES\n",
    "const TIMESTEP = 0.1;\n",
    "const V_DES = 1; const SIGMA_IDM = 2; const T_HEADWAY = 3; const S_MIN=4; \n",
    "const POLITENESS = 5;const ADV_TH = 6;const SENSOR_SIGMA = 7;\n",
    "const DEFAULT_PARAMS = [29.,NaN,1.5,5.,0.35,0.1,NaN] # The parameters set to default values\n",
    "\n",
    "pos_vel_array_1 = [(200.,30.),(250.,0.)]\n",
    "pos_vel_array_2 = [(250.,10.)] #(280.,10.)\n",
    "pos_vel_array_3 = [(215.,0.),(225.,10.),(230.,0.)]\n",
    "lane_place_array = [pos_vel_array_1,pos_vel_array_2]\n",
    "scene,roadway = init_place_cars(lane_place_array)\n",
    "const SCENE = deepcopy(scene)\n",
    "const ROADWAY = roadway;\n",
    "\n",
    "# Stores the name of the parameter corresponding to number. Helpful in making legend when we plot param prog\n",
    "param_names = Dict(1=>\"Desired velocity\",2=>\"Acceleration output noise\",3=>\"Min time headway\",\n",
    "    4=>\"Min separation\",5=>\"Politeness\",6=>\"Advantage threshold\",7=>\"Headway sensor noise\");\n",
    "\n",
    "# Set the Reel extension to work with pgfplots, https://github.com/JuliaTeX/PGFPlots.jl/issues/40\n",
    "Reel.extension(m::MIME\"image/svg+xml\") = \"svg\""
   ]
  },
  {
   "cell_type": "code",
   "execution_count": 18,
   "metadata": {
    "code_folding": [
     0
    ]
   },
   "outputs": [],
   "source": [
    "# GROUND TRUTH DATA: Default model params 100 timesteps, returns true_scene_list\n",
    "start_step=1\n",
    "nsteps=100\n",
    "scene_halluc = deepcopy(SCENE)\n",
    "models = Dict{Int64,DriverModel}()\n",
    "for veh in scene models[veh.id] = IntelligentDriverModel() end\n",
    "models[1] = Tim2DDriver(TIMESTEP,\n",
    "                        mlane=MOBIL(TIMESTEP),\n",
    "                        mlon=IntelligentDriverModel(),\n",
    "            )\n",
    "models[2] = IntelligentDriverModel(v_des=15.)\n",
    "models[3] = IntelligentDriverModel()\n",
    "\n",
    "true_scene_list = get_hallucination_scenes(scene_halluc,duration=10,models=models);\n",
    "# scenelist2video(true_scene_list,filename=\"media/mobil/ground_truth.mp4\")"
   ]
  },
  {
   "cell_type": "markdown",
   "metadata": {},
   "source": [
    "#### wip, development space"
   ]
  },
  {
   "cell_type": "markdown",
   "metadata": {},
   "source": [
    "# Scripts"
   ]
  },
  {
   "cell_type": "code",
   "execution_count": null,
   "metadata": {
    "code_folding": [
     0
    ]
   },
   "outputs": [],
   "source": [
    "# Script: Filter, imitate, rmse, overlay video\n",
    "seed = 2; num_p = 500\n",
    "Random.seed!(seed)\n",
    "final_p_mat,iterwise_p_mat = multistep_update(car_id=1,start_frame=2,last_frame=99,num_p=num_p);\n",
    "start_scene = deepcopy(SCENE)\n",
    "imit_scene_list = gen_imitation_traj(final_p_mat,start_scene,car_id=1)\n",
    "rmse_pos_dict,rmse_vel_dict = compute_rmse(true_scene_list,imit_scene_list,id_list=[1,2,3])\n",
    "rmse_pos = rmse_dict2mean(rmse_pos_dict);rmse_vel = rmse_dict2mean(rmse_vel_dict)\n",
    "rmse_pos = reshape(rmse_pos,length(rmse_pos),);rmse_vel = reshape(rmse_vel,length(rmse_vel),)\n",
    "p_pos = PGFPlots.Plots.Linear(collect(1:length(rmse_pos)),rmse_pos,legendentry=\"rmse pos\")\n",
    "p_vel = PGFPlots.Plots.Linear(collect(1:length(rmse_vel)),rmse_vel,legendentry=\"rmse vel\")\n",
    "rmse_axis = PGFPlots.Axis([p_pos,p_vel],xlabel=\"timestep\",ylabel=\"rmse\",title=\"rmse pos and vel\")\n",
    "display(rmse_axis)\n",
    "multiple_scenelist2video(true_scene_list,imit_scene_list,\n",
    "    filename=\"media/mobil/true_vs_imit_faster_nump_$(num_p)_seed_$(seed).mp4\")"
   ]
  },
  {
   "cell_type": "code",
   "execution_count": null,
   "metadata": {
    "code_folding": [
     0
    ]
   },
   "outputs": [],
   "source": [
    "# Script: Generate driving trajectories with different random seeds using mean particle\n",
    "seeds = collect(1:10)\n",
    "car_id = 1\n",
    "y_trace_plot = PGFPlots.Plots.Plot[]\n",
    "lanes_plot = PGFPlots.Plots.Plot[]\n",
    "for seed in seeds\n",
    "    start_scene = deepcopy(SCENE)\n",
    "    Random.seed!(seed)\n",
    "    scene_list = gen_imitation_traj(final_p_mat,start_scene,start_step=1,nsteps=100,car_id=1)\n",
    "    push!(y_trace_plot,PGFPlots.Plots.Scatter(collect(1:length(scene_list)),\n",
    "                [scene[car_id].state.posG.y for scene in scene_list],legendentry=\"seed = $seed\"))\n",
    "    #multiple_scenelist2video(true_scene_list,scene_list,\n",
    "    #    filename = \"media/mobil/true_vs_imitation_seed_$(seed).mp4\")\n",
    "    \n",
    "end\n",
    "push!(y_trace_plot,PGFPlots.Plots.Scatter(collect(1:length(true_scene_list)),\n",
    "        [true_scene[car_id].state.posG.y for true_scene in true_scene_list],legendentry=\"ground truth\"))\n",
    "PGFPlots.Axis(y_trace_plot,xlabel=\"timestep\",ylabel=\"y pos trace\",\n",
    "    title=\"Mean filtered particle y pos trace\",legendPos=\"outer north east\")"
   ]
  },
  {
   "cell_type": "code",
   "execution_count": null,
   "metadata": {
    "code_folding": [
     0
    ]
   },
   "outputs": [],
   "source": [
    "# Script: Different timestep values for Alex carla\n",
    "start_scene = deepcopy(SCENE)\n",
    "scene_list = gen_imitation_traj(final_p_mat,start_scene,car_id=1,timestep=0.02)\n",
    "start_scene = deepcopy(SCENE)\n",
    "scene_list_2 = gen_imitation_traj(final_p_mat,start_scene,car_id=1,timestep=0.1)\n",
    "p1 = PGFPlots.Plots.Scatter([scene[1].state.posG.x for scene in scene_list],\n",
    "    [scene[1].state.posG.y for scene in scene_list],legendentry=\"timestep 0.02\")\n",
    "p2 = PGFPlots.Plots.Scatter([scene[1].state.posG.x for scene in scene_list_2],\n",
    "    [scene[1].state.posG.y for scene in scene_list_2],legendentry = \"timestep 0.1\")\n",
    "PGFPlots.Axis([p1,p2],xlabel=\"x\",ylabel=\"y\")"
   ]
  },
  {
   "cell_type": "code",
   "execution_count": null,
   "metadata": {
    "code_folding": [
     0
    ]
   },
   "outputs": [],
   "source": [
    "# Script: Generate ground truth data for Alex\n",
    "start_step=1\n",
    "scene_halluc = deepcopy(SCENE)\n",
    "models = Dict{Int64,DriverModel}()\n",
    "for veh in scene models[veh.id] = IntelligentDriverModel() end\n",
    "models[1] = Tim2DDriver(TIMESTEP,\n",
    "                        mlane=MOBIL(TIMESTEP),\n",
    "                        mlon=IntelligentDriverModel(),\n",
    "            )\n",
    "models[2] = IntelligentDriverModel(v_des=15.)\n",
    "models[3] = IntelligentDriverModel()\n",
    "\n",
    "alex_true_scene_list = get_hallucination_scenes(scene_halluc,duration=10,models=models,timestep=0.02);\n",
    "p1 = PGFPlots.Plots.Scatter([scene[1].state.posG.x for scene in scene_list],\n",
    "    [scene[1].state.posG.y for scene in scene_list],legendentry=\"imitation\")\n",
    "p2 = PGFPlots.Plots.Scatter([scene[1].state.posG.x for scene in alex_true_scene_list],\n",
    "    [scene[1].state.posG.y for scene in alex_true_scene_list],legendentry = \"ground truth\")\n",
    "pa = PGFPlots.Axis([p1,p2],xlabel=\"x\",ylabel=\"y\")\n",
    "PGFPlots.save(\"media/mobil/trace_for_carla.svg\",pa)\n",
    "multiple_scenelist2video(alex_true_scene_list,scene_list,filename=\"media/mobil/2d_for_carla.mp4\")"
   ]
  },
  {
   "cell_type": "code",
   "execution_count": null,
   "metadata": {
    "code_folding": [
     0
    ]
   },
   "outputs": [],
   "source": [
    "# Script: Generate lane change prob and y pos trace and overlay the two\n",
    "particle = [29.0,0.5,1.2,1.5,0.,0.1,20.]\n",
    "start_step = 1; nsteps = 100\n",
    "scene_halluc = deepcopy(scene)\n",
    "models = Dict{Int64,DriverModel}()\n",
    "for veh in scene\n",
    "    models[veh.id] = uncertain_IDM(sigma_sensor=20.)\n",
    "end\n",
    "models[1] = Tim2DDriver(TIMESTEP,mlane=MOBIL(TIMESTEP,politeness=particle[POLITENESS],\n",
    "        mlon=uncertain_IDM(sigma_sensor=particle[SENSOR_SIGMA])),\n",
    "    mlon = uncertain_IDM(sigma_sensor=particle[SENSOR_SIGMA]),)\n",
    "models[2] = uncertain_IDM(v_des=15.,sigma_sensor=particle[SENSOR_SIGMA])\n",
    "\n",
    "halluc_scenes_list = []\n",
    "lc_probs = fill(0.,nsteps,)\n",
    "id = 1\n",
    "for (i,t) in enumerate(start_step:start_step+nsteps-1)\n",
    "    print(\"test_laneprob.jl says: t=$t\\n\")\n",
    "    lp = get_lane_change_prob(scene_halluc,particle,car_id=id)\n",
    "    #print(\"test_laneprob.jl says lane change prob = $(lp)\\n\")\n",
    "    actions = Array{Any}(undef,length(scene_halluc))\n",
    "    get_actions!(actions,scene_halluc,ROADWAY,models)\n",
    "    tick!(scene_halluc,ROADWAY,actions,TIMESTEP)\n",
    "    push!(halluc_scenes_list,deepcopy(scene_halluc))\n",
    "    lc_probs[i] = lp\n",
    "end\n",
    "\n",
    "plot_ytrace = scenelist2ytrace(halluc_scenes_list,car_id=id)\n",
    "plot_probs = PGFPlots.Plots.Scatter(collect(1:nsteps),lc_probs,legendentry=\"lane change probs\")\n",
    "pa = PGFPlots.Axis([plot_ytrace,plot_probs],xlabel=\"timestep\",ylabel=\"ytrace and lc probs\",\n",
    "    legendPos=\"outer north east\",title=\"Lane change prob and y pos trace for car id=$(id)\")\n",
    "display(pa)\n",
    "#PGFPlots.save(\"media/mobil/lc_ytrace.pdf\",)"
   ]
  },
  {
   "cell_type": "code",
   "execution_count": null,
   "metadata": {
    "code_folding": [
     0
    ]
   },
   "outputs": [],
   "source": [
    "# Script: Compare two politeness values in one video by overlaying\n",
    "pos_vel_array_1 = [(200.,30.),(250.,0.)]\n",
    "pos_vel_array_2 = [(250.,10.)]\n",
    "pos_vel_array_3 = [(215.,0.),(225.,10.),(230.,0.)]\n",
    "lane_place_array = [pos_vel_array_1,pos_vel_array_2]\n",
    "scene,roadway = init_place_cars(lane_place_array)\n",
    "start_scene = deepcopy(scene)\n",
    "models_1 = Dict{Int64,DriverModel}()\n",
    "models_2 = Dict{Int64,DriverModel}()\n",
    "for veh in scene\n",
    "    models_1[veh.id] = IntelligentDriverModel()\n",
    "    models_2[veh.id] = IntelligentDriverModel()\n",
    "end\n",
    "politeness = 0.\n",
    "models_1[1] = Tim2DDriver(timestep_ngsim,mlane=MOBIL(timestep_ngsim,politeness=politeness))\n",
    "models_1[2] = IntelligentDriverModel(v_des=15.)\n",
    "\n",
    "scene_list_1 = get_hallucination_scenes(scene,nsteps=100,models=models_1,roadway=roadway)\n",
    "\n",
    "politeness = 1.\n",
    "models_2[1] = Tim2DDriver(timestep_ngsim,mlane=MOBIL(timestep_ngsim,politeness=politeness))\n",
    "models_2[2] = IntelligentDriverModel(v_des=15.)\n",
    "\n",
    "scene_list_2 = get_hallucination_scenes(start_scene,nsteps=100,models=models_2,roadway=roadway)\n",
    "multiple_scenelist2video(scene_list_1,scene_list_2,roadway=roadway,\n",
    "    filename=\"media/mobil/compare_politeness.mp4\")"
   ]
  },
  {
   "cell_type": "code",
   "execution_count": null,
   "metadata": {
    "code_folding": [
     0
    ]
   },
   "outputs": [],
   "source": [
    "# Script: Compare two advantage_threshold values in one video by overlaying\n",
    "pos_vel_array_1 = [(200.,30.),(250.,0.)]\n",
    "pos_vel_array_2 = [(250.,10.)]\n",
    "pos_vel_array_3 = [(215.,0.),(225.,10.),(230.,0.)]\n",
    "lane_place_array = [pos_vel_array_1,pos_vel_array_2]\n",
    "scene,roadway = init_place_cars(lane_place_array)\n",
    "start_scene = deepcopy(scene)\n",
    "models_1 = Dict{Int64,DriverModel}()\n",
    "models_2 = Dict{Int64,DriverModel}()\n",
    "for veh in scene\n",
    "    models_1[veh.id] = IntelligentDriverModel()\n",
    "    models_2[veh.id] = IntelligentDriverModel()\n",
    "end\n",
    "politeness = 0.\n",
    "a_th = 0.\n",
    "models_1[1] = Tim2DDriver(timestep_ngsim,\n",
    "    mlane=MOBIL(timestep_ngsim,politeness=politeness,advantage_threshold=a_th))\n",
    "models_1[2] = IntelligentDriverModel(v_des=15.)\n",
    "\n",
    "scene_list_1 = get_hallucination_scenes(scene,nsteps=100,models=models_1,roadway=roadway)\n",
    "\n",
    "politeness = 0.\n",
    "a_th = 1.\n",
    "models_2[1] = Tim2DDriver(timestep_ngsim,\n",
    "    mlane=MOBIL(timestep_ngsim,politeness=politeness,advantage_threshold=a_th))\n",
    "models_2[2] = IntelligentDriverModel(v_des=15.)\n",
    "\n",
    "scene_list_2 = get_hallucination_scenes(start_scene,nsteps=100,models=models_2,roadway=roadway)\n",
    "multiple_scenelist2video(scene_list_1,scene_list_2,roadway=roadway,\n",
    "    filename=\"media/mobil/compare_adv_blueHighThreshold_p_0.mp4\")"
   ]
  },
  {
   "cell_type": "code",
   "execution_count": null,
   "metadata": {
    "code_folding": [
     0
    ]
   },
   "outputs": [],
   "source": [
    "# Script: Influence of stochasticity on lateral driving\n",
    "seed=3;\n",
    "Random.seed!(seed) # To control the stochasticity in ProportionalLaneTracker\n",
    "\n",
    "pos_vel_array_1 = [(200.,30.),(250.,0.)]\n",
    "pos_vel_array_2 = [(250.,10.)]\n",
    "pos_vel_array_3 = [(215.,0.),(225.,10.),(230.,0.)]\n",
    "lane_place_array = [pos_vel_array_1,pos_vel_array_2]\n",
    "scene,roadway = init_place_cars(lane_place_array)\n",
    "start_scene = deepcopy(scene)\n",
    "models_1 = Dict{Int64,DriverModel}()\n",
    "models_2 = Dict{Int64,DriverModel}()\n",
    "for veh in scene\n",
    "    models_1[veh.id] = IntelligentDriverModel()\n",
    "    models_2[veh.id] = IntelligentDriverModel()\n",
    "end\n",
    "models_1[1] = Tim2DDriver(timestep_ngsim,\n",
    "    mlane=MOBIL(timestep_ngsim),\n",
    "    mlat=ProportionalLaneTracker()\n",
    ")\n",
    "models_1[2] = IntelligentDriverModel(v_des=15.)\n",
    "\n",
    "scene_list_1 = get_hallucination_scenes(scene,nsteps=100,models=models_1,roadway=roadway)\n",
    "\n",
    "sigma_lat = 10.\n",
    "models_2[1] = Tim2DDriver(timestep_ngsim,\n",
    "    mlane=MOBIL(timestep_ngsim),\n",
    "    mlat=ProportionalLaneTracker(σ=sigma_lat)\n",
    ")\n",
    "models_2[2] = IntelligentDriverModel(v_des=15.)\n",
    "\n",
    "scene_list_2 = get_hallucination_scenes(start_scene,nsteps=100,models=models_2,roadway=roadway)\n",
    "multiple_scenelist2video(scene_list_1,scene_list_2,roadway=roadway,\n",
    "    filename=\"media/mobil/lateral_blueIsStochastic_$(seed)_seed_sigmaLat_$(sigma_lat).mp4\")"
   ]
  },
  {
   "cell_type": "markdown",
   "metadata": {},
   "source": [
    "# Playground"
   ]
  },
  {
   "cell_type": "markdown",
   "metadata": {},
   "source": [
    "#### bivariate normal to experiment with the noise in proportional lane tracker"
   ]
  },
  {
   "cell_type": "code",
   "execution_count": null,
   "metadata": {},
   "outputs": [],
   "source": [
    "d = MvNormal([0.,0.],[1. 0.;0. 1.])"
   ]
  },
  {
   "cell_type": "code",
   "execution_count": null,
   "metadata": {},
   "outputs": [],
   "source": [
    "pdf(d,[0.5,-0.5])"
   ]
  },
  {
   "cell_type": "code",
   "execution_count": null,
   "metadata": {},
   "outputs": [],
   "source": [
    "# Lets think of a hybrid discrete and continuous distribution\n",
    "b = Bernoulli(0.3)\n",
    "rand(b,50)\n",
    "pdf(b,0)\n",
    "d = Normal(0,1)\n",
    "pdf(b,0)*pdf(d,0.4)"
   ]
  }
 ],
 "metadata": {
  "@webio": {
   "lastCommId": null,
   "lastKernelId": null
  },
  "kernelspec": {
   "display_name": "Julia 1.1.0",
   "language": "julia",
   "name": "julia-1.1"
  },
  "language_info": {
   "file_extension": ".jl",
   "mimetype": "application/julia",
   "name": "julia",
   "version": "1.1.0"
  }
 },
 "nbformat": 4,
 "nbformat_minor": 2
}
