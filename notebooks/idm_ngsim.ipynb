{
 "cells": [
  {
   "cell_type": "code",
   "execution_count": 1,
   "metadata": {},
   "outputs": [
    {
     "name": "stderr",
     "output_type": "stream",
     "text": [
      "┌ Info: Recompiling stale cache file /home/raunak/.julia/compiled/v1.1/Interact/XmYW4.ji for Interact [c601a237-2ae4-5e1e-952c-7a85b0c7eef1]\n",
      "└ @ Base loading.jl:1184\n"
     ]
    },
    {
     "data": {
      "text/html": [
       "<script>\n",
       "// Immediately-invoked-function-expression to avoid global variables.\n",
       "(function() {\n",
       "    var warning_div = document.getElementById(\"webio-warning-2340424835042862171\");\n",
       "    var hide = function () {\n",
       "        var script = document.getElementById(\"webio-setup-2800130764369096753\");\n",
       "        var parent = script && script.parentElement;\n",
       "        var grandparent = parent && parent.parentElement;\n",
       "        if (grandparent) {\n",
       "            grandparent.style.display = \"none\";\n",
       "        }\n",
       "        warning_div.style.display = \"none\";\n",
       "    };\n",
       "    if (typeof Jupyter !== \"undefined\") {\n",
       "        console.log(\"WebIO detected Jupyter notebook environment.\");\n",
       "        // Jupyter notebook.\n",
       "        var extensions = (\n",
       "            Jupyter\n",
       "            && Jupyter.notebook.config.data\n",
       "            && Jupyter.notebook.config.data.load_extensions\n",
       "        );\n",
       "        if (extensions && extensions[\"webio/main\"]) {\n",
       "            // Extension already loaded.\n",
       "            console.log(\"Jupyter WebIO nbextension detected; not loading ad-hoc.\");\n",
       "            hide();\n",
       "            return;\n",
       "        }\n",
       "        console.warn(\"Loading WebIO Jupyter extension on an ad-hoc basis. Consider enabling the WebIO nbextension for a stabler experience (this should happen automatically when building WebIO).\");\n",
       "        warning_div.innerHTML = \"<strong>Loading WebIO Jupyter extension on an ad-hoc basis. Consider enabling the WebIO nbextension for a stabler experience (this should happen automatically when building WebIO).</strong>\";\n",
       "    } else if (window.location.pathname.includes(\"/lab\")) {\n",
       "        // Guessing JupyterLa\n",
       "        console.log(\"Jupyter Lab detected; make sure the @webio/jupyter-lab-provider labextension is installed.\");\n",
       "        hide();\n",
       "        return;\n",
       "    }\n",
       "})();\n",
       "\n",
       "</script>\n",
       "<p\n",
       "    id=\"webio-warning-2340424835042862171\"\n",
       "    class=\"output_text output_stderr\"\n",
       "    style=\"padding: 1em; font-weight: bold;\"\n",
       ">\n",
       "    Unable to load WebIO. Please make sure WebIO works for your Jupyter client.\n",
       "    For troubleshooting, please see <a href=\"https://juliagizmos.github.io/WebIO.jl/latest/providers/ijulia/\">\n",
       "    the WebIO/IJulia documentation</a>.\n",
       "    <!-- TODO: link to installation docs. -->\n",
       "</p>\n"
      ],
      "text/plain": [
       "HTML{String}(\"<script>\\n// Immediately-invoked-function-expression to avoid global variables.\\n(function() {\\n    var warning_div = document.getElementById(\\\"webio-warning-2340424835042862171\\\");\\n    var hide = function () {\\n        var script = document.getElementById(\\\"webio-setup-2800130764369096753\\\");\\n        var parent = script && script.parentElement;\\n        var grandparent = parent && parent.parentElement;\\n        if (grandparent) {\\n            grandparent.style.display = \\\"none\\\";\\n        }\\n        warning_div.style.display = \\\"none\\\";\\n    };\\n    if (typeof Jupyter !== \\\"undefined\\\") {\\n        console.log(\\\"WebIO detected Jupyter notebook environment.\\\");\\n        // Jupyter notebook.\\n        var extensions = (\\n            Jupyter\\n            && Jupyter.notebook.config.data\\n            && Jupyter.notebook.config.data.load_extensions\\n        );\\n        if (extensions && extensions[\\\"webio/main\\\"]) {\\n            // Extension already loaded.\\n            console.log(\\\"Jupyter WebIO nbextension detected; not loading ad-hoc.\\\");\\n            hide();\\n            return;\\n        }\\n        console.warn(\\\"Loading WebIO Jupyter extension on an ad-hoc basis. Consider enabling the WebIO nbextension for a stabler experience (this should happen automatically when building WebIO).\\\");\\n        warning_div.innerHTML = \\\"<strong>Loading WebIO Jupyter extension on an ad-hoc basis. Consider enabling the WebIO nbextension for a stabler experience (this should happen automatically when building WebIO).</strong>\\\";\\n    } else if (window.location.pathname.includes(\\\"/lab\\\")) {\\n        // Guessing JupyterLa\\n        console.log(\\\"Jupyter Lab detected; make sure the @webio/jupyter-lab-provider labextension is installed.\\\");\\n        hide();\\n        return;\\n    }\\n})();\\n\\n</script>\\n<p\\n    id=\\\"webio-warning-2340424835042862171\\\"\\n    class=\\\"output_text output_stderr\\\"\\n    style=\\\"padding: 1em; font-weight: bold;\\\"\\n>\\n    Unable to load WebIO. Please make sure WebIO works for your Jupyter client.\\n    For troubleshooting, please see <a href=\\\"https://juliagizmos.github.io/WebIO.jl/latest/providers/ijulia/\\\">\\n    the WebIO/IJulia documentation</a>.\\n    <!-- TODO: link to installation docs. -->\\n</p>\\n\")"
      ]
     },
     "metadata": {},
     "output_type": "display_data"
    },
    {
     "name": "stderr",
     "output_type": "stream",
     "text": [
      "┌ Info: Recompiling stale cache file /home/raunak/.julia/compiled/v1.1/CSV/HHBkp.ji for CSV [336ed68f-0bac-5ca0-87d4-7b16caf5d00b]\n",
      "└ @ Base loading.jl:1184\n",
      "┌ Info: Recompiling stale cache file /home/raunak/.julia/compiled/v1.1/Plots/ld3vC.ji for Plots [91a5bcdd-55d7-5caf-9e0b-520d859cae80]\n",
      "└ @ Base loading.jl:1184\n"
     ]
    }
   ],
   "source": [
    "using NGSIM\n",
    "using AutomotiveDrivingModels\n",
    "using AutoViz\n",
    "using Interact # Make video in notebook\n",
    "using Reel # Save video as gif\n",
    "using CSV # For writing to csv\n",
    "using DataFrames # For writing to csv\n",
    "using Distributions\n",
    "using Test\n",
    "using StatsBase\n",
    "using Dates\n",
    "using Plots\n",
    "using JLD"
   ]
  },
  {
   "cell_type": "code",
   "execution_count": 36,
   "metadata": {},
   "outputs": [],
   "source": [
    "include(\"admin_functions.jl\"); # Brings in the functions defined in admin_functions.jl"
   ]
  },
  {
   "cell_type": "code",
   "execution_count": 3,
   "metadata": {},
   "outputs": [],
   "source": [
    "traj_ngsim = load_trajdata(1)\n",
    "roadway_ngsim = ROADWAY_101;"
   ]
  },
  {
   "cell_type": "markdown",
   "metadata": {},
   "source": [
    "# Utils"
   ]
  },
  {
   "cell_type": "code",
   "execution_count": 37,
   "metadata": {},
   "outputs": [
    {
     "data": {
      "text/plain": [
       "hallucinate_a_step"
      ]
     },
     "execution_count": 37,
     "metadata": {},
     "output_type": "execute_result"
    }
   ],
   "source": [
    "\"\"\"\n",
    "\n",
    "# Caution\n",
    "- `dt` defined within the function. Here is 0.1, highd had 0.04\n",
    "\n",
    "# Example\n",
    "```julia\n",
    "td1 = load_trajdata(1);\n",
    "scene = Scene(500)\n",
    "get!(scene,td1,300)\n",
    "display(scene.entities[2].state.posF.s)\n",
    "roadway = ROADWAY_101;\n",
    "particle = Dict(:v_des=>25.0,:σ=>0.5)\n",
    "hallucinate_a_step(roadway,scene,particle,car_id=scene.entities[2].id)\n",
    "```\n",
    "\"\"\"\n",
    "function hallucinate_a_step(roadway,scene_input,particle;car_id=-1)\n",
    "    if car_id==-1 @show \"Please give valid car_id\" end\n",
    "    \n",
    "    scene = deepcopy(scene_input)\n",
    "    #scene = scene_input # This was the failure case\n",
    "    n_cars = scene.n \n",
    "\n",
    "    models = Dict{Int, DriverModel}()\n",
    "    \n",
    "    # Create driver models for all the cars in the scene\n",
    "    for veh in scene\n",
    "        if veh.id == car_id\n",
    "            models[veh.id] = IntelligentDriverModel(;particle...)\n",
    "        else\n",
    "            # TODO: RESEARCH QUESTION: What drives the other vehicles in the hallucination\n",
    "            models[veh.id] = IntelligentDriverModel(v_des=10.0)\n",
    "        end\n",
    "    end\n",
    "    \n",
    "    n_steps = 1\n",
    "    dt = 0.1\n",
    "    rec = SceneRecord(n_steps, dt)\n",
    "    \n",
    "    simulate!(rec, scene, roadway, models, n_steps)\n",
    "    \n",
    "    X = Array{Float64}(undef,n_steps, 1)\n",
    "\n",
    "    for t in 1:n_steps\n",
    "        f = rec.frames[n_steps - t + 1]\n",
    "        \n",
    "            # Access the vehicle with id as car_id and return its frenet s\n",
    "        X[t,1] = scene.entities[findfirst(car_id,f)].state.posF.s\n",
    "    end\n",
    "    return X[1]\n",
    "end"
   ]
  },
  {
   "cell_type": "code",
   "execution_count": 38,
   "metadata": {},
   "outputs": [
    {
     "data": {
      "text/plain": [
       "compute_particle_likelihoods"
      ]
     },
     "execution_count": 38,
     "metadata": {},
     "output_type": "execute_result"
    }
   ],
   "source": [
    "\"\"\"\n",
    "\n",
    "# Caution\n",
    "- `timestep` defined in the function. Was 0.04 for highd. Here is 0.1\n",
    "\"\"\"\n",
    "function compute_particle_likelihoods(roadway,f,trupos,p_set_dict;car_id=-1)\n",
    "    if car_id==-1 @show \"Please give valid car_id\" end\n",
    "    timestep = 0.1 #TODO: Remove hardcoding\n",
    "    p_mat, params, vec_val_vec = to_matrix_form(p_set_dict)\n",
    "    \n",
    "    num_params=size(p_mat)[1]\n",
    "    num_p = size(p_mat)[2]\n",
    "    lkhd_vec = Array{Float64}(undef,num_p)\n",
    "    for i in 1:num_p    \n",
    "        # Create dict version for a single particle\n",
    "        p_dict = Dict()\n",
    "        for j in 1:num_params\n",
    "            p_dict[params[j]]=vec_val_vec[j][i]\n",
    "        end\n",
    "        \n",
    "        std_dev_acc = p_dict[:σ]\n",
    "        \n",
    "        # hack to avoid the std_dev_pos become negative and error Normal distb\n",
    "        if std_dev_acc <= 0 std_dev_acc = 0.1 end\n",
    "        \n",
    "        # TODO: This math needs to be verified from random variable calculations\n",
    "        std_dev_pos = timestep*timestep*std_dev_acc\n",
    "            \n",
    "        hpos = hallucinate_a_step(roadway,f,p_dict,car_id=car_id)\n",
    "        lkhd_vec[i] = pdf(Normal(hpos,std_dev_pos),trupos[1])\n",
    "    end\n",
    "    return lkhd_vec,p_mat,params\n",
    "end"
   ]
  },
  {
   "cell_type": "code",
   "execution_count": 39,
   "metadata": {},
   "outputs": [
    {
     "data": {
      "text/plain": [
       "update_p_one_step"
      ]
     },
     "execution_count": 39,
     "metadata": {},
     "output_type": "execute_result"
    }
   ],
   "source": [
    "\"\"\"\n",
    "    function update_p_one_step(roadway,f,trupos,p_set_dict;car_id=-1)\n",
    "\n",
    "New particle set based on one step of resampling\n",
    "\"\"\"\n",
    "function update_p_one_step(roadway,f,trupos,p_set_dict;car_id=-1)\n",
    "    if car_id==-1 @show \"Provide valid car_id\" end\n",
    "    \n",
    "    lkhd_vec,p_mat,params = compute_particle_likelihoods(roadway,f,trupos,p_set_dict,\n",
    "                                                        car_id=car_id)\n",
    "    \n",
    "    num_params = size(p_mat)[1]\n",
    "    num_p = size(p_mat)[2]\n",
    "\n",
    "    ll_vec = log.(lkhd_vec)\n",
    "    \n",
    "    # TODO: This is hacky. What if log is not negative\n",
    "    for i in 1:num_p\n",
    "        if isinf(ll_vec[i])\n",
    "            ll_vec[i] = 0\n",
    "        else\n",
    "            ll_vec[i] = -1*1/ll_vec[i]\n",
    "        end\n",
    "    end\n",
    "    \n",
    "    p_weight_vec = weights(ll_vec./sum(ll_vec)) # Convert to weights form to use julia sampling\n",
    "    idx = sample(1:num_p,p_weight_vec,num_p)\n",
    "    new_p_mat = p_mat[:,idx] #Careful that idx is (size,1) and not (size,2)\n",
    "    \n",
    "    new_p_set_dict = to_dict_form(params,new_p_mat)\n",
    "    return new_p_set_dict\n",
    "end"
   ]
  },
  {
   "cell_type": "code",
   "execution_count": 40,
   "metadata": {},
   "outputs": [
    {
     "data": {
      "text/plain": [
       "get_ngsim_scene"
      ]
     },
     "execution_count": 40,
     "metadata": {},
     "output_type": "execute_result"
    }
   ],
   "source": [
    "\"\"\"\n",
    "    function get_ngsim_scene(framenum::Int64)\n",
    "\n",
    "Get a specific scene from traj_ngsim\n",
    "\n",
    "# Used by\n",
    "- `multistep_update`\n",
    "\n",
    "# Example:\n",
    "```julia\n",
    "scene = get_ngsim_scene(1)\n",
    "```\n",
    "\"\"\"\n",
    "function get_ngsim_scene(framenum::Int64)\n",
    "    scene = Scene(500)\n",
    "    get!(scene,traj_ngsim,framenum)\n",
    "    return scene\n",
    "end"
   ]
  },
  {
   "cell_type": "code",
   "execution_count": 41,
   "metadata": {},
   "outputs": [
    {
     "data": {
      "text/plain": [
       "sample_init_particles"
      ]
     },
     "execution_count": 41,
     "metadata": {},
     "output_type": "execute_result"
    }
   ],
   "source": [
    "\"\"\"\n",
    "    function sample_init_particles(num_p::Int64;v=30.0)\n",
    "\n",
    "Inspired from `gen_test_particles` in `admin.jl`.\n",
    "Samples `num_p` particles neighbourhood around the input `v`\n",
    "\n",
    "# Used by\n",
    "- `multistep_update`\n",
    "\n",
    "# Example\n",
    "```julia\n",
    "sample_init_particles(10,v=20.0)\n",
    "```\n",
    "\"\"\"\n",
    "function sample_init_particles(num_p::Int64;v::Float64=30.0)\n",
    "    v_particles = sample(v-5.0:0.5:v+5.0,num_p)\n",
    "    sig_particles = sample(0.1:0.1:1.0,num_p)\n",
    "    p_set_dict = Dict(:v_des=>v_particles,:σ=>sig_particles)\n",
    "    return p_set_dict\n",
    "end"
   ]
  },
  {
   "cell_type": "code",
   "execution_count": 42,
   "metadata": {},
   "outputs": [
    {
     "data": {
      "text/plain": [
       "get_veh_info"
      ]
     },
     "execution_count": 42,
     "metadata": {},
     "output_type": "execute_result"
    }
   ],
   "source": [
    "\"\"\"\n",
    "    function get_veh_info(scene;car_id = -1)\n",
    "\n",
    "Get position and velocity of specific vehicle from scene\n",
    "\n",
    "# Used by\n",
    "- `multistep_update`\n",
    "\n",
    "# Example\n",
    "```julia\n",
    "scene = get_highd_scene(7)\n",
    "pos,vel = get_veh_info(scene,car_id = 6)\n",
    "@show pos,vel\n",
    "```\n",
    "\"\"\"\n",
    "function get_veh_info(scene;car_id = -1)\n",
    "    @assert car_id>0\n",
    "    pos = scene.entities[findfirst(car_id,scene)].state.posF.s\n",
    "    vel = scene.entities[findfirst(car_id,scene)].state.v\n",
    "    return pos,vel\n",
    "end"
   ]
  },
  {
   "cell_type": "code",
   "execution_count": 43,
   "metadata": {},
   "outputs": [
    {
     "data": {
      "text/plain": [
       "plot_particles"
      ]
     },
     "execution_count": 43,
     "metadata": {},
     "output_type": "execute_result"
    }
   ],
   "source": [
    "\"\"\"\n",
    "    function plot_particles(p_set_mat::Array{Float64,2},time::Float64)\n",
    "\n",
    "Plot the distribution of particles\n",
    "# Caution \n",
    "Only work for 2 parameters. Not developed for 3 parameter case yet\n",
    "\n",
    "# Used by\n",
    "- `multistep_update`\n",
    "\n",
    "# Example:\n",
    "```julia\n",
    "set_for_plotting = to_particleMatrix(p_set_new)\n",
    "plots = []\n",
    "push!(plots,plot_particles(set_for_plotting,framenum*0.04))\n",
    "```\n",
    "\"\"\"\n",
    "function plot_particles(p_set_mat::Array{Float64,2},time::Float64)\n",
    "    # Check that number of params does not exceed 3\n",
    "    \n",
    "    @assert size(p_set_mat,1) <= 3\n",
    "    plt = Plots.plot()\n",
    "    # 2 parameter case\t\n",
    "    if size(p_set_mat,1) == 2\n",
    "        plt = scatter(p_set_mat[1,:],p_set_mat[2,:],\n",
    "            leg=false,title=\"time=$(time)\",xlim=(25,35),ylim=(0,1.2),\n",
    "                xlabel=\"v_des(m/s)\",ylabel=\"sigma\")\n",
    "\n",
    "    # 3 parameter case\n",
    "    else\n",
    "        plt = scatter(p_set_mat[1,:],p_set_mat[2,:],p_set_mat[3,:],leg=false)\n",
    "        scatter!([true_params[1]],[true_params[2]],[true_params[3]])\n",
    "    end\n",
    "    return plt\n",
    "end"
   ]
  },
  {
   "cell_type": "code",
   "execution_count": 44,
   "metadata": {},
   "outputs": [
    {
     "data": {
      "text/plain": [
       "make_gif"
      ]
     },
     "execution_count": 44,
     "metadata": {},
     "output_type": "execute_result"
    }
   ],
   "source": [
    "\"\"\"\n",
    "    function make_gif(plots;filename=\"output.mp4\")\n",
    "Make a video using an array of plots. Uses the Reel library\n",
    "\n",
    "# Used by\n",
    "- `multistep_update`\n",
    "\"\"\"\n",
    "function make_gif(plots;filename=\"output.mp4\")\n",
    "@assert typeof(filename) == String\n",
    "#@show \"Making gif\"\n",
    "    frames = Frames(MIME(\"image/png\"), fps=10)\n",
    "    for plt in plots\n",
    "        push!(frames, plt)\n",
    "    end\n",
    "    write(string(\"media/\",filename), frames)\n",
    "    return nothing\n",
    "end # End of the reel gif writing function"
   ]
  },
  {
   "cell_type": "code",
   "execution_count": 45,
   "metadata": {},
   "outputs": [
    {
     "data": {
      "text/plain": [
       "multistep_update"
      ]
     },
     "execution_count": 45,
     "metadata": {},
     "output_type": "execute_result"
    }
   ],
   "source": [
    "\"\"\"\n",
    "    function multistep_update(num_p::Int64,car_id::Int64,\n",
    "        start_frame::Int64,last_frame::Int64;p_dist_vid=false)\n",
    "\n",
    "Returns the mean particle after running multiple steps of filtering\n",
    "\n",
    "# Arguments\n",
    "- `start_frame`: Frame to start filtering from\n",
    "- `last_frame`: Frame to end filtering at\n",
    "- `num_p`: Number of particles\n",
    "\n",
    "# Keyworded arguments\n",
    "- `p_dist_vid`: Default false. Makes a video of particle distribution if true\n",
    "\n",
    "# Returns\n",
    "- `mean_particle`: Dict containing the mean values of the final particle set after filtering\n",
    "\n",
    "# Example\n",
    "```julia\n",
    "# Make a video for particle evolution for vehicle 13 over 500 steps starting from\n",
    "# frame 11 and ending at frame number 60\n",
    "multistep_update(500,13,11,60,p_dist_vid=true)\n",
    "```\n",
    "\"\"\"\n",
    "function multistep_update(num_p::Int64,car_id::Int64,\n",
    "        start_frame::Int64,last_frame::Int64;p_dist_vid=false)\n",
    "\n",
    "    startscene = get_ngsim_scene(start_frame)\n",
    "    startpos,startvel = get_veh_info(startscene,car_id=car_id)\n",
    "\n",
    "    p_set_dict = sample_init_particles(num_p,v=startvel)\n",
    "    plots = []\n",
    "    init_p_mat = to_particleMatrix(p_set_dict)\n",
    "    push!(plots,plot_particles(init_p_mat,0.0))\n",
    "    dt = 0.1 # Multiplies framenum in creating the plot\n",
    "\n",
    "    for framenum in start_frame:last_frame\n",
    "        #print(\"multistep says. Framenum = $(framenum)\\n\")\n",
    "        scene = get_ngsim_scene(framenum+1)\n",
    "        trupos,truvel = get_veh_info(scene,car_id=car_id)\n",
    "        \n",
    "        # Get the scene to start hallucinating from\n",
    "        scene = get_ngsim_scene(framenum)\n",
    "        p_set_new = update_p_one_step(roadway_ngsim,scene,trupos,p_set_dict,car_id=car_id)\n",
    "        p_set_dict = p_set_new\n",
    "        set_for_plotting = to_particleMatrix(p_set_new)\n",
    "        push!(plots,plot_particles(set_for_plotting,framenum*dt))\n",
    "    end\n",
    "\n",
    "        # Find the mean particle after filtering is over\n",
    "        # Defined in `admin.jl`\n",
    "    mean_particle = find_mean_particle(p_set_dict)\n",
    "\n",
    "        # Make a plot of the particle distribution evolution\n",
    "    if p_dist_vid \n",
    "        print(\"Making a particle distribution video\")\n",
    "        date = Dates.now()\n",
    "        make_gif(plots,filename = \"vehid_$(car_id)_$(date).gif\") \n",
    "    end\n",
    "    \n",
    "    return mean_particle\n",
    "end"
   ]
  },
  {
   "cell_type": "code",
   "execution_count": 46,
   "metadata": {},
   "outputs": [
    {
     "data": {
      "text/plain": [
       "obtain_driver_models"
      ]
     },
     "execution_count": 46,
     "metadata": {},
     "output_type": "execute_result"
    }
   ],
   "source": [
    "\"\"\"\n",
    "    function obtain_driver_models(veh_id_list,num_particles,start_frame,last_frame)\n",
    "Driver models for each vehicle in veh_id_list\n",
    "\n",
    "# Arguments\n",
    "- `veh_id_list` List with vehicle ids\n",
    "- `start_frame` Frame to start filtering from\n",
    "- `last_frame` Frame to end hallucination at\n",
    "\n",
    "# Returns\n",
    "- `models` Dict with veh id as key and IDM driver model as value\n",
    "- `final_particles` Dict with veh id as key and avg particle over final particle set as value\n",
    "\n",
    "# Example\n",
    "```julia\n",
    "veh_id_list = [72,75,73,67,69,71,64,59,56,57,62,60,54,55,49,51,48,43,47,39,37,34,44,33,31]\n",
    "model_multimodels,particles_multimodels = obtain_driver_models(veh_id_list,500,300,375)\n",
    "```\n",
    "\"\"\"\n",
    "function obtain_driver_models(veh_id_list,num_particles,start_frame,last_frame)\n",
    "    models = Dict{Int64,DriverModel}() # key is vehicle id, value is driver model\n",
    "    final_particles = Dict{Int64,Dict}() # key is vehicle id, value is final particles\n",
    "        # Loop over all the cars and get their corresponding IDM parameters by particle filter\n",
    "    for veh_id in veh_id_list\n",
    "        print(\"obtain_driver_model says: vehicle id = $(veh_id)\\n\")\n",
    "        mean_particle = multistep_update(num_particles,veh_id,start_frame,last_frame)\n",
    "        final_particles[veh_id] = mean_particle\n",
    "        models[veh_id] = IntelligentDriverModel(;mean_particle...)\n",
    "    end\n",
    "    return models,final_particles\n",
    "end"
   ]
  },
  {
   "cell_type": "code",
   "execution_count": 9,
   "metadata": {},
   "outputs": [
    {
     "data": {
      "text/plain": [
       "keep_vehicle_subset!"
      ]
     },
     "execution_count": 9,
     "metadata": {},
     "output_type": "execute_result"
    }
   ],
   "source": [
    "\"\"\"\n",
    "    function keep_vehicle_subset!(scene::Scene, ids::Vector{Int})\n",
    "Will come in useful to remove those vehicles from video who we do not learn filter for.\n",
    "Obtained from `ngsim_env/julia/src/ngsim_utils.jl`\n",
    "\n",
    "# Arguments\n",
    "- `ids` List of integers with ids of vehicles to be kept\n",
    "- `scene` A scene in which to keep vehicles given in `ids` and remove the rest of the vehicles\n",
    "\n",
    "# Used by\n",
    "- `run_simulation` Only keep those vehicles in the scene for which we have done filtering\n",
    "\n",
    "# Example\n",
    "```julia\n",
    "scene = Scene(500)\n",
    "get!(scene,traj_ngsim,300)\n",
    "keep_vehicle_subset!(scene,veh_id_list)\n",
    "```\n",
    "\"\"\"\n",
    "function keep_vehicle_subset!(scene::Scene, ids::Vector{Int})\n",
    "    keep_ids = Set(ids)\n",
    "    scene_ids = Set([veh.id for veh in scene])\n",
    "    remove_ids = setdiff(scene_ids, keep_ids)\n",
    "    for id in remove_ids\n",
    "        delete!(scene, id)\n",
    "    end\n",
    "    return scene\n",
    "end"
   ]
  },
  {
   "cell_type": "code",
   "execution_count": 47,
   "metadata": {},
   "outputs": [
    {
     "data": {
      "text/plain": [
       "run_simulation"
      ]
     },
     "execution_count": 47,
     "metadata": {},
     "output_type": "execute_result"
    }
   ],
   "source": [
    "\"\"\"\n",
    "    function run_simulation(n_steps,models,start_frame,dt=0.1;ids_to_keep = [])\n",
    "Run a simulation using driver models for specified number of timesteps\n",
    "\n",
    "# Arguments\n",
    "- `n_steps` Number of simulation steps\n",
    "- `start_frame` Frame number to start hallucination from\n",
    "- `models` Dictionary with veh id as key and corresponding driver model as value\n",
    "- `dt` Timestep (default 0.1 for the ngsim dataset)\n",
    "- `ids_to_keep` If not empty, then only vehicles present in `ids_to_keep` are retained\n",
    "\n",
    "# Returns\n",
    "- `rec` Scenerecord which contains the simulation result i.e. frames. CAUTION: Index backward\n",
    "\n",
    "# Possible breakage\n",
    "- `roadway_ngsim` is not passed in as an argument. Will need to make it global\n",
    "- `model_1` hard coded here for the 50 step case starting from frame 10\n",
    "\n",
    "# Example\n",
    "```julia\n",
    "rec = run_simulation(75,models,299,ids_to_keep = veh_id_list)\n",
    "```\n",
    "\"\"\"\n",
    "function run_simulation(n_steps,models,start_frame,dt=0.1;ids_to_keep = [])\n",
    "    scene = Scene(500)\n",
    "    get!(scene,traj_ngsim,start_frame)\n",
    "    \n",
    "    if !isempty(ids_to_keep)\n",
    "        keep_vehicle_subset!(scene,ids_to_keep)\n",
    "    end\n",
    "\n",
    "    rec = SceneRecord(n_steps,dt)\n",
    "    simulate!(rec,scene,roadway_ngsim,models,n_steps)\n",
    "    return rec\n",
    "end"
   ]
  },
  {
   "cell_type": "code",
   "execution_count": 4,
   "metadata": {},
   "outputs": [],
   "source": [
    "\"\"\"\n",
    "    my_overlay\n",
    "Overlaying hallucinated trajectory on the ground truth\n",
    "# Fields\n",
    "- `color::Colorant`\n",
    "- `scene::Scene`\n",
    "\"\"\"\n",
    "# Borrowed from visualization_functions.jl\n",
    "struct my_overlay <: SceneOverlay\n",
    "    scene::Scene\n",
    "    color # Needs to be of form colorant\"Colorname\"\n",
    "end\n",
    "\n",
    "function AutoViz.render!(rendermodel::RenderModel,overlay::my_overlay, \n",
    "        scene::Scene, roadway::Roadway)\n",
    "    AutoViz.render!(rendermodel,overlay.scene,car_color = overlay.color)\n",
    "    return rendermodel\n",
    "end"
   ]
  },
  {
   "cell_type": "code",
   "execution_count": 5,
   "metadata": {},
   "outputs": [],
   "source": [
    "\"\"\"\n",
    "    IDOverlay\n",
    "Display the ID on top of each entity in a scene.\n",
    "# Fields\n",
    "- `color::Colorant`\n",
    "- `font_size::Int64`\n",
    "\"\"\"\n",
    "mutable struct IDOverlay <: SceneOverlay\n",
    "    color::Colorant\n",
    "    font_size::Int\n",
    "end\n",
    "\n",
    "function AutoViz.render!(rendermodel::RenderModel, overlay::IDOverlay, scene::Scene, \n",
    "                            env::E) where E\n",
    "    font_size = overlay.font_size\n",
    "    for veh in scene\n",
    "        add_instruction!(rendermodel, render_text, (\"$(veh.id)\", veh.state.posG.x, \n",
    "                        veh.state.posG.y, font_size, overlay.color), incameraframe=true)\n",
    "    end\n",
    "    return rendermodel\n",
    "end"
   ]
  },
  {
   "cell_type": "code",
   "execution_count": 48,
   "metadata": {},
   "outputs": [
    {
     "data": {
      "text/plain": [
       "make_video"
      ]
     },
     "execution_count": 48,
     "metadata": {},
     "output_type": "execute_result"
    }
   ],
   "source": [
    "\"\"\"\n",
    "    function make_video(;range=nothing,filename=\"output.mp4\")\n",
    "\n",
    "Makes a video of the ngsim dataset on the ngsim roadway taking frame range as input\n",
    "\n",
    "# Overlays\n",
    "- Id number of all vehicles\n",
    "- Timestep as a text overlay\n",
    "\n",
    "# Example \n",
    "```julia\n",
    "make_video(range=11:60,filename=\"ngsim_11to60.mp4\")\n",
    "```\n",
    "\"\"\"\n",
    "function make_video(;range=nothing,filename=\"ngsim_$(range).mp4\")\n",
    "\n",
    "    frames = Frames(MIME(\"image/png\"), fps=5)\n",
    "    scene = Scene(500)\n",
    "    step = 0\n",
    "    for i in range\n",
    "        step= step+1\n",
    "        temp_scene = get!(scene,traj_ngsim,i)\n",
    "        \n",
    "        carcolors = Dict{Int,Colorant}()\n",
    "        for veh in temp_scene\n",
    "            # Color cars green when they are in segment 3\n",
    "            if veh.state.posF.roadind.tag.segment == 3\n",
    "                carcolors[veh.id] = colorant\"green\"\n",
    "            end\n",
    "        end\n",
    "        \n",
    "        scene_visual = render(temp_scene, roadway_ngsim, \n",
    "            [IDOverlay(colorant\"white\",10),TextOverlay(text=[\"step=$(step)\"],font_size=12)],\n",
    "            cam=CarFollowCamera{Int}(51,2.0),\n",
    "            #cam=StaticCamera(VecE2(1966600, 570750), 1.4),\n",
    "            #cam=FitToContentCamera(-0.6),\n",
    "            car_colors = carcolors\n",
    "        )\n",
    "        push!(frames,scene_visual)\n",
    "    end\n",
    "    write(string(\"media/\"*filename),frames)    \n",
    "    \n",
    "    return nothing\n",
    "end"
   ]
  },
  {
   "cell_type": "code",
   "execution_count": 34,
   "metadata": {},
   "outputs": [
    {
     "data": {
      "text/plain": [
       "make_vid_truth_halluc"
      ]
     },
     "execution_count": 34,
     "metadata": {},
     "output_type": "execute_result"
    }
   ],
   "source": [
    "\"\"\"\n",
    "    function make_vid_truth_halluc(start_frame,last_frame,rec;filename=\"output.mp4\",ids_to_keep = [])\n",
    "Video with hallucination overlayed over ground truth trajectory\n",
    "\n",
    "# Arguments\n",
    "- `start_frame` Frame number to start from\n",
    "- `last_frame` Frame number to end at\n",
    "- `rec` SceneRecord which contains hallucinated trajectory\n",
    "- `ids_to_keep` Id not empty list, vehicles in this list will be the only ones in the scene\n",
    "\n",
    "# Overlays used\n",
    "- `my_overlay` To allow overlaying of hallucination on top of ground truth\n",
    "- `IDOverlay` Overlays the vehicle ids on the video\n",
    "\n",
    "# Possible breakages\n",
    "- `traj_highd` We will need to provide this maybe as a global variable\n",
    "- `roadway_highd` Same. We need global variable\n",
    "\n",
    "# Example\n",
    "```julia\n",
    "make_vid_truth_halluc(300,375,rec_multimodel,filename=\"ngsim_halluc.mp4\",ids_to_keep = veh_id_list)\n",
    "```\n",
    "\"\"\"\n",
    "function make_vid_truth_halluc(start_frame,last_frame,rec;filename=\"output.mp4\",ids_to_keep = [])\n",
    "    frames = Frames(MIME(\"image/png\"), fps=10)\n",
    "    scene = Scene(500)\n",
    "\n",
    "    step = 0\n",
    "    for i in start_frame:last_frame\n",
    "        step = step+1\n",
    "        temp_scene = get!(scene,traj_ngsim,i)\n",
    "        if !isempty(ids_to_keep)\n",
    "            keep_vehicle_subset!(temp_scene,ids_to_keep)\n",
    "        end\n",
    "        \n",
    "        my_scene = rec[i-last_frame]\n",
    "        if !isempty(ids_to_keep)\n",
    "            keep_vehicle_subset!(my_scene,ids_to_keep)\n",
    "        end\n",
    "        \n",
    "        overlay_hallucination = my_overlay(my_scene,colorant\"white\")\n",
    "        #overlay_hallucination = my_overlay(rec[i-last_frame],colorant\"white\")\n",
    "        \n",
    "        scene_visual = render(temp_scene, roadway_ngsim, \n",
    "            [overlay_hallucination,IDOverlay(colorant\"white\",12),\n",
    "                TextOverlay(text=[\"step=$step\"],font_size = 14)],\n",
    "            #cam=CarFollowCamera{Int}(2,5.0),\n",
    "            #cam=StaticCamera(VecE2(1966400, 570900), 5.0),\n",
    "            cam=FitToContentCamera(-1.5))\n",
    "        push!(frames,scene_visual)\n",
    "        \n",
    "    end\n",
    "    write(string(\"media/\"*filename),frames)\n",
    "    return nothing\n",
    "end"
   ]
  },
  {
   "cell_type": "code",
   "execution_count": 58,
   "metadata": {},
   "outputs": [
    {
     "data": {
      "text/plain": [
       "make_vid_truth_gail_idm"
      ]
     },
     "execution_count": 58,
     "metadata": {},
     "output_type": "execute_result"
    }
   ],
   "source": [
    "\"\"\"\n",
    "    function make_vid_truth_gail_idm\n",
    "Make a video with ground truth, gail driven and idm driver cars all in one\n",
    "\n",
    "# Example\n",
    "```julia\n",
    "make_vid_truth_gail_idm(300,400,env_rec,rec_multimodels,filename=\"all3.mp4\",ids_to_keep = veh_id_list)\n",
    "```\n",
    "\"\"\"\n",
    "function make_vid_truth_gail_idm(start_frame,last_frame,gail_rec,idm_rec;filename=\"output.mp4\",ids_to_keep = [])\n",
    "    frames = Frames(MIME(\"image/png\"), fps=7)\n",
    "    scene = Scene(500)\n",
    "\n",
    "    step = 0\n",
    "    for i in start_frame:last_frame\n",
    "        step = step+1\n",
    "        true_scene = get!(scene,traj_ngsim,i)\n",
    "        if !isempty(ids_to_keep)\n",
    "            keep_vehicle_subset!(true_scene,ids_to_keep)\n",
    "        end\n",
    "        \n",
    "        gail_scene = gail_rec[i-last_frame]\n",
    "        if !isempty(ids_to_keep)\n",
    "            keep_vehicle_subset!(gail_scene,ids_to_keep)\n",
    "        end\n",
    "        \n",
    "        idm_scene = idm_rec[i-last_frame]\n",
    "        if !isempty(ids_to_keep)\n",
    "            keep_vehicle_subset!(idm_scene,ids_to_keep)\n",
    "        end\n",
    "        \n",
    "        gail_overlay = my_overlay(gail_scene,colorant\"blue\")\n",
    "        idm_overlay = my_overlay(idm_scene,colorant\"yellow\")\n",
    "        \n",
    "        scene_visual = render(true_scene, roadway_ngsim, \n",
    "            [gail_overlay,idm_overlay,IDOverlay(colorant\"white\",12),\n",
    "                TextOverlay(text=[\"step=$step\"],font_size = 14)],\n",
    "            #cam=CarFollowCamera{Int}(2,5.0),\n",
    "            #cam=StaticCamera(VecE2(1966400, 570900), 5.0),\n",
    "            cam=FitToContentCamera(-1.5))\n",
    "        push!(frames,scene_visual)\n",
    "        \n",
    "    end\n",
    "    write(string(\"media/\"*filename),frames)\n",
    "    return nothing\n",
    "end"
   ]
  },
  {
   "cell_type": "markdown",
   "metadata": {},
   "source": [
    "# Workspace"
   ]
  },
  {
   "cell_type": "code",
   "execution_count": 51,
   "metadata": {},
   "outputs": [
    {
     "name": "stdout",
     "output_type": "stream",
     "text": [
      "obtain_driver_model says: vehicle id = 72\n",
      "obtain_driver_model says: vehicle id = 75\n",
      "obtain_driver_model says: vehicle id = 73\n",
      "obtain_driver_model says: vehicle id = 67\n",
      "obtain_driver_model says: vehicle id = 69\n",
      "obtain_driver_model says: vehicle id = 71\n",
      "obtain_driver_model says: vehicle id = 64\n",
      "obtain_driver_model says: vehicle id = 59\n",
      "obtain_driver_model says: vehicle id = 56\n",
      "obtain_driver_model says: vehicle id = 57\n",
      "obtain_driver_model says: vehicle id = 62\n",
      "obtain_driver_model says: vehicle id = 60\n",
      "obtain_driver_model says: vehicle id = 54\n",
      "obtain_driver_model says: vehicle id = 55\n",
      "obtain_driver_model says: vehicle id = 51\n",
      "obtain_driver_model says: vehicle id = 48\n",
      "obtain_driver_model says: vehicle id = 43\n",
      "obtain_driver_model says: vehicle id = 47\n",
      "obtain_driver_model says: vehicle id = 39\n",
      "obtain_driver_model says: vehicle id = 37\n",
      "obtain_driver_model says: vehicle id = 34\n",
      "obtain_driver_model says: vehicle id = 33\n"
     ]
    },
    {
     "data": {
      "text/plain": [
       "(Dict{Int64,DriverModel}(54=>IntelligentDriverModel(NaN, 0.9, 1.0, 4.0, 1.5, 14.2153, 5.0, 3.0, 2.0, 9.0),47=>IntelligentDriverModel(NaN, 1.0, 1.0, 4.0, 1.5, 11.5639, 5.0, 3.0, 2.0, 9.0),69=>IntelligentDriverModel(NaN, 0.9, 1.0, 4.0, 1.5, 9.52681, 5.0, 3.0, 2.0, 9.0),62=>IntelligentDriverModel(NaN, 0.9, 1.0, 4.0, 1.5, 14.7603, 5.0, 3.0, 2.0, 9.0),39=>IntelligentDriverModel(NaN, 1.0, 1.0, 4.0, 1.5, 13.1108, 5.0, 3.0, 2.0, 9.0),43=>IntelligentDriverModel(NaN, 1.0, 1.0, 4.0, 1.5, 20.1009, 5.0, 3.0, 2.0, 9.0),75=>IntelligentDriverModel(NaN, 1.0, 1.0, 4.0, 1.5, 10.6103, 5.0, 3.0, 2.0, 9.0),60=>IntelligentDriverModel(NaN, 1.0, 1.0, 4.0, 1.5, 13.4631, 5.0, 3.0, 2.0, 9.0),55=>IntelligentDriverModel(NaN, 1.0, 1.0, 4.0, 1.5, 16.5902, 5.0, 3.0, 2.0, 9.0),34=>IntelligentDriverModel(NaN, 0.9, 1.0, 4.0, 1.5, 14.2607, 5.0, 3.0, 2.0, 9.0)…), Dict{Int64,Dict}(54=>Dict{Any,Any}(:v_des=>14.2153,:σ=>0.9),47=>Dict{Any,Any}(:v_des=>11.5639,:σ=>1.0),69=>Dict{Any,Any}(:v_des=>9.52681,:σ=>0.9),62=>Dict{Any,Any}(:v_des=>14.7603,:σ=>0.9),39=>Dict{Any,Any}(:v_des=>13.1108,:σ=>1.0),43=>Dict{Any,Any}(:v_des=>20.1009,:σ=>1.0),75=>Dict{Any,Any}(:v_des=>10.6103,:σ=>1.0),60=>Dict{Any,Any}(:v_des=>13.4631,:σ=>1.0),55=>Dict{Any,Any}(:v_des=>16.5902,:σ=>1.0),34=>Dict{Any,Any}(:v_des=>14.2607,:σ=>0.9)…))"
      ]
     },
     "execution_count": 51,
     "metadata": {},
     "output_type": "execute_result"
    }
   ],
   "source": [
    "veh_id_list = [72,75,73,67,69,71,64,59,56,57,62,60,54,55,51,48,43,47,39,37,34,33]\n",
    "    # Let's debug the bounds error issue\n",
    "# veh_id_list = [31,44,49]\n",
    "model_multimodels,particles_multimodels = obtain_driver_models(veh_id_list,500,300,375)"
   ]
  },
  {
   "cell_type": "code",
   "execution_count": 69,
   "metadata": {},
   "outputs": [
    {
     "data": {
      "text/plain": [
       "SceneRecord(nscenes=100)"
      ]
     },
     "execution_count": 69,
     "metadata": {},
     "output_type": "execute_result"
    }
   ],
   "source": [
    "rec_multimodels = run_simulation(100,model_multimodels,299,ids_to_keep=veh_id_list)"
   ]
  },
  {
   "cell_type": "code",
   "execution_count": null,
   "metadata": {},
   "outputs": [],
   "source": [
    "make_vid_truth_halluc(301,375,rec_multimodels,filename=\"ngsim_halluc.mp4\",ids_to_keep = veh_id_list)"
   ]
  },
  {
   "cell_type": "code",
   "execution_count": 70,
   "metadata": {},
   "outputs": [],
   "source": [
    "make_vid_truth_gail_idm(301,400,rec_barrier,rec_multimodels,filename=\"all3.mp4\",ids_to_keep = veh_id_list)"
   ]
  },
  {
   "cell_type": "code",
   "execution_count": 68,
   "metadata": {},
   "outputs": [
    {
     "data": {
      "text/plain": [
       "Dict{Int64,DriverModel} with 22 entries:\n",
       "  54 => IntelligentDriverModel(-0.104399, 0.9, 1.0, 4.0, 1.5, 14.2153, 5.0, 3.0…\n",
       "  47 => IntelligentDriverModel(-0.235967, 1.0, 1.0, 4.0, 1.5, 11.5639, 5.0, 3.0…\n",
       "  69 => IntelligentDriverModel(0.0682286, 0.9, 1.0, 4.0, 1.5, 9.52681, 5.0, 3.0…\n",
       "  62 => IntelligentDriverModel(0.567901, 0.9, 1.0, 4.0, 1.5, 14.7603, 5.0, 3.0,…\n",
       "  39 => IntelligentDriverModel(0.10013, 1.0, 1.0, 4.0, 1.5, 0.0, 5.0, 3.0, 2.0,…\n",
       "  43 => IntelligentDriverModel(0.059199, 1.0, 1.0, 4.0, 1.5, 20.1009, 5.0, 3.0,…\n",
       "  75 => IntelligentDriverModel(0.337163, 1.0, 1.0, 4.0, 1.5, 10.6103, 5.0, 3.0,…\n",
       "  60 => IntelligentDriverModel(0.260351, 1.0, 1.0, 4.0, 1.5, 13.4631, 5.0, 3.0,…\n",
       "  55 => IntelligentDriverModel(0.634789, 1.0, 1.0, 4.0, 1.5, 16.5902, 5.0, 3.0,…\n",
       "  34 => IntelligentDriverModel(0.0982114, 0.9, 1.0, 4.0, 1.5, 14.2607, 5.0, 3.0…\n",
       "  64 => IntelligentDriverModel(0.123388, 0.9, 1.0, 4.0, 1.5, 18.238, 5.0, 3.0, …\n",
       "  59 => IntelligentDriverModel(0.1198, 0.8, 1.0, 4.0, 1.5, 14.3097, 5.0, 3.0, 2…\n",
       "  51 => IntelligentDriverModel(0.0300614, 0.4, 1.0, 4.0, 1.5, 0.0, 5.0, 3.0, 2.…\n",
       "  73 => IntelligentDriverModel(-0.0190729, 0.9, 1.0, 4.0, 1.5, 10.3005, 5.0, 3.…\n",
       "  37 => IntelligentDriverModel(-0.127966, 1.0, 1.0, 4.0, 1.5, 18.7142, 5.0, 3.0…\n",
       "  72 => IntelligentDriverModel(0.224558, 0.7, 1.0, 4.0, 1.5, 16.0709, 5.0, 3.0,…\n",
       "  57 => IntelligentDriverModel(-0.271524, 1.0, 1.0, 4.0, 1.5, 12.4222, 5.0, 3.0…\n",
       "  71 => IntelligentDriverModel(-0.0428301, 1.0, 1.0, 4.0, 1.5, 10.9365, 5.0, 3.…\n",
       "  67 => IntelligentDriverModel(0.10232, 1.0, 1.0, 4.0, 1.5, 12.9819, 5.0, 3.0, …\n",
       "  48 => IntelligentDriverModel(0.0829673, 1.0, 1.0, 4.0, 1.5, 15.4401, 5.0, 3.0…\n",
       "  56 => IntelligentDriverModel(0.170416, 0.6, 1.0, 4.0, 1.5, 17.4933, 5.0, 3.0,…\n",
       "  33 => IntelligentDriverModel(-0.0857084, 1.0, 1.0, 4.0, 1.5, 15.5528, 5.0, 3.…"
      ]
     },
     "execution_count": 68,
     "metadata": {},
     "output_type": "execute_result"
    }
   ],
   "source": [
    "model_multimodels"
   ]
  },
  {
   "cell_type": "markdown",
   "metadata": {},
   "source": [
    "# Scripts"
   ]
  },
  {
   "cell_type": "code",
   "execution_count": null,
   "metadata": {},
   "outputs": [],
   "source": [
    "# Just make a video of replay trajectories. Saves video to media folder\n",
    "make_video(range=300:400)"
   ]
  },
  {
   "cell_type": "code",
   "execution_count": null,
   "metadata": {},
   "outputs": [],
   "source": [
    "# Load gail driven scenerecord from jld and overlay on top of ground truth\n",
    "rec_gail = JLD.load(\"gail_rec.jld\",\"env_rec\")\n",
    "veh_id_list = [72,75,73,67,69,71,64,59,56,57,62,60,54,55,51,48,43,47,39,37,34,33]\n",
    "make_vid_truth_halluc(301,400,rec_gail,\n",
    "    filename = \"gail_halluc_removed.mp4\",ids_to_keep = veh_id_list)"
   ]
  },
  {
   "cell_type": "code",
   "execution_count": 62,
   "metadata": {},
   "outputs": [],
   "source": [
    "# Barrier with gail\n",
    "rec_barrier = JLD.load(\"barrier_rec.jld\",\"env_rec\")\n",
    "veh_id_list = [72,75,73,67,69,71,64,59,56,57,62,60,54,55,51,48,43,47,39,37,34,33]\n",
    "make_vid_truth_halluc(301,400,rec_barrier,filename = \"gail_barrier_id39_id51.mp4\",\n",
    "    ids_to_keep = veh_id_list)"
   ]
  },
  {
   "cell_type": "code",
   "execution_count": null,
   "metadata": {},
   "outputs": [],
   "source": [
    "# The idea of a barrier. Select some of the vehicles to be driven by IDM with v_des =0\n",
    "# In this case, vehicle ids 39 and 51. Drive the rest of the vehicles in the list\n",
    "# using driver models (gail/pf learned idm)\n",
    "model_multimodels[39].v_des = 0\n",
    "model_multimodels[51].v_des = 0\n",
    "rec_multimodels = run_simulation(100,model_multimodels,299,ids_to_keep=veh_id_list)\n",
    "make_vid_truth_gail_idm(301,400,rec_barrier,rec_multimodels,\n",
    "    filename=\"all3.mp4\",ids_to_keep = veh_id_list)"
   ]
  }
 ],
 "metadata": {
  "@webio": {
   "lastCommId": null,
   "lastKernelId": null
  },
  "kernelspec": {
   "display_name": "Julia 1.1.0",
   "language": "julia",
   "name": "julia-1.1"
  },
  "language_info": {
   "file_extension": ".jl",
   "mimetype": "application/julia",
   "name": "julia",
   "version": "1.1.0"
  }
 },
 "nbformat": 4,
 "nbformat_minor": 2
}
