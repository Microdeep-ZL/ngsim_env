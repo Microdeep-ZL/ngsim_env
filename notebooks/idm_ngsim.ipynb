{
 "cells": [
  {
   "cell_type": "markdown",
   "metadata": {},
   "source": [
    "## Make Tim2DDriver work\n",
    "- For `observe!` from `Tim2DDriver` to work, had to make the following changes\n",
    "    - Had to modify `AutomotiveDrivingModels.jl/src/2d/vehicles/scene_records.jl` to extend\n",
    "the default length of the capacity in the record container from 100 to 300\n",
    "    - Did the same capacity extension in `Records.jl/src/frames.jl`, `QueueRecords.jl` and \n",
    "`ListRecords.jl`\n",
    "- Note that querying Tim2DDriver yields a `latLonAccel` return type. Had to create an array\n",
    "to enable these values to work with `step`\n",
    "\n",
    "## Changes to environment file\n",
    "- `LatLonAccel` instead of `AccelTurnRate` because ego vehicles are\n",
    "driven using Tim2DDriver that outputs lat lon accel\n",
    "- Changed the render method to not save images in `/tmp` but instead\n",
    "return the render frame to be able to make videos using Reel"
   ]
  },
  {
   "cell_type": "code",
   "execution_count": null,
   "metadata": {},
   "outputs": [],
   "source": [
    "using NGSIM\n",
    "using AutomotiveDrivingModels\n",
    "using AutoViz\n",
    "using Interact # Make video in notebook\n",
    "using Reel # Save video as gif\n",
    "using CSV # For writing to csv\n",
    "using DataFrames # For writing to csv\n",
    "using PyPlot # For in notebook plotting"
   ]
  },
  {
   "cell_type": "code",
   "execution_count": null,
   "metadata": {},
   "outputs": [],
   "source": [
    "using AutoEnvs\n",
    "\n",
    "n_veh = 10 # Number of ego vehicles\n",
    "# filepath = joinpath(dirname(pathof(NGSIM)), \"..\", \n",
    "#     \"data\", \"trajdata_i80_trajectories-0400-0415.txt\")\n",
    "filepath = joinpath(dirname(pathof(NGSIM)), \"..\", \n",
    "    \"data\", \"trajdata_i101_trajectories-0750am-0805am.txt\")\n",
    "params = Dict(\n",
    "        \"trajectory_filepaths\"=>[filepath],\n",
    "        \"H\"=>200,\n",
    "        \"primesteps\"=>50,\n",
    "        \"n_veh\"=>n_veh,\n",
    "        \"remove_ngsim_veh\"=>false\n",
    ")\n",
    "# env = MultiagentNGSIMEnvVideoMaker(params)\n",
    "env = MultiagentNGSIMEnv(params);\n",
    "timestep = 0.1;"
   ]
  },
  {
   "cell_type": "code",
   "execution_count": null,
   "metadata": {
    "scrolled": true
   },
   "outputs": [],
   "source": [
    "# Sanity check: See if what we have loaded makes sense by rendering a scene\n",
    "# Test like this is what helped catch the NGSIM occursin order reversing issue\n",
    "randi = 5\n",
    "reset(env,random_seed=randi)\n",
    "render(env.scene,env.roadway)"
   ]
  },
  {
   "cell_type": "code",
   "execution_count": null,
   "metadata": {},
   "outputs": [],
   "source": [
    "model = Tim2DDriver(timestep,mlane = MOBIL(timestep));"
   ]
  },
  {
   "cell_type": "code",
   "execution_count": null,
   "metadata": {},
   "outputs": [],
   "source": [
    "# Borrowed from `sisl/gail-driver/validation/validation.jl`\n",
    "# Reduced T to 0.1 to see more aggressive driving\n",
    "# Now wondering how to make the blue vehicle change lanes\n",
    "mlon = IntelligentDriverModel(v_des = 20.0, σ=2.5,k_spd=1.0,T=0.5,s_min=2.0,a_max=3.0,d_cmf=2.5)\n",
    "mlat = ProportionalLaneTracker(σ=0.1, kp=3.0, kd=2.0)\n",
    "mlane = MOBIL(timestep,politeness=0.0,advantage_threshold=0.0,safe_decel=3.0)\n",
    "#mlane = TimLaneChanger(timestep)\n",
    "model = Tim2DDriver(timestep, mlon=mlon, mlat=mlat, mlane=mlane);"
   ]
  },
  {
   "cell_type": "code",
   "execution_count": null,
   "metadata": {},
   "outputs": [],
   "source": [
    "# TODO: How to define a function with only kwargs and no args?\n",
    "function run_one_sim(numsteps)\n",
    "    @show numsteps\n",
    "    traj = zeros(numsteps,n_veh,66) # 66 observations\n",
    "    \n",
    "    data_rmse_t = zeros(numsteps,2)\n",
    "    data_rmse_vel = zeros(numsteps,2)\n",
    "    data_rmse_pos = zeros(numsteps,2)\n",
    "    \n",
    "    hard_brake_sum = 0\n",
    "    \n",
    "    for ii in 1:numsteps\n",
    "    \n",
    "        a = zeros(env.n_veh,2)\n",
    "        \n",
    "        for (jj,veh) in enumerate(env.ego_vehs)\n",
    "            observe!(model,env.scene,env.roadway,veh.id)\n",
    "            latlonacc = rand(model)\n",
    "            a[jj,1] = latlonacc.a_lat\n",
    "            a[jj,2] = latlonacc.a_lon\n",
    "        end\n",
    "        \n",
    "        x, r, terminal, info = step(env, a)\n",
    "        \n",
    "#         @show info # info contains the rmse information\n",
    "        \n",
    "        # Extract rmse information from simulation\n",
    "        vec_rmse_t = info[\"rmse_t\"]\n",
    "        vec_rmse_pos = info[\"rmse_pos\"]\n",
    "        vec_rmse_vel = info[\"rmse_vel\"]\n",
    "        \n",
    "        # Compute means over all the agents in this timestep\n",
    "        mean_rmse_t = mean(vec_rmse_t)\n",
    "        mean_rmse_vel = mean(vec_rmse_vel)\n",
    "        mean_rmse_pos = mean(vec_rmse_pos)\n",
    "        \n",
    "        # Store rmse into array where column 1 is time and col 2 is the value\n",
    "        data_rmse_t[ii,1] = ii-1; data_rmse_t[ii,2] = mean_rmse_t\n",
    "        data_rmse_vel[ii,1] = ii-1; data_rmse_vel[ii,2] = mean_rmse_vel\n",
    "        data_rmse_pos[ii,1] = ii-1; data_rmse_pos[ii,2] = mean_rmse_pos\n",
    "        \n",
    "        \n",
    "        \n",
    "        traj[ii,:,:] = x # x is the features: its num_ego_veh x 66\n",
    "        \n",
    "#         @show sum(x[:,19]) # 19th column of x captures the is colliding 1 or 0\n",
    "        @show size(x)\n",
    "        @show \"yo\"\n",
    "        accel_vec = x[:,9]\n",
    "        \n",
    "        hard_brake_sum += sum(accel_vec .< -1.0)\n",
    "        \n",
    "        dleft_vec = x[:,21]; @show dleft_vec\n",
    "        dright_vec = x[:,22]; @show dright_vec\n",
    "        @show min(dleft_vec,dright_vec)\n",
    "        \n",
    "        @show find(min(x[:,21],x[:,22])<=-1.0)\n",
    "    end\n",
    "    \n",
    "    # Plotting the rmse stuff\n",
    "#     figure(0)\n",
    "#     plot(data_rmse_pos[:,2])\n",
    "#     figure(1)\n",
    "#     plot(data_rmse_t[:,2])\n",
    "#     figure(2)\n",
    "#     plot(data_rmse_vel[:,2])\n",
    "    return traj\n",
    "end"
   ]
  },
  {
   "cell_type": "code",
   "execution_count": null,
   "metadata": {},
   "outputs": [],
   "source": [
    "randi = 15\n",
    "reset(env,random_seed=randi)\n",
    "traj = run_one_sim(1);"
   ]
  },
  {
   "cell_type": "code",
   "execution_count": null,
   "metadata": {},
   "outputs": [],
   "source": [
    "data_rmse_pos"
   ]
  },
  {
   "cell_type": "code",
   "execution_count": null,
   "metadata": {},
   "outputs": [],
   "source": [
    "# If you wanted to write data to CSV files\n",
    "CSV.write(\"rmse_t.csv\",  DataFrame(data_rmse_t), writeheader=false)\n",
    "CSV.write(\"rmse_vel.csv\",  DataFrame(data_rmse_vel), writeheader=false)\n",
    "CSV.write(\"rmse_pos.csv\",  DataFrame(data_rmse_pos), writeheader=false)"
   ]
  },
  {
   "cell_type": "code",
   "execution_count": null,
   "metadata": {},
   "outputs": [],
   "source": [
    "using PyPlot"
   ]
  },
  {
   "cell_type": "code",
   "execution_count": null,
   "metadata": {},
   "outputs": [],
   "source": [
    "plot(data_rmse_pos)"
   ]
  },
  {
   "cell_type": "markdown",
   "metadata": {},
   "source": [
    "## Video making and saving to file"
   ]
  },
  {
   "cell_type": "code",
   "execution_count": null,
   "metadata": {},
   "outputs": [],
   "source": [
    "# Inspired from the drawsim method in AutoViz/doc/AutoViz.ipynb\n",
    "function makevid(t,dt=NaN)\n",
    "    \n",
    "        a = zeros(env.n_veh,2)\n",
    "\n",
    "        for (jj,veh) in enumerate(env.ego_vehs)\n",
    "            observe!(model,env.scene,env.roadway,veh.id)\n",
    "\n",
    "            latlonacc = rand(model)\n",
    "            a[jj,1] = latlonacc.a_lat\n",
    "            a[jj,2] = latlonacc.a_lon\n",
    "        end\n",
    "        x, r, terminal, _ = step(env, a)\n",
    "    render(env)\n",
    "end"
   ]
  },
  {
   "cell_type": "code",
   "execution_count": null,
   "metadata": {},
   "outputs": [],
   "source": [
    "randi = 5\n",
    "reset(env,random_seed=randi)\n",
    "film = roll(makevid, fps=10, duration=5.0)\n",
    "write(\"numveh_$(env.n_veh)_seed_$(randi)_timlane.gif\",film)"
   ]
  },
  {
   "cell_type": "markdown",
   "metadata": {},
   "source": [
    "## Video making using recorded cars on ngsim\n",
    "- Trajdatas is what the car trajectories are stored in\n",
    "- We want to color the ego vehicle differently to be able to see it"
   ]
  },
  {
   "cell_type": "code",
   "execution_count": null,
   "metadata": {},
   "outputs": [],
   "source": [
    "td1 = load_trajdata(1)\n",
    "\n",
    "scene = Scene(500)\n",
    "temp_scene = get!(scene,td1,1000)\n",
    "render(temp_scene,ROADWAY_101)"
   ]
  },
  {
   "cell_type": "code",
   "execution_count": null,
   "metadata": {},
   "outputs": [],
   "source": [
    "# argument 1 loads i101 7:50 to 8:05.\n",
    "# load_trajdata function defined in NGSIM.jl/src/trajdata.jl\n",
    "td1 = load_trajdata(1); \n",
    "\n",
    "scene = Scene(500)\n",
    "egoid = 546\n",
    "\n",
    "# Drive here in the notebook. Replay the trajectory as recorded in the ngsim data\n",
    "@manipulate for i in 2000:2000\n",
    "    temp_scene = get!(scene,td1,i)\n",
    "    \n",
    "    carcolors = Dict{Int,Colorant}()\n",
    "    for veh in temp_scene\n",
    "        #@show veh.id\n",
    "        # if veh id matches the egoid color it blue otherwise green\n",
    "        carcolors[veh.id] = \n",
    "        in(veh.id, egoid) ? colorant\"blue\" : colorant\"green\"\n",
    "    end\n",
    "    render(temp_scene, ROADWAY_101, \n",
    "        cam=CarFollowCamera{Int}(546,5.0),\n",
    "#         cam=StaticCamera(VecE2(1966400, 570900), 5.0),\n",
    "#         cam=FitToContentCamera(0.),\n",
    "        car_colors=carcolors)\n",
    "end"
   ]
  },
  {
   "cell_type": "code",
   "execution_count": null,
   "metadata": {},
   "outputs": [],
   "source": []
  }
 ],
 "metadata": {
  "kernelspec": {
   "display_name": "Julia 1.1.0",
   "language": "julia",
   "name": "julia-1.1"
  },
  "language_info": {
   "file_extension": ".jl",
   "mimetype": "application/julia",
   "name": "julia",
   "version": "1.1.0"
  }
 },
 "nbformat": 4,
 "nbformat_minor": 2
}
