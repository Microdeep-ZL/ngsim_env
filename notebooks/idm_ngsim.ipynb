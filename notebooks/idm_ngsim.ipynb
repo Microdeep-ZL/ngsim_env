{
 "cells": [
  {
   "cell_type": "code",
   "execution_count": 41,
   "metadata": {},
   "outputs": [
    {
     "data": {
      "text/html": [
       "<script>\n",
       "// Immediately-invoked-function-expression to avoid global variables.\n",
       "(function() {\n",
       "    var warning_div = document.getElementById(\"webio-warning-2601564576308862396\");\n",
       "    var hide = function () {\n",
       "        var script = document.getElementById(\"webio-setup-11069035526722981728\");\n",
       "        var parent = script && script.parentElement;\n",
       "        var grandparent = parent && parent.parentElement;\n",
       "        if (grandparent) {\n",
       "            grandparent.style.display = \"none\";\n",
       "        }\n",
       "        warning_div.style.display = \"none\";\n",
       "    };\n",
       "    if (typeof Jupyter !== \"undefined\") {\n",
       "        console.log(\"WebIO detected Jupyter notebook environment.\");\n",
       "        // Jupyter notebook.\n",
       "        var extensions = (\n",
       "            Jupyter\n",
       "            && Jupyter.notebook.config.data\n",
       "            && Jupyter.notebook.config.data.load_extensions\n",
       "        );\n",
       "        if (extensions && extensions[\"webio/main\"]) {\n",
       "            // Extension already loaded.\n",
       "            console.log(\"Jupyter WebIO nbextension detected; not loading ad-hoc.\");\n",
       "            hide();\n",
       "            return;\n",
       "        }\n",
       "        console.warn(\"Loading WebIO Jupyter extension on an ad-hoc basis. Consider enabling the WebIO nbextension for a stabler experience (this should happen automatically when building WebIO).\");\n",
       "        warning_div.innerHTML = \"<strong>Loading WebIO Jupyter extension on an ad-hoc basis. Consider enabling the WebIO nbextension for a stabler experience (this should happen automatically when building WebIO).</strong>\";\n",
       "    } else if (window.location.pathname.includes(\"/lab\")) {\n",
       "        // Guessing JupyterLa\n",
       "        console.log(\"Jupyter Lab detected; make sure the @webio/jupyter-lab-provider labextension is installed.\");\n",
       "        hide();\n",
       "        return;\n",
       "    }\n",
       "})();\n",
       "\n",
       "</script>\n",
       "<p\n",
       "    id=\"webio-warning-2601564576308862396\"\n",
       "    class=\"output_text output_stderr\"\n",
       "    style=\"padding: 1em; font-weight: bold;\"\n",
       ">\n",
       "    Unable to load WebIO. Please make sure WebIO works for your Jupyter client.\n",
       "    For troubleshooting, please see <a href=\"https://juliagizmos.github.io/WebIO.jl/latest/providers/ijulia/\">\n",
       "    the WebIO/IJulia documentation</a>.\n",
       "    <!-- TODO: link to installation docs. -->\n",
       "</p>\n"
      ],
      "text/plain": [
       "HTML{String}(\"<script>\\n// Immediately-invoked-function-expression to avoid global variables.\\n(function() {\\n    var warning_div = document.getElementById(\\\"webio-warning-2601564576308862396\\\");\\n    var hide = function () {\\n        var script = document.getElementById(\\\"webio-setup-11069035526722981728\\\");\\n        var parent = script && script.parentElement;\\n        var grandparent = parent && parent.parentElement;\\n        if (grandparent) {\\n            grandparent.style.display = \\\"none\\\";\\n        }\\n        warning_div.style.display = \\\"none\\\";\\n    };\\n    if (typeof Jupyter !== \\\"undefined\\\") {\\n        console.log(\\\"WebIO detected Jupyter notebook environment.\\\");\\n        // Jupyter notebook.\\n        var extensions = (\\n            Jupyter\\n            && Jupyter.notebook.config.data\\n            && Jupyter.notebook.config.data.load_extensions\\n        );\\n        if (extensions && extensions[\\\"webio/main\\\"]) {\\n            // Extension already loaded.\\n            console.log(\\\"Jupyter WebIO nbextension detected; not loading ad-hoc.\\\");\\n            hide();\\n            return;\\n        }\\n        console.warn(\\\"Loading WebIO Jupyter extension on an ad-hoc basis. Consider enabling the WebIO nbextension for a stabler experience (this should happen automatically when building WebIO).\\\");\\n        warning_div.innerHTML = \\\"<strong>Loading WebIO Jupyter extension on an ad-hoc basis. Consider enabling the WebIO nbextension for a stabler experience (this should happen automatically when building WebIO).</strong>\\\";\\n    } else if (window.location.pathname.includes(\\\"/lab\\\")) {\\n        // Guessing JupyterLa\\n        console.log(\\\"Jupyter Lab detected; make sure the @webio/jupyter-lab-provider labextension is installed.\\\");\\n        hide();\\n        return;\\n    }\\n})();\\n\\n</script>\\n<p\\n    id=\\\"webio-warning-2601564576308862396\\\"\\n    class=\\\"output_text output_stderr\\\"\\n    style=\\\"padding: 1em; font-weight: bold;\\\"\\n>\\n    Unable to load WebIO. Please make sure WebIO works for your Jupyter client.\\n    For troubleshooting, please see <a href=\\\"https://juliagizmos.github.io/WebIO.jl/latest/providers/ijulia/\\\">\\n    the WebIO/IJulia documentation</a>.\\n    <!-- TODO: link to installation docs. -->\\n</p>\\n\")"
      ]
     },
     "metadata": {},
     "output_type": "display_data"
    }
   ],
   "source": [
    "using NGSIM\n",
    "using AutomotiveDrivingModels\n",
    "using AutoViz\n",
    "using Interact # Make video in notebook\n",
    "using Reel # Save video as gif\n",
    "using CSV # For writing to csv\n",
    "using DataFrames # For writing to csv\n",
    "using Distributions\n",
    "using Test\n",
    "using StatsBase\n",
    "using Dates\n",
    "using Plots\n",
    "using JLD"
   ]
  },
  {
   "cell_type": "code",
   "execution_count": 50,
   "metadata": {},
   "outputs": [],
   "source": [
    "include(\"admin_functions.jl\"); # Brings in the functions defined in admin_functions.jl"
   ]
  },
  {
   "cell_type": "code",
   "execution_count": 88,
   "metadata": {},
   "outputs": [],
   "source": [
    "traj_ngsim = open(io->read(io, MIME\"text/plain\"(), Trajdata), \n",
    "    \"trajdata_i101_trajectories-0750am-0805am.txt\", \"r\");\n",
    "roadway_ngsim = open(io->read(io, MIME\"text/plain\"(), Roadway), \n",
    "    \"ngsim_101.txt\", \"r\");"
   ]
  },
  {
   "cell_type": "markdown",
   "metadata": {},
   "source": [
    "# Utils"
   ]
  },
  {
   "cell_type": "code",
   "execution_count": 116,
   "metadata": {
    "code_folding": [
     14,
     34,
     55,
     81,
     102,
     131
    ]
   },
   "outputs": [
    {
     "data": {
      "text/plain": [
       "addnoise"
      ]
     },
     "execution_count": 116,
     "metadata": {},
     "output_type": "execute_result"
    }
   ],
   "source": [
    "\"\"\"\n",
    "    function sample_init_particles(num_p::Int64;v=30.0)\n",
    "\n",
    "Inspired from `gen_test_particles` in `admin.jl`.\n",
    "Samples `num_p` particles neighbourhood around the input `v`\n",
    "\n",
    "# Used by\n",
    "- `multistep_update`\n",
    "\n",
    "# Example\n",
    "```julia\n",
    "sample_init_particles(10,v=20.0)\n",
    "```\n",
    "\"\"\"\n",
    "function sample_init_particles(num_p::Int64;v::Float64=30.0)\n",
    "    v_particles = sample(v-5.0:0.5:v+5.0,num_p)\n",
    "    sig_particles = sample(1.0:0.1:5.0,num_p)\n",
    "    p_set_dict = Dict(:v_des=>v_particles,:σ=>sig_particles)\n",
    "    return p_set_dict\n",
    "end\n",
    "\n",
    "\"\"\"\n",
    "    function get_ngsim_scene(framenum::Int64)\n",
    "\n",
    "Get a specific scene from traj_ngsim\n",
    "\n",
    "# Used by\n",
    "- `multistep_update`\n",
    "\n",
    "# Example:\n",
    "```julia\n",
    "scene = get_ngsim_scene(1)\n",
    "```\n",
    "\"\"\"\n",
    "function get_ngsim_scene(framenum::Int64)\n",
    "    scene = Scene(500)\n",
    "    get!(scene,traj_ngsim,framenum)\n",
    "    return scene\n",
    "end\n",
    "\n",
    "\"\"\"\n",
    "    function get_veh_info(scene;car_id = -1)\n",
    "\n",
    "Get position and velocity of specific vehicle from scene\n",
    "\n",
    "# Used by\n",
    "- `multistep_update`\n",
    "\n",
    "# Example\n",
    "```julia\n",
    "scene = get_highd_scene(7)\n",
    "pos,vel = get_veh_info(scene,car_id = 6)\n",
    "@show pos,vel\n",
    "```\n",
    "\"\"\"\n",
    "function get_veh_info(scene;car_id = -1)\n",
    "    @assert car_id>0\n",
    "    pos = scene.entities[findfirst(car_id,scene)].state.posF.s\n",
    "    vel = scene.entities[findfirst(car_id,scene)].state.v\n",
    "    return pos,vel\n",
    "end\n",
    "\n",
    "\"\"\"\n",
    "    function keep_vehicle_subset!(scene::Scene, ids::Vector{Int})\n",
    "Will come in useful to remove those vehicles from video who we do not learn filter for.\n",
    "Obtained from `ngsim_env/julia/src/ngsim_utils.jl`\n",
    "\n",
    "# Arguments\n",
    "- `ids` List of integers with ids of vehicles to be kept\n",
    "- `scene` A scene in which to keep vehicles given in `ids` and remove the rest of the vehicles\n",
    "\n",
    "# Used by\n",
    "- `run_simulation` Only keep those vehicles in the scene for which we have done filtering\n",
    "\n",
    "# Example\n",
    "```julia\n",
    "scene = Scene(500)\n",
    "get!(scene,traj_ngsim,300)\n",
    "keep_vehicle_subset!(scene,veh_id_list)\n",
    "```\n",
    "\"\"\"\n",
    "function keep_vehicle_subset!(scene::Scene, ids::Vector{Int})\n",
    "    keep_ids = Set(ids)\n",
    "    scene_ids = Set([veh.id for veh in scene])\n",
    "    remove_ids = setdiff(scene_ids, keep_ids)\n",
    "    for id in remove_ids\n",
    "        delete!(scene, id)\n",
    "    end\n",
    "    return scene\n",
    "end\n",
    "\n",
    "\"\"\"\n",
    "    function avg_dist_particles(p_mat,p_fin)\n",
    "Compute the avg distance over particle set from final particle\n",
    "\n",
    "# Arguments\n",
    "- `p_mat`: Matrix with particles in every column\n",
    "- `p_fin`: 2x1 array with the final particle\n",
    "\n",
    "# Example:\n",
    "- See `obtain_driver_models`\n",
    "\"\"\"\n",
    "function avg_dist_particles(p_mat,p_fin)\n",
    "    return sum(sqrt.(sum((p_mat .- p_fin).^2,dims=1)))*1/size(p_mat,2)\n",
    "end\n",
    "\n",
    "\"\"\"\n",
    "    function addnoise\n",
    "Add noise to particles to counter the particle deprivation problem\n",
    "- Used by `multistep_update`\n",
    "# Arguments\n",
    "- `p_set_mat` Matrix with each column being a particle. Row1 has `v_des` and row2 has `sigma`\n",
    "\n",
    "# Returns\n",
    "- `new_set` Set of particles with noise added\n",
    "\n",
    "# Example\n",
    "See `multistep_update`\n",
    "```julia\n",
    "num_p = 10\n",
    "v = 30.\n",
    "v_particles = rand(v-5.0:0.5:v+5.0,1,num_p)\n",
    "sig_particles = rand(0.1:0.1:3.0,1,num_p)\n",
    "p_set = [v_particles;sig_particles]\n",
    "@show p_set\n",
    "scatter(p_set[1,:],p_set[2,:],xlim=(22,36),ylim=(0,4),leg=false,markercolor = \"red\")\n",
    "new_p = addnoise(p_set)\n",
    "@show new_p\n",
    "scatter!(new_p[1,:],new_p[2,:],xlim=(22,36),ylim=(0,4),leg=false,markercolor=\"green\")\n",
    "```\n",
    "\"\"\"\n",
    "function addnoise(p_set_mat,weight_vec)\n",
    "    # Select the elite particles\n",
    "    num_p = size(p_set_mat,2)\n",
    "    num_top = Int(ceil(0.2*num_p))\n",
    "    \n",
    "    sorted_idx = sortperm(weight_vec,rev=true)[1:num_top] \n",
    "    \n",
    "    # Generate permuter for v_des and sigma\n",
    "    v_noise = rand([-0.5,0.,0.5],1,num_top)\n",
    "    sig_noise = rand([-0.1,0.,0.1],1,num_top)\n",
    "    stacked_noise = [v_noise;sig_noise]\n",
    "    \n",
    "    # Add noise only to the elite particles i.e top 20% particles\n",
    "    p_set_mat[:,sorted_idx] = p_set_mat[:,sorted_idx] + stacked_noise\n",
    "    new_set = p_set_mat\n",
    "    \n",
    "    # Impose bounds to avoid sigma becoming 0\n",
    "    new_set[2,findall(new_set[2,:] .< 0.1)] .= 0.1\n",
    "    return new_set\n",
    "end"
   ]
  },
  {
   "cell_type": "code",
   "execution_count": 117,
   "metadata": {
    "code_folding": [
     16,
     57
    ]
   },
   "outputs": [
    {
     "data": {
      "text/plain": [
       "update_p_one_step"
      ]
     },
     "execution_count": 117,
     "metadata": {},
     "output_type": "execute_result"
    }
   ],
   "source": [
    "\"\"\"\n",
    "\n",
    "# Caution\n",
    "- `dt` defined within the function. Here is 0.1, highd had 0.04\n",
    "\n",
    "# Example\n",
    "```julia\n",
    "td1 = load_trajdata(1);\n",
    "scene = Scene(500)\n",
    "get!(scene,td1,300)\n",
    "display(scene.entities[2].state.posF.s)\n",
    "roadway = ROADWAY_101;\n",
    "particle = Dict(:v_des=>25.0,:σ=>0.5)\n",
    "hallucinate_a_step(roadway,scene,particle,car_id=scene.entities[2].id)\n",
    "```\n",
    "\"\"\"\n",
    "function hallucinate_a_step(roadway,scene_input,particle;car_id=-1)\n",
    "    if car_id==-1 @show \"Please give valid car_id\" end\n",
    "    \n",
    "    scene = deepcopy(scene_input)\n",
    "    #scene = scene_input # This was the failure case\n",
    "    n_cars = scene.n \n",
    "\n",
    "    models = Dict{Int, DriverModel}()\n",
    "    \n",
    "    # Create driver models for all the cars in the scene\n",
    "    for veh in scene\n",
    "        if veh.id == car_id\n",
    "            models[veh.id] = IntelligentDriverModel(;particle...)\n",
    "        else\n",
    "            # TODO: RESEARCH QUESTION: What drives the other vehicles in the hallucination\n",
    "            models[veh.id] = IntelligentDriverModel(v_des=10.0)\n",
    "        end\n",
    "    end\n",
    "    \n",
    "    n_steps = 1\n",
    "    dt = 0.1\n",
    "    rec = SceneRecord(n_steps, dt)\n",
    "    \n",
    "    simulate!(rec, scene, roadway, models, n_steps)\n",
    "    \n",
    "    X = Array{Float64}(undef,n_steps, 1)\n",
    "\n",
    "    for t in 1:n_steps\n",
    "        f = rec.frames[n_steps - t + 1]\n",
    "        \n",
    "            # Access the vehicle with id as car_id and return its frenet s\n",
    "        X[t,1] = scene.entities[findfirst(car_id,f)].state.posF.s\n",
    "    end\n",
    "    return X[1]\n",
    "end\n",
    "\n",
    "\"\"\"\n",
    "\n",
    "# Caution\n",
    "- `timestep` defined in the function. Was 0.04 for highd. Here is 0.1\n",
    "\"\"\"\n",
    "function compute_particle_likelihoods(roadway,f,trupos,p_set_dict;car_id=-1)\n",
    "    if car_id==-1 @show \"Please give valid car_id\" end\n",
    "    timestep = 0.1 #TODO: Remove hardcoding\n",
    "    p_mat, params, vec_val_vec = to_matrix_form(p_set_dict)\n",
    "    \n",
    "    num_params=size(p_mat)[1]\n",
    "    num_p = size(p_mat)[2]\n",
    "    lkhd_vec = Array{Float64}(undef,num_p)\n",
    "    for i in 1:num_p    \n",
    "        # Create dict version for a single particle\n",
    "        p_dict = Dict()\n",
    "        for j in 1:num_params\n",
    "            p_dict[params[j]]=vec_val_vec[j][i]\n",
    "        end\n",
    "        \n",
    "        std_dev_acc = p_dict[:σ]\n",
    "        \n",
    "        # hack to avoid the std_dev_pos become negative and error Normal distb\n",
    "        if std_dev_acc <= 0 std_dev_acc = 0.1 end\n",
    "        \n",
    "        # TODO: This math needs to be verified from random variable calculations\n",
    "        std_dev_pos = timestep*timestep*std_dev_acc\n",
    "            \n",
    "        hpos = hallucinate_a_step(roadway,f,p_dict,car_id=car_id)\n",
    "        lkhd_vec[i] = pdf(Normal(hpos,std_dev_pos),trupos[1])\n",
    "    end\n",
    "    return lkhd_vec,p_mat,params\n",
    "end\n",
    "\n",
    "\"\"\"\n",
    "    function update_p_one_step(roadway,f,trupos,p_set_dict;car_id=-1)\n",
    "\n",
    "New particle set based on one step of resampling\n",
    "\"\"\"\n",
    "function update_p_one_step(roadway,f,trupos,p_set_dict;car_id=-1)\n",
    "    if car_id==-1 @show \"Provide valid car_id\" end\n",
    "    \n",
    "    lkhd_vec,p_mat,params = compute_particle_likelihoods(roadway,f,trupos,p_set_dict,\n",
    "                                                        car_id=car_id)\n",
    "    \n",
    "    num_params = size(p_mat)[1]\n",
    "    num_p = size(p_mat)[2]\n",
    "\n",
    "    ll_vec = log.(lkhd_vec)\n",
    "    \n",
    "    # TODO: This is hacky. What if log is not negative\n",
    "    for i in 1:num_p\n",
    "        if isinf(ll_vec[i])\n",
    "            ll_vec[i] = 0\n",
    "        else\n",
    "            ll_vec[i] = -1*1/ll_vec[i]\n",
    "        end\n",
    "    end\n",
    "    \n",
    "    p_weight_vec = weights(ll_vec./sum(ll_vec)) # Convert to weights form to use julia sampling\n",
    "    idx = sample(1:num_p,p_weight_vec,num_p)\n",
    "    new_p_mat = p_mat[:,idx] #Careful that idx is (size,1) and not (size,2)\n",
    "    \n",
    "    new_p_set_dict = to_dict_form(params,new_p_mat)\n",
    "    return new_p_set_dict, p_weight_vec\n",
    "end"
   ]
  },
  {
   "cell_type": "code",
   "execution_count": 90,
   "metadata": {
    "code_folding": [
     17
    ]
   },
   "outputs": [
    {
     "data": {
      "text/plain": [
       "plot_particles"
      ]
     },
     "execution_count": 90,
     "metadata": {},
     "output_type": "execute_result"
    }
   ],
   "source": [
    "\"\"\"\n",
    "    function plot_particles(p_set_mat::Array{Float64,2},time::Float64)\n",
    "\n",
    "Plot the distribution of particles\n",
    "# Caution \n",
    "Only work for 2 parameters. Not developed for 3 parameter case yet\n",
    "\n",
    "# Used by\n",
    "- `multistep_update`\n",
    "\n",
    "# Example:\n",
    "```julia\n",
    "set_for_plotting = to_particleMatrix(p_set_new)\n",
    "plots = []\n",
    "push!(plots,plot_particles(set_for_plotting,framenum*0.04))\n",
    "```\n",
    "\"\"\"\n",
    "function plot_particles(p_set_mat::Array{Float64,2},time::Float64)\n",
    "    # Check that number of params does not exceed 3\n",
    "    \n",
    "    @assert size(p_set_mat,1) <= 3\n",
    "    plt = Plots.plot()\n",
    "    # 2 parameter case\t\n",
    "    if size(p_set_mat,1) == 2\n",
    "        plt = scatter(p_set_mat[1,:],p_set_mat[2,:],\n",
    "            leg=false,title=\"time=$(time)\",xlim=(25,35),ylim=(0,1.2),\n",
    "                xlabel=\"v_des(m/s)\",ylabel=\"sigma\")\n",
    "\n",
    "    # 3 parameter case\n",
    "    else\n",
    "        plt = scatter(p_set_mat[1,:],p_set_mat[2,:],p_set_mat[3,:],leg=false)\n",
    "        scatter!([true_params[1]],[true_params[2]],[true_params[3]])\n",
    "    end\n",
    "    return plt\n",
    "end"
   ]
  },
  {
   "cell_type": "code",
   "execution_count": 44,
   "metadata": {
    "code_folding": [
     8,
     26,
     31,
     44,
     49,
     73,
     128,
     184
    ]
   },
   "outputs": [
    {
     "data": {
      "text/plain": [
       "make_gif"
      ]
     },
     "execution_count": 44,
     "metadata": {},
     "output_type": "execute_result"
    }
   ],
   "source": [
    "\"\"\"\n",
    "    function make_gif(plots;filename=\"output.mp4\")\n",
    "Make a video using an array of plots. Uses the Reel library\n",
    "\n",
    "# Used by\n",
    "- `multistep_update`\n",
    "\"\"\"\n",
    "function make_gif(plots;filename=\"output.mp4\")\n",
    "@assert typeof(filename) == String\n",
    "#@show \"Making gif\"\n",
    "    frames = Frames(MIME(\"image/png\"), fps=10)\n",
    "    for plt in plots\n",
    "        push!(frames, plt)\n",
    "    end\n",
    "    write(string(\"media/\",filename), frames)\n",
    "    return nothing\n",
    "end # End of the reel gif writing function\n",
    "\n",
    "\"\"\"\n",
    "    my_overlay\n",
    "Overlaying hallucinated trajectory on the ground truth\n",
    "# Fields\n",
    "- `color::Colorant`\n",
    "- `scene::Scene`\n",
    "\"\"\"\n",
    "# Borrowed from visualization_functions.jl\n",
    "struct my_overlay <: SceneOverlay\n",
    "    scene::Scene\n",
    "    color # Needs to be of form colorant\"Colorname\"\n",
    "end\n",
    "\n",
    "function AutoViz.render!(rendermodel::RenderModel,overlay::my_overlay, \n",
    "        scene::Scene, roadway::Roadway)\n",
    "    AutoViz.render!(rendermodel,overlay.scene,car_color = overlay.color)\n",
    "    return rendermodel\n",
    "end\n",
    "\n",
    "\"\"\"\n",
    "    IDOverlay\n",
    "Display the ID on top of each entity in a scene.\n",
    "# Fields\n",
    "- `color::Colorant`\n",
    "- `font_size::Int64`\n",
    "\"\"\"\n",
    "mutable struct IDOverlay <: SceneOverlay\n",
    "    color::Colorant\n",
    "    font_size::Int\n",
    "end\n",
    "\n",
    "function AutoViz.render!(rendermodel::RenderModel, overlay::IDOverlay, scene::Scene, \n",
    "                            env::E) where E\n",
    "    font_size = overlay.font_size\n",
    "    for veh in scene\n",
    "        add_instruction!(rendermodel, render_text, (\"$(veh.id)\", veh.state.posG.x, \n",
    "                        veh.state.posG.y, font_size, overlay.color), incameraframe=true)\n",
    "    end\n",
    "    return rendermodel\n",
    "end\n",
    "\n",
    "\"\"\"\n",
    "    function make_video(;range=nothing,filename=\"output.mp4\")\n",
    "\n",
    "Makes a video of the ngsim dataset on the ngsim roadway taking frame range as input\n",
    "\n",
    "# Overlays\n",
    "- Id number of all vehicles\n",
    "- Timestep as a text overlay\n",
    "\n",
    "# Example \n",
    "```julia\n",
    "make_video(range=11:60,filename=\"ngsim_11to60.mp4\")\n",
    "```\n",
    "\"\"\"\n",
    "function make_video(;range=nothing,filename=\"ngsim_$(range).mp4\")\n",
    "\n",
    "    frames = Frames(MIME(\"image/png\"), fps=5)\n",
    "    scene = Scene(500)\n",
    "    step = 0\n",
    "    for i in range\n",
    "        step= step+1\n",
    "        temp_scene = get!(scene,traj_ngsim,i)\n",
    "        \n",
    "        carcolors = Dict{Int,Colorant}()\n",
    "        for veh in temp_scene\n",
    "            # Color cars green when they are in segment 3\n",
    "            if veh.state.posF.roadind.tag.segment == 3\n",
    "                carcolors[veh.id] = colorant\"green\"\n",
    "            end\n",
    "        end\n",
    "        \n",
    "        scene_visual = render(temp_scene, roadway_ngsim, \n",
    "            [IDOverlay(colorant\"white\",10),TextOverlay(text=[\"step=$(step)\"],font_size=12)],\n",
    "            cam=CarFollowCamera{Int}(51,2.0),\n",
    "            #cam=StaticCamera(VecE2(1966600, 570750), 1.4),\n",
    "            #cam=FitToContentCamera(-0.6),\n",
    "            car_colors = carcolors\n",
    "        )\n",
    "        push!(frames,scene_visual)\n",
    "    end\n",
    "    write(string(\"media/\"*filename),frames)    \n",
    "    \n",
    "    return nothing\n",
    "end\n",
    "\n",
    "\"\"\"\n",
    "    function make_vid_truth_halluc(start_frame,last_frame,rec;filename=\"output.mp4\",ids_to_keep = [])\n",
    "Video with hallucination overlayed over ground truth trajectory\n",
    "\n",
    "# Arguments\n",
    "- `start_frame` Frame number to start from\n",
    "- `last_frame` Frame number to end at\n",
    "- `rec` SceneRecord which contains hallucinated trajectory\n",
    "- `ids_to_keep` Id not empty list, vehicles in this list will be the only ones in the scene\n",
    "\n",
    "# Overlays used\n",
    "- `my_overlay` To allow overlaying of hallucination on top of ground truth\n",
    "- `IDOverlay` Overlays the vehicle ids on the video\n",
    "\n",
    "# Possible breakages\n",
    "- `traj_highd` We will need to provide this maybe as a global variable\n",
    "- `roadway_highd` Same. We need global variable\n",
    "\n",
    "# Example\n",
    "```julia\n",
    "make_vid_truth_halluc(300,375,rec_multimodel,filename=\"ngsim_halluc.mp4\",ids_to_keep = veh_id_list)\n",
    "```\n",
    "\"\"\"\n",
    "function make_vid_truth_halluc(start_frame,last_frame,rec;filename=\"output.mp4\",ids_to_keep = [])\n",
    "print(\"Making video. Filename = $(filename)\\n\")\n",
    "    frames = Frames(MIME(\"image/png\"), fps=10)\n",
    "    scene = Scene(500)\n",
    "\n",
    "    step = 0\n",
    "    for i in start_frame:last_frame\n",
    "        step = step+1\n",
    "        @show step\n",
    "        \n",
    "        true_scene = get!(scene,traj_ngsim,i)\n",
    "        if !isempty(ids_to_keep)\n",
    "            keep_vehicle_subset!(true_scene,ids_to_keep)\n",
    "        end\n",
    "        \n",
    "        halluc_scene = rec[i-last_frame]\n",
    "        if !isempty(ids_to_keep)\n",
    "            keep_vehicle_subset!(halluc_scene,ids_to_keep)\n",
    "        end\n",
    "        \n",
    "        overlay_truth = my_overlay(true_scene,colorant\"white\")\n",
    "        #overlay_hallucination = my_overlay(rec[i-last_frame],colorant\"white\")\n",
    "\n",
    "            # Make the ground truth vehicles white\n",
    "        halluc_colors = Dict{Int64,Colorant}()\n",
    "        for veh in halluc_scene\n",
    "            halluc_colors[veh.id] = colorant\"blue\"\n",
    "        end\n",
    "        \n",
    "        \n",
    "        scene_visual = render(halluc_scene, roadway_ngsim,\n",
    "            [overlay_truth,\n",
    "                IDOverlay(colorant\"white\",12),\n",
    "                NeighborsOverlay(55), # To make the features rays\n",
    "                #NeighborsOverlay(57),\n",
    "                TextOverlay(text=[\"step=$step\"],font_size = 14)\n",
    "                ],\n",
    "            car_colors = halluc_colors,\n",
    "            #cam=CarFollowCamera{Int}(2,5.0),\n",
    "            #cam=StaticCamera(VecE2(1966400, 570900), 5.0),\n",
    "            cam=FitToContentCamera(-1.5))\n",
    "        push!(frames,scene_visual)\n",
    "        \n",
    "    end\n",
    "    write(string(\"media/\"*filename),frames)\n",
    "    return nothing\n",
    "end\n",
    "\n",
    "\"\"\"\n",
    "    function make_vid_truth_gail_idm\n",
    "Make a video with ground truth, gail driven and idm driver cars all in one\n",
    "\n",
    "# Example\n",
    "```julia\n",
    "make_vid_truth_gail_idm(300,400,env_rec,rec_multimodels,filename=\"all3.mp4\",ids_to_keep = veh_id_list)\n",
    "```\n",
    "\"\"\"\n",
    "function make_vid_truth_gail_idm(start_frame,last_frame,gail_rec,idm_rec;filename=\"output.mp4\",ids_to_keep = [])\n",
    "    frames = Frames(MIME(\"image/png\"), fps=7)\n",
    "    scene = Scene(500)\n",
    "\n",
    "    step = 0\n",
    "    for i in start_frame:last_frame\n",
    "        step = step+1\n",
    "        true_scene = get!(scene,traj_ngsim,i)\n",
    "        if !isempty(ids_to_keep)\n",
    "            keep_vehicle_subset!(true_scene,ids_to_keep)\n",
    "        end\n",
    "        \n",
    "        gail_scene = gail_rec[i-last_frame]\n",
    "        if !isempty(ids_to_keep)\n",
    "            keep_vehicle_subset!(gail_scene,ids_to_keep)\n",
    "        end\n",
    "        \n",
    "        idm_scene = idm_rec[i-last_frame]\n",
    "        if !isempty(ids_to_keep)\n",
    "            keep_vehicle_subset!(idm_scene,ids_to_keep)\n",
    "        end\n",
    "        \n",
    "        gail_overlay = my_overlay(gail_scene,colorant\"blue\")\n",
    "        idm_overlay = my_overlay(idm_scene,colorant\"yellow\")\n",
    "        \n",
    "            # Make the ground truth vehicles white\n",
    "        ground_truth_colors = Dict{Int64,Colorant}()\n",
    "        for veh in true_scene\n",
    "            ground_truth_colors[veh.id] = colorant\"white\"\n",
    "        end\n",
    "        \n",
    "        scene_visual = render(true_scene, roadway_ngsim, car_colors=ground_truth_colors,\n",
    "            [gail_overlay,idm_overlay,IDOverlay(colorant\"white\",12),\n",
    "                TextOverlay(text=[\"step=$step\"],font_size = 14)],\n",
    "            #cam=CarFollowCamera{Int}(2,5.0),\n",
    "            #cam=StaticCamera(VecE2(1966400, 570900), 5.0),\n",
    "            cam=FitToContentCamera(-1.5))\n",
    "        push!(frames,scene_visual)\n",
    "        \n",
    "    end\n",
    "    write(string(\"media/\"*filename),frames)\n",
    "    return nothing\n",
    "end"
   ]
  },
  {
   "cell_type": "code",
   "execution_count": 118,
   "metadata": {
    "code_folding": [
     25
    ]
   },
   "outputs": [
    {
     "data": {
      "text/plain": [
       "multistep_update"
      ]
     },
     "execution_count": 118,
     "metadata": {},
     "output_type": "execute_result"
    }
   ],
   "source": [
    "\"\"\"\n",
    "    function multistep_update(num_p::Int64,car_id::Int64,\n",
    "        start_frame::Int64,last_frame::Int64;p_dist_vid=false)\n",
    "\n",
    "Returns the mean particle after running multiple steps of filtering\n",
    "\n",
    "# Arguments\n",
    "- `start_frame`: Frame to start filtering from\n",
    "- `last_frame`: Frame to end filtering at\n",
    "- `num_p`: Number of particles\n",
    "\n",
    "# Keyworded arguments\n",
    "- `p_dist_vid`: Default false. Makes a video of particle distribution if true\n",
    "\n",
    "# Returns\n",
    "- `mean_particle`: Dict containing the mean values of the final particle set after filtering\n",
    "- `iterwise_p_set`: List with particle set at each iteration\n",
    "\n",
    "# Example\n",
    "```julia\n",
    "# Make a video for particle evolution for vehicle 13 over 500 steps starting from\n",
    "# frame 11 and ending at frame number 60\n",
    "multistep_update(500,13,11,60,p_dist_vid=true)\n",
    "```\n",
    "\"\"\"\n",
    "function multistep_update(num_p::Int64,car_id::Int64,\n",
    "        start_frame::Int64,last_frame::Int64;p_dist_vid=false)\n",
    "\n",
    "    startscene = get_ngsim_scene(start_frame)\n",
    "    startpos,startvel = get_veh_info(startscene,car_id=car_id)\n",
    "\n",
    "    p_set_dict = sample_init_particles(num_p,v=startvel)\n",
    "    \n",
    "    plots = []\n",
    "    init_p_mat = to_particleMatrix(p_set_dict)\n",
    "    push!(plots,plot_particles(init_p_mat,0.0))\n",
    "    \n",
    "    dt = 0.1 # Multiplies framenum in creating the plot\n",
    "\n",
    "    iterwise_p_set = [] # Stores particle set at every iteration\n",
    "    push!(iterwise_p_set,init_p_mat)\n",
    "    \n",
    "    for framenum in start_frame:last_frame\n",
    "        #print(\"multistep says. Framenum = $(framenum)\\n\")\n",
    "        scene = get_ngsim_scene(framenum+1)\n",
    "        trupos,truvel = get_veh_info(scene,car_id=car_id)\n",
    "        \n",
    "        # Get the scene to start hallucinating from\n",
    "        scene = get_ngsim_scene(framenum)\n",
    "        p_set_new, weight_vec = update_p_one_step(roadway_ngsim,scene,trupos,p_set_dict,car_id=car_id)\n",
    "        #p_set_dict = p_set_new\n",
    "        \n",
    "            # We need a matrix form to be able to add noise\n",
    "            # Then we need to convert that back to the dict form at the end\n",
    "        params = [:v_des,:σ]\n",
    "        p_set_dict = to_dict_form(params,addnoise(to_particleMatrix(p_set_new),weight_vec))\n",
    "        \n",
    "        #set_for_plotting = to_particleMatrix(p_set_new) # Matrix form of particle dict\n",
    "        \n",
    "            # With noise addition\n",
    "        set_for_plotting = to_particleMatrix(p_set_dict)\n",
    "        push!(plots,plot_particles(set_for_plotting,framenum*dt))\n",
    "        push!(iterwise_p_set,set_for_plotting)\n",
    "    end\n",
    "\n",
    "        # Find the mean particle after filtering is over\n",
    "        # Defined in `admin.jl`\n",
    "    mean_particle = find_mean_particle(p_set_dict)\n",
    "\n",
    "        # Make a plot of the particle distribution evolution\n",
    "    if p_dist_vid \n",
    "        print(\"Making a particle distribution video\")\n",
    "        date = Dates.now()\n",
    "        make_gif(plots,filename = \"vehid_$(car_id)_$(date).gif\") \n",
    "    end\n",
    "    \n",
    "    return mean_particle,iterwise_p_set\n",
    "end"
   ]
  },
  {
   "cell_type": "code",
   "execution_count": 125,
   "metadata": {
    "code_folding": [
     20
    ]
   },
   "outputs": [
    {
     "data": {
      "text/plain": [
       "obtain_driver_models"
      ]
     },
     "execution_count": 125,
     "metadata": {},
     "output_type": "execute_result"
    }
   ],
   "source": [
    "\"\"\"\n",
    "    function obtain_driver_models(veh_id_list,num_particles,start_frame,last_frame)\n",
    "Driver models for each vehicle in veh_id_list\n",
    "\n",
    "# Arguments\n",
    "- `veh_id_list` List with vehicle ids\n",
    "- `start_frame` Frame to start filtering from\n",
    "- `last_frame` Frame to end hallucination at\n",
    "\n",
    "# Returns\n",
    "- `models` Dict with veh id as key and IDM driver model as value\n",
    "- `final_particles` Dict with veh id as key and avg particle over final particle set as value\n",
    "- `mean_dist_mat`: Every elem is the mean dist of particle set at that iter (row) for that car (column)\n",
    "\n",
    "# Example\n",
    "```julia\n",
    "veh_id_list = [72,75,73,67,69,71,64,59,56,57,62,60,54,55,49,51,48,43,47,39,37,34,44,33,31]\n",
    "model_multimodels,particles_multimodels = obtain_driver_models(veh_id_list,500,300,375)\n",
    "```\n",
    "\"\"\"\n",
    "function obtain_driver_models(veh_id_list,num_particles,start_frame,last_frame)\n",
    "    models = Dict{Int64,DriverModel}() # key is vehicle id, value is driver model\n",
    "    final_particles = Dict{Int64,Dict}() # key is vehicle id, value is final particles\n",
    "    \n",
    "        # Loop over all the cars and get their corresponding IDM parameters by particle filter\n",
    "    num_cars = length(veh_id_list)\n",
    "    num_iters = last_frame-start_frame+2 # NEED TO CONFIRM THIS\n",
    "    \n",
    "        # num_iters x num_cars. Every elem is the mean dist of particle set at that iter for that car\n",
    "    mean_dist_mat = fill(0.,num_iters,num_cars)\n",
    "    \n",
    "    for (ii,veh_id) in enumerate(veh_id_list)\n",
    "        print(\"obtain_driver_model says: vehicle id = $(veh_id)\\n\")\n",
    "        mean_particle, iterwise_p_set = multistep_update(num_particles,veh_id,start_frame,last_frame)\n",
    "        final_particles[veh_id] = mean_particle\n",
    "        models[veh_id] = IntelligentDriverModel(;mean_particle...)\n",
    "        \n",
    "            # Get the mean distance from final particle over iterations\n",
    "        p_fin = fill(0.,2,1)\n",
    "        i = 0\n",
    "        for (k,v) in mean_particle\n",
    "            i = i+1\n",
    "            p_fin[i] = v\n",
    "        end\n",
    "        \n",
    "        # num_iters = length(iterwise_p_set) # SHOULD MATCH OUTSIDE LOOP VARIABLE\n",
    "        mean_dist_over_iters = fill(0.,num_iters,1)\n",
    "        for (jj,p_mat) in enumerate(iterwise_p_set)\n",
    "            mean_dist_over_iters[jj,1] = avg_dist_particles(p_mat,p_fin)\n",
    "        end\n",
    "        \n",
    "        mean_dist_mat[:,ii] = mean_dist_over_iters    \n",
    "    end\n",
    "    \n",
    "        # Average over the cars and plot the filtering progress over frames\n",
    "    #avg_over_cars = mean(mean_dist_mat,dims=2)\n",
    "    #plot(avg_over_cars)\n",
    "    \n",
    "    return models,final_particles, mean_dist_mat\n",
    "end"
   ]
  },
  {
   "cell_type": "code",
   "execution_count": 47,
   "metadata": {
    "code_folding": [
     23
    ]
   },
   "outputs": [
    {
     "data": {
      "text/plain": [
       "run_simulation"
      ]
     },
     "execution_count": 47,
     "metadata": {},
     "output_type": "execute_result"
    }
   ],
   "source": [
    "\"\"\"\n",
    "    function run_simulation(n_steps,models,start_frame,dt=0.1;ids_to_keep = [])\n",
    "Run a simulation using driver models for specified number of timesteps\n",
    "\n",
    "# Arguments\n",
    "- `n_steps` Number of simulation steps\n",
    "- `start_frame` Frame number to start hallucination from\n",
    "- `models` Dictionary with veh id as key and corresponding driver model as value\n",
    "- `dt` Timestep (default 0.1 for the ngsim dataset)\n",
    "- `ids_to_keep` If not empty, then only vehicles present in `ids_to_keep` are retained\n",
    "\n",
    "# Returns\n",
    "- `rec` Scenerecord which contains the simulation result i.e. frames. CAUTION: Index backward\n",
    "\n",
    "# Possible breakage\n",
    "- `roadway_ngsim` is not passed in as an argument. Will need to make it global\n",
    "- `model_1` hard coded here for the 50 step case starting from frame 10\n",
    "\n",
    "# Example\n",
    "```julia\n",
    "rec = run_simulation(75,models,299,ids_to_keep = veh_id_list)\n",
    "```\n",
    "\"\"\"\n",
    "function run_simulation(n_steps,models,start_frame,dt=0.1;ids_to_keep = [])\n",
    "    scene = Scene(500)\n",
    "    get!(scene,traj_ngsim,start_frame)\n",
    "    \n",
    "    if !isempty(ids_to_keep)\n",
    "        keep_vehicle_subset!(scene,ids_to_keep)\n",
    "    end\n",
    "\n",
    "    rec = SceneRecord(n_steps,dt)\n",
    "    simulate!(rec,scene,roadway_ngsim,models,n_steps)\n",
    "    return rec\n",
    "end"
   ]
  },
  {
   "cell_type": "markdown",
   "metadata": {},
   "source": [
    "# Workspace"
   ]
  },
  {
   "cell_type": "code",
   "execution_count": 96,
   "metadata": {},
   "outputs": [
    {
     "name": "stdout",
     "output_type": "stream",
     "text": [
      "obtain_driver_model says: vehicle id = 72\n",
      "obtain_driver_model says: vehicle id = 75\n",
      "obtain_driver_model says: vehicle id = 73\n",
      "obtain_driver_model says: vehicle id = 67\n",
      "obtain_driver_model says: vehicle id = 69\n",
      "obtain_driver_model says: vehicle id = 71\n",
      "obtain_driver_model says: vehicle id = 64\n",
      "obtain_driver_model says: vehicle id = 59\n",
      "obtain_driver_model says: vehicle id = 56\n",
      "obtain_driver_model says: vehicle id = 57\n",
      "obtain_driver_model says: vehicle id = 62\n",
      "obtain_driver_model says: vehicle id = 60\n",
      "obtain_driver_model says: vehicle id = 54\n",
      "obtain_driver_model says: vehicle id = 55\n",
      "obtain_driver_model says: vehicle id = 51\n",
      "obtain_driver_model says: vehicle id = 48\n",
      "obtain_driver_model says: vehicle id = 43\n",
      "obtain_driver_model says: vehicle id = 47\n",
      "obtain_driver_model says: vehicle id = 39\n",
      "obtain_driver_model says: vehicle id = 37\n",
      "obtain_driver_model says: vehicle id = 34\n",
      "obtain_driver_model says: vehicle id = 33\n"
     ]
    },
    {
     "data": {
      "text/plain": [
       "(Dict{Int64,DriverModel}(54=>IntelligentDriverModel(NaN, 0.9, 1.0, 4.0, 1.5, 14.7153, 5.0, 3.0, 2.0, 9.0),47=>IntelligentDriverModel(NaN, 0.9, 1.0, 4.0, 1.5, 11.5639, 5.0, 3.0, 2.0, 9.0),69=>IntelligentDriverModel(NaN, 0.8, 1.0, 4.0, 1.5, 10.5268, 5.0, 3.0, 2.0, 9.0),62=>IntelligentDriverModel(NaN, 0.8, 1.0, 4.0, 1.5, 14.7603, 5.0, 3.0, 2.0, 9.0),39=>IntelligentDriverModel(NaN, 1.0, 1.0, 4.0, 1.5, 15.1108, 5.0, 3.0, 2.0, 9.0),43=>IntelligentDriverModel(NaN, 1.0, 1.0, 4.0, 1.5, 20.6009, 5.0, 3.0, 2.0, 9.0),75=>IntelligentDriverModel(NaN, 0.4, 1.0, 4.0, 1.5, 14.6103, 5.0, 3.0, 2.0, 9.0),60=>IntelligentDriverModel(NaN, 1.0, 1.0, 4.0, 1.5, 13.4631, 5.0, 3.0, 2.0, 9.0),55=>IntelligentDriverModel(NaN, 1.0, 1.0, 4.0, 1.5, 13.1242, 5.0, 3.0, 2.0, 9.0),34=>IntelligentDriverModel(NaN, 0.7, 1.0, 4.0, 1.5, 17.2607, 5.0, 3.0, 2.0, 9.0)…), Dict{Int64,Dict}(54=>Dict{Any,Any}(:v_des=>14.7153,:σ=>0.9),47=>Dict{Any,Any}(:v_des=>11.5639,:σ=>0.9),69=>Dict{Any,Any}(:v_des=>10.5268,:σ=>0.8),62=>Dict{Any,Any}(:v_des=>14.7603,:σ=>0.8),39=>Dict{Any,Any}(:v_des=>15.1108,:σ=>1.0),43=>Dict{Any,Any}(:v_des=>20.6009,:σ=>1.0),75=>Dict{Any,Any}(:v_des=>14.6103,:σ=>0.4),60=>Dict{Any,Any}(:v_des=>13.4631,:σ=>1.0),55=>Dict{Any,Any}(:v_des=>13.1242,:σ=>1.0),34=>Dict{Any,Any}(:v_des=>17.2607,:σ=>0.7)…))"
      ]
     },
     "execution_count": 96,
     "metadata": {},
     "output_type": "execute_result"
    }
   ],
   "source": [
    "veh_id_list = [72,75,73,67,69,71,64,59,56,57,62,60,54,55,51,48,43,47,39,37,34,33]\n",
    "    # Let's debug the bounds error issue\n",
    "# veh_id_list = [31,44,49]\n",
    "model_multimodels,particles_multimodels = obtain_driver_models(veh_id_list,500,300,375)"
   ]
  },
  {
   "cell_type": "code",
   "execution_count": null,
   "metadata": {},
   "outputs": [],
   "source": [
    "# Save the learned models in a jld file to avoid the training process in future\n",
    "save(\"idm_models.jld\",)"
   ]
  },
  {
   "cell_type": "code",
   "execution_count": 98,
   "metadata": {},
   "outputs": [
    {
     "data": {
      "text/plain": [
       "SceneRecord(nscenes=100)"
      ]
     },
     "execution_count": 98,
     "metadata": {},
     "output_type": "execute_result"
    }
   ],
   "source": [
    "rec_multimodels = run_simulation(100,model_multimodels,299,ids_to_keep=veh_id_list)"
   ]
  },
  {
   "cell_type": "code",
   "execution_count": 145,
   "metadata": {},
   "outputs": [
    {
     "ename": "MethodError",
     "evalue": "MethodError: no method matching getindex(::Frame{Entity{VehicleState,VehicleDef,Int64}}, ::Nothing)\nClosest candidates are:\n  getindex(::Frame, !Matched::Int64) at /home/raunak/.julia/packages/Records/q2nsF/src/frames.jl:20",
     "output_type": "error",
     "traceback": [
      "MethodError: no method matching getindex(::Frame{Entity{VehicleState,VehicleDef,Int64}}, ::Nothing)\nClosest candidates are:\n  getindex(::Frame, !Matched::Int64) at /home/raunak/.julia/packages/Records/q2nsF/src/frames.jl:20",
      "",
      "Stacktrace:",
      " [1] render!(::RenderModel, ::NeighborsOverlay, ::Frame{Entity{VehicleState,VehicleDef,Int64}}, ::Roadway{Float64}) at /home/raunak/.julia/dev/AutoViz/src/2d/overlays.jl:211",
      " [2] #render#27(::Int64, ::Int64, ::RenderModel, ::FitToContentCamera, ::Dict{Int64,Colorant}, ::Function, ::Frame{Entity{VehicleState,VehicleDef,Int64}}, ::Roadway{Float64}, ::Array{SceneOverlay,1}) at /home/raunak/.julia/dev/AutoViz/src/overlays.jl:34",
      " [3] (::getfield(AutoViz, Symbol(\"#kw##render\")))(::NamedTuple{(:car_colors, :cam),Tuple{Dict{Int64,Colorant},FitToContentCamera}}, ::typeof(render), ::Frame{Entity{VehicleState,VehicleDef,Int64}}, ::Roadway{Float64}, ::Array{SceneOverlay,1}) at ./none:0",
      " [4] #make_vid_truth_halluc#88(::String, ::Array{Int64,1}, ::Function, ::Int64, ::Int64, ::QueueRecord{Entity{VehicleState,VehicleDef,Int64}}) at ./In[144]:51",
      " [5] (::getfield(Main, Symbol(\"#kw##make_vid_truth_halluc\")))(::NamedTuple{(:filename, :ids_to_keep),Tuple{String,Array{Int64,1}}}, ::typeof(make_vid_truth_halluc), ::Int64, ::Int64, ::QueueRecord{Entity{VehicleState,VehicleDef,Int64}}) at ./none:0",
      " [6] top-level scope at In[145]:1"
     ]
    }
   ],
   "source": [
    "make_vid_truth_halluc(301,400,rec_multimodels,filename=\"ngsim_halluc.mp4\",ids_to_keep = veh_id_list)"
   ]
  },
  {
   "cell_type": "markdown",
   "metadata": {},
   "source": [
    "# Scripts"
   ]
  },
  {
   "cell_type": "code",
   "execution_count": null,
   "metadata": {},
   "outputs": [],
   "source": [
    "# Just make a video of replay trajectories. Saves video to media folder\n",
    "make_video(range=300:400)"
   ]
  },
  {
   "cell_type": "code",
   "execution_count": null,
   "metadata": {},
   "outputs": [],
   "source": [
    "# Load gail driven scenerecord from jld and overlay on top of ground truth\n",
    "rec_gail = JLD.load(\"gail_rec.jld\",\"env_rec\")\n",
    "veh_id_list = [72,75,73,67,69,71,64,59,56,57,62,60,54,55,51,48,43,47,39,37,34,33]\n",
    "make_vid_truth_halluc(301,400,rec_gail,\n",
    "    filename = \"gail_halluc_removed.mp4\",ids_to_keep = veh_id_list)"
   ]
  },
  {
   "cell_type": "code",
   "execution_count": 75,
   "metadata": {},
   "outputs": [],
   "source": [
    "# Barrier with gail\n",
    "rec_barrier = JLD.load(\"barrier_rec.jld\",\"env_rec\")\n",
    "veh_id_list = [72,75,73,67,69,71,64,59,56,57,62,60,54,55,51,48,43,47,39,37,34,33]\n",
    "make_vid_truth_halluc(301,400,rec_barrier,filename = \"gail_barrier_id39_id51_new.mp4\",\n",
    "    ids_to_keep = veh_id_list)"
   ]
  },
  {
   "cell_type": "code",
   "execution_count": 76,
   "metadata": {},
   "outputs": [],
   "source": [
    "# The idea of a barrier. Select some of the vehicles to be driven by IDM with v_des =0\n",
    "# In this case, vehicle ids 39 and 51. Drive the rest of the vehicles in the list\n",
    "# using driver models (gail/pf learned idm)\n",
    "model_multimodels[39].v_des = 0.\n",
    "model_multimodels[39].σ = 0.\n",
    "model_multimodels[51].v_des = 0.\n",
    "model_multimodels[39].σ = 0.\n",
    "rec_multimodels = run_simulation(100,model_multimodels,299,ids_to_keep=veh_id_list)\n",
    "make_vid_truth_gail_idm(301,400,rec_barrier,rec_multimodels,\n",
    "    filename=\"gail_pf_barrier.mp4\",ids_to_keep = veh_id_list)"
   ]
  },
  {
   "cell_type": "markdown",
   "metadata": {},
   "source": [
    "# for paper"
   ]
  },
  {
   "cell_type": "code",
   "execution_count": null,
   "metadata": {},
   "outputs": [],
   "source": [
    "    # Perform filtering\n",
    "veh_id_list = [72,75,73,67,69,71,64,59,56,57,62,60,54,55,51,48,43,47,39,37,34,33]\n",
    "test_model,test_particle,mean_dist_mat_all = obtain_driver_models(veh_id_list,500,300,375)\n",
    "\n",
    "    # Save to csv\n",
    "avg_val = mean(mean_dist_mat_all,dims=2)\n",
    "CSV.write(\"media/for_icra/pf_prog.csv\",  DataFrame(avg_val), writeheader=false)\n",
    "\n",
    "    # Make a plot\n",
    "plot(mean(mean_dist_mat_all,dims=2),leg=false,xlabel=\"iteration number\",ylabel=\"mean distance from final particle\",\n",
    "title=\"Particle filtering progress\")\n",
    "savefig(\"media/for_icra/pf_progress.png\")"
   ]
  },
  {
   "cell_type": "markdown",
   "metadata": {},
   "source": [
    "# Playground"
   ]
  },
  {
   "cell_type": "code",
   "execution_count": 26,
   "metadata": {},
   "outputs": [
    {
     "data": {
      "text/plain": [
       "2×10 Array{Float64,2}:\n",
       " 0.324788  0.460579  0.549888  0.501262  …  0.738923  0.485281  0.0408246\n",
       " 0.689909  0.863083  0.439727  0.716085     0.197407  0.922322  0.836697 "
      ]
     },
     "execution_count": 26,
     "metadata": {},
     "output_type": "execute_result"
    }
   ],
   "source": [
    "p_mat = rand(2,10)"
   ]
  },
  {
   "cell_type": "code",
   "execution_count": 27,
   "metadata": {},
   "outputs": [
    {
     "data": {
      "text/plain": [
       "2×1 Array{Float64,2}:\n",
       " 0.5\n",
       " 0.3"
      ]
     },
     "execution_count": 27,
     "metadata": {},
     "output_type": "execute_result"
    }
   ],
   "source": [
    "p_fin = [0.5;0.3]\n",
    "reshape(p_fin,(2,1))"
   ]
  },
  {
   "cell_type": "code",
   "execution_count": 77,
   "metadata": {},
   "outputs": [
    {
     "data": {
      "text/plain": [
       "0.4185080787536279"
      ]
     },
     "execution_count": 77,
     "metadata": {},
     "output_type": "execute_result"
    }
   ],
   "source": [
    "diff_mat = p_mat .-p_fin\n",
    "sq_mat = diff_mat.^2\n",
    "sum_sq = sum(sq_mat,dims=1)\n",
    "dist_mat = sqrt.(sum_sq)\n",
    "sum(dist_mat)*1/size(p_mat,2)"
   ]
  },
  {
   "cell_type": "code",
   "execution_count": 78,
   "metadata": {},
   "outputs": [
    {
     "data": {
      "text/plain": [
       "0.4185080787536279"
      ]
     },
     "execution_count": 78,
     "metadata": {},
     "output_type": "execute_result"
    }
   ],
   "source": [
    "# Mean distance over all particles in `p_mat` from final particle `p_fin`\n",
    "sum(sqrt.(sum((p_mat .- p_fin).^2,dims=1)))*1/size(p_mat,2)"
   ]
  },
  {
   "cell_type": "code",
   "execution_count": 81,
   "metadata": {},
   "outputs": [
    {
     "data": {
      "text/plain": [
       "1×1 Array{Float64,2}:\n",
       " 0.41850807875362794"
      ]
     },
     "execution_count": 81,
     "metadata": {},
     "output_type": "execute_result"
    }
   ],
   "source": [
    "mean(sqrt.(sum((p_mat .- p_fin).^2,dims=1)),dims=2)"
   ]
  },
  {
   "cell_type": "code",
   "execution_count": 35,
   "metadata": {},
   "outputs": [
    {
     "name": "stdout",
     "output_type": "stream",
     "text": [
      "p_set_over_frames = Any[[0.934955 0.764531 0.108439 0.198476 0.260123 0.24062 0.181286 0.95208 0.519938 0.359935; 0.958511 0.523996 0.353329 0.445374 0.742068 0.865837 0.194414 0.181484 0.455116 0.734418], [0.279873 0.717053 0.190015 0.949195 0.634952 0.233884 0.84559 0.815414 0.835066 0.572901; 0.994668 0.865429 0.979382 0.250725 0.122864 0.0604262 0.815819 0.675303 0.88584 0.924473], [0.52348 0.492283 0.910574 0.0691741 0.669606 0.859453 0.630083 0.885613 0.228314 0.924519; 0.852076 0.590841 0.985601 0.936428 0.0504554 0.337535 0.617397 0.319076 0.77487 0.235825], [0.19304 0.545478 0.882151 0.631561 0.537228 0.647386 0.906227 0.314423 0.357438 0.369616; 0.629603 0.234743 0.623296 0.176823 0.481831 0.764084 0.175661 0.463316 0.987778 0.525989]]\n"
     ]
    },
    {
     "data": {
      "text/plain": [
       "4-element Array{Any,1}:\n",
       " [0.934955 0.764531 … 0.519938 0.359935; 0.958511 0.523996 … 0.455116 0.734418]\n",
       " [0.279873 0.717053 … 0.835066 0.572901; 0.994668 0.865429 … 0.88584 0.924473] \n",
       " [0.52348 0.492283 … 0.228314 0.924519; 0.852076 0.590841 … 0.77487 0.235825]  \n",
       " [0.19304 0.545478 … 0.357438 0.369616; 0.629603 0.234743 … 0.987778 0.525989] "
      ]
     },
     "execution_count": 35,
     "metadata": {},
     "output_type": "execute_result"
    }
   ],
   "source": [
    "# How do we store matrices over iterations\n",
    "p_set_over_frames = []\n",
    "for i in 1:4\n",
    "    push!(p_set_over_frames,rand(2,10))\n",
    "end\n",
    "@show p_set_over_frames"
   ]
  },
  {
   "cell_type": "code",
   "execution_count": 36,
   "metadata": {},
   "outputs": [
    {
     "data": {
      "text/plain": [
       "2×1 Array{Float64,2}:\n",
       " 0.5\n",
       " 0.3"
      ]
     },
     "execution_count": 36,
     "metadata": {},
     "output_type": "execute_result"
    }
   ],
   "source": [
    "p_fin = reshape([0.5;0.3],(2,1))"
   ]
  },
  {
   "cell_type": "code",
   "execution_count": 44,
   "metadata": {},
   "outputs": [
    {
     "data": {
      "image/svg+xml": [
       "<?xml version=\"1.0\" encoding=\"utf-8\"?>\n",
       "<svg xmlns=\"http://www.w3.org/2000/svg\" xmlns:xlink=\"http://www.w3.org/1999/xlink\" width=\"600\" height=\"400\" viewBox=\"0 0 2400 1600\">\n",
       "<defs>\n",
       "  <clipPath id=\"clip0300\">\n",
       "    <rect x=\"0\" y=\"0\" width=\"2400\" height=\"1600\"/>\n",
       "  </clipPath>\n",
       "</defs>\n",
       "<polygon clip-path=\"url(#clip0300)\" points=\"\n",
       "0,1600 2400,1600 2400,0 0,0 \n",
       "  \" fill=\"#ffffff\" fill-rule=\"evenodd\" fill-opacity=\"1\"/>\n",
       "<defs>\n",
       "  <clipPath id=\"clip0301\">\n",
       "    <rect x=\"480\" y=\"0\" width=\"1681\" height=\"1600\"/>\n",
       "  </clipPath>\n",
       "</defs>\n",
       "<polygon clip-path=\"url(#clip0300)\" points=\"\n",
       "153.898,1487.47 2352.76,1487.47 2352.76,47.2441 153.898,47.2441 \n",
       "  \" fill=\"#ffffff\" fill-rule=\"evenodd\" fill-opacity=\"1\"/>\n",
       "<defs>\n",
       "  <clipPath id=\"clip0302\">\n",
       "    <rect x=\"153\" y=\"47\" width=\"2200\" height=\"1441\"/>\n",
       "  </clipPath>\n",
       "</defs>\n",
       "<polyline clip-path=\"url(#clip0302)\" style=\"stroke:#000000; stroke-width:2; stroke-opacity:0.1; fill:none\" points=\"\n",
       "  216.13,1487.47 216.13,47.2441 \n",
       "  \"/>\n",
       "<polyline clip-path=\"url(#clip0302)\" style=\"stroke:#000000; stroke-width:2; stroke-opacity:0.1; fill:none\" points=\"\n",
       "  907.595,1487.47 907.595,47.2441 \n",
       "  \"/>\n",
       "<polyline clip-path=\"url(#clip0302)\" style=\"stroke:#000000; stroke-width:2; stroke-opacity:0.1; fill:none\" points=\"\n",
       "  1599.06,1487.47 1599.06,47.2441 \n",
       "  \"/>\n",
       "<polyline clip-path=\"url(#clip0302)\" style=\"stroke:#000000; stroke-width:2; stroke-opacity:0.1; fill:none\" points=\"\n",
       "  2290.52,1487.47 2290.52,47.2441 \n",
       "  \"/>\n",
       "<polyline clip-path=\"url(#clip0302)\" style=\"stroke:#000000; stroke-width:2; stroke-opacity:0.1; fill:none\" points=\"\n",
       "  153.898,1459.28 2352.76,1459.28 \n",
       "  \"/>\n",
       "<polyline clip-path=\"url(#clip0302)\" style=\"stroke:#000000; stroke-width:2; stroke-opacity:0.1; fill:none\" points=\"\n",
       "  153.898,1121.28 2352.76,1121.28 \n",
       "  \"/>\n",
       "<polyline clip-path=\"url(#clip0302)\" style=\"stroke:#000000; stroke-width:2; stroke-opacity:0.1; fill:none\" points=\"\n",
       "  153.898,783.281 2352.76,783.281 \n",
       "  \"/>\n",
       "<polyline clip-path=\"url(#clip0302)\" style=\"stroke:#000000; stroke-width:2; stroke-opacity:0.1; fill:none\" points=\"\n",
       "  153.898,445.279 2352.76,445.279 \n",
       "  \"/>\n",
       "<polyline clip-path=\"url(#clip0302)\" style=\"stroke:#000000; stroke-width:2; stroke-opacity:0.1; fill:none\" points=\"\n",
       "  153.898,107.278 2352.76,107.278 \n",
       "  \"/>\n",
       "<polyline clip-path=\"url(#clip0300)\" style=\"stroke:#000000; stroke-width:4; stroke-opacity:1; fill:none\" points=\"\n",
       "  153.898,1487.47 2352.76,1487.47 \n",
       "  \"/>\n",
       "<polyline clip-path=\"url(#clip0300)\" style=\"stroke:#000000; stroke-width:4; stroke-opacity:1; fill:none\" points=\"\n",
       "  153.898,1487.47 153.898,47.2441 \n",
       "  \"/>\n",
       "<polyline clip-path=\"url(#clip0300)\" style=\"stroke:#000000; stroke-width:4; stroke-opacity:1; fill:none\" points=\"\n",
       "  216.13,1487.47 216.13,1465.87 \n",
       "  \"/>\n",
       "<polyline clip-path=\"url(#clip0300)\" style=\"stroke:#000000; stroke-width:4; stroke-opacity:1; fill:none\" points=\"\n",
       "  907.595,1487.47 907.595,1465.87 \n",
       "  \"/>\n",
       "<polyline clip-path=\"url(#clip0300)\" style=\"stroke:#000000; stroke-width:4; stroke-opacity:1; fill:none\" points=\"\n",
       "  1599.06,1487.47 1599.06,1465.87 \n",
       "  \"/>\n",
       "<polyline clip-path=\"url(#clip0300)\" style=\"stroke:#000000; stroke-width:4; stroke-opacity:1; fill:none\" points=\"\n",
       "  2290.52,1487.47 2290.52,1465.87 \n",
       "  \"/>\n",
       "<polyline clip-path=\"url(#clip0300)\" style=\"stroke:#000000; stroke-width:4; stroke-opacity:1; fill:none\" points=\"\n",
       "  153.898,1459.28 186.881,1459.28 \n",
       "  \"/>\n",
       "<polyline clip-path=\"url(#clip0300)\" style=\"stroke:#000000; stroke-width:4; stroke-opacity:1; fill:none\" points=\"\n",
       "  153.898,1121.28 186.881,1121.28 \n",
       "  \"/>\n",
       "<polyline clip-path=\"url(#clip0300)\" style=\"stroke:#000000; stroke-width:4; stroke-opacity:1; fill:none\" points=\"\n",
       "  153.898,783.281 186.881,783.281 \n",
       "  \"/>\n",
       "<polyline clip-path=\"url(#clip0300)\" style=\"stroke:#000000; stroke-width:4; stroke-opacity:1; fill:none\" points=\"\n",
       "  153.898,445.279 186.881,445.279 \n",
       "  \"/>\n",
       "<polyline clip-path=\"url(#clip0300)\" style=\"stroke:#000000; stroke-width:4; stroke-opacity:1; fill:none\" points=\"\n",
       "  153.898,107.278 186.881,107.278 \n",
       "  \"/>\n",
       "<g clip-path=\"url(#clip0300)\">\n",
       "<text style=\"fill:#000000; fill-opacity:1; font-family:Arial,Helvetica Neue,Helvetica,sans-serif; font-size:48px; text-anchor:middle;\" transform=\"rotate(0, 216.13, 1541.47)\" x=\"216.13\" y=\"1541.47\">1</text>\n",
       "</g>\n",
       "<g clip-path=\"url(#clip0300)\">\n",
       "<text style=\"fill:#000000; fill-opacity:1; font-family:Arial,Helvetica Neue,Helvetica,sans-serif; font-size:48px; text-anchor:middle;\" transform=\"rotate(0, 907.595, 1541.47)\" x=\"907.595\" y=\"1541.47\">2</text>\n",
       "</g>\n",
       "<g clip-path=\"url(#clip0300)\">\n",
       "<text style=\"fill:#000000; fill-opacity:1; font-family:Arial,Helvetica Neue,Helvetica,sans-serif; font-size:48px; text-anchor:middle;\" transform=\"rotate(0, 1599.06, 1541.47)\" x=\"1599.06\" y=\"1541.47\">3</text>\n",
       "</g>\n",
       "<g clip-path=\"url(#clip0300)\">\n",
       "<text style=\"fill:#000000; fill-opacity:1; font-family:Arial,Helvetica Neue,Helvetica,sans-serif; font-size:48px; text-anchor:middle;\" transform=\"rotate(0, 2290.52, 1541.47)\" x=\"2290.52\" y=\"1541.47\">4</text>\n",
       "</g>\n",
       "<g clip-path=\"url(#clip0300)\">\n",
       "<text style=\"fill:#000000; fill-opacity:1; font-family:Arial,Helvetica Neue,Helvetica,sans-serif; font-size:48px; text-anchor:end;\" transform=\"rotate(0, 129.898, 1476.78)\" x=\"129.898\" y=\"1476.78\">3.5</text>\n",
       "</g>\n",
       "<g clip-path=\"url(#clip0300)\">\n",
       "<text style=\"fill:#000000; fill-opacity:1; font-family:Arial,Helvetica Neue,Helvetica,sans-serif; font-size:48px; text-anchor:end;\" transform=\"rotate(0, 129.898, 1138.78)\" x=\"129.898\" y=\"1138.78\">4.0</text>\n",
       "</g>\n",
       "<g clip-path=\"url(#clip0300)\">\n",
       "<text style=\"fill:#000000; fill-opacity:1; font-family:Arial,Helvetica Neue,Helvetica,sans-serif; font-size:48px; text-anchor:end;\" transform=\"rotate(0, 129.898, 800.781)\" x=\"129.898\" y=\"800.781\">4.5</text>\n",
       "</g>\n",
       "<g clip-path=\"url(#clip0300)\">\n",
       "<text style=\"fill:#000000; fill-opacity:1; font-family:Arial,Helvetica Neue,Helvetica,sans-serif; font-size:48px; text-anchor:end;\" transform=\"rotate(0, 129.898, 462.779)\" x=\"129.898\" y=\"462.779\">5.0</text>\n",
       "</g>\n",
       "<g clip-path=\"url(#clip0300)\">\n",
       "<text style=\"fill:#000000; fill-opacity:1; font-family:Arial,Helvetica Neue,Helvetica,sans-serif; font-size:48px; text-anchor:end;\" transform=\"rotate(0, 129.898, 124.778)\" x=\"129.898\" y=\"124.778\">5.5</text>\n",
       "</g>\n",
       "<circle clip-path=\"url(#clip0302)\" style=\"fill:#000000; stroke:none; fill-opacity:1\" cx=\"216.13\" cy=\"846.093\" r=\"18\"/>\n",
       "<circle clip-path=\"url(#clip0302)\" style=\"fill:#009af9; stroke:none; fill-opacity:1\" cx=\"216.13\" cy=\"846.093\" r=\"14\"/>\n",
       "<circle clip-path=\"url(#clip0302)\" style=\"fill:#000000; stroke:none; fill-opacity:1\" cx=\"907.595\" cy=\"88.0053\" r=\"18\"/>\n",
       "<circle clip-path=\"url(#clip0302)\" style=\"fill:#009af9; stroke:none; fill-opacity:1\" cx=\"907.595\" cy=\"88.0053\" r=\"14\"/>\n",
       "<circle clip-path=\"url(#clip0302)\" style=\"fill:#000000; stroke:none; fill-opacity:1\" cx=\"1599.06\" cy=\"594.087\" r=\"18\"/>\n",
       "<circle clip-path=\"url(#clip0302)\" style=\"fill:#009af9; stroke:none; fill-opacity:1\" cx=\"1599.06\" cy=\"594.087\" r=\"14\"/>\n",
       "<circle clip-path=\"url(#clip0302)\" style=\"fill:#000000; stroke:none; fill-opacity:1\" cx=\"2290.52\" cy=\"1446.71\" r=\"18\"/>\n",
       "<circle clip-path=\"url(#clip0302)\" style=\"fill:#009af9; stroke:none; fill-opacity:1\" cx=\"2290.52\" cy=\"1446.71\" r=\"14\"/>\n",
       "<polygon clip-path=\"url(#clip0300)\" points=\"\n",
       "1989.93,251.724 2280.76,251.724 2280.76,130.764 1989.93,130.764 \n",
       "  \" fill=\"#ffffff\" fill-rule=\"evenodd\" fill-opacity=\"1\"/>\n",
       "<polyline clip-path=\"url(#clip0300)\" style=\"stroke:#000000; stroke-width:4; stroke-opacity:1; fill:none\" points=\"\n",
       "  1989.93,251.724 2280.76,251.724 2280.76,130.764 1989.93,130.764 1989.93,251.724 \n",
       "  \"/>\n",
       "<circle clip-path=\"url(#clip0300)\" style=\"fill:#000000; stroke:none; fill-opacity:1\" cx=\"2097.93\" cy=\"191.244\" r=\"25\"/>\n",
       "<circle clip-path=\"url(#clip0300)\" style=\"fill:#009af9; stroke:none; fill-opacity:1\" cx=\"2097.93\" cy=\"191.244\" r=\"21\"/>\n",
       "<g clip-path=\"url(#clip0300)\">\n",
       "<text style=\"fill:#000000; fill-opacity:1; font-family:Arial,Helvetica Neue,Helvetica,sans-serif; font-size:48px; text-anchor:start;\" transform=\"rotate(0, 2181.93, 208.744)\" x=\"2181.93\" y=\"208.744\">y1</text>\n",
       "</g>\n",
       "</svg>\n"
      ]
     },
     "execution_count": 44,
     "metadata": {},
     "output_type": "execute_result"
    }
   ],
   "source": [
    "p_fin = reshape([0.5;0.3],(2,1))\n",
    "mean_dist = []\n",
    "for p_mat in p_set_over_frames\n",
    "    push!(mean_dist,sum(sqrt.(sum((p_mat .- p_fin).^2,dims=1))))\n",
    "end\n",
    "scatter(mean_dist)"
   ]
  },
  {
   "cell_type": "code",
   "execution_count": null,
   "metadata": {},
   "outputs": [],
   "source": []
  }
 ],
 "metadata": {
  "@webio": {
   "lastCommId": null,
   "lastKernelId": null
  },
  "kernelspec": {
   "display_name": "Julia 1.1.0",
   "language": "julia",
   "name": "julia-1.1"
  },
  "language_info": {
   "file_extension": ".jl",
   "mimetype": "application/julia",
   "name": "julia",
   "version": "1.1.0"
  }
 },
 "nbformat": 4,
 "nbformat_minor": 2
}
