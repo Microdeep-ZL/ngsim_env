{
 "cells": [
  {
   "cell_type": "markdown",
   "metadata": {},
   "source": [
    "## Make Tim2DDriver work\n",
    "- For `observe!` from `Tim2DDriver` to work, had to make the following changes\n",
    "    - Had to modify `AutomotiveDrivingModels.jl/src/2d/vehicles/scene_records.jl` to extend\n",
    "the default length of the capacity in the record container from 100 to 300\n",
    "    - Did the same capacity extension in `Records.jl/src/frames.jl`, `QueueRecords.jl` and \n",
    "`ListRecords.jl`\n",
    "- Note that querying Tim2DDriver yields a `latLonAccel` return type. Had to create an array\n",
    "to enable these values to work with `step`\n",
    "\n",
    "## Changes to environment file\n",
    "- `LatLonAccel` instead of `AccelTurnRate` because ego vehicles are\n",
    "driven using Tim2DDriver that outputs lat lon accel\n",
    "- Changed the render method to not save images in `/tmp` but instead\n",
    "return the render frame to be able to make videos using Reel"
   ]
  },
  {
   "cell_type": "code",
   "execution_count": 1,
   "metadata": {},
   "outputs": [
    {
     "data": {
      "text/html": [
       "<script>\n",
       "// Immediately-invoked-function-expression to avoid global variables.\n",
       "(function() {\n",
       "    var warning_div = document.getElementById(\"webio-warning-5988728129666970501\");\n",
       "    var hide = function () {\n",
       "        var script = document.getElementById(\"webio-setup-10640478552864238211\");\n",
       "        var parent = script && script.parentElement;\n",
       "        var grandparent = parent && parent.parentElement;\n",
       "        if (grandparent) {\n",
       "            grandparent.style.display = \"none\";\n",
       "        }\n",
       "        warning_div.style.display = \"none\";\n",
       "    };\n",
       "    if (typeof Jupyter !== \"undefined\") {\n",
       "        console.log(\"WebIO detected Jupyter notebook environment.\");\n",
       "        // Jupyter notebook.\n",
       "        var extensions = (\n",
       "            Jupyter\n",
       "            && Jupyter.notebook.config.data\n",
       "            && Jupyter.notebook.config.data.load_extensions\n",
       "        );\n",
       "        if (extensions && extensions[\"webio/main\"]) {\n",
       "            // Extension already loaded.\n",
       "            console.log(\"Jupyter WebIO nbextension detected; not loading ad-hoc.\");\n",
       "            hide();\n",
       "            return;\n",
       "        }\n",
       "        console.warn(\"Loading WebIO Jupyter extension on an ad-hoc basis. Consider enabling the WebIO nbextension for a stabler experience (this should happen automatically when building WebIO).\");\n",
       "        require([\"/assetserver/edf674b4a352d3049d1cf8e1b8f9eda882001cd6-dist/main.js\"], function (webIOModule) {\n",
       "            webIOModule.load_ipython_extension();\n",
       "        });\n",
       "        warning_div.innerHTML = \"<strong>Loading WebIO Jupyter extension on an ad-hoc basis. Consider enabling the WebIO nbextension for a stabler experience (this should happen automatically when building WebIO).</strong>\";\n",
       "    } else if (window.location.pathname.includes(\"/lab\")) {\n",
       "        // Guessing JupyterLa\n",
       "        console.log(\"Jupyter Lab detected; make sure the @webio/jupyter-lab-provider labextension is installed.\");\n",
       "        hide();\n",
       "        return;\n",
       "    }\n",
       "})();\n",
       "\n",
       "</script>\n",
       "<div\n",
       "    id=\"webio-warning-5988728129666970501\"\n",
       "    class=\"output_text output_stderr\"\n",
       "    style=\"padding: 1em; font-weight: bold;\"\n",
       ">\n",
       "    Unable to load WebIO. Please make sure WebIO works for your Jupyter client.\n",
       "    <!-- TODO: link to installation docs. -->\n",
       "</div>\n"
      ],
      "text/plain": [
       "HTML{String}(\"<script>\\n// Immediately-invoked-function-expression to avoid global variables.\\n(function() {\\n    var warning_div = document.getElementById(\\\"webio-warning-5988728129666970501\\\");\\n    var hide = function () {\\n        var script = document.getElementById(\\\"webio-setup-10640478552864238211\\\");\\n        var parent = script && script.parentElement;\\n        var grandparent = parent && parent.parentElement;\\n        if (grandparent) {\\n            grandparent.style.display = \\\"none\\\";\\n        }\\n        warning_div.style.display = \\\"none\\\";\\n    };\\n    if (typeof Jupyter !== \\\"undefined\\\") {\\n        console.log(\\\"WebIO detected Jupyter notebook environment.\\\");\\n        // Jupyter notebook.\\n        var extensions = (\\n            Jupyter\\n            && Jupyter.notebook.config.data\\n            && Jupyter.notebook.config.data.load_extensions\\n        );\\n        if (extensions && extensions[\\\"webio/main\\\"]) {\\n            // Extension already loaded.\\n            console.log(\\\"Jupyter WebIO nbextension detected; not loading ad-hoc.\\\");\\n            hide();\\n            return;\\n        }\\n        console.warn(\\\"Loading WebIO Jupyter extension on an ad-hoc basis. Consider enabling the WebIO nbextension for a stabler experience (this should happen automatically when building WebIO).\\\");\\n        require([\\\"/assetserver/edf674b4a352d3049d1cf8e1b8f9eda882001cd6-dist/main.js\\\"], function (webIOModule) {\\n            webIOModule.load_ipython_extension();\\n        });\\n        warning_div.innerHTML = \\\"<strong>Loading WebIO Jupyter extension on an ad-hoc basis. Consider enabling the WebIO nbextension for a stabler experience (this should happen automatically when building WebIO).</strong>\\\";\\n    } else if (window.location.pathname.includes(\\\"/lab\\\")) {\\n        // Guessing JupyterLa\\n        console.log(\\\"Jupyter Lab detected; make sure the @webio/jupyter-lab-provider labextension is installed.\\\");\\n        hide();\\n        return;\\n    }\\n})();\\n\\n</script>\\n<div\\n    id=\\\"webio-warning-5988728129666970501\\\"\\n    class=\\\"output_text output_stderr\\\"\\n    style=\\\"padding: 1em; font-weight: bold;\\\"\\n>\\n    Unable to load WebIO. Please make sure WebIO works for your Jupyter client.\\n    <!-- TODO: link to installation docs. -->\\n</div>\\n\")"
      ]
     },
     "metadata": {},
     "output_type": "display_data"
    }
   ],
   "source": [
    "using NGSIM\n",
    "using AutomotiveDrivingModels\n",
    "using AutoViz\n",
    "using Interact # Make video in notebook\n",
    "using Reel # Save video as gif\n",
    "using CSV # For writing to csv\n",
    "using DataFrames # For writing to csv\n",
    "using PyPlot # For in notebook plotting"
   ]
  },
  {
   "cell_type": "code",
   "execution_count": null,
   "metadata": {},
   "outputs": [],
   "source": [
    "using AutoEnvs\n",
    "\n",
    "n_veh = 1 # Number of ego vehicles\n",
    "# filepath = joinpath(dirname(pathof(NGSIM)), \"..\", \n",
    "#     \"data\", \"trajdata_i80_trajectories-0400-0415.txt\")\n",
    "filepath = joinpath(dirname(pathof(NGSIM)), \"..\", \n",
    "    \"data\", \"trajdata_i101_trajectories-0750am-0805am.txt\")\n",
    "params = Dict(\n",
    "        \"trajectory_filepaths\"=>[filepath],\n",
    "        \"H\"=>200,\n",
    "        \"primesteps\"=>50,\n",
    "        \"n_veh\"=>n_veh,\n",
    "        \"remove_ngsim_veh\"=>false\n",
    ")\n",
    "# env = MultiagentNGSIMEnvVideoMaker(params)\n",
    "env = MultiagentNGSIMEnv(params);\n",
    "timestep = 0.1;"
   ]
  },
  {
   "cell_type": "code",
   "execution_count": null,
   "metadata": {
    "scrolled": true
   },
   "outputs": [],
   "source": [
    "# Sanity check: See if what we have loaded makes sense by rendering a scene\n",
    "# Test like this is what helped catch the NGSIM occursin order reversing issue\n",
    "randi = 5\n",
    "reset(env,random_seed=randi) # Returns an array of features 1x66 \n",
    "render(env.scene,env.roadway)"
   ]
  },
  {
   "cell_type": "code",
   "execution_count": null,
   "metadata": {},
   "outputs": [],
   "source": [
    "env.scene.entities[1].state.posF.t"
   ]
  },
  {
   "cell_type": "code",
   "execution_count": null,
   "metadata": {},
   "outputs": [],
   "source": [
    "env.scene.n"
   ]
  },
  {
   "cell_type": "code",
   "execution_count": null,
   "metadata": {},
   "outputs": [],
   "source": [
    "env.t"
   ]
  },
  {
   "cell_type": "code",
   "execution_count": null,
   "metadata": {},
   "outputs": [],
   "source": [
    "model = Tim2DDriver(timestep,mlane = MOBIL(timestep));"
   ]
  },
  {
   "cell_type": "code",
   "execution_count": null,
   "metadata": {},
   "outputs": [],
   "source": [
    "# Borrowed from `sisl/gail-driver/validation/validation.jl`\n",
    "# Reduced T to 0.1 to see more aggressive driving\n",
    "# Now wondering how to make the blue vehicle change lanes\n",
    "mlon = IntelligentDriverModel(v_des = 20.0, σ=2.5,k_spd=1.0,T=0.5,s_min=2.0,a_max=3.0,d_cmf=2.5)\n",
    "mlat = ProportionalLaneTracker(σ=0.1, kp=3.0, kd=2.0)\n",
    "mlane = MOBIL(timestep,politeness=0.0,advantage_threshold=0.0,safe_decel=3.0)\n",
    "#mlane = TimLaneChanger(timestep)\n",
    "model = Tim2DDriver(timestep, mlon=mlon, mlat=mlat, mlane=mlane);"
   ]
  },
  {
   "cell_type": "code",
   "execution_count": null,
   "metadata": {},
   "outputs": [],
   "source": [
    "# TODO: How to define a function with only kwargs and no args?\n",
    "function run_one_sim(numsteps)\n",
    "    @show numsteps\n",
    "    traj = zeros(numsteps,n_veh,66) # 66 observations\n",
    "    \n",
    "    data_rmse_t = zeros(numsteps,2)\n",
    "    data_rmse_vel = zeros(numsteps,2)\n",
    "    data_rmse_pos = zeros(numsteps,2)\n",
    "    \n",
    "    hard_brake_sum = 0\n",
    "    \n",
    "    for ii in 1:numsteps\n",
    "    \n",
    "        a = zeros(env.n_veh,2)\n",
    "        \n",
    "        for (jj,veh) in enumerate(env.ego_vehs)\n",
    "            observe!(model,env.scene,env.roadway,veh.id)\n",
    "            latlonacc = rand(model)\n",
    "            a[jj,1] = latlonacc.a_lat\n",
    "            a[jj,2] = latlonacc.a_lon\n",
    "        end\n",
    "        \n",
    "        x, r, terminal, info = step(env, a)\n",
    "        \n",
    "#         @show info # info contains the rmse information\n",
    "        \n",
    "        # Extract rmse information from simulation\n",
    "        vec_rmse_t = info[\"rmse_t\"]\n",
    "        vec_rmse_pos = info[\"rmse_pos\"]\n",
    "        vec_rmse_vel = info[\"rmse_vel\"]\n",
    "        \n",
    "        # Compute means over all the agents in this timestep\n",
    "        mean_rmse_t = mean(vec_rmse_t)\n",
    "        mean_rmse_vel = mean(vec_rmse_vel)\n",
    "        mean_rmse_pos = mean(vec_rmse_pos)\n",
    "        \n",
    "        # Store rmse into array where column 1 is time and col 2 is the value\n",
    "        data_rmse_t[ii,1] = ii-1; data_rmse_t[ii,2] = mean_rmse_t\n",
    "        data_rmse_vel[ii,1] = ii-1; data_rmse_vel[ii,2] = mean_rmse_vel\n",
    "        data_rmse_pos[ii,1] = ii-1; data_rmse_pos[ii,2] = mean_rmse_pos\n",
    "        \n",
    "        \n",
    "        \n",
    "        traj[ii,:,:] = x # x is the features: its num_ego_veh x 66\n",
    "        \n",
    "#         @show sum(x[:,19]) # 19th column of x captures the is colliding 1 or 0\n",
    "        @show size(x)\n",
    "        @show \"yo\"\n",
    "        accel_vec = x[:,9]\n",
    "        \n",
    "        hard_brake_sum += sum(accel_vec .< -1.0)\n",
    "        \n",
    "        dleft_vec = x[:,21]; @show dleft_vec\n",
    "        dright_vec = x[:,22]; @show dright_vec\n",
    "        @show min(dleft_vec,dright_vec)\n",
    "        \n",
    "        @show find(min(x[:,21],x[:,22])<=-1.0)\n",
    "    end\n",
    "    \n",
    "    # Plotting the rmse stuff\n",
    "#     figure(0)\n",
    "#     plot(data_rmse_pos[:,2])\n",
    "#     figure(1)\n",
    "#     plot(data_rmse_t[:,2])\n",
    "#     figure(2)\n",
    "#     plot(data_rmse_vel[:,2])\n",
    "    return traj\n",
    "end"
   ]
  },
  {
   "cell_type": "code",
   "execution_count": null,
   "metadata": {},
   "outputs": [],
   "source": [
    "randi = 15\n",
    "reset(env,random_seed=randi)\n",
    "traj = run_one_sim(1);"
   ]
  },
  {
   "cell_type": "code",
   "execution_count": null,
   "metadata": {},
   "outputs": [],
   "source": [
    "data_rmse_pos"
   ]
  },
  {
   "cell_type": "code",
   "execution_count": null,
   "metadata": {},
   "outputs": [],
   "source": [
    "# If you wanted to write data to CSV files\n",
    "CSV.write(\"rmse_t.csv\",  DataFrame(data_rmse_t), writeheader=false)\n",
    "CSV.write(\"rmse_vel.csv\",  DataFrame(data_rmse_vel), writeheader=false)\n",
    "CSV.write(\"rmse_pos.csv\",  DataFrame(data_rmse_pos), writeheader=false)"
   ]
  },
  {
   "cell_type": "code",
   "execution_count": null,
   "metadata": {},
   "outputs": [],
   "source": [
    "using PyPlot"
   ]
  },
  {
   "cell_type": "code",
   "execution_count": null,
   "metadata": {},
   "outputs": [],
   "source": [
    "plot(data_rmse_pos)"
   ]
  },
  {
   "cell_type": "markdown",
   "metadata": {},
   "source": [
    "## Video making and saving to file"
   ]
  },
  {
   "cell_type": "code",
   "execution_count": null,
   "metadata": {},
   "outputs": [],
   "source": [
    "# Inspired from the drawsim method in AutoViz/doc/AutoViz.ipynb\n",
    "function makevid(t,dt=NaN)\n",
    "    \n",
    "        a = zeros(env.n_veh,2)\n",
    "\n",
    "        for (jj,veh) in enumerate(env.ego_vehs)\n",
    "            observe!(model,env.scene,env.roadway,veh.id)\n",
    "\n",
    "            latlonacc = rand(model)\n",
    "            a[jj,1] = latlonacc.a_lat\n",
    "            a[jj,2] = latlonacc.a_lon\n",
    "        end\n",
    "        x, r, terminal, _ = step(env, a)\n",
    "    render(env)\n",
    "end"
   ]
  },
  {
   "cell_type": "code",
   "execution_count": null,
   "metadata": {},
   "outputs": [],
   "source": [
    "randi = 5\n",
    "reset(env,random_seed=randi)\n",
    "film = roll(makevid, fps=10, duration=5.0)\n",
    "write(\"numveh_$(env.n_veh)_seed_$(randi)_timlane.gif\",film)"
   ]
  },
  {
   "cell_type": "markdown",
   "metadata": {},
   "source": [
    "## Video making using recorded cars on ngsim\n",
    "- Trajdatas is what the car trajectories are stored in\n",
    "- We want to color the ego vehicle differently to be able to see it"
   ]
  },
  {
   "cell_type": "code",
   "execution_count": 2,
   "metadata": {},
   "outputs": [
    {
     "data": {
      "text/plain": [
       "Scene(with 125 cars)"
      ]
     },
     "execution_count": 2,
     "metadata": {},
     "output_type": "execute_result"
    }
   ],
   "source": [
    "td1 = load_trajdata(1)\n",
    "\n",
    "scene = Scene(500)\n",
    "temp_scene = get!(scene,td1,1000)\n",
    "#render(temp_scene,ROADWAY_101)"
   ]
  },
  {
   "cell_type": "code",
   "execution_count": 31,
   "metadata": {},
   "outputs": [
    {
     "data": {
      "application/vnd.webio.node+json": {
       "children": [
        {
         "children": [
          {
           "children": [
            {
             "children": [
              {
               "children": [
                {
                 "children": [
                  "i"
                 ],
                 "instanceArgs": {
                  "namespace": "html",
                  "tag": "label"
                 },
                 "nodeType": "DOM",
                 "props": {
                  "className": "interact ",
                  "style": {
                   "padding": "5px 10px 0px 10px"
                  }
                 },
                 "type": "node"
                }
               ],
               "instanceArgs": {
                "namespace": "html",
                "tag": "div"
               },
               "nodeType": "DOM",
               "props": {
                "className": "interact-flex-row-left"
               },
               "type": "node"
              },
              {
               "children": [
                {
                 "children": [],
                 "instanceArgs": {
                  "namespace": "html",
                  "tag": "input"
                 },
                 "nodeType": "DOM",
                 "props": {
                  "attributes": {
                   "data-bind": "numericValue: index, valueUpdate: 'input', event: {change: function (){this.changes(this.changes()+1)}}",
                   "orient": "horizontal",
                   "type": "range"
                  },
                  "className": "slider slider is-fullwidth",
                  "max": 500,
                  "min": 400,
                  "step": 1,
                  "style": {}
                 },
                 "type": "node"
                }
               ],
               "instanceArgs": {
                "namespace": "html",
                "tag": "div"
               },
               "nodeType": "DOM",
               "props": {
                "className": "interact-flex-row-center"
               },
               "type": "node"
              },
              {
               "children": [
                {
                 "children": [],
                 "instanceArgs": {
                  "namespace": "html",
                  "tag": "p"
                 },
                 "nodeType": "DOM",
                 "props": {
                  "attributes": {
                   "data-bind": "text: formatted_val"
                  }
                 },
                 "type": "node"
                }
               ],
               "instanceArgs": {
                "namespace": "html",
                "tag": "div"
               },
               "nodeType": "DOM",
               "props": {
                "className": "interact-flex-row-right"
               },
               "type": "node"
              }
             ],
             "instanceArgs": {
              "namespace": "html",
              "tag": "div"
             },
             "nodeType": "DOM",
             "props": {
              "className": "interact-flex-row interact-widget"
             },
             "type": "node"
            }
           ],
           "instanceArgs": {
            "handlers": {
             "changes": [
              "(function (val){return (val!=this.model[\"changes\"]()) ? (this.valueFromJulia[\"changes\"]=true, this.model[\"changes\"](val)) : undefined})"
             ],
             "index": [
              "(function (val){return (val!=this.model[\"index\"]()) ? (this.valueFromJulia[\"index\"]=true, this.model[\"index\"](val)) : undefined})"
             ]
            },
            "id": "13555465188366710604",
            "imports": {
             "data": [
              {
               "name": "knockout",
               "type": "js",
               "url": "/assetserver/dcbae5b173ff1798de333fa30c9a3175db56c7be-knockout.js"
              },
              {
               "name": "knockout_punches",
               "type": "js",
               "url": "/assetserver/150e9c712aa0c1d480b8ca5786f656c75cacfd5b-knockout_punches.js"
              },
              {
               "name": null,
               "type": "js",
               "url": "/assetserver/6e3698f82039facd50263f7bbeb0c3791838a567-all.js"
              },
              {
               "name": null,
               "type": "css",
               "url": "/assetserver/419f34e3cf3ccc414086b043b0cdf2e147e669b3-style.css"
              },
              {
               "name": null,
               "type": "css",
               "url": "/assetserver/76755bfdf2fdfcaa91db7c6fbc58601e7593715c-bulma_confined.min.css"
              }
             ],
             "type": "async_block"
            },
            "mount_callbacks": [
             "function () {\n    var handler = (function (ko, koPunches) {\n    ko.punches.enableAll();\n    ko.bindingHandlers.numericValue = {\n        init: function(element, valueAccessor, allBindings, data, context) {\n            var stringified = ko.observable(ko.unwrap(valueAccessor()));\n            stringified.subscribe(function(value) {\n                var val = parseFloat(value);\n                if (!isNaN(val)) {\n                    valueAccessor()(val);\n                }\n            });\n            valueAccessor().subscribe(function(value) {\n                var str = JSON.stringify(value);\n                if ((str == \"0\") && ([\"-0\", \"-0.\"].indexOf(stringified()) >= 0))\n                     return;\n                 if ([\"null\", \"\"].indexOf(str) >= 0)\n                     return;\n                stringified(str);\n            });\n            ko.applyBindingsToNode(\n                element,\n                {\n                    value: stringified,\n                    valueUpdate: allBindings.get('valueUpdate'),\n                },\n                context,\n            );\n        }\n    };\n    var json_data = {\"formatted_vals\":[\"400\",\"401\",\"402\",\"403\",\"404\",\"405\",\"406\",\"407\",\"408\",\"409\",\"410\",\"411\",\"412\",\"413\",\"414\",\"415\",\"416\",\"417\",\"418\",\"419\",\"420\",\"421\",\"422\",\"423\",\"424\",\"425\",\"426\",\"427\",\"428\",\"429\",\"430\",\"431\",\"432\",\"433\",\"434\",\"435\",\"436\",\"437\",\"438\",\"439\",\"440\",\"441\",\"442\",\"443\",\"444\",\"445\",\"446\",\"447\",\"448\",\"449\",\"450\",\"451\",\"452\",\"453\",\"454\",\"455\",\"456\",\"457\",\"458\",\"459\",\"460\",\"461\",\"462\",\"463\",\"464\",\"465\",\"466\",\"467\",\"468\",\"469\",\"470\",\"471\",\"472\",\"473\",\"474\",\"475\",\"476\",\"477\",\"478\",\"479\",\"480\",\"481\",\"482\",\"483\",\"484\",\"485\",\"486\",\"487\",\"488\",\"489\",\"490\",\"491\",\"492\",\"493\",\"494\",\"495\",\"496\",\"497\",\"498\",\"499\",\"500\"],\"changes\":WebIO.getval({\"name\":\"changes\",\"scope\":\"13555465188366710604\",\"id\":\"ob_114\",\"type\":\"observable\"}),\"index\":WebIO.getval({\"name\":\"index\",\"scope\":\"13555465188366710604\",\"id\":\"ob_113\",\"type\":\"observable\"})};\n    var self = this;\n    function AppViewModel() {\n        for (var key in json_data) {\n            var el = json_data[key];\n            this[key] = Array.isArray(el) ? ko.observableArray(el) : ko.observable(el);\n        }\n        \n        [this[\"formatted_val\"]=ko.computed(    function(){\n        return this.formatted_vals()[parseInt(this.index())-(400)];\n    }\n,this)]\n        [this[\"changes\"].subscribe((function (val){!(this.valueFromJulia[\"changes\"]) ? (WebIO.setval({\"name\":\"changes\",\"scope\":\"13555465188366710604\",\"id\":\"ob_114\",\"type\":\"observable\"},val)) : undefined; return this.valueFromJulia[\"changes\"]=false}),self),this[\"index\"].subscribe((function (val){!(this.valueFromJulia[\"index\"]) ? (WebIO.setval({\"name\":\"index\",\"scope\":\"13555465188366710604\",\"id\":\"ob_113\",\"type\":\"observable\"},val)) : undefined; return this.valueFromJulia[\"index\"]=false}),self)]\n        \n    }\n    self.model = new AppViewModel();\n    self.valueFromJulia = {};\n    for (var key in json_data) {\n        self.valueFromJulia[key] = false;\n    }\n    ko.applyBindings(self.model, self.dom);\n}\n);\n    (WebIO.importBlock({\"data\":[{\"name\":\"knockout\",\"type\":\"js\",\"url\":\"/assetserver/dcbae5b173ff1798de333fa30c9a3175db56c7be-knockout.js\"},{\"name\":\"knockout_punches\",\"type\":\"js\",\"url\":\"/assetserver/150e9c712aa0c1d480b8ca5786f656c75cacfd5b-knockout_punches.js\"}],\"type\":\"async_block\"})).then((imports) => handler.apply(this, imports));\n}\n"
            ],
            "observables": {
             "changes": {
              "id": "ob_114",
              "sync": false,
              "value": 0
             },
             "index": {
              "id": "ob_113",
              "sync": true,
              "value": 450
             }
            },
            "systemjs_options": null
           },
           "nodeType": "Scope",
           "props": {},
           "type": "node"
          }
         ],
         "instanceArgs": {
          "namespace": "html",
          "tag": "div"
         },
         "nodeType": "DOM",
         "props": {
          "className": "field interact-widget"
         },
         "type": "node"
        },
        {
         "children": [
          {
           "children": [],
           "instanceArgs": {
            "id": "ob_120",
            "name": "obs-node"
           },
           "nodeType": "ObservableNode",
           "props": {},
           "type": "node"
          }
         ],
         "instanceArgs": {
          "handlers": {},
          "id": "769083639930710067",
          "imports": {
           "data": [],
           "type": "async_block"
          },
          "mount_callbacks": [],
          "observables": {
           "obs-node": {
            "id": "ob_120",
            "sync": false,
            "value": {
             "children": [
              {
               "children": [],
               "instanceArgs": {
                "namespace": "html",
                "tag": "div"
               },
               "nodeType": "DOM",
               "props": {
                "setInnerHtml": "<img src='data:image/png;base64,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'></img>"
               },
               "type": "node"
              }
             ],
             "instanceArgs": {
              "namespace": "html",
              "tag": "div"
             },
             "nodeType": "DOM",
             "props": {
              "className": "interact-flex-row interact-widget"
             },
             "type": "node"
            }
           }
          },
          "systemjs_options": null
         },
         "nodeType": "Scope",
         "props": {},
         "type": "node"
        }
       ],
       "instanceArgs": {
        "namespace": "html",
        "tag": "div"
       },
       "nodeType": "DOM",
       "props": {},
       "type": "node"
      },
      "text/html": [
       "<div\n",
       "    class=\"webio-mountpoint\"\n",
       "    data-webio-mountpoint=\"18037267781231184372\"\n",
       ">\n",
       "    <script>\n",
       "    if (window.require && require.defined && require.defined(\"nbextensions/webio/main\")) {\n",
       "        console.log(\"Jupyter WebIO extension detected, not mounting.\");\n",
       "    } else if (window.WebIO) {\n",
       "        WebIO.mount(\n",
       "            document.querySelector('[data-webio-mountpoint=\"18037267781231184372\"]'),\n",
       "            {\"props\":{},\"nodeType\":\"DOM\",\"type\":\"node\",\"instanceArgs\":{\"namespace\":\"html\",\"tag\":\"div\"},\"children\":[{\"props\":{\"className\":\"field interact-widget\"},\"nodeType\":\"DOM\",\"type\":\"node\",\"instanceArgs\":{\"namespace\":\"html\",\"tag\":\"div\"},\"children\":[{\"props\":{},\"nodeType\":\"Scope\",\"type\":\"node\",\"instanceArgs\":{\"imports\":{\"data\":[{\"name\":\"knockout\",\"type\":\"js\",\"url\":\"\\/assetserver\\/dcbae5b173ff1798de333fa30c9a3175db56c7be-knockout.js\"},{\"name\":\"knockout_punches\",\"type\":\"js\",\"url\":\"\\/assetserver\\/150e9c712aa0c1d480b8ca5786f656c75cacfd5b-knockout_punches.js\"},{\"name\":null,\"type\":\"js\",\"url\":\"\\/assetserver\\/6e3698f82039facd50263f7bbeb0c3791838a567-all.js\"},{\"name\":null,\"type\":\"css\",\"url\":\"\\/assetserver\\/419f34e3cf3ccc414086b043b0cdf2e147e669b3-style.css\"},{\"name\":null,\"type\":\"css\",\"url\":\"\\/assetserver\\/76755bfdf2fdfcaa91db7c6fbc58601e7593715c-bulma_confined.min.css\"}],\"type\":\"async_block\"},\"id\":\"13555465188366710604\",\"handlers\":{\"changes\":[\"(function (val){return (val!=this.model[\\\"changes\\\"]()) ? (this.valueFromJulia[\\\"changes\\\"]=true, this.model[\\\"changes\\\"](val)) : undefined})\"],\"index\":[\"(function (val){return (val!=this.model[\\\"index\\\"]()) ? (this.valueFromJulia[\\\"index\\\"]=true, this.model[\\\"index\\\"](val)) : undefined})\"]},\"systemjs_options\":null,\"mount_callbacks\":[\"function () {\\n    var handler = (function (ko, koPunches) {\\n    ko.punches.enableAll();\\n    ko.bindingHandlers.numericValue = {\\n        init: function(element, valueAccessor, allBindings, data, context) {\\n            var stringified = ko.observable(ko.unwrap(valueAccessor()));\\n            stringified.subscribe(function(value) {\\n                var val = parseFloat(value);\\n                if (!isNaN(val)) {\\n                    valueAccessor()(val);\\n                }\\n            });\\n            valueAccessor().subscribe(function(value) {\\n                var str = JSON.stringify(value);\\n                if ((str == \\\"0\\\") && ([\\\"-0\\\", \\\"-0.\\\"].indexOf(stringified()) >= 0))\\n                     return;\\n                 if ([\\\"null\\\", \\\"\\\"].indexOf(str) >= 0)\\n                     return;\\n                stringified(str);\\n            });\\n            ko.applyBindingsToNode(\\n                element,\\n                {\\n                    value: stringified,\\n                    valueUpdate: allBindings.get('valueUpdate'),\\n                },\\n                context,\\n            );\\n        }\\n    };\\n    var json_data = {\\\"formatted_vals\\\":[\\\"400\\\",\\\"401\\\",\\\"402\\\",\\\"403\\\",\\\"404\\\",\\\"405\\\",\\\"406\\\",\\\"407\\\",\\\"408\\\",\\\"409\\\",\\\"410\\\",\\\"411\\\",\\\"412\\\",\\\"413\\\",\\\"414\\\",\\\"415\\\",\\\"416\\\",\\\"417\\\",\\\"418\\\",\\\"419\\\",\\\"420\\\",\\\"421\\\",\\\"422\\\",\\\"423\\\",\\\"424\\\",\\\"425\\\",\\\"426\\\",\\\"427\\\",\\\"428\\\",\\\"429\\\",\\\"430\\\",\\\"431\\\",\\\"432\\\",\\\"433\\\",\\\"434\\\",\\\"435\\\",\\\"436\\\",\\\"437\\\",\\\"438\\\",\\\"439\\\",\\\"440\\\",\\\"441\\\",\\\"442\\\",\\\"443\\\",\\\"444\\\",\\\"445\\\",\\\"446\\\",\\\"447\\\",\\\"448\\\",\\\"449\\\",\\\"450\\\",\\\"451\\\",\\\"452\\\",\\\"453\\\",\\\"454\\\",\\\"455\\\",\\\"456\\\",\\\"457\\\",\\\"458\\\",\\\"459\\\",\\\"460\\\",\\\"461\\\",\\\"462\\\",\\\"463\\\",\\\"464\\\",\\\"465\\\",\\\"466\\\",\\\"467\\\",\\\"468\\\",\\\"469\\\",\\\"470\\\",\\\"471\\\",\\\"472\\\",\\\"473\\\",\\\"474\\\",\\\"475\\\",\\\"476\\\",\\\"477\\\",\\\"478\\\",\\\"479\\\",\\\"480\\\",\\\"481\\\",\\\"482\\\",\\\"483\\\",\\\"484\\\",\\\"485\\\",\\\"486\\\",\\\"487\\\",\\\"488\\\",\\\"489\\\",\\\"490\\\",\\\"491\\\",\\\"492\\\",\\\"493\\\",\\\"494\\\",\\\"495\\\",\\\"496\\\",\\\"497\\\",\\\"498\\\",\\\"499\\\",\\\"500\\\"],\\\"changes\\\":WebIO.getval({\\\"name\\\":\\\"changes\\\",\\\"scope\\\":\\\"13555465188366710604\\\",\\\"id\\\":\\\"ob_114\\\",\\\"type\\\":\\\"observable\\\"}),\\\"index\\\":WebIO.getval({\\\"name\\\":\\\"index\\\",\\\"scope\\\":\\\"13555465188366710604\\\",\\\"id\\\":\\\"ob_113\\\",\\\"type\\\":\\\"observable\\\"})};\\n    var self = this;\\n    function AppViewModel() {\\n        for (var key in json_data) {\\n            var el = json_data[key];\\n            this[key] = Array.isArray(el) ? ko.observableArray(el) : ko.observable(el);\\n        }\\n        \\n        [this[\\\"formatted_val\\\"]=ko.computed(    function(){\\n        return this.formatted_vals()[parseInt(this.index())-(400)];\\n    }\\n,this)]\\n        [this[\\\"changes\\\"].subscribe((function (val){!(this.valueFromJulia[\\\"changes\\\"]) ? (WebIO.setval({\\\"name\\\":\\\"changes\\\",\\\"scope\\\":\\\"13555465188366710604\\\",\\\"id\\\":\\\"ob_114\\\",\\\"type\\\":\\\"observable\\\"},val)) : undefined; return this.valueFromJulia[\\\"changes\\\"]=false}),self),this[\\\"index\\\"].subscribe((function (val){!(this.valueFromJulia[\\\"index\\\"]) ? (WebIO.setval({\\\"name\\\":\\\"index\\\",\\\"scope\\\":\\\"13555465188366710604\\\",\\\"id\\\":\\\"ob_113\\\",\\\"type\\\":\\\"observable\\\"},val)) : undefined; return this.valueFromJulia[\\\"index\\\"]=false}),self)]\\n        \\n    }\\n    self.model = new AppViewModel();\\n    self.valueFromJulia = {};\\n    for (var key in json_data) {\\n        self.valueFromJulia[key] = false;\\n    }\\n    ko.applyBindings(self.model, self.dom);\\n}\\n);\\n    (WebIO.importBlock({\\\"data\\\":[{\\\"name\\\":\\\"knockout\\\",\\\"type\\\":\\\"js\\\",\\\"url\\\":\\\"\\/assetserver\\/dcbae5b173ff1798de333fa30c9a3175db56c7be-knockout.js\\\"},{\\\"name\\\":\\\"knockout_punches\\\",\\\"type\\\":\\\"js\\\",\\\"url\\\":\\\"\\/assetserver\\/150e9c712aa0c1d480b8ca5786f656c75cacfd5b-knockout_punches.js\\\"}],\\\"type\\\":\\\"async_block\\\"})).then((imports) => handler.apply(this, imports));\\n}\\n\"],\"observables\":{\"changes\":{\"sync\":false,\"id\":\"ob_114\",\"value\":0},\"index\":{\"sync\":true,\"id\":\"ob_113\",\"value\":450}}},\"children\":[{\"props\":{\"className\":\"interact-flex-row interact-widget\"},\"nodeType\":\"DOM\",\"type\":\"node\",\"instanceArgs\":{\"namespace\":\"html\",\"tag\":\"div\"},\"children\":[{\"props\":{\"className\":\"interact-flex-row-left\"},\"nodeType\":\"DOM\",\"type\":\"node\",\"instanceArgs\":{\"namespace\":\"html\",\"tag\":\"div\"},\"children\":[{\"props\":{\"className\":\"interact \",\"style\":{\"padding\":\"5px 10px 0px 10px\"}},\"nodeType\":\"DOM\",\"type\":\"node\",\"instanceArgs\":{\"namespace\":\"html\",\"tag\":\"label\"},\"children\":[\"i\"]}]},{\"props\":{\"className\":\"interact-flex-row-center\"},\"nodeType\":\"DOM\",\"type\":\"node\",\"instanceArgs\":{\"namespace\":\"html\",\"tag\":\"div\"},\"children\":[{\"props\":{\"max\":500,\"min\":400,\"attributes\":{\"type\":\"range\",\"data-bind\":\"numericValue: index, valueUpdate: 'input', event: {change: function (){this.changes(this.changes()+1)}}\",\"orient\":\"horizontal\"},\"step\":1,\"className\":\"slider slider is-fullwidth\",\"style\":{}},\"nodeType\":\"DOM\",\"type\":\"node\",\"instanceArgs\":{\"namespace\":\"html\",\"tag\":\"input\"},\"children\":[]}]},{\"props\":{\"className\":\"interact-flex-row-right\"},\"nodeType\":\"DOM\",\"type\":\"node\",\"instanceArgs\":{\"namespace\":\"html\",\"tag\":\"div\"},\"children\":[{\"props\":{\"attributes\":{\"data-bind\":\"text: formatted_val\"}},\"nodeType\":\"DOM\",\"type\":\"node\",\"instanceArgs\":{\"namespace\":\"html\",\"tag\":\"p\"},\"children\":[]}]}]}]}]},{\"props\":{},\"nodeType\":\"Scope\",\"type\":\"node\",\"instanceArgs\":{\"imports\":{\"data\":[],\"type\":\"async_block\"},\"id\":\"8347127921957140249\",\"handlers\":{},\"systemjs_options\":null,\"mount_callbacks\":[],\"observables\":{\"obs-node\":{\"sync\":false,\"id\":\"ob_118\",\"value\":{\"props\":{\"className\":\"interact-flex-row interact-widget\"},\"nodeType\":\"DOM\",\"type\":\"node\",\"instanceArgs\":{\"namespace\":\"html\",\"tag\":\"div\"},\"children\":[{\"props\":{\"setInnerHtml\":\"<img src='data:image\\/png;base64,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'><\\/img>\"},\"nodeType\":\"DOM\",\"type\":\"node\",\"instanceArgs\":{\"namespace\":\"html\",\"tag\":\"div\"},\"children\":[]}]}}}},\"children\":[{\"props\":{},\"nodeType\":\"ObservableNode\",\"type\":\"node\",\"instanceArgs\":{\"id\":\"ob_118\",\"name\":\"obs-node\"},\"children\":[]}]}]},\n",
       "            window,\n",
       "        );\n",
       "    } else {\n",
       "        document\n",
       "            .querySelector('[data-webio-mountpoint=\"18037267781231184372\"]')\n",
       "            .innerHTML = '<strong>WebIO not detected.</strong>';\n",
       "    }\n",
       "    </script>\n",
       "</div>\n"
      ],
      "text/plain": [
       "Node{WebIO.DOM}(WebIO.DOM(:html, :div), Any[Node{DOM}(DOM(:html, :div), Any[Scope(Node{DOM}(DOM(:html, :div), Any[Node{DOM}(DOM(:html, :div), Any[Node{DOM}(DOM(:html, :label), Any[\"i\"], Dict{Symbol,Any}(:className=>\"interact \",:style=>Dict{Any,Any}(:padding=>\"5px 10px 0px 10px\")))], Dict{Symbol,Any}(:className=>\"interact-flex-row-left\")), Node{DOM}(DOM(:html, :div), Any[Node{DOM}(DOM(:html, :input), Any[], Dict{Symbol,Any}(:max=>500,:min=>400,:attributes=>Dict{Any,Any}(:type=>\"range\",Symbol(\"data-bind\")=>\"numericValue: index, valueUpdate: 'input', event: {change: function (){this.changes(this.changes()+1)}}\",\"orient\"=>\"horizontal\"),:step=>1,:className=>\"slider slider is-fullwidth\",:style=>Dict{Any,Any}()))], Dict{Symbol,Any}(:className=>\"interact-flex-row-center\")), Node{DOM}(DOM(:html, :div), Any[Node{DOM}(DOM(:html, :p), Any[], Dict{Symbol,Any}(:attributes=>Dict(\"data-bind\"=>\"text: formatted_val\")))], Dict{Symbol,Any}(:className=>\"interact-flex-row-right\"))], Dict{Symbol,Any}(:className=>\"interact-flex-row interact-widget\")), Dict{String,Tuple{Observables.AbstractObservable,Union{Nothing, Bool}}}(\"changes\"=>(Observable{Int64} with 1 listeners. Value:\n",
       "0, nothing),\"index\"=>(Observable{Int64} with 2 listeners. Value:\n",
       "450, nothing)), Set(String[]), nothing, Asset[Asset(\"js\", \"knockout\", \"/home/raunak/.julia/packages/Knockout/1sDlc/src/../assets/knockout.js\"), Asset(\"js\", \"knockout_punches\", \"/home/raunak/.julia/packages/Knockout/1sDlc/src/../assets/knockout_punches.js\"), Asset(\"js\", nothing, \"/home/raunak/.julia/packages/InteractBase/l8cEC/src/../assets/all.js\"), Asset(\"css\", nothing, \"/home/raunak/.julia/packages/InteractBase/l8cEC/src/../assets/style.css\"), Asset(\"css\", nothing, \"/home/raunak/.julia/packages/Interact/0klKX/src/../assets/bulma_confined.min.css\")], Dict{Any,Any}(\"changes\"=>Any[JSString(\"(function (val){return (val!=this.model[\\\"changes\\\"]()) ? (this.valueFromJulia[\\\"changes\\\"]=true, this.model[\\\"changes\\\"](val)) : undefined})\")],\"index\"=>Any[JSString(\"(function (val){return (val!=this.model[\\\"index\\\"]()) ? (this.valueFromJulia[\\\"index\\\"]=true, this.model[\\\"index\\\"](val)) : undefined})\")]), ConnectionPool(Channel{Any}(sz_max:9223372036854775807,sz_curr:0), Set(AbstractConnection[]), Channel{AbstractConnection}(sz_max:32,sz_curr:0)), WebIO.JSString[JSString(\"function () {\\n    var handler = (function (ko, koPunches) {\\n    ko.punches.enableAll();\\n    ko.bindingHandlers.numericValue = {\\n        init: function(element, valueAccessor, allBindings, data, context) {\\n            var stringified = ko.observable(ko.unwrap(valueAccessor()));\\n            stringified.subscribe(function(value) {\\n                var val = parseFloat(value);\\n                if (!isNaN(val)) {\\n                    valueAccessor()(val);\\n                }\\n            });\\n            valueAccessor().subscribe(function(value) {\\n                var str = JSON.stringify(value);\\n                if ((str == \\\"0\\\") && ([\\\"-0\\\", \\\"-0.\\\"].indexOf(stringified()) >= 0))\\n                     return;\\n                 if ([\\\"null\\\", \\\"\\\"].indexOf(str) >= 0)\\n                     return;\\n                stringified(str);\\n            });\\n            ko.applyBindingsToNode(\\n                element,\\n                {\\n                    value: stringified,\\n                    valueUpdate: allBindings.get('valueUpdate'),\\n                },\\n                context,\\n            );\\n        }\\n    };\\n    var json_data = {\\\"formatted_vals\\\":[\\\"400\\\",\\\"401\\\",\\\"402\\\",\\\"403\\\",\\\"404\\\",\\\"405\\\",\\\"406\\\",\\\"407\\\",\\\"408\\\",\\\"409\\\",\\\"410\\\",\\\"411\\\",\\\"412\\\",\\\"413\\\",\\\"414\\\",\\\"415\\\",\\\"416\\\",\\\"417\\\",\\\"418\\\",\\\"419\\\",\\\"420\\\",\\\"421\\\",\\\"422\\\",\\\"423\\\",\\\"424\\\",\\\"425\\\",\\\"426\\\",\\\"427\\\",\\\"428\\\",\\\"429\\\",\\\"430\\\",\\\"431\\\",\\\"432\\\",\\\"433\\\",\\\"434\\\",\\\"435\\\",\\\"436\\\",\\\"437\\\",\\\"438\\\",\\\"439\\\",\\\"440\\\",\\\"441\\\",\\\"442\\\",\\\"443\\\",\\\"444\\\",\\\"445\\\",\\\"446\\\",\\\"447\\\",\\\"448\\\",\\\"449\\\",\\\"450\\\",\\\"451\\\",\\\"452\\\",\\\"453\\\",\\\"454\\\",\\\"455\\\",\\\"456\\\",\\\"457\\\",\\\"458\\\",\\\"459\\\",\\\"460\\\",\\\"461\\\",\\\"462\\\",\\\"463\\\",\\\"464\\\",\\\"465\\\",\\\"466\\\",\\\"467\\\",\\\"468\\\",\\\"469\\\",\\\"470\\\",\\\"471\\\",\\\"472\\\",\\\"473\\\",\\\"474\\\",\\\"475\\\",\\\"476\\\",\\\"477\\\",\\\"478\\\",\\\"479\\\",\\\"480\\\",\\\"481\\\",\\\"482\\\",\\\"483\\\",\\\"484\\\",\\\"485\\\",\\\"486\\\",\\\"487\\\",\\\"488\\\",\\\"489\\\",\\\"490\\\",\\\"491\\\",\\\"492\\\",\\\"493\\\",\\\"494\\\",\\\"495\\\",\\\"496\\\",\\\"497\\\",\\\"498\\\",\\\"499\\\",\\\"500\\\"],\\\"changes\\\":WebIO.getval({\\\"name\\\":\\\"changes\\\",\\\"scope\\\":\\\"13555465188366710604\\\",\\\"id\\\":\\\"ob_114\\\",\\\"type\\\":\\\"observable\\\"}),\\\"index\\\":WebIO.getval({\\\"name\\\":\\\"index\\\",\\\"scope\\\":\\\"13555465188366710604\\\",\\\"id\\\":\\\"ob_113\\\",\\\"type\\\":\\\"observable\\\"})};\\n    var self = this;\\n    function AppViewModel() {\\n        for (var key in json_data) {\\n            var el = json_data[key];\\n            this[key] = Array.isArray(el) ? ko.observableArray(el) : ko.observable(el);\\n        }\\n        \\n        [this[\\\"formatted_val\\\"]=ko.computed(    function(){\\n        return this.formatted_vals()[parseInt(this.index())-(400)];\\n    }\\n,this)]\\n        [this[\\\"changes\\\"].subscribe((function (val){!(this.valueFromJulia[\\\"changes\\\"]) ? (WebIO.setval({\\\"name\\\":\\\"changes\\\",\\\"scope\\\":\\\"13555465188366710604\\\",\\\"id\\\":\\\"ob_114\\\",\\\"type\\\":\\\"observable\\\"},val)) : undefined; return this.valueFromJulia[\\\"changes\\\"]=false}),self),this[\\\"index\\\"].subscribe((function (val){!(this.valueFromJulia[\\\"index\\\"]) ? (WebIO.setval({\\\"name\\\":\\\"index\\\",\\\"scope\\\":\\\"13555465188366710604\\\",\\\"id\\\":\\\"ob_113\\\",\\\"type\\\":\\\"observable\\\"},val)) : undefined; return this.valueFromJulia[\\\"index\\\"]=false}),self)]\\n        \\n    }\\n    self.model = new AppViewModel();\\n    self.valueFromJulia = {};\\n    for (var key in json_data) {\\n        self.valueFromJulia[key] = false;\\n    }\\n    ko.applyBindings(self.model, self.dom);\\n}\\n);\\n    (WebIO.importBlock({\\\"data\\\":[{\\\"name\\\":\\\"knockout\\\",\\\"type\\\":\\\"js\\\",\\\"url\\\":\\\"/assetserver/dcbae5b173ff1798de333fa30c9a3175db56c7be-knockout.js\\\"},{\\\"name\\\":\\\"knockout_punches\\\",\\\"type\\\":\\\"js\\\",\\\"url\\\":\\\"/assetserver/150e9c712aa0c1d480b8ca5786f656c75cacfd5b-knockout_punches.js\\\"}],\\\"type\\\":\\\"async_block\\\"})).then((imports) => handler.apply(this, imports));\\n}\\n\")])], Dict{Symbol,Any}(:className=>\"field interact-widget\")), Observable{Any} with 0 listeners. Value:\n",
       "Node{DOM}(DOM(:html, :div), Any[CairoSurfaceBase{UInt32}(Ptr{Nothing} @0x00000000089d7b20, 1000.0, 600.0)], Dict{Symbol,Any}(:className=>\"interact-flex-row interact-widget\"))], Dict{Symbol,Any}())"
      ]
     },
     "execution_count": 31,
     "metadata": {
      "application/vnd.webio.node+json": {
       "kernelId": "9a17c233-4d7a-4025-b469-693f3ba97497"
      }
     },
     "output_type": "execute_result"
    }
   ],
   "source": [
    "# argument 1 loads i101 7:50 to 8:05.\n",
    "# load_trajdata function defined in NGSIM.jl/src/trajdata.jl\n",
    "td1 = load_trajdata(1); \n",
    "\n",
    "scene = Scene(500)\n",
    "egoid = [25,5,8,9,10,12,21] # These vehicle ids will be colored blue if the egoid test is performed\n",
    "\n",
    "# List of the vehicle ids in the scene\n",
    "# veh.id = 2 5 8 9 10 12 13 14 18 20 21 22 23 25 26 27 31 32 34 35 39 48\n",
    "\n",
    "# Drive here in the notebook. Replay the trajectory as recorded in the ngsim data\n",
    "@manipulate for i in 400:500\n",
    "    temp_scene = get!(scene,td1,i)\n",
    "    \n",
    "    carcolors = Dict{Int,Colorant}()\n",
    "    for veh in temp_scene\n",
    "        #@show veh.id\n",
    "        #carcolors[veh.id] = in(veh.id, egoid) ? colorant\"blue\" : colorant\"green\"\n",
    "        \n",
    "            # Color cars green when they are in segment 3\n",
    "        if veh.state.posF.roadind.tag.segment == 3\n",
    "            carcolors[veh.id] = colorant\"green\"\n",
    "        end\n",
    "        \n",
    "    end\n",
    "    overlays = [TextOverlay(text=[\"$(veh.id)\"], incameraframe=true, \n",
    "                pos=VecSE2(veh.state.posG.x+0.5,veh.state.posG.y+0.5)) for veh in scene]\n",
    "    render(temp_scene, ROADWAY_101, \n",
    "        #cam=CarFollowCamera{Int}(2,5.0),\n",
    "        #cam=StaticCamera(VecE2(1966400, 570900), 5.0),\n",
    "         cam=FitToContentCamera(0.),\n",
    "        overlays,\n",
    "        car_colors=carcolors)\n",
    "end"
   ]
  },
  {
   "cell_type": "code",
   "execution_count": 17,
   "metadata": {},
   "outputs": [
    {
     "name": "stdout",
     "output_type": "stream",
     "text": [
      "2 is in segment 3\n",
      "4 is in segment 3\n",
      "5 is in segment 3\n",
      "6 is in segment 3\n",
      "8 is in segment 3\n",
      "9 is in segment 3\n",
      "10 is in segment 3\n",
      "12 not in segment 3\n",
      "13 is in segment 3\n",
      "14 is in segment 3\n",
      "18 not in segment 3\n",
      "20 not in segment 3\n",
      "21 not in segment 3\n",
      "22 not in segment 3\n",
      "23 not in segment 3\n",
      "25 not in segment 3\n",
      "26 not in segment 3\n",
      "27 not in segment 3\n",
      "31 not in segment 3\n",
      "32 not in segment 3\n",
      "34 not in segment 3\n",
      "35 not in segment 3\n",
      "37 not in segment 3\n",
      "39 not in segment 3\n",
      "40 not in segment 3\n",
      "43 not in segment 3\n",
      "44 not in segment 3\n",
      "47 not in segment 3\n",
      "48 not in segment 3\n",
      "49 not in segment 3\n",
      "51 not in segment 3\n",
      "53 not in segment 3\n",
      "54 not in segment 3\n",
      "55 not in segment 3\n",
      "56 not in segment 3\n",
      "60 not in segment 3\n",
      "62 not in segment 3\n",
      "71 not in segment 3\n",
      "74 not in segment 3\n",
      "2 is in segment 3\n",
      "4 is in segment 3\n",
      "5 is in segment 3\n",
      "6 is in segment 3\n",
      "8 is in segment 3\n",
      "9 is in segment 3\n",
      "10 is in segment 3\n",
      "12 not in segment 3\n",
      "13 is in segment 3\n",
      "14 is in segment 3\n",
      "18 not in segment 3\n",
      "20 not in segment 3\n",
      "21 not in segment 3\n",
      "22 not in segment 3\n",
      "23 not in segment 3\n",
      "25 not in segment 3\n",
      "26 not in segment 3\n",
      "27 not in segment 3\n",
      "31 not in segment 3\n",
      "32 not in segment 3\n",
      "34 not in segment 3\n",
      "35 not in segment 3\n",
      "37 not in segment 3\n",
      "39 not in segment 3\n",
      "40 not in segment 3\n",
      "43 not in segment 3\n",
      "44 not in segment 3\n",
      "47 not in segment 3\n",
      "48 not in segment 3\n",
      "49 not in segment 3\n",
      "51 not in segment 3\n",
      "53 not in segment 3\n",
      "54 not in segment 3\n",
      "55 not in segment 3\n",
      "56 not in segment 3\n",
      "57 not in segment 3\n",
      "60 not in segment 3\n",
      "62 not in segment 3\n",
      "71 not in segment 3\n",
      "74 not in segment 3\n",
      "2 is in segment 3\n",
      "4 is in segment 3\n",
      "5 is in segment 3\n",
      "6 is in segment 3\n",
      "8 is in segment 3\n",
      "9 is in segment 3\n",
      "10 is in segment 3\n",
      "12 not in segment 3\n",
      "13 is in segment 3\n",
      "14 is in segment 3\n",
      "18 not in segment 3\n",
      "20 not in segment 3\n",
      "21 not in segment 3\n",
      "22 not in segment 3\n",
      "23 not in segment 3\n",
      "25 not in segment 3\n",
      "26 not in segment 3\n",
      "27 not in segment 3\n",
      "31 not in segment 3\n",
      "32 not in segment 3\n",
      "34 not in segment 3\n",
      "35 not in segment 3\n",
      "37 not in segment 3\n",
      "39 not in segment 3\n",
      "40 not in segment 3\n",
      "43 not in segment 3\n",
      "44 not in segment 3\n",
      "47 not in segment 3\n",
      "48 not in segment 3\n",
      "49 not in segment 3\n",
      "51 not in segment 3\n",
      "53 not in segment 3\n",
      "54 not in segment 3\n",
      "55 not in segment 3\n",
      "56 not in segment 3\n",
      "57 not in segment 3\n",
      "60 not in segment 3\n",
      "62 not in segment 3\n",
      "71 not in segment 3\n",
      "74 not in segment 3\n",
      "2 is in segment 3\n",
      "4 is in segment 3\n",
      "5 is in segment 3\n",
      "6 is in segment 3\n",
      "8 is in segment 3\n",
      "9 is in segment 3\n",
      "10 is in segment 3\n",
      "12 not in segment 3\n",
      "13 is in segment 3\n",
      "14 is in segment 3\n",
      "18 not in segment 3\n",
      "20 not in segment 3\n",
      "21 not in segment 3\n",
      "22 not in segment 3\n",
      "23 not in segment 3\n",
      "25 not in segment 3\n",
      "26 not in segment 3\n",
      "27 not in segment 3\n",
      "31 not in segment 3\n",
      "32 not in segment 3\n",
      "34 not in segment 3\n",
      "35 not in segment 3\n",
      "37 not in segment 3\n",
      "39 not in segment 3\n",
      "40 not in segment 3\n",
      "43 not in segment 3\n",
      "44 not in segment 3\n",
      "47 not in segment 3\n",
      "48 not in segment 3\n",
      "49 not in segment 3\n",
      "51 not in segment 3\n",
      "53 not in segment 3\n",
      "54 not in segment 3\n",
      "55 not in segment 3\n",
      "56 not in segment 3\n",
      "57 not in segment 3\n",
      "60 not in segment 3\n",
      "62 not in segment 3\n",
      "71 not in segment 3\n",
      "74 not in segment 3\n",
      "2 is in segment 3\n",
      "4 is in segment 3\n",
      "5 is in segment 3\n",
      "6 is in segment 3\n",
      "8 is in segment 3\n",
      "9 is in segment 3\n",
      "10 is in segment 3\n",
      "12 not in segment 3\n",
      "13 is in segment 3\n",
      "14 is in segment 3\n",
      "18 not in segment 3\n",
      "20 not in segment 3\n",
      "21 not in segment 3\n",
      "22 not in segment 3\n",
      "23 not in segment 3\n",
      "25 not in segment 3\n",
      "26 not in segment 3\n",
      "27 not in segment 3\n",
      "31 not in segment 3\n",
      "32 not in segment 3\n",
      "34 not in segment 3\n",
      "35 not in segment 3\n",
      "37 not in segment 3\n",
      "39 not in segment 3\n",
      "40 not in segment 3\n",
      "43 not in segment 3\n",
      "44 not in segment 3\n",
      "47 not in segment 3\n",
      "48 not in segment 3\n",
      "49 not in segment 3\n",
      "51 not in segment 3\n",
      "53 not in segment 3\n",
      "54 not in segment 3\n",
      "55 not in segment 3\n",
      "56 not in segment 3\n",
      "57 not in segment 3\n",
      "60 not in segment 3\n",
      "62 not in segment 3\n",
      "71 not in segment 3\n",
      "74 not in segment 3\n",
      "75 not in segment 3\n",
      "2 is in segment 3\n",
      "4 is in segment 3\n",
      "5 is in segment 3\n",
      "6 is in segment 3\n",
      "8 is in segment 3\n",
      "9 is in segment 3\n",
      "10 is in segment 3\n",
      "12 not in segment 3\n",
      "13 is in segment 3\n",
      "14 is in segment 3\n",
      "18 not in segment 3\n",
      "20 not in segment 3\n",
      "21 not in segment 3\n",
      "22 not in segment 3\n",
      "23 not in segment 3\n",
      "25 not in segment 3\n",
      "26 not in segment 3\n",
      "27 not in segment 3\n",
      "31 not in segment 3\n",
      "32 not in segment 3\n",
      "34 not in segment 3\n",
      "35 not in segment 3\n",
      "37 not in segment 3\n",
      "39 not in segment 3\n",
      "40 not in segment 3\n",
      "43 not in segment 3\n",
      "44 not in segment 3\n",
      "47 not in segment 3\n",
      "48 not in segment 3\n",
      "49 not in segment 3\n",
      "51 not in segment 3\n",
      "53 not in segment 3\n",
      "54 not in segment 3\n",
      "55 not in segment 3\n",
      "56 not in segment 3\n",
      "57 not in segment 3\n",
      "60 not in segment 3\n",
      "62 not in segment 3\n",
      "71 not in segment 3\n",
      "74 not in segment 3\n",
      "75 not in segment 3\n",
      "2 is in segment 3\n",
      "4 is in segment 3\n",
      "5 is in segment 3\n",
      "6 is in segment 3\n",
      "8 is in segment 3\n",
      "9 is in segment 3\n",
      "10 is in segment 3\n",
      "12 not in segment 3\n",
      "13 is in segment 3\n",
      "14 is in segment 3\n",
      "18 not in segment 3\n",
      "20 not in segment 3\n",
      "21 not in segment 3\n",
      "22 not in segment 3\n",
      "23 not in segment 3\n",
      "25 not in segment 3\n",
      "26 not in segment 3\n",
      "27 not in segment 3\n",
      "31 not in segment 3\n",
      "32 not in segment 3\n",
      "34 not in segment 3\n",
      "35 not in segment 3\n",
      "37 not in segment 3\n",
      "39 not in segment 3\n",
      "40 not in segment 3\n",
      "43 not in segment 3\n",
      "44 not in segment 3\n",
      "47 not in segment 3\n",
      "48 not in segment 3\n",
      "49 not in segment 3\n",
      "51 not in segment 3\n",
      "53 not in segment 3\n",
      "54 not in segment 3\n",
      "55 not in segment 3\n",
      "56 not in segment 3\n",
      "57 not in segment 3\n",
      "60 not in segment 3\n",
      "62 not in segment 3\n",
      "71 not in segment 3\n",
      "74 not in segment 3\n",
      "75 not in segment 3\n",
      "2 is in segment 3\n",
      "4 is in segment 3\n",
      "5 is in segment 3\n",
      "6 is in segment 3\n",
      "8 is in segment 3\n",
      "9 is in segment 3\n",
      "10 is in segment 3\n",
      "12 not in segment 3\n",
      "13 is in segment 3\n",
      "14 is in segment 3\n",
      "18 not in segment 3\n",
      "20 not in segment 3\n",
      "21 not in segment 3\n",
      "22 not in segment 3\n",
      "23 not in segment 3\n",
      "25 not in segment 3\n",
      "26 not in segment 3\n",
      "27 not in segment 3\n",
      "31 not in segment 3\n",
      "32 not in segment 3\n",
      "34 not in segment 3\n",
      "35 not in segment 3\n",
      "37 not in segment 3\n",
      "39 not in segment 3\n",
      "40 not in segment 3\n",
      "43 not in segment 3\n",
      "44 not in segment 3\n",
      "47 not in segment 3\n",
      "48 not in segment 3\n",
      "49 not in segment 3\n",
      "51 not in segment 3\n",
      "53 not in segment 3\n",
      "54 not in segment 3\n",
      "55 not in segment 3\n",
      "56 not in segment 3\n",
      "57 not in segment 3\n",
      "60 not in segment 3\n",
      "62 not in segment 3\n",
      "71 not in segment 3\n",
      "74 not in segment 3\n",
      "75 not in segment 3\n",
      "2 is in segment 3\n",
      "4 is in segment 3\n",
      "5 is in segment 3\n",
      "6 is in segment 3\n",
      "8 is in segment 3\n",
      "9 is in segment 3\n",
      "10 is in segment 3\n",
      "12 not in segment 3\n",
      "13 is in segment 3\n",
      "14 is in segment 3\n",
      "18 not in segment 3\n",
      "20 not in segment 3\n",
      "21 not in segment 3\n",
      "22 not in segment 3\n",
      "23 not in segment 3\n",
      "25 not in segment 3\n",
      "26 not in segment 3\n",
      "27 not in segment 3\n",
      "31 not in segment 3\n",
      "32 not in segment 3\n",
      "34 not in segment 3\n",
      "35 not in segment 3\n",
      "37 not in segment 3\n",
      "39 not in segment 3\n",
      "40 not in segment 3\n",
      "43 not in segment 3\n",
      "44 not in segment 3\n",
      "47 not in segment 3\n",
      "48 not in segment 3\n",
      "49 not in segment 3\n",
      "51 not in segment 3\n",
      "53 not in segment 3\n",
      "54 not in segment 3\n",
      "55 not in segment 3\n",
      "56 not in segment 3\n",
      "57 not in segment 3\n",
      "60 not in segment 3\n",
      "62 not in segment 3\n",
      "71 not in segment 3\n",
      "74 not in segment 3\n",
      "75 not in segment 3\n",
      "2 is in segment 3\n",
      "4 is in segment 3\n",
      "5 is in segment 3\n",
      "6 is in segment 3\n",
      "8 is in segment 3\n",
      "9 is in segment 3\n",
      "10 is in segment 3\n",
      "12 not in segment 3\n",
      "13 is in segment 3\n",
      "14 is in segment 3\n",
      "18 not in segment 3\n",
      "20 not in segment 3\n",
      "21 not in segment 3\n",
      "22 not in segment 3\n",
      "23 not in segment 3\n",
      "25 not in segment 3\n",
      "26 not in segment 3\n",
      "27 not in segment 3\n",
      "31 not in segment 3\n",
      "32 not in segment 3\n",
      "34 not in segment 3\n",
      "35 not in segment 3\n",
      "37 not in segment 3\n",
      "39 not in segment 3\n",
      "40 not in segment 3\n",
      "43 not in segment 3\n",
      "44 not in segment 3\n",
      "47 not in segment 3\n",
      "48 not in segment 3\n",
      "49 not in segment 3\n",
      "51 not in segment 3\n",
      "53 not in segment 3\n",
      "54 not in segment 3\n",
      "55 not in segment 3\n",
      "56 not in segment 3\n",
      "57 not in segment 3\n",
      "60 not in segment 3\n",
      "62 not in segment 3\n",
      "71 not in segment 3\n",
      "74 not in segment 3\n",
      "75 not in segment 3\n",
      "2 is in segment 3\n",
      "4 is in segment 3\n",
      "5 is in segment 3\n",
      "6 is in segment 3\n",
      "8 is in segment 3\n",
      "9 is in segment 3\n",
      "10 is in segment 3\n",
      "12 not in segment 3\n",
      "13 is in segment 3\n",
      "14 is in segment 3\n",
      "18 not in segment 3\n",
      "20 not in segment 3\n",
      "21 is in segment 3\n",
      "22 not in segment 3\n",
      "23 not in segment 3\n",
      "25 not in segment 3\n",
      "26 not in segment 3\n",
      "27 not in segment 3\n",
      "31 not in segment 3\n",
      "32 not in segment 3\n",
      "34 not in segment 3\n",
      "35 not in segment 3\n",
      "37 not in segment 3\n",
      "39 not in segment 3\n",
      "40 not in segment 3\n",
      "43 not in segment 3\n",
      "44 not in segment 3\n",
      "47 not in segment 3\n",
      "48 not in segment 3\n",
      "49 not in segment 3\n",
      "51 not in segment 3\n",
      "53 not in segment 3\n",
      "54 not in segment 3\n",
      "55 not in segment 3\n",
      "56 not in segment 3\n",
      "57 not in segment 3\n",
      "60 not in segment 3\n",
      "62 not in segment 3\n",
      "71 not in segment 3\n",
      "74 not in segment 3\n",
      "75 not in segment 3\n"
     ]
    }
   ],
   "source": [
    "for i in 150:160\n",
    "    scene = Scene(500) # Have to create a new scene container every time, wonder how manipulate got by without\n",
    "    t = get!(scene,td1,i)\n",
    "    for veh in t\n",
    "        if veh.state.posF.roadind.tag.segment == 3\n",
    "            print(\"$(veh.id) is in segment 3\\n\")\n",
    "        else\n",
    "            print(\"$(veh.id) not in segment 3\\n\")\n",
    "        #display(t.entities[1].state.posF.roadind.tag.segment)\n",
    "        end\n",
    "    end\n",
    "end"
   ]
  },
  {
   "cell_type": "code",
   "execution_count": 4,
   "metadata": {},
   "outputs": [
    {
     "ename": "UndefVarError",
     "evalue": "UndefVarError: t1 not defined",
     "output_type": "error",
     "traceback": [
      "UndefVarError: t1 not defined",
      "",
      "Stacktrace:",
      " [1] top-level scope at In[4]:1"
     ]
    }
   ],
   "source": [
    "display(t1.entities[1].state.posF.roadind)\n",
    "display(t2.entities[1].state.posF)"
   ]
  },
  {
   "cell_type": "code",
   "execution_count": null,
   "metadata": {},
   "outputs": [],
   "source": [
    "for i in 1:3\n",
    "    display(t.entities[i].state.posG)\n",
    "    display(t.entities[i].state.posF)\n",
    "end"
   ]
  },
  {
   "cell_type": "code",
   "execution_count": null,
   "metadata": {},
   "outputs": [],
   "source": []
  }
 ],
 "metadata": {
  "@webio": {
   "lastCommId": "7f5f878829ea40f7b0d857c97ffea5ad",
   "lastKernelId": "9a17c233-4d7a-4025-b469-693f3ba97497"
  },
  "kernelspec": {
   "display_name": "Julia 1.1.0",
   "language": "julia",
   "name": "julia-1.1"
  },
  "language_info": {
   "file_extension": ".jl",
   "mimetype": "application/julia",
   "name": "julia",
   "version": "1.1.0"
  }
 },
 "nbformat": 4,
 "nbformat_minor": 2
}
