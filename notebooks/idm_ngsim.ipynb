{
 "cells": [
  {
   "cell_type": "code",
   "execution_count": 1,
   "metadata": {},
   "outputs": [
    {
     "data": {
      "text/html": [
       "<script>\n",
       "// Immediately-invoked-function-expression to avoid global variables.\n",
       "(function() {\n",
       "    var warning_div = document.getElementById(\"webio-warning-14308350402476536311\");\n",
       "    var hide = function () {\n",
       "        var script = document.getElementById(\"webio-setup-1770924072470710399\");\n",
       "        var parent = script && script.parentElement;\n",
       "        var grandparent = parent && parent.parentElement;\n",
       "        if (grandparent) {\n",
       "            grandparent.style.display = \"none\";\n",
       "        }\n",
       "        warning_div.style.display = \"none\";\n",
       "    };\n",
       "    if (typeof Jupyter !== \"undefined\") {\n",
       "        console.log(\"WebIO detected Jupyter notebook environment.\");\n",
       "        // Jupyter notebook.\n",
       "        var extensions = (\n",
       "            Jupyter\n",
       "            && Jupyter.notebook.config.data\n",
       "            && Jupyter.notebook.config.data.load_extensions\n",
       "        );\n",
       "        if (extensions && extensions[\"webio/main\"]) {\n",
       "            // Extension already loaded.\n",
       "            console.log(\"Jupyter WebIO nbextension detected; not loading ad-hoc.\");\n",
       "            hide();\n",
       "            return;\n",
       "        }\n",
       "        console.warn(\"Loading WebIO Jupyter extension on an ad-hoc basis. Consider enabling the WebIO nbextension for a stabler experience (this should happen automatically when building WebIO).\");\n",
       "        require([\"/assetserver/edf674b4a352d3049d1cf8e1b8f9eda882001cd6-dist/main.js\"], function (webIOModule) {\n",
       "            webIOModule.load_ipython_extension();\n",
       "        });\n",
       "        warning_div.innerHTML = \"<strong>Loading WebIO Jupyter extension on an ad-hoc basis. Consider enabling the WebIO nbextension for a stabler experience (this should happen automatically when building WebIO).</strong>\";\n",
       "    } else if (window.location.pathname.includes(\"/lab\")) {\n",
       "        // Guessing JupyterLa\n",
       "        console.log(\"Jupyter Lab detected; make sure the @webio/jupyter-lab-provider labextension is installed.\");\n",
       "        hide();\n",
       "        return;\n",
       "    }\n",
       "})();\n",
       "\n",
       "</script>\n",
       "<div\n",
       "    id=\"webio-warning-14308350402476536311\"\n",
       "    class=\"output_text output_stderr\"\n",
       "    style=\"padding: 1em; font-weight: bold;\"\n",
       ">\n",
       "    Unable to load WebIO. Please make sure WebIO works for your Jupyter client.\n",
       "    <!-- TODO: link to installation docs. -->\n",
       "</div>\n"
      ],
      "text/plain": [
       "HTML{String}(\"<script>\\n// Immediately-invoked-function-expression to avoid global variables.\\n(function() {\\n    var warning_div = document.getElementById(\\\"webio-warning-14308350402476536311\\\");\\n    var hide = function () {\\n        var script = document.getElementById(\\\"webio-setup-1770924072470710399\\\");\\n        var parent = script && script.parentElement;\\n        var grandparent = parent && parent.parentElement;\\n        if (grandparent) {\\n            grandparent.style.display = \\\"none\\\";\\n        }\\n        warning_div.style.display = \\\"none\\\";\\n    };\\n    if (typeof Jupyter !== \\\"undefined\\\") {\\n        console.log(\\\"WebIO detected Jupyter notebook environment.\\\");\\n        // Jupyter notebook.\\n        var extensions = (\\n            Jupyter\\n            && Jupyter.notebook.config.data\\n            && Jupyter.notebook.config.data.load_extensions\\n        );\\n        if (extensions && extensions[\\\"webio/main\\\"]) {\\n            // Extension already loaded.\\n            console.log(\\\"Jupyter WebIO nbextension detected; not loading ad-hoc.\\\");\\n            hide();\\n            return;\\n        }\\n        console.warn(\\\"Loading WebIO Jupyter extension on an ad-hoc basis. Consider enabling the WebIO nbextension for a stabler experience (this should happen automatically when building WebIO).\\\");\\n        require([\\\"/assetserver/edf674b4a352d3049d1cf8e1b8f9eda882001cd6-dist/main.js\\\"], function (webIOModule) {\\n            webIOModule.load_ipython_extension();\\n        });\\n        warning_div.innerHTML = \\\"<strong>Loading WebIO Jupyter extension on an ad-hoc basis. Consider enabling the WebIO nbextension for a stabler experience (this should happen automatically when building WebIO).</strong>\\\";\\n    } else if (window.location.pathname.includes(\\\"/lab\\\")) {\\n        // Guessing JupyterLa\\n        console.log(\\\"Jupyter Lab detected; make sure the @webio/jupyter-lab-provider labextension is installed.\\\");\\n        hide();\\n        return;\\n    }\\n})();\\n\\n</script>\\n<div\\n    id=\\\"webio-warning-14308350402476536311\\\"\\n    class=\\\"output_text output_stderr\\\"\\n    style=\\\"padding: 1em; font-weight: bold;\\\"\\n>\\n    Unable to load WebIO. Please make sure WebIO works for your Jupyter client.\\n    <!-- TODO: link to installation docs. -->\\n</div>\\n\")"
      ]
     },
     "metadata": {},
     "output_type": "display_data"
    }
   ],
   "source": [
    "using NGSIM\n",
    "using AutomotiveDrivingModels\n",
    "using AutoViz\n",
    "using Interact # Make video in notebook\n",
    "using Reel # Save video as gif\n",
    "using CSV # For writing to csv\n",
    "using DataFrames # For writing to csv\n",
    "using Distributions\n",
    "using Test\n",
    "using StatsBase\n",
    "using Dates\n",
    "using Plots"
   ]
  },
  {
   "cell_type": "code",
   "execution_count": 2,
   "metadata": {},
   "outputs": [],
   "source": [
    "include(\"admin_functions.jl\"); # Brings in the functions defined in admin_functions.jl"
   ]
  },
  {
   "cell_type": "markdown",
   "metadata": {},
   "source": [
    "# Utils"
   ]
  },
  {
   "cell_type": "code",
   "execution_count": null,
   "metadata": {},
   "outputs": [],
   "source": [
    "\"\"\"\n",
    "# Example\n",
    "td1 = load_trajdata(1);\n",
    "scene = Scene(500)\n",
    "get!(scene,td1,300)\n",
    "display(scene.entities[2].state.posF.s)\n",
    "roadway = ROADWAY_101;\n",
    "particle = Dict(:v_des=>25.0,:σ=>0.5)\n",
    "hallucinate_a_step(roadway,scene,particle,car_id=scene.entities[2].id)\n",
    "\"\"\"\n",
    "function hallucinate_a_step(roadway,scene_input,particle;car_id=-1)\n",
    "    if car_id==-1 @show \"Please give valid car_id\" end\n",
    "    \n",
    "    scene = deepcopy(scene_input)\n",
    "    #scene = scene_input # This was the failure case\n",
    "    n_cars = scene.n \n",
    "\n",
    "    models = Dict{Int, DriverModel}()\n",
    "    \n",
    "    # Create driver models for all the cars in the scene\n",
    "    for veh in scene\n",
    "        if veh.id == car_id\n",
    "            models[veh.id] = IntelligentDriverModel(;particle...)\n",
    "        else\n",
    "            # TODO: RESEARCH QUESTION: What drives the other vehicles in the hallucination\n",
    "            models[veh.id] = IntelligentDriverModel(v_des=10.0)\n",
    "        end\n",
    "    end\n",
    "    \n",
    "    n_steps = 1\n",
    "    dt = 0.1\n",
    "    rec = SceneRecord(n_steps, dt)\n",
    "    \n",
    "    simulate!(rec, scene, roadway, models, n_steps)\n",
    "    \n",
    "    X = Array{Float64}(undef,n_steps, 1)\n",
    "\n",
    "    for t in 1:n_steps\n",
    "        f = rec.frames[n_steps - t + 1]\n",
    "        \n",
    "            # Access the vehicle with id as car_id and return its frenet s\n",
    "        X[t,1] = scene.entities[findfirst(car_id,f)].state.posF.s\n",
    "    end\n",
    "    return X[1]\n",
    "end"
   ]
  },
  {
   "cell_type": "code",
   "execution_count": null,
   "metadata": {},
   "outputs": [],
   "source": [
    "function compute_particle_likelihoods(roadway,f,trupos,p_set_dict;car_id=-1)\n",
    "    if car_id==-1 @show \"Please give valid car_id\" end\n",
    "    timestep = 0.1 #TODO: Remove hardcoding\n",
    "    p_mat, params, vec_val_vec = to_matrix_form(p_set_dict)\n",
    "    \n",
    "    num_params=size(p_mat)[1]\n",
    "    num_p = size(p_mat)[2]\n",
    "    lkhd_vec = Array{Float64}(undef,num_p)\n",
    "    for i in 1:num_p    \n",
    "        # Create dict version for a single particle\n",
    "        p_dict = Dict()\n",
    "        for j in 1:num_params\n",
    "            p_dict[params[j]]=vec_val_vec[j][i]\n",
    "        end\n",
    "        \n",
    "        std_dev_acc = p_dict[:σ]\n",
    "        \n",
    "        # hack to avoid the std_dev_pos become negative and error Normal distb\n",
    "        if std_dev_acc <= 0 std_dev_acc = 0.1 end\n",
    "        \n",
    "        # TODO: This math needs to be verified from random variable calculations\n",
    "        std_dev_pos = timestep*timestep*std_dev_acc\n",
    "            \n",
    "        hpos = hallucinate_a_step(roadway,f,p_dict,car_id=car_id)\n",
    "        lkhd_vec[i] = pdf(Normal(hpos,std_dev_pos),trupos[1])\n",
    "    end\n",
    "    return lkhd_vec,p_mat,params\n",
    "end"
   ]
  },
  {
   "cell_type": "code",
   "execution_count": null,
   "metadata": {},
   "outputs": [],
   "source": [
    "function update_p_one_step(roadway,f,trupos,p_set_dict;\n",
    "                            car_id=-1,approach=\"pf\",elite_fraction_percent=20)\n",
    "    if car_id==-1 @show \"Provide valid car_id\" end\n",
    "    \n",
    "    lkhd_vec,p_mat,params = compute_particle_likelihoods(roadway,f,trupos,p_set_dict,car_id=car_id)\n",
    "    \n",
    "    num_params = size(p_mat)[1]\n",
    "    num_p = size(p_mat)[2]\n",
    "    \n",
    "    if approach==\"pf\"\n",
    "        p_weight_vec = weights(lkhd_vec./sum(lkhd_vec)) # Convert to weights form to use julia sampling\n",
    "        idx = sample(1:num_p,p_weight_vec,num_p)\n",
    "        new_p_mat = p_mat[:,idx] #Careful that idx is (size,1) and not (size,2)\n",
    "    end\n",
    "    \n",
    "    if approach==\"cem\"\n",
    "        sortedidx = sortperm(lkhd_vec,rev=true)\n",
    "        numtop = convert(Int64,ceil(num_p*elite_fraction_percent/100.0))\n",
    "        best_particles = p_mat[:,sortedidx[1:numtop]] # elite selection\n",
    "#         @show best_particles\n",
    "        p_distribution = fit(MvNormal,best_particles) # fit distb using elites\n",
    "        new_p_mat = rand(p_distribution,num_p) # sample num_p new particles from dist\n",
    "    end\n",
    "    \n",
    "    new_p_set_dict = to_dict_form(params,new_p_mat)\n",
    "    return new_p_set_dict\n",
    "end"
   ]
  },
  {
   "cell_type": "code",
   "execution_count": null,
   "metadata": {},
   "outputs": [],
   "source": [
    "\"\"\"\n",
    "    function get_ngsim_scene(framenum::Int64)\n",
    "\n",
    "Get a specific scene from traj_ngsim\n",
    "\n",
    "# Example:\n",
    "scene = get_ngsim_scene(1)\n",
    "\"\"\"\n",
    "function get_ngsim_scene(framenum::Int64)\n",
    "    scene = Scene(500)\n",
    "    get!(scene,traj_ngsim,framenum)\n",
    "    return scene\n",
    "end"
   ]
  },
  {
   "cell_type": "code",
   "execution_count": null,
   "metadata": {},
   "outputs": [],
   "source": [
    "\"\"\"\n",
    "    my_overlay\n",
    "Overlaying hallucinated trajectory on the ground truth\n",
    "# Fields\n",
    "- `color::Colorant`\n",
    "- `scene::Scene`\n",
    "\"\"\"\n",
    "# Borrowed from visualization_functions.jl\n",
    "struct my_overlay <: SceneOverlay\n",
    "    scene::Scene\n",
    "    color # Needs to be of form colorant\"Colorname\"\n",
    "end\n",
    "\n",
    "function AutoViz.render!(rendermodel::RenderModel,overlay::my_overlay, \n",
    "        scene::Scene, roadway::Roadway)\n",
    "    AutoViz.render!(rendermodel,overlay.scene,car_color = overlay.color)\n",
    "    return rendermodel\n",
    "end"
   ]
  },
  {
   "cell_type": "code",
   "execution_count": null,
   "metadata": {},
   "outputs": [],
   "source": [
    "\"\"\"\n",
    "    IDOverlay\n",
    "Display the ID on top of each entity in a scene.\n",
    "# Fields\n",
    "- `color::Colorant`\n",
    "- `font_size::Int64`\n",
    "\"\"\"\n",
    "mutable struct IDOverlay <: SceneOverlay\n",
    "    color::Colorant\n",
    "    font_size::Int\n",
    "end\n",
    "\n",
    "function AutoViz.render!(rendermodel::RenderModel, overlay::IDOverlay, scene::Scene, \n",
    "                            env::E) where E\n",
    "    font_size = overlay.font_size\n",
    "    for veh in scene\n",
    "        add_instruction!(rendermodel, render_text, (\"$(veh.id)\", veh.state.posG.x, \n",
    "                        veh.state.posG.y, font_size, overlay.color), incameraframe=true)\n",
    "    end\n",
    "    return rendermodel\n",
    "end"
   ]
  },
  {
   "cell_type": "code",
   "execution_count": null,
   "metadata": {},
   "outputs": [],
   "source": [
    "\"\"\"\n",
    "    function make_video(;range=nothing,filename=\"output.mp4\")\n",
    "\n",
    "Makes a video of the highd dataset on the highd roadway taking frame range as input\n",
    "\n",
    "# Example \n",
    "```\n",
    "make_video(range=11:60,filename=\"highd_11to60.mp4\")\n",
    "```\n",
    "\"\"\"\n",
    "function make_video(;range=nothing,filename=\"output.mp4\")\n",
    "\n",
    "    frames = Frames(MIME(\"image/png\"), fps=10)\n",
    "    scene = Scene(500)\n",
    "    for i in range\n",
    "        temp_scene = get!(scene,traj_highd,i)\n",
    "\n",
    "        overlays = [TextOverlay(text=[\"$(veh.id)\"], incameraframe=true, \n",
    "        pos=VecSE2(veh.state.posG.x+0.5,veh.state.posG.y+0.5)) for veh in scene]\n",
    "        \n",
    "        scene_visual = render(temp_scene, roadway_highd, \n",
    "            #cam=CarFollowCamera{Int}(2,5.0),\n",
    "            #cam=StaticCamera(VecE2(1966400, 570900), 5.0),\n",
    "            cam=FitToContentCamera(0.),\n",
    "            overlays)\n",
    "        push!(frames,scene_visual)\n",
    "    end\n",
    "    write(string(\"media/\"*filename),frames)    \n",
    "    \n",
    "    return nothing\n",
    "end"
   ]
  },
  {
   "cell_type": "markdown",
   "metadata": {},
   "source": [
    "# Workspace"
   ]
  },
  {
   "cell_type": "code",
   "execution_count": null,
   "metadata": {},
   "outputs": [],
   "source": [
    "td1 = load_trajdata(1)\n",
    "\n",
    "scene = Scene(500)\n",
    "temp_scene = get!(scene,td1,1000)\n",
    "dummy = render(temp_scene,ROADWAY_101);\n",
    "typeof(dummy)"
   ]
  },
  {
   "cell_type": "code",
   "execution_count": null,
   "metadata": {},
   "outputs": [],
   "source": [
    "# Setting up for video saving using Reel\n",
    "frames = Frames(MIME(\"image/png\"), fps=10)\n",
    "for i in 400:500\n",
    "    temp_scene = get!(scene,td1,i)\n",
    "    carcolors = Dict{Int,Colorant}()\n",
    "    for veh in temp_scene\n",
    "        #@show veh.id\n",
    "        #carcolors[veh.id] = in(veh.id, egoid) ? colorant\"blue\" : colorant\"green\"\n",
    "        \n",
    "            # Color cars green when they are in segment 3\n",
    "        if veh.state.posF.roadind.tag.segment == 3\n",
    "            carcolors[veh.id] = colorant\"green\"\n",
    "        end\n",
    "        \n",
    "    end\n",
    "    overlays = [TextOverlay(text=[\"$(veh.id)\"], incameraframe=true, \n",
    "                pos=VecSE2(veh.state.posG.x+0.5,veh.state.posG.y+0.5)) for veh in scene]\n",
    "    scene_visual = render(temp_scene, ROADWAY_101, \n",
    "        #cam=CarFollowCamera{Int}(2,5.0),\n",
    "        cam=StaticCamera(VecE2(1966400, 570900), 5.0),\n",
    "        #cam=FitToContentCamera(0.),\n",
    "        overlays,\n",
    "        car_colors=carcolors)\n",
    "    push!(frames,scene_visual)\n",
    "end\n",
    "write(\"ngsim_segment_zoomed.mp4\",frames)"
   ]
  },
  {
   "cell_type": "code",
   "execution_count": null,
   "metadata": {},
   "outputs": [],
   "source": [
    "# argument 1 loads i101 7:50 to 8:05.\n",
    "# load_trajdata function defined in NGSIM.jl/src/trajdata.jl\n",
    "td1 = load_trajdata(1); \n",
    "\n",
    "scene = Scene(500)\n",
    "egoid = [25,5,8,9,10,12,21] # These vehicle ids will be colored blue if the egoid test is performed\n",
    "\n",
    "# List of the vehicle ids in the scene\n",
    "# veh.id = 2 5 8 9 10 12 13 14 18 20 21 22 23 25 26 27 31 32 34 35 39 48\n",
    "\n",
    "# Drive here in the notebook. Replay the trajectory as recorded in the ngsim data\n",
    "@manipulate for i in 400:500\n",
    "    temp_scene = get!(scene,td1,i)\n",
    "    \n",
    "    carcolors = Dict{Int,Colorant}()\n",
    "    for veh in temp_scene\n",
    "        #@show veh.id\n",
    "        #carcolors[veh.id] = in(veh.id, egoid) ? colorant\"blue\" : colorant\"green\"\n",
    "        \n",
    "            # Color cars green when they are in segment 3\n",
    "        if veh.state.posF.roadind.tag.segment == 3\n",
    "            carcolors[veh.id] = colorant\"green\"\n",
    "        end\n",
    "        \n",
    "    end\n",
    "    overlays = [TextOverlay(text=[\"$(veh.id)\"], incameraframe=true, \n",
    "                pos=VecSE2(veh.state.posG.x+0.5,veh.state.posG.y+0.5)) for veh in scene]\n",
    "    render(temp_scene, ROADWAY_101, \n",
    "        #cam=CarFollowCamera{Int}(2,5.0),\n",
    "        #cam=StaticCamera(VecE2(1966400, 570900), 5.0),\n",
    "         cam=FitToContentCamera(0.),\n",
    "        overlays,\n",
    "        car_colors=carcolors)\n",
    "end"
   ]
  },
  {
   "cell_type": "code",
   "execution_count": null,
   "metadata": {},
   "outputs": [],
   "source": [
    "for i in 150:160\n",
    "    scene = Scene(500) # Have to create a new scene container every time, wonder how manipulate got by without\n",
    "    t = get!(scene,td1,i)\n",
    "    for veh in t\n",
    "        if veh.state.posF.roadind.tag.segment == 3\n",
    "            print(\"$(veh.id) is in segment 3\\n\")\n",
    "        else\n",
    "            print(\"$(veh.id) not in segment 3\\n\")\n",
    "        #display(t.entities[1].state.posF.roadind.tag.segment)\n",
    "        end\n",
    "    end\n",
    "end"
   ]
  },
  {
   "cell_type": "markdown",
   "metadata": {},
   "source": [
    "# Hallucination from prerecorded scene"
   ]
  },
  {
   "cell_type": "code",
   "execution_count": null,
   "metadata": {},
   "outputs": [],
   "source": [
    "# Let's take a scene from prerecorded trajdata and try a hallucination from that\n",
    "scene_input = Scene(500)\n",
    "get!(scene_input,td1,300)\n",
    "scene = deepcopy(scene_input)\n",
    "overlays = [TextOverlay(text=[\"$(veh.id)\"], incameraframe=true, \n",
    "                pos=VecSE2(veh.state.posG.x+0.5,veh.state.posG.y+0.5)) for veh in scene];\n",
    "#render(start_scene, ROADWAY_101, cam=StaticCamera(VecE2(1966400, 570900), 5.0),overlays)"
   ]
  },
  {
   "cell_type": "code",
   "execution_count": null,
   "metadata": {},
   "outputs": [],
   "source": [
    "scene.entities[2].state.posF.s"
   ]
  },
  {
   "cell_type": "code",
   "execution_count": null,
   "metadata": {},
   "outputs": [],
   "source": [
    "n_cars = scene.n\n",
    "models = Dict{Int,DriverModel}()\n",
    "for veh in scene\n",
    "    models[veh.id] = IntelligentDriverModel(v_des=10.0)\n",
    "end"
   ]
  },
  {
   "cell_type": "code",
   "execution_count": null,
   "metadata": {},
   "outputs": [],
   "source": [
    "n_steps = 1\n",
    "dt = 0.1\n",
    "rec = SceneRecord(n_steps,dt)\n",
    "simulate!(rec,scene,roadway,models,n_steps)"
   ]
  },
  {
   "cell_type": "code",
   "execution_count": null,
   "metadata": {},
   "outputs": [],
   "source": [
    "scene.entities[2].state.posF.s"
   ]
  },
  {
   "cell_type": "code",
   "execution_count": null,
   "metadata": {},
   "outputs": [],
   "source": [
    "rec.frames[1].entities[2].state.posF.s"
   ]
  },
  {
   "cell_type": "code",
   "execution_count": null,
   "metadata": {},
   "outputs": [],
   "source": [
    "# Render the frame after doing the simulation for 1 step\n",
    "carcolors = Dict{Int,Colorant}()\n",
    "carcolors[2] = colorant\"green\"\n",
    "render(rec.frames[1],roadway,cam=CarFollowCamera{Int}(2,5.0),car_colors=carcolors)"
   ]
  },
  {
   "cell_type": "code",
   "execution_count": null,
   "metadata": {},
   "outputs": [],
   "source": [
    "td1 = load_trajdata(1);\n",
    "scene = Scene(500)\n",
    "get!(scene,td1,300)\n",
    "display(scene.entities[1].state.posF.s)\n",
    "roadway = ROADWAY_101;\n",
    "particle = Dict(:v_des=>25.0,:σ=>0.5)\n",
    "hallucinate_a_step(roadway,scene,particle,car_id=scene.entities[1].id)"
   ]
  },
  {
   "cell_type": "code",
   "execution_count": null,
   "metadata": {},
   "outputs": [],
   "source": [
    "v_array = [10.,15.,20.,25.,30.]\n",
    "num_p = length(v_array)\n",
    "sig_array = [0.1,0.1,0.1,0.1,0.1]\t\n",
    "p_set_dict = Dict(:v_des=>v_array,:σ=>sig_array)\n",
    "td1 = load_trajdata(1);\n",
    "scene = Scene(500)\n",
    "get!(scene,td1,300)\n",
    "roadway = ROADWAY_101;\n",
    "trupos = hallucinate_a_step(roadway,scene,Dict(:v_des=>25.0,:σ=>0.0),car_id=4)\n",
    "lkhd_vec,p_mat,params = compute_particle_likelihoods(roadway,scene,trupos,p_set_dict,car_id=4)"
   ]
  },
  {
   "cell_type": "code",
   "execution_count": null,
   "metadata": {},
   "outputs": [],
   "source": [
    "\t@test length(lkhd_vec) == num_p\n",
    "\t@test length(params) == 2\n",
    "\t@test size(p_mat)[1] == 2\n",
    "\t@test size(p_mat)[2] == 5\n",
    "\t@test any(isnan,lkhd_vec) == false"
   ]
  }
 ],
 "metadata": {
  "@webio": {
   "lastCommId": null,
   "lastKernelId": null
  },
  "kernelspec": {
   "display_name": "Julia 1.1.0",
   "language": "julia",
   "name": "julia-1.1"
  },
  "language_info": {
   "file_extension": ".jl",
   "mimetype": "application/julia",
   "name": "julia",
   "version": "1.1.0"
  }
 },
 "nbformat": 4,
 "nbformat_minor": 2
}
