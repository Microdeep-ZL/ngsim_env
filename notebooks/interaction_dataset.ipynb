{
 "cells": [
  {
   "cell_type": "markdown",
   "metadata": {},
   "source": [
    "Notebook to do curved roadway generation\n",
    "\n",
    "## Changelog\n",
    "- Friday, Jan 31\n",
    "    - Creation\n",
    "    - Toy track generation using way if 10025 from `DR_CHN_Merging_ZS.osm`\n",
    "- Monday, Feb 3\n",
    "    - Begin trajdata creation to read in the vehicle tracks"
   ]
  },
  {
   "cell_type": "code",
   "execution_count": null,
   "metadata": {
    "code_folding": [
     0
    ]
   },
   "outputs": [],
   "source": [
    "# usings\n",
    "using AutomotiveDrivingModels\n",
    "using AutoViz"
   ]
  },
  {
   "cell_type": "code",
   "execution_count": null,
   "metadata": {
    "code_folding": [
     0
    ]
   },
   "outputs": [],
   "source": [
    "# function: append to curve\n",
    "function append_to_curve!(target::Curve, newstuff::Curve)\n",
    "    s_end = target[end].s\n",
    "    for c in newstuff\n",
    "        push!(target, CurvePt(c.pos, c.s+s_end, c.k, c.kd))\n",
    "    end\n",
    "    return target\n",
    "end"
   ]
  },
  {
   "cell_type": "code",
   "execution_count": null,
   "metadata": {
    "code_folding": [
     0,
     13,
     32,
     62
    ]
   },
   "outputs": [],
   "source": [
    "# functions: angle calculation\n",
    "\"\"\"\n",
    "    function append_headings\n",
    "- Used create the angles and append them into the coordinates\n",
    "\n",
    "# Examples\n",
    "```julia\n",
    "x_coods = [1089.07510, 1093.82626, 1101.19325, 1112.59899, 1123.96733, 1133.24150, 1146.47964]\n",
    "y_coods = [936.31213, 936.92692,938.52419, 940.93865, 943.27882, 945.21039, 947.88488]\n",
    "coods = hcat(x_coods,y_coods)\n",
    "append_headings(coods)\n",
    "```\n",
    "\"\"\"\n",
    "function append_headings(coordinates::Matrix{Float64})\n",
    "    headings = ones(size(coordinates)[1])\n",
    "    for i = 1:size(coordinates)[1]-1\n",
    "        # need to make sure that math is right, and that bounds are kept\n",
    "        tangent_vector = [coordinates[i+1,1]-coordinates[i,1], coordinates[i+1,2]-coordinates[i,2]]\n",
    "        # @show tangent_vector\n",
    "        current_heading = get_new_angle(tangent_vector)\n",
    "        # @show current_heading\n",
    "        headings[i] = current_heading\n",
    "    end\n",
    "    headings[end] = headings[end-1] # assume this is fine\n",
    "    coordinates = hcat(coordinates, headings)\n",
    "    return coordinates\n",
    "end\n",
    "\n",
    "\"\"\"\n",
    "    function get_new_angle\n",
    "- Does the actual angle calculation based on the x y coordinates\n",
    "\"\"\"\n",
    "function get_new_angle(tangent_vector::Array{Float64})\n",
    "    # it might be a problem when we switch quadrants\n",
    "    # use signs of tangent vector to get the quadrant of the heading \n",
    "    x = tangent_vector[1]\n",
    "    y = tangent_vector[2]\n",
    "    if x == 0. && y == 0.\n",
    "        heading = 0.0\n",
    "    elseif x == 0.\n",
    "        heading = π/2 * sign(y) \n",
    "    elseif y == 0.\n",
    "        heading = convert(Float64, π) # this could be either pi or -pi, but just go with pi\n",
    "    elseif sign(x) == 1 && sign(y) == 1 # first quadrant\n",
    "        heading = atan(y, x)\n",
    "    elseif sign(x) == -1 && sign(y) == 1 # second quadrant\n",
    "        heading = atan(y, x)\n",
    "    elseif sign(x) == 1 && sign(y) == -1 # fourth quadrant\n",
    "        heading = atan(y, x)\n",
    "    elseif sign(x) == -1 && sign(y) == -1 # third quadrant\n",
    "        heading = atan(y, x)\n",
    "    end\n",
    "    # bound_heading doesn't end up getting called cause Julia takes care of it apparently\n",
    "    bound_heading(heading)\n",
    "\n",
    "    return heading\n",
    "end\n",
    "\n",
    "\"\"\"\n",
    "    function bound_heading\n",
    "- Make the angle range from 0 to pi instead of going beyond\n",
    "\"\"\"\n",
    "function bound_heading(heading::Float64)\n",
    "    if heading > π # send this to be just near -pi\n",
    "        heading = -π + (heading - π)    # if heading is 3.15, then the new angle will be (-pi + (3.15-pi)) = -3.13\n",
    "    elseif heading < -π # send this to be just near pi \n",
    "        heading = π + (heading + π)     # if heading is -3.15, then the new angle will be (pi + (-3.15+pi)) = 3.13\n",
    "    end\n",
    "    return heading\n",
    "end"
   ]
  },
  {
   "cell_type": "code",
   "execution_count": null,
   "metadata": {
    "code_folding": [
     0
    ]
   },
   "outputs": [],
   "source": [
    "# WBs example code\n",
    "\"\"\"\n",
    "- WBs example code\n",
    "\"\"\"\n",
    "function get_track()\n",
    "\n",
    "    x_coods = [0., 5.]\n",
    "    y_coods = [3., 3.]\n",
    "    theta = [0., 0.]\n",
    "    \n",
    "    turn_length = 10\n",
    "    new_theta = 0.\n",
    "    incremental_angle = (pi/4) / turn_length\n",
    "    radius = 1\n",
    "    for i = 1:turn_length\n",
    "        push!(theta, new_theta)\n",
    "        push!(x_coods, x_coods[end] + radius * cos(new_theta))\n",
    "        push!(y_coods, y_coods[end] + radius * sin(new_theta))\n",
    "        new_theta -= (incremental_angle)\n",
    "    end\n",
    "#     plot(x_coods, y_coods)\n",
    "    mid_coods = vcat(x_coods', y_coods', theta') # x coods in first row, y coods in second row, theta in third row\n",
    "    \n",
    "    \n",
    "    first_cood = VecSE2(mid_coods[1,1], mid_coods[2,1], mid_coods[3,1])\n",
    "    second_cood = VecSE2(mid_coods[1,2], mid_coods[2,2], mid_coods[3,2])\n",
    "    radius = 0.01\n",
    "    nsamples = 20\n",
    "\n",
    "    track = gen_bezier_curve(first_cood, second_cood, radius, radius, nsamples)\n",
    "    \n",
    "    curve_radius = incremental_angle\n",
    "    nsamples = 1000\n",
    "    for i = 3:turn_length+2\n",
    "        turn1 = VecSE2(mid_coods[1, i-1], mid_coods[2, i-1], mid_coods[3, i-1])\n",
    "        turn2 = VecSE2(mid_coods[1, i], mid_coods[2, i], mid_coods[3, i])\n",
    "        curve = gen_bezier_curve(turn1, turn2, curve_radius, curve_radius, nsamples)\n",
    "        append_to_curve!(track, curve)\n",
    "    end\n",
    "\n",
    "    return track\n",
    "end"
   ]
  },
  {
   "cell_type": "code",
   "execution_count": null,
   "metadata": {
    "code_folding": [
     0
    ]
   },
   "outputs": [],
   "source": [
    "# function: get_track\n",
    "\"\"\"\n",
    "    function get_track()\n",
    "\n",
    "- Generate a track based on x and y coordinates of the centerline\n",
    "- Extracts angles as an intermediate step\n",
    "\"\"\"\n",
    "function get_track()\n",
    "    # way 10025 for illustrate purposes\n",
    "    x_coods = [1089.07510, 1093.82626, 1101.19325, 1112.59899, 1123.96733, 1133.24150, 1146.47964]\n",
    "    y_coods = [936.31213, 936.92692,938.52419, 940.93865, 943.27882, 945.21039, 947.88488]\n",
    "\n",
    "    coods = hcat(x_coods,y_coods)\n",
    "    coods_app = append_headings(coods) # Append with the angle\n",
    "    \n",
    "    mid_coods = coods_app'\n",
    "    \n",
    "    first_cood = VecSE2(mid_coods[1,1], mid_coods[2,1], mid_coods[3,1])\n",
    "    second_cood = VecSE2(mid_coods[1,2], mid_coods[2,2], mid_coods[3,2])\n",
    "    radius = 0.01\n",
    "    nsamples = 20\n",
    "\n",
    "    track = gen_bezier_curve(first_cood, second_cood, radius, radius, nsamples)\n",
    "    \n",
    "    nsamples = 20\n",
    "    for i = 3:7\n",
    "        turn1 = VecSE2(mid_coods[1, i-1], mid_coods[2, i-1], mid_coods[3, i-1])\n",
    "        turn2 = VecSE2(mid_coods[1, i], mid_coods[2, i], mid_coods[3, i])\n",
    "        curve = gen_bezier_curve(turn1, turn2, radius, radius, nsamples)\n",
    "        append_to_curve!(track, curve)\n",
    "    end\n",
    "\n",
    "    return track\n",
    "end"
   ]
  },
  {
   "cell_type": "code",
   "execution_count": null,
   "metadata": {
    "code_folding": [
     0
    ]
   },
   "outputs": [],
   "source": [
    "# script: generate the roadway\n",
    "\n",
    "#nlanes = 1\n",
    "#length = 50.\n",
    "\n",
    "#roadway = gen_straight_roadway(nlanes, length)\n",
    "\n",
    "width = DEFAULT_LANE_WIDTH\n",
    "roadway = Roadway()\n",
    "\n",
    "track = get_track()\n",
    "\n",
    "lane = Lane(LaneTag(1, 2), track, width=DEFAULT_LANE_WIDTH)\n",
    "push!(roadway.segments, RoadSegment(lane.tag.segment, [lane]))\n",
    "cam = FitToContentCamera(0.05)\n",
    "render(roadway, cam=cam)"
   ]
  },
  {
   "cell_type": "code",
   "execution_count": null,
   "metadata": {},
   "outputs": [],
   "source": [
    "@show roadway.segments[1].lanes"
   ]
  },
  {
   "cell_type": "markdown",
   "metadata": {},
   "source": [
    "## Trajdata experimentation"
   ]
  },
  {
   "cell_type": "code",
   "execution_count": 2,
   "metadata": {},
   "outputs": [],
   "source": [
    "using DataFrames"
   ]
  },
  {
   "cell_type": "code",
   "execution_count": 6,
   "metadata": {},
   "outputs": [],
   "source": [
    "using Printf"
   ]
  },
  {
   "cell_type": "code",
   "execution_count": 11,
   "metadata": {},
   "outputs": [],
   "source": [
    "df = readtable(\"i101_trajectories-0750am-0805am.txt\", separator=' ', header = false);"
   ]
  },
  {
   "cell_type": "code",
   "execution_count": 13,
   "metadata": {},
   "outputs": [
    {
     "data": {
      "text/plain": [
       "18-element Array{Symbol,1}:\n",
       " :id                 \n",
       " :frame              \n",
       " :n_frames_in_dataset\n",
       " :epoch              \n",
       " :local_x            \n",
       " :local_y            \n",
       " :global_x           \n",
       " :global_y           \n",
       " :length             \n",
       " :width              \n",
       " :class              \n",
       " :speed              \n",
       " :acc                \n",
       " :lane               \n",
       " :carind_front       \n",
       " :carind_rear        \n",
       " :dist_headway       \n",
       " :time_headway       "
      ]
     },
     "execution_count": 13,
     "metadata": {},
     "output_type": "execute_result"
    }
   ],
   "source": [
    "col_names = [:id, :frame, :n_frames_in_dataset, :epoch, :local_x, :local_y, :global_x, :global_y, :length, :width, :class, :speed, :acc, :lane, :carind_front, :carind_rear, :dist_headway, :time_headway]"
   ]
  },
  {
   "cell_type": "code",
   "execution_count": 14,
   "metadata": {},
   "outputs": [
    {
     "name": "stderr",
     "output_type": "stream",
     "text": [
      "┌ Warning: `rename!(x::AbstractDataFrame, from::Symbol, to::Symbol)` is deprecated, use `rename!(x, from => to)` instead.\n",
      "│   caller = top-level scope at In[14]:2\n",
      "└ @ Core ./In[14]:2\n"
     ]
    }
   ],
   "source": [
    "        for (i,name) in enumerate(col_names)\n",
    "            rename!(df, Symbol(@sprintf(\"x%d\", i)), name)\n",
    "        end"
   ]
  },
  {
   "cell_type": "code",
   "execution_count": 16,
   "metadata": {},
   "outputs": [
    {
     "data": {
      "text/plain": [
       "Dict{Int64,Array{Int64,1}} with 0 entries"
      ]
     },
     "execution_count": 16,
     "metadata": {},
     "output_type": "execute_result"
    }
   ],
   "source": [
    "        df[:global_heading] = fill(NaN, nrow(df))\n",
    "\n",
    "        car2start = Dict{Int, Int}()\n",
    "        frame2cars = Dict{Int, Vector{Int}}()\n"
   ]
  },
  {
   "cell_type": "code",
   "execution_count": 18,
   "metadata": {},
   "outputs": [],
   "source": [
    "        for (dfind, carid) in enumerate(df[:id])\n",
    "            if !haskey(car2start, carid)\n",
    "                car2start[carid] = dfind\n",
    "            end\n",
    "\n",
    "            frame = convert(Int, df[dfind, :frame])\n",
    "            if !haskey(frame2cars, frame)\n",
    "                frame2cars[frame] = [carid]\n",
    "            else\n",
    "                frame2cars[frame] = push!(frame2cars[frame], carid)\n",
    "            end\n",
    "        end"
   ]
  },
  {
   "cell_type": "code",
   "execution_count": 19,
   "metadata": {},
   "outputs": [
    {
     "data": {
      "text/plain": [
       "Dict{Int64,Int64} with 2169 entries:\n",
       "  1704 => 582165\n",
       "  1760 => 610339\n",
       "  2843 => 1078311\n",
       "  306  => 83654\n",
       "  1090 => 328769\n",
       "  2111 => 736259\n",
       "  1333 => 433748\n",
       "  2381 => 846807\n",
       "  2812 => 1057790\n",
       "  1671 => 565979\n",
       "  1131 => 350079\n",
       "  2564 => 919923\n",
       "  2896 => 1108416\n",
       "  2126 => 741609\n",
       "  74   => 20386\n",
       "  1662 => 562965\n",
       "  2376 => 845294\n",
       "  905  => 253789\n",
       "  176  => 48153\n",
       "  2912 => 1117052\n",
       "  1469 => 481610\n",
       "  892  => 250558\n",
       "  285  => 77433\n",
       "  1461 => 479439\n",
       "  2502 => 891904\n",
       "  ⋮    => ⋮"
      ]
     },
     "execution_count": 19,
     "metadata": {},
     "output_type": "execute_result"
    }
   ],
   "source": [
    "car2start"
   ]
  },
  {
   "cell_type": "code",
   "execution_count": 20,
   "metadata": {},
   "outputs": [
    {
     "data": {
      "text/plain": [
       "Dict{Int64,Array{Int64,1}} with 9529 entries:\n",
       "  2843 => [959, 971, 977, 980, 982, 986, 987, 989, 990, 991  …  1119, 1121, 112…\n",
       "  4495 => [1454, 1462, 1469, 1470, 1473, 1475, 1477, 1478, 1479, 1481  …  1605,…\n",
       "  6928 => [2228, 2229, 2230, 2232, 2233, 2235, 2237, 2238, 2239, 2240  …  2393,…\n",
       "  6380 => [2050, 2053, 2054, 2055, 2057, 2059, 2060, 2061, 2065, 2067  …  2216,…\n",
       "  1316 => [302, 322, 363, 376, 379, 380, 383, 384, 387, 388  …  554, 555, 558, …\n",
       "  6265 => [1984, 1989, 1998, 1999, 2001, 2003, 2007, 2008, 2015, 2016  …  2190,…\n",
       "  5459 => [1731, 1735, 1742, 1748, 1750, 1751, 1752, 1753, 1754, 1755  …  1907,…\n",
       "  5842 => [1840, 1850, 1867, 1870, 1875, 1876, 1877, 1878, 1879, 1881  …  2054,…\n",
       "  4473 => [1454, 1456, 1462, 1467, 1468, 1469, 1470, 1471, 1473, 1475  …  1598,…\n",
       "  5099 => [1607, 1616, 1623, 1631, 1648, 1651, 1654, 1655, 1656, 1657  …  1775,…\n",
       "  8312 => [2597, 2605, 2608, 2612, 2615, 2618, 2619, 2621, 2623, 2625  …  2880,…\n",
       "  4460 => [1443, 1447, 1454, 1455, 1456, 1461, 1462, 1467, 1468, 1469  …  1596,…\n",
       "  8805 => [2758, 2762, 2766, 2792, 2805, 2809, 2812, 2814, 2817, 2819  …  3007,…\n",
       "  1333 => [322, 363, 376, 387, 394, 395, 396, 397, 399, 400  …  557, 558, 566, …\n",
       "  4517 => [1462, 1469, 1473, 1477, 1479, 1481, 1484, 1486, 1487, 1489  …  1610,…\n",
       "  3485 => [1148, 1152, 1153, 1154, 1155, 1156, 1157, 1158, 1159, 1160  …  1269,…\n",
       "  3120 => [1053, 1055, 1056, 1057, 1058, 1059, 1061, 1062, 1063, 1064  …  1174,…\n",
       "  1671 => [507, 512, 513, 518, 520, 522, 523, 525, 526, 527  …  682, 683, 687, …\n",
       "  1131 => [232, 239, 240, 241, 271, 280, 282, 292, 295, 297  …  484, 485, 493, …\n",
       "  5335 => [1702, 1708, 1709, 1712, 1715, 1717, 1718, 1719, 1720, 1721  …  1861,…\n",
       "  6757 => [2179, 2181, 2182, 2184, 2186, 2187, 2188, 2189, 2190, 2191  …  2326,…\n",
       "  9488 => [3030, 3032, 3033]\n",
       "  5342 => [1708, 1712, 1715, 1717, 1720, 1721, 1722, 1723, 1725, 1726  …  1865,…\n",
       "  6336 => [2019, 2037, 2039, 2041, 2042, 2043, 2044, 2045, 2046, 2048  …  2209,…\n",
       "  74   => [2, 5, 8, 9, 10, 12, 13, 14, 18, 20, 21, 22, 23, 26, 31, 32]\n",
       "  ⋮    => ⋮"
      ]
     },
     "execution_count": 20,
     "metadata": {},
     "output_type": "execute_result"
    }
   ],
   "source": [
    "frame2cars"
   ]
  },
  {
   "cell_type": "markdown",
   "metadata": {},
   "source": [
    "## Interaction track experimentation"
   ]
  },
  {
   "cell_type": "code",
   "execution_count": 23,
   "metadata": {},
   "outputs": [
    {
     "data": {
      "text/html": [
       "<table class=\"data-frame\"><thead><tr><th></th><th>track_id</th><th>frame_id</th><th>timestamp_ms</th><th>agent_type</th><th>x</th><th>y</th><th>vx</th><th>vy</th><th>psi_rad</th><th>length</th><th>width</th></tr><tr><th></th><th>Int64⍰</th><th>Int64⍰</th><th>Int64⍰</th><th>String⍰</th><th>Float64⍰</th><th>Float64⍰</th><th>Float64⍰</th><th>Float64⍰</th><th>Float64⍰</th><th>Float64⍰</th><th>Float64⍰</th></tr></thead><tbody><p>108,995 rows × 11 columns</p><tr><th>1</th><td>1</td><td>1</td><td>100</td><td>car</td><td>1067.49</td><td>959.049</td><td>-6.032</td><td>0.215</td><td>3.106</td><td>4.4</td><td>1.77</td></tr><tr><th>2</th><td>1</td><td>2</td><td>200</td><td>car</td><td>1066.89</td><td>959.071</td><td>-6.035</td><td>0.219</td><td>3.105</td><td>4.4</td><td>1.77</td></tr><tr><th>3</th><td>1</td><td>3</td><td>300</td><td>car</td><td>1066.29</td><td>959.094</td><td>-6.034</td><td>0.224</td><td>3.105</td><td>4.4</td><td>1.77</td></tr><tr><th>4</th><td>1</td><td>4</td><td>400</td><td>car</td><td>1065.68</td><td>959.118</td><td>-6.029</td><td>0.228</td><td>3.104</td><td>4.4</td><td>1.77</td></tr><tr><th>5</th><td>1</td><td>5</td><td>500</td><td>car</td><td>1065.08</td><td>959.142</td><td>-6.019</td><td>0.233</td><td>3.103</td><td>4.4</td><td>1.77</td></tr><tr><th>6</th><td>1</td><td>6</td><td>600</td><td>car</td><td>1064.48</td><td>959.167</td><td>-6.005</td><td>0.238</td><td>3.102</td><td>4.4</td><td>1.77</td></tr><tr><th>7</th><td>1</td><td>7</td><td>700</td><td>car</td><td>1063.88</td><td>959.192</td><td>-5.989</td><td>0.244</td><td>3.101</td><td>4.4</td><td>1.77</td></tr><tr><th>8</th><td>1</td><td>8</td><td>800</td><td>car</td><td>1063.28</td><td>959.218</td><td>-5.971</td><td>0.25</td><td>3.1</td><td>4.4</td><td>1.77</td></tr><tr><th>9</th><td>1</td><td>9</td><td>900</td><td>car</td><td>1062.68</td><td>959.245</td><td>-5.951</td><td>0.257</td><td>3.098</td><td>4.4</td><td>1.77</td></tr><tr><th>10</th><td>1</td><td>10</td><td>1000</td><td>car</td><td>1062.09</td><td>959.272</td><td>-5.931</td><td>0.264</td><td>3.097</td><td>4.4</td><td>1.77</td></tr><tr><th>11</th><td>1</td><td>11</td><td>1100</td><td>car</td><td>1061.49</td><td>959.301</td><td>-5.91</td><td>0.272</td><td>3.096</td><td>4.4</td><td>1.77</td></tr><tr><th>12</th><td>1</td><td>12</td><td>1200</td><td>car</td><td>1060.9</td><td>959.331</td><td>-5.889</td><td>0.282</td><td>3.094</td><td>4.4</td><td>1.77</td></tr><tr><th>13</th><td>1</td><td>13</td><td>1300</td><td>car</td><td>1060.31</td><td>959.361</td><td>-5.867</td><td>0.292</td><td>3.092</td><td>4.4</td><td>1.77</td></tr><tr><th>14</th><td>1</td><td>14</td><td>1400</td><td>car</td><td>1059.73</td><td>959.394</td><td>-5.845</td><td>0.303</td><td>3.09</td><td>4.4</td><td>1.77</td></tr><tr><th>15</th><td>1</td><td>15</td><td>1500</td><td>car</td><td>1059.14</td><td>959.427</td><td>-5.823</td><td>0.316</td><td>3.087</td><td>4.4</td><td>1.77</td></tr><tr><th>16</th><td>1</td><td>16</td><td>1600</td><td>car</td><td>1058.56</td><td>959.463</td><td>-5.8</td><td>0.329</td><td>3.085</td><td>4.4</td><td>1.77</td></tr><tr><th>17</th><td>1</td><td>17</td><td>1700</td><td>car</td><td>1057.98</td><td>959.499</td><td>-5.777</td><td>0.344</td><td>3.082</td><td>4.4</td><td>1.77</td></tr><tr><th>18</th><td>1</td><td>18</td><td>1800</td><td>car</td><td>1057.4</td><td>959.538</td><td>-5.753</td><td>0.359</td><td>3.079</td><td>4.4</td><td>1.77</td></tr><tr><th>19</th><td>1</td><td>19</td><td>1900</td><td>car</td><td>1056.83</td><td>959.578</td><td>-5.73</td><td>0.375</td><td>3.076</td><td>4.4</td><td>1.77</td></tr><tr><th>20</th><td>1</td><td>20</td><td>2000</td><td>car</td><td>1056.26</td><td>959.62</td><td>-5.707</td><td>0.392</td><td>3.073</td><td>4.4</td><td>1.77</td></tr><tr><th>21</th><td>1</td><td>21</td><td>2100</td><td>car</td><td>1055.69</td><td>959.664</td><td>-5.684</td><td>0.409</td><td>3.07</td><td>4.4</td><td>1.77</td></tr><tr><th>22</th><td>1</td><td>22</td><td>2200</td><td>car</td><td>1055.12</td><td>959.71</td><td>-5.662</td><td>0.427</td><td>3.066</td><td>4.4</td><td>1.77</td></tr><tr><th>23</th><td>1</td><td>23</td><td>2300</td><td>car</td><td>1054.55</td><td>959.757</td><td>-5.641</td><td>0.444</td><td>3.063</td><td>4.4</td><td>1.77</td></tr><tr><th>24</th><td>1</td><td>24</td><td>2400</td><td>car</td><td>1053.99</td><td>959.806</td><td>-5.623</td><td>0.461</td><td>3.06</td><td>4.4</td><td>1.77</td></tr><tr><th>25</th><td>1</td><td>25</td><td>2500</td><td>car</td><td>1053.43</td><td>959.857</td><td>-5.608</td><td>0.478</td><td>3.057</td><td>4.4</td><td>1.77</td></tr><tr><th>26</th><td>1</td><td>26</td><td>2600</td><td>car</td><td>1052.87</td><td>959.909</td><td>-5.598</td><td>0.494</td><td>3.054</td><td>4.4</td><td>1.77</td></tr><tr><th>27</th><td>1</td><td>27</td><td>2700</td><td>car</td><td>1052.31</td><td>959.963</td><td>-5.593</td><td>0.51</td><td>3.051</td><td>4.4</td><td>1.77</td></tr><tr><th>28</th><td>1</td><td>28</td><td>2800</td><td>car</td><td>1051.75</td><td>960.017</td><td>-5.594</td><td>0.525</td><td>3.048</td><td>4.4</td><td>1.77</td></tr><tr><th>29</th><td>1</td><td>29</td><td>2900</td><td>car</td><td>1051.19</td><td>960.073</td><td>-5.602</td><td>0.539</td><td>3.046</td><td>4.4</td><td>1.77</td></tr><tr><th>30</th><td>1</td><td>30</td><td>3000</td><td>car</td><td>1050.63</td><td>960.13</td><td>-5.618</td><td>0.553</td><td>3.043</td><td>4.4</td><td>1.77</td></tr><tr><th>&vellip;</th><td>&vellip;</td><td>&vellip;</td><td>&vellip;</td><td>&vellip;</td><td>&vellip;</td><td>&vellip;</td><td>&vellip;</td><td>&vellip;</td><td>&vellip;</td><td>&vellip;</td><td>&vellip;</td></tr></tbody></table>"
      ],
      "text/latex": [
       "\\begin{tabular}{r|ccccccccccc}\n",
       "\t& track\\_id & frame\\_id & timestamp\\_ms & agent\\_type & x & y & vx & vy & psi\\_rad & length & width\\\\\n",
       "\t\\hline\n",
       "\t& Int64⍰ & Int64⍰ & Int64⍰ & String⍰ & Float64⍰ & Float64⍰ & Float64⍰ & Float64⍰ & Float64⍰ & Float64⍰ & Float64⍰\\\\\n",
       "\t\\hline\n",
       "\t1 & 1 & 1 & 100 & car & 1067.49 & 959.049 & -6.032 & 0.215 & 3.106 & 4.4 & 1.77 \\\\\n",
       "\t2 & 1 & 2 & 200 & car & 1066.89 & 959.071 & -6.035 & 0.219 & 3.105 & 4.4 & 1.77 \\\\\n",
       "\t3 & 1 & 3 & 300 & car & 1066.29 & 959.094 & -6.034 & 0.224 & 3.105 & 4.4 & 1.77 \\\\\n",
       "\t4 & 1 & 4 & 400 & car & 1065.68 & 959.118 & -6.029 & 0.228 & 3.104 & 4.4 & 1.77 \\\\\n",
       "\t5 & 1 & 5 & 500 & car & 1065.08 & 959.142 & -6.019 & 0.233 & 3.103 & 4.4 & 1.77 \\\\\n",
       "\t6 & 1 & 6 & 600 & car & 1064.48 & 959.167 & -6.005 & 0.238 & 3.102 & 4.4 & 1.77 \\\\\n",
       "\t7 & 1 & 7 & 700 & car & 1063.88 & 959.192 & -5.989 & 0.244 & 3.101 & 4.4 & 1.77 \\\\\n",
       "\t8 & 1 & 8 & 800 & car & 1063.28 & 959.218 & -5.971 & 0.25 & 3.1 & 4.4 & 1.77 \\\\\n",
       "\t9 & 1 & 9 & 900 & car & 1062.68 & 959.245 & -5.951 & 0.257 & 3.098 & 4.4 & 1.77 \\\\\n",
       "\t10 & 1 & 10 & 1000 & car & 1062.09 & 959.272 & -5.931 & 0.264 & 3.097 & 4.4 & 1.77 \\\\\n",
       "\t11 & 1 & 11 & 1100 & car & 1061.49 & 959.301 & -5.91 & 0.272 & 3.096 & 4.4 & 1.77 \\\\\n",
       "\t12 & 1 & 12 & 1200 & car & 1060.9 & 959.331 & -5.889 & 0.282 & 3.094 & 4.4 & 1.77 \\\\\n",
       "\t13 & 1 & 13 & 1300 & car & 1060.31 & 959.361 & -5.867 & 0.292 & 3.092 & 4.4 & 1.77 \\\\\n",
       "\t14 & 1 & 14 & 1400 & car & 1059.73 & 959.394 & -5.845 & 0.303 & 3.09 & 4.4 & 1.77 \\\\\n",
       "\t15 & 1 & 15 & 1500 & car & 1059.14 & 959.427 & -5.823 & 0.316 & 3.087 & 4.4 & 1.77 \\\\\n",
       "\t16 & 1 & 16 & 1600 & car & 1058.56 & 959.463 & -5.8 & 0.329 & 3.085 & 4.4 & 1.77 \\\\\n",
       "\t17 & 1 & 17 & 1700 & car & 1057.98 & 959.499 & -5.777 & 0.344 & 3.082 & 4.4 & 1.77 \\\\\n",
       "\t18 & 1 & 18 & 1800 & car & 1057.4 & 959.538 & -5.753 & 0.359 & 3.079 & 4.4 & 1.77 \\\\\n",
       "\t19 & 1 & 19 & 1900 & car & 1056.83 & 959.578 & -5.73 & 0.375 & 3.076 & 4.4 & 1.77 \\\\\n",
       "\t20 & 1 & 20 & 2000 & car & 1056.26 & 959.62 & -5.707 & 0.392 & 3.073 & 4.4 & 1.77 \\\\\n",
       "\t21 & 1 & 21 & 2100 & car & 1055.69 & 959.664 & -5.684 & 0.409 & 3.07 & 4.4 & 1.77 \\\\\n",
       "\t22 & 1 & 22 & 2200 & car & 1055.12 & 959.71 & -5.662 & 0.427 & 3.066 & 4.4 & 1.77 \\\\\n",
       "\t23 & 1 & 23 & 2300 & car & 1054.55 & 959.757 & -5.641 & 0.444 & 3.063 & 4.4 & 1.77 \\\\\n",
       "\t24 & 1 & 24 & 2400 & car & 1053.99 & 959.806 & -5.623 & 0.461 & 3.06 & 4.4 & 1.77 \\\\\n",
       "\t25 & 1 & 25 & 2500 & car & 1053.43 & 959.857 & -5.608 & 0.478 & 3.057 & 4.4 & 1.77 \\\\\n",
       "\t26 & 1 & 26 & 2600 & car & 1052.87 & 959.909 & -5.598 & 0.494 & 3.054 & 4.4 & 1.77 \\\\\n",
       "\t27 & 1 & 27 & 2700 & car & 1052.31 & 959.963 & -5.593 & 0.51 & 3.051 & 4.4 & 1.77 \\\\\n",
       "\t28 & 1 & 28 & 2800 & car & 1051.75 & 960.017 & -5.594 & 0.525 & 3.048 & 4.4 & 1.77 \\\\\n",
       "\t29 & 1 & 29 & 2900 & car & 1051.19 & 960.073 & -5.602 & 0.539 & 3.046 & 4.4 & 1.77 \\\\\n",
       "\t30 & 1 & 30 & 3000 & car & 1050.63 & 960.13 & -5.618 & 0.553 & 3.043 & 4.4 & 1.77 \\\\\n",
       "\t$\\dots$ & $\\dots$ & $\\dots$ & $\\dots$ & $\\dots$ & $\\dots$ & $\\dots$ & $\\dots$ & $\\dots$ & $\\dots$ & $\\dots$ & $\\dots$ \\\\\n",
       "\\end{tabular}\n"
      ],
      "text/plain": [
       "108995×11 DataFrame. Omitted printing of 6 columns\n",
       "│ Row    │ track_id │ frame_id │ timestamp_ms │ agent_type │ x        │\n",
       "│        │ \u001b[90mInt64⍰\u001b[39m   │ \u001b[90mInt64⍰\u001b[39m   │ \u001b[90mInt64⍰\u001b[39m       │ \u001b[90mString⍰\u001b[39m    │ \u001b[90mFloat64⍰\u001b[39m │\n",
       "├────────┼──────────┼──────────┼──────────────┼────────────┼──────────┤\n",
       "│ 1      │ 1        │ 1        │ 100          │ car        │ 1067.49  │\n",
       "│ 2      │ 1        │ 2        │ 200          │ car        │ 1066.89  │\n",
       "│ 3      │ 1        │ 3        │ 300          │ car        │ 1066.29  │\n",
       "│ 4      │ 1        │ 4        │ 400          │ car        │ 1065.68  │\n",
       "│ 5      │ 1        │ 5        │ 500          │ car        │ 1065.08  │\n",
       "│ 6      │ 1        │ 6        │ 600          │ car        │ 1064.48  │\n",
       "│ 7      │ 1        │ 7        │ 700          │ car        │ 1063.88  │\n",
       "│ 8      │ 1        │ 8        │ 800          │ car        │ 1063.28  │\n",
       "│ 9      │ 1        │ 9        │ 900          │ car        │ 1062.68  │\n",
       "│ 10     │ 1        │ 10       │ 1000         │ car        │ 1062.09  │\n",
       "⋮\n",
       "│ 108985 │ 689      │ 3502     │ 350200       │ car        │ 1128.87  │\n",
       "│ 108986 │ 689      │ 3503     │ 350300       │ car        │ 1128.07  │\n",
       "│ 108987 │ 689      │ 3504     │ 350400       │ car        │ 1127.27  │\n",
       "│ 108988 │ 689      │ 3505     │ 350500       │ car        │ 1126.47  │\n",
       "│ 108989 │ 689      │ 3506     │ 350600       │ car        │ 1125.67  │\n",
       "│ 108990 │ 689      │ 3507     │ 350700       │ car        │ 1124.87  │\n",
       "│ 108991 │ 689      │ 3508     │ 350800       │ car        │ 1124.07  │\n",
       "│ 108992 │ 689      │ 3509     │ 350900       │ car        │ 1123.28  │\n",
       "│ 108993 │ 689      │ 3510     │ 351000       │ car        │ 1122.48  │\n",
       "│ 108994 │ 689      │ 3511     │ 351100       │ car        │ 1121.68  │\n",
       "│ 108995 │ 689      │ 3512     │ 351200       │ car        │ 1120.89  │"
      ]
     },
     "execution_count": 23,
     "metadata": {},
     "output_type": "execute_result"
    }
   ],
   "source": [
    "df = readtable(\"vehicle_tracks_000.csv\", separator=',', header = true)"
   ]
  },
  {
   "cell_type": "code",
   "execution_count": 24,
   "metadata": {},
   "outputs": [
    {
     "data": {
      "text/plain": [
       "108995-element Array{Union{Missing, Int64},1}:\n",
       "   1\n",
       "   1\n",
       "   1\n",
       "   1\n",
       "   1\n",
       "   1\n",
       "   1\n",
       "   1\n",
       "   1\n",
       "   1\n",
       "   1\n",
       "   1\n",
       "   1\n",
       "   ⋮\n",
       " 689\n",
       " 689\n",
       " 689\n",
       " 689\n",
       " 689\n",
       " 689\n",
       " 689\n",
       " 689\n",
       " 689\n",
       " 689\n",
       " 689\n",
       " 689"
      ]
     },
     "execution_count": 24,
     "metadata": {},
     "output_type": "execute_result"
    }
   ],
   "source": [
    "df[:track_id]"
   ]
  },
  {
   "cell_type": "code",
   "execution_count": 32,
   "metadata": {},
   "outputs": [
    {
     "data": {
      "text/plain": [
       "Dict{Int64,Array{Int64,1}} with 0 entries"
      ]
     },
     "execution_count": 32,
     "metadata": {},
     "output_type": "execute_result"
    }
   ],
   "source": [
    "frame2cars = Dict{Int,Vector{Int}}()"
   ]
  },
  {
   "cell_type": "code",
   "execution_count": 34,
   "metadata": {},
   "outputs": [],
   "source": [
    "        car2start = Dict{Int, Int}()\n",
    "        frame2cars = Dict{Int, Vector{Int}}()\n",
    "for (dfind, carid) in enumerate(df[:track_id])\n",
    "            if !haskey(car2start, carid)\n",
    "                car2start[carid] = dfind\n",
    "            end\n",
    "    frame = convert(Int, df[dfind, :frame_id])\n",
    "               if !haskey(frame2cars, frame)\n",
    "                frame2cars[frame] = [carid]\n",
    "            else\n",
    "                frame2cars[frame] = push!(frame2cars[frame], carid)\n",
    "            end\n",
    "end"
   ]
  },
  {
   "cell_type": "code",
   "execution_count": 35,
   "metadata": {},
   "outputs": [
    {
     "data": {
      "text/plain": [
       "Dict{Int64,Int64} with 684 entries:\n",
       "  306 => 44970\n",
       "  29  => 2324\n",
       "  74  => 9784\n",
       "  176 => 26132\n",
       "  285 => 41721\n",
       "  318 => 47163\n",
       "  354 => 52959\n",
       "  610 => 97390\n",
       "  563 => 88794\n",
       "  671 => 107832\n",
       "  117 => 15978\n",
       "  284 => 41458\n",
       "  474 => 71998\n",
       "  188 => 27769\n",
       "  589 => 93727\n",
       "  685 => 108860\n",
       "  621 => 99323\n",
       "  617 => 98651\n",
       "  353 => 52896\n",
       "  430 => 64733\n",
       "  79  => 10588\n",
       "  71  => 8995\n",
       "  154 => 21943\n",
       "  184 => 27139\n",
       "  107 => 14770\n",
       "  ⋮   => ⋮"
      ]
     },
     "execution_count": 35,
     "metadata": {},
     "output_type": "execute_result"
    }
   ],
   "source": [
    "car2start"
   ]
  },
  {
   "cell_type": "code",
   "execution_count": 36,
   "metadata": {},
   "outputs": [
    {
     "data": {
      "text/plain": [
       "Dict{Int64,Array{Int64,1}} with 3512 entries:\n",
       "  2843 => [480, 483, 488, 490, 496, 500, 506, 511, 518, 528  …  559, 560, 561, …\n",
       "  1316 => [222, 225, 228, 229, 231, 233, 235, 236, 237, 238  …  246, 247, 248, …\n",
       "  1333 => [225, 229, 231, 233, 235, 236, 237, 238, 239, 241  …  248, 249, 250, …\n",
       "  3485 => [627, 636, 638, 642, 643, 648, 654, 656, 658, 659  …  677, 678, 679, …\n",
       "  3120 => [518, 532, 537, 556, 560, 570, 571, 573, 574, 576  …  615, 616, 617, …\n",
       "  1671 => [277, 279, 284, 287, 289, 290, 294, 295, 298, 300  …  323, 324, 325, …\n",
       "  1131 => [179, 186, 188, 195, 197, 199, 201, 203, 204, 206  …  212, 213, 214, …\n",
       "  74   => [1, 4, 5, 6, 8, 11, 13, 15, 19, 20  …  41, 42, 43, 44, 45, 46, 47, 48…\n",
       "  1662 => [277, 279, 284, 287, 289, 290, 294, 295, 298, 300  …  320, 321, 322, …\n",
       "  1265 => [214, 219, 220, 221, 222, 223, 224, 225, 227, 228  …  234, 235, 236, …\n",
       "  1469 => [250, 251, 256, 259, 261, 262, 264, 265, 266, 268  …  280, 281, 282, …\n",
       "  2308 => [394, 405, 411, 416, 421, 422, 426, 427, 431, 436  …  457, 458, 459, …\n",
       "  1461 => [249, 250, 251, 256, 259, 261, 262, 264, 265, 266  …  277, 278, 279, …\n",
       "  3335 => [583, 598, 603, 612, 617, 622, 626, 627, 628, 630  …  652, 653, 654, …\n",
       "  1881 => [311, 315, 320, 324, 327, 329, 333, 335, 339, 341  …  368, 369, 370, …\n",
       "  318  => [42, 49, 50, 59, 60, 62, 66, 67, 71, 73  …  88, 89, 90, 91, 92, 93, 9…\n",
       "  2061 => [341, 346, 354, 357, 371, 372, 377, 379, 381, 383  …  407, 409, 410, …\n",
       "  873  => [151, 152, 153, 155, 156, 157, 162, 164, 165, 166  …  175, 176, 177, …\n",
       "  1273 => [219, 220, 222, 223, 224, 225, 228, 229, 230, 231  …  234, 235, 236, …\n",
       "  3093 => [518, 528, 532, 537, 556, 560, 567, 570, 571, 573  …  609, 610, 611, …\n",
       "  2300 => [394, 405, 411, 416, 421, 422, 426, 427, 431, 436  …  456, 457, 458, …\n",
       "  1791 => [295, 300, 307, 308, 311, 315, 320, 324, 327, 329  …  347, 348, 349, …\n",
       "  2631 => [462, 471, 476, 480, 483, 488, 490, 496, 498, 500  …  522, 523, 524, …\n",
       "  1400 => [238, 243, 245, 246, 247, 248, 249, 250, 251, 254  …  264, 265, 266, …\n",
       "  3073 => [511, 518, 528, 532, 537, 556, 560, 564, 567, 570  …  603, 604, 605, …\n",
       "  ⋮    => ⋮"
      ]
     },
     "execution_count": 36,
     "metadata": {},
     "output_type": "execute_result"
    }
   ],
   "source": [
    "frame2cars"
   ]
  },
  {
   "cell_type": "code",
   "execution_count": 37,
   "metadata": {},
   "outputs": [
    {
     "data": {
      "text/plain": [
       "INTERACTIONTrajdata"
      ]
     },
     "execution_count": 37,
     "metadata": {},
     "output_type": "execute_result"
    }
   ],
   "source": [
    "# struct: the interaction trajdata\n",
    "\"\"\"\n",
    "INTERACTIONTrajdata\n",
    "The trajectory data stored in the original INTERACTION dataset format.\n",
    "The dataset is a csv file with columns:\n",
    "    track_id      - Int64 - Representing the id of the agent\n",
    "    frame_id      - Int64 - Represents the frames in which the agent appears in the video\n",
    "    timestamp_ms  - Int64 - represents the time the agent appears in the video. The unit is millisecond\n",
    "    agent_type    - String - Can be person, car, truck and so on\n",
    "    x             - Float64 - x position, in meter\n",
    "    y             - Float64 - y position in meter\n",
    "    vx            - Float64 - x velocity in m/s\n",
    "    vy            - Float64 - y velocity in m/s\n",
    "    psi_rad       - Float64 - yaw angle in radian\n",
    "    length        - Float64 - Length of the vehicle, in meter\n",
    "    width         - Float64 - Width of the vehicle, in meter\n",
    "\"\"\"\n",
    "mutable struct INTERACTIONTrajdata\n",
    "    df         :: DataFrame\n",
    "    car2start  :: Dict{Int, Int}         # maps carindex to starting index in the df\n",
    "    frame2cars :: Dict{Int, Vector{Int}} # maps frame to list of carids in the scene\n",
    "\n",
    "    function INTERACTIONTrajdata(input_path::String)\n",
    "\n",
    "        @assert(isfile(input_path))\n",
    "\n",
    "        df = readtable(input_path, separator=',', header = true)\n",
    "\n",
    "        car2start = Dict{Int, Int}()\n",
    "        frame2cars = Dict{Int, Vector{Int}}()\n",
    "\n",
    "        for (dfind, carid) in enumerate(df[:track_id])\n",
    "            if !haskey(car2start, carid)\n",
    "                car2start[carid] = dfind\n",
    "            end\n",
    "\n",
    "            frame = convert(Int, df[dfind, :frame_id])\n",
    "            if !haskey(frame2cars, frame)\n",
    "                frame2cars[frame] = [carid]\n",
    "            else\n",
    "                frame2cars[frame] = push!(frame2cars[frame], carid)\n",
    "            end\n",
    "        end\n",
    "\n",
    "        new(df, car2start, frame2cars)\n",
    "    end\n",
    "end"
   ]
  },
  {
   "cell_type": "code",
   "execution_count": 38,
   "metadata": {},
   "outputs": [
    {
     "data": {
      "text/plain": [
       "INTERACTIONTrajdata(108995×11 DataFrame. Omitted printing of 6 columns\n",
       "│ Row    │ track_id │ frame_id │ timestamp_ms │ agent_type │ x        │\n",
       "│        │ \u001b[90mInt64⍰\u001b[39m   │ \u001b[90mInt64⍰\u001b[39m   │ \u001b[90mInt64⍰\u001b[39m       │ \u001b[90mString⍰\u001b[39m    │ \u001b[90mFloat64⍰\u001b[39m │\n",
       "├────────┼──────────┼──────────┼──────────────┼────────────┼──────────┤\n",
       "│ 1      │ 1        │ 1        │ 100          │ car        │ 1067.49  │\n",
       "│ 2      │ 1        │ 2        │ 200          │ car        │ 1066.89  │\n",
       "│ 3      │ 1        │ 3        │ 300          │ car        │ 1066.29  │\n",
       "│ 4      │ 1        │ 4        │ 400          │ car        │ 1065.68  │\n",
       "│ 5      │ 1        │ 5        │ 500          │ car        │ 1065.08  │\n",
       "│ 6      │ 1        │ 6        │ 600          │ car        │ 1064.48  │\n",
       "│ 7      │ 1        │ 7        │ 700          │ car        │ 1063.88  │\n",
       "│ 8      │ 1        │ 8        │ 800          │ car        │ 1063.28  │\n",
       "│ 9      │ 1        │ 9        │ 900          │ car        │ 1062.68  │\n",
       "│ 10     │ 1        │ 10       │ 1000         │ car        │ 1062.09  │\n",
       "⋮\n",
       "│ 108985 │ 689      │ 3502     │ 350200       │ car        │ 1128.87  │\n",
       "│ 108986 │ 689      │ 3503     │ 350300       │ car        │ 1128.07  │\n",
       "│ 108987 │ 689      │ 3504     │ 350400       │ car        │ 1127.27  │\n",
       "│ 108988 │ 689      │ 3505     │ 350500       │ car        │ 1126.47  │\n",
       "│ 108989 │ 689      │ 3506     │ 350600       │ car        │ 1125.67  │\n",
       "│ 108990 │ 689      │ 3507     │ 350700       │ car        │ 1124.87  │\n",
       "│ 108991 │ 689      │ 3508     │ 350800       │ car        │ 1124.07  │\n",
       "│ 108992 │ 689      │ 3509     │ 350900       │ car        │ 1123.28  │\n",
       "│ 108993 │ 689      │ 3510     │ 351000       │ car        │ 1122.48  │\n",
       "│ 108994 │ 689      │ 3511     │ 351100       │ car        │ 1121.68  │\n",
       "│ 108995 │ 689      │ 3512     │ 351200       │ car        │ 1120.89  │, Dict(306=>44970,29=>2324,74=>9784,176=>26132,285=>41721,318=>47163,354=>52959,610=>97390,563=>88794,671=>107832…), Dict(2843=>[480, 483, 488, 490, 496, 500, 506, 511, 518, 528  …  559, 560, 561, 562, 563, 564, 565, 566, 567, 568],1316=>[222, 225, 228, 229, 231, 233, 235, 236, 237, 238  …  246, 247, 248, 249, 250, 251, 252, 253, 254, 255],1333=>[225, 229, 231, 233, 235, 236, 237, 238, 239, 241  …  248, 249, 250, 251, 252, 253, 254, 255, 256, 257],3485=>[627, 636, 638, 642, 643, 648, 654, 656, 658, 659  …  677, 678, 679, 680, 681, 682, 683, 684, 685, 686],3120=>[518, 532, 537, 556, 560, 570, 571, 573, 574, 576  …  615, 616, 617, 618, 619, 620, 621, 622, 623, 624],1671=>[277, 279, 284, 287, 289, 290, 294, 295, 298, 300  …  323, 324, 325, 326, 327, 328, 329, 330, 331, 332],1131=>[179, 186, 188, 195, 197, 199, 201, 203, 204, 206  …  212, 213, 214, 215, 216, 217, 218, 219, 220, 221],74=>[1, 4, 5, 6, 8, 11, 13, 15, 19, 20  …  41, 42, 43, 44, 45, 46, 47, 48, 49, 50],1662=>[277, 279, 284, 287, 289, 290, 294, 295, 298, 300  …  320, 321, 322, 323, 324, 325, 326, 327, 328, 329],1265=>[214, 219, 220, 221, 222, 223, 224, 225, 227, 228  …  234, 235, 236, 237, 238, 239, 240, 241, 242, 243]…))"
      ]
     },
     "execution_count": 38,
     "metadata": {},
     "output_type": "execute_result"
    }
   ],
   "source": [
    "INTERACTIONTrajdata(\"vehicle_tracks_000.csv\")"
   ]
  },
  {
   "cell_type": "code",
   "execution_count": null,
   "metadata": {},
   "outputs": [],
   "source": []
  }
 ],
 "metadata": {
  "@webio": {
   "lastCommId": null,
   "lastKernelId": null
  },
  "kernelspec": {
   "display_name": "Julia 1.1.0",
   "language": "julia",
   "name": "julia-1.1"
  },
  "language_info": {
   "file_extension": ".jl",
   "mimetype": "application/julia",
   "name": "julia",
   "version": "1.1.0"
  }
 },
 "nbformat": 4,
 "nbformat_minor": 2
}
