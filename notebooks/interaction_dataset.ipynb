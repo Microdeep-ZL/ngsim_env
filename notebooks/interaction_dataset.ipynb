{
 "cells": [
  {
   "cell_type": "markdown",
   "metadata": {},
   "source": [
    "## Notebook to work with interaction dataset merge scenario `DR_CHN_Merging_ZS`\n",
    "    - Roadway generation\n",
    "    - Trajdata creation based on reading vehicle tracks from provided csv files\n",
    "\n",
    "## Changelog\n",
    "- Friday, Jan 31\n",
    "    - Creation\n",
    "    - Toy track generation using way if 10025 from `DR_CHN_Merging_ZS.osm`\n",
    "- Monday, Feb 3\n",
    "    - Begin trajdata creation to read in the vehicle tracks. Creation of struct called `INTERACTIONTrajdata`\n",
    "- Tuesday, Feb 4\n",
    "    - `Trajdata` reading nominally works. And rendered a scene of course without roadway. Some caveats\n",
    "        - `car_df_index` line 21 onwards check is commented out\n",
    "        - No `roadway` involved in the creation of `RecordState`\n",
    "    - Made a video of replaying the trajdata, of course without roadway, just cars in the blackness\n",
    "- Wednesday, Feb 5\n",
    "    - roadway building using `generate_merging_roadway` from `AutonomousMerging.jl`\n",
    "    - brought in `curevept_overlay` to do overlay the curve points that constitute a road\n",
    "    - Drove a car in the merging scenario to check that lane semantics works i.e. vehicle understands\n",
    "    how to keep lane\n",
    "    - second roadway inspired by William Brannon curved merging lane\n",
    "- Friday, Feb 7\n",
    "    - Started pipeline to read Soyeon's centerline data files"
   ]
  },
  {
   "cell_type": "code",
   "execution_count": 36,
   "metadata": {
    "code_folding": []
   },
   "outputs": [
    {
     "name": "stderr",
     "output_type": "stream",
     "text": [
      "┌ Info: Precompiling AutoViz [82aa6e0c-a491-5edf-8d4b-c16b98e4ea17]\n",
      "└ @ Base loading.jl:1186\n",
      "ERROR: LoadError: LoadError: LoadError: 8-digit and 4-digit hex notations are not supported yet.\n",
      "Stacktrace:\n",
      " [1] error(::String) at ./error.jl:33\n",
      " [2] _parse_colorant(::String) at /home/raunak/.julia/packages/Colors/P2rUx/src/parse.jl:70\n",
      " [3] _parse_colorant at /home/raunak/.julia/packages/Colors/P2rUx/src/parse.jl:143 [inlined]\n",
      " [4] parse(::Type{ColorTypes.Colorant}, ::String) at /home/raunak/.julia/packages/Colors/P2rUx/src/parse.jl:181\n",
      " [5] @colorant_str(::LineNumberNode, ::Module, ::Any) at /home/raunak/.julia/packages/Colors/P2rUx/src/parse.jl:192\n",
      " [6] include at ./boot.jl:326 [inlined]\n",
      " [7] include_relative(::Module, ::String) at ./loading.jl:1038\n",
      " [8] include at ./sysimg.jl:29 [inlined]\n",
      " [9] include(::String) at /home/raunak/.julia/dev/AutoViz/src/AutoViz.jl:3\n",
      " [10] top-level scope at none:0\n",
      " [11] include at ./boot.jl:326 [inlined]\n",
      " [12] include_relative(::Module, ::String) at ./loading.jl:1038\n",
      " [13] include(::Module, ::String) at ./sysimg.jl:29\n",
      " [14] top-level scope at none:2\n",
      " [15] eval at ./boot.jl:328 [inlined]\n",
      " [16] eval(::Expr) at ./client.jl:404\n",
      " [17] top-level scope at ./none:3\n",
      "in expression starting at /home/raunak/.julia/dev/AutoViz/src/colorscheme.jl:9\n",
      "in expression starting at /home/raunak/.julia/dev/AutoViz/src/colorscheme.jl:9\n",
      "in expression starting at /home/raunak/.julia/dev/AutoViz/src/AutoViz.jl:33\n"
     ]
    },
    {
     "ename": "ErrorException",
     "evalue": "Failed to precompile AutoViz [82aa6e0c-a491-5edf-8d4b-c16b98e4ea17] to /home/raunak/.julia/compiled/v1.1/AutoViz/w0rHu.ji.",
     "output_type": "error",
     "traceback": [
      "Failed to precompile AutoViz [82aa6e0c-a491-5edf-8d4b-c16b98e4ea17] to /home/raunak/.julia/compiled/v1.1/AutoViz/w0rHu.ji.",
      "",
      "Stacktrace:",
      " [1] error(::String) at ./error.jl:33",
      " [2] compilecache(::Base.PkgId, ::String) at ./loading.jl:1197",
      " [3] _require(::Base.PkgId) at ./loading.jl:960",
      " [4] require(::Base.PkgId) at ./loading.jl:858",
      " [5] require(::Module, ::Symbol) at ./loading.jl:853",
      " [6] top-level scope at In[36]:3"
     ]
    }
   ],
   "source": [
    "# usings\n",
    "using AutomotiveDrivingModels\n",
    "using AutoViz"
   ]
  },
  {
   "cell_type": "code",
   "execution_count": 31,
   "metadata": {
    "code_folding": [
     0
    ]
   },
   "outputs": [
    {
     "data": {
      "text/plain": [
       "append_to_curve! (generic function with 1 method)"
      ]
     },
     "execution_count": 31,
     "metadata": {},
     "output_type": "execute_result"
    }
   ],
   "source": [
    "# function: append to curve\n",
    "function append_to_curve!(target::Curve, newstuff::Curve)\n",
    "    s_end = target[end].s\n",
    "    for c in newstuff\n",
    "        push!(target, CurvePt(c.pos, c.s+s_end, c.k, c.kd))\n",
    "    end\n",
    "    return target\n",
    "end"
   ]
  },
  {
   "cell_type": "code",
   "execution_count": 30,
   "metadata": {
    "code_folding": [
     0,
     13,
     32,
     62
    ]
   },
   "outputs": [
    {
     "data": {
      "text/plain": [
       "bound_heading"
      ]
     },
     "execution_count": 30,
     "metadata": {},
     "output_type": "execute_result"
    }
   ],
   "source": [
    "# functions: angle calculation\n",
    "\"\"\"\n",
    "    function append_headings\n",
    "- Used create the angles and append them into the coordinates\n",
    "\n",
    "# Examples\n",
    "```julia\n",
    "x_coods = [1089.07510, 1093.82626, 1101.19325, 1112.59899, 1123.96733, 1133.24150, 1146.47964]\n",
    "y_coods = [936.31213, 936.92692,938.52419, 940.93865, 943.27882, 945.21039, 947.88488]\n",
    "coods = hcat(x_coods,y_coods)\n",
    "append_headings(coods)\n",
    "```\n",
    "\"\"\"\n",
    "function append_headings(coordinates::Matrix{Float64})\n",
    "    headings = ones(size(coordinates)[1])\n",
    "    for i = 1:size(coordinates)[1]-1\n",
    "        # need to make sure that math is right, and that bounds are kept\n",
    "        tangent_vector = [coordinates[i+1,1]-coordinates[i,1], coordinates[i+1,2]-coordinates[i,2]]\n",
    "        # @show tangent_vector\n",
    "        current_heading = get_new_angle(tangent_vector)\n",
    "        # @show current_heading\n",
    "        headings[i] = current_heading\n",
    "    end\n",
    "    headings[end] = headings[end-1] # assume this is fine\n",
    "    coordinates = hcat(coordinates, headings)\n",
    "    return coordinates\n",
    "end\n",
    "\n",
    "\"\"\"\n",
    "    function get_new_angle\n",
    "- Does the actual angle calculation based on the x y coordinates\n",
    "\"\"\"\n",
    "function get_new_angle(tangent_vector::Array{Float64})\n",
    "    # it might be a problem when we switch quadrants\n",
    "    # use signs of tangent vector to get the quadrant of the heading \n",
    "    x = tangent_vector[1]\n",
    "    y = tangent_vector[2]\n",
    "    if x == 0. && y == 0.\n",
    "        heading = 0.0\n",
    "    elseif x == 0.\n",
    "        heading = π/2 * sign(y) \n",
    "    elseif y == 0.\n",
    "        heading = convert(Float64, π) # this could be either pi or -pi, but just go with pi\n",
    "    elseif sign(x) == 1 && sign(y) == 1 # first quadrant\n",
    "        heading = atan(y, x)\n",
    "    elseif sign(x) == -1 && sign(y) == 1 # second quadrant\n",
    "        heading = atan(y, x)\n",
    "    elseif sign(x) == 1 && sign(y) == -1 # fourth quadrant\n",
    "        heading = atan(y, x)\n",
    "    elseif sign(x) == -1 && sign(y) == -1 # third quadrant\n",
    "        heading = atan(y, x)\n",
    "    end\n",
    "    # bound_heading doesn't end up getting called cause Julia takes care of it apparently\n",
    "    bound_heading(heading)\n",
    "\n",
    "    return heading\n",
    "end\n",
    "\n",
    "\"\"\"\n",
    "    function bound_heading\n",
    "- Make the angle range from 0 to pi instead of going beyond\n",
    "\"\"\"\n",
    "function bound_heading(heading::Float64)\n",
    "    if heading > π # send this to be just near -pi\n",
    "        heading = -π + (heading - π)    # if heading is 3.15, then the new angle will be (-pi + (3.15-pi)) = -3.13\n",
    "    elseif heading < -π # send this to be just near pi \n",
    "        heading = π + (heading + π)     # if heading is -3.15, then the new angle will be (pi + (-3.15+pi)) = 3.13\n",
    "    end\n",
    "    return heading\n",
    "end"
   ]
  },
  {
   "cell_type": "code",
   "execution_count": null,
   "metadata": {
    "code_folding": [
     0
    ]
   },
   "outputs": [],
   "source": [
    "# function: get_track\n",
    "\"\"\"\n",
    "    function get_track()\n",
    "\n",
    "- Generate a track based on x and y coordinates of the centerline\n",
    "- Extracts angles as an intermediate step\n",
    "\"\"\"\n",
    "function get_track()\n",
    "    # way 10025 for illustrate purposes\n",
    "    x_coods = [1089.07510, 1093.82626, 1101.19325, 1112.59899, 1123.96733, 1133.24150, 1146.47964]\n",
    "    y_coods = [936.31213, 936.92692,938.52419, 940.93865, 943.27882, 945.21039, 947.88488]\n",
    "\n",
    "    coods = hcat(x_coods,y_coods)\n",
    "    coods_app = append_headings(coods) # Append with the angle\n",
    "    \n",
    "    mid_coods = coods_app'\n",
    "    \n",
    "    first_cood = VecSE2(mid_coods[1,1], mid_coods[2,1], mid_coods[3,1])\n",
    "    second_cood = VecSE2(mid_coods[1,2], mid_coods[2,2], mid_coods[3,2])\n",
    "    radius = 0.01\n",
    "    nsamples = 20\n",
    "\n",
    "    track = gen_bezier_curve(first_cood, second_cood, radius, radius, nsamples)\n",
    "    \n",
    "    nsamples = 20\n",
    "    for i = 3:7\n",
    "        turn1 = VecSE2(mid_coods[1, i-1], mid_coods[2, i-1], mid_coods[3, i-1])\n",
    "        turn2 = VecSE2(mid_coods[1, i], mid_coods[2, i], mid_coods[3, i])\n",
    "        curve = gen_bezier_curve(turn1, turn2, radius, radius, nsamples)\n",
    "        append_to_curve!(track, curve)\n",
    "    end\n",
    "\n",
    "    return track\n",
    "end"
   ]
  },
  {
   "cell_type": "code",
   "execution_count": null,
   "metadata": {
    "code_folding": [
     0
    ]
   },
   "outputs": [],
   "source": [
    "# script: generate the roadway\n",
    "\n",
    "#nlanes = 1\n",
    "#length = 50.\n",
    "\n",
    "#roadway = gen_straight_roadway(nlanes, length)\n",
    "\n",
    "width = DEFAULT_LANE_WIDTH\n",
    "roadway = Roadway()\n",
    "\n",
    "track = get_track()\n",
    "\n",
    "lane = Lane(LaneTag(1, 2), track, width=DEFAULT_LANE_WIDTH)\n",
    "push!(roadway.segments, RoadSegment(lane.tag.segment, [lane]))\n",
    "cam = FitToContentCamera(0.05)\n",
    "render(roadway, cam=cam)"
   ]
  },
  {
   "cell_type": "code",
   "execution_count": null,
   "metadata": {},
   "outputs": [],
   "source": [
    "@show roadway.segments[1].lanes"
   ]
  },
  {
   "cell_type": "markdown",
   "metadata": {},
   "source": [
    "## Interaction track experimentation"
   ]
  },
  {
   "cell_type": "code",
   "execution_count": null,
   "metadata": {
    "code_folding": [
     0
    ]
   },
   "outputs": [],
   "source": [
    "# usings: Specific to trajdata\n",
    "using DataFrames\n",
    "using Records\n",
    "using Reel"
   ]
  },
  {
   "cell_type": "code",
   "execution_count": null,
   "metadata": {
    "code_folding": [
     0
    ]
   },
   "outputs": [],
   "source": [
    "# constants: timestep\n",
    "const INTERACTION_TIMESTEP = 0.1 # unit is second"
   ]
  },
  {
   "cell_type": "code",
   "execution_count": null,
   "metadata": {
    "code_folding": [
     0
    ]
   },
   "outputs": [],
   "source": [
    "# struct: the interaction trajdata\n",
    "\"\"\"\n",
    "INTERACTIONTrajdata\n",
    "The trajectory data stored in the original INTERACTION dataset format.\n",
    "The dataset is a csv file with columns:\n",
    "    track_id      - Int64 - Representing the id of the agent\n",
    "    frame_id      - Int64 - Represents the frames in which the agent appears in the video\n",
    "    timestamp_ms  - Int64 - represents the time the agent appears in the video. The unit is millisecond\n",
    "    agent_type    - String - Can be person, car, truck and so on\n",
    "    x             - Float64 - x position, in meter\n",
    "    y             - Float64 - y position in meter\n",
    "    vx            - Float64 - x velocity in m/s\n",
    "    vy            - Float64 - y velocity in m/s\n",
    "    psi_rad       - Float64 - yaw angle in radian\n",
    "    length        - Float64 - Length of the vehicle, in meter\n",
    "    width         - Float64 - Width of the vehicle, in meter\n",
    "\n",
    "# Example\n",
    "```julia\n",
    "tdraw = INTERACTIONTrajdata(\"vehicle_tracks_000.csv\");\n",
    "```\n",
    "\"\"\"\n",
    "mutable struct INTERACTIONTrajdata\n",
    "    df         :: DataFrame\n",
    "    car2start  :: Dict{Int, Int}         # maps carindex to starting index in the df\n",
    "    frame2cars :: Dict{Int, Vector{Int}} # maps frame to list of carids in the scene\n",
    "\n",
    "    function INTERACTIONTrajdata(input_path::String)\n",
    "\n",
    "        @assert(isfile(input_path))\n",
    "\n",
    "        df = readtable(input_path, separator=',', header = true)\n",
    "\n",
    "        car2start = Dict{Int, Int}()\n",
    "        frame2cars = Dict{Int, Vector{Int}}()\n",
    "\n",
    "        for (dfind, carid) in enumerate(df[:track_id])\n",
    "            if !haskey(car2start, carid)\n",
    "                car2start[carid] = dfind\n",
    "            end\n",
    "\n",
    "            frame = convert(Int, df[dfind, :frame_id])\n",
    "            if !haskey(frame2cars, frame)\n",
    "                frame2cars[frame] = [carid]\n",
    "            else\n",
    "                frame2cars[frame] = push!(frame2cars[frame], carid)\n",
    "            end\n",
    "        end\n",
    "\n",
    "        new(df, car2start, frame2cars)\n",
    "    end\n",
    "end"
   ]
  },
  {
   "cell_type": "code",
   "execution_count": null,
   "metadata": {
    "code_folding": [
     0
    ]
   },
   "outputs": [],
   "source": [
    "# function: overload nframes from Records\n",
    "\"\"\"\n",
    "    Records.nframes\n",
    "\n",
    "# Example\n",
    "```julia\n",
    "tdraw = INTERACTIONTrajdata(\"vehicle_tracks_000.csv\")\n",
    "nframes(tdraw)\n",
    "```\n",
    "\"\"\"\n",
    "Records.nframes(trajdata::INTERACTIONTrajdata) = maximum(keys(trajdata.frame2cars))"
   ]
  },
  {
   "cell_type": "code",
   "execution_count": null,
   "metadata": {
    "code_folding": [
     0
    ]
   },
   "outputs": [],
   "source": [
    "# function: carsinframe for memory allocation\n",
    "\"\"\"\n",
    "    carsinframe(trajdata::INTERACTIONTrajdata, frame::Int)\n",
    "- From the dictionary `frame2cars` which has frame number as key and all vector of car ids in that frame\n",
    "as value, this function extracts the value corresponding to key given by `frame`\n",
    "\n",
    "# Example\n",
    "```julia\n",
    "# Return array with car ids in frame 1\n",
    "carsinframe(tdraw,1)\n",
    "```\n",
    "\"\"\"\n",
    "carsinframe(trajdata::INTERACTIONTrajdata, frame::Int) = get(trajdata.frame2cars, frame, Int[])"
   ]
  },
  {
   "cell_type": "code",
   "execution_count": null,
   "metadata": {
    "code_folding": [
     0
    ]
   },
   "outputs": [],
   "source": [
    "# script: read data from csv file into INTERACTIONTrajdata struct and prepare for next steps i.e.\n",
    "# what Base.convert(::Type{Trajdata}, tdraw::NGSIMTrajdata, roadway::Roadway) does in NGSIM/trajdata.jl\n",
    "tdraw = INTERACTIONTrajdata(\"vehicle_tracks_000.csv\");\n",
    "df = tdraw.df\n",
    "vehdefs = Dict{Int, VehicleDef}()\n",
    "states = Array{RecordState{VehicleState, Int}}(undef, nrow(df))\n",
    "frames = Array{RecordFrame}(undef, nframes(tdraw));"
   ]
  },
  {
   "cell_type": "code",
   "execution_count": null,
   "metadata": {
    "code_folding": [
     0
    ]
   },
   "outputs": [],
   "source": [
    "# script: initialize the vehicle definition in terms of type, length and width\n",
    "for (id, dfind) in tdraw.car2start\n",
    "    # CAUTION: Hardcoding vehicle type to be just car shown by the first argument being 2\n",
    "    vehdefs[id] = VehicleDef(2, df[dfind, :length], df[dfind, :width])\n",
    "    #if df[dfind,:agent_type] == \"car\"\n",
    "    #    print(\"dfind is $(dfind)\")\n",
    "    #    print(df[dfind,:agent_type])\n",
    "    #end\n",
    "end"
   ]
  },
  {
   "cell_type": "code",
   "execution_count": null,
   "metadata": {
    "code_folding": [
     0
    ]
   },
   "outputs": [],
   "source": [
    "# function: car_df_index - find index of car in trajdata\n",
    "function car_df_index(trajdata::INTERACTIONTrajdata, carid::Int, frame::Int)\n",
    "    #=\n",
    "    given frame and carid, find index of car in trajdata\n",
    "    Returns 0 if it does not exist\n",
    "    =#\n",
    "\n",
    "    df = trajdata.df\n",
    "\n",
    "    lo = trajdata.car2start[carid] # The index in the dataframe where carid first appears\n",
    "    framestart = df[lo, :frame_id] # The frame number where carid first appears\n",
    "    print(\"car_df_index says framestart = $(framestart)\\n\")\n",
    "    retval = 0\n",
    "\n",
    "    if framestart == frame\n",
    "        retval = lo\n",
    "    elseif frame ≥ framestart\n",
    "        print(\"car_df_index says frame >= framestart\\n\")\n",
    "        print(\"car_df_index says lo = $(lo)\")\n",
    "        retval = frame - framestart + lo\n",
    "        #n_frames = df[lo, :n_frames_in_dataset]\n",
    "        #if retval > lo + n_frames\n",
    "        #    retval = 0\n",
    "        #end\n",
    "    end\n",
    "\n",
    "    retval\n",
    "end"
   ]
  },
  {
   "cell_type": "code",
   "execution_count": null,
   "metadata": {
    "code_folding": [
     0
    ]
   },
   "outputs": [],
   "source": [
    "# script: loop over data and create the vehicle state sequence. NOTE: THIS NEEDS THE ROADWAY\n",
    "state_ind = 0\n",
    "@show nframes(tdraw)\n",
    "for frame in 1 : nframes(tdraw)\n",
    "    @show frame\n",
    "    frame_lo = state_ind+1\n",
    "\n",
    "    for id in carsinframe(tdraw, frame)\n",
    "        @show id\n",
    "        dfind = car_df_index(tdraw, id, frame)\n",
    "        @show dfind\n",
    "\n",
    "        posG = VecSE2(df[dfind, :x], df[dfind, :y], df[dfind, :psi_rad])\n",
    "        vx = df[dfind,:vx]\n",
    "        vy = df[dfind,:vy]\n",
    "        speed = sqrt(vx*vx + vy*vy)\n",
    "\n",
    "        #states[state_ind += 1] = RecordState(VehicleState(posG, roadway, speed), id)\n",
    "        states[state_ind += 1] = RecordState(VehicleState(posG, speed), id)\n",
    "    end\n",
    "\n",
    "    frame_hi = state_ind\n",
    "    frames[frame] = RecordFrame(frame_lo, frame_hi)\n",
    "end\n",
    "Trajdata(INTERACTION_TIMESTEP, frames, states, vehdefs)"
   ]
  },
  {
   "cell_type": "code",
   "execution_count": null,
   "metadata": {},
   "outputs": [],
   "source": [
    "int_trajdata = ans"
   ]
  },
  {
   "cell_type": "markdown",
   "metadata": {},
   "source": [
    "## Video making helper functions"
   ]
  },
  {
   "cell_type": "code",
   "execution_count": null,
   "metadata": {
    "code_folding": [
     0
    ]
   },
   "outputs": [],
   "source": [
    "# overlays: IDOverlay, my_overlay, curve points overlay\n",
    "\"\"\"\n",
    "    IDOverlay\n",
    "Display the ID on top of each entity in a scene.\n",
    "# Fields\n",
    "- `color::Colorant`\n",
    "- `font_size::Int64`\n",
    "\"\"\"\n",
    "mutable struct IDOverlay <: SceneOverlay\n",
    "    color::Colorant\n",
    "    font_size::Int\n",
    "end\n",
    "\n",
    "function AutoViz.render!(rendermodel::RenderModel, overlay::IDOverlay, scene::Scene, \n",
    "                            env::E) where E\n",
    "    font_size = overlay.font_size\n",
    "    for veh in scene\n",
    "        add_instruction!(rendermodel, render_text, (\"$(veh.id)\", veh.state.posG.x, \n",
    "                        veh.state.posG.y, font_size, overlay.color), incameraframe=true)\n",
    "    end\n",
    "    return rendermodel\n",
    "end\n",
    "\n",
    "\"\"\"\n",
    "    my_overlay\n",
    "Overlaying hallucinated trajectory on the ground truth\n",
    "# Fields\n",
    "- `color::Colorant`\n",
    "- `scene::Scene`\n",
    "\"\"\"\n",
    "struct my_overlay <: SceneOverlay\n",
    "    scene::Scene\n",
    "    color # Needs to be of form colorant\"Colorname\"\n",
    "end\n",
    "\n",
    "function AutoViz.render!(rendermodel::RenderModel,overlay::my_overlay, \n",
    "        scene::Scene, roadway::Roadway)\n",
    "    AutoViz.render!(rendermodel,overlay.scene,car_color = overlay.color)\n",
    "    return rendermodel\n",
    "end\n",
    "\n",
    "\"\"\"\n",
    "    curve_pts_overlay\n",
    "Displays a circle on one of the top corner of a vehicle to symbolize a blinker. \n",
    "fields: \n",
    "- color: the color of the blinker\n",
    "- size: the size of the blinker \n",
    "\"\"\" \n",
    "struct curvepts_overlay <: SceneOverlay\n",
    "    roadway\n",
    "    color::Colorant # yellow \n",
    "    size::Float64\n",
    "end\n",
    "\n",
    "function AutoViz.render!(rendermodel::RenderModel, overlay::curvepts_overlay, \n",
    "        scene::Frame{Entity{S,D,I}}, roadway::R) where {S,D,I,R}\n",
    "    \n",
    "    \n",
    "    num_segments = length(roadway.segments)\n",
    "    \n",
    "    # Loop over segments\n",
    "    for seg_i in 1:num_segments\n",
    "        seg = roadway.segments[seg_i]\n",
    "        num_lanes = length(seg.lanes)\n",
    "        \n",
    "        # Within a segment, loop over lanes\n",
    "        for lane_i in 1:num_lanes\n",
    "            lane = seg.lanes[lane_i]\n",
    "            \n",
    "            # Within a lane, loop over the curve points\n",
    "            num_curvepts = length(lane.curve)\n",
    "            for cpt_i in 1:num_curvepts\n",
    "                cpt = lane.curve[cpt_i]\n",
    "                \n",
    "                add_instruction!(rendermodel,render_circle,\n",
    "                    (cpt.pos.x,cpt.pos.y,overlay.size,overlay.color))\n",
    "            end\n",
    "        end\n",
    "    end\n",
    "    \n",
    "end"
   ]
  },
  {
   "cell_type": "code",
   "execution_count": null,
   "metadata": {
    "code_folding": [
     0
    ]
   },
   "outputs": [],
   "source": [
    "# function: get scene from trajdata\n",
    "\"\"\"\n",
    "    function get_scene(framenum::Int64,traj)\n",
    "\n",
    "Get a specific scene from trajdata\n",
    "\n",
    "# Example:\n",
    "```julia\n",
    "scene = get_scene(1,int_trajdata)\n",
    "```\n",
    "\"\"\"\n",
    "function get_scene(framenum::Int64,traj=traj_interaction)\n",
    "    scene = Scene(500)\n",
    "    get!(scene,traj,framenum)\n",
    "    return scene\n",
    "end"
   ]
  },
  {
   "cell_type": "code",
   "execution_count": null,
   "metadata": {
    "code_folding": [
     0
    ]
   },
   "outputs": [],
   "source": [
    "# function: replay traj_data video\n",
    "\"\"\"\n",
    "    function video_trajdata_replay(;range=nothing,filename=\"trajdata_$(range).mp4\")\n",
    "\n",
    "Makes a video of the trajdata without a roadway taking frame range as input\n",
    "\n",
    "# Example\n",
    "```julia\n",
    "video_trajdata_replay(range=1:100,traj=int_trajdata)\n",
    "```\n",
    "\"\"\"\n",
    "function video_trajdata_replay(id_list = [];range=nothing,traj=traj_interaction,\n",
    "        filename=\"media/interaction_vids/$(range).mp4\")\n",
    "\n",
    "    frames = Frames(MIME(\"image/png\"), fps=10)\n",
    "    scene = Scene(500)\n",
    "    for i in range\n",
    "        temp_scene = get_scene(i,traj)\n",
    "        if !isempty(id_list) keep_vehicle_subset!(temp_scene,id_list) end\n",
    "        \n",
    "        scene_visual = render(temp_scene, \n",
    "            #roadway_interaction,\n",
    "            #[IDOverlay(colorant\"white\",12),TextOverlay(text=[\"frame=$(i)\"],font_size=12)],\n",
    "            #cam=SceneFollowCamera(10.),\n",
    "            cam=FitToContentCamera(0.),\n",
    "            #canvas_width = 2250,\n",
    "        )\n",
    "        push!(frames,scene_visual)\n",
    "    end\n",
    "    write(filename,frames)\n",
    "    print(\"Making interaction replay video called $filename\")\n",
    "    \n",
    "    return nothing\n",
    "end"
   ]
  },
  {
   "cell_type": "code",
   "execution_count": null,
   "metadata": {},
   "outputs": [],
   "source": [
    "video_trajdata_replay(range=1:100,traj=int_trajdata,filename=\"media/interaction_vids/new_$(range).mp4\")"
   ]
  },
  {
   "cell_type": "code",
   "execution_count": null,
   "metadata": {
    "code_folding": [
     0
    ]
   },
   "outputs": [],
   "source": [
    "# function: make a video from a list of scenes\n",
    "\"\"\"\n",
    "    function scenelist2video(scene_list;filename = \"media/mobil/scene_to_video.mp4\")\n",
    "- Make video from a list of scenes\n",
    "\n",
    "# Examples\n",
    "```julia\n",
    "scene_list = get_hallucination_scenes(scene2,models=models,traj=int_trajdata,roadway=roadway2)\n",
    "scenelist2video(scene_list,roadway=roadway2,filename=\"media/interaction_vids/merge.mp4\")\n",
    "```\n",
    "\"\"\"\n",
    "function scenelist2video(scene_list;id_list=[],\n",
    "        filename = \"media/mobil/scene_to_video.mp4\",roadway=roadway_ngsim)\n",
    "    frames = Frames(MIME(\"image/png\"),fps = 10)\n",
    "    \n",
    "    # Loop over list of scenes and convert to video\n",
    "    for i in 1:length(scene_list)\n",
    "        if !isempty(id_list) keep_vehicle_subset!(scene_list[i],id_list) end\n",
    "        scene_visual = render(scene_list[i],roadway,\n",
    "        [IDOverlay(colorant\"white\",12)],\n",
    "        cam=FitToContentCamera(0.),\n",
    "        #cam = SceneFollowCamera(10.)\n",
    "        )\n",
    "        push!(frames,scene_visual)\n",
    "    end\n",
    "    print(\"Making video filename: $(filename)\\n\")\n",
    "    write(filename,frames)\n",
    "    return nothing\n",
    "end"
   ]
  },
  {
   "cell_type": "markdown",
   "metadata": {},
   "source": [
    "## Points of information eg: Base.read definition"
   ]
  },
  {
   "cell_type": "code",
   "execution_count": null,
   "metadata": {
    "code_folding": [
     0
    ]
   },
   "outputs": [],
   "source": [
    "# point of information: used to read trajdata information from text file\n",
    "# uses Base.read overload defined in Records.jl/src/listrecords.jl\n",
    "traj_ngsim = open(io->read(io, MIME\"text/plain\"(), Trajdata), \n",
    "    \"trajdata_i101_trajectories-0750am-0805am.txt\", \"r\");"
   ]
  },
  {
   "cell_type": "markdown",
   "metadata": {},
   "source": [
    "## Maxime roadway: Adapted from AutonomousMerging.jl"
   ]
  },
  {
   "cell_type": "code",
   "execution_count": null,
   "metadata": {},
   "outputs": [],
   "source": [
    "using Parameters"
   ]
  },
  {
   "cell_type": "code",
   "execution_count": null,
   "metadata": {
    "code_folding": []
   },
   "outputs": [],
   "source": [
    "# struct and functions: generation of merging roadway\n",
    "const MAIN_LANE_ID = 1\n",
    "const MERGE_LANE_ID = 2\n",
    "\n",
    "\"\"\"\n",
    "    MergingEnvironment\n",
    "A road network with a main lane and a merging lane. The geometry can be modified by \n",
    "passing the parameters as keyword arguments in the constructor\n",
    "# Parameters\n",
    "- `lane_width::Float64 = 3.0`\n",
    "- `main_lane_vmax::Float64 = 15.0`\n",
    "- `merge_lane_vmax::Float64 = 10.0`\n",
    "- `main_lane_length::Float64 = 100.0`\n",
    "- `main_lane_angle::Float64 = float(pi)/4`\n",
    "- `merge_lane_angle::Float64 = float(pi)/4`\n",
    "- `merge_lane_length::Float64 = 50.0`\n",
    "- `after_merge_length::Float64 = 50.0`\n",
    "# Internals \n",
    "- `roadway::Roadway{Float64}` contains all the road segment and lane information\n",
    "- `merge_point::VecSE2{Float64}` coordinate of the merge point in cartesian frame (0.0, 0.0, 0.0) by default\n",
    "- `merge_proj::RoadProjection{Int64, Float64}` projection of the merge point on the roadway \n",
    "- `merge_index::RoadIndex`\n",
    "\"\"\"\n",
    "@with_kw struct MergingEnvironment\n",
    "    lane_width::Float64 = 3.0\n",
    "    main_lane_vmax::Float64 = 15.0\n",
    "    merge_lane_vmax::Float64 = 10.0\n",
    "    main_lane_length::Float64 = 100.0\n",
    "    main_lane_angle::Float64 = float(pi)/4\n",
    "    merge_lane_angle::Float64 = float(pi)/4\n",
    "    merge_lane_length::Float64 = 50.0\n",
    "    after_merge_length::Float64 = 50.0\n",
    "\n",
    "    # internals\n",
    "    roadway::Roadway{Float64} = generate_merging_roadway(lane_width, \n",
    "                                                main_lane_vmax, \n",
    "                                                merge_lane_vmax, \n",
    "                                                main_lane_length,\n",
    "                                                merge_lane_length,\n",
    "                                                after_merge_length, \n",
    "                                                main_lane_angle, \n",
    "                                                merge_lane_angle) \n",
    "    merge_point::VecSE2{Float64} = VecSE2(0.0, 0.0, 0.0)\n",
    "    merge_proj::RoadProjection{Int64, Float64} = proj(merge_point, roadway)\n",
    "    merge_index::RoadIndex{Int64, Float64} = RoadIndex(merge_proj.curveproj.ind, merge_proj.tag)\n",
    "end\n",
    "\n",
    "\n",
    "function append_to_curve!(target::Curve{T}, newstuff::Curve{T}) where T <: Real\n",
    "    s_end = target[end].s\n",
    "    for c in newstuff\n",
    "        push!(target, CurvePt{T}(c.pos, c.s+s_end, c.k, c.kd))\n",
    "    end\n",
    "    return target\n",
    "end\n",
    "\n",
    "\"\"\"\n",
    "    generate_merging_roadway(lane_width::Float64 = 3.0, main_lane_vmax::Float64 = 20.0, \n",
    "merge_lane_vmax::Float64 = 15.0, main_lane_length::Float64 = 20.0, \n",
    "merge_lane_length::Float64 = 20.0, after_merge_length::Float64 = 20.0, \n",
    "main_lane_angle::Float64 = float(pi)/4, merge_lane_angle::Float64 = float(pi)/4)\n",
    "Generate a `Roadway` object representing a merging scenario. \n",
    "The merge point is defined at (0., 0.) by default.\n",
    "\"\"\"\n",
    "function generate_merging_roadway(lane_width::Float64 = 3.0, \n",
    "                                   main_lane_vmax::Float64 = 20.0,\n",
    "                                   merge_lane_vmax::Float64 = 15.0,\n",
    "                                   main_lane_length::Float64 = 20.0, \n",
    "                                   merge_lane_length::Float64 = 20.0,\n",
    "                                   after_merge_length::Float64 = 20.0,\n",
    "                                   main_lane_angle::Float64 = float(pi)/4, \n",
    "                                   merge_lane_angle::Float64 = float(pi)/4) \n",
    "    # init empty roadway \n",
    "    roadway = Roadway()\n",
    "    n_pts = 2 # sample points for the roadway, only two needed each time, since all segments are straight\n",
    "    main_tag = LaneTag(MAIN_LANE_ID, 1)\n",
    "    merge_tag = LaneTag(MERGE_LANE_ID, 1)\n",
    "    # after_merge_tag = LaneTag(AFTER_MERGE_LANE_ID, 1)\n",
    "\n",
    "    # define curves\n",
    "    merge_point = VecE2(0.0, 0.0) \n",
    "    main_lane_startpt = merge_point + polar(main_lane_length, -float(pi) - main_lane_angle)\n",
    "    main_curve = gen_straight_curve(main_lane_startpt, merge_point, n_pts)\n",
    "    merge_index = curveindex_end(main_curve)\n",
    "    append_to_curve!(main_curve, \n",
    "        gen_straight_curve(merge_point, merge_point + polar(after_merge_length, 0.0), n_pts)[2:end])\n",
    "    merge_lane_startpt = merge_point + polar(merge_lane_length, float(pi) + merge_lane_angle)\n",
    "    merge_curve = gen_straight_curve(merge_lane_startpt, merge_point, n_pts)\n",
    "\n",
    "\n",
    "    # define lanes with connections \n",
    "    main_lane = Lane(main_tag, main_curve, width = lane_width, speed_limit=SpeedLimit(0.,main_lane_vmax))\n",
    "    merge_lane = Lane(merge_tag, merge_curve, width = lane_width,speed_limit=SpeedLimit(0.,merge_lane_vmax),\n",
    "                        next=RoadIndex(merge_index, main_tag))\n",
    "\n",
    "    # add segments to roadway \n",
    "    push!(roadway.segments, RoadSegment(MAIN_LANE_ID, [main_lane]))\n",
    "    push!(roadway.segments, RoadSegment(MERGE_LANE_ID, [merge_lane]))\n",
    "  \n",
    "    return roadway\n",
    "end"
   ]
  },
  {
   "cell_type": "code",
   "execution_count": null,
   "metadata": {},
   "outputs": [],
   "source": [
    "polar(20,-float(pi))"
   ]
  },
  {
   "cell_type": "code",
   "execution_count": null,
   "metadata": {},
   "outputs": [],
   "source": [
    "polar(20,float(pi)+float(pi)/4)"
   ]
  },
  {
   "cell_type": "code",
   "execution_count": null,
   "metadata": {},
   "outputs": [],
   "source": [
    "scene = Scene()\n",
    "state1 = VehicleState(Frenet(roadway[LaneTag(1,1)],3.0), roadway, 10.0)\n",
    "veh1 = Vehicle(state1, VehicleDef(), 1)\n",
    "\n",
    "push!(scene, veh1)"
   ]
  },
  {
   "cell_type": "code",
   "execution_count": null,
   "metadata": {},
   "outputs": [],
   "source": [
    "cpt_o = curvepts_overlay(roadway,colorant\"0xFFEF00\",0.3)\n",
    "render(scene,roadway,[cpt_o],cam=FitToContentCamera(0.2))"
   ]
  },
  {
   "cell_type": "code",
   "execution_count": null,
   "metadata": {
    "code_folding": [
     0
    ]
   },
   "outputs": [],
   "source": [
    "# models creation: 2d driver model for the merging roadway\n",
    "models = Dict{Int64,DriverModel}()\n",
    "for veh in scene2\n",
    "    models[veh.id] = Tim2DDriver(0.1,mlane=MOBIL(INTERACTION_TIMESTEP,mlon=IntelligentDriverModel()))\n",
    "end"
   ]
  },
  {
   "cell_type": "code",
   "execution_count": null,
   "metadata": {
    "code_folding": []
   },
   "outputs": [],
   "source": [
    "# roadway creation: make a merging roadway\n",
    "roadway2 = generate_merging_roadway(3.,20.,15.,40.,40.,40.,0.,-float(0.1));\n",
    "cpt_o = curvepts_overlay(roadway2,colorant\"0xFFEF00\",0.3)\n",
    "scene2 = Scene()\n",
    "state2 = VehicleState(Frenet(roadway2[LaneTag(1,1)],13.0), roadway2, 10.0)\n",
    "veh1 = Vehicle(state2, VehicleDef(), 1)\n",
    "\n",
    "state3 = VehicleState(Frenet(roadway2[LaneTag(2,1)],5.0),roadway2,10.0)\n",
    "veh2 = Vehicle(state3,VehicleDef(),2)\n",
    "push!(scene2, veh1)\n",
    "push!(scene2,veh2)\n",
    "render(scene2,roadway2,[cpt_o],cam=FitToContentCamera(0.2))"
   ]
  },
  {
   "cell_type": "code",
   "execution_count": null,
   "metadata": {
    "code_folding": [
     0
    ]
   },
   "outputs": [],
   "source": [
    "# function: get hallucination scenes\n",
    "\"\"\"\n",
    "    function get_hallucination_scenes\n",
    "- Hallucinate starting from `start_step` for `nsteps` using `models` and return a list of scenes\n",
    "- Used by `plot_carwise_pos_vel` to assess position and velocity traces against ground truth\n",
    "\n",
    "# Returns\n",
    "- `halluc_scenes_list`: List containing the scenes starting with the ground truth scene at `start_step`\n",
    "\n",
    "# Examples\n",
    "```julia\n",
    "scene_list = get_hallucination_scenes(start_scene,nsteps=100,models=models);\n",
    "```\n",
    "\"\"\"\n",
    "function get_hallucination_scenes(scene_halluc;models,start_step=1,duration=3,id_list=[],\n",
    "        traj=traj_interaction,verbosity = false,timestep=INTERACTION_TIMESTEP,roadway=roadway_interaction)\n",
    "        # Setting up\n",
    "    halluc_scenes_list = []\n",
    "    #scene_halluc = get_scene(start_step,traj) # Frame to start hallucination from\n",
    "    push!(halluc_scenes_list,deepcopy(scene_halluc))\n",
    "    \n",
    "    nsteps = duration/timestep\n",
    "    for (i,t) in enumerate(start_step:start_step+nsteps-1)\n",
    "        \n",
    "        if !isempty(id_list) keep_vehicle_subset!(scene_halluc,id_list) end\n",
    "        \n",
    "        actions = Array{Any}(undef,length(scene_halluc))\n",
    "\n",
    "            # Propagation of scene forward\n",
    "        get_actions!(actions,scene_halluc,roadway,models)\n",
    "\n",
    "        tick!(scene_halluc,roadway,actions,timestep)\n",
    "        \n",
    "        push!(halluc_scenes_list,deepcopy(scene_halluc))\n",
    "    end \n",
    "    return halluc_scenes_list\n",
    "end"
   ]
  },
  {
   "cell_type": "code",
   "execution_count": null,
   "metadata": {},
   "outputs": [],
   "source": [
    "scene_list = get_hallucination_scenes(scene2,models=models,traj=int_trajdata,roadway=roadway2)"
   ]
  },
  {
   "cell_type": "code",
   "execution_count": null,
   "metadata": {},
   "outputs": [],
   "source": [
    "scenelist2video(scene_list,roadway=roadway2,filename=\"media/interaction_vids/merge.mp4\")"
   ]
  },
  {
   "cell_type": "markdown",
   "metadata": {},
   "source": [
    "## WB roadway"
   ]
  },
  {
   "cell_type": "code",
   "execution_count": null,
   "metadata": {
    "code_folding": [
     1
    ]
   },
   "outputs": [],
   "source": [
    "# WBs example code for roadway generation: function and then script\n",
    "function get_track_wb()\n",
    "\n",
    "    x_coods = [0., 20.]\n",
    "    y_coods = [3., 3.]\n",
    "    theta = [0., 0.]\n",
    "    \n",
    "    turn_length = 10\n",
    "    new_theta = 0.\n",
    "    incremental_angle = (pi/4) / turn_length\n",
    "    radius = 1\n",
    "    for i = 1:turn_length\n",
    "        push!(theta, new_theta)\n",
    "        push!(x_coods, x_coods[end] + radius * cos(new_theta))\n",
    "        push!(y_coods, y_coods[end] + radius * sin(new_theta))\n",
    "        new_theta -= (incremental_angle)\n",
    "    end\n",
    "\n",
    "    # x coods in first row, y coods in second row, theta in third row\n",
    "    mid_coods = vcat(x_coods', y_coods', theta') \n",
    "    \n",
    "    \n",
    "    first_cood = VecSE2(mid_coods[1,1], mid_coods[2,1], mid_coods[3,1])\n",
    "    second_cood = VecSE2(mid_coods[1,2], mid_coods[2,2], mid_coods[3,2])\n",
    "    radius = 0.01\n",
    "    nsamples = 20\n",
    "\n",
    "    track = gen_bezier_curve(first_cood, second_cood, radius, radius, nsamples)\n",
    "    \n",
    "    curve_radius = incremental_angle\n",
    "    nsamples = 1000\n",
    "    for i = 3:turn_length+2\n",
    "        turn1 = VecSE2(mid_coods[1, i-1], mid_coods[2, i-1], mid_coods[3, i-1])\n",
    "        turn2 = VecSE2(mid_coods[1, i], mid_coods[2, i], mid_coods[3, i])\n",
    "        curve = gen_bezier_curve(turn1, turn2, curve_radius, curve_radius, nsamples)\n",
    "        append_to_curve!(track, curve)\n",
    "    end\n",
    "\n",
    "    return track\n",
    "end\n",
    "\n",
    "# script: generate WB's roadway\n",
    "nlanes = 1\n",
    "\n",
    "\n",
    "roadway_wb = gen_straight_roadway(nlanes, 50.)\n",
    "\n",
    "#width = DEFAULT_LANE_WIDTH\n",
    "#roadway = Roadway()\n",
    "\n",
    "track_wb = get_track_wb()\n",
    "\n",
    "lane = Lane(LaneTag(2, 1), track_wb, width=DEFAULT_LANE_WIDTH)\n",
    "push!(roadway_wb.segments, RoadSegment(2, [lane]))\n",
    "cam = FitToContentCamera(0.05)\n",
    "render(roadway_wb, cam=cam)"
   ]
  },
  {
   "cell_type": "code",
   "execution_count": null,
   "metadata": {},
   "outputs": [],
   "source": [
    "cpt_o_wb = curvepts_overlay(roadway_wb,colorant\"0xFFEF00\",0.3)\n",
    "scene_wb = Scene()\n",
    "state_wb = VehicleState(Frenet(roadway_wb[LaneTag(1,1)],13.0), roadway_wb, 10.0)\n",
    "veh1 = Vehicle(state_wb, VehicleDef(), 1)\n",
    "l2 = roadway_wb.segments[2].lanes[1]\n",
    "state_wb2 = VehicleState(Frenet(roadway_wb[LaneTag(2,1)],5.0),roadway_wb,10.0)\n",
    "@show \"here2\"\n",
    "veh2 = Vehicle(state_wb2,VehicleDef(),2)\n",
    "push!(scene_wb, veh1)\n",
    "push!(scene_wb,veh2)\n",
    "render(scene_wb,roadway_wb,[cpt_o_wb],cam=FitToContentCamera(0.2))"
   ]
  },
  {
   "cell_type": "code",
   "execution_count": null,
   "metadata": {},
   "outputs": [],
   "source": [
    "scene_list_wb = get_hallucination_scenes(scene_wb,duration=5,models=models,traj=int_trajdata,roadway=roadway_wb)\n",
    "scenelist2video(scene_list_wb,roadway=roadway_wb,filename=\"media/interaction_vids/merge_wb.mp4\")"
   ]
  },
  {
   "cell_type": "markdown",
   "metadata": {},
   "source": [
    "## centerlines_DR_Merging_CHN_ZS a.k.a Soyeon roadways"
   ]
  },
  {
   "cell_type": "code",
   "execution_count": 8,
   "metadata": {},
   "outputs": [],
   "source": [
    "using DelimitedFiles"
   ]
  },
  {
   "cell_type": "code",
   "execution_count": 24,
   "metadata": {
    "code_folding": [
     0
    ]
   },
   "outputs": [
    {
     "data": {
      "text/plain": [
       "centerlines_txt2coords"
      ]
     },
     "execution_count": 24,
     "metadata": {},
     "output_type": "execute_result"
    }
   ],
   "source": [
    "#function: centerlines_txt2coords\n",
    "\"\"\"\n",
    "    function centerlines_txt2coords(filename)\n",
    "\n",
    "- Input: text file with centerline coordinates with x in row 1 and y in row2\n",
    "- Output: An array with x in col1 and y in col2. This is used by `coords2track`\n",
    "- Requires: `using DelimitedFiles`\n",
    "# Example\n",
    "```julia\n",
    "test_coods = centerlines_txt2coords(\"centerlines_DR_CHN_Merging_ZS/output_centerline_0.txt\")\n",
    "```\n",
    "\"\"\"\n",
    "function centerlines_txt2coords(filename)\n",
    "    centerlines = readdlm(filename,',')\n",
    "    x0 = centerlines_0[1,:]\n",
    "    y0 = centerlines_0[2,:]\n",
    "    coods = hcat(x0,y0)\n",
    "    return coods\n",
    "end"
   ]
  },
  {
   "cell_type": "code",
   "execution_count": 27,
   "metadata": {
    "code_folding": [
     0
    ]
   },
   "outputs": [
    {
     "data": {
      "text/plain": [
       "coords2track"
      ]
     },
     "execution_count": 27,
     "metadata": {},
     "output_type": "execute_result"
    }
   ],
   "source": [
    "# function: coords2track\n",
    "\"\"\"\n",
    "    function coords2track()\n",
    "\n",
    "- Input: Centerline provided as 2 column array `coods` with x in col1 and y in col2\n",
    "- Extracts angles as an intermediate step\n",
    "- Output: track that can then be used to create a lane\n",
    "\"\"\"\n",
    "function coords2track(coods)\n",
    "    coods_app = append_headings(coods) # Append with the angle\n",
    "    \n",
    "    mid_coods = coods_app'\n",
    "    \n",
    "    first_cood = VecSE2(mid_coods[1,1], mid_coods[2,1], mid_coods[3,1])\n",
    "    second_cood = VecSE2(mid_coods[1,2], mid_coods[2,2], mid_coods[3,2])\n",
    "    radius = 0.01\n",
    "    nsamples = 20\n",
    "\n",
    "    track = gen_bezier_curve(first_cood, second_cood, radius, radius, nsamples)\n",
    "    \n",
    "    nsamples = 20\n",
    "    for i = 3:size(coods,1)\n",
    "        turn1 = VecSE2(mid_coods[1, i-1], mid_coods[2, i-1], mid_coods[3, i-1])\n",
    "        turn2 = VecSE2(mid_coods[1, i], mid_coods[2, i], mid_coods[3, i])\n",
    "        curve = gen_bezier_curve(turn1, turn2, radius, radius, nsamples)\n",
    "        append_to_curve!(track, curve)\n",
    "    end\n",
    "\n",
    "    return track\n",
    "end"
   ]
  },
  {
   "cell_type": "code",
   "execution_count": 34,
   "metadata": {},
   "outputs": [],
   "source": [
    "track0 = coords2track(centerlines_txt2coords(\"centerlines_DR_CHN_Merging_ZS/output_centerline_0.txt\"));\n",
    "track1 = coords2track(centerlines_txt2coords(\"centerlines_DR_CHN_Merging_ZS/output_centerline_1.txt\"))\n",
    "track2 = coords2track(centerlines_txt2coords(\"centerlines_DR_CHN_Merging_ZS/output_centerline_2.txt\"))\n",
    "track3 = coords2track(centerlines_txt2coords(\"centerlines_DR_CHN_Merging_ZS/output_centerline_3.txt\"))\n",
    "track4 = coords2track(centerlines_txt2coords(\"centerlines_DR_CHN_Merging_ZS/output_centerline_4.txt\"))\n",
    "track5 = coords2track(centerlines_txt2coords(\"centerlines_DR_CHN_Merging_ZS/output_centerline_5.txt\"))\n",
    "track6 = coords2track(centerlines_txt2coords(\"centerlines_DR_CHN_Merging_ZS/output_centerline_6.txt\"));"
   ]
  },
  {
   "cell_type": "code",
   "execution_count": 37,
   "metadata": {},
   "outputs": [
    {
     "ename": "UndefVarError",
     "evalue": "UndefVarError: FitToContentCamera not defined",
     "output_type": "error",
     "traceback": [
      "UndefVarError: FitToContentCamera not defined",
      "",
      "Stacktrace:",
      " [1] top-level scope at In[37]:16"
     ]
    }
   ],
   "source": [
    "roadway = Roadway()\n",
    "lane0 = Lane(LaneTag(1,1),track0)\n",
    "lane1 = Lane(LaneTag(1,2),track1)\n",
    "lane2 = Lane(LaneTag(1,3),track2)\n",
    "lane3 = Lane(LaneTag(1,4),track3)\n",
    "lane4 = Lane(LaneTag(1,5),track4)\n",
    "lane5 = Lane(LaneTag(1,6),track5)\n",
    "lane6 = Lane(LaneTag(1,7),track6)\n",
    "push!(roadway.segments, RoadSegment(1, [lane0]))\n",
    "push!(roadway.segments, RoadSegment(1, [lane1]))\n",
    "push!(roadway.segments, RoadSegment(1, [lane2]))\n",
    "push!(roadway.segments, RoadSegment(1, [lane3]))\n",
    "push!(roadway.segments, RoadSegment(1, [lane4]))\n",
    "push!(roadway.segments, RoadSegment(1, [lane5]))\n",
    "push!(roadway.segments, RoadSegment(1, [lane6]))\n",
    "\n",
    "render(roadway_wb, cam=FitToContentCamera(0.))"
   ]
  },
  {
   "cell_type": "code",
   "execution_count": null,
   "metadata": {},
   "outputs": [],
   "source": []
  }
 ],
 "metadata": {
  "@webio": {
   "lastCommId": null,
   "lastKernelId": null
  },
  "kernelspec": {
   "display_name": "Julia 1.1.0",
   "language": "julia",
   "name": "julia-1.1"
  },
  "language_info": {
   "file_extension": ".jl",
   "mimetype": "application/julia",
   "name": "julia",
   "version": "1.1.0"
  }
 },
 "nbformat": 4,
 "nbformat_minor": 2
}
