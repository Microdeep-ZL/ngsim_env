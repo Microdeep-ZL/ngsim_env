{
 "cells": [
  {
   "cell_type": "markdown",
   "metadata": {},
   "source": [
    "Notebook to do curved roadway generation\n",
    "\n",
    "## Changelog\n",
    "- Friday, Jan 31\n",
    "    - Creation\n",
    "    - Toy track generation using way if 10025 from `DR_CHN_Merging_ZS.osm`\n",
    "- Monday, Feb 3\n",
    "    - Begin trajdata creation to read in the vehicle tracks"
   ]
  },
  {
   "cell_type": "code",
   "execution_count": 56,
   "metadata": {
    "code_folding": [
     0
    ]
   },
   "outputs": [],
   "source": [
    "# usings\n",
    "using AutomotiveDrivingModels\n",
    "using AutoViz"
   ]
  },
  {
   "cell_type": "code",
   "execution_count": null,
   "metadata": {
    "code_folding": [
     0
    ]
   },
   "outputs": [],
   "source": [
    "# function: append to curve\n",
    "function append_to_curve!(target::Curve, newstuff::Curve)\n",
    "    s_end = target[end].s\n",
    "    for c in newstuff\n",
    "        push!(target, CurvePt(c.pos, c.s+s_end, c.k, c.kd))\n",
    "    end\n",
    "    return target\n",
    "end"
   ]
  },
  {
   "cell_type": "code",
   "execution_count": null,
   "metadata": {
    "code_folding": [
     0,
     13,
     32,
     62
    ]
   },
   "outputs": [],
   "source": [
    "# functions: angle calculation\n",
    "\"\"\"\n",
    "    function append_headings\n",
    "- Used create the angles and append them into the coordinates\n",
    "\n",
    "# Examples\n",
    "```julia\n",
    "x_coods = [1089.07510, 1093.82626, 1101.19325, 1112.59899, 1123.96733, 1133.24150, 1146.47964]\n",
    "y_coods = [936.31213, 936.92692,938.52419, 940.93865, 943.27882, 945.21039, 947.88488]\n",
    "coods = hcat(x_coods,y_coods)\n",
    "append_headings(coods)\n",
    "```\n",
    "\"\"\"\n",
    "function append_headings(coordinates::Matrix{Float64})\n",
    "    headings = ones(size(coordinates)[1])\n",
    "    for i = 1:size(coordinates)[1]-1\n",
    "        # need to make sure that math is right, and that bounds are kept\n",
    "        tangent_vector = [coordinates[i+1,1]-coordinates[i,1], coordinates[i+1,2]-coordinates[i,2]]\n",
    "        # @show tangent_vector\n",
    "        current_heading = get_new_angle(tangent_vector)\n",
    "        # @show current_heading\n",
    "        headings[i] = current_heading\n",
    "    end\n",
    "    headings[end] = headings[end-1] # assume this is fine\n",
    "    coordinates = hcat(coordinates, headings)\n",
    "    return coordinates\n",
    "end\n",
    "\n",
    "\"\"\"\n",
    "    function get_new_angle\n",
    "- Does the actual angle calculation based on the x y coordinates\n",
    "\"\"\"\n",
    "function get_new_angle(tangent_vector::Array{Float64})\n",
    "    # it might be a problem when we switch quadrants\n",
    "    # use signs of tangent vector to get the quadrant of the heading \n",
    "    x = tangent_vector[1]\n",
    "    y = tangent_vector[2]\n",
    "    if x == 0. && y == 0.\n",
    "        heading = 0.0\n",
    "    elseif x == 0.\n",
    "        heading = π/2 * sign(y) \n",
    "    elseif y == 0.\n",
    "        heading = convert(Float64, π) # this could be either pi or -pi, but just go with pi\n",
    "    elseif sign(x) == 1 && sign(y) == 1 # first quadrant\n",
    "        heading = atan(y, x)\n",
    "    elseif sign(x) == -1 && sign(y) == 1 # second quadrant\n",
    "        heading = atan(y, x)\n",
    "    elseif sign(x) == 1 && sign(y) == -1 # fourth quadrant\n",
    "        heading = atan(y, x)\n",
    "    elseif sign(x) == -1 && sign(y) == -1 # third quadrant\n",
    "        heading = atan(y, x)\n",
    "    end\n",
    "    # bound_heading doesn't end up getting called cause Julia takes care of it apparently\n",
    "    bound_heading(heading)\n",
    "\n",
    "    return heading\n",
    "end\n",
    "\n",
    "\"\"\"\n",
    "    function bound_heading\n",
    "- Make the angle range from 0 to pi instead of going beyond\n",
    "\"\"\"\n",
    "function bound_heading(heading::Float64)\n",
    "    if heading > π # send this to be just near -pi\n",
    "        heading = -π + (heading - π)    # if heading is 3.15, then the new angle will be (-pi + (3.15-pi)) = -3.13\n",
    "    elseif heading < -π # send this to be just near pi \n",
    "        heading = π + (heading + π)     # if heading is -3.15, then the new angle will be (pi + (-3.15+pi)) = 3.13\n",
    "    end\n",
    "    return heading\n",
    "end"
   ]
  },
  {
   "cell_type": "code",
   "execution_count": null,
   "metadata": {
    "code_folding": [
     0
    ]
   },
   "outputs": [],
   "source": [
    "# WBs example code\n",
    "\"\"\"\n",
    "- WBs example code\n",
    "\"\"\"\n",
    "function get_track()\n",
    "\n",
    "    x_coods = [0., 5.]\n",
    "    y_coods = [3., 3.]\n",
    "    theta = [0., 0.]\n",
    "    \n",
    "    turn_length = 10\n",
    "    new_theta = 0.\n",
    "    incremental_angle = (pi/4) / turn_length\n",
    "    radius = 1\n",
    "    for i = 1:turn_length\n",
    "        push!(theta, new_theta)\n",
    "        push!(x_coods, x_coods[end] + radius * cos(new_theta))\n",
    "        push!(y_coods, y_coods[end] + radius * sin(new_theta))\n",
    "        new_theta -= (incremental_angle)\n",
    "    end\n",
    "#     plot(x_coods, y_coods)\n",
    "    mid_coods = vcat(x_coods', y_coods', theta') # x coods in first row, y coods in second row, theta in third row\n",
    "    \n",
    "    \n",
    "    first_cood = VecSE2(mid_coods[1,1], mid_coods[2,1], mid_coods[3,1])\n",
    "    second_cood = VecSE2(mid_coods[1,2], mid_coods[2,2], mid_coods[3,2])\n",
    "    radius = 0.01\n",
    "    nsamples = 20\n",
    "\n",
    "    track = gen_bezier_curve(first_cood, second_cood, radius, radius, nsamples)\n",
    "    \n",
    "    curve_radius = incremental_angle\n",
    "    nsamples = 1000\n",
    "    for i = 3:turn_length+2\n",
    "        turn1 = VecSE2(mid_coods[1, i-1], mid_coods[2, i-1], mid_coods[3, i-1])\n",
    "        turn2 = VecSE2(mid_coods[1, i], mid_coods[2, i], mid_coods[3, i])\n",
    "        curve = gen_bezier_curve(turn1, turn2, curve_radius, curve_radius, nsamples)\n",
    "        append_to_curve!(track, curve)\n",
    "    end\n",
    "\n",
    "    return track\n",
    "end"
   ]
  },
  {
   "cell_type": "code",
   "execution_count": null,
   "metadata": {
    "code_folding": [
     0
    ]
   },
   "outputs": [],
   "source": [
    "# function: get_track\n",
    "\"\"\"\n",
    "    function get_track()\n",
    "\n",
    "- Generate a track based on x and y coordinates of the centerline\n",
    "- Extracts angles as an intermediate step\n",
    "\"\"\"\n",
    "function get_track()\n",
    "    # way 10025 for illustrate purposes\n",
    "    x_coods = [1089.07510, 1093.82626, 1101.19325, 1112.59899, 1123.96733, 1133.24150, 1146.47964]\n",
    "    y_coods = [936.31213, 936.92692,938.52419, 940.93865, 943.27882, 945.21039, 947.88488]\n",
    "\n",
    "    coods = hcat(x_coods,y_coods)\n",
    "    coods_app = append_headings(coods) # Append with the angle\n",
    "    \n",
    "    mid_coods = coods_app'\n",
    "    \n",
    "    first_cood = VecSE2(mid_coods[1,1], mid_coods[2,1], mid_coods[3,1])\n",
    "    second_cood = VecSE2(mid_coods[1,2], mid_coods[2,2], mid_coods[3,2])\n",
    "    radius = 0.01\n",
    "    nsamples = 20\n",
    "\n",
    "    track = gen_bezier_curve(first_cood, second_cood, radius, radius, nsamples)\n",
    "    \n",
    "    nsamples = 20\n",
    "    for i = 3:7\n",
    "        turn1 = VecSE2(mid_coods[1, i-1], mid_coods[2, i-1], mid_coods[3, i-1])\n",
    "        turn2 = VecSE2(mid_coods[1, i], mid_coods[2, i], mid_coods[3, i])\n",
    "        curve = gen_bezier_curve(turn1, turn2, radius, radius, nsamples)\n",
    "        append_to_curve!(track, curve)\n",
    "    end\n",
    "\n",
    "    return track\n",
    "end"
   ]
  },
  {
   "cell_type": "code",
   "execution_count": null,
   "metadata": {
    "code_folding": [
     0
    ]
   },
   "outputs": [],
   "source": [
    "# script: generate the roadway\n",
    "\n",
    "#nlanes = 1\n",
    "#length = 50.\n",
    "\n",
    "#roadway = gen_straight_roadway(nlanes, length)\n",
    "\n",
    "width = DEFAULT_LANE_WIDTH\n",
    "roadway = Roadway()\n",
    "\n",
    "track = get_track()\n",
    "\n",
    "lane = Lane(LaneTag(1, 2), track, width=DEFAULT_LANE_WIDTH)\n",
    "push!(roadway.segments, RoadSegment(lane.tag.segment, [lane]))\n",
    "cam = FitToContentCamera(0.05)\n",
    "render(roadway, cam=cam)"
   ]
  },
  {
   "cell_type": "code",
   "execution_count": null,
   "metadata": {},
   "outputs": [],
   "source": [
    "@show roadway.segments[1].lanes"
   ]
  },
  {
   "cell_type": "markdown",
   "metadata": {},
   "source": [
    "## Interaction track experimentation"
   ]
  },
  {
   "cell_type": "code",
   "execution_count": null,
   "metadata": {
    "code_folding": [
     0
    ]
   },
   "outputs": [],
   "source": [
    "# usings: Specific to trajdata\n",
    "using DataFrames\n",
    "using Records"
   ]
  },
  {
   "cell_type": "code",
   "execution_count": 81,
   "metadata": {
    "code_folding": [
     0
    ]
   },
   "outputs": [
    {
     "data": {
      "text/plain": [
       "0.1"
      ]
     },
     "execution_count": 81,
     "metadata": {},
     "output_type": "execute_result"
    }
   ],
   "source": [
    "# constants: timestep\n",
    "const INTERACTION_TIMESTEP = 0.1 # unit is second"
   ]
  },
  {
   "cell_type": "code",
   "execution_count": 37,
   "metadata": {
    "code_folding": [
     0
    ]
   },
   "outputs": [
    {
     "data": {
      "text/plain": [
       "INTERACTIONTrajdata"
      ]
     },
     "execution_count": 37,
     "metadata": {},
     "output_type": "execute_result"
    }
   ],
   "source": [
    "# struct: the interaction trajdata\n",
    "\"\"\"\n",
    "INTERACTIONTrajdata\n",
    "The trajectory data stored in the original INTERACTION dataset format.\n",
    "The dataset is a csv file with columns:\n",
    "    track_id      - Int64 - Representing the id of the agent\n",
    "    frame_id      - Int64 - Represents the frames in which the agent appears in the video\n",
    "    timestamp_ms  - Int64 - represents the time the agent appears in the video. The unit is millisecond\n",
    "    agent_type    - String - Can be person, car, truck and so on\n",
    "    x             - Float64 - x position, in meter\n",
    "    y             - Float64 - y position in meter\n",
    "    vx            - Float64 - x velocity in m/s\n",
    "    vy            - Float64 - y velocity in m/s\n",
    "    psi_rad       - Float64 - yaw angle in radian\n",
    "    length        - Float64 - Length of the vehicle, in meter\n",
    "    width         - Float64 - Width of the vehicle, in meter\n",
    "\n",
    "# Example\n",
    "```julia\n",
    "tdraw = INTERACTIONTrajdata(\"vehicle_tracks_000.csv\");\n",
    "```\n",
    "\"\"\"\n",
    "mutable struct INTERACTIONTrajdata\n",
    "    df         :: DataFrame\n",
    "    car2start  :: Dict{Int, Int}         # maps carindex to starting index in the df\n",
    "    frame2cars :: Dict{Int, Vector{Int}} # maps frame to list of carids in the scene\n",
    "\n",
    "    function INTERACTIONTrajdata(input_path::String)\n",
    "\n",
    "        @assert(isfile(input_path))\n",
    "\n",
    "        df = readtable(input_path, separator=',', header = true)\n",
    "\n",
    "        car2start = Dict{Int, Int}()\n",
    "        frame2cars = Dict{Int, Vector{Int}}()\n",
    "\n",
    "        for (dfind, carid) in enumerate(df[:track_id])\n",
    "            if !haskey(car2start, carid)\n",
    "                car2start[carid] = dfind\n",
    "            end\n",
    "\n",
    "            frame = convert(Int, df[dfind, :frame_id])\n",
    "            if !haskey(frame2cars, frame)\n",
    "                frame2cars[frame] = [carid]\n",
    "            else\n",
    "                frame2cars[frame] = push!(frame2cars[frame], carid)\n",
    "            end\n",
    "        end\n",
    "\n",
    "        new(df, car2start, frame2cars)\n",
    "    end\n",
    "end"
   ]
  },
  {
   "cell_type": "code",
   "execution_count": 47,
   "metadata": {
    "code_folding": [
     0
    ]
   },
   "outputs": [],
   "source": [
    "# function: overload nframes from Records\n",
    "\"\"\"\n",
    "    Records.nframes\n",
    "\n",
    "# Example\n",
    "```julia\n",
    "tdraw = INTERACTIONTrajdata(\"vehicle_tracks_000.csv\")\n",
    "nframes(tdraw)\n",
    "```\n",
    "\"\"\"\n",
    "Records.nframes(trajdata::INTERACTIONTrajdata) = maximum(keys(trajdata.frame2cars))"
   ]
  },
  {
   "cell_type": "code",
   "execution_count": 39,
   "metadata": {},
   "outputs": [],
   "source": [
    "tdraw = INTERACTIONTrajdata(\"vehicle_tracks_000.csv\");"
   ]
  },
  {
   "cell_type": "code",
   "execution_count": 79,
   "metadata": {},
   "outputs": [],
   "source": [
    "df = tdraw.df\n",
    "vehdefs = Dict{Int, VehicleDef}()\n",
    "states = Array{RecordState{VehicleState, Int}}(undef, nrow(df))\n",
    "frames = Array{RecordFrame}(undef, nframes(tdraw));"
   ]
  },
  {
   "cell_type": "code",
   "execution_count": 80,
   "metadata": {},
   "outputs": [],
   "source": [
    "# script: initialize the vehicle definition in terms of type, length and width\n",
    "for (id, dfind) in tdraw.car2start\n",
    "    # CAUTION: Hardcoding vehicle type to be just car shown by the first argument being 2\n",
    "    vehdefs[id] = VehicleDef(2, df[dfind, :length], df[dfind, :width])\n",
    "    #if df[dfind,:agent_type] == \"car\"\n",
    "    #    print(\"dfind is $(dfind)\")\n",
    "    #    print(df[dfind,:agent_type])\n",
    "    #end\n",
    "end"
   ]
  },
  {
   "cell_type": "code",
   "execution_count": null,
   "metadata": {},
   "outputs": [],
   "source": [
    "# script: loop over data and create the vehicle state sequence. NOTE: THIS NEEDS THE ROADWAY\n",
    "state_ind = 0\n",
    "for frame in 1 : nframes(tdraw)\n",
    "\n",
    "    frame_lo = state_ind+1\n",
    "\n",
    "    for id in carsinframe(tdraw, frame)\n",
    "        dfind = car_df_index(tdraw, id, frame)\n",
    "\n",
    "        posG = VecSE2(df[dfind, :x], df[dfind, :y], df[dfind, :psi_rad])\n",
    "        speed = df[dfind, :speed]\n",
    "\n",
    "        states[state_ind += 1] = RecordState(VehicleState(posG, roadway, speed), id)\n",
    "    end\n",
    "\n",
    "    frame_hi = state_ind\n",
    "    frames[frame] = RecordFrame(frame_lo, frame_hi)\n",
    "end\n",
    "Trajdata(INTERACTION_TIMESTEP, frames, states, vehdefs)"
   ]
  }
 ],
 "metadata": {
  "@webio": {
   "lastCommId": null,
   "lastKernelId": null
  },
  "kernelspec": {
   "display_name": "Julia 1.1.0",
   "language": "julia",
   "name": "julia-1.1"
  },
  "language_info": {
   "file_extension": ".jl",
   "mimetype": "application/julia",
   "name": "julia",
   "version": "1.1.0"
  }
 },
 "nbformat": 4,
 "nbformat_minor": 2
}
