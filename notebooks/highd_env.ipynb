{
 "cells": [
  {
   "cell_type": "markdown",
   "metadata": {},
   "source": [
    "- Try out nsgim_env_videomaker stuff for highd\n",
    "- This will lay down the foundation for a highd environment"
   ]
  },
  {
   "cell_type": "code",
   "execution_count": 1,
   "metadata": {},
   "outputs": [],
   "source": [
    "using AutomotiveDrivingModels\n",
    "using AutoRisk\n",
    "using AutoViz"
   ]
  },
  {
   "cell_type": "code",
   "execution_count": 2,
   "metadata": {},
   "outputs": [],
   "source": [
    "# The trajectories i.e. positions of the cars with timestep\n",
    "traj_highd = open(io->read(io, MIME\"text/plain\"(), Trajdata), \n",
    "    \"trajdata_Data11_Road1_nLIOD3_lower.txt\", \"r\");\n",
    "# The highd roadway geometry\n",
    "roadway_highd = open(io->read(io, MIME\"text/plain\"(), Roadway), \n",
    "    \"highd_roadway.txt\", \"r\");"
   ]
  },
  {
   "cell_type": "code",
   "execution_count": 3,
   "metadata": {},
   "outputs": [
    {
     "data": {
      "text/plain": [
       "build_feature_extractor (generic function with 2 methods)"
      ]
     },
     "execution_count": 3,
     "metadata": {},
     "output_type": "execute_result"
    }
   ],
   "source": [
    "function build_feature_extractor(params = Dict())\n",
    "    subexts::Vector{AbstractFeatureExtractor} = []\n",
    "    push!(subexts, CoreFeatureExtractor())\n",
    "    push!(subexts, TemporalFeatureExtractor())\n",
    "    push!(subexts, WellBehavedFeatureExtractor())\n",
    "    push!(subexts, CarLidarFeatureExtractor(20, carlidar_max_range = 50.))\n",
    "    push!(subexts, ForeForeFeatureExtractor())\n",
    "    ext = MultiFeatureExtractor(subexts)\n",
    "    return ext\n",
    "end"
   ]
  },
  {
   "cell_type": "code",
   "execution_count": 4,
   "metadata": {},
   "outputs": [
    {
     "data": {
      "text/plain": [
       "MultiFeatureExtractor(AbstractFeatureExtractor[CoreFeatureExtractor([0.0, 0.0, 0.0, 0.0, 0.0, 0.0, 0.0, 0.0], 8), TemporalFeatureExtractor([0.0, 0.0, 0.0, 0.0, 0.0, 0.0, 0.0, 0.0, 0.0, 0.0], 10), WellBehavedFeatureExtractor([0.0, 0.0, 0.0, 0.0, 0.0], 5), CarLidarFeatureExtractor([0.0, 0.0, 0.0, 0.0, 0.0, 0.0, 0.0, 0.0, 0.0, 0.0  …  0.0, 0.0, 0.0, 0.0, 0.0, 0.0, 0.0, 0.0, 0.0, 0.0], 40, LidarSensor([-2.82743, -2.51327, -2.19911, -1.88496, -1.5708, -1.25664, -0.942478, -0.628319, -0.314159, 0.0, 0.314159, 0.628319, 0.942478, 1.25664, 1.5708, 1.88496, 2.19911, 2.51327, 2.82743, 3.14159], [6.94148e-310, 6.94148e-310, 6.94148e-310, 6.94148e-310, 6.94148e-310, 6.94148e-310, 6.94148e-310, 6.94148e-310, 6.94148e-310, 6.94148e-310, 6.94148e-310, 6.94148e-310, 6.94148e-310, 6.94148e-310, 6.94148e-310, 6.94148e-310, 6.94148e-310, 6.94148e-310, 6.94148e-310, 0.0], [6.94148e-310, 6.94148e-310, 6.94148e-310, 6.94148e-310, 6.94148e-310, 6.94148e-310, 6.94148e-310, 6.94148e-310, 6.94148e-310, 6.94148e-310, 6.94148e-310, 6.94148e-310, 6.94148e-310, 6.94148e-310, 6.94148e-310, 6.94148e-310, 6.94148e-310, 6.94148e-310, 6.94148e-310, 6.94148e-310], 50.0, ConvexPolygon: len 0 (max 4 pts)\n",
       "), true), ForeForeFeatureExtractor([0.0, 0.0, 0.0], 3, 100.0)], [8, 10, 5, 40, 3], [0.0, 0.0, 0.0, 0.0, 0.0, 0.0, 0.0, 0.0, 0.0, 0.0  …  0.0, 0.0, 0.0, 0.0, 0.0, 0.0, 0.0, 0.0, 0.0, 0.0], 66)"
      ]
     },
     "execution_count": 4,
     "metadata": {},
     "output_type": "execute_result"
    }
   ],
   "source": [
    "ext_highd = build_feature_extractor()"
   ]
  },
  {
   "cell_type": "code",
   "execution_count": 8,
   "metadata": {},
   "outputs": [
    {
     "data": {
      "text/plain": [
       "SceneRecord(nscenes=0)"
      ]
     },
     "execution_count": 8,
     "metadata": {},
     "output_type": "execute_result"
    }
   ],
   "source": [
    "rec_highd = SceneRecord(5,0.1)"
   ]
  },
  {
   "cell_type": "code",
   "execution_count": 29,
   "metadata": {},
   "outputs": [
    {
     "name": "stdout",
     "output_type": "stream",
     "text": [
      "veh.id = 3\n",
      "veh.id = 6\n",
      "veh.id = 9\n",
      "veh.id = 10\n",
      "veh.id = 11\n",
      "veh.id = 13\n",
      "veh.id = 14\n",
      "veh.id = 17\n",
      "veh.id = 19\n",
      "veh.id = 20\n",
      "veh.id = 21\n",
      "veh.id = 23\n",
      "veh.id = 27\n",
      "veh.id = 35\n",
      "veh.id = 38\n",
      "veh.id = 39\n",
      "veh.id = 40\n",
      "veh.id = 41\n"
     ]
    }
   ],
   "source": [
    "scene = Scene(500)\n",
    "get!(scene,traj_highd,50)\n",
    "for veh in scene\n",
    "    @show veh.id\n",
    "end"
   ]
  },
  {
   "cell_type": "code",
   "execution_count": 30,
   "metadata": {},
   "outputs": [
    {
     "name": "stdout",
     "output_type": "stream",
     "text": [
      "veh.id = 11\n",
      "veh.id = 13\n",
      "veh.id = 14\n",
      "veh.id = 17\n",
      "veh.id = 19\n",
      "veh.id = 20\n",
      "veh.id = 21\n",
      "veh.id = 23\n",
      "veh.id = 27\n",
      "veh.id = 35\n",
      "veh.id = 38\n",
      "veh.id = 39\n",
      "veh.id = 40\n",
      "veh.id = 41\n",
      "veh.id = 46\n",
      "veh.id = 47\n",
      "veh.id = 49\n",
      "veh.id = 51\n",
      "veh.id = 52\n"
     ]
    }
   ],
   "source": [
    "scene = Scene(500)\n",
    "get!(scene,traj_highd,150)\n",
    "for veh in scene\n",
    "    @show veh.id\n",
    "end"
   ]
  },
  {
   "cell_type": "code",
   "execution_count": 16,
   "metadata": {},
   "outputs": [
    {
     "name": "stdout",
     "output_type": "stream",
     "text": [
      "veh.id = 23\n",
      "veh.id = 27\n",
      "veh.id = 38\n",
      "veh.id = 39\n",
      "veh.id = 40\n",
      "veh.id = 41\n",
      "veh.id = 46\n",
      "veh.id = 47\n",
      "veh.id = 49\n",
      "veh.id = 51\n",
      "veh.id = 52\n",
      "veh.id = 58\n",
      "veh.id = 59\n",
      "veh.id = 63\n",
      "veh.id = 69\n"
     ]
    }
   ],
   "source": [
    "for veh in scene\n",
    "    @show veh.id\n",
    "end"
   ]
  },
  {
   "cell_type": "code",
   "execution_count": 22,
   "metadata": {},
   "outputs": [
    {
     "data": {
      "text/plain": [
       "3.8000000000000007"
      ]
     },
     "execution_count": 22,
     "metadata": {},
     "output_type": "execute_result"
    }
   ],
   "source": [
    "get_lane_width(scene.entities[findfirst(23,scene)],roadway_highd)"
   ]
  },
  {
   "cell_type": "code",
   "execution_count": 23,
   "metadata": {},
   "outputs": [
    {
     "data": {
      "text/plain": [
       "2.0099992716799964"
      ]
     },
     "execution_count": 23,
     "metadata": {},
     "output_type": "execute_result"
    }
   ],
   "source": [
    "get_markerdist_left(scene.entities[findfirst(23,scene)],roadway_highd)"
   ]
  },
  {
   "cell_type": "code",
   "execution_count": null,
   "metadata": {},
   "outputs": [],
   "source": []
  }
 ],
 "metadata": {
  "kernelspec": {
   "display_name": "Julia 1.1.0",
   "language": "julia",
   "name": "julia-1.1"
  },
  "language_info": {
   "file_extension": ".jl",
   "mimetype": "application/julia",
   "name": "julia",
   "version": "1.1.0"
  }
 },
 "nbformat": 4,
 "nbformat_minor": 2
}
