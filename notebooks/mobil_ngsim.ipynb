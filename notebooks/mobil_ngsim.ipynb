{
 "cells": [
  {
   "cell_type": "markdown",
   "metadata": {},
   "source": [
    "#### Crucial note (working of this code is dependant)\n",
    "- The working of this notebook is conditioned on the `uncertain_IDM` model in `AutomotiveDrivingModels\n",
    "which implements the sensor noise to corrupt headway measurement\n",
    "\n",
    "#### Changelog\n",
    "- 4 Nov 2019\n",
    "    - Creation: Copied the `mobil.ipynb` notebook which was working with synthetic data to this new \n",
    "    notebook that shall work with ngsim data\n",
    "    - Written `video_lane_change` function to visually identify lane changes. Caveat is that lane numbering\n",
    "    change due to exit/entry ramp should not be considered as lane change\n",
    "\n",
    "    \n",
    "#### Basic idea of what this notebook does\n",
    "- Generate initial sample set of particles given some limits on the possible range of each of the parameters\n",
    "- Use a trajectory of driving behavior as the ground truth and run filtering using sample set of particles\n",
    "- Get a set of filtered particles. Take the mean of these particles and use it to generate an imitation trajectory\n",
    "- Evaluate rmse of that imitation trajectory with respect to the ground truth demonstration trajectory"
   ]
  },
  {
   "cell_type": "code",
   "execution_count": 43,
   "metadata": {
    "code_folding": []
   },
   "outputs": [],
   "source": [
    "# using packages\n",
    "using NGSIM\n",
    "using AutomotiveDrivingModels\n",
    "using AutoViz\n",
    "using Reel\n",
    "using Distributions\n",
    "using Random\n",
    "using PGFPlots\n",
    "using LinearAlgebra # To make the MvNormal covariance work maybe\n",
    "using JLD\n",
    "using StatsBase # For weighting particles according to likelihoods and then resampling\n",
    "using DelimitedFiles # For writing to csv\n",
    "using FileIO # Needed by sample_multiple_trajdata_vehicle"
   ]
  },
  {
   "cell_type": "code",
   "execution_count": 2,
   "metadata": {
    "code_folding": [
     0
    ]
   },
   "outputs": [],
   "source": [
    "# overlays: IDOverlay. my_overlay\n",
    "\"\"\"\n",
    "    IDOverlay\n",
    "Display the ID on top of each entity in a scene.\n",
    "# Fields\n",
    "- `color::Colorant`\n",
    "- `font_size::Int64`\n",
    "\"\"\"\n",
    "mutable struct IDOverlay <: SceneOverlay\n",
    "    color::Colorant\n",
    "    font_size::Int\n",
    "end\n",
    "\n",
    "function AutoViz.render!(rendermodel::RenderModel, overlay::IDOverlay, scene::Scene, \n",
    "                            env::E) where E\n",
    "    font_size = overlay.font_size\n",
    "    for veh in scene\n",
    "        add_instruction!(rendermodel, render_text, (\"$(veh.id)\", veh.state.posG.x, \n",
    "                        veh.state.posG.y, font_size, overlay.color), incameraframe=true)\n",
    "    end\n",
    "    return rendermodel\n",
    "end\n",
    "\n",
    "\"\"\"\n",
    "    my_overlay\n",
    "Overlaying hallucinated trajectory on the ground truth\n",
    "# Fields\n",
    "- `color::Colorant`\n",
    "- `scene::Scene`\n",
    "\"\"\"\n",
    "struct my_overlay <: SceneOverlay\n",
    "    scene::Scene\n",
    "    color # Needs to be of form colorant\"Colorname\"\n",
    "end\n",
    "\n",
    "function AutoViz.render!(rendermodel::RenderModel,overlay::my_overlay, \n",
    "        scene::Scene, roadway::Roadway)\n",
    "    AutoViz.render!(rendermodel,overlay.scene,car_color = overlay.color)\n",
    "    return rendermodel\n",
    "end"
   ]
  },
  {
   "cell_type": "code",
   "execution_count": 3,
   "metadata": {
    "code_folding": [
     0
    ]
   },
   "outputs": [
    {
     "data": {
      "text/plain": [
       "get_lane_change_prob"
      ]
     },
     "execution_count": 3,
     "metadata": {},
     "output_type": "execute_result"
    }
   ],
   "source": [
    "# functions: get_frenet_s, get_lane_id, lane change probability\n",
    "\"\"\"\n",
    "    function get_frenet_s(scene;car_id=-1)\n",
    "\n",
    "# Examples\n",
    "```julia\n",
    "true_next_pos = get_frenet_s(true_next_scene,car_id=1)\n",
    "```\n",
    "\"\"\"\n",
    "function get_frenet_s(scene;car_id=-1)\n",
    "    if car_id==-1 print(\"get_frenet_s says: Give valid car id\") end\n",
    "    veh = scene[findfirst(car_id,scene)]\n",
    "    return veh.state.posF.s\n",
    "end\n",
    "\n",
    "\"\"\"\n",
    "    function get_lane_id(scene,car_id)\n",
    "# Examples\n",
    "```julia\n",
    "get_lane_id(scene,1)\n",
    "```\n",
    "\"\"\"\n",
    "function get_lane_id(scene,car_id)\n",
    "    veh = scene[findfirst(car_id,scene)]\n",
    "    return veh.state.posF.roadind.tag.lane\n",
    "end\n",
    "\n",
    "\"\"\"\n",
    "    function get_lane_change_prob(start_scene,particle;car_id=-1,num_samplings=10)\n",
    "- Probability of lane changing start from `start_scene`\n",
    "- hallucinating using `particle` for `car_id` using `num_samplings` hallucinations\n",
    "\n",
    "# Examples\n",
    "```julia\n",
    "lp = get_lane_change_prob(scene,particle,car_id = 1)\n",
    "```\n",
    "\"\"\"\n",
    "function get_lane_change_prob(start_scene,particle;car_id=-1,num_samplings=10)\n",
    "    if car_id==-1 @show \"get_lane_change_prob says: Please give valid car_id\" end\n",
    "    start_lane = get_lane_id(start_scene,car_id)\n",
    "    changed_count = 0; unchanged_count = 0\n",
    "    for i in 1:num_samplings\n",
    "        hpos,hlane = hallucinate_a_step(start_scene,particle,car_id=car_id)\n",
    "        if hlane == start_lane\n",
    "            unchanged_count += 1\n",
    "\telse\n",
    "\t    changed_count += 1\n",
    "\tend\n",
    "    end\n",
    "    return (changed_count+1)/(num_samplings+2)\n",
    "end"
   ]
  },
  {
   "cell_type": "code",
   "execution_count": 4,
   "metadata": {
    "code_folding": [
     0
    ]
   },
   "outputs": [
    {
     "data": {
      "text/plain": [
       "init_place_cars"
      ]
     },
     "execution_count": 4,
     "metadata": {},
     "output_type": "execute_result"
    }
   ],
   "source": [
    "# function: generate roadway and place cars\n",
    "\"\"\"\n",
    "    function init_place_cars(lane_place_array;road_length = 1000.0)\n",
    "- Place cars on a straight roadway of `road_length` according to elems in `lane_place_array`\n",
    "\n",
    "# Examples\n",
    "```julia\n",
    "pos_vel_array_1 = [(200.,30.),(215.,0.),(220.,0.)]\n",
    "pos_vel_array_2 = [(200.,0.),(215.,0.),(220.,20.)]\n",
    "pos_vel_array_3 = [(215.,0.),(225.,10.),(230.,0.)]\n",
    "lane_place_array = [pos_vel_array_1,pos_vel_array_2,pos_vel_array_3]\n",
    "scene,roadway = init_place_cars(lane_place_array)\n",
    "```\n",
    "\"\"\"\n",
    "function init_place_cars(lane_place_array;road_length = 1000.0)\n",
    "    num_lanes = length(lane_place_array)\n",
    "    roadway = gen_straight_roadway(num_lanes,road_length)\n",
    "    scene = Scene()\n",
    "\n",
    "    id = 1\n",
    "    for i in 1:num_lanes\n",
    "        for j in 1:length(lane_place_array[i])\n",
    "            veh_state = VehicleState(Frenet(roadway[LaneTag(1,i)],\n",
    "                    lane_place_array[i][j][1]),roadway,\n",
    "                lane_place_array[i][j][2])\n",
    "            veh = Vehicle(veh_state,VehicleDef(),id)\n",
    "            push!(scene,veh)\n",
    "            id+=1\n",
    "        end\n",
    "    end\n",
    "    return scene,roadway\n",
    "end"
   ]
  },
  {
   "cell_type": "code",
   "execution_count": 5,
   "metadata": {
    "code_folding": [
     0,
     36,
     65
    ]
   },
   "outputs": [
    {
     "data": {
      "text/plain": [
       "scenelist2video_quantized"
      ]
     },
     "execution_count": 5,
     "metadata": {},
     "output_type": "execute_result"
    }
   ],
   "source": [
    "# function: videos\n",
    "\"\"\"\n",
    "    function scenelist2video(scene_list;filename = \"media/mobil/scene_to_video.mp4\")\n",
    "- Make video from a list of scenes\n",
    "\n",
    "# Examples\n",
    "```julia\n",
    "scenelist2video(scene_list,filename=\"media/mobil/true_traj.mp4\")\n",
    "```\n",
    "\"\"\"\n",
    "function scenelist2video(scene_list;filename = \"media/mobil/scene_to_video.mp4\")\n",
    "    frames = Frames(MIME(\"image/png\"),fps = 10)\n",
    "    \n",
    "    # Loop over list of scenes and convert to video\n",
    "    for i in 1:length(scene_list)\n",
    "        scene_visual = render(scene_list[i],ROADWAY,\n",
    "        [IDOverlay(colorant\"white\",12)],\n",
    "#         cam=FitToContentCamera(0.),\n",
    "        cam = CarFollowCamera(1)\n",
    "        )\n",
    "        push!(frames,scene_visual)\n",
    "    end\n",
    "    print(\"Making video filename: $(filename)\\n\")\n",
    "    write(filename,frames)\n",
    "    return nothing\n",
    "end\n",
    "\n",
    "\"\"\"\n",
    "    function scenelist2video\n",
    "- Make video from two different scene lists overlaying `scene_list_2` in blue on top of `scene_list_1` in pink\n",
    "\n",
    "# Examples\n",
    "```julia\n",
    "multiple_scenelist2video(true_scene_list,imit_scene_list,filename=\"media/mobil/true_vs_imitation.mp4\")\n",
    "```\n",
    "\"\"\"\n",
    "function multiple_scenelist2video(scene_list_1,scene_list_2;\n",
    "    filename = \"media/mobil/multiple_scene_to_video.mp4\")\n",
    "    frames = Frames(MIME(\"image/png\"),fps = 10)\n",
    "    @assert length(scene_list_1) == length(scene_list_2)\n",
    "    # Loop over list of scenes and convert to video\n",
    "    for i in 1:length(scene_list_1)\n",
    "        other_overlay = my_overlay(scene_list_2[i],colorant\"blue\")\n",
    "        scene_visual = render(scene_list_1[i],ROADWAY,\n",
    "        [IDOverlay(colorant\"white\",12),other_overlay,\n",
    "                TextOverlay(text=[\"Imitation in blue\"],font_size=14)],\n",
    "#         cam=FitToContentCamera(0.),\n",
    "        cam = CarFollowCamera(1)\n",
    "        )\n",
    "        push!(frames,scene_visual)\n",
    "    end\n",
    "    print(\"Making video filename: $(filename)\\n\")\n",
    "    write(filename,frames)\n",
    "    return nothing\n",
    "end\n",
    "\n",
    "\"\"\"\n",
    "- Make a video only taking every 5 timesteps into account from `scene_list`\n",
    "\n",
    "# Examples\n",
    "```julia\n",
    "start_scene = deepcopy(scene_list[10])\n",
    "scene_list_quantization = get_hallucination_scenes(start_scene; nsteps=90,models=models)\n",
    "```\n",
    "\"\"\"\n",
    "function scenelist2video_quantized(scene_list;\n",
    "    filename = \"media/mobil/scene_to_video.mp4\")\n",
    "    frames = Frames(MIME(\"image/png\"),fps = 5)\n",
    "    \n",
    "    # Loop over list of scenes and convert to video\n",
    "    for i in 1:length(scene_list)\n",
    "\tif i%5 == 0\n",
    "\t\tscene_visual = render(scene_list[i],ROADWAY,\n",
    "\t\t[IDOverlay(colorant\"white\",12),TextOverlay(text=[\"frame=$(i)\"],font_size=12)],\n",
    "\t#         cam=FitToContentCamera(0.),\n",
    "\t\tcam = CarFollowCamera(1)\n",
    "\t\t)\n",
    "\t\tpush!(frames,scene_visual)\n",
    "\tend\n",
    "    end\n",
    "    print(\"Making video filename: $(filename)\\n\")\n",
    "    write(filename,frames)\n",
    "    return nothing\n",
    "end"
   ]
  },
  {
   "cell_type": "code",
   "execution_count": 6,
   "metadata": {
    "code_folding": [
     0,
     10,
     29
    ]
   },
   "outputs": [
    {
     "data": {
      "text/plain": [
       "plot_lanes"
      ]
     },
     "execution_count": 6,
     "metadata": {},
     "output_type": "execute_result"
    }
   ],
   "source": [
    "# functions [plots]:ytrace,lanes,overlay ytraces\n",
    "\"\"\"\n",
    "    function scenelist2ytrace(scene_list;car_id=-1)\n",
    "- Make a y position trace from a list of scenes\n",
    "\n",
    "# Examples\n",
    "```julia\n",
    "scenelist2ytrace(scene_list,car_id=1)\n",
    "```\n",
    "\"\"\"\n",
    "function scenelist2ytrace(scene_list;car_id=-1)\n",
    "    if car_id == -1 print(\"Please provide a valid car_id\\n\") end\n",
    "\n",
    "    p = PGFPlots.Plots.Scatter(collect(1:length(scene_list)),\n",
    "        [scene[findfirst(car_id,scene)].state.posG.y for scene in scene_list],legendentry=\"y trace\")\n",
    "    return p\n",
    "end\n",
    "\n",
    "\"\"\"\n",
    "    function overlay_jld_scenelists(num_exps)\n",
    "- To assess impact of headway sensor noise\n",
    "- Capture scene_lists from stored .jld files of `num_exps` experiments\n",
    "\n",
    "# Examples\n",
    "``` julia\n",
    "# Suppose we have 1.jld, 2.jld,...,8.jld\n",
    "overlay_jld_scenelists(8)\n",
    "```\n",
    "\"\"\"\n",
    "function overlay_jld_scenelists(num_exps)\n",
    "    horizon = 100\n",
    "    list_of_plots = PGFPlots.Plot[]\n",
    "    for i in 1:num_exps\n",
    "        scene_list = JLD.load(\"media/mobil/$(i).jld\",\"scene_list\")\n",
    "        p = PGFPlots.Plots.Scatter(collect(1:horizon),\n",
    "            [scene[1].state.posG.y for scene in scene_list[1:horizon]],\n",
    "            legendentry = \"scenario $(i)\")\n",
    "        push!(list_of_plots,p)\n",
    "    end\n",
    "    pa = PGFPlots.Axis(list_of_plots,xlabel=\"timestep\",ylabel=\"y pos\",\n",
    "        legendPos=\"outer north east\")\n",
    "    display(pa)\n",
    "    PGFPlots.save(\"media/mobil/sensor_noise_impact.pdf\",pa)\n",
    "    return nothing\n",
    "end\n",
    "\n",
    "\"\"\"\n",
    "    function plot_lanes(scene_list_1)\n",
    "- Goal is to plot lanes on a y trace of vehicles using `scene_list_1`\n",
    "\n",
    "# Examples\n",
    "```julia\n",
    "plot_lanes(scene_list)\n",
    "```\n",
    "\"\"\"\n",
    "function plot_lanes(scene_list_1)\n",
    "    laneboundary0 = PGFPlots.Plots.Linear(x[:,1],fill(-1.5,length(scene_list_1)),\n",
    "        style=\"black,ultra thick\")\n",
    "    laneboundary1 = PGFPlots.Plots.Linear(x[:,1],fill(1.5,length(scene_list_1)),style=\"black,ultra thick\")\n",
    "    laneboundary2 = PGFPlots.Plots.Linear(x[:,1],fill(4.5,length(scene_list_1)),style=\"black,ultra thick\")\n",
    "    return [laneboundary0,laneboundary1,laneboundary2]\n",
    "end"
   ]
  },
  {
   "cell_type": "code",
   "execution_count": 7,
   "metadata": {
    "code_folding": [
     0
    ]
   },
   "outputs": [
    {
     "data": {
      "text/plain": [
       "get_hallucination_scenes"
      ]
     },
     "execution_count": 7,
     "metadata": {},
     "output_type": "execute_result"
    }
   ],
   "source": [
    "# function: hallucinate scene list\n",
    "\"\"\"\n",
    "    function get_hallucination_scenes\n",
    "- Hallucinate starting from `start_step` for `nsteps` using `models` and return a list of scenes\n",
    "- Used by `plot_carwise_pos_vel` to assess position and velocity traces against ground truth\n",
    "\n",
    "# Returns\n",
    "- `halluc_scenes_list`: List containing the scenes starting with the ground truth scene at `start_step`\n",
    "\n",
    "# Examples\n",
    "```julia\n",
    "scene_list = get_hallucination_scenes(start_scene,nsteps=100,models=models);\n",
    "```\n",
    "\"\"\"\n",
    "function get_hallucination_scenes(start_scene;models,start_step=1,duration=10,\n",
    "        id_list=[],verbosity = false,timestep=TIMESTEP)\n",
    "        # Setting up\n",
    "    scene_halluc = start_scene\n",
    "    halluc_scenes_list = []\n",
    "    push!(halluc_scenes_list,deepcopy(start_scene))\n",
    "#     scene_halluc = get_scene(start_step,traj) # Frame to start hallucination from\n",
    "#     push!(halluc_scenes_list,deepcopy(scene_halluc))\n",
    "    \n",
    "    nsteps = duration/timestep\n",
    "    for (i,t) in enumerate(start_step:start_step+nsteps-1)\n",
    "        \n",
    "#         if !isempty(id_list) keep_vehicle_subset!(scene_halluc,id_list) end\n",
    "        \n",
    "        actions = Array{Any}(undef,length(scene_halluc))\n",
    "\n",
    "            # Propagation of scene forward\n",
    "        get_actions!(actions,scene_halluc,ROADWAY,models)\n",
    "\n",
    "        tick!(scene_halluc,ROADWAY,actions,timestep)\n",
    "        \n",
    "        push!(halluc_scenes_list,deepcopy(scene_halluc))\n",
    "    end \n",
    "    return halluc_scenes_list\n",
    "end"
   ]
  },
  {
   "cell_type": "code",
   "execution_count": 8,
   "metadata": {
    "code_folding": [
     0
    ]
   },
   "outputs": [
    {
     "data": {
      "text/plain": [
       "initial_pmat"
      ]
     },
     "execution_count": 8,
     "metadata": {},
     "output_type": "execute_result"
    }
   ],
   "source": [
    "# function: Generate uniform sampling to start the initial particle matrix\n",
    "\"\"\"\n",
    "    function initial_pmat(;limits,num_particles,seed)\n",
    "- Generate initial particle matrix with `num_particles` particles with every col being a diff particle\n",
    "- Range of values that parameters can take is specified in `limits`. Should be num_params rows x 2 cols\n",
    "\n",
    "# Examples\n",
    "```julia\n",
    "limits = [10. 40.;0.1 10.;0.5 5.;1. 10.;0. 1.;-1. 1.;-20. 20.]\n",
    "initial_pmat(limits=limits,num_particles=10,seed=4)\n",
    "```\n",
    "\"\"\"\n",
    "function initial_pmat(;limits,num_particles,seed)\n",
    "    Random.seed!(seed)\n",
    "    num_params = size(limits,1)\n",
    "    p_mat = fill(0.,num_params,num_particles)\n",
    "\n",
    "    for i in 1:num_params\n",
    "        p_mat[i,:] = rand(Uniform(limits[i,1],limits[i,2]),1,num_particles)\n",
    "    end\n",
    "    return p_mat\n",
    "end"
   ]
  },
  {
   "cell_type": "code",
   "execution_count": 9,
   "metadata": {
    "code_folding": [
     0
    ]
   },
   "outputs": [
    {
     "data": {
      "text/plain": [
       "hallucinate_a_step"
      ]
     },
     "execution_count": 9,
     "metadata": {},
     "output_type": "execute_result"
    }
   ],
   "source": [
    "# function: hallucinate_a_step\n",
    "\"\"\"\n",
    "    function hallucinate_a_step(scene_input,particle;car_id=-1)\n",
    "- Hallucinate one step starting from `scene_input` using parameters given by `particle`\n",
    "\n",
    "# Examples\n",
    "```julia\n",
    "limits = [10. 40.;0.1 10.;0.5 5.;1. 10.;0. 1.;-1. 1.;0. 20.]\n",
    "init_pmat = initial_pmat(limits=limits,num_particles=10,seed=4)\n",
    "hallucinate_a_step(SCENE,init_pmat[:,9],car_id=1)\n",
    "```\n",
    "\"\"\"\n",
    "function hallucinate_a_step(scene_input,particle;car_id=-1)\n",
    "    if car_id==-1 @show \"hallucinate_a_step says: Please give a valid car_id\" end\n",
    "\n",
    "    scene = deepcopy(scene_input)\n",
    "    models = Dict{Int64,DriverModel}()\n",
    "\n",
    "    for veh in scene\n",
    "        if veh.id == car_id\n",
    "            models[veh.id] = Tim2DDriver(TIMESTEP,\n",
    "                                    mlane=MOBIL(TIMESTEP,politeness=particle[POLITENESS],\n",
    "                                                advantage_threshold=particle[ADV_TH],\n",
    "                                                mlon=uncertain_IDM(sigma_sensor=particle[SENSOR_SIGMA])\n",
    "                                    ),\n",
    "                                    mlon = IntelligentDriverModel(v_des=particle[V_DES],σ=particle[SIGMA_IDM],\n",
    "                                            T=particle[T_HEADWAY],s_min=particle[S_MIN]\n",
    "                                    )\n",
    "                            )\n",
    "        else\n",
    "            models[veh.id] = IntelligentDriverModel(v_des=50.)\n",
    "        end\n",
    "    end\n",
    "\n",
    "    actions = Array{Any}(undef,length(scene))\n",
    "    get_actions!(actions,scene,ROADWAY,models)\n",
    "    tick!(scene,ROADWAY,actions,TIMESTEP)\n",
    "\n",
    "    halluc_state = scene.entities[findfirst(car_id,scene)].state\n",
    "    halluc_pos = halluc_state.posF.s\n",
    "    halluc_lane = get_lane_id(scene,car_id)\n",
    "\n",
    "    return halluc_pos,halluc_lane\n",
    "end"
   ]
  },
  {
   "cell_type": "code",
   "execution_count": 10,
   "metadata": {
    "code_folding": [
     0
    ]
   },
   "outputs": [
    {
     "data": {
      "text/plain": [
       "weight_and_resample"
      ]
     },
     "execution_count": 10,
     "metadata": {},
     "output_type": "execute_result"
    }
   ],
   "source": [
    "# function: weight and resample\n",
    "\"\"\"\n",
    "    function weight_and_resample(start_scene,true_nextpos,true_nextlane,p_mat;car_id=-1)\n",
    "- Hallucination from `start_scene` \n",
    "- Compare against ground truth at `true_nextpos`, `true_nextlane`\n",
    "- Assign weights to particles\n",
    "- Perform resampling and return a new matrix of particles and associated weight vector\n",
    "\n",
    "# Examples\n",
    "```julia\n",
    "# Test for one step on initial particle matrix\n",
    "limits = [10. 40.;0.1 10.;0.5 5.;1. 10.;0. 1.;-1. 1.;0. 20.]\n",
    "init_pmat = initial_pmat(limits=limits,num_particles=10,seed=4)\n",
    "id = 1\n",
    "true_next_scene = deepcopy(true_scene_list[2])\n",
    "true_nextpos = get_frenet_s(true_next_scene;car_id=id)\n",
    "true_nextlane = get_lane_id(true_next_scene,id)\n",
    "weight_and_resample(SCENE,true_nextpos,true_nextlane,init_pmat,car_id=id)\n",
    "```\n",
    "\"\"\"\n",
    "function weight_and_resample(start_scene,true_nextpos,true_nextlane,p_mat;car_id=-1,verbosity=false)\n",
    "    if car_id==-1 @show \"compute_particle_likelihood says: Please give valid car_id\" end\n",
    "    num_p = size(p_mat,2)\n",
    "    lkhd_vec = Array{Float64}(undef,num_p)\n",
    "    for i in 1:num_p\n",
    "        if verbosity print(\"w_and_resample says: particle number = $i \\n\") end\n",
    "        particle = p_mat[:,i]\n",
    "        \n",
    "        std_dev_acc = p_mat[SIGMA_IDM]\n",
    "        if std_dev_acc <= 0 std_dev_acc = 0.1 end\n",
    "        std_dev_pos = TIMESTEP*TIMESTEP*std_dev_acc\n",
    "        hpos,hlane = hallucinate_a_step(start_scene,particle,car_id=car_id)\n",
    "        \n",
    "        start_lane = get_lane_id(start_scene,car_id)\n",
    "        lane_has_changed = false\n",
    "\n",
    "        if start_lane != true_nextlane\n",
    "            lane_has_changed = true\n",
    "        end\n",
    "\n",
    "        p_lanechange = get_lane_change_prob(start_scene,particle,car_id=car_id)\n",
    "\n",
    "        prob_lane = 0.5 # Initialize to random\n",
    "        if lane_has_changed\n",
    "            prob_lane = p_lanechange\n",
    "        else\n",
    "            prob_lane = 1-p_lanechange\n",
    "        end\n",
    "        \n",
    "        prob_pos = pdf(Normal(hpos,std_dev_pos),true_nextpos)\n",
    "        if verbosity\n",
    "            print(\"weight and resample says: true_nextpos = $(true_nextpos) and hpos=$(hpos) and hlane=$(hlane)\\n\")\n",
    "            print(\"weight and resample says: prob_pos = $(prob_pos) and prob_lane=$(prob_lane)\\n\")\n",
    "        end\n",
    "        lkhd_vec[i] = prob_lane*prob_pos\n",
    "    end\n",
    "    p_weight_vec = StatsBase.weights(lkhd_vec./sum(lkhd_vec)) # Convert to weights form to use julia sampling\n",
    "    \n",
    "    idx = sample(1:num_p,p_weight_vec,num_p)\n",
    "    if verbosity print(\"weight and resample says: ids are $(idx)\\n\") end\n",
    "    new_p_mat = p_mat[:,idx] #Careful that idx is (size,1) and not (size,2)\n",
    "    \n",
    "    return new_p_mat, p_weight_vec\n",
    "end"
   ]
  },
  {
   "cell_type": "code",
   "execution_count": 11,
   "metadata": {
    "code_folding": [
     0
    ]
   },
   "outputs": [
    {
     "data": {
      "text/plain": [
       "multistep_update"
      ]
     },
     "execution_count": 11,
     "metadata": {},
     "output_type": "execute_result"
    }
   ],
   "source": [
    "# function: multistep_update\n",
    "\"\"\"\n",
    "- Run filtering over a trajectory by starting from a true scene\n",
    "- Repeatedly calls `weight_and_resample` on a demonstration trajectory\n",
    "\n",
    "# Caveats\n",
    "- Hard coded usage of `true_scene_list` which is basically ground truth generated by `get_hallucination_scenes`\n",
    "- Hard coded limits on initial particle distribution generation\n",
    "\n",
    "# Returns\n",
    "- `final_p_mat`: Matrix with particles in separate columns\n",
    "- `iterwise_p_mat`: A list with the associated particle matrix at each iteration\n",
    "\n",
    "# Examples\n",
    "```julia\n",
    "final_p_mat,iterwise_p_mat = multistep_update(car_id=1,start_frame=2,last_frame=99)\n",
    "```\n",
    "\"\"\"\n",
    "function multistep_update(;car_id,start_frame,last_frame,num_p=500,seed=1,verbosity=false)\n",
    "    if verbosity print(\"car id = $(car_id)\\n\") end\n",
    "        \n",
    "        # Careful selectin of particles around initial velocity of data\n",
    "        # Commented out for now as we are not yet at the stage of using TRAJ\n",
    "    #startscene = get_scene(start_frame,TRAJ)\n",
    "    #startpos,startvel = get_veh_info(startscene,car_id=car_id)\n",
    "    #init_p_mat = sample_init_particles(num_p,v=startvel)\n",
    "\n",
    "    limits = [10. 40.;0.1 10.;0.5 5.;1. 10.;0. 1.;-1. 1.;0. 20.]\n",
    "    p_mat = initial_pmat(limits=limits,num_particles=num_p,seed=seed)\n",
    "    iterwise_p_set = [] # Stores particle set at every iteration\n",
    "    push!(iterwise_p_set,p_mat)\n",
    "    \n",
    "    for framenum in start_frame:last_frame\n",
    "            # Get the truth from TRAJ\n",
    "        #scene = get_scene(framenum+1,TRAJ)\n",
    "        #trupos,truvel = get_veh_info(scene,car_id=car_id,traj=traj)\n",
    "        \n",
    "            # Get the scene to start hallucinating from\n",
    "        #scene = get_scene(framenum,TRAJ)\n",
    "        scene = deepcopy(true_scene_list[framenum])\n",
    "        true_next_scene = deepcopy(true_scene_list[framenum+1])\n",
    "        true_nextpos = get_frenet_s(true_next_scene;car_id=car_id)\n",
    "        true_nextlane = get_lane_id(true_next_scene,car_id)\n",
    "        # print(\"multistep update says: true_nextpos = $(true_nextpos), true_nextlane=$(true_nextlane)\\n\")\n",
    "        p_mat_new, weight_vec = weight_and_resample(scene,true_nextpos,true_nextlane,p_mat,car_id=car_id)\n",
    "\n",
    "            # Addition of dithering noise\n",
    "        #params = [:v_des,:σ]\n",
    "        #p_mat = addnoise(p_mat_new, weight_vec)\n",
    "        \n",
    "        p_mat = p_mat_new # No noise addition for now\n",
    "        \n",
    "            # Storage into list that contains particle matrix at every step\n",
    "        push!(iterwise_p_set,p_mat)\n",
    "    end\n",
    "\n",
    "        # Find the mean particle after filtering is over\n",
    "        # Defined in `admin.jl`\n",
    "    mean_particle = mean(p_mat,dims=2)\n",
    "    \n",
    "    return mean_particle,iterwise_p_set\n",
    "end"
   ]
  },
  {
   "cell_type": "code",
   "execution_count": 12,
   "metadata": {
    "code_folding": [
     0
    ]
   },
   "outputs": [
    {
     "data": {
      "text/plain": [
       "gen_imitation_traj"
      ]
     },
     "execution_count": 12,
     "metadata": {},
     "output_type": "execute_result"
    }
   ],
   "source": [
    "# function: gen_imitation_traj\n",
    "\"\"\"\n",
    "    function gen_imitation_traj(p_mat)\n",
    "- Generate an imitation trajectory using the mean particle obtained from `p_mat`\n",
    "- `p_mat` is the resulting particle matrix after running `multistep_update`\n",
    "i.e. obtained after running particle filtering over a trajectory of length `duration`\n",
    "\n",
    "# Examples\n",
    "```julia\n",
    "start_scene = deepcopy(SCENE)\n",
    "imit_scene_list = gen_imitation_traj(final_p_mat,start_scene,car_id=1,timestep=0.02)\n",
    "```\n",
    "\"\"\"\n",
    "function gen_imitation_traj(p_mat,start_scene;start_step=1,duration=10,id_list=[],car_id=-1,timestep=TIMESTEP)\n",
    "    particle = mean(p_mat,dims=2)\n",
    "    models = Dict{Int64,DriverModel}()\n",
    "\n",
    "    for veh in scene\n",
    "        if veh.id == car_id\n",
    "            models[veh.id] = Tim2DDriver(timestep,\n",
    "                                    mlane=MOBIL(timestep,politeness=particle[POLITENESS],\n",
    "                                                advantage_threshold=particle[ADV_TH],\n",
    "                                                mlon=uncertain_IDM(sigma_sensor=particle[SENSOR_SIGMA])\n",
    "                                    ),\n",
    "                                    mlon = IntelligentDriverModel(v_des=particle[V_DES],σ=particle[SIGMA_IDM],\n",
    "                                            T=particle[T_HEADWAY],s_min=particle[S_MIN]\n",
    "                                    )\n",
    "                            )\n",
    "        else\n",
    "            models[veh.id] = IntelligentDriverModel(v_des=15.)\n",
    "        end\n",
    "    end\n",
    "    models[3] = IntelligentDriverModel()\n",
    "    \n",
    "            # Setting up\n",
    "    scene_halluc = start_scene\n",
    "    halluc_scenes_list = []\n",
    "    push!(halluc_scenes_list,deepcopy(start_scene))\n",
    "#     scene_halluc = get_scene(start_step,traj) # Frame to start hallucination from\n",
    "#     push!(halluc_scenes_list,deepcopy(scene_halluc))\n",
    "    nsteps = Int64(floor(duration/timestep))\n",
    "    for (i,t) in enumerate(start_step:start_step+nsteps-1)\n",
    "        \n",
    "#         if !isempty(id_list) keep_vehicle_subset!(scene_halluc,id_list) end\n",
    "        \n",
    "        actions = Array{Any}(undef,length(scene_halluc))\n",
    "\n",
    "            # Propagation of scene forward\n",
    "        get_actions!(actions,scene_halluc,ROADWAY,models)\n",
    "\n",
    "        tick!(scene_halluc,ROADWAY,actions,timestep)\n",
    "        \n",
    "        push!(halluc_scenes_list,deepcopy(scene_halluc))\n",
    "    end \n",
    "    return halluc_scenes_list\n",
    "end"
   ]
  },
  {
   "cell_type": "code",
   "execution_count": 13,
   "metadata": {
    "code_folding": [
     0
    ]
   },
   "outputs": [
    {
     "data": {
      "text/plain": [
       "compute_rmse"
      ]
     },
     "execution_count": 13,
     "metadata": {},
     "output_type": "execute_result"
    }
   ],
   "source": [
    "# function: compute rmse of generated trajectory vs true trajectory\n",
    "\"\"\"\n",
    "    function compute_rmse(true_scene_list,halluc_scene_list;id_list)\n",
    "- Compute rmse position and velocity between `halluc_scene_list` and `true_scene_list`\n",
    "- `true_scene_list` is the ground truth demonstration trajectory\n",
    "- `imit_scene_list` is generated by running vehicles using parameters that we want for the driver model\n",
    "\n",
    "# Returns\n",
    "- `rmse_pos::Dict{Int64,Vector{Float64}}`: Key is vehid. Value is array. Each elem is timewise rmse pos value for that veh_id\n",
    "- `rmse_vel::Dict{Int64,Vector{Float64}}`: Key is vehid. Value is array. Each elem is timewise rmse vel value for that veh_id\n",
    "\n",
    "# Examples\n",
    "```julia\n",
    "rmse_pos_dict,rmse_vel_dict = compute_rmse(true_scene_list,imit_scene_list,id_list=[1,2,3])\n",
    "```\n",
    "\"\"\"\n",
    "function compute_rmse(true_scene_list,imit_scene_list;id_list=[])\n",
    "    @assert length(true_scene_list) == length(imit_scene_list)\n",
    "    rmse_pos = Dict{Int64,Vector{Float64}}()\n",
    "    rmse_vel = Dict{Int64,Vector{Float64}}()\n",
    "    \n",
    "    for veh_id in id_list\n",
    "        rmse_pos[veh_id] = []\n",
    "        rmse_vel[veh_id] = []\n",
    "    end\n",
    "    \n",
    "    for i in 1:length(true_scene_list)\n",
    "        scene_halluc = imit_scene_list[i]\n",
    "        demo_scene_target = true_scene_list[i]\n",
    "        \n",
    "        for veh_id in id_list\n",
    "            demo_veh = demo_scene_target[findfirst(veh_id,demo_scene_target)]\n",
    "            ego_veh = scene_halluc[findfirst(veh_id,scene_halluc)]\n",
    "\n",
    "            push!(rmse_pos[veh_id],norm(demo_veh.state.posG[1:2]-ego_veh.state.posG[1:2]))\n",
    "            push!(rmse_vel[veh_id],norm(demo_veh.state.v - ego_veh.state.v))\n",
    "        end\n",
    "    end\n",
    "    return rmse_pos,rmse_vel\n",
    "end"
   ]
  },
  {
   "cell_type": "code",
   "execution_count": 14,
   "metadata": {
    "code_folding": [
     0
    ]
   },
   "outputs": [
    {
     "data": {
      "text/plain": [
       "rmse_dict2mean"
      ]
     },
     "execution_count": 14,
     "metadata": {},
     "output_type": "execute_result"
    }
   ],
   "source": [
    "# function: Combine carwise rmse into one metric by averaging over cars\n",
    "\"\"\"\n",
    "    function rmse_dict2mean(rmse_dict)\n",
    "- Take dict of carwise rmse value and return an array with mean of rmse taken over cars\n",
    "\n",
    "# Examples\n",
    "```julia\n",
    "\n",
    "```\n",
    "\"\"\"\n",
    "function rmse_dict2mean(rmse_dict)\n",
    "    num_veh = length(collect(keys(rmse_dict))) # Find length of the vector of keys\n",
    "    num_iter = length(rmse_dict[collect(keys(rmse_dict))[1]]) # Find length of value contained in 1st key\n",
    "    rmse_array = fill(0.,num_iter,num_veh)\n",
    "\n",
    "    i = 0\n",
    "    for (k,v) in rmse_dict\n",
    "        i = i+1\n",
    "        rmse_vals = reshape(v,length(v),1)\n",
    "        rmse_array[:,i] = rmse_vals\n",
    "    end\n",
    "\n",
    "    carmean_rmse = mean(rmse_array,dims=2)\n",
    "    return carmean_rmse\n",
    "end"
   ]
  },
  {
   "cell_type": "code",
   "execution_count": 15,
   "metadata": {
    "code_folding": [
     0
    ]
   },
   "outputs": [
    {
     "data": {
      "text/plain": [
       "plot_p_prog"
      ]
     },
     "execution_count": 15,
     "metadata": {},
     "output_type": "execute_result"
    }
   ],
   "source": [
    "# function: plot particle progres optionally with errorbars\n",
    "\"\"\"\n",
    "    function plot_p_prog(iterwise_p_mat;make_error_bars = false)\n",
    "- Makes plot of mean particles from list of particle matrices over iterations of filtering\n",
    "- Makes error bars depending on the `make_error_bars` kwarg\n",
    "\n",
    "# Examples\n",
    "```julia\n",
    "final_p_mat,iterwise_p_mat = multistep_update(car_id=1,start_frame=2,last_frame=99);\n",
    "plot_p_prog(iterwise_p_mat,make_error_bars=true,display_plot=true)\n",
    "```\n",
    "\"\"\"\n",
    "function plot_p_prog(iterwise_p_mat;make_error_bars = false,display_plot=false)\n",
    "    num_steps = length(iterwise_p_mat)\n",
    "    num_params = size(iterwise_p_mat[1],1)\n",
    "    mean_p = fill(0.,num_params,num_steps)\n",
    "    max_p = fill(0.,num_params,num_steps)\n",
    "    min_p = fill(0.,num_params,num_steps)\n",
    "    for i in 1:num_steps\n",
    "        mat = iterwise_p_mat[i]\n",
    "        mean_p[:,i] = mean(mat,dims=2) # Take the mean of the sample of particles\n",
    "        max_p[:,i] = maximum(mat,dims=2)\n",
    "        min_p[:,i] = minimum(mat,dims=2)\n",
    "    end\n",
    "    plot_list = PGFPlots.Plots.Plot[] # Initialize empty array of type PGFPlots.Plots.Plot\n",
    "    for i in 1:num_params\n",
    "        if make_error_bars\n",
    "            push!(plot_list,PGFPlots.Plots.Linear(collect(1:num_steps),mean_p[i,:],\n",
    "                    errorBars = ErrorBars(yplus=max_p[i,:], yminus=min_p[i,:]),\n",
    "                    legendentry=param_names[i],onlyMarks=true))\n",
    "        else\n",
    "            push!(plot_list,PGFPlots.Plots.Linear(collect(1:num_steps),mean_p[i,:],\n",
    "                    legendentry=param_names[i],onlyMarks=true))\n",
    "        end\n",
    "    end\n",
    "    pa = PGFPlots.Axis(plot_list,xlabel=\"timestep\",ylabel=\"param value\",\n",
    "        title=\"param wise filtering progress\",legendPos=\"outer north east\")\n",
    "    if display_plot display(pa) end\n",
    "    return pa\n",
    "end"
   ]
  },
  {
   "cell_type": "code",
   "execution_count": 16,
   "metadata": {
    "code_folding": [
     0
    ]
   },
   "outputs": [
    {
     "data": {
      "text/plain": [
       "scene_list2pos_trace"
      ]
     },
     "execution_count": 16,
     "metadata": {},
     "output_type": "execute_result"
    }
   ],
   "source": [
    "# function: extract xy trace from list of scenes\n",
    "\"\"\"\n",
    "    function scene_list2pos_trace(scene_list;ncars,filename=\"\")\n",
    "- Written with the goal of giving pos trace to Alex\n",
    "- Writes the xy positions of first `ncars` in the format x1,y1,x2,y2,...,xn,yn cols of data\n",
    "- Optinonally writes the data to a csv file with `filename`\n",
    "\n",
    "# Examples\n",
    "```julia\n",
    "scene_list2pos_trace(alex_true_scene_list,ncars=3,filename=\"media/mobil/ground_truth.csv\")\n",
    "```\n",
    "\"\"\"\n",
    "function scene_list2pos_trace(scene_list;ncars,filename=\"\")\n",
    "data = fill(0.,length(scene_list),2*ncars) # carwise x, y\n",
    "    for (i,scene) in enumerate(scene_list)\n",
    "        for j in 1:ncars\n",
    "            data[i,j*2-1] = scene[j].state.posG.x\n",
    "            data[i,j*2] = scene[j].state.posG.y\n",
    "        end\n",
    "    end\n",
    "    \n",
    "    if filename != \"\" writedlm(filename,data,\",\") end\n",
    "    return data\n",
    "end"
   ]
  },
  {
   "cell_type": "markdown",
   "metadata": {},
   "source": [
    "#### functions brought in from idm_ngsim"
   ]
  },
  {
   "cell_type": "code",
   "execution_count": 25,
   "metadata": {
    "code_folding": [
     0
    ]
   },
   "outputs": [
    {
     "data": {
      "text/plain": [
       "keep_vehicle_subset!"
      ]
     },
     "execution_count": 25,
     "metadata": {},
     "output_type": "execute_result"
    }
   ],
   "source": [
    "# functions: get_scene, get_veh_info, keep_vehicle_subset\n",
    "\"\"\"\n",
    "    function get_scene(framenum::Int64,traj)\n",
    "\n",
    "Get a specific scene from traj_ngsim\n",
    "\n",
    "# Used by\n",
    "- `multistep_update`\n",
    "\n",
    "# Example:\n",
    "```julia\n",
    "scene = get_scene(1,traj_ngsim)\n",
    "```\n",
    "\"\"\"\n",
    "function get_scene(framenum::Int64,traj)\n",
    "    scene = Scene(500)\n",
    "    get!(scene,traj,framenum)\n",
    "    return scene\n",
    "end\n",
    "\n",
    "\"\"\"\n",
    "    function get_veh_info(scene;car_id = -1)\n",
    "\n",
    "Get position and velocity of specific vehicle from scene\n",
    "\n",
    "# Used by\n",
    "- `multistep_update`\n",
    "\n",
    "# Example\n",
    "```julia\n",
    "scene = get_highd_scene(7)\n",
    "pos,vel = get_veh_info(scene,car_id = 6)\n",
    "@show pos,vel\n",
    "```\n",
    "\"\"\"\n",
    "function get_veh_info(scene;car_id = -1,traj=traj_ngsim)\n",
    "    @assert car_id>0\n",
    "    if traj==traj_ngsim\n",
    "        pos=scene.entities[findfirst(car_id,scene)].state.posF.s\n",
    "    elseif traj==traj_highd\n",
    "        pos=scene.entities[findfirst(car_id,scene)].state.posG.x\n",
    "    end\n",
    "    vel = scene.entities[findfirst(car_id,scene)].state.v\n",
    "    return pos,vel\n",
    "end\n",
    "\n",
    "\"\"\"\n",
    "    function keep_vehicle_subset!(scene::Scene, ids::Vector{Int})\n",
    "Will come in useful to remove those vehicles from video who we do not learn filter for.\n",
    "Obtained from `ngsim_env/julia/src/ngsim_utils.jl`\n",
    "\n",
    "# Arguments\n",
    "- `ids` List of integers with ids of vehicles to be kept\n",
    "- `scene` A scene in which to keep vehicles given in `ids` and remove the rest of the vehicles\n",
    "\n",
    "# Used by\n",
    "- `run_simulation` Only keep those vehicles in the scene for which we have done filtering\n",
    "\n",
    "# Example\n",
    "```julia\n",
    "scene = Scene(500)\n",
    "get!(scene,traj_ngsim,300)\n",
    "keep_vehicle_subset!(scene,veh_id_list)\n",
    "```\n",
    "\"\"\"\n",
    "function keep_vehicle_subset!(scene::Scene, ids)\n",
    "    keep_ids = Set(ids)\n",
    "    scene_ids = Set([veh.id for veh in scene])\n",
    "    remove_ids = setdiff(scene_ids, keep_ids)\n",
    "    for id in remove_ids\n",
    "        delete!(scene, id)\n",
    "    end\n",
    "    return scene\n",
    "end"
   ]
  },
  {
   "cell_type": "code",
   "execution_count": 37,
   "metadata": {
    "code_folding": [
     0
    ]
   },
   "outputs": [
    {
     "data": {
      "text/plain": [
       "sample_multiple_trajdata_vehicle"
      ]
     },
     "execution_count": 37,
     "metadata": {},
     "output_type": "execute_result"
    }
   ],
   "source": [
    "# Functions: Sampling vehicles that drive together\n",
    "\"\"\"\n",
    "    function random_sample_from_set_without_replacement(s, n)\n",
    "Description\n",
    "    This function samples n values from the set s without replacement, and \n",
    "    does not work with anything except a set s. Could use statsbase, but want \n",
    "    to avoid the dependency.\n",
    "- Used by `sample_multiple_trajdata_vehicle`\n",
    "Args:\n",
    "    - s: a set\n",
    "    - n: number of values to sample\n",
    "Returns:\n",
    "    - a subset of the values in s, as a list containing n elements\n",
    "\"\"\"\n",
    "function random_sample_from_set_without_replacement(s, n)\n",
    "    @assert length(s) >= n\n",
    "    sampled = Set()\n",
    "    for i in 1:n\n",
    "        cur = rand(s)\n",
    "        push!(sampled, cur)\n",
    "        delete!(s, cur)\n",
    "    end\n",
    "    return collect(sampled)\n",
    "end\n",
    "\n",
    "# Sample vehicles that stay in the scene together\n",
    "\"\"\"\n",
    "    function sample_multiple_trajdata_vehicle\n",
    "- Finds groups of vehicles that stay together on the road for a duration\n",
    "- Adapted from `ngsim/julia/src/ngsim_utils.jl`\n",
    "- CAVEAT: Needs the `.jld2` file in the same folder as this code\n",
    "\n",
    "# Returns\n",
    "- `egoids`: List of vehicles that drive together with the specified ego vehicle for `offset` num of steps\n",
    "- `ts`: Start frame number\n",
    "- `te`: End frame number\n",
    "\n",
    "# Examples\n",
    "```julia\n",
    "a,b,c= sample_multiple_trajdata_vehicle(15,100,egoid=756)\n",
    "```\n",
    "\"\"\"\n",
    "function sample_multiple_trajdata_vehicle(\n",
    "        n_veh::Int, \n",
    "        offset::Int;\n",
    "        max_resamples::Int = 100,\n",
    "        egoid::Union{Nothing, Int} = nothing,\n",
    "        verbose::Bool = true,\n",
    "        rseed::Union{Nothing, Int} = nothing,\n",
    "        dataset::String=\"ngsim\"\n",
    "    )\n",
    "    \n",
    "    if rseed != nothing\n",
    "        Random.seed!(rseed)\n",
    "    end\n",
    "    traj_idx = 1\n",
    "    \n",
    "    if dataset==\"ngsim\"\n",
    "        trajinfos = [FileIO.load(\"trajdata_i101_trajectories-0750am-0805am-index-250.jld2\",\"index\")]\n",
    "    elseif dataset==\"highd\"\n",
    "        trajinfos = [FileIO.load(\"trajdata_Data11_Road1_nLIOD3_lower-index.jld2\",\"index\")]\n",
    "    else\n",
    "        print(\"Give a sensible dataset name\\n\")\n",
    "        return\n",
    "    end\n",
    "    \n",
    "    # if passed in egoid and traj_idx, use those, otherwise, sample\n",
    "    if egoid == nothing \n",
    "        # sample the first vehicle and start and end timesteps\n",
    "        egoid = rand(collect(keys(trajinfos[traj_idx])))\n",
    "    end\n",
    "    \n",
    "    ts = trajinfos[traj_idx][egoid][\"ts\"]\n",
    "    te = trajinfos[traj_idx][egoid][\"te\"]\n",
    "    # this sampling assumes ts:te-offset is a valid range\n",
    "    # this is enforced by the initial computation of the index / trajinfo\n",
    "    ts = rand(ts:te - offset)\n",
    "    # after setting the start timestep randomly from the valid range, next \n",
    "    # update the end timestep to be offset timesteps following it \n",
    "    # this assume that we just want to simulate for offset timesteps\n",
    "    te = ts + offset\n",
    "\n",
    "    # find all other vehicles that have at least 'offset' many steps in common \n",
    "    # with the first sampled egoid starting from ts. If the number of such \n",
    "    # vehicles is fewer than n_veh, then resample\n",
    "    # start with the set containing the first egoid so we don't double count it\n",
    "    egoids = Set{Int}(egoid)\n",
    "    for othid in keys(trajinfos[traj_idx])\n",
    "        oth_ts = trajinfos[traj_idx][othid][\"ts\"]\n",
    "        oth_te = trajinfos[traj_idx][othid][\"te\"]\n",
    "        # other vehicle must start at or before ts and must end at or after te\n",
    "        if oth_ts <= ts && te <= oth_te\n",
    "            push!(egoids, othid)\n",
    "        end\n",
    "    end\n",
    "\n",
    "    # check that there are enough valid ids from which to sample\n",
    "    if length(egoids) < n_veh\n",
    "        # if not, resample\n",
    "        if verbose\n",
    "            println(\"WARNING: insuffcient sampling ids in sample_multiple_trajdata_vehicle\")\n",
    "        end\n",
    "        if max_resamples == 0\n",
    "            error(\"ERROR: reached maximum resamples in sample_multiple_trajdata_vehicle\")\n",
    "        else\n",
    "            return sample_multiple_trajdata_vehicle(\n",
    "                n_veh, \n",
    "                offset, \n",
    "                max_resamples=max_resamples - 1,\n",
    "                verbose=verbose)\n",
    "        end\n",
    "    end\n",
    "\n",
    "    # reaching this point means there are sufficient ids, sample the ones to use\n",
    "    egoids = random_sample_from_set_without_replacement(egoids, n_veh)\n",
    "\n",
    "    return egoids, ts, te\n",
    "end"
   ]
  },
  {
   "cell_type": "code",
   "execution_count": 56,
   "metadata": {
    "code_folding": [
     0
    ]
   },
   "outputs": [
    {
     "data": {
      "text/plain": [
       "video_lane_change"
      ]
     },
     "execution_count": 56,
     "metadata": {},
     "output_type": "execute_result"
    }
   ],
   "source": [
    "# function: video_lane_change\n",
    "\"\"\"\n",
    "    function video_lane_change\n",
    "\n",
    "- Color lane change instance in yellow for easy identification of lane changes\n",
    "\n",
    "# Example\n",
    "```julia\n",
    "# random sample vehicle selection with seed 1 for 10 vehicles 50 driving steps\n",
    "num_veh = 15; duration = 100; seed=7\n",
    "id_list,ts,te = sample_multiple_trajdata_vehicle(num_veh,duration,rseed=seed)\n",
    "video_lane_change(range=ts:te,veh_id_list=id_list,filename = \"media/mobil_ngsim/$seed.mp4\")\n",
    "```\n",
    "\n",
    "# CAUTION:\n",
    "- When the exit ramp comes, the numbering of lanes reduces by one. This should not be captured as lane change\n",
    "\"\"\"\n",
    "function video_lane_change(;range=nothing,veh_id_list=[],\n",
    "        traj=traj_ngsim,roadway=roadway_ngsim,\n",
    "        filename=\"media/mobil/$(range)_highlightvehs.mp4\")\n",
    "\n",
    "    frames = Frames(MIME(\"image/png\"), fps=10)\n",
    "    \n",
    "    for i in range\n",
    "        curr_scene = get_scene(i,traj)\n",
    "        prev_scene = get_scene(i-1,traj)\n",
    "\n",
    "        if !isempty(veh_id_list) keep_vehicle_subset!(curr_scene,veh_id_list) end\n",
    "        carcolors = Dict{Int,Colorant}()\n",
    "        \n",
    "        for veh in curr_scene\n",
    "            id = veh.id\n",
    "            prev_lane = get_lane_id(prev_scene,id)\n",
    "            curr_lane = get_lane_id(curr_scene,id)\n",
    "            #print(\"id=$id,prev_lane=$(prev_lane),curr_lane=$(curr_lane) \\n\")\n",
    "            \n",
    "            if prev_lane != curr_lane \n",
    "                carcolors[id] = colorant\"yellow\"\n",
    "                print(\"Lane change has been found at step $i for veh id $id \\n\")\n",
    "            end\n",
    "        end\n",
    "                \n",
    "        scene_visual = render(curr_scene, roadway, [IDOverlay(colorant\"white\",12)],\n",
    "            #cam=CarFollowCamera{Int}(51,2.0),\n",
    "            cam=FitToContentCamera(-1.5),\n",
    "            car_colors = carcolors\n",
    "        )\n",
    "        push!(frames,scene_visual)\n",
    "    end\n",
    "    write(filename,frames)\n",
    "    print(\"Making video called $filename\")\n",
    "    \n",
    "    return nothing\n",
    "end"
   ]
  },
  {
   "cell_type": "code",
   "execution_count": 60,
   "metadata": {},
   "outputs": [
    {
     "name": "stdout",
     "output_type": "stream",
     "text": [
      "Lane change has been found at step 1854 for veh id 645 \n",
      "Lane change has been found at step 1856 for veh id 727 \n",
      "Lane change has been found at step 1864 for veh id 740 \n",
      "Lane change has been found at step 1872 for veh id 682 \n",
      "Lane change has been found at step 1876 for veh id 714 \n",
      "Lane change has been found at step 1880 for veh id 736 \n",
      "Lane change has been found at step 1881 for veh id 660 \n",
      "Making video called media/mobil_ngsim/8.mp4"
     ]
    }
   ],
   "source": [
    "# script: Sample vehicles and make video to highlight possible lane changes\n",
    "# 15,50,4 gives a lane change for id 452\n",
    "# 15,50,8 gives lane change for 682 and 714\n",
    "num_veh = 15; duration = 50; seed=8\n",
    "id_list,ts,te = sample_multiple_trajdata_vehicle(num_veh,duration,rseed=seed)\n",
    "video_lane_change(range=ts:te,veh_id_list=id_list,filename = \"media/mobil_ngsim/$seed.mp4\")"
   ]
  },
  {
   "cell_type": "markdown",
   "metadata": {},
   "source": [
    "#### global definitions for initialization; data loading from NGSIM trajectories"
   ]
  },
  {
   "cell_type": "code",
   "execution_count": 18,
   "metadata": {
    "code_folding": [
     0
    ]
   },
   "outputs": [],
   "source": [
    "# GLOBAL DEFINITIONS: TIMESTEP, ROADWAY, PARTICLE INDICES\n",
    "const TIMESTEP = 0.1;\n",
    "const V_DES = 1; const SIGMA_IDM = 2; const T_HEADWAY = 3; const S_MIN=4; \n",
    "const POLITENESS = 5;const ADV_TH = 6;const SENSOR_SIGMA = 7;\n",
    "const DEFAULT_PARAMS = [29.,NaN,1.5,5.,0.35,0.1,NaN] # The parameters set to default values\n",
    "\n",
    "pos_vel_array_1 = [(200.,30.),(250.,0.)]\n",
    "pos_vel_array_2 = [(250.,10.)] #(280.,10.)\n",
    "pos_vel_array_3 = [(215.,0.),(225.,10.),(230.,0.)]\n",
    "lane_place_array = [pos_vel_array_1,pos_vel_array_2]\n",
    "scene,roadway = init_place_cars(lane_place_array)\n",
    "const SCENE = deepcopy(scene)\n",
    "const ROADWAY = roadway;\n",
    "\n",
    "# Stores the name of the parameter corresponding to number. Helpful in making legend when we plot param prog\n",
    "param_names = Dict(1=>\"Desired velocity\",2=>\"Acceleration output noise\",3=>\"Min time headway\",\n",
    "    4=>\"Min separation\",5=>\"Politeness\",6=>\"Advantage threshold\",7=>\"Headway sensor noise\");"
   ]
  },
  {
   "cell_type": "code",
   "execution_count": null,
   "metadata": {
    "code_folding": [
     0
    ]
   },
   "outputs": [],
   "source": [
    "# GROUND TRUTH DATA: Default model params 100 timesteps, returns true_scene_list\n",
    "start_step=1\n",
    "nsteps=100\n",
    "scene_halluc = deepcopy(SCENE)\n",
    "models = Dict{Int64,DriverModel}()\n",
    "for veh in scene models[veh.id] = IntelligentDriverModel() end\n",
    "models[1] = Tim2DDriver(TIMESTEP,\n",
    "                        mlane=MOBIL(TIMESTEP),\n",
    "                        mlon=IntelligentDriverModel(),\n",
    "            )\n",
    "models[2] = IntelligentDriverModel(v_des=15.)\n",
    "models[3] = IntelligentDriverModel()\n",
    "\n",
    "true_scene_list = get_hallucination_scenes(scene_halluc,nsteps=100,models=models);\n",
    "# scenelist2video(true_scene_list,filename=\"media/mobil/ground_truth.mp4\")"
   ]
  },
  {
   "cell_type": "code",
   "execution_count": 19,
   "metadata": {
    "code_folding": [
     0
    ]
   },
   "outputs": [],
   "source": [
    "# LOAD NGSIM DATA\n",
    "traj_ngsim = open(io->read(io, MIME\"text/plain\"(), Trajdata), \n",
    "    \"trajdata_i101_trajectories-0750am-0805am.txt\", \"r\");\n",
    "roadway_ngsim = open(io->read(io, MIME\"text/plain\"(), Roadway), \n",
    "    \"ngsim_101.txt\", \"r\");"
   ]
  },
  {
   "cell_type": "markdown",
   "metadata": {},
   "source": [
    "#### wip, development space"
   ]
  },
  {
   "cell_type": "code",
   "execution_count": null,
   "metadata": {
    "code_folding": [
     0
    ]
   },
   "outputs": [],
   "source": [
    "# Script: Filter, imitate, rmse, overlay video\n",
    "seed = 2; num_p = 500\n",
    "Random.seed!(seed)\n",
    "final_p_mat,iterwise_p_mat = multistep_update(car_id=1,start_frame=2,last_frame=99,num_p=num_p);\n",
    "start_scene = deepcopy(SCENE)\n",
    "imit_scene_list = gen_imitation_traj(final_p_mat,start_scene,car_id=1)\n",
    "rmse_pos_dict,rmse_vel_dict = compute_rmse(true_scene_list,imit_scene_list,id_list=[1,2,3])\n",
    "rmse_pos = rmse_dict2mean(rmse_pos_dict);rmse_vel = rmse_dict2mean(rmse_vel_dict)\n",
    "rmse_pos = reshape(rmse_pos,length(rmse_pos),);rmse_vel = reshape(rmse_vel,length(rmse_vel),)\n",
    "p_pos = PGFPlots.Plots.Linear(collect(1:length(rmse_pos)),rmse_pos,legendentry=\"rmse pos\")\n",
    "p_vel = PGFPlots.Plots.Linear(collect(1:length(rmse_vel)),rmse_vel,legendentry=\"rmse vel\")\n",
    "rmse_axis = PGFPlots.Axis([p_pos,p_vel],xlabel=\"timestep\",ylabel=\"rmse\",title=\"rmse pos and vel\")\n",
    "display(rmse_axis)\n",
    "multiple_scenelist2video(true_scene_list,imit_scene_list,\n",
    "    filename=\"media/mobil/true_vs_imit_faster_nump_$(num_p)_seed_$(seed).mp4\")"
   ]
  },
  {
   "cell_type": "markdown",
   "metadata": {},
   "source": [
    "# Scripts"
   ]
  },
  {
   "cell_type": "code",
   "execution_count": null,
   "metadata": {},
   "outputs": [],
   "source": []
  },
  {
   "cell_type": "markdown",
   "metadata": {},
   "source": [
    "# Playground"
   ]
  }
 ],
 "metadata": {
  "@webio": {
   "lastCommId": null,
   "lastKernelId": null
  },
  "kernelspec": {
   "display_name": "Julia 1.1.0",
   "language": "julia",
   "name": "julia-1.1"
  },
  "language_info": {
   "file_extension": ".jl",
   "mimetype": "application/julia",
   "name": "julia",
   "version": "1.1.0"
  }
 },
 "nbformat": 4,
 "nbformat_minor": 2
}
