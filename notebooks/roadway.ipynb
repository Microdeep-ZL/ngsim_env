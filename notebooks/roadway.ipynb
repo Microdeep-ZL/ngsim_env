{
 "cells": [
  {
   "cell_type": "markdown",
   "metadata": {},
   "source": [
    "Experimentation with roadways\n",
    "\n",
    "Changelog\n",
    "- 29 Jan 2020\n",
    "    - Creation\n",
    "    - Overlay to plot the curve points that constitute a roadway"
   ]
  },
  {
   "cell_type": "code",
   "execution_count": 1,
   "metadata": {
    "code_folding": [
     0
    ]
   },
   "outputs": [],
   "source": [
    "# Usings\n",
    "using AutomotiveDrivingModels\n",
    "using AutoViz"
   ]
  },
  {
   "cell_type": "code",
   "execution_count": 2,
   "metadata": {
    "code_folding": [
     0
    ]
   },
   "outputs": [
    {
     "data": {
      "text/plain": [
       "get_test_roadway (generic function with 1 method)"
      ]
     },
     "execution_count": 2,
     "metadata": {},
     "output_type": "execute_result"
    }
   ],
   "source": [
    "# function: get test roadway\n",
    "function get_test_roadway()\n",
    "    roadway = Roadway()\n",
    "\n",
    "    seg1 = RoadSegment(1,\n",
    "        [Lane(LaneTag(1,1),\n",
    "            [CurvePt(VecSE2(-2.0,0.0,0.0), 0.0),\n",
    "             CurvePt(VecSE2(-1.0,0.0,0.0), 1.0)]),\n",
    "         Lane(LaneTag(1,2),\n",
    "            [CurvePt(VecSE2(-2.0,1.0,0.0), 0.0),\n",
    "             CurvePt(VecSE2(-1.0,1.0,0.0), 1.0)]),\n",
    "         Lane(LaneTag(1,3),\n",
    "            [CurvePt(VecSE2(-2.0,2.0,0.0), 0.0),\n",
    "             CurvePt(VecSE2(-1.0,2.0,0.0), 1.0)])\n",
    "        ])\n",
    "\n",
    "    seg2 = RoadSegment(2,\n",
    "        [Lane(LaneTag(2,1),\n",
    "            [CurvePt(VecSE2(0.0,0.0,0.0), 0.0),\n",
    "             CurvePt(VecSE2(1.0,0.0,0.0), 1.0),\n",
    "             CurvePt(VecSE2(2.0,0.0,0.0), 2.0),\n",
    "             CurvePt(VecSE2(3.0,0.0,0.0), 3.0)]),\n",
    "         Lane(LaneTag(2,2),\n",
    "            [CurvePt(VecSE2(0.0,1.0,0.0), 0.0),\n",
    "             CurvePt(VecSE2(1.0,1.0,0.0), 1.0),\n",
    "             CurvePt(VecSE2(2.0,1.0,0.0), 2.0),\n",
    "             CurvePt(VecSE2(3.0,1.0,0.0), 3.0)]),\n",
    "         Lane(LaneTag(2,3),\n",
    "            [CurvePt(VecSE2(0.0,2.0,0.0), 0.0),\n",
    "             CurvePt(VecSE2(1.0,2.0,0.0), 1.0),\n",
    "             CurvePt(VecSE2(2.0,2.0,0.0), 2.0),\n",
    "             CurvePt(VecSE2(3.0,2.0,0.0), 3.0)])\n",
    "         ])\n",
    "\n",
    "    seg3 = RoadSegment(3,\n",
    "        [Lane(LaneTag(3,1),\n",
    "            [CurvePt(VecSE2(4.0,0.0,0.0), 0.0),\n",
    "             CurvePt(VecSE2(5.0,0.0,0.0), 1.0)]),\n",
    "         Lane(LaneTag(3,2),\n",
    "            [CurvePt(VecSE2(4.0,1.0,0.0), 0.0),\n",
    "             CurvePt(VecSE2(5.0,1.0,0.0), 1.0)]),\n",
    "         Lane(LaneTag(3,3),\n",
    "            [CurvePt(VecSE2(4.0,2.0,0.0), 0.0),\n",
    "             CurvePt(VecSE2(5.0,2.0,0.0), 1.0)])\n",
    "        ])\n",
    "\n",
    "    for i in 1:3\n",
    "        connect!(seg1.lanes[i], seg2.lanes[i])\n",
    "        connect!(seg2.lanes[i], seg3.lanes[i])\n",
    "    end\n",
    "\n",
    "    push!(roadway.segments, seg1)\n",
    "    push!(roadway.segments, seg2)\n",
    "    push!(roadway.segments, seg3)\n",
    "\n",
    "    roadway\n",
    "end"
   ]
  },
  {
   "cell_type": "code",
   "execution_count": 100,
   "metadata": {
    "code_folding": [
     0
    ]
   },
   "outputs": [
    {
     "data": {
      "text/plain": [
       "get_test_roadway_unconnected (generic function with 1 method)"
      ]
     },
     "execution_count": 100,
     "metadata": {},
     "output_type": "execute_result"
    }
   ],
   "source": [
    "# function: get test roadway unconnected\n",
    "\"\"\"\n",
    "# Examples\n",
    "```julia\n",
    "road_unconnect = get_test_roadway_unconnected()\n",
    "```\n",
    "\"\"\"\n",
    "function get_test_roadway_unconnected()\n",
    "    roadway = Roadway()\n",
    "\n",
    "    seg1 = RoadSegment(1,\n",
    "        [Lane(LaneTag(1,1),\n",
    "            [CurvePt(VecSE2(-2.0,0.0,0.0), 0.0),\n",
    "             CurvePt(VecSE2(-1.0,0.0,0.0), 1.0)]),\n",
    "         Lane(LaneTag(1,2),\n",
    "            [CurvePt(VecSE2(-2.0,1.0,0.0), 0.0),\n",
    "             CurvePt(VecSE2(-1.0,1.0,0.0), 1.0)]),\n",
    "         Lane(LaneTag(1,3),\n",
    "            [CurvePt(VecSE2(-2.0,2.0,0.0), 0.0),\n",
    "             CurvePt(VecSE2(-1.0,2.0,0.0), 1.0)])\n",
    "        ])\n",
    "\n",
    "    seg2 = RoadSegment(2,\n",
    "        [Lane(LaneTag(2,1),\n",
    "            [CurvePt(VecSE2(0.0,0.0,0.0), 0.0),\n",
    "             CurvePt(VecSE2(1.0,0.0,0.0), 1.0),\n",
    "             CurvePt(VecSE2(2.0,0.0,0.0), 2.0),\n",
    "             CurvePt(VecSE2(3.0,0.0,0.0), 3.0)]),\n",
    "         Lane(LaneTag(2,2),\n",
    "            [CurvePt(VecSE2(0.0,1.0,0.0), 0.0),\n",
    "             CurvePt(VecSE2(1.0,1.0,0.0), 1.0),\n",
    "             CurvePt(VecSE2(2.0,1.0,0.0), 2.0),\n",
    "             CurvePt(VecSE2(3.0,1.0,0.0), 3.0)]),\n",
    "         Lane(LaneTag(2,3),\n",
    "            [CurvePt(VecSE2(0.0,2.0,0.0), 0.0),\n",
    "             CurvePt(VecSE2(1.0,2.0,0.0), 1.0),\n",
    "             CurvePt(VecSE2(2.0,2.0,0.0), 2.0),\n",
    "             CurvePt(VecSE2(3.0,2.0,0.0), 3.0)])\n",
    "         ])\n",
    "\n",
    "    seg3 = RoadSegment(3,\n",
    "        [Lane(LaneTag(3,1),\n",
    "            [CurvePt(VecSE2(4.0,0.0,0.0), 0.0),\n",
    "             CurvePt(VecSE2(5.0,0.0,0.0), 1.0)]),\n",
    "         Lane(LaneTag(3,2),\n",
    "            [CurvePt(VecSE2(4.0,1.0,0.0), 0.0),\n",
    "             CurvePt(VecSE2(5.0,1.0,0.0), 1.0)]),\n",
    "         Lane(LaneTag(3,3),\n",
    "            [CurvePt(VecSE2(4.0,2.0,0.0), 0.0),\n",
    "             CurvePt(VecSE2(5.0,2.0,0.0), 1.0)])\n",
    "        ])\n",
    "\n",
    "#    for i in 1:3\n",
    "#        connect!(seg1.lanes[i], seg2.lanes[i])\n",
    "#        connect!(seg2.lanes[i], seg3.lanes[i])\n",
    "#    end\n",
    "\n",
    "    push!(roadway.segments, seg1)\n",
    "    push!(roadway.segments, seg2)\n",
    "    push!(roadway.segments, seg3)\n",
    "\n",
    "    roadway\n",
    "end"
   ]
  },
  {
   "cell_type": "code",
   "execution_count": 7,
   "metadata": {
    "code_folding": [
     0
    ]
   },
   "outputs": [
    {
     "data": {
      "text/plain": [
       "get_test_roadway_2 (generic function with 1 method)"
      ]
     },
     "execution_count": 7,
     "metadata": {},
     "output_type": "execute_result"
    }
   ],
   "source": [
    "# function: test roadway only 1st two segments\n",
    "function get_test_roadway_2()\n",
    "    roadway = Roadway()\n",
    "\n",
    "    seg1 = RoadSegment(1,\n",
    "        [Lane(LaneTag(1,1),\n",
    "            [CurvePt(VecSE2(-2.0,0.0,0.0), 0.0),\n",
    "             CurvePt(VecSE2(-1.0,0.0,0.0), 1.0)]),\n",
    "         Lane(LaneTag(1,2),\n",
    "            [CurvePt(VecSE2(-2.0,1.0,0.0), 0.0),\n",
    "             CurvePt(VecSE2(-1.0,1.0,0.0), 1.0)]),\n",
    "         Lane(LaneTag(1,3),\n",
    "            [CurvePt(VecSE2(-2.0,2.0,0.0), 0.0),\n",
    "             CurvePt(VecSE2(-1.0,2.0,0.0), 1.0)])\n",
    "        ])\n",
    "\n",
    "    seg2 = RoadSegment(2,\n",
    "        [Lane(LaneTag(2,1),\n",
    "            [CurvePt(VecSE2(0.0,0.0,0.0), 0.0),\n",
    "             CurvePt(VecSE2(1.0,0.0,0.0), 1.0),\n",
    "             CurvePt(VecSE2(2.0,0.0,0.0), 2.0),\n",
    "             CurvePt(VecSE2(3.0,0.0,0.0), 3.0)]),\n",
    "         Lane(LaneTag(2,2),\n",
    "            [CurvePt(VecSE2(0.0,1.0,0.0), 0.0),\n",
    "             CurvePt(VecSE2(1.0,1.0,0.0), 1.0),\n",
    "             CurvePt(VecSE2(2.0,1.0,0.0), 2.0),\n",
    "             CurvePt(VecSE2(3.0,1.0,0.0), 3.0)]),\n",
    "         Lane(LaneTag(2,3),\n",
    "            [CurvePt(VecSE2(0.0,2.0,0.0), 0.0),\n",
    "             CurvePt(VecSE2(1.0,2.0,0.0), 1.0),\n",
    "             CurvePt(VecSE2(2.0,2.0,0.0), 2.0),\n",
    "             CurvePt(VecSE2(3.0,2.0,0.0), 3.0)])\n",
    "         ])\n",
    "\n",
    "    for i in 1:3\n",
    "        connect!(seg1.lanes[i], seg2.lanes[i])\n",
    "    end\n",
    "\n",
    "    push!(roadway.segments, seg1)\n",
    "    push!(roadway.segments, seg2)\n",
    "\n",
    "    roadway\n",
    "end"
   ]
  },
  {
   "cell_type": "code",
   "execution_count": 9,
   "metadata": {
    "code_folding": [
     0
    ]
   },
   "outputs": [
    {
     "data": {
      "text/plain": [
       "get_test_roadway_1 (generic function with 1 method)"
      ]
     },
     "execution_count": 9,
     "metadata": {},
     "output_type": "execute_result"
    }
   ],
   "source": [
    "# function: only segment 1\n",
    "function get_test_roadway_1()\n",
    "    roadway = Roadway()\n",
    "\n",
    "    seg1 = RoadSegment(1,\n",
    "        [Lane(LaneTag(1,1),\n",
    "            [CurvePt(VecSE2(-2.0,0.0,0.0), 0.0),\n",
    "             CurvePt(VecSE2(-1.0,0.0,0.0), 1.0)]),\n",
    "         Lane(LaneTag(1,2),\n",
    "            [CurvePt(VecSE2(-2.0,1.0,0.0), 0.0),\n",
    "             CurvePt(VecSE2(-1.0,1.0,0.0), 1.0)]),\n",
    "         Lane(LaneTag(1,3),\n",
    "            [CurvePt(VecSE2(-2.0,2.0,0.0), 0.0),\n",
    "             CurvePt(VecSE2(-1.0,2.0,0.0), 1.0)])\n",
    "        ])\n",
    "\n",
    "    push!(roadway.segments, seg1)\n",
    "\n",
    "    roadway\n",
    "end"
   ]
  },
  {
   "cell_type": "code",
   "execution_count": 19,
   "metadata": {
    "code_folding": []
   },
   "outputs": [],
   "source": [
    "# lane overlay\n",
    "struct LaneOverlay <: SceneOverlay\n",
    "    lane::Lane\n",
    "    color::Colorant\n",
    "end\n",
    "\n",
    "function AutoViz.render!(rendermodel::RenderModel, overlay::LaneOverlay, scene::Scene, roadway::Roadway)\n",
    "    # this display a lane with the specified color\n",
    "    render!(rendermodel, overlay.lane, roadway, color_asphalt=overlay.color) \n",
    "    return rendermodel\n",
    "end"
   ]
  },
  {
   "cell_type": "code",
   "execution_count": 83,
   "metadata": {},
   "outputs": [],
   "source": [
    "# Attempt to define render model for curve points\n",
    "function AutoViz.render!(rendermodel::RenderModel, lane, roadway;\n",
    "    color_asphalt       :: Colorant=COLOR_ASPHALT,\n",
    "    )\n",
    "print(\"render! has been called\")\n",
    "    n = length(lane.curve)\n",
    "    pts = Array{Float64}(undef, 2, n + has_next(lane))\n",
    "    for (i,pt) in enumerate(lane.curve)\n",
    "        pts[1,i] = pt.pos.x\n",
    "        pts[2,i] = pt.pos.y\n",
    "    end\n",
    "    if has_next(lane)\n",
    "        pt = next_lane_point(lane, roadway)\n",
    "        pts[1,end] = pt.pos.x\n",
    "        pts[2,end] = pt.pos.y\n",
    "    end\n",
    "print(\"Has made the list of points\")\n",
    "    add_instruction!(rendermodel, render_line, (pts, color_asphalt, lane.width))\n",
    "    return rendermodel\n",
    "end"
   ]
  },
  {
   "cell_type": "code",
   "execution_count": 56,
   "metadata": {},
   "outputs": [],
   "source": [
    "# function: render for plotting curve points that constitute the lane along with scene\n",
    "function AutoViz.render(scene::EntityFrame{S,D,I}, roadway::R,lane;\n",
    "    canvas_width::Int=DEFAULT_CANVAS_WIDTH,\n",
    "    canvas_height::Int=DEFAULT_CANVAS_HEIGHT,\n",
    "    rendermodel::RenderModel=RenderModel(),\n",
    "    cam::Camera=SceneFollowCamera(),\n",
    "    car_colors::Dict{I,Colorant}=Dict{I,Colorant}(), # id\n",
    "    ) where {S,D,I,R}\n",
    "    print(\"I have been called\")\n",
    "    s, ctx = get_surface_and_context(canvas_width, canvas_height)\n",
    "    render!(rendermodel,lane,roadway)\n",
    "    render(ctx, scene, roadway, rendermodel=rendermodel, cam=cam, car_colors=car_colors)\n",
    "    s\n",
    "end"
   ]
  },
  {
   "cell_type": "code",
   "execution_count": 85,
   "metadata": {},
   "outputs": [],
   "source": [
    "# function: render curve points without the scene, just the roadway\n",
    "function AutoViz.render(roadway::R,lane;\n",
    "    canvas_width::Int=DEFAULT_CANVAS_WIDTH,\n",
    "    canvas_height::Int=DEFAULT_CANVAS_HEIGHT,\n",
    "    rendermodel = RenderModel(),\n",
    "    cam::Camera = FitToContentCamera(),\n",
    "    ) where {R<:Roadway}\n",
    "print(\"Calling me\")\n",
    "    s = CairoRGBSurface(canvas_width, canvas_height)\n",
    "    ctx = creategc(s)\n",
    "    clear_setup!(rendermodel)\n",
    "\n",
    "    render!(rendermodel,roadway)\n",
    "    render!(rendermodel,lane,roadway)\n",
    "\n",
    "    camera_set!(rendermodel, cam, canvas_width, canvas_height)\n",
    "    render(rendermodel, ctx, canvas_width, canvas_height)\n",
    "    return s\n",
    "end"
   ]
  },
  {
   "cell_type": "code",
   "execution_count": 92,
   "metadata": {},
   "outputs": [
    {
     "name": "stdout",
     "output_type": "stream",
     "text": [
      "Calling me"
     ]
    },
    {
     "data": {
      "image/png": "[encoded data removed]",
      "text/plain": [
       "Cairo.CairoSurfaceBase{UInt32}(Ptr{Nothing} @0x00000000067cf450, 1000.0, 600.0)"
      ]
     },
     "execution_count": 92,
     "metadata": {},
     "output_type": "execute_result"
    }
   ],
   "source": [
    "render(test_road,test_road.segments[1].lanes[3],cam=FitToContentCamera(0.5))"
   ]
  },
  {
   "cell_type": "code",
   "execution_count": 36,
   "metadata": {},
   "outputs": [
    {
     "data": {
      "text/plain": [
       "Lane{Float64}"
      ]
     },
     "execution_count": 36,
     "metadata": {},
     "output_type": "execute_result"
    }
   ],
   "source": [
    "typeof(test_road_1.segments[1].lanes[1])"
   ]
  },
  {
   "cell_type": "code",
   "execution_count": 51,
   "metadata": {},
   "outputs": [
    {
     "name": "stdout",
     "output_type": "stream",
     "text": [
      "CurvePt({-2.000, 0.000, 0.000}, 0.000, NaN, NaN)CurvePt({-1.000, 0.000, 0.000}, 1.000, NaN, NaN)"
     ]
    }
   ],
   "source": [
    "lane1 = (test_road_1.segments[1].lanes[1])\n",
    "for (i,pt) in enumerate(lane1.curve)\n",
    "    print(pt)\n",
    "end"
   ]
  },
  {
   "cell_type": "code",
   "execution_count": 93,
   "metadata": {},
   "outputs": [
    {
     "name": "stdout",
     "output_type": "stream",
     "text": [
      "I have been called"
     ]
    },
    {
     "data": {
      "image/png": "[encoded data removed]",
      "text/plain": [
       "Cairo.CairoSurfaceBase{UInt32}(Ptr{Nothing} @0x000000000666de90, 1000.0, 600.0)"
      ]
     },
     "execution_count": 93,
     "metadata": {},
     "output_type": "execute_result"
    }
   ],
   "source": [
    "render(scene,test_road_1,test_road_1.segments[1].lanes[3],cam=FitToContentCamera(0.2))"
   ]
  },
  {
   "cell_type": "code",
   "execution_count": 28,
   "metadata": {},
   "outputs": [
    {
     "data": {
      "text/plain": [
       "Lane{Float64}(LaneTag(1, 1), CurvePt{Float64}[CurvePt({-2.000, 0.000, 0.000}, 0.000, NaN, NaN), CurvePt({-1.000, 0.000, 0.000}, 1.000, NaN, NaN)], 3.0, SpeedLimit(-Inf, Inf), LaneBoundary(:unknown, :unknown), LaneBoundary(:unknown, :unknown), LaneConnection{Int64,Float64}[], LaneConnection{Int64,Float64}[])"
      ]
     },
     "execution_count": 28,
     "metadata": {},
     "output_type": "execute_result"
    }
   ],
   "source": [
    "test_road_1.segments[1].lanes[1]"
   ]
  },
  {
   "cell_type": "code",
   "execution_count": 10,
   "metadata": {},
   "outputs": [
    {
     "data": {
      "image/png": "[encoded data removed]",
      "text/plain": [
       "Roadway"
      ]
     },
     "execution_count": 10,
     "metadata": {},
     "output_type": "execute_result"
    }
   ],
   "source": [
    "test_road_1 = get_test_roadway_1()"
   ]
  },
  {
   "cell_type": "code",
   "execution_count": 4,
   "metadata": {},
   "outputs": [
    {
     "data": {
      "image/png": "[encoded data removed]",
      "text/plain": [
       "Roadway"
      ]
     },
     "execution_count": 4,
     "metadata": {},
     "output_type": "execute_result"
    }
   ],
   "source": [
    "test_road = get_test_roadway()"
   ]
  },
  {
   "cell_type": "code",
   "execution_count": 8,
   "metadata": {},
   "outputs": [
    {
     "data": {
      "image/png": "[encoded data removed]",
      "text/plain": [
       "Roadway"
      ]
     },
     "execution_count": 8,
     "metadata": {},
     "output_type": "execute_result"
    }
   ],
   "source": [
    "test_road_2 = get_test_roadway_2()"
   ]
  },
  {
   "cell_type": "code",
   "execution_count": 174,
   "metadata": {},
   "outputs": [
    {
     "data": {
      "text/plain": [
       "Scene(with 1 cars)"
      ]
     },
     "execution_count": 174,
     "metadata": {},
     "output_type": "execute_result"
    }
   ],
   "source": [
    "roadway = test_road\n",
    "scene = Scene()\n",
    "state1 = VehicleState(Frenet(roadway[LaneTag(1,1)],3.0), roadway, 10.0)\n",
    "veh1 = Vehicle(state1, VehicleDef(), 1)\n",
    "\n",
    "push!(scene, veh1)"
   ]
  },
  {
   "cell_type": "code",
   "execution_count": 30,
   "metadata": {},
   "outputs": [
    {
     "data": {
      "text/plain": [
       "2-element Array{CurvePt{Float64},1}:\n",
       " CurvePt({-2.000, 0.000, 0.000}, 0.000, NaN, NaN)\n",
       " CurvePt({-1.000, 0.000, 0.000}, 1.000, NaN, NaN)"
      ]
     },
     "execution_count": 30,
     "metadata": {},
     "output_type": "execute_result"
    }
   ],
   "source": [
    "roadway[LaneTag(1,1)].curve"
   ]
  },
  {
   "cell_type": "code",
   "execution_count": 177,
   "metadata": {},
   "outputs": [
    {
     "data": {
      "image/png": "[encoded data removed]",
      "text/plain": [
       "Cairo.CairoSurfaceBase{UInt32}(Ptr{Nothing} @0x00000000036a3270, 1000.0, 600.0)"
      ]
     },
     "execution_count": 177,
     "metadata": {},
     "output_type": "execute_result"
    }
   ],
   "source": [
    "lane_overlay = LaneOverlay(roadway[LaneTag(2,2)], RGBA(0.0,0.0,1.0,0.5))\n",
    "render(scene, roadway, [lane_overlay], cam=FitToContentCamera(0.2))"
   ]
  },
  {
   "cell_type": "code",
   "execution_count": 102,
   "metadata": {},
   "outputs": [
    {
     "data": {
      "image/png": "[encoded data removed]",
      "text/plain": [
       "Roadway"
      ]
     },
     "execution_count": 102,
     "metadata": {},
     "output_type": "execute_result"
    }
   ],
   "source": [
    "road_straight = gen_straight_roadway(4,100.)"
   ]
  },
  {
   "cell_type": "code",
   "execution_count": 104,
   "metadata": {},
   "outputs": [
    {
     "name": "stdout",
     "output_type": "stream",
     "text": [
      "Calling me"
     ]
    },
    {
     "data": {
      "image/png": "[encoded data removed]",
      "text/plain": [
       "Cairo.CairoSurfaceBase{UInt32}(Ptr{Nothing} @0x000000000671ba10, 1000.0, 600.0)"
      ]
     },
     "execution_count": 104,
     "metadata": {},
     "output_type": "execute_result"
    }
   ],
   "source": [
    "render(road_straight,road_straight.segments[1].lanes[1])"
   ]
  },
  {
   "cell_type": "code",
   "execution_count": 110,
   "metadata": {},
   "outputs": [
    {
     "data": {
      "image/png": "[encoded data removed]",
      "text/plain": [
       "Cairo.CairoSurfaceBase{UInt32}(Ptr{Nothing} @0x000000000ad06fe0, 1000.0, 600.0)"
      ]
     },
     "execution_count": 110,
     "metadata": {},
     "output_type": "execute_result"
    }
   ],
   "source": [
    "lane_overlay = LaneOverlay(road_straight[LaneTag(1,2)], RGBA(0.0,0.0,1.0,0.5))\n",
    "render(scene, road_straight, [lane_overlay], cam=FitToContentCamera(0.2))"
   ]
  },
  {
   "cell_type": "code",
   "execution_count": 171,
   "metadata": {},
   "outputs": [
    {
     "data": {
      "image/png": "[encoded data removed]",
      "text/plain": [
       "Cairo.CairoSurfaceBase{UInt32}(Ptr{Nothing} @0x000000000f5c2000, 1000.0, 600.0)"
      ]
     },
     "execution_count": 171,
     "metadata": {},
     "output_type": "execute_result"
    }
   ],
   "source": [
    "b_o = BlinkerOverlay(on=true,veh=scene[1])\n",
    "render(scene,road_straight,[b_o],cam=FitToContentCamera(0.2))"
   ]
  },
  {
   "cell_type": "code",
   "execution_count": 148,
   "metadata": {},
   "outputs": [
    {
     "data": {
      "text/plain": [
       "2-element Array{CurvePt{Float64},1}:\n",
       " CurvePt({0.000, 3.000, 0.000}, 0.000, NaN, NaN)    \n",
       " CurvePt({100.000, 3.000, 0.000}, 100.000, NaN, NaN)"
      ]
     },
     "execution_count": 148,
     "metadata": {},
     "output_type": "execute_result"
    }
   ],
   "source": [
    "road_straight[LaneTag(1,2)].curve"
   ]
  },
  {
   "cell_type": "code",
   "execution_count": 147,
   "metadata": {},
   "outputs": [
    {
     "data": {
      "image/png": "[encoded data removed]",
      "text/plain": [
       "Cairo.CairoSurfaceBase{UInt32}(Ptr{Nothing} @0x000000000f69eb80, 1000.0, 600.0)"
      ]
     },
     "execution_count": 147,
     "metadata": {},
     "output_type": "execute_result"
    }
   ],
   "source": [
    "text_overlay = TextOverlay(text=[\"yo mate\"], font_size=14, pos = VecE2(0.,1.5))\n",
    "render(scene, roadway, [text_overlay],cam=FitToContentCamera(0.))"
   ]
  },
  {
   "cell_type": "code",
   "execution_count": 155,
   "metadata": {},
   "outputs": [
    {
     "data": {
      "image/png": "[encoded data removed]",
      "text/plain": [
       "Roadway"
      ]
     },
     "execution_count": 155,
     "metadata": {},
     "output_type": "execute_result"
    }
   ],
   "source": [
    "road_stadium = gen_stadium_roadway(2,width=50.,radius = 2.)"
   ]
  },
  {
   "cell_type": "code",
   "execution_count": 164,
   "metadata": {
    "code_folding": [
     0
    ]
   },
   "outputs": [
    {
     "data": {
      "text/plain": [
       "debug_stadium_roadway (generic function with 1 method)"
      ]
     },
     "execution_count": 164,
     "metadata": {},
     "output_type": "execute_result"
    }
   ],
   "source": [
    "# function: debug stadium roadway\n",
    "function debug_stadium_roadway(nlanes::Int;\n",
    "    length::Float64=100.0,\n",
    "    width::Float64=10.0,\n",
    "    radius::Float64=25.0,\n",
    "    ncurvepts_per_turn::Int=25, # includes start and end\n",
    "    lane_width::Float64=DEFAULT_LANE_WIDTH, # [m]\n",
    "    boundary_leftmost::LaneBoundary=LaneBoundary(:solid, :white),\n",
    "    boundary_rightmost::LaneBoundary=LaneBoundary(:solid, :white),\n",
    "    boundary_middle::LaneBoundary=LaneBoundary(:broken, :white),\n",
    "    )\n",
    "\n",
    "    ncurvepts_per_turn ≥ 2 || error(\"must have at least 2 pts per turn\")\n",
    "\n",
    "    A = VecE2(length, radius)\n",
    "    B = VecE2(length, width + radius)\n",
    "    C = VecE2(0.0, width + radius)\n",
    "    D = VecE2(0.0, radius)\n",
    "    print(\"A = $A\\n,B=$B\\n,C=$C\\n,D=$D\\n\")\n",
    "\n",
    "    seg1 = RoadSegment(1, Array{Lane{Float64}}(undef, nlanes))\n",
    "    seg2 = RoadSegment(2, Array{Lane{Float64}}(undef, nlanes))\n",
    "    seg3 = RoadSegment(3, Array{Lane{Float64}}(undef, nlanes))\n",
    "    seg4 = RoadSegment(4, Array{Lane{Float64}}(undef, nlanes))\n",
    "    seg5 = RoadSegment(5, Array{Lane{Float64}}(undef, nlanes))\n",
    "    seg6 = RoadSegment(6, Array{Lane{Float64}}(undef, nlanes))\n",
    "    for i in 1 : nlanes\n",
    "        curvepts1 = Array{CurvePt{Float64}}(undef, ncurvepts_per_turn)\n",
    "        curvepts2 = Array{CurvePt{Float64}}(undef, ncurvepts_per_turn)\n",
    "        curvepts3 = Array{CurvePt{Float64}}(undef, 2)\n",
    "        curvepts4 = Array{CurvePt{Float64}}(undef, ncurvepts_per_turn)\n",
    "        curvepts5 = Array{CurvePt{Float64}}(undef, ncurvepts_per_turn)\n",
    "        curvepts6 = Array{CurvePt{Float64}}(undef, 2)\n",
    "\n",
    "        r = radius + lane_width*(i-1)\n",
    "        for j in 1:ncurvepts_per_turn\n",
    "            t = (j-1)/(ncurvepts_per_turn-1) # ∈ [0,1]\n",
    "            s = r*π/2*t\n",
    "            curvepts1[j] = CurvePt(VecSE2(A + polar(r, lerp(-π/2,  0.0, t)), lerp(0.0,π/2,t)),  s)\n",
    "            curvepts2[j] = CurvePt(VecSE2(B + polar(r, lerp( 0.0,  π/2, t)), lerp(π/2,π,  t)),  s)\n",
    "            curvepts4[j] = CurvePt(VecSE2(C + polar(r, lerp( π/2,  π,   t)), lerp(π, 3π/2,t)),  s)\n",
    "            curvepts5[j] = CurvePt(VecSE2(D + polar(r, lerp( π,   3π/2, t)), lerp(3π/2,2π,t)),  s)\n",
    "        end\n",
    "        # fill in straight segments\n",
    "        curvepts3[1] = CurvePt(curvepts2[end].pos, 0.0)\n",
    "        curvepts3[2] = CurvePt(curvepts4[1].pos, length)\n",
    "        curvepts6[1] = CurvePt(curvepts5[end].pos, 0.0)\n",
    "        curvepts6[2] = CurvePt(curvepts1[1].pos, length)\n",
    "\n",
    "        print(\"curvept1 is $(curvepts1)\\n\")\n",
    "        #print(\"curvept3 is $(curvepts3)\\n\")\n",
    "        #print(\"curvept6 is $(curvepts6)\\n\")\n",
    "        \n",
    "        laneindex = nlanes-i+1\n",
    "        tag1 = LaneTag(1,laneindex)\n",
    "        tag2 = LaneTag(2,laneindex)\n",
    "        tag3 = LaneTag(3,laneindex)\n",
    "        tag4 = LaneTag(4,laneindex)\n",
    "        tag5 = LaneTag(5,laneindex)\n",
    "        tag6 = LaneTag(6,laneindex)\n",
    "\n",
    "        boundary_left = (laneindex == nlanes ? boundary_leftmost : boundary_middle)\n",
    "        boundary_right = (laneindex == 1 ? boundary_rightmost : boundary_middle)\n",
    "        curveind_lo = CurveIndex(1,0.0)\n",
    "        curveind_hi = CurveIndex(ncurvepts_per_turn,1.0)\n",
    "\n",
    "        seg1.lanes[laneindex] = Lane(tag1, curvepts1, width=lane_width,\n",
    "                                      boundary_left=boundary_left, boundary_right=boundary_right,\n",
    "                                      next = RoadIndex(curveind_lo, tag2),\n",
    "                                      prev = RoadIndex(curveind_hi, tag6),\n",
    "                                     )\n",
    "        seg2.lanes[laneindex] = Lane(tag2, curvepts2, width=lane_width,\n",
    "                                      boundary_left=boundary_left, boundary_right=boundary_right,\n",
    "                                      next = RoadIndex(curveind_lo, tag3),\n",
    "                                      prev = RoadIndex(CurveIndex(ncurvepts_per_turn - 1,1.0), tag1),\n",
    "                                     )\n",
    "        seg3.lanes[laneindex] = Lane(tag3, curvepts3, width=lane_width,\n",
    "                                      boundary_left=boundary_left, boundary_right=boundary_right,\n",
    "                                      next = RoadIndex(curveind_lo, tag4),\n",
    "                                      prev = RoadIndex(curveind_hi, tag2),\n",
    "                                     )\n",
    "        seg4.lanes[laneindex] = Lane(tag4, curvepts4, width=lane_width,\n",
    "                                      boundary_left=boundary_left, boundary_right=boundary_right,\n",
    "                                      next = RoadIndex(curveind_lo, tag5),\n",
    "                                      prev = RoadIndex(curveind_hi, tag3),\n",
    "                                     )\n",
    "        seg5.lanes[laneindex] = Lane(tag5, curvepts5, width=lane_width,\n",
    "                                      boundary_left=boundary_left, boundary_right=boundary_right,\n",
    "                                      next = RoadIndex(curveind_lo, tag6),\n",
    "                                      prev = RoadIndex(CurveIndex(ncurvepts_per_turn - 1,1.0), tag4),\n",
    "                                     )\n",
    "        seg6.lanes[laneindex] = Lane(tag6, curvepts6, width=lane_width,\n",
    "                                boundary_left=boundary_left, boundary_right=boundary_right,\n",
    "                                next = RoadIndex(curveind_lo, tag1),\n",
    "                                prev = RoadIndex(curveind_hi, tag5),\n",
    "                                )\n",
    "    end\n",
    "\n",
    "    retval = Roadway()\n",
    "    push!(retval.segments, seg1)\n",
    "    push!(retval.segments, seg2)\n",
    "    push!(retval.segments, seg3)\n",
    "    push!(retval.segments, seg4)\n",
    "    push!(retval.segments, seg5)\n",
    "    push!(retval.segments, seg6)\n",
    "    retval\n",
    "end"
   ]
  },
  {
   "cell_type": "code",
   "execution_count": 165,
   "metadata": {},
   "outputs": [
    {
     "name": "stdout",
     "output_type": "stream",
     "text": [
      "A = VecE2(100.000, 25.000)\n",
      ",B=VecE2(100.000, 35.000)\n",
      ",C=VecE2(0.000, 35.000)\n",
      ",D=VecE2(0.000, 25.000)\n",
      "curvept1 is CurvePt{Float64}[CurvePt({100.000, 0.000, 0.000}, 0.000, NaN, NaN), CurvePt({101.635, 0.054, 0.065}, 1.636, NaN, NaN), CurvePt({103.263, 0.214, 0.131}, 3.272, NaN, NaN), CurvePt({104.877, 0.480, 0.196}, 4.909, NaN, NaN), CurvePt({106.470, 0.852, 0.262}, 6.545, NaN, NaN), CurvePt({108.036, 1.327, 0.327}, 8.181, NaN, NaN), CurvePt({109.567, 1.903, 0.393}, 9.817, NaN, NaN), CurvePt({111.057, 2.578, 0.458}, 11.454, NaN, NaN), CurvePt({112.500, 3.349, 0.524}, 13.090, NaN, NaN), CurvePt({113.889, 4.213, 0.589}, 14.726, NaN, NaN), CurvePt({115.219, 5.166, 0.654}, 16.362, NaN, NaN), CurvePt({116.484, 6.204, 0.720}, 17.999, NaN, NaN), CurvePt({117.678, 7.322, 0.785}, 19.635, NaN, NaN), CurvePt({118.796, 8.516, 0.851}, 21.271, NaN, NaN), CurvePt({119.834, 9.781, 0.916}, 22.907, NaN, NaN), CurvePt({120.787, 11.111, 0.982}, 24.544, NaN, NaN), CurvePt({121.651, 12.500, 1.047}, 26.180, NaN, NaN), CurvePt({122.422, 13.943, 1.113}, 27.816, NaN, NaN), CurvePt({123.097, 15.433, 1.178}, 29.452, NaN, NaN), CurvePt({123.673, 16.964, 1.244}, 31.089, NaN, NaN), CurvePt({124.148, 18.530, 1.309}, 32.725, NaN, NaN), CurvePt({124.520, 20.123, 1.374}, 34.361, NaN, NaN), CurvePt({124.786, 21.737, 1.440}, 35.997, NaN, NaN), CurvePt({124.946, 23.365, 1.505}, 37.634, NaN, NaN), CurvePt({125.000, 25.000, 1.571}, 39.270, NaN, NaN)]\n"
     ]
    },
    {
     "data": {
      "image/png": "[encoded data removed]",
      "text/plain": [
       "Roadway"
      ]
     },
     "execution_count": 165,
     "metadata": {},
     "output_type": "execute_result"
    }
   ],
   "source": [
    "debug_road = debug_stadium_roadway(1)"
   ]
  },
  {
   "cell_type": "code",
   "execution_count": 205,
   "metadata": {},
   "outputs": [],
   "source": [
    "# overlay: Plot an array of x y points on top of an existing scene\n",
    "\"\"\"\n",
    "    curve_pts_overlay\n",
    "Displays a circle on one of the top corner of a vehicle to symbolize a blinker. \n",
    "fields: \n",
    "- color: the color of the blinker\n",
    "- size: the size of the blinker \n",
    "\n",
    "# Example\n",
    "```julia\n",
    "c_o = pts_overlay([50.0,60.0,43.],[0.0,6.2,2.2],colorant\"0xFFEF00\",0.3)\n",
    "render(scene,road_straight,[c_o],cam=FitToContentCamera(0.2))\n",
    "```\n",
    "\"\"\" \n",
    "struct pts_overlay <: SceneOverlay\n",
    "    x\n",
    "    y\n",
    "    color::Colorant # yellow \n",
    "    size::Float64\n",
    "end\n",
    "\n",
    "function AutoViz.render!(rendermodel::RenderModel, overlay::pts_overlay, \n",
    "        scene::Frame{Entity{S,D,I}}, roadway::R) where {S,D,I,R}\n",
    "    for i in 1:length(overlay.x)\n",
    "        add_instruction!(rendermodel, render_circle, \n",
    "            (overlay.x[i], overlay.y[i], overlay.size, overlay.color))    \n",
    "    end\n",
    "end"
   ]
  },
  {
   "cell_type": "code",
   "execution_count": 206,
   "metadata": {},
   "outputs": [
    {
     "data": {
      "image/png": "[encoded data removed]",
      "text/plain": [
       "Cairo.CairoSurfaceBase{UInt32}(Ptr{Nothing} @0x00000000128f3440, 1000.0, 600.0)"
      ]
     },
     "execution_count": 206,
     "metadata": {},
     "output_type": "execute_result"
    }
   ],
   "source": [
    "c_o = pts_overlay([50.0,60.0,43.],[0.0,6.2,2.2],colorant\"0xFFEF00\",0.3)\n",
    "render(scene,road_straight,[c_o],cam=FitToContentCamera(0.2))"
   ]
  },
  {
   "cell_type": "code",
   "execution_count": 220,
   "metadata": {},
   "outputs": [],
   "source": [
    "# overlay: Plot the curve points that constitute a road\n",
    "\"\"\"\n",
    "    curve_pts_overlay\n",
    "Displays a circle on one of the top corner of a vehicle to symbolize a blinker. \n",
    "fields: \n",
    "- color: the color of the blinker\n",
    "- size: the size of the blinker \n",
    "\"\"\" \n",
    "struct curvepts_overlay <: SceneOverlay\n",
    "    roadway\n",
    "    color::Colorant # yellow \n",
    "    size::Float64\n",
    "end\n",
    "\n",
    "function AutoViz.render!(rendermodel::RenderModel, overlay::curvepts_overlay, \n",
    "        scene::Frame{Entity{S,D,I}}, roadway::R) where {S,D,I,R}\n",
    "    \n",
    "    \n",
    "    num_segments = length(roadway.segments)\n",
    "    \n",
    "    # Loop over segments\n",
    "    for seg_i in 1:num_segments\n",
    "        seg = roadway.segments[seg_i]\n",
    "        num_lanes = length(seg.lanes)\n",
    "        \n",
    "        # Within a segment, loop over lanes\n",
    "        for lane_i in 1:num_lanes\n",
    "            lane = seg.lanes[lane_i]\n",
    "            \n",
    "            # Within a lane, loop over the curve points\n",
    "            num_curvepts = length(lane.curve)\n",
    "            for cpt_i in 1:num_curvepts\n",
    "                cpt = lane.curve[cpt_i]\n",
    "                \n",
    "                add_instruction!(rendermodel,render_circle,\n",
    "                    (cpt.pos.x,cpt.pos.y,overlay.size,overlay.color))\n",
    "            end\n",
    "        end\n",
    "    end\n",
    "    \n",
    "end"
   ]
  },
  {
   "cell_type": "code",
   "execution_count": 222,
   "metadata": {},
   "outputs": [
    {
     "data": {
      "image/png": "[encoded data removed]",
      "text/plain": [
       "Cairo.CairoSurfaceBase{UInt32}(Ptr{Nothing} @0x00000000128b1490, 1000.0, 600.0)"
      ]
     },
     "execution_count": 222,
     "metadata": {},
     "output_type": "execute_result"
    }
   ],
   "source": [
    "cpt_o = curvepts_overlay(road_stadium,colorant\"0xFFEF00\",0.3)\n",
    "render(scene,road_stadium,[cpt_o],cam=FitToContentCamera(0.2))"
   ]
  },
  {
   "cell_type": "code",
   "execution_count": null,
   "metadata": {},
   "outputs": [],
   "source": []
  }
 ],
 "metadata": {
  "kernelspec": {
   "display_name": "Julia 1.1.0",
   "language": "julia",
   "name": "julia-1.1"
  },
  "language_info": {
   "file_extension": ".jl",
   "mimetype": "application/julia",
   "name": "julia",
   "version": "1.1.0"
  }
 },
 "nbformat": 4,
 "nbformat_minor": 2
}
